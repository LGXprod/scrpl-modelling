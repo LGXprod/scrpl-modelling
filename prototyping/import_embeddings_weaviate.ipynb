{
 "cells": [
  {
   "cell_type": "code",
   "execution_count": 36,
   "metadata": {},
   "outputs": [],
   "source": [
    "import os\n",
    "import requests\n",
    "import json\n",
    "\n",
    "from dotenv import dotenv_values\n",
    "import numpy as np\n",
    "import weaviate\n",
    "import weaviate.classes as wvc\n",
    "from sentence_transformers import SentenceTransformer"
   ]
  },
  {
   "cell_type": "code",
   "execution_count": 37,
   "metadata": {},
   "outputs": [],
   "source": [
    "config = dotenv_values(\"../.env\")"
   ]
  },
  {
   "cell_type": "code",
   "execution_count": 38,
   "metadata": {},
   "outputs": [],
   "source": [
    "model = SentenceTransformer('paraphrase-MiniLM-L6-v2')"
   ]
  },
  {
   "cell_type": "code",
   "execution_count": 39,
   "metadata": {},
   "outputs": [],
   "source": [
    "# function that reads json file\n",
    "def read_json(file):\n",
    "    with open(file, \"r\") as f:\n",
    "        data = json.load(f)\n",
    "    return data"
   ]
  },
  {
   "cell_type": "code",
   "execution_count": 40,
   "metadata": {},
   "outputs": [],
   "source": [
    "client = weaviate.connect_to_custom(\n",
    "    http_host=\"localhost\",\n",
    "    http_port=8080,\n",
    "    http_secure=False,\n",
    "    grpc_host=\"localhost\",\n",
    "    grpc_port=50051,\n",
    "    grpc_secure=False,\n",
    "    auth_credentials=weaviate.auth.AuthApiKey(\n",
    "        config[\"AUTHENTICATION_APIKEY_ALLOWED_KEYS\"]\n",
    "    ),  # Set this environment variable\n",
    ")"
   ]
  },
  {
   "cell_type": "code",
   "execution_count": 41,
   "metadata": {},
   "outputs": [],
   "source": [
    "is_regenerate = True\n",
    "\n",
    "if is_regenerate:\n",
    "    client.collections.delete(\"Subject\")"
   ]
  },
  {
   "cell_type": "code",
   "execution_count": 42,
   "metadata": {},
   "outputs": [],
   "source": [
    "is_subject_collection = False\n",
    "subjects = None\n",
    "\n",
    "for collection in list(client.collections.list_all().keys()):\n",
    "    if collection == \"Subject\":\n",
    "        is_subject_collection = True\n",
    "\n",
    "if is_subject_collection:\n",
    "    subjects = client.collections.get(\"Subject\")\n",
    "else:\n",
    "    subjects = client.collections.create(\n",
    "        \"Subject\",\n",
    "        vectorizer_config=wvc.config.Configure.Vectorizer.none(),\n",
    "        vector_index_config=wvc.config.Configure.VectorIndex.hnsw(\n",
    "            distance_metric=wvc.config.VectorDistances.COSINE  # select prefered distance metric\n",
    "        ),\n",
    "    )"
   ]
  },
  {
   "cell_type": "code",
   "execution_count": 43,
   "metadata": {},
   "outputs": [],
   "source": [
    "is_data_loaded = False\n",
    "\n",
    "for item in subjects.iterator():\n",
    "    is_data_loaded = True\n",
    "    break"
   ]
  },
  {
   "cell_type": "code",
   "execution_count": 44,
   "metadata": {},
   "outputs": [],
   "source": [
    "document_embeddings_dir = \"./document_embeddings/sentence_transformer\""
   ]
  },
  {
   "cell_type": "code",
   "execution_count": 45,
   "metadata": {},
   "outputs": [],
   "source": [
    "if not is_data_loaded:\n",
    "    subject_objs = []\n",
    "\n",
    "    for filename in os.listdir(document_embeddings_dir):\n",
    "        if filename.endswith(\".json\"):\n",
    "            subject_embedding = read_json(\n",
    "                f\"{document_embeddings_dir}/{filename}\"\n",
    "            )\n",
    "            subject_code = filename.split(\".\")[0]\n",
    "\n",
    "            subject_objs.append(\n",
    "                wvc.data.DataObject(\n",
    "                    properties={\n",
    "                        \"subjectCode\": subject_code,\n",
    "                    },\n",
    "                    vector=subject_embedding,\n",
    "                )\n",
    "            )\n",
    "\n",
    "    subjects.data.insert_many(subject_objs)"
   ]
  },
  {
   "cell_type": "code",
   "execution_count": 46,
   "metadata": {},
   "outputs": [],
   "source": [
    "query_embedding = model.encode(\"Machine Learning algorithm implementation\", normalize_embeddings=True)"
   ]
  },
  {
   "cell_type": "code",
   "execution_count": 47,
   "metadata": {},
   "outputs": [
    {
     "data": {
      "text/plain": [
       "array([-0.10054397, -0.03073943,  0.0018512 , -0.06369264,  0.00928275,\n",
       "       -0.00524856, -0.01040587, -0.01579498, -0.02429633, -0.0062831 ,\n",
       "       -0.00153712,  0.06378006,  0.03238346, -0.05020822, -0.08428038,\n",
       "        0.0265597 , -0.02575043,  0.00466632, -0.0280313 , -0.13789569,\n",
       "       -0.0378385 , -0.0786556 ,  0.02012172, -0.00451911,  0.04885184,\n",
       "       -0.00689993,  0.00508869,  0.02015312,  0.10789573, -0.04211477,\n",
       "        0.10274938, -0.06954855,  0.07703526, -0.04059914, -0.06326406,\n",
       "        0.00754337, -0.08215312,  0.03670678, -0.0242956 ,  0.05047772,\n",
       "       -0.02577701, -0.04851747, -0.02022681,  0.02532433,  0.0278969 ,\n",
       "        0.00271057, -0.06052624,  0.01481662, -0.04545474,  0.00153073,\n",
       "       -0.01353212, -0.05038638,  0.00464621, -0.0889425 ,  0.02850713,\n",
       "        0.0207929 ,  0.03852349,  0.00047886, -0.04809996, -0.03993021,\n",
       "        0.08301346, -0.03779312,  0.01826357,  0.08036301,  0.01325889,\n",
       "        0.07102425, -0.04623232, -0.07292984,  0.00275491,  0.00612139,\n",
       "       -0.02344481, -0.03127818, -0.05811314,  0.03197143, -0.07744285,\n",
       "        0.06360426, -0.00586605, -0.03505388,  0.04089753, -0.00584352,\n",
       "       -0.02969189, -0.03796147, -0.02357292,  0.01089313,  0.03212158,\n",
       "       -0.00790624, -0.01166435, -0.0185833 ,  0.13383725, -0.02061494,\n",
       "        0.02255733, -0.05875307, -0.05487744, -0.04320395,  0.06276079,\n",
       "        0.07112025, -0.03639513, -0.0148069 ,  0.00123509,  0.09183121,\n",
       "       -0.07502082,  0.00922692, -0.10098704, -0.07674287,  0.03730201,\n",
       "       -0.06111991,  0.01287658, -0.01110908,  0.09995353, -0.09931917,\n",
       "       -0.04728401,  0.01810098, -0.03954731,  0.06693473, -0.05375192,\n",
       "       -0.03026329,  0.03029356, -0.03879695, -0.06505585,  0.03291485,\n",
       "       -0.0243414 ,  0.02182028, -0.01932523,  0.09307646,  0.05683711,\n",
       "        0.00620921, -0.07650195,  0.00704118, -0.00093328, -0.04007186,\n",
       "        0.0928129 , -0.08148015,  0.0206622 , -0.05017356,  0.04651206,\n",
       "       -0.0182809 ,  0.03439656, -0.01432226, -0.01123918, -0.02286087,\n",
       "       -0.09669162,  0.01798201,  0.05176447, -0.02476411,  0.06070427,\n",
       "        0.05053833,  0.00238674, -0.02664805,  0.02594624, -0.05952663,\n",
       "        0.05778122, -0.08169508, -0.05421554,  0.05843987,  0.08233676,\n",
       "        0.03717601,  0.02519695,  0.04712503,  0.02400699, -0.05866639,\n",
       "       -0.01997751, -0.00363345,  0.00081335, -0.07607586,  0.04547013,\n",
       "        0.03371192,  0.02056438, -0.00185734,  0.06324042, -0.03217699,\n",
       "        0.04771071,  0.00509445, -0.04880418,  0.04213405,  0.02199933,\n",
       "       -0.00696357,  0.04363542, -0.01390924,  0.05745213,  0.02878535,\n",
       "       -0.02290001, -0.00612114,  0.10085336,  0.08006784, -0.00595544,\n",
       "        0.04293068,  0.02104958,  0.04646498, -0.04804305, -0.00958254,\n",
       "        0.01650432, -0.02813386,  0.01361093,  0.0368674 ,  0.01381723,\n",
       "       -0.07642429,  0.09293395, -0.02346432,  0.04486466,  0.02077536,\n",
       "       -0.07685354, -0.03341715, -0.00106761, -0.00562939, -0.07987997,\n",
       "       -0.01270772, -0.02545102, -0.00811505, -0.09309172,  0.11626586,\n",
       "        0.08646374, -0.03774088,  0.04710076,  0.01332752,  0.02003424,\n",
       "       -0.02439795,  0.00399642, -0.00336957, -0.09630693,  0.04340575,\n",
       "        0.01162921,  0.07407341, -0.03429592,  0.04189158, -0.14993116,\n",
       "       -0.04868803,  0.07179727, -0.05083396,  0.01164226, -0.00440197,\n",
       "       -0.03229381, -0.01293929,  0.01834046,  0.04443613, -0.01749534,\n",
       "        0.09310792, -0.02740194, -0.03933766,  0.00360673,  0.03063034,\n",
       "       -0.04555205, -0.0147889 , -0.04227216,  0.03041511, -0.05831723,\n",
       "        0.07372421, -0.00706031,  0.03859854, -0.02274643, -0.02003043,\n",
       "        0.01211472,  0.0361299 ,  0.02023485,  0.02020424, -0.0598454 ,\n",
       "       -0.04817672,  0.0147563 ,  0.01854568, -0.06254025,  0.0727876 ,\n",
       "        0.06690922, -0.08876356, -0.00428553,  0.0623697 ,  0.06217366,\n",
       "       -0.07968417, -0.15116718, -0.04336466, -0.03901672, -0.0244181 ,\n",
       "       -0.08670795,  0.0663588 ,  0.06919629,  0.04085154,  0.02935665,\n",
       "        0.01051059, -0.02380912, -0.01232726, -0.03753472,  0.06640322,\n",
       "       -0.01312912,  0.02351714,  0.01140975,  0.08076867, -0.0526796 ,\n",
       "        0.0093243 ,  0.00643803,  0.01368812, -0.08313687,  0.04260352,\n",
       "       -0.03950819,  0.05466365, -0.04839142, -0.01685374, -0.02016762,\n",
       "        0.10549189,  0.07831234,  0.06903439,  0.01380397, -0.00328579,\n",
       "        0.02036361,  0.0450232 ,  0.02447409,  0.00342235, -0.01723552,\n",
       "        0.06781238,  0.04284029,  0.07748538,  0.00624151, -0.03612457,\n",
       "        0.11921895,  0.03546993, -0.00192889,  0.0115359 , -0.01719672,\n",
       "        0.02757696, -0.01315472,  0.07460875,  0.00637422,  0.02873467,\n",
       "       -0.04131686, -0.0688997 ,  0.08086581,  0.05175902, -0.01003279,\n",
       "       -0.00688609, -0.03451827, -0.06542946, -0.03268534, -0.12997526,\n",
       "        0.07861422, -0.0232141 , -0.02422661,  0.10551594, -0.01774506,\n",
       "        0.02095499, -0.03023981,  0.05640134, -0.01989572, -0.01363706,\n",
       "       -0.04160968, -0.06188003, -0.01165197, -0.04864585,  0.06384605,\n",
       "       -0.01773392, -0.13455182,  0.09765875,  0.01553812,  0.01229812,\n",
       "       -0.02939654,  0.05481926,  0.07220689,  0.01181411,  0.08885305,\n",
       "        0.08878855, -0.00938982,  0.01262495, -0.00935323, -0.0480258 ,\n",
       "       -0.06444613,  0.00658142, -0.04984882, -0.0184357 ,  0.06152594,\n",
       "       -0.02779412, -0.03844522, -0.11986618,  0.01811577,  0.04289901,\n",
       "        0.00397109, -0.04583035,  0.00253186, -0.00023652,  0.12078775,\n",
       "       -0.04722837,  0.03419457, -0.07762107, -0.05394148,  0.02994468,\n",
       "       -0.09806433,  0.01065847, -0.01136716,  0.0189545 ], dtype=float32)"
      ]
     },
     "execution_count": 47,
     "metadata": {},
     "output_type": "execute_result"
    }
   ],
   "source": [
    "query_embedding"
   ]
  },
  {
   "cell_type": "code",
   "execution_count": 48,
   "metadata": {},
   "outputs": [
    {
     "name": "stdout",
     "output_type": "stream",
     "text": [
      "QueryReturn(objects=[Object(uuid=_WeaviateUUIDInt('d1e05bcb-1fc8-4e55-83ef-87973bf3330e'), metadata=MetadataReturn(creation_time=None, last_update_time=None, distance=None, certainty=0.7028616666793823, score=None, explain_score=None, is_consistent=None, rerank_score=None), properties={'subjectCode': '31005'}, references=None, vector={}, collection='Subject'), Object(uuid=_WeaviateUUIDInt('baeab525-fa52-4dcb-ae73-5d412777cf38'), metadata=MetadataReturn(creation_time=None, last_update_time=None, distance=None, certainty=0.6897483468055725, score=None, explain_score=None, is_consistent=None, rerank_score=None), properties={'subjectCode': '43024'}, references=None, vector={}, collection='Subject'), Object(uuid=_WeaviateUUIDInt('c8afb0ea-25e0-4087-bd92-36a51e67570f'), metadata=MetadataReturn(creation_time=None, last_update_time=None, distance=None, certainty=0.6783087253570557, score=None, explain_score=None, is_consistent=None, rerank_score=None), properties={'subjectCode': '41308'}, references=None, vector={}, collection='Subject'), Object(uuid=_WeaviateUUIDInt('5cb623d5-9489-40e1-be44-0361d1649f12'), metadata=MetadataReturn(creation_time=None, last_update_time=None, distance=None, certainty=0.6498783230781555, score=None, explain_score=None, is_consistent=None, rerank_score=None), properties={'subjectCode': '41052'}, references=None, vector={}, collection='Subject'), Object(uuid=_WeaviateUUIDInt('7c854601-dcb5-4053-9e98-980b1f433467'), metadata=MetadataReturn(creation_time=None, last_update_time=None, distance=None, certainty=0.648062527179718, score=None, explain_score=None, is_consistent=None, rerank_score=None), properties={'subjectCode': '41040'}, references=None, vector={}, collection='Subject')])\n"
     ]
    }
   ],
   "source": [
    "response = subjects.query.near_vector(\n",
    "    near_vector=query_embedding.tolist(),\n",
    "    limit=5,\n",
    "    return_metadata=wvc.query.MetadataQuery(certainty=True)\n",
    ")\n",
    "\n",
    "print(response)"
   ]
  },
  {
   "cell_type": "code",
   "execution_count": 49,
   "metadata": {},
   "outputs": [
    {
     "data": {
      "text/plain": [
       "['31005', '43024', '41308', '41052', '41040']"
      ]
     },
     "execution_count": 49,
     "metadata": {},
     "output_type": "execute_result"
    }
   ],
   "source": [
    "[x.properties[\"subjectCode\"] for x in response.objects]"
   ]
  },
  {
   "cell_type": "code",
   "execution_count": 50,
   "metadata": {},
   "outputs": [],
   "source": [
    "# client.close()  # Close client gracefully"
   ]
  }
 ],
 "metadata": {
  "kernelspec": {
   "display_name": "py310",
   "language": "python",
   "name": "python3"
  },
  "language_info": {
   "codemirror_mode": {
    "name": "ipython",
    "version": 3
   },
   "file_extension": ".py",
   "mimetype": "text/x-python",
   "name": "python",
   "nbconvert_exporter": "python",
   "pygments_lexer": "ipython3",
   "version": "3.10.13"
  }
 },
 "nbformat": 4,
 "nbformat_minor": 2
}
