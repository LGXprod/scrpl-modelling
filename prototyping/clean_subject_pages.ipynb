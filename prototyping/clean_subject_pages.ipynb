{
 "cells": [
  {
   "cell_type": "code",
   "execution_count": 28,
   "metadata": {},
   "outputs": [],
   "source": [
    "import os\n",
    "from markdown import markdown\n",
    "import html2text\n",
    "from bs4 import BeautifulSoup"
   ]
  },
  {
   "cell_type": "code",
   "execution_count": 29,
   "metadata": {},
   "outputs": [],
   "source": [
    "os.makedirs(\"subjects_cleaned/markdown\", exist_ok=True)\n",
    "os.makedirs(\"subjects_cleaned/text\", exist_ok=True)"
   ]
  },
  {
   "cell_type": "code",
   "execution_count": 30,
   "metadata": {},
   "outputs": [
    {
     "name": "stderr",
     "output_type": "stream",
     "text": [
      "/var/folders/4l/8tynsjk14vg7p9s4qx1t_pb00000gn/T/ipykernel_38149/1820793897.py:18: DeprecationWarning: The 'text' argument to find()-type methods is deprecated. Use 'string' instead.\n",
      "  f.write(''.join(soup.findAll(text=True)))\n"
     ]
    }
   ],
   "source": [
    "processed_subjects = set()\n",
    "\n",
    "for degree in os.listdir(\"./course_programs\"):\n",
    "    subjects_path = f\"./course_programs/{degree}/subjects\"\n",
    "  \n",
    "    for subject_filename in os.listdir(subjects_path):\n",
    "      with open(f\"{subjects_path}/{subject_filename}\", \"r\") as f:\n",
    "        html = f.read()\n",
    "        \n",
    "        markdown_text = html2text.html2text(html)\n",
    "\n",
    "        with open(f\"subjects_cleaned/markdown/{subject_filename.replace('.html', '')}.md\", \"w\") as f:\n",
    "          f.write(markdown_text)\n",
    "        \n",
    "        soup = BeautifulSoup(markdown(markdown_text), 'html.parser')\n",
    "        \n",
    "        with open(f\"subjects_cleaned/text/{subject_filename.replace('.html', '')}.txt\", \"w\") as f:\n",
    "          f.write(''.join(soup.findAll(text=True)))"
   ]
  }
 ],
 "metadata": {
  "kernelspec": {
   "display_name": "py310",
   "language": "python",
   "name": "python3"
  },
  "language_info": {
   "codemirror_mode": {
    "name": "ipython",
    "version": 3
   },
   "file_extension": ".py",
   "mimetype": "text/x-python",
   "name": "python",
   "nbconvert_exporter": "python",
   "pygments_lexer": "ipython3",
   "version": "3.10.13"
  }
 },
 "nbformat": 4,
 "nbformat_minor": 2
}
