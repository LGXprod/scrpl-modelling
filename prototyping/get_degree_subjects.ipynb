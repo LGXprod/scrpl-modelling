{
 "cells": [
  {
   "cell_type": "code",
   "execution_count": 1,
   "metadata": {},
   "outputs": [],
   "source": [
    "import os\n",
    "import requests\n",
    "\n",
    "from tqdm.notebook import tqdm\n",
    "from bs4 import BeautifulSoup"
   ]
  },
  {
   "cell_type": "code",
   "execution_count": 2,
   "metadata": {},
   "outputs": [],
   "source": [
    "degree_pages = []"
   ]
  },
  {
   "cell_type": "code",
   "execution_count": 3,
   "metadata": {},
   "outputs": [],
   "source": [
    "for degree_page_file in os.listdir(\"./test-degrees\"):\n",
    "  with open(\"./test-degrees/\" + degree_page_file, \"r\") as f:\n",
    "    degree_page = f.read()\n",
    "    degree_pages.append(degree_page)"
   ]
  },
  {
   "cell_type": "code",
   "execution_count": 4,
   "metadata": {},
   "outputs": [],
   "source": [
    "def get_last_char_index(text: str) -> int:\n",
    "  for i in range(len(text) - 1, -1, -1):\n",
    "    if text[i].isalpha():\n",
    "      return i\n",
    "  return -1"
   ]
  },
  {
   "cell_type": "code",
   "execution_count": 5,
   "metadata": {},
   "outputs": [
    {
     "data": {
      "text/plain": [
       "('MAJ', '02900')"
      ]
     },
     "execution_count": 5,
     "metadata": {},
     "output_type": "execute_result"
    }
   ],
   "source": [
    "x = \"MAJ02900\"\n",
    "x[:get_last_char_index(x)+1], x[get_last_char_index(x)+1:]"
   ]
  },
  {
   "cell_type": "code",
   "execution_count": 6,
   "metadata": {},
   "outputs": [],
   "source": [
    "def get_course_program(soup: BeautifulSoup):\n",
    "  course_program = {\n",
    "    \"subjects\": {},\n",
    "  }\n",
    "  subject_table = None\n",
    "  \n",
    "  for table in soup.findAll(\"table\"):\n",
    "    for a in table.findAll(\"a\"):\n",
    "      if \"https://handbook.uts.edu.au/subjects\" in a.get(\"href\"):\n",
    "        subject_table = table\n",
    "        \n",
    "  for a in subject_table.findAll(\"a\"):\n",
    "    code = a.text.strip()\n",
    "    \n",
    "    # is a subject\n",
    "    if code.isdigit():\n",
    "      course_program[\"subjects\"][code] = a.get(\"href\")\n",
    "      continue\n",
    "    \n",
    "    # could be a major, sub-major, elective group etc\n",
    "    last_char_index = get_last_char_index(code)\n",
    "    program_type, code = code[:last_char_index+1], code[last_char_index+1:]\n",
    "    \n",
    "    if program_type not in course_program:\n",
    "      course_program[program_type] = {}\n",
    "    \n",
    "    course_program[program_type][code] = a.get(\"href\")\n",
    "    \n",
    "  return course_program"
   ]
  },
  {
   "cell_type": "code",
   "execution_count": 7,
   "metadata": {},
   "outputs": [],
   "source": [
    "degree_code_title = {}\n",
    "course_programs = {}\n",
    "\n",
    "for degree_page in degree_pages:\n",
    "  soup = BeautifulSoup(degree_page, \"html.parser\")\n",
    "  \n",
    "  degree_title = soup.find(\"h1\").text.strip()\n",
    "  degree_code = degree_title.split(\" \")[0].split(\"v\")[0]\n",
    "  degree_code_title[degree_code] = degree_title\n",
    "  \n",
    "  program = get_course_program(soup)\n",
    "  course_programs[degree_code] = program"
   ]
  },
  {
   "cell_type": "code",
   "execution_count": 8,
   "metadata": {},
   "outputs": [
    {
     "name": "stdout",
     "output_type": "stream",
     "text": [
      "Total number of subjects: 281\n"
     ]
    }
   ],
   "source": [
    "print(\"Total number of subjects:\", sum([len(x[\"subjects\"]) for x in course_programs.values()]))"
   ]
  },
  {
   "cell_type": "code",
   "execution_count": 9,
   "metadata": {},
   "outputs": [
    {
     "name": "stdout",
     "output_type": "stream",
     "text": [
      "Total number of unique subjects: 265\n"
     ]
    }
   ],
   "source": [
    "# combine list of sets\n",
    "all_subjects = set()\n",
    "for program in course_programs.values():\n",
    "  all_subjects = all_subjects.union(set(program[\"subjects\"].keys()))\n",
    "\n",
    "print(\"Total number of unique subjects:\", len(all_subjects))"
   ]
  },
  {
   "cell_type": "code",
   "execution_count": 10,
   "metadata": {},
   "outputs": [],
   "source": [
    "os.makedirs(\"course_programs\", exist_ok=True)"
   ]
  },
  {
   "cell_type": "code",
   "execution_count": 11,
   "metadata": {},
   "outputs": [
    {
     "data": {
      "application/vnd.jupyter.widget-view+json": {
       "model_id": "8ca8a01f5d844470835d63f60c8ed36a",
       "version_major": 2,
       "version_minor": 0
      },
      "text/plain": [
       "  0%|          | 0/98 [00:00<?, ?it/s]"
      ]
     },
     "metadata": {},
     "output_type": "display_data"
    },
    {
     "data": {
      "application/vnd.jupyter.widget-view+json": {
       "model_id": "9699b0fda86f4994a3f70ddd3b8c9f49",
       "version_major": 2,
       "version_minor": 0
      },
      "text/plain": [
       "  0%|          | 0/155 [00:00<?, ?it/s]"
      ]
     },
     "metadata": {},
     "output_type": "display_data"
    },
    {
     "data": {
      "application/vnd.jupyter.widget-view+json": {
       "model_id": "c8b8c544601f4c5c971f2b2c7984f422",
       "version_major": 2,
       "version_minor": 0
      },
      "text/plain": [
       "  0%|          | 0/28 [00:00<?, ?it/s]"
      ]
     },
     "metadata": {},
     "output_type": "display_data"
    }
   ],
   "source": [
    "for degree_code, program in course_programs.items():\n",
    "  dir_path = f\"course_programs/{degree_code}\"\n",
    "  \n",
    "  os.makedirs(dir_path, exist_ok=True)\n",
    "  \n",
    "  for program_type, program_data in program.items():\n",
    "    os.makedirs(f\"{dir_path}/{program_type}\", exist_ok=True)\n",
    "    \n",
    "    if program_type == \"subjects\":\n",
    "      for subject_code, subject_url in tqdm(program_data.items(), total=len(program_data)):\n",
    "        with open(f\"{dir_path}/subjects/{subject_code}.html\", \"w\") as f:\n",
    "          url = requests.get(f\"https://handbook.uts.edu.au/subjects/details/{subject_code}.html\")\n",
    "          htmltext = url.text\n",
    "          f.write(htmltext)\n",
    "      continue\n",
    "    \n",
    "    for program_code, program_url in program_data.items():\n",
    "      with open(f\"{dir_path}/{program_type}/{program_code}.html\", \"w\") as f:\n",
    "        url = requests.get(program_url)\n",
    "        htmltext = url.text\n",
    "        f.write(htmltext)"
   ]
  }
 ],
 "metadata": {
  "kernelspec": {
   "display_name": "py310",
   "language": "python",
   "name": "python3"
  },
  "language_info": {
   "codemirror_mode": {
    "name": "ipython",
    "version": 3
   },
   "file_extension": ".py",
   "mimetype": "text/x-python",
   "name": "python",
   "nbconvert_exporter": "python",
   "pygments_lexer": "ipython3",
   "version": "3.10.13"
  }
 },
 "nbformat": 4,
 "nbformat_minor": 2
}
