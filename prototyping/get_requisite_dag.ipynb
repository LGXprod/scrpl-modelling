{
 "cells": [
  {
   "cell_type": "code",
   "execution_count": 412,
   "metadata": {},
   "outputs": [],
   "source": [
    "import os\n",
    "import json\n",
    "from dataclasses import dataclass, asdict\n",
    "import uuid\n",
    "\n",
    "import pandas as pd"
   ]
  },
  {
   "cell_type": "code",
   "execution_count": 413,
   "metadata": {},
   "outputs": [],
   "source": [
    "# function to read text file\n",
    "def read_file(file):\n",
    "    with open(file, 'r') as f:\n",
    "        return f.read()"
   ]
  },
  {
   "cell_type": "code",
   "execution_count": 414,
   "metadata": {},
   "outputs": [],
   "source": [
    "# function to read json file as dict\n",
    "def read_json(file):\n",
    "    with open(file, 'r') as f:\n",
    "        return json.load(f)"
   ]
  },
  {
   "cell_type": "code",
   "execution_count": 415,
   "metadata": {},
   "outputs": [],
   "source": [
    "subject_id_to_degree_id = {}\n",
    "\n",
    "for degree_id in os.listdir(\"./course_programs\"):\n",
    "    if not os.path.isdir(f\"./course_programs/{degree_id}\"):\n",
    "        continue\n",
    "\n",
    "    for subject_id in os.listdir(f\"./course_programs/{degree_id}/subjects\"):\n",
    "        if not subject_id.endswith(\".html\"):\n",
    "            continue\n",
    "\n",
    "        subject_id_to_degree_id[subject_id.replace(\".html\", \"\")] = degree_id"
   ]
  },
  {
   "cell_type": "markdown",
   "metadata": {},
   "source": [
    "### Subject Nodes"
   ]
  },
  {
   "cell_type": "code",
   "execution_count": 416,
   "metadata": {},
   "outputs": [
    {
     "data": {
      "text/html": [
       "<div>\n",
       "<style scoped>\n",
       "    .dataframe tbody tr th:only-of-type {\n",
       "        vertical-align: middle;\n",
       "    }\n",
       "\n",
       "    .dataframe tbody tr th {\n",
       "        vertical-align: top;\n",
       "    }\n",
       "\n",
       "    .dataframe thead th {\n",
       "        text-align: right;\n",
       "    }\n",
       "</style>\n",
       "<table border=\"1\" class=\"dataframe\">\n",
       "  <thead>\n",
       "    <tr style=\"text-align: right;\">\n",
       "      <th></th>\n",
       "      <th>subjectId:ID(Subject-ID)</th>\n",
       "      <th>name</th>\n",
       "      <th>creditPoints:int</th>\n",
       "      <th>resultType</th>\n",
       "      <th>content</th>\n",
       "      <th>degreeId</th>\n",
       "      <th>:LABEL</th>\n",
       "    </tr>\n",
       "  </thead>\n",
       "  <tbody>\n",
       "    <tr>\n",
       "      <th>0</th>\n",
       "      <td>41384</td>\n",
       "      <td>Chemical Thermodynamics and Reactor Design</td>\n",
       "      <td>6</td>\n",
       "      <td>Grade and marks</td>\n",
       "      <td>### Description\\n\\nThis subject provides stude...</td>\n",
       "      <td>C09066</td>\n",
       "      <td>subject</td>\n",
       "    </tr>\n",
       "    <tr>\n",
       "      <th>1</th>\n",
       "      <td>41021</td>\n",
       "      <td>Interaction Design Studio</td>\n",
       "      <td>12</td>\n",
       "      <td>Grade and marks</td>\n",
       "      <td>### Description\\n\\nThis is a capstone project ...</td>\n",
       "      <td>C09119</td>\n",
       "      <td>subject</td>\n",
       "    </tr>\n",
       "    <tr>\n",
       "      <th>2</th>\n",
       "      <td>43124</td>\n",
       "      <td>Renewable Energy Technology</td>\n",
       "      <td>6</td>\n",
       "      <td>Grade and marks</td>\n",
       "      <td>### Description\\n\\nThe world is heavily depend...</td>\n",
       "      <td>C09066</td>\n",
       "      <td>subject</td>\n",
       "    </tr>\n",
       "    <tr>\n",
       "      <th>3</th>\n",
       "      <td>48850</td>\n",
       "      <td>Environmental Planning and Law</td>\n",
       "      <td>6</td>\n",
       "      <td>Grade and marks</td>\n",
       "      <td>### Description\\n\\nThe objectives of this subj...</td>\n",
       "      <td>C09066</td>\n",
       "      <td>subject</td>\n",
       "    </tr>\n",
       "    <tr>\n",
       "      <th>4</th>\n",
       "      <td>31260</td>\n",
       "      <td>Fundamentals of Interaction Design</td>\n",
       "      <td>6</td>\n",
       "      <td>Grade and marks</td>\n",
       "      <td>### Description\\n\\nThis subject focuses on the...</td>\n",
       "      <td>C09119</td>\n",
       "      <td>subject</td>\n",
       "    </tr>\n",
       "  </tbody>\n",
       "</table>\n",
       "</div>"
      ],
      "text/plain": [
       "   subjectId:ID(Subject-ID)                                        name  \\\n",
       "0                     41384  Chemical Thermodynamics and Reactor Design   \n",
       "1                     41021                   Interaction Design Studio   \n",
       "2                     43124                 Renewable Energy Technology   \n",
       "3                     48850              Environmental Planning and Law   \n",
       "4                     31260          Fundamentals of Interaction Design   \n",
       "\n",
       "   creditPoints:int       resultType  \\\n",
       "0                 6  Grade and marks   \n",
       "1                12  Grade and marks   \n",
       "2                 6  Grade and marks   \n",
       "3                 6  Grade and marks   \n",
       "4                 6  Grade and marks   \n",
       "\n",
       "                                             content degreeId   :LABEL  \n",
       "0  ### Description\\n\\nThis subject provides stude...   C09066  subject  \n",
       "1  ### Description\\n\\nThis is a capstone project ...   C09119  subject  \n",
       "2  ### Description\\n\\nThe world is heavily depend...   C09066  subject  \n",
       "3  ### Description\\n\\nThe objectives of this subj...   C09066  subject  \n",
       "4  ### Description\\n\\nThis subject focuses on the...   C09119  subject  "
      ]
     },
     "execution_count": 416,
     "metadata": {},
     "output_type": "execute_result"
    }
   ],
   "source": [
    "subject_nodes = pd.read_json(\"./subjects_cleaned/subjects.json\")\n",
    "subject_nodes.drop(columns=[\"sessions\", \"requisites\", \"antiRequisites\"], inplace=True)\n",
    "subject_nodes.rename(\n",
    "    columns={\n",
    "        \"_id\": \"subjectId:ID(Subject-ID)\",\n",
    "        \"creditPoints\": \"creditPoints:int\",\n",
    "    },\n",
    "    inplace=True,\n",
    ")\n",
    "subject_nodes[\"degreeId\"] = [\n",
    "    subject_id_to_degree_id.get(str(subject_id), \"\")\n",
    "    for subject_id in subject_nodes[\"subjectId:ID(Subject-ID)\"].tolist()\n",
    "]\n",
    "subject_nodes[\":LABEL\"] = \"subject\"\n",
    "subject_nodes.head()"
   ]
  },
  {
   "cell_type": "code",
   "execution_count": 417,
   "metadata": {},
   "outputs": [],
   "source": [
    "subject_nodes.to_csv(\"./degree_timelines/dag/subjects.csv\", index=False)"
   ]
  },
  {
   "cell_type": "markdown",
   "metadata": {},
   "source": [
    "### Requisite and Antirequisite Relations"
   ]
  },
  {
   "cell_type": "code",
   "execution_count": 418,
   "metadata": {},
   "outputs": [],
   "source": [
    "subjects = read_json(\"./subjects_cleaned/subjects.json\")"
   ]
  },
  {
   "cell_type": "code",
   "execution_count": 419,
   "metadata": {},
   "outputs": [],
   "source": [
    "subject_ids = set([subject[\"_id\"] for subject in subjects])"
   ]
  },
  {
   "cell_type": "code",
   "execution_count": 420,
   "metadata": {},
   "outputs": [],
   "source": [
    "requisite_relations = []\n",
    "requisite_group_relations = []\n",
    "anti_requisite_relations = [] # anti requisites can only have AND relations"
   ]
  },
  {
   "cell_type": "code",
   "execution_count": 421,
   "metadata": {},
   "outputs": [],
   "source": [
    "@dataclass\n",
    "class RequisiteGroup:\n",
    "    subject_ids: set[str]\n",
    "    requisite_group_id: str\n",
    "    \n",
    "    def __init__(self, subject_ids: set[str]):\n",
    "        self.subject_ids = subject_ids\n",
    "        self.requisite_group_id = str(uuid.uuid4())\n",
    "        \n",
    "    def __eq__(self, other):\n",
    "        return set(self.subject_ids) == set(other.subject_ids)"
   ]
  },
  {
   "cell_type": "code",
   "execution_count": 422,
   "metadata": {},
   "outputs": [],
   "source": [
    "existing_requisite_groups = []"
   ]
  },
  {
   "cell_type": "code",
   "execution_count": 423,
   "metadata": {},
   "outputs": [],
   "source": [
    "def get_requisite_group(group: RequisiteGroup):\n",
    "    for existing_group in existing_requisite_groups:\n",
    "        if existing_group == group:\n",
    "            return existing_group\n",
    "          \n",
    "    return None"
   ]
  },
  {
   "cell_type": "code",
   "execution_count": 424,
   "metadata": {},
   "outputs": [],
   "source": [
    "# function that replaces any non-numerical characters an empty string\n",
    "def clean_req_code(string):\n",
    "    return ''.join([i for i in string if i.isdigit()])"
   ]
  },
  {
   "cell_type": "code",
   "execution_count": 425,
   "metadata": {},
   "outputs": [],
   "source": [
    "num_requisite_groups = 0"
   ]
  },
  {
   "cell_type": "code",
   "execution_count": 426,
   "metadata": {},
   "outputs": [],
   "source": [
    "for subject in subjects:\n",
    "    subject_id = subject[\"_id\"]\n",
    "    requisites = subject[\"requisites\"]\n",
    "    anti_requisites = subject[\"antiRequisites\"]\n",
    "\n",
    "    for requisite_group in requisites:\n",
    "        requisite_group = [\n",
    "            req\n",
    "            for req in [clean_req_code(req[\"subjectId\"]) for req in requisite_group]\n",
    "            if req in subject_ids\n",
    "        ]\n",
    "        \n",
    "        if len(requisite_group) == 0:\n",
    "            continue\n",
    "\n",
    "        if len(requisite_group) == 1:\n",
    "            requisite_relations.append([subject_id, requisite_group[0], \"requisite\"])\n",
    "            continue\n",
    "\n",
    "        requisite_group = RequisiteGroup(set(requisite_group))\n",
    "        requisite_group_id = requisite_group.requisite_group_id\n",
    "\n",
    "        existing_requisite_group = get_requisite_group(requisite_group)\n",
    "\n",
    "        if existing_requisite_group is not None:\n",
    "            requisite_group_id = existing_requisite_group.requisite_group_id\n",
    "        else:\n",
    "            existing_requisite_groups.append(requisite_group)\n",
    "\n",
    "        requisite_group_relations.append([subject_id, requisite_group_id, \"requisite\"])\n",
    "\n",
    "        num_requisite_groups += 1\n",
    "\n",
    "    for anti_requisite_group in anti_requisites:\n",
    "        anti_requisite = anti_requisite_group[0][\"subjectId\"]\n",
    "\n",
    "        if anti_requisite in subject_ids:\n",
    "            anti_requisite_relations.append(\n",
    "                [subject_id, anti_requisite, \"anti-requisite\"]\n",
    "            )"
   ]
  },
  {
   "cell_type": "code",
   "execution_count": 427,
   "metadata": {},
   "outputs": [
    {
     "data": {
      "text/plain": [
       "(31, 40)"
      ]
     },
     "execution_count": 427,
     "metadata": {},
     "output_type": "execute_result"
    }
   ],
   "source": [
    "len(existing_requisite_groups), num_requisite_groups"
   ]
  },
  {
   "cell_type": "code",
   "execution_count": 428,
   "metadata": {},
   "outputs": [],
   "source": [
    "pd.DataFrame(requisite_relations, columns=[\"subjectId:START_ID(Subject-ID)\", \"subjectId:END_ID(Subject-ID)\", \":TYPE\"]).to_csv(\"./degree_timelines/dag/requisites.csv\", index=False)\n",
    "pd.DataFrame(requisite_group_relations, columns=[\"subjectId:START_ID(Subject-ID)\", \"requisiteGroupId:END_ID(Requisite-Group-ID)\", \":TYPE\"]).to_csv(\"./degree_timelines/dag/requisite_groups_rels.csv\", index=False)\n",
    "pd.DataFrame(anti_requisite_relations, columns=[\"subjectId:START_ID(Subject-ID)\", \"subjectId:END_ID(Subject-ID)\", \":TYPE\"]).to_csv(\"./degree_timelines/dag/anti_requisites.csv\", index=False)"
   ]
  },
  {
   "cell_type": "code",
   "execution_count": 429,
   "metadata": {},
   "outputs": [
    {
     "data": {
      "text/plain": [
       "[RequisiteGroup(subject_ids={'48531', '41278'}, requisite_group_id='d5c46c01-50fe-4915-88e5-a38cdbf4fc70'),\n",
       " RequisiteGroup(subject_ids={'31266', '41082', '48430', '48023', '41092', '31268', '31257', '41039'}, requisite_group_id='8ff2faf9-c29c-4cbd-9b65-87b2d3840434'),\n",
       " RequisiteGroup(subject_ids={'48641', '41057'}, requisite_group_id='927757d3-c902-4703-9716-784a3bb9cdf4'),\n",
       " RequisiteGroup(subject_ids={'41039', '48023', '48430'}, requisite_group_id='becf8b1c-14e0-4b1f-b063-2c1af45cce38'),\n",
       " RequisiteGroup(subject_ids={'41039', '48023'}, requisite_group_id='30c5b4f5-d920-4cce-83d5-aebff8610d77')]"
      ]
     },
     "execution_count": 429,
     "metadata": {},
     "output_type": "execute_result"
    }
   ],
   "source": [
    "existing_requisite_groups[:5]"
   ]
  },
  {
   "cell_type": "markdown",
   "metadata": {},
   "source": [
    "### Requisite Groups"
   ]
  },
  {
   "cell_type": "code",
   "execution_count": 430,
   "metadata": {},
   "outputs": [],
   "source": [
    "requisite_group_nodes = [[requisite_group.requisite_group_id, \"requisite-group\"] for requisite_group in existing_requisite_groups]\n",
    "pd.DataFrame(requisite_group_nodes, columns=[\"requisiteGroupId:ID(Requisite-Group-ID)\", \":LABEL\"]).to_csv(\"./degree_timelines/dag/requisite_groups.csv\", index=False)"
   ]
  }
 ],
 "metadata": {
  "kernelspec": {
   "display_name": "py310",
   "language": "python",
   "name": "python3"
  },
  "language_info": {
   "codemirror_mode": {
    "name": "ipython",
    "version": 3
   },
   "file_extension": ".py",
   "mimetype": "text/x-python",
   "name": "python",
   "nbconvert_exporter": "python",
   "pygments_lexer": "ipython3",
   "version": "3.10.13"
  }
 },
 "nbformat": 4,
 "nbformat_minor": 2
}
