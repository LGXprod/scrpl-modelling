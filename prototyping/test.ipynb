{
 "cells": [
  {
   "cell_type": "code",
   "execution_count": 5,
   "metadata": {},
   "outputs": [],
   "source": [
    "import tensorflow as tf\n",
    "from tensorflow.keras.preprocessing.text import Tokenizer\n",
    "from tensorflow.keras.preprocessing.sequence import pad_sequences\n",
    "from tensorflow.keras.layers import Embedding, Dense, Flatten\n",
    "from tensorflow.keras import Sequential\n",
    "\n",
    "# Sample corpus (replace with your own data)\n",
    "corpus = [\n",
    "    \"This is an example sentence.\",\n",
    "    \"Word embeddings are interesting.\",\n",
    "    \"Word2Vec is a popular technique.\",\n",
    "    # Add more sentences as needed\n",
    "]\n",
    "\n",
    "# Tokenize the text\n",
    "tokenizer = Tokenizer()\n",
    "tokenizer.fit_on_texts(corpus)\n",
    "\n",
    "# Create word sequences\n",
    "sequences = tokenizer.texts_to_sequences(corpus)\n",
    "\n",
    "# Define the vocabulary size (total unique words)\n",
    "vocab_size = len(tokenizer.word_index) + 1\n",
    "\n"
   ]
  },
  {
   "cell_type": "code",
   "execution_count": 6,
   "metadata": {},
   "outputs": [],
   "source": [
    "context_target_pairs = []\n",
    "window_size = 2\n",
    "\n",
    "for sequence in sequences:\n",
    "    for i, target_word in enumerate(sequence):\n",
    "        for j in range(max(0, i - window_size), min(len(sequence), i + window_size + 1)):\n",
    "            if j != i:\n",
    "                context_target_pairs.append((target_word, sequence[j]))\n",
    "\n"
   ]
  },
  {
   "cell_type": "code",
   "execution_count": 7,
   "metadata": {},
   "outputs": [],
   "source": [
    "import numpy as np\n",
    "\n",
    "# Convert context-target pairs to input and output data\n",
    "X, y = zip(*context_target_pairs)\n",
    "X = np.array(X)  # Convert to a NumPy array\n",
    "y = tf.keras.utils.to_categorical(y, num_classes=vocab_size)\n",
    "\n"
   ]
  },
  {
   "cell_type": "code",
   "execution_count": 18,
   "metadata": {},
   "outputs": [
    {
     "data": {
      "text/plain": [
       "((38,), (38, 14))"
      ]
     },
     "execution_count": 18,
     "metadata": {},
     "output_type": "execute_result"
    }
   ],
   "source": [
    "X.shape, y.shape"
   ]
  },
  {
   "cell_type": "code",
   "execution_count": 10,
   "metadata": {},
   "outputs": [
    {
     "data": {
      "text/plain": [
       "array([ 2,  2,  1,  1,  1,  3,  3,  3,  3,  4,  4,  4,  5,  5,  6,  6,  7,\n",
       "        7,  7,  8,  8,  8,  9,  9, 10, 10,  1,  1,  1, 11, 11, 11, 11, 12,\n",
       "       12, 12, 13, 13])"
      ]
     },
     "execution_count": 10,
     "metadata": {},
     "output_type": "execute_result"
    }
   ],
   "source": [
    "X"
   ]
  },
  {
   "cell_type": "code",
   "execution_count": 22,
   "metadata": {},
   "outputs": [
    {
     "data": {
      "text/plain": [
       "(13,\n",
       " array([0., 0., 0., 0., 0., 0., 0., 0., 0., 0., 0., 0., 1., 0.],\n",
       "       dtype=float32))"
      ]
     },
     "execution_count": 22,
     "metadata": {},
     "output_type": "execute_result"
    }
   ],
   "source": [
    "X[-1], y[-1]"
   ]
  },
  {
   "cell_type": "code",
   "execution_count": 8,
   "metadata": {},
   "outputs": [
    {
     "name": "stderr",
     "output_type": "stream",
     "text": [
      "2024-02-26 16:17:48.313781: I metal_plugin/src/device/metal_device.cc:1154] Metal device set to: Apple M1 Pro\n",
      "2024-02-26 16:17:48.313803: I metal_plugin/src/device/metal_device.cc:296] systemMemory: 16.00 GB\n",
      "2024-02-26 16:17:48.313809: I metal_plugin/src/device/metal_device.cc:313] maxCacheSize: 5.33 GB\n",
      "2024-02-26 16:17:48.313846: I tensorflow/core/common_runtime/pluggable_device/pluggable_device_factory.cc:306] Could not identify NUMA node of platform GPU ID 0, defaulting to 0. Your kernel may not have been built with NUMA support.\n",
      "2024-02-26 16:17:48.313863: I tensorflow/core/common_runtime/pluggable_device/pluggable_device_factory.cc:272] Created TensorFlow device (/job:localhost/replica:0/task:0/device:GPU:0 with 0 MB memory) -> physical PluggableDevice (device: 0, name: METAL, pci bus id: <undefined>)\n"
     ]
    }
   ],
   "source": [
    "# Build the Word2Vec model using TensorFlow\n",
    "embedding_dim = 100  # Adjust the dimensionality as needed\n",
    "\n",
    "model = Sequential()\n",
    "model.add(Embedding(input_dim=vocab_size, output_dim=embedding_dim, input_length=1))\n",
    "model.add(Flatten())\n",
    "model.add(Dense(vocab_size, activation='softmax'))\n",
    "\n",
    "model.compile(loss='categorical_crossentropy', optimizer='adam')\n",
    "\n"
   ]
  },
  {
   "cell_type": "code",
   "execution_count": 9,
   "metadata": {},
   "outputs": [
    {
     "name": "stdout",
     "output_type": "stream",
     "text": [
      "Epoch 1/10\n"
     ]
    },
    {
     "name": "stderr",
     "output_type": "stream",
     "text": [
      "2024-02-26 16:17:49.096448: I tensorflow/core/grappler/optimizers/custom_graph_optimizer_registry.cc:117] Plugin optimizer for device_type GPU is enabled.\n"
     ]
    },
    {
     "name": "stdout",
     "output_type": "stream",
     "text": [
      "2/2 [==============================] - 3s 571ms/step - loss: 2.6351\n",
      "Epoch 2/10\n",
      "2/2 [==============================] - 0s 25ms/step - loss: 2.6241\n",
      "Epoch 3/10\n",
      "2/2 [==============================] - 0s 13ms/step - loss: 2.6151\n",
      "Epoch 4/10\n",
      "2/2 [==============================] - 0s 13ms/step - loss: 2.6065\n",
      "Epoch 5/10\n",
      "2/2 [==============================] - 0s 12ms/step - loss: 2.5985\n",
      "Epoch 6/10\n",
      "2/2 [==============================] - 0s 27ms/step - loss: 2.5904\n",
      "Epoch 7/10\n",
      "2/2 [==============================] - 0s 12ms/step - loss: 2.5826\n",
      "Epoch 8/10\n",
      "2/2 [==============================] - 0s 13ms/step - loss: 2.5749\n",
      "Epoch 9/10\n",
      "2/2 [==============================] - 0s 14ms/step - loss: 2.5673\n",
      "Epoch 10/10\n",
      "2/2 [==============================] - 0s 16ms/step - loss: 2.5596\n"
     ]
    },
    {
     "data": {
      "text/plain": [
       "<keras.src.callbacks.History at 0x283d538e0>"
      ]
     },
     "execution_count": 9,
     "metadata": {},
     "output_type": "execute_result"
    }
   ],
   "source": [
    "# Train the Word2Vec model\n",
    "num_epochs = 10  # Adjust the number of epochs as needed\n",
    "\n",
    "model.fit(X, y, epochs=num_epochs)\n",
    "\n"
   ]
  }
 ],
 "metadata": {
  "kernelspec": {
   "display_name": "py310",
   "language": "python",
   "name": "python3"
  },
  "language_info": {
   "codemirror_mode": {
    "name": "ipython",
    "version": 3
   },
   "file_extension": ".py",
   "mimetype": "text/x-python",
   "name": "python",
   "nbconvert_exporter": "python",
   "pygments_lexer": "ipython3",
   "version": "3.10.13"
  }
 },
 "nbformat": 4,
 "nbformat_minor": 2
}
