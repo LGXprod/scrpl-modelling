{
 "cells": [
  {
   "cell_type": "code",
   "execution_count": null,
   "metadata": {},
   "outputs": [],
   "source": [
    "import os\n",
    "import uuid\n",
    "from dataclasses import dataclass"
   ]
  },
  {
   "cell_type": "markdown",
   "metadata": {},
   "source": [
    "### Data\n",
    "- Degree id (adv comp - just give it a random UUID) ✅\n",
    "- Subject id ✅\n",
    "- Title ✅\n",
    "- Credit points ✅\n",
    "- Requisites\n",
    "- Anti-requisites\n",
    "- Content"
   ]
  },
  {
   "cell_type": "code",
   "execution_count": null,
   "metadata": {},
   "outputs": [],
   "source": [
    "degree_id = str(uuid.uuid4())"
   ]
  },
  {
   "cell_type": "code",
   "execution_count": null,
   "metadata": {},
   "outputs": [],
   "source": [
    "def get_credit_points(content_lines: str) -> int:\n",
    "    for line in content_lines:\n",
    "        if \"Credit points\" in line:\n",
    "            return int(line.split(\"|\")[1].strip())"
   ]
  },
  {
   "cell_type": "code",
   "execution_count": null,
   "metadata": {},
   "outputs": [],
   "source": [
    "@dataclass\n",
    "class RequisiteGroup:\n",
    "    requisite_group_id: str\n",
    "    subjects: set[str]\n",
    "    \n",
    "    def __init__(self, subjects):\n",
    "        self.requisite_group_id = str(uuid.uuid4())\n",
    "        self.subjects = subjects \n",
    "        \n",
    "    def __eq__(self, other):\n",
    "        return self.subjects ^ other.subjects == set()"
   ]
  },
  {
   "cell_type": "code",
   "execution_count": 16,
   "metadata": {},
   "outputs": [],
   "source": [
    "test_string = \"(INFO1105 OR INFO1905) OR ((INFO1103 OR INFO1113) AND (COMP2123 OR COMP2823))\""
   ]
  },
  {
   "cell_type": "code",
   "execution_count": 14,
   "metadata": {},
   "outputs": [
    {
     "data": {
      "text/plain": [
       "['DATA1X01 or ENVX1002 or BUSS1020 or ECMT1010 or ',\n",
       " '',\n",
       " 'MATH1062 or MATH1962 or MATH1972) and ',\n",
       " 'STAT2011 or STAT2911)) or ',\n",
       " 'MATH1X05 and ',\n",
       " 'MATH1001 or MATH1002 or MATH1003 or MATH1004 or MATH1021 or MATH1023 or MATH1115 or MATH19XX))']"
      ]
     },
     "execution_count": 14,
     "metadata": {},
     "output_type": "execute_result"
    }
   ],
   "source": [
    "test_string.split(\"(\")"
   ]
  },
  {
   "cell_type": "code",
   "execution_count": null,
   "metadata": {},
   "outputs": [],
   "source": []
  },
  {
   "cell_type": "code",
   "execution_count": null,
   "metadata": {},
   "outputs": [],
   "source": [
    "# def get_requisites(requisite_text: str) -> list[any]:\n",
    "#   requisites = []\n",
    "#   text_components = requisite_text.split(\" \")\n",
    "  \n",
    "#   prev_subject = None\n",
    "  \n",
    "#   for component in text_components:\n",
    "#       if component == \"or\":\n",
    "        \n",
    "  "
   ]
  },
  {
   "cell_type": "code",
   "execution_count": null,
   "metadata": {},
   "outputs": [],
   "source": [
    "def get_requisite_subject(requisite_line: str) -> list[any]:\n",
    "    requisite_line = requisite_line.strip()\n",
    "    requisite_line = requisite_line.replace(\"[\", \"(\").replace(\"]\", \")\")\n",
    "    \n",
    "    if requisite_line == \"None\":\n",
    "        return []\n",
    "  \n",
    "    requisite_subjects = []\n",
    "    \n",
    "    for requisite in requisite_line.split(\"and\"):\n",
    "        if \"or\" in requisite:\n",
    "          for requisite_group in requisite.split(\"or\"):\n",
    "            if \"[\" in requisite_group or \"(\" in requisite_group:\n",
    "                continue\n",
    "              \n",
    "            requisite_subjects.append(requisite_group.strip())\n",
    "            \n",
    "          continue\n",
    "        \n",
    "        requisite_subjects.append(requisite.strip())\n",
    "\n",
    "    return requisite_subjects"
   ]
  },
  {
   "cell_type": "code",
   "execution_count": null,
   "metadata": {},
   "outputs": [],
   "source": [
    "def get_requisites(content_lines: str) -> str:\n",
    "    requisite_line = \"\"\n",
    "  \n",
    "    for line in content_lines:\n",
    "        if \"Prerequisites\" in line:\n",
    "            requisite_line = line.split(\"|\")[1].strip()\n",
    "            \n",
    "    "
   ]
  },
  {
   "cell_type": "code",
   "execution_count": null,
   "metadata": {},
   "outputs": [],
   "source": [
    "def get_subject(subject_id: str, subject_content: str):\n",
    "    content_lines = subject_content.split(\"\\n\")\n",
    "\n",
    "    title = content_lines[0].replace(f\"{subject_id}: \", \"\").strip()\n",
    "    credit_points = get_credit_points(content_lines)\n",
    "\n",
    "    return {\n",
    "        \"degreeId\": degree_id,\n",
    "        \"subjectId\": subject_id,\n",
    "        \"title\": title,\n",
    "        \"creditPoints\": credit_points,\n",
    "        \"content\": subject_content,\n",
    "    }"
   ]
  }
 ],
 "metadata": {
  "kernelspec": {
   "display_name": "py310",
   "language": "python",
   "name": "python3"
  },
  "language_info": {
   "codemirror_mode": {
    "name": "ipython",
    "version": 3
   },
   "file_extension": ".py",
   "mimetype": "text/x-python",
   "name": "python",
   "nbconvert_exporter": "python",
   "pygments_lexer": "ipython3",
   "version": "3.10.13"
  }
 },
 "nbformat": 4,
 "nbformat_minor": 2
}
