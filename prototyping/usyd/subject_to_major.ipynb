{
 "cells": [
  {
   "cell_type": "code",
   "execution_count": null,
   "metadata": {},
   "outputs": [],
   "source": [
    "import os"
   ]
  },
  {
   "cell_type": "code",
   "execution_count": null,
   "metadata": {},
   "outputs": [],
   "source": [
    "subject_to_degree_major = {}"
   ]
  },
  {
   "cell_type": "code",
   "execution_count": null,
   "metadata": {},
   "outputs": [],
   "source": [
    "def add_subject_to_degree_major(subject, degree, major):  \n",
    "    if subject not in subject_to_degree_major:\n",
    "        subject_to_degree_major[subject] = {\n",
    "          \"degree\": degree,\n",
    "          \"major\": []\n",
    "        }\n",
    "        \n",
    "    subject_to_degree_major[subject].add(degree_major)"
   ]
  },
  {
   "cell_type": "code",
   "execution_count": null,
   "metadata": {},
   "outputs": [],
   "source": [
    "for degree_dirname in os.listdir(\"./course_programs\"):\n",
    "    for subject_filename in os.listdir(f\"./course_programs/{degree_dirname}/subjects\"):\n",
    "        if not os.path.isdir(f\"./course_programs/{degree_dirname}/MAJ\"):\n",
    "            subject_to_degree_major[subject_filename] = {\n",
    "                \"degree\": degree_dirname,\n",
    "                \"major\": []\n",
    "            }\n",
    "            continue\n",
    "            \n",
    "        for major_filename in os.listdir(f\"./course_programs/{degree_dirname}/MAJ\"):\n",
    "            "
   ]
  }
 ],
 "metadata": {
  "language_info": {
   "name": "python"
  }
 },
 "nbformat": 4,
 "nbformat_minor": 2
}
