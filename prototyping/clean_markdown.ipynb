{
 "cells": [
  {
   "cell_type": "code",
   "execution_count": 551,
   "metadata": {},
   "outputs": [],
   "source": [
    "import os\n",
    "import json\n",
    "from tqdm.notebook import tqdm"
   ]
  },
  {
   "cell_type": "code",
   "execution_count": 552,
   "metadata": {},
   "outputs": [],
   "source": [
    "# function to read a file\n",
    "def read_file(file):\n",
    "    with open(file, 'r') as f:\n",
    "        return f.read()"
   ]
  },
  {
   "cell_type": "code",
   "execution_count": 553,
   "metadata": {},
   "outputs": [
    {
     "data": {
      "text/plain": [
       "[2, 3, 4, 5]"
      ]
     },
     "execution_count": 553,
     "metadata": {},
     "output_type": "execute_result"
    }
   ],
   "source": [
    "[1, 2, 3, 4, 5][1:]"
   ]
  },
  {
   "cell_type": "code",
   "execution_count": 554,
   "metadata": {},
   "outputs": [],
   "source": [
    "def remove_unecessary_info(text: str) -> str:\n",
    "    lines = text.split(\"\\n\")\n",
    "    \n",
    "    start_line_index = None\n",
    "    end_line_index = None\n",
    "    \n",
    "    for i, line in enumerate(lines):\n",
    "      if line == \"### Description\":\n",
    "        start_line_index = i\n",
    "        \n",
    "      if line == \"[UTS: Handbook 2024](https://www.handbook.uts.edu.au/index.html)\":\n",
    "        end_line_index = i\n",
    "        break\n",
    "        \n",
    "    return \"\\n\".join(lines[start_line_index:end_line_index])"
   ]
  },
  {
   "cell_type": "code",
   "execution_count": 555,
   "metadata": {},
   "outputs": [],
   "source": [
    "def fix_slos(slos_text: str) -> str | None:\n",
    "    try:\n",
    "        is_even = False\n",
    "        chars = list(slos_text)\n",
    "\n",
    "        for i, char in enumerate(chars):\n",
    "            if char == \"|\":\n",
    "                if is_even:\n",
    "                    chars[i] = \"\\n\"\n",
    "                    chars[i - 1] = \"\"\n",
    "                    chars[i + 1] = \"\"\n",
    "                else:\n",
    "                    chars[i] = \"\"\n",
    "\n",
    "                is_even = not is_even\n",
    "\n",
    "        return \"\".join(chars)\n",
    "    except:\n",
    "        return None"
   ]
  },
  {
   "cell_type": "code",
   "execution_count": 556,
   "metadata": {},
   "outputs": [],
   "source": [
    "def get_slos(text: str) -> str:\n",
    "    lines = text.split(\"\\n\")\n",
    "    \n",
    "    start_line_index = None\n",
    "    end_line_index = None\n",
    "    \n",
    "    for i, line in enumerate(lines):\n",
    "      if line == \"### Subject learning objectives (SLOs)\":\n",
    "        start_line_index = i\n",
    "        continue\n",
    "        \n",
    "      if start_line_index is not None and \"###\" in line:\n",
    "        end_line_index = i\n",
    "        break\n",
    "      \n",
    "    slos = None\n",
    "    \n",
    "    for line in lines[start_line_index:end_line_index]:\n",
    "      if \"|\" in line:\n",
    "        slos = line\n",
    "        break\n",
    "        \n",
    "    return slos"
   ]
  },
  {
   "cell_type": "code",
   "execution_count": 557,
   "metadata": {},
   "outputs": [],
   "source": [
    "def fix_bold_text(text: str) -> str:\n",
    "    lines = text.split(\"\\n\")\n",
    "    \n",
    "    for i, line in enumerate(lines):\n",
    "      num_bold_tags = line.count(\"**\")\n",
    "      \n",
    "      if i + 1 < len(lines) and num_bold_tags % 2 != 0:\n",
    "        lines[i] += \" \" + lines[i+1]\n",
    "        lines[i+1] = \"\"\n",
    "        \n",
    "    return \"\\n\".join(lines)"
   ]
  },
  {
   "cell_type": "code",
   "execution_count": 558,
   "metadata": {},
   "outputs": [],
   "source": [
    "def remove_greater_than_two_line_break(text: str):\n",
    "    lines = text.split(\"\\n\")\n",
    "    is_second_line = False\n",
    "    remove_indices = []\n",
    "    \n",
    "    for i, line in enumerate(lines):\n",
    "      if line.strip() == \"\":\n",
    "        if is_second_line:\n",
    "          remove_indices.append(i)\n",
    "        else:\n",
    "          is_second_line = True\n",
    "      else:\n",
    "        is_second_line = False\n",
    "        \n",
    "    for i in sorted(remove_indices, reverse=True):\n",
    "      del lines[i]\n",
    "          \n",
    "    return \"\\n\".join(lines)"
   ]
  },
  {
   "cell_type": "code",
   "execution_count": 559,
   "metadata": {},
   "outputs": [],
   "source": [
    "test_file = read_file(\"./subjects_cleaned/markdown/33130.md\")\n",
    "test_file_2 = read_file(\"./subjects_cleaned/markdown/33230.md\")"
   ]
  },
  {
   "cell_type": "code",
   "execution_count": 560,
   "metadata": {},
   "outputs": [],
   "source": [
    "def clean_markdown(text: str) -> str:\n",
    "    text = remove_unecessary_info(text)\n",
    "    text = fix_bold_text(text)\n",
    "    text = remove_greater_than_two_line_break(text)\n",
    "    slos = get_slos(text)\n",
    "    updated_slos = fix_slos(slos)\n",
    "    \n",
    "    if updated_slos is not None:\n",
    "        text = text.replace(slos, updated_slos)\n",
    "        \n",
    "    text = text.replace(\"https://handbook.uts.edu.au/\", \"/\")\n",
    "    \n",
    "    return text"
   ]
  },
  {
   "cell_type": "code",
   "execution_count": 561,
   "metadata": {},
   "outputs": [],
   "source": [
    "def get_requisite_subjects(requisite_text: str) -> list[list[dict[str, str]]]:\n",
    "    requisites = []\n",
    "    requisite_text = requisite_text.replace(\"\\n\", \" \")\n",
    "    \n",
    "    for requisite in requisite_text.split(\"AND\"):\n",
    "        requisites.append([])\n",
    "        \n",
    "        for requisite in requisite.split(\"OR\"):\n",
    "            id = None\n",
    "            name = None\n",
    "            \n",
    "            if \"https\" in requisite:\n",
    "                id = requisite.split(\"]\")[0].replace(\"[\", \"\").strip()\n",
    "                name = requisite.split(\")\")[1].strip().replace(\"_\", \"\").strip()\n",
    "            else:\n",
    "                req_words = requisite.strip().split(\" \")\n",
    "                id = req_words[0]\n",
    "                name = \" \".join(req_words[1:]).replace(\"_\", \"\").strip()\n",
    "          \n",
    "            requisites[-1].append({\n",
    "              \"subjectId\": id,\n",
    "              \"subjectName\": name,\n",
    "            })\n",
    "            \n",
    "    return requisites"
   ]
  },
  {
   "cell_type": "code",
   "execution_count": 562,
   "metadata": {},
   "outputs": [],
   "source": [
    "def get_requisites(requisite_text: str) -> tuple[list[list[dict[str, str]]]]:    \n",
    "    requisites = []\n",
    "    antirequisites = []\n",
    "    \n",
    "    if \"_Requisite(s):\" in requisite_text:\n",
    "        if \"_Anti-requisite(s):\" in requisite_text:\n",
    "            requisites = get_requisite_subjects(requisite_text.split(\"_Anti-requisite(s):\")[0])\n",
    "            antirequisites = get_requisite_subjects(requisite_text.split(\"_Anti-requisite(s):\")[1])\n",
    "        else:\n",
    "            requisites = get_requisite_subjects(requisite_text.split(\"_Requisite(s):\")[1])\n",
    "    else:\n",
    "        if \"_Anti-requisite(s):\" in requisite_text:\n",
    "            antirequisites = get_requisite_subjects(requisite_text.split(\"_Anti-requisite(s):\")[1])\n",
    "        \n",
    "    return requisites, antirequisites"
   ]
  },
  {
   "cell_type": "code",
   "execution_count": 563,
   "metadata": {},
   "outputs": [],
   "source": [
    "def get_subject(subject_code: str, text: str) -> dict[str, any]:\n",
    "    name = None\n",
    "    sessions = [\"AUTUMN\"]\n",
    "    credit_points = None\n",
    "    result_type = \"Grade and marks\"\n",
    "    content = clean_markdown(text)\n",
    "\n",
    "    lines = text.split(\"\\n\")\n",
    "\n",
    "    req_start_index = None\n",
    "    req_end_index = None\n",
    "\n",
    "    for i, line in enumerate(lines):\n",
    "        if name is None and \"#\" in line:\n",
    "            name = line.replace(\"# \", \"\").strip()\n",
    "            name = name.replace(f\"{subject_code} \", \"\")\n",
    "\n",
    "        if \"_Credit points:_\" in line:\n",
    "            credit_points = int(\n",
    "                line.replace(\"_Credit points:_\", \"\").strip().split(\" \")[0]\n",
    "            )\n",
    "\n",
    "        if \"_Result type:_\" in line:\n",
    "            result_type = line.replace(\"_Result type:_\", \"\").strip()\n",
    "\n",
    "        if \"_Requisite(s):\" in line or \"_Anti-requisite(s):\" in line:\n",
    "            req_start_index = i\n",
    "\n",
    "        if req_start_index is not None and line.strip() == \"\":\n",
    "            req_end_index = i\n",
    "            break\n",
    "\n",
    "    requisites, antirequisites = get_requisites(\n",
    "        \"\\n\".join(lines[req_start_index:req_end_index])\n",
    "    )\n",
    "\n",
    "    return {\n",
    "        \"_id\": subject_code,\n",
    "        \"name\": name,\n",
    "        \"sessions\": sessions,\n",
    "        \"creditPoints\": credit_points,\n",
    "        \"resultType\": result_type,\n",
    "        \"content\": content,\n",
    "        \"requisites\": requisites,\n",
    "        \"antirequisites\": antirequisites,\n",
    "    }"
   ]
  },
  {
   "cell_type": "code",
   "execution_count": 564,
   "metadata": {},
   "outputs": [
    {
     "data": {
      "text/plain": [
       "{'_id': '33130',\n",
       " 'name': 'Mathematics 1',\n",
       " 'sessions': ['AUTUMN'],\n",
       " 'creditPoints': 6,\n",
       " 'resultType': 'Grade and marks',\n",
       " 'content': '### Description\\n\\nThis subject develops the knowledge and skills necessary for problem-solving\\nand mathematical modelling at an introductory level. Differential calculus is\\napplied to model situations in science and engineering that involve\\noscillations. Integral calculus is used to solve selected problems involving\\nfirst- and second-order differential equations, and to calculate areas,\\nvolumes, lengths and other physical quantities. Vectors, matrix multiplication\\nand determinants are introduced and applied to problem-solving and modelling.\\nSequences and series are reviewed and power series introduced where power\\nseries are used to approximate more functions.\\n\\n### Subject learning objectives (SLOs)\\n\\nUpon successful completion of this subject students should be able to:\\n\\n1.  Describe the relevance of mathematics to engineering and science and the role which engineering and science play in the development and evolution of mathematical ideas and methods\\n2.  Apply mathematical tools and resources to model real world problems, especially in engineering and science\\n3.  Demonstrate correct use of mathematical terminology and concepts, and show understanding of those concepts by describing them in both formal and informal language.\\n4.  Achieve a high level of skill in the mathematical techniques covered in the subject content\\n5.  Communicate mathematical knowledge clearly, logically and critically.\\n6.  Use appropriate mathematical software to perform calculations and explore mathematical ideas relevant to the subject content, and demonstrate knowledge of the functions of this software by interpreting output.\\n\\n### Course intended learning outcomes (CILOs)\\n\\nThis subject also contributes specifically to the development of following\\ncourse intended learning outcomes:\\n\\n  * Technically Proficient: FEIT graduates apply abstraction, mathematics and discipline fundamentals, software, tools and techniques to evaluate, implement and operate systems. (D.1)\\n  * Collaborative and Communicative: FEIT graduates work as an effective member or leader of diverse teams, communicating effectively and operating within cross-disciplinary and cross-cultural contexts in the workplace. (E.1)\\n\\n### Contribution to the development of graduate attributes\\n\\n**Engineers Australia Stage 1 Competencies** This subject contributes to the\\ndevelopment of the following Engineers Australia Stage 1 Competencies:\\n\\n  * 1.2 Conceptual understanding of the mathematics, numerical analysis, statistics, and computer and information sciences which underpin the engineering discipline.\\n  * 3.2. Effective oral and written communication in professional and lay domains.\\n\\n**This subject is fundamental for Mathematics and Science students** as it\\nintroduces them and contributes to the development of the most important\\ncharacteristics of the modern scientist. It enables them to understand and\\napply fundamental mathematical principals to scientific theories and\\nmethodologies, to use problem-solving techniques, and to approach scientific\\nchallenges systematically. Furthermore, it helps them ensure that their work\\naligns with professional standards and ethical guidelines, and enables them to\\nefficiently communicate scientific findings. This subject contributes to the\\ndevelopment of the following graduate attributes**:** **Graduate Attribute 1 - Disciplinary knowledge** A broad introduction to the most important and widely\\n\\nused concepts in mathematics is given. **Graduate Attribute 2 - Research, inquiry and critical thinking** Throughout the subject mathematics is\\n\\npresented as a tool, which students are invited to use in the solution to\\nreal-world problems **Graduate Attribute 3 - Professional, ethical and social responsibility** Throughout the subject mathematics is presented as a tool,\\n\\nwhich students are invited to use in the solution to real-world problems\\n**Graduate Attribute 5 - Communication** Students will use formal and informal\\nlanguage to communicate knowledge clearly, logically and critically.\\n\\n### Teaching and learning strategies\\n\\nLectures: Students are expected to review the pre-recorded lecture material\\n(of about 2-3 hours per week). Blank slides of the lecture sheets will be made\\navailable, and students are encouraged to make their own notes. Tutorials:\\nTutorials will be held weekly on campus, with a duration of 2 hours. Skills\\nDevelopment Tests will be held in the tutorial, with feedback given the\\nfollowing week. In the tutorials, students may be required to work in groups,\\nas discussion of mathematical ideas helps students to learn. Students will be\\nworking through problems with the assistance of the tutor, who may also\\ndemonstrate mathematical modelling techniques and mathematical programming\\nwhich the students can then investigate themselves. Students will get more\\nvalue from the tutorials if they have attempted all tutorial problems _before_\\nattending the tutorials. Lectures may be supplemented by a live, on campus\\nworkshop to answer student questions.\\n\\n### Content (topics)\\n\\nVectors and their application to physical problems. Functions and their\\nrelationship to measurement and the interpretation of physical results.\\nTrigonometric functions and inverse trigonometric functions. Inverse\\nfunctions. Hyperbolic functions. Differentiation. Integrals and methods of\\nintegration. Complex numbers. Differential equations arising from physical\\nproblems. Oscillatory motion. Matrix multiplication and determinants.\\nSequences and series, power series including Taylor series.\\n\\n### Assessment\\n\\n#### Assessment task 1: Skills Development Tests\\n\\n| Intent: | These short tests (10 in total, of equal weighting) will provide regular feedback on how students are mastering the necessary skills in each area of the subject. They will be held in the tutorial classes according to the schedule.   \\n---|---  \\nObjective(s): |  This assessment task addresses subject learning objective(s): 2, 4 and 5  This assessment task contributes to the development of course intended learning outcome(s): D.1 and E.1   \\nType: | Quiz/test  \\nGroupwork: | Individual  \\nWeight: |  60%   \\nLength: | 30 minutes.  \\nCriteria: | Students will be assessed and given feedback on:\\n\\n  1. The ability to use key mathematical concepts in their appropriate context\\n  2. The ability to obtain the correct solution to problems\\n  3. Clear communication of how they arrived at the solution, including all steps\\n\\n#### Assessment task 2: Final Examination\\n\\nIntent: |  The final examination is a test of the core competency in mathematical skills developed throughout this subject.  \\n---|---  \\nObjective(s): |  This assessment task addresses subject learning objective(s): 1, 2, 3, 5 and 6  This assessment task contributes to the development of course intended learning outcome(s): D.1 and E.1   \\nType: | Examination  \\nGroupwork: | Individual  \\nWeight: |  40%   \\nLength: | Allow 2 Hours to complete the exam. Additional time will be allocated to download questions and upload solutions.  \\nCriteria: | Students will be assessed on:\\n\\n  1. Correct choice and use of problem solving strategies\\n  2. Ability to generate correct quantitative solutions to unseen problems\\n  3. Clear communication of how they arrived at the solution\\n\\n### Minimum requirements\\n\\nTo pass the subject, students must achieve at least 50% after all assessments\\nand at least 50% for the final exam. A student who receives less than 50% for\\nthe examination, yet manages to achieve 50% or greater overall, will be\\nawarded an X grade.\\n\\n### Required texts\\n\\nThere is no required text for this subject - all information can be found in\\nthe lecture notes, recordings, and online notes as well as the solutions to\\nthe Tutorial problems. For additional explanations and practice problems we\\nrecommend the texbook :Calculus: International metric edition\" by Stewart.\\n\\n### Recommended texts\\n\\nStewart, J. _Calculus, International Metric Version, 8th Edition_ (Cole\\nCengage).\\n\\nWorking questions from this textbook (or similar texts) will build your skills\\nand your confidence in this subject.\\n\\nThe following is the former textbook in this subject and can also be used:\\n\\nStewart, J. _Calculus: Concepts & Contexts_, _Metric International Edition_\\nThomson. (Or Brooks/Cole Cengage).  \\n(The 4th or 5th Edition).\\n\\n### References\\n\\nOther good books on 1st year mathematics for scientists and engineers are:\\n\\nKreyszig, _Advanced Engineering Mathematics._ Any Edition\\n\\nJames, G. (2008). _Modern Engineering Mathematics._ 4th Edition. Pearson.\\n\\nWashington,A.J., _BasicTechnical Mathematics with Calculus_ , any edition\\n\\nFitz-Gerald, G.F., Peckham, I.A., _Mathematical methods for engineers and\\nscientists_ , 4th edition\\n',\n",
       " 'requisites': [],\n",
       " 'antirequisites': [[{'subjectId': '33190',\n",
       "    'subjectName': 'Mathematical Modelling for Science'}],\n",
       "  [{'subjectId': '35101',\n",
       "    'subjectName': 'Introduction to Linear Dynamical Systems'}],\n",
       "  [{'subjectId': '37131',\n",
       "    'subjectName': 'Introduction to Linear Dynamical Systems'}],\n",
       "  [{'subjectId': 'Spks', 'subjectName': 'Between C10154 and C10158'}]]}"
      ]
     },
     "execution_count": 564,
     "metadata": {},
     "output_type": "execute_result"
    }
   ],
   "source": [
    "get_subject(\"33130\", test_file)"
   ]
  },
  {
   "cell_type": "code",
   "execution_count": 565,
   "metadata": {},
   "outputs": [
    {
     "data": {
      "text/plain": [
       "{'_id': '33230',\n",
       " 'name': 'Mathematics 2',\n",
       " 'sessions': ['AUTUMN'],\n",
       " 'creditPoints': 6,\n",
       " 'resultType': 'Grade and marks',\n",
       " 'content': '### Description\\n\\nThis subject consists of two parts: multivariate calculus and an introduction\\nto statistics. The mathematical part develops the mathematical skills required\\nfor mathematical modelling of systems involving more than one independent\\nvariable. The statistics part is an introduction to descriptive statistics,\\nstatistical inference and simple linear regression. Topics include linear\\nalgebra, solutions to sets of equations resulting from particular problems,\\neigenvectors and eigenvalues, partial derivatives, optimisation, multiple\\nintegrals and their applications, and probability with a focus on the\\ndetermination of the reliability of a system of components in various\\nengineering contexts.\\n\\n### Subject learning objectives (SLOs)\\n\\nUpon successful completion of this subject students should be able to:\\n\\n1.  model real world problems in engineering practice using mathematical and statistical tools and resources\\n2.  use formal mathematical and statistical terminology and also informal (lay) language to express the concepts presented in the subject\\n3.  demonstrate a high level of skill in the mathematical and statistical techniques covered in the subject by both formulating and solving problems in engineering and science\\n4.  demonstrate understanding of the theoretical results which justify the use of these techniques\\n5.  communicate mathematical and statistical knowledge clearly, logically and critically\\n6.  use appropriate mathematical and statistical software packages to perform calculations and explore ideas relevant to the subject content\\n7.  apply the subject matter covered in lectures, computer labs, tutorials and assignments to previously unseen problems and proofs, especially in engineering and science.\\n\\n### Course intended learning outcomes (CILOs)\\n\\nThis subject also contributes specifically to the development of following\\ncourse intended learning outcomes:\\n\\n  * Technically Proficient: FEIT graduates apply abstraction, mathematics and discipline fundamentals, software, tools and techniques to evaluate, implement and operate systems. (D.1)\\n  * Collaborative and Communicative: FEIT graduates work as an effective member or leader of diverse teams, communicating effectively and operating within cross-disciplinary and cross-cultural contexts in the workplace. (E.1)\\n\\n### Contribution to the development of graduate attributes\\n\\n**Engineers Australia Stage 1 Competencies** This subject contributes to the\\ndevelopment of the following Engineers Australia Stage 1 Competencies:\\n\\n  * 1.2 Conceptual understanding of the mathematics, numerical analysis, statistics, and computer and information sciences which underpin the engineering discipline.\\n  * 3.2. Effective oral and written communication in professional and lay domains.\\n\\n**Faculty of Science Graduate Attributes:** _Graduate Attribute 1 -\\nDisciplinary knowledge_ An understanding of the nature, practice & application\\nof the chosen science discipline, _Graduate Attribute 2 - Research, inquiry\\nand critical thinking_ An understanding of the scientific method of knowledge\\nacquisition. Encompasses problem solving, critical thinking and analysis\\nattributes, and the ability to discover new understandings. _Graduate\\nAttribute_ _3 - Professional, ethical and social responsibility_  \\nThe ability to acquire, develop, employ and integrate a range of technical,\\npractical and professional skills, in appropriate and ethical ways within a\\nprofessional context, autonomously and collaboratively and across a range of\\ndisciplinary and professional areas. Time management skills, personal\\norganisation skills, teamwork skills, computing skills, laboratory skills,\\ndata handling, quantitative and graphical literacy skills. _Graduate Attribute\\n5 - Communication_ An understanding of the different forms of communication -\\nwriting, reading, speaking, listening - including visual and graphical, within\\nscience and beyond and the ability to apply these appropriately and\\neffectively for different audiences.\\n\\n### Teaching and learning strategies\\n\\n**Lectures:** Two 90 minute lectures per week Lecture materials including\\ndetailed notes are provided in Canvas for students to read before the class.\\nConcepts and definitions are explored through the use of both pure and applied\\nexamples. Students have the opportunity to make notes and question concepts.\\n**Tutorials:** One one-hour tutorial per week Students are required to attempt\\nproblems posted in Canvas before they come to the tutorial. These problems\\ndevelop the concepts delivered in the previous lecture. In class students can\\nask questions about areas they don\\'t understand with either their peers or\\ntheir tutors. **Computer labs:** Three one-hour computer labs and eight\\nmastery test sessions (four tests with a second chance sitting) Students work\\nin the computer labs individually and in pairs. There is a problem sheet made\\navailable in Canvas which students use to prepare before they come to the lab.\\nDuring the class students interact with the tutors and other students to\\ncomplete the problems. The three labs make use of a program called minitab.\\nThis practice allows students the opportunity to get feedback in preparation\\nfor the Mastery Tests. The Mastery Tests are interspersed between the computer\\nlabs. The material covered in the computer lab relates to the subsequent\\nMastery tests. After each test submission students get immediate feedback on\\ncorrect or incorrect responses. The maths study centre is then available as a\\nsupport mechanism for students to get feedback on incorrect responses and work\\nthrough correct solutions. The subject coordinator will offer further feedback\\nas a third step. Webassign is the program used for practice tests. These can\\nbe accessed online by students at any time during the semester and students\\nreceive immediate feedback after each question is submitted. These questions\\ncover all of the subject materials. _Forms of attendance in this subject\\nonline flexible. There will be subject announcements indicating opportunities\\nto attend campus, alternatively all activities can be completed online._\\n\\n### Content (topics)\\n\\nTopics include: linear algebra including eigenvalues and eigenvectors and\\napplications; 3D geometry and functions of several variables; partial\\nderivatives; optimisation; multiple integrals and their applications;\\nprobability with a focus on the determination of the reliability of a system\\nof components in various engineering contexts; descriptive statistics,\\nprobability distributions, statistical inference, introduction to linear\\nregression. Minitab is used in the statistics part of the subject. Other\\nsoftware will be used as appropriate.\\n\\n### Assessment\\n\\n#### Assessment task 1: Mastery Test 1\\n\\n| Intent: | To reaffirm required knowledge for success in 33230, and to become acquainted with the mastery process. This assessment task contributes to the development of the following science graduate attributes: 1\\\\. disciplinary knowledge  Mastery Tests targets _Problem posing and solving - ability to identify, assess and formulate problems relevant to one\\'s academic discipline and apply appropriate approaches and methods of problem solving._  \\n---|---  \\nObjective(s): |  This assessment task addresses subject learning objective(s): 2  This assessment task contributes to the development of course intended learning outcome(s): D.1   \\nGroupwork: | Individual  \\nWeight: |  5%   \\nLength: | 50 min  \\nCriteria: | Correct interpretation of terminology, Correct choice of problem solving strategies and procedures. Correct choice of reasoning.  \\n  \\n#### Assessment task 2: Mastery Test 2\\n\\nIntent: | To provide feedback on basic skills and concepts in the material covered in weeks 1-3 of the statistics strand and weeks 1-2 of the mathematics strand. This assessment task contributes to the development of the following science graduate attributes: 1\\\\. disciplinary knowledge  \\n---|---  \\nObjective(s): |  This assessment task addresses subject learning objective(s): 2, 3, 6 and 7  This assessment task contributes to the development of course intended learning outcome(s): D.1   \\nGroupwork: | Individual  \\nWeight: |  15%   \\nLength: | 50 min  \\nCriteria: | Correct use of terminology  \\nCorrect choice and use of problem solving strategies and procedures  \\nAccurate mathematical reasoning  \\n  \\n#### Assessment task 3: Mastery Test 3\\n\\nIntent: | To provide feedback on basic skills and concepts in the material covered in weeks 4-6 of the statistics strand and weeks 3-6 of the mathematics strand. This assessment task contributes to the development of the following science graduate attributes: 1\\\\. disciplinary knowledge  \\n---|---  \\nObjective(s): |  This assessment task addresses subject learning objective(s): 2, 3, 6 and 7  This assessment task contributes to the development of course intended learning outcome(s): D.1   \\nGroupwork: | Individual  \\nWeight: |  15%   \\nLength: | 50 min  \\nCriteria: | Correct interpretation of terminology, Correct choice of problem solving strategies and procedures. Correct choice of reasoning.  \\n  \\n#### Assessment task 4: Mastery Test 4\\n\\nIntent: | To provide feedback on basic skills and concepts in the material covered in weeks 7-9 of the statistics strand and weeks 7-10 of the mathematics strand. This assessment task contributes to the development of the following science graduate attributes: 1\\\\. disciplinary knowledge  \\n---|---  \\nObjective(s): |  This assessment task addresses subject learning objective(s): 2, 3, 6 and 7  This assessment task contributes to the development of course intended learning outcome(s): D.1   \\nGroupwork: | Individual  \\nWeight: |  15%   \\nLength: | 50 min  \\nCriteria: | Correct interpretation of terminology, Correct choice of problem solving strategies and procedures. Correct choice of reasoning.  \\n  \\n#### Assessment task 5: Final Exam\\n\\nIntent: | To comprehensively assess more advanced material across the subject, including material taken from all of the lectures in both the statistics and mathematics strands. This assessment task contributes to the development of the following graduate attributes: 1\\\\. Disciplinary Knowledge 2\\\\. Research, inquiry and critical thinking 3\\\\. Professional, ethical and social responsibility 5\\\\. Communication  \\n---|---  \\nObjective(s): |  This assessment task addresses subject learning objective(s): 1, 2, 3, 4, 5 and 7  This assessment task contributes to the development of course intended learning outcome(s): D.1 and E.1   \\nGroupwork: | Individual  \\nWeight: |  50%   \\nLength: | 2 hours plus 10 minutes reading time  \\nCriteria: | Correct use of terminology Correct choice and use of problem solving strategies and procedures Accurate Mathematical Reasoning Clarity of communication  \\n  \\n### Minimum requirements\\n\\nStudents must achieve 50% in the final examination in order to pass the\\nsubject. A student who receives less than 50% for the examination, yet manages\\nto achieve 50% or greater overall, will be awarded an X grade.\\n\\n### Recommended texts\\n\\nDevore, Jay (2014) _Probability and Statistics for Engineering and the\\nSciences Ninth Edition_ Cengage.\\n\\nStewart: \"Calculus, Concepts and Contexts\", 4e (2010), Cengage.\\n\\n### References\\n\\nMathematics:\\n\\nMcLelland, G. J. (1999) An Introduction to Matrices, Determinants and Linear\\nEquations.  \\nDepartment of Mathematical Sciences, UTS. (available on UTS Online)\\n\\nStatistics:  \\nMontgomery, D. C., Runger, G. C. & Hubele, N. F. (2011) Engineering\\nStatistics, 5th edition, Wiley.\\n\\n### Other resources\\n\\nStudents are encouraged to make use of the collection of online videos made\\navailable on Canvas, as well as practise quizzes and weekly homework exercises\\non Webassign.\\n\\n**U:PASS**\\n\\n(UTS Peer Assisted Study Success) is a voluntary \"study session\" where you\\nwill be studying the subject with other students in a group. It is led by a\\nstudent who has previously achieved a distinction or high distinction in the\\nsubject area, and who has a good WAM. Leaders will prepare activities for you\\nto work on in groups based on the content you are learning in lectures and\\ntutorials. It\\'s really relaxed, friendly, and informal. Because the leader is\\na student just like you, they understand what it\\'s like to study the subject\\nand how to do well, and they can pass those tips along to you. Students also\\nsay it\\'s a great way to meet new people and a \"guaranteed study hour\".\\n\\nYou can sign up for U:PASS sessions via U:PASS website\\n<http://tinyurl.com/upass2017> Note that sign up is not open until week 2, as\\nit\\'s voluntary and only students who want to go should sign up. If you have\\nany questions or concerns about U:PASS, please contact Georgina at\\n[upass@uts.edu.au](mailto:upass@uts.edu.au), or check out the website.\\n',\n",
       " 'requisites': [],\n",
       " 'antirequisites': [[{'subjectId': '33290',\n",
       "    'subjectName': 'Statistics and Mathematics for Science'}],\n",
       "  [{'subjectId': '35101',\n",
       "    'subjectName': 'Introduction to Linear Dynamical Systems'}],\n",
       "  [{'subjectId': '35102',\n",
       "    'subjectName': 'Introduction to Analysis and Multivariable Calculus'}],\n",
       "  [{'subjectId': '35151', 'subjectName': 'Introduction to Statistics'}],\n",
       "  [{'subjectId': '37132',\n",
       "    'subjectName': 'Introduction to Mathematical Analysis and Modelling'}],\n",
       "  [{'subjectId': 'Spks', 'subjectName': 'Between C10154 and C10158'}]]}"
      ]
     },
     "execution_count": 565,
     "metadata": {},
     "output_type": "execute_result"
    }
   ],
   "source": [
    "get_subject(\"33230\", test_file_2)"
   ]
  },
  {
   "cell_type": "code",
   "execution_count": 566,
   "metadata": {},
   "outputs": [
    {
     "data": {
      "application/vnd.jupyter.widget-view+json": {
       "model_id": "f02980c3c64149299f3e6ba9d455dafe",
       "version_major": 2,
       "version_minor": 0
      },
      "text/plain": [
       "  0%|          | 0/265 [00:00<?, ?it/s]"
      ]
     },
     "metadata": {},
     "output_type": "display_data"
    }
   ],
   "source": [
    "subjects = []\n",
    "files = os.listdir(\"./subjects_cleaned/markdown\")\n",
    "\n",
    "for filename in tqdm(files, total=len(files)):\n",
    "    if filename.endswith(\".md\"):\n",
    "        subject_code = filename.replace(\".md\", \"\")\n",
    "        text = read_file(f\"./subjects_cleaned/markdown/{filename}\")\n",
    "        subjects.append(get_subject(subject_code, text))"
   ]
  },
  {
   "cell_type": "code",
   "execution_count": 567,
   "metadata": {},
   "outputs": [],
   "source": [
    "with open(\"./subjects_cleaned/subjects.json\", \"w\") as f:\n",
    "    json.dump(subjects, f, indent=2)"
   ]
  }
 ],
 "metadata": {
  "kernelspec": {
   "display_name": "py310",
   "language": "python",
   "name": "python3"
  },
  "language_info": {
   "codemirror_mode": {
    "name": "ipython",
    "version": 3
   },
   "file_extension": ".py",
   "mimetype": "text/x-python",
   "name": "python",
   "nbconvert_exporter": "python",
   "pygments_lexer": "ipython3",
   "version": "3.10.13"
  }
 },
 "nbformat": 4,
 "nbformat_minor": 2
}
