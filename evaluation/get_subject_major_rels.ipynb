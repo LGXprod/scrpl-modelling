{
 "cells": [
  {
   "cell_type": "code",
   "execution_count": 1,
   "metadata": {},
   "outputs": [],
   "source": [
    "import os\n",
    "import json\n",
    "\n",
    "from bs4 import BeautifulSoup"
   ]
  },
  {
   "cell_type": "code",
   "execution_count": 2,
   "metadata": {},
   "outputs": [],
   "source": [
    "uni_major_to_major_name = {\n",
    "    \"uts\": {},\n",
    "    \"usyd\": {\n",
    "        \"Computational Data Science\": \"Computational Data Science\",\n",
    "        \"Computer Science\": \"Computer Science\",\n",
    "        \"Cyber Security\": \"Cyber Security\",\n",
    "        \"Software Development\": \"Software Development\",\n",
    "    },\n",
    "}"
   ]
  },
  {
   "cell_type": "code",
   "execution_count": 3,
   "metadata": {},
   "outputs": [],
   "source": [
    "major_id_to_soup = {\n",
    "    \"uts\": {},\n",
    "    \"usyd\": {},\n",
    "}"
   ]
  },
  {
   "cell_type": "code",
   "execution_count": 4,
   "metadata": {},
   "outputs": [],
   "source": [
    "for file in os.listdir(\"./data/major_pages/uts\"):\n",
    "    if file.endswith(\".html\"):\n",
    "        with open(f\"./data/major_pages/uts/{file}\", \"r\") as f:\n",
    "            major_page = f.read()\n",
    "            soup = BeautifulSoup(major_page, \"html.parser\")\n",
    "            title = soup.find(\"h1\").text\n",
    "            \n",
    "            major_id = title.split(\" \")[0]\n",
    "            major_name = title.replace(major_id, \"\").strip()\n",
    "            \n",
    "            major_id_to_soup[\"uts\"][major_id] = soup\n",
    "            \n",
    "            uni_major_to_major_name[\"uts\"][major_id] = major_name"
   ]
  },
  {
   "cell_type": "code",
   "execution_count": 5,
   "metadata": {},
   "outputs": [],
   "source": [
    "for file in os.listdir(\"./data/major_pages/usyd\"):\n",
    "    if file.endswith(\".html\"):\n",
    "        with open(f\"./data/major_pages/usyd/{file}\", \"r\") as f:\n",
    "            major_page = f.read()\n",
    "            soup = BeautifulSoup(major_page, \"html.parser\")\n",
    "            \n",
    "            major_id = file.split(\"-\")[0].strip()\n",
    "            major_id_to_soup[\"usyd\"][major_id] = soup"
   ]
  },
  {
   "cell_type": "code",
   "execution_count": 6,
   "metadata": {},
   "outputs": [],
   "source": [
    "with open(\"./data/degree_subject_codes/uni_degree_subjects.json\", \"r\") as f:\n",
    "    uni_degree_subjects = json.load(f)"
   ]
  },
  {
   "cell_type": "code",
   "execution_count": 7,
   "metadata": {},
   "outputs": [],
   "source": [
    "uts_computer_science_subjects = uni_degree_subjects[0][1][\"c09119\"]\n",
    "usyd_computer_science_subjects = uni_degree_subjects[1][1][\"advanced_computing_table\"]"
   ]
  },
  {
   "cell_type": "code",
   "execution_count": 8,
   "metadata": {},
   "outputs": [],
   "source": [
    "uts_subject_to_majors = {}\n",
    "\n",
    "for subject_code in uts_computer_science_subjects:\n",
    "    if subject_code not in uts_subject_to_majors:\n",
    "        uts_subject_to_majors[subject_code] = []\n",
    "        \n",
    "    for major_id, major_soup in major_id_to_soup[\"uts\"].items():\n",
    "        for link in major_soup.find_all(\"a\"):\n",
    "            if subject_code in link.text:\n",
    "                uts_subject_to_majors[subject_code].append(major_id)"
   ]
  },
  {
   "cell_type": "code",
   "execution_count": 9,
   "metadata": {},
   "outputs": [],
   "source": [
    "def is_usyd_subject_code(text: str) -> bool:\n",
    "    if len(text) != 8:\n",
    "        return False\n",
    "      \n",
    "    if text[4:].isnumeric():\n",
    "        return True"
   ]
  },
  {
   "cell_type": "code",
   "execution_count": 10,
   "metadata": {},
   "outputs": [],
   "source": [
    "usyd_subject_to_majors = {}\n",
    "\n",
    "for subject_code in usyd_computer_science_subjects:\n",
    "    if subject_code not in usyd_subject_to_majors:\n",
    "        usyd_subject_to_majors[subject_code] = []\n",
    "\n",
    "    for major_id, major_soup in major_id_to_soup[\"usyd\"].items():\n",
    "        for strong in major_soup.find_all(\"strong\"):\n",
    "            link = strong.find(\"a\")\n",
    "            \n",
    "            if not link:\n",
    "                continue\n",
    "            \n",
    "            if not is_usyd_subject_code(link.text):\n",
    "                continue\n",
    "            \n",
    "            if subject_code in link.text:\n",
    "                usyd_subject_to_majors[subject_code].append(major_id)"
   ]
  },
  {
   "cell_type": "code",
   "execution_count": 11,
   "metadata": {},
   "outputs": [
    {
     "name": "stdout",
     "output_type": "stream",
     "text": [
      "Percentage of USYD subjects with 1 or more majors: 0.1522633744855967\n"
     ]
    }
   ],
   "source": [
    "print(\n",
    "    \"Percentage of USYD subjects with 1 or more majors:\",\n",
    "    len([x for x in usyd_subject_to_majors.items() if len(x[1]) >= 1])\n",
    "    / len(usyd_computer_science_subjects),\n",
    ")"
   ]
  },
  {
   "cell_type": "code",
   "execution_count": 12,
   "metadata": {},
   "outputs": [
    {
     "name": "stdout",
     "output_type": "stream",
     "text": [
      "Percentage of UTS subjects with 1 or more majors: 0.7857142857142857\n"
     ]
    }
   ],
   "source": [
    "print(\n",
    "    \"Percentage of UTS subjects with 1 or more majors:\",\n",
    "    len([x for x in uts_subject_to_majors.items() if len(x[1]) >= 1])\n",
    "    / len(uts_subject_to_majors),\n",
    ")"
   ]
  },
  {
   "cell_type": "markdown",
   "metadata": {},
   "source": [
    "## Verifying all USYD Computer Science Subjects have been Scraped\n",
    "\n",
    "The reason for the low percentage of USYD subjects is mainly because there exist far more only-core subjects than major subjects.\n",
    "\n",
    "Another reason is that there is a small number of non-Computer Science subjects included in the USYD dataset as subject codes for requisites and anti-requisites were scraped (which may not necessarily be from Computer Science)."
   ]
  },
  {
   "cell_type": "code",
   "execution_count": 13,
   "metadata": {},
   "outputs": [],
   "source": [
    "major_frequency = {}\n",
    "\n",
    "for subject_code, majors in usyd_subject_to_majors.items():\n",
    "    for major in majors:\n",
    "        if major not in major_frequency:\n",
    "            major_frequency[major] = 0\n",
    "        major_frequency[major] += 1"
   ]
  },
  {
   "cell_type": "code",
   "execution_count": 14,
   "metadata": {},
   "outputs": [
    {
     "data": {
      "text/plain": [
       "{'Computational Data Science': 18,\n",
       " 'Computer Science': 26,\n",
       " 'Cybersecurity': 11,\n",
       " 'Software Development': 12}"
      ]
     },
     "execution_count": 14,
     "metadata": {},
     "output_type": "execute_result"
    }
   ],
   "source": [
    "major_frequency"
   ]
  },
  {
   "cell_type": "code",
   "execution_count": 15,
   "metadata": {},
   "outputs": [
    {
     "data": {
      "text/plain": [
       "{'Computational Data Science': 0,\n",
       " 'Computer Science': 0,\n",
       " 'Cybersecurity': 0,\n",
       " 'Software Development': 0}"
      ]
     },
     "execution_count": 15,
     "metadata": {},
     "output_type": "execute_result"
    }
   ],
   "source": [
    "usyd_num_non_core_subjects = {}\n",
    "\n",
    "for major_id, major_soup in major_id_to_soup[\"usyd\"].items():\n",
    "    usyd_num_non_core_subjects[major_id] = 0\n",
    "    \n",
    "    for strong in major_soup.find_all(\"strong\"):\n",
    "        link = strong.find(\"a\")\n",
    "        \n",
    "        if not link:\n",
    "            continue\n",
    "        \n",
    "        if not is_usyd_subject_code(link.text):\n",
    "            continue\n",
    "        \n",
    "        if link.text not in usyd_computer_science_subjects:\n",
    "            usyd_num_non_core_subjects[major_id] += 1\n",
    "\n",
    "usyd_num_non_core_subjects"
   ]
  },
  {
   "cell_type": "markdown",
   "metadata": {},
   "source": [
    "## Creating a Major Equivalents Dictionary\n",
    "\n",
    "Needs to be unidirectional so I manually created on direction and automated the other based on it."
   ]
  },
  {
   "cell_type": "code",
   "execution_count": 16,
   "metadata": {},
   "outputs": [],
   "source": [
    "uni_major_equivalents = {\n",
    "    \"MAJ10053\": [\"Computational Data Science\"],\n",
    "    \"MAJ01156\": [\"Computational Data Science\"],\n",
    "    \"MAJ02900\": [\"Cyber Security\"],\n",
    "    \"MAJ03445\": [\"Cyber Security\"],\n",
    "    \"MAJ03519\": [\"Software Development\"],\n",
    "    \"MAJ02080\": [\"Software Development\"],\n",
    "    \"MAJ02901\": [],\n",
    "    \"MAJ02092\": [],\n",
    "}"
   ]
  },
  {
   "cell_type": "code",
   "execution_count": 17,
   "metadata": {},
   "outputs": [],
   "source": [
    "usyd_to_uts_majors = {}\n",
    "\n",
    "for uts_major, usyd_majors in uni_major_equivalents.items():\n",
    "  for usyd_major in usyd_majors:\n",
    "    if usyd_major not in usyd_to_uts_majors:\n",
    "      usyd_to_uts_majors[usyd_major] = []\n",
    "      \n",
    "    usyd_to_uts_majors[usyd_major].append(uts_major)"
   ]
  },
  {
   "cell_type": "code",
   "execution_count": 18,
   "metadata": {},
   "outputs": [
    {
     "data": {
      "text/plain": [
       "{'MAJ10053': ['Computational Data Science'],\n",
       " 'MAJ01156': ['Computational Data Science'],\n",
       " 'MAJ02900': ['Cyber Security'],\n",
       " 'MAJ03445': ['Cyber Security'],\n",
       " 'MAJ03519': ['Software Development'],\n",
       " 'MAJ02080': ['Software Development'],\n",
       " 'MAJ02901': [],\n",
       " 'MAJ02092': [],\n",
       " 'Computational Data Science': ['MAJ10053', 'MAJ01156'],\n",
       " 'Cyber Security': ['MAJ02900', 'MAJ03445'],\n",
       " 'Software Development': ['MAJ03519', 'MAJ02080']}"
      ]
     },
     "execution_count": 18,
     "metadata": {},
     "output_type": "execute_result"
    }
   ],
   "source": [
    "uni_major_equivalents = { **uni_major_equivalents, **usyd_to_uts_majors }\n",
    "uni_major_equivalents"
   ]
  },
  {
   "cell_type": "code",
   "execution_count": 19,
   "metadata": {},
   "outputs": [],
   "source": [
    "os.makedirs(\"./data/major_rels\", exist_ok=True)"
   ]
  },
  {
   "cell_type": "code",
   "execution_count": 20,
   "metadata": {},
   "outputs": [],
   "source": [
    "with open(\"./data/major_rels/usyd_subject_to_majors.json\", \"w\") as f:\n",
    "    json.dump(usyd_subject_to_majors, f)"
   ]
  },
  {
   "cell_type": "code",
   "execution_count": 21,
   "metadata": {},
   "outputs": [],
   "source": [
    "with open(\"./data/major_rels/uts_subject_to_majors.json\", \"w\") as f:\n",
    "    json.dump(uts_subject_to_majors, f)"
   ]
  },
  {
   "cell_type": "code",
   "execution_count": 22,
   "metadata": {},
   "outputs": [],
   "source": [
    "with open(\"./data/major_rels/uni_major_equivalents.json\", \"w\") as f:\n",
    "    json.dump(uni_major_equivalents, f)"
   ]
  }
 ],
 "metadata": {
  "kernelspec": {
   "display_name": "py310",
   "language": "python",
   "name": "python3"
  },
  "language_info": {
   "codemirror_mode": {
    "name": "ipython",
    "version": 3
   },
   "file_extension": ".py",
   "mimetype": "text/x-python",
   "name": "python",
   "nbconvert_exporter": "python",
   "pygments_lexer": "ipython3",
   "version": "3.10.13"
  }
 },
 "nbformat": 4,
 "nbformat_minor": 2
}
