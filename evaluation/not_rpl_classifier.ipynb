{
 "cells": [
  {
   "cell_type": "code",
   "execution_count": 10,
   "metadata": {},
   "outputs": [],
   "source": [
    "import os\n",
    "import json\n",
    "\n",
    "import pandas as pd\n",
    "from tqdm.notebook import tqdm\n",
    "from sklearn.ensemble import RandomForestClassifier\n",
    "from sklearn.model_selection import train_test_split\n",
    "from sklearn.metrics import classification_report, recall_score, precision_score"
   ]
  },
  {
   "cell_type": "code",
   "execution_count": 11,
   "metadata": {},
   "outputs": [],
   "source": [
    "with open(\"./data/degree_subject_codes/subject_to_degrees.json\") as f:\n",
    "    subject_to_degrees = json.load(f)"
   ]
  },
  {
   "cell_type": "code",
   "execution_count": 12,
   "metadata": {},
   "outputs": [],
   "source": [
    "with open(\"./data/degree_subject_codes/subject_to_min_year.json\") as f:\n",
    "    subject_to_min_year = json.load(f)"
   ]
  },
  {
   "cell_type": "code",
   "execution_count": 13,
   "metadata": {},
   "outputs": [],
   "source": [
    "with open(\"./data/major_rels/subject_to_majors.json\") as f:\n",
    "    subject_to_majors = json.load(f)"
   ]
  },
  {
   "cell_type": "code",
   "execution_count": 14,
   "metadata": {},
   "outputs": [],
   "source": [
    "uts_to_usyd_major = {\n",
    "  \"Biomedical Engineering\": \"Biomedical\",\n",
    "  \"Civil Engineering\": \"Civil\",\n",
    "  \"Electrical Engineering\": \"Electrical\",\n",
    "  \"Electronic Engineering\": \"Electrical\",\n",
    "  \"Mechanical Engineering\": \"Mechanical\",\n",
    "  \"Mechatronic Engineering\": \"Mechatronic\",\n",
    "  \"Software Engineering\": \"Software\",\n",
    "  \"Civil and Environmental Engineering\": \"Civil\",\n",
    "  \"Mechanical and Mechatronic Engineering\": \"Mechatronic\",\n",
    "  \"Electrical and Electronic Engineering\": \"Electrical\",\n",
    "  \"Renewable Energy Engineering\": None,\n",
    "  \"Chemical Process Engineering\": None,\n",
    "  \"Data Science Engineering\": None,\n",
    "  \"Cybersecurity and Privacy\" : \"Cybersecurity\",\n",
    "  \"Enterprise Software Development\" : \"Software Development\",\n",
    "  \"Networking and Cybersecurity\" : \"Cybersecurity\",\n",
    "  \"Quantum Information Science\" : None,\n",
    "  \"Interaction Design\": None,\n",
    "  \"Mathematical Analysis\": None,\n",
    "  \"Business Information Systems Management\": None,\n",
    "  \"Artificial Intelligence and Data Analytics\": \"Computational Data Science\",\n",
    "}"
   ]
  },
  {
   "cell_type": "code",
   "execution_count": 15,
   "metadata": {},
   "outputs": [],
   "source": [
    "uts_comp_sci_codes = []\n",
    "usyd_comp_sci_codes = []\n",
    "\n",
    "uts_eng_codes = []\n",
    "usyd_eng_codes = []\n",
    "\n",
    "uts_nursing_codes = []\n",
    "usyd_nursing_codes = []\n",
    "\n",
    "for subject, degrees in subject_to_degrees.items():\n",
    "    if \"Bachelor of Computing Science (Honours)\" in degrees:\n",
    "        uts_comp_sci_codes.append(subject)\n",
    "        continue\n",
    "        \n",
    "    if \"Bachelor of Advanced Computing\" in degrees:\n",
    "        usyd_comp_sci_codes.append(subject)\n",
    "        continue\n",
    "      \n",
    "    if \"Bachelor of Engineering (Honours)\" in degrees:\n",
    "        if subject.isdigit():\n",
    "          uts_eng_codes.append(subject)\n",
    "        else:\n",
    "          usyd_eng_codes.append(subject)\n",
    "        continue\n",
    "      \n",
    "    if \"Bachelor of Nursing\" in degrees:\n",
    "        uts_nursing_codes.append(subject)\n",
    "        continue\n",
    "    \n",
    "    if \"Bachelor of Nursing (Advanced Studies)\" in degrees:\n",
    "        usyd_nursing_codes.append(subject)\n",
    "        continue"
   ]
  },
  {
   "cell_type": "code",
   "execution_count": 16,
   "metadata": {},
   "outputs": [],
   "source": [
    "def is_share_major(uts_majors, usyd_majors):\n",
    "    if len(uts_majors) == 0 or len(usyd_majors) == 0:\n",
    "        return True\n",
    "  \n",
    "    for uts_major in uts_majors:\n",
    "        if uts_to_usyd_major[uts_major] in usyd_majors:\n",
    "            return True\n",
    "\n",
    "    return False"
   ]
  },
  {
   "cell_type": "code",
   "execution_count": 17,
   "metadata": {},
   "outputs": [],
   "source": [
    "def get_non_rpl_subject_pairs(uts_degree_subject_codes, usyd_degree_subject_codes, is_major_criterion=True):\n",
    "  precedence_table = []\n",
    "  \n",
    "  for uts_subject_code in tqdm(uts_degree_subject_codes):\n",
    "    uts_min_year = subject_to_min_year.get(uts_subject_code, 10)\n",
    "    \n",
    "    if uts_min_year is None:\n",
    "      uts_min_year = 10\n",
    "    \n",
    "    uts_majors = subject_to_majors.get(uts_subject_code, [])\n",
    "  \n",
    "    for usyd_subject_code in usyd_degree_subject_codes:\n",
    "      usyd_min_year = subject_to_min_year.get(usyd_subject_code, -1)\n",
    "      usyd_majors = subject_to_majors.get(usyd_subject_code, [])\n",
    "      \n",
    "      is_equivalent = None\n",
    "      \n",
    "      if is_major_criterion:\n",
    "        is_equivalent = True if (uts_min_year <= usyd_min_year) and is_share_major(uts_majors, usyd_majors) else False\n",
    "      else:\n",
    "        is_equivalent = True if uts_min_year <= usyd_min_year else False\n",
    "      \n",
    "      precedence_table.append([uts_subject_code, usyd_subject_code, is_equivalent])\n",
    "      \n",
    "  non_rpl_subject_pairs_df = pd.DataFrame(precedence_table, columns=[\"uts_subject\", \"usyd_subject\", \"is_not_rpl\"])\n",
    "  return non_rpl_subject_pairs_df"
   ]
  },
  {
   "cell_type": "code",
   "execution_count": 18,
   "metadata": {},
   "outputs": [
    {
     "data": {
      "application/vnd.jupyter.widget-view+json": {
       "model_id": "6584fcce55cc4e79b1939f1d5136286d",
       "version_major": 2,
       "version_minor": 0
      },
      "text/plain": [
       "  0%|          | 0/104 [00:00<?, ?it/s]"
      ]
     },
     "metadata": {},
     "output_type": "display_data"
    },
    {
     "data": {
      "application/vnd.jupyter.widget-view+json": {
       "model_id": "5197cf73dd8245098f32d786078e0430",
       "version_major": 2,
       "version_minor": 0
      },
      "text/plain": [
       "  0%|          | 0/139 [00:00<?, ?it/s]"
      ]
     },
     "metadata": {},
     "output_type": "display_data"
    },
    {
     "data": {
      "application/vnd.jupyter.widget-view+json": {
       "model_id": "453c7e7d0693419d91d918085c9bb2b1",
       "version_major": 2,
       "version_minor": 0
      },
      "text/plain": [
       "  0%|          | 0/50 [00:00<?, ?it/s]"
      ]
     },
     "metadata": {},
     "output_type": "display_data"
    }
   ],
   "source": [
    "comp_non_rpl_subject_pairs = get_non_rpl_subject_pairs(uts_comp_sci_codes, usyd_comp_sci_codes)\n",
    "eng_non_rpl_subject_pairs = get_non_rpl_subject_pairs(uts_eng_codes, usyd_eng_codes)\n",
    "nursing_non_rpl_subject_pairs = get_non_rpl_subject_pairs(uts_nursing_codes, usyd_nursing_codes, is_major_criterion=False)"
   ]
  },
  {
   "cell_type": "code",
   "execution_count": 19,
   "metadata": {},
   "outputs": [
    {
     "data": {
      "text/html": [
       "<div>\n",
       "<style scoped>\n",
       "    .dataframe tbody tr th:only-of-type {\n",
       "        vertical-align: middle;\n",
       "    }\n",
       "\n",
       "    .dataframe tbody tr th {\n",
       "        vertical-align: top;\n",
       "    }\n",
       "\n",
       "    .dataframe thead th {\n",
       "        text-align: right;\n",
       "    }\n",
       "</style>\n",
       "<table border=\"1\" class=\"dataframe\">\n",
       "  <thead>\n",
       "    <tr style=\"text-align: right;\">\n",
       "      <th></th>\n",
       "      <th>uts_subject</th>\n",
       "      <th>usyd_subject</th>\n",
       "      <th>is_not_rpl</th>\n",
       "    </tr>\n",
       "  </thead>\n",
       "  <tbody>\n",
       "    <tr>\n",
       "      <th>0</th>\n",
       "      <td>33130</td>\n",
       "      <td>DATA1001</td>\n",
       "      <td>True</td>\n",
       "    </tr>\n",
       "    <tr>\n",
       "      <th>1</th>\n",
       "      <td>33130</td>\n",
       "      <td>DATA1901</td>\n",
       "      <td>True</td>\n",
       "    </tr>\n",
       "    <tr>\n",
       "      <th>2</th>\n",
       "      <td>33130</td>\n",
       "      <td>ELEC1601</td>\n",
       "      <td>True</td>\n",
       "    </tr>\n",
       "    <tr>\n",
       "      <th>3</th>\n",
       "      <td>33130</td>\n",
       "      <td>INFO1110</td>\n",
       "      <td>True</td>\n",
       "    </tr>\n",
       "    <tr>\n",
       "      <th>4</th>\n",
       "      <td>33130</td>\n",
       "      <td>INFO1111</td>\n",
       "      <td>True</td>\n",
       "    </tr>\n",
       "  </tbody>\n",
       "</table>\n",
       "</div>"
      ],
      "text/plain": [
       "  uts_subject usyd_subject  is_not_rpl\n",
       "0       33130     DATA1001        True\n",
       "1       33130     DATA1901        True\n",
       "2       33130     ELEC1601        True\n",
       "3       33130     INFO1110        True\n",
       "4       33130     INFO1111        True"
      ]
     },
     "execution_count": 19,
     "metadata": {},
     "output_type": "execute_result"
    }
   ],
   "source": [
    "comp_non_rpl_subject_pairs.head()"
   ]
  },
  {
   "cell_type": "code",
   "execution_count": 20,
   "metadata": {},
   "outputs": [
    {
     "name": "stdout",
     "output_type": "stream",
     "text": [
      "Number not-rpl comp pairs: 3611/11336 = 0.3185426958362738\n",
      "Number not-rpl eng pairs: 14517/32109 = 0.4521162290946464\n",
      "Number not-rpl nursing pairs: 880/1200 = 0.7333333333333333\n"
     ]
    }
   ],
   "source": [
    "print(\"Number not-rpl comp pairs:\", f'{len(comp_non_rpl_subject_pairs[comp_non_rpl_subject_pairs[\"is_not_rpl\"]])}/{len(comp_non_rpl_subject_pairs)}', \"=\", len(comp_non_rpl_subject_pairs[comp_non_rpl_subject_pairs[\"is_not_rpl\"]])/len(comp_non_rpl_subject_pairs))\n",
    "print(\"Number not-rpl eng pairs:\", f'{len(eng_non_rpl_subject_pairs[eng_non_rpl_subject_pairs[\"is_not_rpl\"]])}/{len(eng_non_rpl_subject_pairs)}', \"=\", len(eng_non_rpl_subject_pairs[eng_non_rpl_subject_pairs[\"is_not_rpl\"]])/len(eng_non_rpl_subject_pairs))\n",
    "print(\"Number not-rpl nursing pairs:\", f'{len(nursing_non_rpl_subject_pairs[nursing_non_rpl_subject_pairs[\"is_not_rpl\"]])}/{len(nursing_non_rpl_subject_pairs)}', \"=\", len(nursing_non_rpl_subject_pairs[nursing_non_rpl_subject_pairs[\"is_not_rpl\"]])/len(nursing_non_rpl_subject_pairs))"
   ]
  },
  {
   "cell_type": "code",
   "execution_count": 21,
   "metadata": {},
   "outputs": [],
   "source": [
    "subject_to_embedding = {}\n",
    "\n",
    "for uni in [\"uts\", \"usyd\"]:\n",
    "  for subject_filename in os.listdir(f\"./data/embeddings/{uni}/mxbai\"):\n",
    "    if not subject_filename.endswith(\".json\"):\n",
    "      continue\n",
    "    \n",
    "    with open(f\"./data/embeddings/{uni}/mxbai/{subject_filename}\") as f:\n",
    "      subject_to_embedding[subject_filename.replace(\".json\", \"\")] = json.load(f)"
   ]
  },
  {
   "cell_type": "code",
   "execution_count": 22,
   "metadata": {},
   "outputs": [],
   "source": [
    "subject_pair_embeddings = []\n",
    "\n",
    "for df in [comp_non_rpl_subject_pairs, eng_non_rpl_subject_pairs, nursing_non_rpl_subject_pairs]:\n",
    "  for _, row in df.iterrows():\n",
    "    uts_subject_code = row[\"uts_subject\"]\n",
    "    usyd_subject_code = row[\"usyd_subject\"]\n",
    "    \n",
    "    uts_subject_embedding = subject_to_embedding[uts_subject_code]\n",
    "    usyd_subject_embedding = subject_to_embedding[usyd_subject_code]\n",
    "    \n",
    "    subject_pair_embeddings.append(uts_subject_embedding + usyd_subject_embedding)"
   ]
  },
  {
   "cell_type": "code",
   "execution_count": 23,
   "metadata": {},
   "outputs": [],
   "source": [
    "is_not_rpl_vals = comp_non_rpl_subject_pairs[\"is_not_rpl\"].values.tolist() + eng_non_rpl_subject_pairs[\"is_not_rpl\"].values.tolist() + nursing_non_rpl_subject_pairs[\"is_not_rpl\"].values.tolist()"
   ]
  },
  {
   "cell_type": "code",
   "execution_count": 24,
   "metadata": {},
   "outputs": [
    {
     "name": "stdout",
     "output_type": "stream",
     "text": [
      "44645 44645\n"
     ]
    }
   ],
   "source": [
    "print(len(subject_pair_embeddings), len(is_not_rpl_vals))"
   ]
  },
  {
   "cell_type": "code",
   "execution_count": 25,
   "metadata": {},
   "outputs": [],
   "source": [
    "X_train, X_test, y_train, y_test = train_test_split(\n",
    "    subject_pair_embeddings, is_not_rpl_vals, test_size=0.2, random_state=42\n",
    ")"
   ]
  },
  {
   "cell_type": "code",
   "execution_count": 26,
   "metadata": {},
   "outputs": [],
   "source": [
    "clf = RandomForestClassifier(n_estimators=100)\n",
    "clf.fit(X_train, y_train)\n",
    "preds = clf.predict(X_test)\n",
    "probas = clf.predict_proba(X_test)"
   ]
  },
  {
   "cell_type": "code",
   "execution_count": 27,
   "metadata": {},
   "outputs": [
    {
     "name": "stdout",
     "output_type": "stream",
     "text": [
      "              precision    recall  f1-score   support\n",
      "\n",
      "       False       0.97      0.98      0.98      5178\n",
      "        True       0.98      0.95      0.97      3751\n",
      "\n",
      "    accuracy                           0.97      8929\n",
      "   macro avg       0.97      0.97      0.97      8929\n",
      "weighted avg       0.97      0.97      0.97      8929\n",
      "\n"
     ]
    }
   ],
   "source": [
    "report = classification_report(y_test, preds)\n",
    "print(report)"
   ]
  },
  {
   "cell_type": "code",
   "execution_count": 28,
   "metadata": {},
   "outputs": [
    {
     "data": {
      "text/plain": [
       "0.9541455611836843"
      ]
     },
     "execution_count": 28,
     "metadata": {},
     "output_type": "execute_result"
    }
   ],
   "source": [
    "recall_score(y_test, preds)"
   ]
  },
  {
   "cell_type": "code",
   "execution_count": 29,
   "metadata": {},
   "outputs": [
    {
     "data": {
      "text/plain": [
       "0.9762684124386252"
      ]
     },
     "execution_count": 29,
     "metadata": {},
     "output_type": "execute_result"
    }
   ],
   "source": [
    "precision_score(y_test, preds)"
   ]
  }
 ],
 "metadata": {
  "kernelspec": {
   "display_name": "py310",
   "language": "python",
   "name": "python3"
  },
  "language_info": {
   "codemirror_mode": {
    "name": "ipython",
    "version": 3
   },
   "file_extension": ".py",
   "mimetype": "text/x-python",
   "name": "python",
   "nbconvert_exporter": "python",
   "pygments_lexer": "ipython3",
   "version": "3.10.13"
  }
 },
 "nbformat": 4,
 "nbformat_minor": 2
}
