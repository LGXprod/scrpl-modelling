{
 "cells": [
  {
   "cell_type": "code",
   "execution_count": 32,
   "metadata": {},
   "outputs": [],
   "source": [
    "import os\n",
    "import json\n",
    "from typing import Literal\n",
    "\n",
    "from dotenv import dotenv_values\n",
    "import pandas as pd\n",
    "from bs4 import BeautifulSoup\n",
    "import plotly.express as px\n",
    "import weaviate\n",
    "import weaviate.classes as wvc\n",
    "from weaviate.classes.query import MetadataQuery, Filter"
   ]
  },
  {
   "cell_type": "code",
   "execution_count": 33,
   "metadata": {},
   "outputs": [],
   "source": [
    "config = dotenv_values(\"../.env\")"
   ]
  },
  {
   "cell_type": "code",
   "execution_count": 34,
   "metadata": {},
   "outputs": [
    {
     "name": "stderr",
     "output_type": "stream",
     "text": [
      "/var/folders/4l/8tynsjk14vg7p9s4qx1t_pb00000gn/T/ipykernel_97790/1153684440.py:1: ResourceWarning:\n",
      "\n",
      "unclosed <socket.socket fd=75, family=AddressFamily.AF_INET6, type=SocketKind.SOCK_STREAM, proto=6, laddr=('::1', 61700, 0, 0), raddr=('::1', 8080, 0, 0)>\n",
      "\n"
     ]
    }
   ],
   "source": [
    "client = weaviate.connect_to_custom(\n",
    "    http_host=\"localhost\",\n",
    "    http_port=8080,\n",
    "    http_secure=False,\n",
    "    grpc_host=\"localhost\",\n",
    "    grpc_port=50051,\n",
    "    grpc_secure=False,\n",
    "    auth_credentials=weaviate.auth.AuthApiKey(\n",
    "        config[\"AUTHENTICATION_APIKEY_ALLOWED_KEYS\"]\n",
    "    ),  # Set this environment variable\n",
    ")"
   ]
  },
  {
   "cell_type": "code",
   "execution_count": 35,
   "metadata": {},
   "outputs": [
    {
     "data": {
      "text/plain": [
       "['USYD_DOC2VEC_Subject',\n",
       " 'USYD_GLOVE_Subject',\n",
       " 'USYD_INSTRUCTOR_Subject',\n",
       " 'USYD_MXBAI_Subject',\n",
       " 'USYD_SBERT_Subject',\n",
       " 'UTS_DOC2VEC_Subject',\n",
       " 'UTS_GLOVE_Subject',\n",
       " 'UTS_INSTRUCTOR_Subject',\n",
       " 'UTS_MXBAI_Subject',\n",
       " 'UTS_SBERT_Subject']"
      ]
     },
     "execution_count": 35,
     "metadata": {},
     "output_type": "execute_result"
    }
   ],
   "source": [
    "collections = list(client.collections.list_all().keys())\n",
    "collections"
   ]
  },
  {
   "cell_type": "code",
   "execution_count": 36,
   "metadata": {},
   "outputs": [],
   "source": [
    "def get_similar_uts_subjects(\n",
    "    uts_subject_collection,\n",
    "    usyd_subject_vector: dict[str, list[float]],\n",
    "    num_subjects: int = 5,\n",
    "    degree: str | None = None\n",
    "):\n",
    "    if type(usyd_subject_vector) != list:\n",
    "        usyd_subject_vector = usyd_subject_vector[\"default\"]\n",
    "    \n",
    "    response = None\n",
    "    \n",
    "    if degree is not None:\n",
    "        response = uts_subject_collection.query.near_vector(\n",
    "            near_vector=usyd_subject_vector,\n",
    "            limit=num_subjects,\n",
    "            return_metadata=wvc.query.MetadataQuery(distance=True),\n",
    "            filters=Filter.by_property(\"degrees\").contains_any([degree])\n",
    "        )\n",
    "    else:\n",
    "        response = uts_subject_collection.query.near_vector(\n",
    "            near_vector=usyd_subject_vector,\n",
    "            limit=num_subjects,\n",
    "            return_metadata=wvc.query.MetadataQuery(distance=True)\n",
    "        )\n",
    "    \n",
    "    return [o.properties for o in response.objects]"
   ]
  },
  {
   "cell_type": "code",
   "execution_count": 37,
   "metadata": {},
   "outputs": [],
   "source": [
    "uts_to_usyd_major = {\n",
    "  \"Biomedical Engineering\": \"Biomedical\",\n",
    "  \"Civil Engineering\": \"Civil\",\n",
    "  \"Electrical Engineering\": \"Electrical\",\n",
    "  \"Electronic Engineering\": \"Electrical\",\n",
    "  \"Mechanical Engineering\": \"Mechanical\",\n",
    "  \"Mechatronic Engineering\": \"Mechatronic\",\n",
    "  \"Software Engineering\": \"Software\",\n",
    "  \"Civil and Environmental Engineering\": \"Civil\",\n",
    "  \"Mechanical and Mechatronic Engineering\": \"Mechatronic\",\n",
    "  \"Electrical and Electronic Engineering\": \"Electrical\",\n",
    "  \"Renewable Energy Engineering\": None,\n",
    "  \"Chemical Process Engineering\": None,\n",
    "  \"Data Science Engineering\": None,\n",
    "  \"Cybersecurity and Privacy\" : \"Cybersecurity\",\n",
    "  \"Enterprise Software Development\" : \"Software Development\",\n",
    "  \"Networking and Cybersecurity\" : \"Cybersecurity\",\n",
    "  \"Quantum Information Science\" : None,\n",
    "  \"Interaction Design\": None,\n",
    "  \"Mathematical Analysis\": None,\n",
    "  \"Business Information Systems Management\": None,\n",
    "  \"Artificial Intelligence and Data Analytics\": \"Computational Data Science\",\n",
    "}"
   ]
  },
  {
   "cell_type": "code",
   "execution_count": 38,
   "metadata": {},
   "outputs": [],
   "source": [
    "comp_majors = [\"Computational Data Science\", \"Cybersecurity\", \"Software Development\", \"Computer Science\"]"
   ]
  },
  {
   "cell_type": "code",
   "execution_count": 39,
   "metadata": {},
   "outputs": [],
   "source": [
    "with open(\"./data/major_rels/subject_to_majors.json\", \"r\") as f:\n",
    "    subject_to_majors = json.load(f)"
   ]
  },
  {
   "cell_type": "code",
   "execution_count": 40,
   "metadata": {},
   "outputs": [],
   "source": [
    "with open(\"./data/degree_subject_codes/subject_to_degrees.json\", \"r\") as f:\n",
    "    subject_to_degrees = json.load(f)"
   ]
  },
  {
   "cell_type": "code",
   "execution_count": 41,
   "metadata": {},
   "outputs": [],
   "source": [
    "num_majors = [len(majors) for majors in subject_to_majors.values()]"
   ]
  },
  {
   "cell_type": "code",
   "execution_count": 42,
   "metadata": {},
   "outputs": [
    {
     "data": {
      "application/vnd.plotly.v1+json": {
       "config": {
        "plotlyServerURL": "https://plot.ly"
       },
       "data": [
        {
         "alignmentgroup": "True",
         "bingroup": "x",
         "hovertemplate": "Number of Majors per Subject=%{x}<br>count=%{y}<extra></extra>",
         "legendgroup": "",
         "marker": {
          "color": "#636efa",
          "pattern": {
           "shape": ""
          }
         },
         "name": "",
         "offsetgroup": "",
         "orientation": "v",
         "showlegend": false,
         "type": "histogram",
         "x": [
          0,
          0,
          0,
          3,
          0,
          0,
          1,
          2,
          1,
          0,
          1,
          0,
          0,
          5,
          1,
          1,
          0,
          1,
          1,
          1,
          2,
          1,
          1,
          1,
          1,
          3,
          2,
          1,
          0,
          0,
          0,
          1,
          0,
          1,
          2,
          1,
          1,
          1,
          1,
          1,
          2,
          1,
          1,
          3,
          1,
          2,
          1,
          1,
          1,
          1,
          2,
          1,
          2,
          1,
          2,
          2,
          2,
          1,
          1,
          2,
          2,
          1,
          2,
          1,
          1,
          1,
          1,
          1,
          1,
          1,
          1,
          2,
          2,
          1,
          2,
          0,
          0,
          1,
          1,
          1,
          1,
          1,
          1,
          1,
          1,
          1,
          1,
          1,
          1,
          1,
          1,
          1,
          1,
          1,
          1,
          1,
          1,
          1,
          1,
          1,
          1,
          1,
          1,
          1,
          1,
          0,
          2,
          1,
          1,
          0,
          1,
          0,
          1,
          1,
          2,
          1,
          0,
          2,
          0,
          0,
          1,
          1,
          1,
          0,
          0,
          1,
          1,
          0,
          13,
          1,
          1,
          1,
          13,
          1,
          1,
          1,
          2,
          2,
          3,
          2,
          2,
          2,
          1,
          2,
          2,
          2,
          2,
          3,
          0,
          2,
          2,
          0,
          0,
          2,
          0,
          0,
          0,
          0,
          0,
          0,
          0,
          1,
          0,
          0,
          0,
          0,
          0,
          1,
          1,
          1,
          1,
          0,
          0,
          1,
          0,
          0,
          0,
          1,
          0,
          0,
          0,
          1,
          3,
          3,
          0,
          0,
          0,
          0,
          0,
          0,
          0,
          0,
          0,
          0,
          0,
          0,
          0,
          1,
          0,
          0,
          1,
          0,
          0,
          0,
          0,
          0,
          0,
          0,
          0,
          0,
          0,
          0,
          0,
          0,
          0,
          1,
          0,
          1,
          0,
          0,
          0,
          0,
          1,
          1,
          1,
          1,
          1,
          1,
          1,
          1,
          1,
          0,
          1,
          1,
          1,
          1,
          1,
          1,
          1,
          1,
          1,
          1,
          1,
          0,
          0,
          0,
          0,
          0,
          0,
          0,
          0,
          0,
          0,
          0,
          0,
          0,
          0,
          0,
          0,
          0,
          0,
          0,
          0,
          0,
          0,
          0,
          0,
          0,
          0,
          0,
          0,
          0,
          0,
          0,
          0,
          0,
          0,
          0,
          0,
          0,
          0,
          0,
          0,
          0,
          0,
          0,
          0,
          0,
          0,
          0,
          0,
          0,
          0,
          1,
          1,
          2,
          4,
          0,
          0,
          5,
          4,
          0,
          0,
          0,
          0,
          5,
          4,
          0,
          2,
          2,
          0,
          0,
          0,
          0,
          0,
          0,
          0,
          0,
          0,
          0,
          0,
          4,
          2,
          2,
          2,
          2,
          2,
          2,
          0,
          0,
          0,
          1,
          1,
          2,
          3,
          2,
          3,
          4,
          2,
          3,
          3,
          1,
          3,
          1,
          1,
          1,
          2,
          2,
          1,
          0,
          2,
          1,
          0,
          0,
          1,
          1,
          2,
          1,
          2,
          1,
          1,
          1,
          2,
          1,
          2,
          1,
          1,
          2,
          1,
          1,
          1,
          1,
          1,
          1,
          1,
          1,
          1,
          1,
          1,
          2,
          1,
          1,
          1,
          1,
          0,
          0,
          0,
          0,
          1,
          1,
          2,
          2,
          2,
          2,
          2,
          2,
          2,
          2,
          2,
          0,
          1,
          3,
          0,
          0,
          0,
          0,
          0,
          0,
          0,
          0,
          0,
          0,
          0,
          0,
          0,
          0,
          0,
          0,
          0,
          0,
          0,
          0,
          0,
          0,
          0,
          0,
          0,
          0,
          0,
          0,
          0,
          0,
          2,
          1,
          0,
          1,
          2,
          1,
          1,
          1,
          1,
          1,
          1,
          1,
          1,
          1,
          3,
          1,
          1,
          1,
          1,
          1,
          1,
          1,
          1,
          1,
          1,
          1,
          1,
          1,
          1,
          1,
          1,
          1,
          1,
          1,
          1,
          1,
          1,
          1,
          1,
          1,
          1,
          1,
          1,
          1,
          1,
          1,
          1,
          1,
          1,
          1,
          1,
          1,
          1,
          1,
          1,
          1,
          3,
          2,
          3,
          2,
          1,
          1,
          3,
          2,
          1,
          2,
          1,
          2,
          2,
          1,
          1,
          2,
          1,
          2,
          1,
          1,
          1,
          1,
          1,
          1,
          1,
          1,
          1,
          1,
          1,
          2,
          1,
          1,
          1,
          1,
          1,
          1,
          1,
          1,
          1,
          1,
          1,
          1,
          1,
          1,
          3,
          3,
          1,
          1,
          1,
          1,
          1,
          1,
          2,
          1,
          1,
          1,
          2,
          1,
          1,
          2,
          2,
          2,
          2,
          1,
          1,
          2,
          2,
          2,
          1,
          1,
          2,
          2,
          2,
          2,
          2,
          2,
          2,
          2,
          2,
          2,
          2,
          2,
          2,
          2,
          2,
          2,
          2,
          2,
          2,
          2,
          2,
          2,
          2,
          2,
          2,
          2,
          2,
          2,
          2,
          2,
          2,
          2,
          2,
          2,
          2,
          2,
          2,
          2,
          2,
          1,
          1,
          1,
          1,
          1,
          1,
          1,
          1,
          1,
          1,
          1,
          1,
          1,
          1,
          1,
          1,
          1,
          1,
          1,
          1,
          1,
          1,
          1,
          1,
          1,
          1,
          1,
          1,
          1,
          1,
          1,
          1,
          1,
          1,
          1,
          1,
          0,
          0,
          0,
          0,
          0,
          0,
          0,
          0,
          0,
          0,
          0,
          0,
          0,
          0,
          0,
          0,
          0,
          0,
          0,
          0,
          0,
          0,
          0,
          0
         ],
         "xaxis": "x",
         "yaxis": "y"
        }
       ],
       "layout": {
        "barmode": "relative",
        "legend": {
         "tracegroupgap": 0
        },
        "template": {
         "data": {
          "bar": [
           {
            "error_x": {
             "color": "#2a3f5f"
            },
            "error_y": {
             "color": "#2a3f5f"
            },
            "marker": {
             "line": {
              "color": "#E5ECF6",
              "width": 0.5
             },
             "pattern": {
              "fillmode": "overlay",
              "size": 10,
              "solidity": 0.2
             }
            },
            "type": "bar"
           }
          ],
          "barpolar": [
           {
            "marker": {
             "line": {
              "color": "#E5ECF6",
              "width": 0.5
             },
             "pattern": {
              "fillmode": "overlay",
              "size": 10,
              "solidity": 0.2
             }
            },
            "type": "barpolar"
           }
          ],
          "carpet": [
           {
            "aaxis": {
             "endlinecolor": "#2a3f5f",
             "gridcolor": "white",
             "linecolor": "white",
             "minorgridcolor": "white",
             "startlinecolor": "#2a3f5f"
            },
            "baxis": {
             "endlinecolor": "#2a3f5f",
             "gridcolor": "white",
             "linecolor": "white",
             "minorgridcolor": "white",
             "startlinecolor": "#2a3f5f"
            },
            "type": "carpet"
           }
          ],
          "choropleth": [
           {
            "colorbar": {
             "outlinewidth": 0,
             "ticks": ""
            },
            "type": "choropleth"
           }
          ],
          "contour": [
           {
            "colorbar": {
             "outlinewidth": 0,
             "ticks": ""
            },
            "colorscale": [
             [
              0,
              "#0d0887"
             ],
             [
              0.1111111111111111,
              "#46039f"
             ],
             [
              0.2222222222222222,
              "#7201a8"
             ],
             [
              0.3333333333333333,
              "#9c179e"
             ],
             [
              0.4444444444444444,
              "#bd3786"
             ],
             [
              0.5555555555555556,
              "#d8576b"
             ],
             [
              0.6666666666666666,
              "#ed7953"
             ],
             [
              0.7777777777777778,
              "#fb9f3a"
             ],
             [
              0.8888888888888888,
              "#fdca26"
             ],
             [
              1,
              "#f0f921"
             ]
            ],
            "type": "contour"
           }
          ],
          "contourcarpet": [
           {
            "colorbar": {
             "outlinewidth": 0,
             "ticks": ""
            },
            "type": "contourcarpet"
           }
          ],
          "heatmap": [
           {
            "colorbar": {
             "outlinewidth": 0,
             "ticks": ""
            },
            "colorscale": [
             [
              0,
              "#0d0887"
             ],
             [
              0.1111111111111111,
              "#46039f"
             ],
             [
              0.2222222222222222,
              "#7201a8"
             ],
             [
              0.3333333333333333,
              "#9c179e"
             ],
             [
              0.4444444444444444,
              "#bd3786"
             ],
             [
              0.5555555555555556,
              "#d8576b"
             ],
             [
              0.6666666666666666,
              "#ed7953"
             ],
             [
              0.7777777777777778,
              "#fb9f3a"
             ],
             [
              0.8888888888888888,
              "#fdca26"
             ],
             [
              1,
              "#f0f921"
             ]
            ],
            "type": "heatmap"
           }
          ],
          "heatmapgl": [
           {
            "colorbar": {
             "outlinewidth": 0,
             "ticks": ""
            },
            "colorscale": [
             [
              0,
              "#0d0887"
             ],
             [
              0.1111111111111111,
              "#46039f"
             ],
             [
              0.2222222222222222,
              "#7201a8"
             ],
             [
              0.3333333333333333,
              "#9c179e"
             ],
             [
              0.4444444444444444,
              "#bd3786"
             ],
             [
              0.5555555555555556,
              "#d8576b"
             ],
             [
              0.6666666666666666,
              "#ed7953"
             ],
             [
              0.7777777777777778,
              "#fb9f3a"
             ],
             [
              0.8888888888888888,
              "#fdca26"
             ],
             [
              1,
              "#f0f921"
             ]
            ],
            "type": "heatmapgl"
           }
          ],
          "histogram": [
           {
            "marker": {
             "pattern": {
              "fillmode": "overlay",
              "size": 10,
              "solidity": 0.2
             }
            },
            "type": "histogram"
           }
          ],
          "histogram2d": [
           {
            "colorbar": {
             "outlinewidth": 0,
             "ticks": ""
            },
            "colorscale": [
             [
              0,
              "#0d0887"
             ],
             [
              0.1111111111111111,
              "#46039f"
             ],
             [
              0.2222222222222222,
              "#7201a8"
             ],
             [
              0.3333333333333333,
              "#9c179e"
             ],
             [
              0.4444444444444444,
              "#bd3786"
             ],
             [
              0.5555555555555556,
              "#d8576b"
             ],
             [
              0.6666666666666666,
              "#ed7953"
             ],
             [
              0.7777777777777778,
              "#fb9f3a"
             ],
             [
              0.8888888888888888,
              "#fdca26"
             ],
             [
              1,
              "#f0f921"
             ]
            ],
            "type": "histogram2d"
           }
          ],
          "histogram2dcontour": [
           {
            "colorbar": {
             "outlinewidth": 0,
             "ticks": ""
            },
            "colorscale": [
             [
              0,
              "#0d0887"
             ],
             [
              0.1111111111111111,
              "#46039f"
             ],
             [
              0.2222222222222222,
              "#7201a8"
             ],
             [
              0.3333333333333333,
              "#9c179e"
             ],
             [
              0.4444444444444444,
              "#bd3786"
             ],
             [
              0.5555555555555556,
              "#d8576b"
             ],
             [
              0.6666666666666666,
              "#ed7953"
             ],
             [
              0.7777777777777778,
              "#fb9f3a"
             ],
             [
              0.8888888888888888,
              "#fdca26"
             ],
             [
              1,
              "#f0f921"
             ]
            ],
            "type": "histogram2dcontour"
           }
          ],
          "mesh3d": [
           {
            "colorbar": {
             "outlinewidth": 0,
             "ticks": ""
            },
            "type": "mesh3d"
           }
          ],
          "parcoords": [
           {
            "line": {
             "colorbar": {
              "outlinewidth": 0,
              "ticks": ""
             }
            },
            "type": "parcoords"
           }
          ],
          "pie": [
           {
            "automargin": true,
            "type": "pie"
           }
          ],
          "scatter": [
           {
            "fillpattern": {
             "fillmode": "overlay",
             "size": 10,
             "solidity": 0.2
            },
            "type": "scatter"
           }
          ],
          "scatter3d": [
           {
            "line": {
             "colorbar": {
              "outlinewidth": 0,
              "ticks": ""
             }
            },
            "marker": {
             "colorbar": {
              "outlinewidth": 0,
              "ticks": ""
             }
            },
            "type": "scatter3d"
           }
          ],
          "scattercarpet": [
           {
            "marker": {
             "colorbar": {
              "outlinewidth": 0,
              "ticks": ""
             }
            },
            "type": "scattercarpet"
           }
          ],
          "scattergeo": [
           {
            "marker": {
             "colorbar": {
              "outlinewidth": 0,
              "ticks": ""
             }
            },
            "type": "scattergeo"
           }
          ],
          "scattergl": [
           {
            "marker": {
             "colorbar": {
              "outlinewidth": 0,
              "ticks": ""
             }
            },
            "type": "scattergl"
           }
          ],
          "scattermapbox": [
           {
            "marker": {
             "colorbar": {
              "outlinewidth": 0,
              "ticks": ""
             }
            },
            "type": "scattermapbox"
           }
          ],
          "scatterpolar": [
           {
            "marker": {
             "colorbar": {
              "outlinewidth": 0,
              "ticks": ""
             }
            },
            "type": "scatterpolar"
           }
          ],
          "scatterpolargl": [
           {
            "marker": {
             "colorbar": {
              "outlinewidth": 0,
              "ticks": ""
             }
            },
            "type": "scatterpolargl"
           }
          ],
          "scatterternary": [
           {
            "marker": {
             "colorbar": {
              "outlinewidth": 0,
              "ticks": ""
             }
            },
            "type": "scatterternary"
           }
          ],
          "surface": [
           {
            "colorbar": {
             "outlinewidth": 0,
             "ticks": ""
            },
            "colorscale": [
             [
              0,
              "#0d0887"
             ],
             [
              0.1111111111111111,
              "#46039f"
             ],
             [
              0.2222222222222222,
              "#7201a8"
             ],
             [
              0.3333333333333333,
              "#9c179e"
             ],
             [
              0.4444444444444444,
              "#bd3786"
             ],
             [
              0.5555555555555556,
              "#d8576b"
             ],
             [
              0.6666666666666666,
              "#ed7953"
             ],
             [
              0.7777777777777778,
              "#fb9f3a"
             ],
             [
              0.8888888888888888,
              "#fdca26"
             ],
             [
              1,
              "#f0f921"
             ]
            ],
            "type": "surface"
           }
          ],
          "table": [
           {
            "cells": {
             "fill": {
              "color": "#EBF0F8"
             },
             "line": {
              "color": "white"
             }
            },
            "header": {
             "fill": {
              "color": "#C8D4E3"
             },
             "line": {
              "color": "white"
             }
            },
            "type": "table"
           }
          ]
         },
         "layout": {
          "annotationdefaults": {
           "arrowcolor": "#2a3f5f",
           "arrowhead": 0,
           "arrowwidth": 1
          },
          "autotypenumbers": "strict",
          "coloraxis": {
           "colorbar": {
            "outlinewidth": 0,
            "ticks": ""
           }
          },
          "colorscale": {
           "diverging": [
            [
             0,
             "#8e0152"
            ],
            [
             0.1,
             "#c51b7d"
            ],
            [
             0.2,
             "#de77ae"
            ],
            [
             0.3,
             "#f1b6da"
            ],
            [
             0.4,
             "#fde0ef"
            ],
            [
             0.5,
             "#f7f7f7"
            ],
            [
             0.6,
             "#e6f5d0"
            ],
            [
             0.7,
             "#b8e186"
            ],
            [
             0.8,
             "#7fbc41"
            ],
            [
             0.9,
             "#4d9221"
            ],
            [
             1,
             "#276419"
            ]
           ],
           "sequential": [
            [
             0,
             "#0d0887"
            ],
            [
             0.1111111111111111,
             "#46039f"
            ],
            [
             0.2222222222222222,
             "#7201a8"
            ],
            [
             0.3333333333333333,
             "#9c179e"
            ],
            [
             0.4444444444444444,
             "#bd3786"
            ],
            [
             0.5555555555555556,
             "#d8576b"
            ],
            [
             0.6666666666666666,
             "#ed7953"
            ],
            [
             0.7777777777777778,
             "#fb9f3a"
            ],
            [
             0.8888888888888888,
             "#fdca26"
            ],
            [
             1,
             "#f0f921"
            ]
           ],
           "sequentialminus": [
            [
             0,
             "#0d0887"
            ],
            [
             0.1111111111111111,
             "#46039f"
            ],
            [
             0.2222222222222222,
             "#7201a8"
            ],
            [
             0.3333333333333333,
             "#9c179e"
            ],
            [
             0.4444444444444444,
             "#bd3786"
            ],
            [
             0.5555555555555556,
             "#d8576b"
            ],
            [
             0.6666666666666666,
             "#ed7953"
            ],
            [
             0.7777777777777778,
             "#fb9f3a"
            ],
            [
             0.8888888888888888,
             "#fdca26"
            ],
            [
             1,
             "#f0f921"
            ]
           ]
          },
          "colorway": [
           "#636efa",
           "#EF553B",
           "#00cc96",
           "#ab63fa",
           "#FFA15A",
           "#19d3f3",
           "#FF6692",
           "#B6E880",
           "#FF97FF",
           "#FECB52"
          ],
          "font": {
           "color": "#2a3f5f"
          },
          "geo": {
           "bgcolor": "white",
           "lakecolor": "white",
           "landcolor": "#E5ECF6",
           "showlakes": true,
           "showland": true,
           "subunitcolor": "white"
          },
          "hoverlabel": {
           "align": "left"
          },
          "hovermode": "closest",
          "mapbox": {
           "style": "light"
          },
          "paper_bgcolor": "white",
          "plot_bgcolor": "#E5ECF6",
          "polar": {
           "angularaxis": {
            "gridcolor": "white",
            "linecolor": "white",
            "ticks": ""
           },
           "bgcolor": "#E5ECF6",
           "radialaxis": {
            "gridcolor": "white",
            "linecolor": "white",
            "ticks": ""
           }
          },
          "scene": {
           "xaxis": {
            "backgroundcolor": "#E5ECF6",
            "gridcolor": "white",
            "gridwidth": 2,
            "linecolor": "white",
            "showbackground": true,
            "ticks": "",
            "zerolinecolor": "white"
           },
           "yaxis": {
            "backgroundcolor": "#E5ECF6",
            "gridcolor": "white",
            "gridwidth": 2,
            "linecolor": "white",
            "showbackground": true,
            "ticks": "",
            "zerolinecolor": "white"
           },
           "zaxis": {
            "backgroundcolor": "#E5ECF6",
            "gridcolor": "white",
            "gridwidth": 2,
            "linecolor": "white",
            "showbackground": true,
            "ticks": "",
            "zerolinecolor": "white"
           }
          },
          "shapedefaults": {
           "line": {
            "color": "#2a3f5f"
           }
          },
          "ternary": {
           "aaxis": {
            "gridcolor": "white",
            "linecolor": "white",
            "ticks": ""
           },
           "baxis": {
            "gridcolor": "white",
            "linecolor": "white",
            "ticks": ""
           },
           "bgcolor": "#E5ECF6",
           "caxis": {
            "gridcolor": "white",
            "linecolor": "white",
            "ticks": ""
           }
          },
          "title": {
           "x": 0.05
          },
          "xaxis": {
           "automargin": true,
           "gridcolor": "white",
           "linecolor": "white",
           "ticks": "",
           "title": {
            "standoff": 15
           },
           "zerolinecolor": "white",
           "zerolinewidth": 2
          },
          "yaxis": {
           "automargin": true,
           "gridcolor": "white",
           "linecolor": "white",
           "ticks": "",
           "title": {
            "standoff": 15
           },
           "zerolinecolor": "white",
           "zerolinewidth": 2
          }
         }
        },
        "title": {
         "text": "Number of Majors per Subject (UTS and USYD)"
        },
        "xaxis": {
         "anchor": "y",
         "domain": [
          0,
          1
         ],
         "dtick": 1,
         "tick0": 0,
         "tickmode": "linear",
         "title": {
          "text": "Number of Majors per Subject"
         }
        },
        "yaxis": {
         "anchor": "x",
         "domain": [
          0,
          1
         ],
         "title": {
          "text": "Number of Subjects"
         }
        }
       }
      }
     },
     "metadata": {},
     "output_type": "display_data"
    }
   ],
   "source": [
    "fig = px.histogram(\n",
    "    x=num_majors,\n",
    "    # nbins=10,\n",
    "    title=\"Number of Majors per Subject (UTS and USYD)\",\n",
    "    labels={\"x\": \"Number of Majors per Subject\"},\n",
    ")\n",
    "fig.update_layout(\n",
    "  xaxis=dict(\n",
    "    tickmode='linear',\n",
    "    tick0=0,\n",
    "    dtick=1\n",
    "  ),\n",
    "  yaxis_title=\"Number of Subjects\",\n",
    ")\n",
    "fig.show()"
   ]
  },
  {
   "cell_type": "code",
   "execution_count": 43,
   "metadata": {},
   "outputs": [],
   "source": [
    "num_major_eng_subjects = []"
   ]
  },
  {
   "cell_type": "code",
   "execution_count": 44,
   "metadata": {},
   "outputs": [],
   "source": [
    "for subject, degrees in subject_to_degrees.items():\n",
    "    if \"Bachelor of Engineering (Honours)\" in degrees:\n",
    "        num_major_eng_subjects.append(len(subject_to_majors[subject]))"
   ]
  },
  {
   "cell_type": "code",
   "execution_count": 45,
   "metadata": {},
   "outputs": [
    {
     "data": {
      "application/vnd.plotly.v1+json": {
       "config": {
        "plotlyServerURL": "https://plot.ly"
       },
       "data": [
        {
         "alignmentgroup": "True",
         "bingroup": "x",
         "hovertemplate": "Number of Majors per Engineering Subject=%{x}<br>count=%{y}<extra></extra>",
         "legendgroup": "",
         "marker": {
          "color": "#636efa",
          "pattern": {
           "shape": ""
          }
         },
         "name": "",
         "offsetgroup": "",
         "orientation": "v",
         "showlegend": false,
         "type": "histogram",
         "x": [
          0,
          3,
          0,
          1,
          2,
          1,
          1,
          5,
          1,
          3,
          2,
          2,
          3,
          2,
          1,
          2,
          1,
          0,
          2,
          1,
          1,
          0,
          1,
          0,
          1,
          1,
          2,
          1,
          0,
          2,
          0,
          0,
          1,
          1,
          1,
          0,
          0,
          1,
          1,
          0,
          13,
          1,
          1,
          1,
          13,
          1,
          1,
          1,
          2,
          2,
          3,
          2,
          2,
          2,
          1,
          2,
          2,
          2,
          2,
          3,
          0,
          2,
          2,
          0,
          0,
          2,
          0,
          0,
          0,
          0,
          0,
          0,
          0,
          1,
          0,
          0,
          0,
          0,
          0,
          1,
          1,
          1,
          1,
          0,
          0,
          1,
          0,
          0,
          0,
          1,
          0,
          0,
          0,
          1,
          3,
          3,
          0,
          0,
          0,
          0,
          0,
          0,
          0,
          0,
          0,
          0,
          0,
          0,
          0,
          1,
          0,
          0,
          1,
          0,
          0,
          0,
          0,
          0,
          0,
          0,
          0,
          0,
          0,
          0,
          0,
          0,
          0,
          1,
          0,
          1,
          0,
          0,
          0,
          0,
          1,
          1,
          1,
          1,
          1,
          1,
          1,
          1,
          1,
          0,
          1,
          1,
          1,
          1,
          1,
          1,
          1,
          1,
          1,
          1,
          1,
          2,
          4,
          5,
          4,
          0,
          5,
          4,
          2,
          2,
          4,
          2,
          2,
          2,
          2,
          2,
          2,
          1,
          1,
          2,
          3,
          2,
          3,
          4,
          2,
          3,
          3,
          3,
          2,
          2,
          2,
          1,
          1,
          1,
          2,
          1,
          2,
          1,
          1,
          1,
          2,
          1,
          2,
          1,
          1,
          2,
          1,
          1,
          1,
          1,
          1,
          1,
          1,
          1,
          1,
          1,
          1,
          2,
          1,
          1,
          1,
          1,
          1,
          1,
          2,
          2,
          2,
          2,
          2,
          2,
          2,
          2,
          2,
          3,
          0,
          0,
          0,
          0,
          0,
          0,
          0,
          0,
          0,
          0,
          0,
          0,
          0,
          0,
          0,
          0,
          0,
          0,
          0,
          0,
          0,
          0,
          0,
          0,
          0,
          0,
          0,
          0,
          0,
          0,
          2,
          1,
          0,
          1,
          2,
          1,
          1,
          1,
          1,
          1,
          1,
          1,
          1,
          1,
          3,
          1,
          1,
          1,
          1,
          1,
          1,
          1,
          1,
          1,
          1,
          1,
          1,
          1,
          1,
          1,
          1,
          1,
          1,
          1,
          1,
          1,
          1,
          1,
          1,
          1,
          1,
          1,
          1,
          1,
          1,
          1,
          1,
          1,
          1,
          1,
          1,
          1,
          1,
          1,
          1,
          1,
          3,
          2,
          3,
          2,
          1,
          1,
          3,
          2,
          1,
          2,
          1,
          2,
          2,
          1,
          1,
          2,
          1,
          2,
          1,
          1,
          1,
          1,
          1,
          1,
          1,
          1,
          1,
          1,
          1,
          2,
          1,
          1,
          1,
          1,
          1,
          1,
          1,
          1,
          1,
          1,
          1,
          1,
          1,
          1,
          3,
          3,
          1,
          1,
          1,
          1,
          1,
          1,
          2,
          1,
          1,
          1,
          2,
          1,
          1,
          2,
          2,
          2,
          2,
          1,
          1,
          2,
          2,
          2,
          1,
          1,
          2,
          2,
          2,
          2,
          2,
          2,
          2,
          2,
          2,
          2,
          2,
          2,
          2,
          2,
          2,
          2,
          2,
          2,
          2,
          2,
          2,
          2,
          2,
          2,
          2,
          2,
          2,
          2,
          2,
          2,
          2,
          2,
          2,
          2,
          2,
          2,
          2,
          2,
          2,
          1,
          1,
          1,
          1,
          1,
          1,
          1,
          1,
          1,
          1,
          1,
          1,
          1,
          1,
          1,
          1,
          1,
          1,
          1,
          1,
          1,
          1,
          1,
          1,
          1,
          1,
          1,
          1,
          1,
          1,
          1,
          1,
          1,
          1,
          1,
          1
         ],
         "xaxis": "x",
         "yaxis": "y"
        }
       ],
       "layout": {
        "barmode": "relative",
        "legend": {
         "tracegroupgap": 0
        },
        "template": {
         "data": {
          "bar": [
           {
            "error_x": {
             "color": "#2a3f5f"
            },
            "error_y": {
             "color": "#2a3f5f"
            },
            "marker": {
             "line": {
              "color": "#E5ECF6",
              "width": 0.5
             },
             "pattern": {
              "fillmode": "overlay",
              "size": 10,
              "solidity": 0.2
             }
            },
            "type": "bar"
           }
          ],
          "barpolar": [
           {
            "marker": {
             "line": {
              "color": "#E5ECF6",
              "width": 0.5
             },
             "pattern": {
              "fillmode": "overlay",
              "size": 10,
              "solidity": 0.2
             }
            },
            "type": "barpolar"
           }
          ],
          "carpet": [
           {
            "aaxis": {
             "endlinecolor": "#2a3f5f",
             "gridcolor": "white",
             "linecolor": "white",
             "minorgridcolor": "white",
             "startlinecolor": "#2a3f5f"
            },
            "baxis": {
             "endlinecolor": "#2a3f5f",
             "gridcolor": "white",
             "linecolor": "white",
             "minorgridcolor": "white",
             "startlinecolor": "#2a3f5f"
            },
            "type": "carpet"
           }
          ],
          "choropleth": [
           {
            "colorbar": {
             "outlinewidth": 0,
             "ticks": ""
            },
            "type": "choropleth"
           }
          ],
          "contour": [
           {
            "colorbar": {
             "outlinewidth": 0,
             "ticks": ""
            },
            "colorscale": [
             [
              0,
              "#0d0887"
             ],
             [
              0.1111111111111111,
              "#46039f"
             ],
             [
              0.2222222222222222,
              "#7201a8"
             ],
             [
              0.3333333333333333,
              "#9c179e"
             ],
             [
              0.4444444444444444,
              "#bd3786"
             ],
             [
              0.5555555555555556,
              "#d8576b"
             ],
             [
              0.6666666666666666,
              "#ed7953"
             ],
             [
              0.7777777777777778,
              "#fb9f3a"
             ],
             [
              0.8888888888888888,
              "#fdca26"
             ],
             [
              1,
              "#f0f921"
             ]
            ],
            "type": "contour"
           }
          ],
          "contourcarpet": [
           {
            "colorbar": {
             "outlinewidth": 0,
             "ticks": ""
            },
            "type": "contourcarpet"
           }
          ],
          "heatmap": [
           {
            "colorbar": {
             "outlinewidth": 0,
             "ticks": ""
            },
            "colorscale": [
             [
              0,
              "#0d0887"
             ],
             [
              0.1111111111111111,
              "#46039f"
             ],
             [
              0.2222222222222222,
              "#7201a8"
             ],
             [
              0.3333333333333333,
              "#9c179e"
             ],
             [
              0.4444444444444444,
              "#bd3786"
             ],
             [
              0.5555555555555556,
              "#d8576b"
             ],
             [
              0.6666666666666666,
              "#ed7953"
             ],
             [
              0.7777777777777778,
              "#fb9f3a"
             ],
             [
              0.8888888888888888,
              "#fdca26"
             ],
             [
              1,
              "#f0f921"
             ]
            ],
            "type": "heatmap"
           }
          ],
          "heatmapgl": [
           {
            "colorbar": {
             "outlinewidth": 0,
             "ticks": ""
            },
            "colorscale": [
             [
              0,
              "#0d0887"
             ],
             [
              0.1111111111111111,
              "#46039f"
             ],
             [
              0.2222222222222222,
              "#7201a8"
             ],
             [
              0.3333333333333333,
              "#9c179e"
             ],
             [
              0.4444444444444444,
              "#bd3786"
             ],
             [
              0.5555555555555556,
              "#d8576b"
             ],
             [
              0.6666666666666666,
              "#ed7953"
             ],
             [
              0.7777777777777778,
              "#fb9f3a"
             ],
             [
              0.8888888888888888,
              "#fdca26"
             ],
             [
              1,
              "#f0f921"
             ]
            ],
            "type": "heatmapgl"
           }
          ],
          "histogram": [
           {
            "marker": {
             "pattern": {
              "fillmode": "overlay",
              "size": 10,
              "solidity": 0.2
             }
            },
            "type": "histogram"
           }
          ],
          "histogram2d": [
           {
            "colorbar": {
             "outlinewidth": 0,
             "ticks": ""
            },
            "colorscale": [
             [
              0,
              "#0d0887"
             ],
             [
              0.1111111111111111,
              "#46039f"
             ],
             [
              0.2222222222222222,
              "#7201a8"
             ],
             [
              0.3333333333333333,
              "#9c179e"
             ],
             [
              0.4444444444444444,
              "#bd3786"
             ],
             [
              0.5555555555555556,
              "#d8576b"
             ],
             [
              0.6666666666666666,
              "#ed7953"
             ],
             [
              0.7777777777777778,
              "#fb9f3a"
             ],
             [
              0.8888888888888888,
              "#fdca26"
             ],
             [
              1,
              "#f0f921"
             ]
            ],
            "type": "histogram2d"
           }
          ],
          "histogram2dcontour": [
           {
            "colorbar": {
             "outlinewidth": 0,
             "ticks": ""
            },
            "colorscale": [
             [
              0,
              "#0d0887"
             ],
             [
              0.1111111111111111,
              "#46039f"
             ],
             [
              0.2222222222222222,
              "#7201a8"
             ],
             [
              0.3333333333333333,
              "#9c179e"
             ],
             [
              0.4444444444444444,
              "#bd3786"
             ],
             [
              0.5555555555555556,
              "#d8576b"
             ],
             [
              0.6666666666666666,
              "#ed7953"
             ],
             [
              0.7777777777777778,
              "#fb9f3a"
             ],
             [
              0.8888888888888888,
              "#fdca26"
             ],
             [
              1,
              "#f0f921"
             ]
            ],
            "type": "histogram2dcontour"
           }
          ],
          "mesh3d": [
           {
            "colorbar": {
             "outlinewidth": 0,
             "ticks": ""
            },
            "type": "mesh3d"
           }
          ],
          "parcoords": [
           {
            "line": {
             "colorbar": {
              "outlinewidth": 0,
              "ticks": ""
             }
            },
            "type": "parcoords"
           }
          ],
          "pie": [
           {
            "automargin": true,
            "type": "pie"
           }
          ],
          "scatter": [
           {
            "fillpattern": {
             "fillmode": "overlay",
             "size": 10,
             "solidity": 0.2
            },
            "type": "scatter"
           }
          ],
          "scatter3d": [
           {
            "line": {
             "colorbar": {
              "outlinewidth": 0,
              "ticks": ""
             }
            },
            "marker": {
             "colorbar": {
              "outlinewidth": 0,
              "ticks": ""
             }
            },
            "type": "scatter3d"
           }
          ],
          "scattercarpet": [
           {
            "marker": {
             "colorbar": {
              "outlinewidth": 0,
              "ticks": ""
             }
            },
            "type": "scattercarpet"
           }
          ],
          "scattergeo": [
           {
            "marker": {
             "colorbar": {
              "outlinewidth": 0,
              "ticks": ""
             }
            },
            "type": "scattergeo"
           }
          ],
          "scattergl": [
           {
            "marker": {
             "colorbar": {
              "outlinewidth": 0,
              "ticks": ""
             }
            },
            "type": "scattergl"
           }
          ],
          "scattermapbox": [
           {
            "marker": {
             "colorbar": {
              "outlinewidth": 0,
              "ticks": ""
             }
            },
            "type": "scattermapbox"
           }
          ],
          "scatterpolar": [
           {
            "marker": {
             "colorbar": {
              "outlinewidth": 0,
              "ticks": ""
             }
            },
            "type": "scatterpolar"
           }
          ],
          "scatterpolargl": [
           {
            "marker": {
             "colorbar": {
              "outlinewidth": 0,
              "ticks": ""
             }
            },
            "type": "scatterpolargl"
           }
          ],
          "scatterternary": [
           {
            "marker": {
             "colorbar": {
              "outlinewidth": 0,
              "ticks": ""
             }
            },
            "type": "scatterternary"
           }
          ],
          "surface": [
           {
            "colorbar": {
             "outlinewidth": 0,
             "ticks": ""
            },
            "colorscale": [
             [
              0,
              "#0d0887"
             ],
             [
              0.1111111111111111,
              "#46039f"
             ],
             [
              0.2222222222222222,
              "#7201a8"
             ],
             [
              0.3333333333333333,
              "#9c179e"
             ],
             [
              0.4444444444444444,
              "#bd3786"
             ],
             [
              0.5555555555555556,
              "#d8576b"
             ],
             [
              0.6666666666666666,
              "#ed7953"
             ],
             [
              0.7777777777777778,
              "#fb9f3a"
             ],
             [
              0.8888888888888888,
              "#fdca26"
             ],
             [
              1,
              "#f0f921"
             ]
            ],
            "type": "surface"
           }
          ],
          "table": [
           {
            "cells": {
             "fill": {
              "color": "#EBF0F8"
             },
             "line": {
              "color": "white"
             }
            },
            "header": {
             "fill": {
              "color": "#C8D4E3"
             },
             "line": {
              "color": "white"
             }
            },
            "type": "table"
           }
          ]
         },
         "layout": {
          "annotationdefaults": {
           "arrowcolor": "#2a3f5f",
           "arrowhead": 0,
           "arrowwidth": 1
          },
          "autotypenumbers": "strict",
          "coloraxis": {
           "colorbar": {
            "outlinewidth": 0,
            "ticks": ""
           }
          },
          "colorscale": {
           "diverging": [
            [
             0,
             "#8e0152"
            ],
            [
             0.1,
             "#c51b7d"
            ],
            [
             0.2,
             "#de77ae"
            ],
            [
             0.3,
             "#f1b6da"
            ],
            [
             0.4,
             "#fde0ef"
            ],
            [
             0.5,
             "#f7f7f7"
            ],
            [
             0.6,
             "#e6f5d0"
            ],
            [
             0.7,
             "#b8e186"
            ],
            [
             0.8,
             "#7fbc41"
            ],
            [
             0.9,
             "#4d9221"
            ],
            [
             1,
             "#276419"
            ]
           ],
           "sequential": [
            [
             0,
             "#0d0887"
            ],
            [
             0.1111111111111111,
             "#46039f"
            ],
            [
             0.2222222222222222,
             "#7201a8"
            ],
            [
             0.3333333333333333,
             "#9c179e"
            ],
            [
             0.4444444444444444,
             "#bd3786"
            ],
            [
             0.5555555555555556,
             "#d8576b"
            ],
            [
             0.6666666666666666,
             "#ed7953"
            ],
            [
             0.7777777777777778,
             "#fb9f3a"
            ],
            [
             0.8888888888888888,
             "#fdca26"
            ],
            [
             1,
             "#f0f921"
            ]
           ],
           "sequentialminus": [
            [
             0,
             "#0d0887"
            ],
            [
             0.1111111111111111,
             "#46039f"
            ],
            [
             0.2222222222222222,
             "#7201a8"
            ],
            [
             0.3333333333333333,
             "#9c179e"
            ],
            [
             0.4444444444444444,
             "#bd3786"
            ],
            [
             0.5555555555555556,
             "#d8576b"
            ],
            [
             0.6666666666666666,
             "#ed7953"
            ],
            [
             0.7777777777777778,
             "#fb9f3a"
            ],
            [
             0.8888888888888888,
             "#fdca26"
            ],
            [
             1,
             "#f0f921"
            ]
           ]
          },
          "colorway": [
           "#636efa",
           "#EF553B",
           "#00cc96",
           "#ab63fa",
           "#FFA15A",
           "#19d3f3",
           "#FF6692",
           "#B6E880",
           "#FF97FF",
           "#FECB52"
          ],
          "font": {
           "color": "#2a3f5f"
          },
          "geo": {
           "bgcolor": "white",
           "lakecolor": "white",
           "landcolor": "#E5ECF6",
           "showlakes": true,
           "showland": true,
           "subunitcolor": "white"
          },
          "hoverlabel": {
           "align": "left"
          },
          "hovermode": "closest",
          "mapbox": {
           "style": "light"
          },
          "paper_bgcolor": "white",
          "plot_bgcolor": "#E5ECF6",
          "polar": {
           "angularaxis": {
            "gridcolor": "white",
            "linecolor": "white",
            "ticks": ""
           },
           "bgcolor": "#E5ECF6",
           "radialaxis": {
            "gridcolor": "white",
            "linecolor": "white",
            "ticks": ""
           }
          },
          "scene": {
           "xaxis": {
            "backgroundcolor": "#E5ECF6",
            "gridcolor": "white",
            "gridwidth": 2,
            "linecolor": "white",
            "showbackground": true,
            "ticks": "",
            "zerolinecolor": "white"
           },
           "yaxis": {
            "backgroundcolor": "#E5ECF6",
            "gridcolor": "white",
            "gridwidth": 2,
            "linecolor": "white",
            "showbackground": true,
            "ticks": "",
            "zerolinecolor": "white"
           },
           "zaxis": {
            "backgroundcolor": "#E5ECF6",
            "gridcolor": "white",
            "gridwidth": 2,
            "linecolor": "white",
            "showbackground": true,
            "ticks": "",
            "zerolinecolor": "white"
           }
          },
          "shapedefaults": {
           "line": {
            "color": "#2a3f5f"
           }
          },
          "ternary": {
           "aaxis": {
            "gridcolor": "white",
            "linecolor": "white",
            "ticks": ""
           },
           "baxis": {
            "gridcolor": "white",
            "linecolor": "white",
            "ticks": ""
           },
           "bgcolor": "#E5ECF6",
           "caxis": {
            "gridcolor": "white",
            "linecolor": "white",
            "ticks": ""
           }
          },
          "title": {
           "x": 0.05
          },
          "xaxis": {
           "automargin": true,
           "gridcolor": "white",
           "linecolor": "white",
           "ticks": "",
           "title": {
            "standoff": 15
           },
           "zerolinecolor": "white",
           "zerolinewidth": 2
          },
          "yaxis": {
           "automargin": true,
           "gridcolor": "white",
           "linecolor": "white",
           "ticks": "",
           "title": {
            "standoff": 15
           },
           "zerolinecolor": "white",
           "zerolinewidth": 2
          }
         }
        },
        "title": {
         "text": "Number of Majors per Engineering Subject (UTS and USYD)"
        },
        "xaxis": {
         "anchor": "y",
         "domain": [
          0,
          1
         ],
         "dtick": 1,
         "tick0": 0,
         "tickmode": "linear",
         "title": {
          "text": "Number of Majors per Engineering Subject"
         }
        },
        "yaxis": {
         "anchor": "x",
         "domain": [
          0,
          1
         ],
         "range": [
          0,
          300
         ],
         "title": {
          "text": "Number of Subjects"
         }
        }
       }
      }
     },
     "metadata": {},
     "output_type": "display_data"
    }
   ],
   "source": [
    "fig = px.histogram(\n",
    "    x=num_major_eng_subjects,\n",
    "    # nbins=10,\n",
    "    title=\"Number of Majors per Engineering Subject (UTS and USYD)\",\n",
    "    labels={\"x\": \"Number of Majors per Engineering Subject\"},\n",
    ")\n",
    "fig.update_layout(\n",
    "  xaxis=dict(\n",
    "    tickmode='linear',\n",
    "    tick0=0,\n",
    "    dtick=1\n",
    "  ),\n",
    "  # set range of y-axis to be between 0 and 300\n",
    "  yaxis=dict(\n",
    "    range=[0, 300]\n",
    "  ),\n",
    "  yaxis_title=\"Number of Subjects\",\n",
    ")\n",
    "fig.show()"
   ]
  },
  {
   "cell_type": "code",
   "execution_count": 46,
   "metadata": {},
   "outputs": [],
   "source": [
    "num_comp_eng_subjects = 0\n",
    "num_subjects = 0\n",
    "\n",
    "for degrees in subject_to_degrees.values():\n",
    "    if \"Bachelor of Engineering (Honours)\" in degrees or \"Bachelor of Computing Science (Honours)\" in degrees or \"Bachelor of Advanced Computing\" in degrees:\n",
    "        num_subjects += 1\n",
    "  \n",
    "    if \"Bachelor of Engineering (Honours)\" in degrees and (\"Bachelor of Computing Science (Honours)\" in degrees or \"Bachelor of Advanced Computing\" in degrees):\n",
    "        num_comp_eng_subjects += 1"
   ]
  },
  {
   "cell_type": "code",
   "execution_count": 47,
   "metadata": {},
   "outputs": [
    {
     "name": "stdout",
     "output_type": "stream",
     "text": [
      "89 583 15.27\n"
     ]
    }
   ],
   "source": [
    "print(num_comp_eng_subjects, num_subjects, round((num_comp_eng_subjects / num_subjects) * 100, 2))"
   ]
  },
  {
   "cell_type": "code",
   "execution_count": 48,
   "metadata": {},
   "outputs": [],
   "source": [
    "def shared_major_accuracy(num_similar_subjects: int, is_core_always_correct: bool):\n",
    "    embedding_accuracy = {}\n",
    "    degree_to_abbrievation = {\n",
    "      \"Bachelor of Engineering (Honours)\": \"ENG\",\n",
    "      \"Bachelor of Computing Science (Honours)\": \"COMP\",\n",
    "    }\n",
    "    usyd_to_uts_degree = {\n",
    "                          'Bachelor of Advanced Computing': 'Bachelor of Computing Science (Honours)',\n",
    "                          'Bachelor of Engineering (Honours)': 'Bachelor of Engineering (Honours)',\n",
    "                          }\n",
    "\n",
    "    for embedding_type in [\"MXBAI\", \"INSTRUCTOR\", \"SBERT\", \"GLOVE\", \"DOC2VEC\"]:\n",
    "        usyd_subject_collection = client.collections.get(f\"USYD_{embedding_type}_Subject\")\n",
    "        uts_subject_collection = client.collections.get(f\"UTS_{embedding_type}_Subject\")\n",
    "        \n",
    "        embedding_accuracy[embedding_type] = {\n",
    "          \"COMP\": {\n",
    "              \"correct\": 0,\n",
    "              \"total\": 0\n",
    "          },\n",
    "          \"ENG\": {\n",
    "              \"correct\": 0,\n",
    "              \"total\": 0,\n",
    "          }\n",
    "        }\n",
    "        \n",
    "        for item in usyd_subject_collection.iterator(include_vector=True):\n",
    "            usyd_majors = item.properties[\"majors\"]\n",
    "            degrees = item.properties[\"degrees\"]\n",
    "            subject_vector = item.vector\n",
    "                    \n",
    "            for degree in degrees:\n",
    "              if degree == \"Bachelor of Nursing (Advanced Studies)\":\n",
    "                continue\n",
    "              \n",
    "              equivalent_uts_degree = usyd_to_uts_degree[degree]\n",
    "              \n",
    "              similar_subjects = get_similar_uts_subjects(uts_subject_collection, subject_vector, num_subjects=num_similar_subjects, degree=equivalent_uts_degree)\n",
    "            \n",
    "              for uts_subject in similar_subjects:\n",
    "                  uts_majors = uts_subject[\"majors\"]\n",
    "                  equivalent_usyd_majors = [uts_to_usyd_major[major] for major in uts_majors]\n",
    "                  \n",
    "                  if is_core_always_correct:\n",
    "                    if len(usyd_majors) == 0 or len(uts_majors) == 0:\n",
    "                      embedding_accuracy[embedding_type][degree_to_abbrievation[equivalent_uts_degree]][\"correct\"] += 1\n",
    "                      embedding_accuracy[embedding_type][degree_to_abbrievation[equivalent_uts_degree]][\"total\"] += 1\n",
    "                      continue\n",
    "                  else:\n",
    "                    if len(usyd_majors) == 0:\n",
    "                      if len(uts_majors) == 0:\n",
    "                          embedding_accuracy[embedding_type][degree_to_abbrievation[equivalent_uts_degree]][\"correct\"] += 1    \n",
    "                      \n",
    "                      embedding_accuracy[embedding_type][degree_to_abbrievation[equivalent_uts_degree]][\"total\"] += 1\n",
    "                      continue\n",
    "                  \n",
    "                  num_shared_majors = len(set(usyd_majors).intersection(equivalent_usyd_majors))\n",
    "                  embedding_accuracy[embedding_type][degree_to_abbrievation[equivalent_uts_degree]][\"correct\"] += 1 if num_shared_majors >= 1 else 0\n",
    "                  embedding_accuracy[embedding_type][degree_to_abbrievation[equivalent_uts_degree]][\"total\"] += 1\n",
    "    \n",
    "    # add accuracy to each embedding degree\n",
    "    for embedding_type in embedding_accuracy:\n",
    "        for degree in embedding_accuracy[embedding_type]:\n",
    "            correct = embedding_accuracy[embedding_type][degree][\"correct\"]\n",
    "            total = embedding_accuracy[embedding_type][degree][\"total\"]\n",
    "            \n",
    "            embedding_accuracy[embedding_type][degree][\"accuracy\"] = round((correct / total) * 100, 2)\n",
    "            del embedding_accuracy[embedding_type][degree][\"correct\"]\n",
    "            del embedding_accuracy[embedding_type][degree][\"total\"]\n",
    "    \n",
    "    return embedding_accuracy"
   ]
  },
  {
   "cell_type": "code",
   "execution_count": 49,
   "metadata": {},
   "outputs": [],
   "source": [
    "shared_major_accuracy_top_2 = shared_major_accuracy(2, True)\n",
    "shared_major_accuracy_top_5 = shared_major_accuracy(5, True)\n",
    "shared_major_accuracy_top_10 = shared_major_accuracy(10, True)"
   ]
  },
  {
   "cell_type": "code",
   "execution_count": 55,
   "metadata": {},
   "outputs": [
    {
     "data": {
      "text/html": [
       "<div>\n",
       "<style scoped>\n",
       "    .dataframe tbody tr th:only-of-type {\n",
       "        vertical-align: middle;\n",
       "    }\n",
       "\n",
       "    .dataframe tbody tr th {\n",
       "        vertical-align: top;\n",
       "    }\n",
       "\n",
       "    .dataframe thead th {\n",
       "        text-align: right;\n",
       "    }\n",
       "</style>\n",
       "<table border=\"1\" class=\"dataframe\">\n",
       "  <thead>\n",
       "    <tr style=\"text-align: right;\">\n",
       "      <th></th>\n",
       "      <th>Top 2</th>\n",
       "      <th>Top 5</th>\n",
       "      <th>Top 10</th>\n",
       "    </tr>\n",
       "  </thead>\n",
       "  <tbody>\n",
       "    <tr>\n",
       "      <th>MXBAI</th>\n",
       "      <td>57.34</td>\n",
       "      <td>60.37</td>\n",
       "      <td>59.27</td>\n",
       "    </tr>\n",
       "    <tr>\n",
       "      <th>INSTRUCTOR</th>\n",
       "      <td>58.26</td>\n",
       "      <td>57.43</td>\n",
       "      <td>57.43</td>\n",
       "    </tr>\n",
       "    <tr>\n",
       "      <th>SBERT</th>\n",
       "      <td>58.26</td>\n",
       "      <td>58.72</td>\n",
       "      <td>57.16</td>\n",
       "    </tr>\n",
       "    <tr>\n",
       "      <th>GLOVE</th>\n",
       "      <td>54.13</td>\n",
       "      <td>52.48</td>\n",
       "      <td>52.11</td>\n",
       "    </tr>\n",
       "    <tr>\n",
       "      <th>DOC2VEC</th>\n",
       "      <td>35.32</td>\n",
       "      <td>33.39</td>\n",
       "      <td>40.28</td>\n",
       "    </tr>\n",
       "  </tbody>\n",
       "</table>\n",
       "</div>"
      ],
      "text/plain": [
       "            Top 2  Top 5  Top 10\n",
       "MXBAI       57.34  60.37   59.27\n",
       "INSTRUCTOR  58.26  57.43   57.43\n",
       "SBERT       58.26  58.72   57.16\n",
       "GLOVE       54.13  52.48   52.11\n",
       "DOC2VEC     35.32  33.39   40.28"
      ]
     },
     "execution_count": 55,
     "metadata": {},
     "output_type": "execute_result"
    }
   ],
   "source": [
    "# creating a dataframe from the accuracy results\n",
    "major_model_accuracy_comp = pd.DataFrame(\n",
    "    [[model[\"COMP\"][\"accuracy\"] for model in shared_major_accuracy_top_2.values()],\n",
    "     [model[\"COMP\"][\"accuracy\"] for model in shared_major_accuracy_top_5.values()],\n",
    "     [model[\"COMP\"][\"accuracy\"] for model in shared_major_accuracy_top_10.values()]],\n",
    "    columns=shared_major_accuracy_top_2.keys(),\n",
    ")\n",
    "major_model_accuracy_comp = major_model_accuracy_comp.T\n",
    "major_model_accuracy_comp.columns = [\"Top 2\", \"Top 5\", \"Top 10\"]\n",
    "major_model_accuracy_comp"
   ]
  },
  {
   "cell_type": "code",
   "execution_count": 56,
   "metadata": {},
   "outputs": [
    {
     "data": {
      "text/html": [
       "<div>\n",
       "<style scoped>\n",
       "    .dataframe tbody tr th:only-of-type {\n",
       "        vertical-align: middle;\n",
       "    }\n",
       "\n",
       "    .dataframe tbody tr th {\n",
       "        vertical-align: top;\n",
       "    }\n",
       "\n",
       "    .dataframe thead th {\n",
       "        text-align: right;\n",
       "    }\n",
       "</style>\n",
       "<table border=\"1\" class=\"dataframe\">\n",
       "  <thead>\n",
       "    <tr style=\"text-align: right;\">\n",
       "      <th></th>\n",
       "      <th>Top 2</th>\n",
       "      <th>Top 5</th>\n",
       "      <th>Top 10</th>\n",
       "    </tr>\n",
       "  </thead>\n",
       "  <tbody>\n",
       "    <tr>\n",
       "      <th>MXBAI</th>\n",
       "      <td>75.99</td>\n",
       "      <td>73.82</td>\n",
       "      <td>75.20</td>\n",
       "    </tr>\n",
       "    <tr>\n",
       "      <th>INSTRUCTOR</th>\n",
       "      <td>78.45</td>\n",
       "      <td>77.04</td>\n",
       "      <td>75.76</td>\n",
       "    </tr>\n",
       "    <tr>\n",
       "      <th>SBERT</th>\n",
       "      <td>72.20</td>\n",
       "      <td>74.54</td>\n",
       "      <td>72.66</td>\n",
       "    </tr>\n",
       "    <tr>\n",
       "      <th>GLOVE</th>\n",
       "      <td>76.32</td>\n",
       "      <td>75.26</td>\n",
       "      <td>69.61</td>\n",
       "    </tr>\n",
       "    <tr>\n",
       "      <th>DOC2VEC</th>\n",
       "      <td>43.09</td>\n",
       "      <td>48.36</td>\n",
       "      <td>49.54</td>\n",
       "    </tr>\n",
       "  </tbody>\n",
       "</table>\n",
       "</div>"
      ],
      "text/plain": [
       "            Top 2  Top 5  Top 10\n",
       "MXBAI       75.99  73.82   75.20\n",
       "INSTRUCTOR  78.45  77.04   75.76\n",
       "SBERT       72.20  74.54   72.66\n",
       "GLOVE       76.32  75.26   69.61\n",
       "DOC2VEC     43.09  48.36   49.54"
      ]
     },
     "execution_count": 56,
     "metadata": {},
     "output_type": "execute_result"
    }
   ],
   "source": [
    "# creating a dataframe from the accuracy results\n",
    "major_model_accuracy_eng = pd.DataFrame(\n",
    "    [[model[\"ENG\"][\"accuracy\"] for model in shared_major_accuracy_top_2.values()],\n",
    "     [model[\"ENG\"][\"accuracy\"] for model in shared_major_accuracy_top_5.values()],\n",
    "     [model[\"ENG\"][\"accuracy\"] for model in shared_major_accuracy_top_10.values()]],\n",
    "    columns=shared_major_accuracy_top_2.keys(),\n",
    ")\n",
    "major_model_accuracy_eng = major_model_accuracy_eng.T\n",
    "major_model_accuracy_eng.columns = [\"Top 2\", \"Top 5\", \"Top 10\"]\n",
    "major_model_accuracy_eng"
   ]
  },
  {
   "cell_type": "code",
   "execution_count": 63,
   "metadata": {},
   "outputs": [
    {
     "data": {
      "text/html": [
       "<div>\n",
       "<style scoped>\n",
       "    .dataframe tbody tr th:only-of-type {\n",
       "        vertical-align: middle;\n",
       "    }\n",
       "\n",
       "    .dataframe tbody tr th {\n",
       "        vertical-align: top;\n",
       "    }\n",
       "\n",
       "    .dataframe thead th {\n",
       "        text-align: right;\n",
       "    }\n",
       "</style>\n",
       "<table border=\"1\" class=\"dataframe\">\n",
       "  <thead>\n",
       "    <tr style=\"text-align: right;\">\n",
       "      <th></th>\n",
       "      <th>Top 2</th>\n",
       "      <th>Top 2</th>\n",
       "      <th>Top 5</th>\n",
       "      <th>Top 5</th>\n",
       "      <th>Top 10</th>\n",
       "      <th>Top 10</th>\n",
       "    </tr>\n",
       "  </thead>\n",
       "  <tbody>\n",
       "    <tr>\n",
       "      <th>MXBAI</th>\n",
       "      <td>57.34</td>\n",
       "      <td>75.99</td>\n",
       "      <td>60.37</td>\n",
       "      <td>73.82</td>\n",
       "      <td>59.27</td>\n",
       "      <td>75.20</td>\n",
       "    </tr>\n",
       "    <tr>\n",
       "      <th>INSTRUCTOR</th>\n",
       "      <td>58.26</td>\n",
       "      <td>78.45</td>\n",
       "      <td>57.43</td>\n",
       "      <td>77.04</td>\n",
       "      <td>57.43</td>\n",
       "      <td>75.76</td>\n",
       "    </tr>\n",
       "    <tr>\n",
       "      <th>SBERT</th>\n",
       "      <td>58.26</td>\n",
       "      <td>72.20</td>\n",
       "      <td>58.72</td>\n",
       "      <td>74.54</td>\n",
       "      <td>57.16</td>\n",
       "      <td>72.66</td>\n",
       "    </tr>\n",
       "    <tr>\n",
       "      <th>GLOVE</th>\n",
       "      <td>54.13</td>\n",
       "      <td>76.32</td>\n",
       "      <td>52.48</td>\n",
       "      <td>75.26</td>\n",
       "      <td>52.11</td>\n",
       "      <td>69.61</td>\n",
       "    </tr>\n",
       "    <tr>\n",
       "      <th>DOC2VEC</th>\n",
       "      <td>35.32</td>\n",
       "      <td>43.09</td>\n",
       "      <td>33.39</td>\n",
       "      <td>48.36</td>\n",
       "      <td>40.28</td>\n",
       "      <td>49.54</td>\n",
       "    </tr>\n",
       "  </tbody>\n",
       "</table>\n",
       "</div>"
      ],
      "text/plain": [
       "            Top 2  Top 2  Top 5  Top 5  Top 10  Top 10\n",
       "MXBAI       57.34  75.99  60.37  73.82   59.27   75.20\n",
       "INSTRUCTOR  58.26  78.45  57.43  77.04   57.43   75.76\n",
       "SBERT       58.26  72.20  58.72  74.54   57.16   72.66\n",
       "GLOVE       54.13  76.32  52.48  75.26   52.11   69.61\n",
       "DOC2VEC     35.32  43.09  33.39  48.36   40.28   49.54"
      ]
     },
     "execution_count": 63,
     "metadata": {},
     "output_type": "execute_result"
    }
   ],
   "source": [
    "# make df with top 2 next to each other from major_model_accuracy_comp and major_model_accuracy_eng\n",
    "major_model_accuracy = pd.concat([major_model_accuracy_comp, major_model_accuracy_eng], axis=1)\n",
    "major_model_accuracy[[\"Top 2\", \"Top 5\", \"Top 10\"]]"
   ]
  },
  {
   "cell_type": "code",
   "execution_count": 29,
   "metadata": {},
   "outputs": [],
   "source": [
    "shared_major_accuracy_top_2 = shared_major_accuracy(2, False)\n",
    "shared_major_accuracy_top_5 = shared_major_accuracy(5, False)\n",
    "shared_major_accuracy_top_10 = shared_major_accuracy(10, False)"
   ]
  },
  {
   "cell_type": "code",
   "execution_count": 30,
   "metadata": {},
   "outputs": [
    {
     "data": {
      "text/html": [
       "<div>\n",
       "<style scoped>\n",
       "    .dataframe tbody tr th:only-of-type {\n",
       "        vertical-align: middle;\n",
       "    }\n",
       "\n",
       "    .dataframe tbody tr th {\n",
       "        vertical-align: top;\n",
       "    }\n",
       "\n",
       "    .dataframe thead th {\n",
       "        text-align: right;\n",
       "    }\n",
       "</style>\n",
       "<table border=\"1\" class=\"dataframe\">\n",
       "  <thead>\n",
       "    <tr style=\"text-align: right;\">\n",
       "      <th></th>\n",
       "      <th>Top 2</th>\n",
       "      <th>Top 5</th>\n",
       "      <th>Top 10</th>\n",
       "    </tr>\n",
       "  </thead>\n",
       "  <tbody>\n",
       "    <tr>\n",
       "      <th>MXBAI</th>\n",
       "      <td>34.86</td>\n",
       "      <td>32.29</td>\n",
       "      <td>29.17</td>\n",
       "    </tr>\n",
       "    <tr>\n",
       "      <th>INSTRUCTOR</th>\n",
       "      <td>36.70</td>\n",
       "      <td>34.50</td>\n",
       "      <td>31.28</td>\n",
       "    </tr>\n",
       "    <tr>\n",
       "      <th>SBERT</th>\n",
       "      <td>29.36</td>\n",
       "      <td>30.09</td>\n",
       "      <td>30.18</td>\n",
       "    </tr>\n",
       "    <tr>\n",
       "      <th>GLOVE</th>\n",
       "      <td>22.48</td>\n",
       "      <td>20.55</td>\n",
       "      <td>20.73</td>\n",
       "    </tr>\n",
       "    <tr>\n",
       "      <th>DOC2VEC</th>\n",
       "      <td>6.42</td>\n",
       "      <td>6.42</td>\n",
       "      <td>10.83</td>\n",
       "    </tr>\n",
       "  </tbody>\n",
       "</table>\n",
       "</div>"
      ],
      "text/plain": [
       "            Top 2  Top 5  Top 10\n",
       "MXBAI       34.86  32.29   29.17\n",
       "INSTRUCTOR  36.70  34.50   31.28\n",
       "SBERT       29.36  30.09   30.18\n",
       "GLOVE       22.48  20.55   20.73\n",
       "DOC2VEC      6.42   6.42   10.83"
      ]
     },
     "execution_count": 30,
     "metadata": {},
     "output_type": "execute_result"
    }
   ],
   "source": [
    "# creating a dataframe from the accuracy results\n",
    "major_model_accuracy = pd.DataFrame(\n",
    "    [[model[\"COMP\"][\"accuracy\"] for model in shared_major_accuracy_top_2.values()],\n",
    "     [model[\"COMP\"][\"accuracy\"] for model in shared_major_accuracy_top_5.values()],\n",
    "     [model[\"COMP\"][\"accuracy\"] for model in shared_major_accuracy_top_10.values()]],\n",
    "    columns=shared_major_accuracy_top_2.keys(),\n",
    ")\n",
    "major_model_accuracy = major_model_accuracy.T\n",
    "major_model_accuracy.columns = [\"Top 2\", \"Top 5\", \"Top 10\"]\n",
    "major_model_accuracy"
   ]
  },
  {
   "cell_type": "code",
   "execution_count": 31,
   "metadata": {},
   "outputs": [
    {
     "data": {
      "text/html": [
       "<div>\n",
       "<style scoped>\n",
       "    .dataframe tbody tr th:only-of-type {\n",
       "        vertical-align: middle;\n",
       "    }\n",
       "\n",
       "    .dataframe tbody tr th {\n",
       "        vertical-align: top;\n",
       "    }\n",
       "\n",
       "    .dataframe thead th {\n",
       "        text-align: right;\n",
       "    }\n",
       "</style>\n",
       "<table border=\"1\" class=\"dataframe\">\n",
       "  <thead>\n",
       "    <tr style=\"text-align: right;\">\n",
       "      <th></th>\n",
       "      <th>Top 2</th>\n",
       "      <th>Top 5</th>\n",
       "      <th>Top 10</th>\n",
       "    </tr>\n",
       "  </thead>\n",
       "  <tbody>\n",
       "    <tr>\n",
       "      <th>MXBAI</th>\n",
       "      <td>34.86</td>\n",
       "      <td>32.29</td>\n",
       "      <td>29.17</td>\n",
       "    </tr>\n",
       "    <tr>\n",
       "      <th>INSTRUCTOR</th>\n",
       "      <td>36.70</td>\n",
       "      <td>34.50</td>\n",
       "      <td>31.28</td>\n",
       "    </tr>\n",
       "    <tr>\n",
       "      <th>SBERT</th>\n",
       "      <td>29.36</td>\n",
       "      <td>30.09</td>\n",
       "      <td>30.18</td>\n",
       "    </tr>\n",
       "    <tr>\n",
       "      <th>GLOVE</th>\n",
       "      <td>22.48</td>\n",
       "      <td>20.55</td>\n",
       "      <td>20.73</td>\n",
       "    </tr>\n",
       "    <tr>\n",
       "      <th>DOC2VEC</th>\n",
       "      <td>6.42</td>\n",
       "      <td>6.42</td>\n",
       "      <td>10.83</td>\n",
       "    </tr>\n",
       "  </tbody>\n",
       "</table>\n",
       "</div>"
      ],
      "text/plain": [
       "            Top 2  Top 5  Top 10\n",
       "MXBAI       34.86  32.29   29.17\n",
       "INSTRUCTOR  36.70  34.50   31.28\n",
       "SBERT       29.36  30.09   30.18\n",
       "GLOVE       22.48  20.55   20.73\n",
       "DOC2VEC      6.42   6.42   10.83"
      ]
     },
     "execution_count": 31,
     "metadata": {},
     "output_type": "execute_result"
    }
   ],
   "source": [
    "# creating a dataframe from the accuracy results\n",
    "major_model_accuracy = pd.DataFrame(\n",
    "    [[model[\"COMP\"][\"accuracy\"] for model in shared_major_accuracy_top_2.values()],\n",
    "     [model[\"COMP\"][\"accuracy\"] for model in shared_major_accuracy_top_5.values()],\n",
    "     [model[\"COMP\"][\"accuracy\"] for model in shared_major_accuracy_top_10.values()]],\n",
    "    columns=shared_major_accuracy_top_2.keys(),\n",
    ")\n",
    "major_model_accuracy = major_model_accuracy.T\n",
    "major_model_accuracy.columns = [\"Top 2\", \"Top 5\", \"Top 10\"]\n",
    "major_model_accuracy"
   ]
  }
 ],
 "metadata": {
  "kernelspec": {
   "display_name": "py310",
   "language": "python",
   "name": "python3"
  },
  "language_info": {
   "codemirror_mode": {
    "name": "ipython",
    "version": 3
   },
   "file_extension": ".py",
   "mimetype": "text/x-python",
   "name": "python",
   "nbconvert_exporter": "python",
   "pygments_lexer": "ipython3",
   "version": "3.10.13"
  }
 },
 "nbformat": 4,
 "nbformat_minor": 2
}
