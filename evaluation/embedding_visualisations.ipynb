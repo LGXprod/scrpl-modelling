{
 "cells": [
  {
   "cell_type": "code",
   "execution_count": 153,
   "metadata": {},
   "outputs": [],
   "source": [
    "import os\n",
    "import json\n",
    "from typing import Literal\n",
    "\n",
    "import pandas as pd\n",
    "import numpy as np\n",
    "from sklearn.manifold import TSNE\n",
    "import plotly.express as px"
   ]
  },
  {
   "cell_type": "code",
   "execution_count": 154,
   "metadata": {},
   "outputs": [],
   "source": [
    "with open(\"./data/degree_subject_codes/subject_to_degrees.json\") as f:\n",
    "    subject_to_degrees = json.load(f)"
   ]
  },
  {
   "cell_type": "code",
   "execution_count": 155,
   "metadata": {},
   "outputs": [],
   "source": [
    "with open(\"./data/major_rels/subject_to_majors.json\") as f:\n",
    "    subject_to_majors = json.load(f)"
   ]
  },
  {
   "cell_type": "code",
   "execution_count": 156,
   "metadata": {},
   "outputs": [],
   "source": [
    "with open(\"./data/degree_subject_codes/subject_to_median_year.json\") as f:\n",
    "    subject_to_median_year = json.load(f)"
   ]
  },
  {
   "cell_type": "code",
   "execution_count": 157,
   "metadata": {},
   "outputs": [],
   "source": [
    "subjects = {}"
   ]
  },
  {
   "cell_type": "code",
   "execution_count": 158,
   "metadata": {},
   "outputs": [],
   "source": [
    "for uni in [\"uts\", \"usyd\"]:\n",
    "  for embedding_type in os.listdir(f\"./data/embeddings/{uni}\"):\n",
    "    if embedding_type not in subjects:\n",
    "      subjects[embedding_type] = {\n",
    "        \"subject_codes\": [],\n",
    "        \"degrees\": [],\n",
    "        \"majors\": [],\n",
    "        \"median_years\": [],\n",
    "        \"embeddings\": []\n",
    "      }\n",
    "    \n",
    "    for embedding_file in os.listdir(f\"./data/embeddings/{uni}/{embedding_type}\"):\n",
    "      if not embedding_file.endswith(\".json\"):\n",
    "        continue\n",
    "      \n",
    "      subject_code = embedding_file.replace(\".json\", \"\")\n",
    "      \n",
    "      with open(f\"./data/embeddings/{uni}/{embedding_type}/{embedding_file}\", \"r\") as f:\n",
    "        embedding = json.load(f)\n",
    "        \n",
    "      subjects[embedding_type][\"subject_codes\"].append(subject_code)\n",
    "      subjects[embedding_type][\"degrees\"].append(subject_to_degrees[subject_code])\n",
    "      subjects[embedding_type][\"majors\"].append(subject_to_majors[subject_code])\n",
    "      subjects[embedding_type][\"median_years\"].append(subject_to_median_year[subject_code])\n",
    "      subjects[embedding_type][\"embeddings\"].append(embedding)"
   ]
  },
  {
   "cell_type": "code",
   "execution_count": 159,
   "metadata": {},
   "outputs": [],
   "source": [
    "degree_abbreviations = {\n",
    "  \"Bachelor of Engineering (Honours)\": \"ENGI\",\n",
    "  \"Bachelor of Computing Science (Honours)\": \"COMP\",\n",
    "  \"Bachelor of Advanced Computing\": \"COMP\",\n",
    "  \"Bachelor of Nursing (Advanced Studies)\": \"NURS\",\n",
    "  \"Bachelor of Nursing\": \"NURS\",\n",
    "}"
   ]
  },
  {
   "cell_type": "code",
   "execution_count": 160,
   "metadata": {},
   "outputs": [],
   "source": [
    "def get_degree_abbr(degrees):\n",
    "  if len(degrees) == 0:\n",
    "    return \"None\"\n",
    "  \n",
    "  # highest number of degrees is 2\n",
    "  if len(degrees) == 2:\n",
    "    return f\"ENGI - COMP\"\n",
    "  \n",
    "  return degree_abbreviations[degrees[0]]"
   ]
  },
  {
   "cell_type": "code",
   "execution_count": 161,
   "metadata": {},
   "outputs": [],
   "source": [
    "uts_to_usyd_major = {\n",
    "  \"Biomedical Engineering\": \"Biomedical\",\n",
    "  \"Civil Engineering\": \"Civil\",\n",
    "  \"Electrical Engineering\": \"Electrical\",\n",
    "  \"Electronic Engineering\": \"Electrical\",\n",
    "  \"Mechanical Engineering\": \"Mechanical\",\n",
    "  \"Mechatronic Engineering\": \"Mechatronic\",\n",
    "  \"Software Engineering\": \"Software\",\n",
    "  \"Civil and Environmental Engineering\": \"Civil\",\n",
    "  \"Mechanical and Mechatronic Engineering\": \"Mechatronic\",\n",
    "  \"Electrical and Electronic Engineering\": \"Electrical\",\n",
    "  \"Renewable Energy Engineering\": None,\n",
    "  \"Chemical Process Engineering\": None,\n",
    "  \"Data Science Engineering\": None,\n",
    "  \"Cybersecurity and Privacy\" : \"Cybersecurity\",\n",
    "  \"Enterprise Software Development\" : \"Software Development\",\n",
    "  \"Networking and Cybersecurity\" : \"Cybersecurity\",\n",
    "  \"Quantum Information Science\" : None,\n",
    "  \"Interaction Design\": None,\n",
    "  \"Mathematical Analysis\": None,\n",
    "  \"Business Information Systems Management\": None,\n",
    "  \"Artificial Intelligence and Data Analytics\": \"Computational Data Science\",\n",
    "}"
   ]
  },
  {
   "cell_type": "code",
   "execution_count": 162,
   "metadata": {},
   "outputs": [],
   "source": [
    "usyd_to_uts_major = { v: k for k, v in uts_to_usyd_major.items() }"
   ]
  },
  {
   "cell_type": "code",
   "execution_count": 163,
   "metadata": {},
   "outputs": [],
   "source": [
    "def get_major_label(majors):\n",
    "  if len(majors) == 1:\n",
    "    if majors[0] in usyd_to_uts_major:\n",
    "      return usyd_to_uts_major[majors[0]][:4].upper()\n",
    "    else:\n",
    "      return majors[0][:4].upper()\n",
    "    \n",
    "  if len(majors) >= 2:\n",
    "    major_abbreviations = []\n",
    "    \n",
    "    for major in majors:\n",
    "      if major in usyd_to_uts_major:\n",
    "        major_abbreviations.append(str(usyd_to_uts_major[major])[:4])\n",
    "      else:\n",
    "        major_abbreviations.append(major[:4])\n",
    "        \n",
    "    major_abbreviations = sorted(list(set(major_abbreviations)))\n",
    "    \n",
    "    return \" - \".join(major_abbreviations).upper()\n",
    "    \n",
    "  return \"CORE/NONE\""
   ]
  },
  {
   "cell_type": "code",
   "execution_count": 164,
   "metadata": {},
   "outputs": [],
   "source": [
    "EmbeddingType = Literal[\"mxbai\", \"instructor\", \"sbert\", \"glove\", \"doc2vec\"]"
   ]
  },
  {
   "cell_type": "code",
   "execution_count": 165,
   "metadata": {},
   "outputs": [],
   "source": [
    "def get_subject_features(embedding_type: EmbeddingType):\n",
    "  embeddings = np.array([subject for subject in subjects[embedding_type][\"embeddings\"]])\n",
    "  degrees = [get_degree_abbr(subject) for subject in subjects[embedding_type][\"degrees\"]]\n",
    "  majors = [get_major_label(subject) for subject in subjects[embedding_type][\"majors\"]]\n",
    "  unis = [\"UTS\" if subject_code.isdigit() else \"USYD\" for subject_code in subjects[embedding_type][\"subject_codes\"]]\n",
    "  years = [str(year) for year in subjects[embedding_type][\"median_years\"]]\n",
    "  \n",
    "  return embeddings, degrees, majors, unis, years"
   ]
  },
  {
   "cell_type": "code",
   "execution_count": 166,
   "metadata": {},
   "outputs": [],
   "source": [
    "def show_degree_plot(embedding_type: EmbeddingType):\n",
    "  embeddings, degrees, majors, unis, _ = get_subject_features(embedding_type)\n",
    "  \n",
    "  tsne = TSNE(n_components=2, random_state=42)\n",
    "  X_tsne = tsne.fit_transform(embeddings)\n",
    "  tsne.kl_divergence_\n",
    "  \n",
    "  subject_df = pd.DataFrame({\n",
    "  \"x\": X_tsne[:, 0],\n",
    "  \"y\": X_tsne[:, 1],\n",
    "  \"degree\": degrees,\n",
    "  \"major\": majors,\n",
    "  \"subject_code\": subjects[embedding_type][\"subject_codes\"],\n",
    "  \"uni\": unis\n",
    "  })\n",
    "  \n",
    "  fig = px.scatter(subject_df, x=\"x\", y=\"y\", color=\"degree\", symbol=\"uni\", hover_name=\"subject_code\", hover_data=[\"subject_code\", \"uni\"])\n",
    "  fig.update_layout(\n",
    "      title=f\"t-SNE of {embedding_type.upper()} embeddings of UTS and USYD subjects using by Degree\",\n",
    "      xaxis_title=\"First t-SNE\",\n",
    "      yaxis_title=\"Second t-SNE\",\n",
    "  )\n",
    "  fig.show()"
   ]
  },
  {
   "cell_type": "code",
   "execution_count": 167,
   "metadata": {},
   "outputs": [],
   "source": [
    "def show_major_plot(embedding_type: Literal[\"mxbai\", \"instructor\", \"sbert\", \"glove\", \"doc2vec\"]):\n",
    "  embeddings, degrees, majors, unis, _ = get_subject_features(embedding_type)\n",
    "  \n",
    "  tsne = TSNE(n_components=2, random_state=42)\n",
    "  X_tsne = tsne.fit_transform(embeddings)\n",
    "  tsne.kl_divergence_\n",
    "  \n",
    "  subject_df = pd.DataFrame({\n",
    "  \"x\": X_tsne[:, 0],\n",
    "  \"y\": X_tsne[:, 1],\n",
    "  \"degree\": degrees,\n",
    "  \"major\": majors,\n",
    "  \"subject_code\": subjects[embedding_type][\"subject_codes\"],\n",
    "  \"uni\": unis\n",
    "  })\n",
    "  \n",
    "  fig = px.scatter(subject_df, x=\"x\", y=\"y\", color=\"major\", labels={\"color\": \"Major\"}, hover_data=[\"subject_code\", \"uni\"], symbol=\"uni\")\n",
    "  fig.update_layout(\n",
    "      title=f\"t-SNE visualization of {embedding_type.upper()} embeddings of UTS and USYD subjects by Major\",\n",
    "      xaxis_title=\"First t-SNE\",\n",
    "      yaxis_title=\"Second t-SNE\",\n",
    "  )\n",
    "  fig.show()"
   ]
  },
  {
   "cell_type": "code",
   "execution_count": 168,
   "metadata": {},
   "outputs": [],
   "source": [
    "def show_year_plot(embedding_type: Literal[\"mxbai\", \"instructor\", \"sbert\", \"glove\", \"doc2vec\"]):\n",
    "  embeddings, degrees, majors, unis, years = get_subject_features(embedding_type)\n",
    "  \n",
    "  tsne = TSNE(n_components=2, random_state=42)\n",
    "  X_tsne = tsne.fit_transform(embeddings)\n",
    "  tsne.kl_divergence_\n",
    "  \n",
    "  subject_df = pd.DataFrame({\n",
    "  \"x\": X_tsne[:, 0],\n",
    "  \"y\": X_tsne[:, 1],\n",
    "  \"degree\": degrees,\n",
    "  \"major\": majors,\n",
    "  \"subject_code\": subjects[embedding_type][\"subject_codes\"],\n",
    "  \"uni\": unis,\n",
    "  \"year\": years\n",
    "  })\n",
    "  \n",
    "  fig = px.scatter(subject_df, x=\"x\", y=\"y\", color=\"year\", labels={\"color\": \"Year\"}, hover_data=[\"subject_code\", \"uni\"], symbol=\"uni\")\n",
    "  fig.update_layout(\n",
    "      title=f\"t-SNE visualization of {embedding_type.upper()} embeddings of UTS and USYD subjects by Year\",\n",
    "      xaxis_title=\"First t-SNE\",\n",
    "      yaxis_title=\"Second t-SNE\",\n",
    "  )\n",
    "  fig.show()"
   ]
  },
  {
   "cell_type": "code",
   "execution_count": 169,
   "metadata": {},
   "outputs": [
    {
     "data": {
      "application/vnd.plotly.v1+json": {
       "config": {
        "plotlyServerURL": "https://plot.ly"
       },
       "data": [
        {
         "customdata": [
          [
           "48260",
           "UTS"
          ],
          [
           "48221",
           "UTS"
          ],
          [
           "41057",
           "UTS"
          ],
          [
           "41305",
           "UTS"
          ],
          [
           "41082",
           "UTS"
          ],
          [
           "41128",
           "UTS"
          ],
          [
           "41201",
           "UTS"
          ],
          [
           "49261",
           "UTS"
          ],
          [
           "91705",
           "UTS"
          ],
          [
           "42724",
           "UTS"
          ],
          [
           "41108",
           "UTS"
          ],
          [
           "41276",
           "UTS"
          ],
          [
           "16138",
           "UTS"
          ],
          [
           "48850",
           "UTS"
          ],
          [
           "43123",
           "UTS"
          ],
          [
           "91400",
           "UTS"
          ],
          [
           "41124",
           "UTS"
          ],
          [
           "48610",
           "UTS"
          ],
          [
           "42026",
           "UTS"
          ],
          [
           "48352",
           "UTS"
          ],
          [
           "48353",
           "UTS"
          ],
          [
           "41125",
           "UTS"
          ],
          [
           "41060",
           "UTS"
          ],
          [
           "16912",
           "UTS"
          ],
          [
           "60101",
           "UTS"
          ],
          [
           "41099",
           "UTS"
          ],
          [
           "41308",
           "UTS"
          ],
          [
           "43026",
           "UTS"
          ],
          [
           "41277",
           "UTS"
          ],
          [
           "16314",
           "UTS"
          ],
          [
           "41200",
           "UTS"
          ],
          [
           "41129",
           "UTS"
          ],
          [
           "48430",
           "UTS"
          ],
          [
           "48349",
           "UTS"
          ],
          [
           "41056",
           "UTS"
          ],
          [
           "41386",
           "UTS"
          ],
          [
           "42722",
           "UTS"
          ],
          [
           "43021",
           "UTS"
          ],
          [
           "41118",
           "UTS"
          ],
          [
           "41163",
           "UTS"
          ],
          [
           "41088",
           "UTS"
          ],
          [
           "41067",
           "UTS"
          ],
          [
           "48641",
           "UTS"
          ],
          [
           "41030",
           "UTS"
          ],
          [
           "41381",
           "UTS"
          ],
          [
           "48362",
           "UTS"
          ],
          [
           "68412",
           "UTS"
          ],
          [
           "43017",
           "UTS"
          ],
          [
           "48572",
           "UTS"
          ],
          [
           "48821",
           "UTS"
          ],
          [
           "41084",
           "UTS"
          ],
          [
           "48860",
           "UTS"
          ],
          [
           "26101",
           "UTS"
          ],
          [
           "42095",
           "UTS"
          ],
          [
           "41085",
           "UTS"
          ],
          [
           "68038",
           "UTS"
          ],
          [
           "41302",
           "UTS"
          ],
          [
           "16471",
           "UTS"
          ],
          [
           "42001",
           "UTS"
          ],
          [
           "48230",
           "UTS"
          ],
          [
           "41380",
           "UTS"
          ],
          [
           "41089",
           "UTS"
          ],
          [
           "41066",
           "UTS"
          ],
          [
           "41070",
           "UTS"
          ],
          [
           "41162",
           "UTS"
          ],
          [
           "49047",
           "UTS"
          ],
          [
           "43124",
           "UTS"
          ],
          [
           "48441",
           "UTS"
          ],
          [
           "31061",
           "UTS"
          ],
          [
           "48881",
           "UTS"
          ],
          [
           "68037",
           "UTS"
          ],
          [
           "43019",
           "UTS"
          ],
          [
           "41161",
           "UTS"
          ],
          [
           "48340",
           "UTS"
          ],
          [
           "48550",
           "UTS"
          ],
          [
           "65111",
           "UTS"
          ],
          [
           "48531",
           "UTS"
          ],
          [
           "41069",
           "UTS"
          ],
          [
           "41086",
           "UTS"
          ],
          [
           "41301",
           "UTS"
          ],
          [
           "41028",
           "UTS"
          ],
          [
           "43015",
           "UTS"
          ],
          [
           "41053",
           "UTS"
          ],
          [
           "48622",
           "UTS"
          ],
          [
           "48360",
           "UTS"
          ],
          [
           "41012",
           "UTS"
          ],
          [
           "41383",
           "UTS"
          ],
          [
           "48321",
           "UTS"
          ],
          [
           "48320",
           "UTS"
          ],
          [
           "41382",
           "UTS"
          ],
          [
           "41013",
           "UTS"
          ],
          [
           "41117",
           "UTS"
          ],
          [
           "43014",
           "UTS"
          ],
          [
           "41029",
           "UTS"
          ],
          [
           "48434",
           "UTS"
          ],
          [
           "41091",
           "UTS"
          ],
          [
           "16263",
           "UTS"
          ],
          [
           "41068",
           "UTS"
          ],
          [
           "41087",
           "UTS"
          ],
          [
           "48530",
           "UTS"
          ],
          [
           "48510",
           "UTS"
          ],
          [
           "43022",
           "UTS"
          ],
          [
           "43018",
           "UTS"
          ],
          [
           "41160",
           "UTS"
          ],
          [
           "41033",
           "UTS"
          ],
          [
           "41203",
           "UTS"
          ],
          [
           "48521",
           "UTS"
          ],
          [
           "91822",
           "UTS"
          ],
          [
           "48331",
           "UTS"
          ],
          [
           "41055",
           "UTS"
          ],
          [
           "48366",
           "UTS"
          ],
          [
           "48389",
           "UTS"
          ],
          [
           "41278",
           "UTS"
          ],
          [
           "49131",
           "UTS"
          ],
          [
           "48370",
           "UTS"
          ],
          [
           "41014",
           "UTS"
          ],
          [
           "41385",
           "UTS"
          ],
          [
           "41034",
           "UTS"
          ],
          [
           "48350",
           "UTS"
          ],
          [
           "65212",
           "UTS"
          ],
          [
           "49150",
           "UTS"
          ],
          [
           "41059",
           "UTS"
          ],
          [
           "48540",
           "UTS"
          ],
          [
           "41058",
           "UTS"
          ],
          [
           "49151",
           "UTS"
          ],
          [
           "48310",
           "UTS"
          ],
          [
           "41127",
           "UTS"
          ],
          [
           "48582",
           "UTS"
          ],
          [
           "41035",
           "UTS"
          ],
          [
           "41384",
           "UTS"
          ],
          [
           "48371",
           "UTS"
          ],
          [
           "91161",
           "UTS"
          ],
          [
           "16422",
           "UTS"
          ],
          [
           "48330",
           "UTS"
          ],
          [
           "41054",
           "UTS"
          ],
          [
           "48520",
           "UTS"
          ],
          [
           "41202",
           "UTS"
          ],
          [
           "48023",
           "UTS"
          ],
          [
           "48561",
           "UTS"
          ]
         ],
         "hovertemplate": "<b>%{hovertext}</b><br><br>degree=ENGI<br>uni=%{customdata[1]}<br>x=%{x}<br>y=%{y}<br>subject_code=%{customdata[0]}<extra></extra>",
         "hovertext": [
          "48260",
          "48221",
          "41057",
          "41305",
          "41082",
          "41128",
          "41201",
          "49261",
          "91705",
          "42724",
          "41108",
          "41276",
          "16138",
          "48850",
          "43123",
          "91400",
          "41124",
          "48610",
          "42026",
          "48352",
          "48353",
          "41125",
          "41060",
          "16912",
          "60101",
          "41099",
          "41308",
          "43026",
          "41277",
          "16314",
          "41200",
          "41129",
          "48430",
          "48349",
          "41056",
          "41386",
          "42722",
          "43021",
          "41118",
          "41163",
          "41088",
          "41067",
          "48641",
          "41030",
          "41381",
          "48362",
          "68412",
          "43017",
          "48572",
          "48821",
          "41084",
          "48860",
          "26101",
          "42095",
          "41085",
          "68038",
          "41302",
          "16471",
          "42001",
          "48230",
          "41380",
          "41089",
          "41066",
          "41070",
          "41162",
          "49047",
          "43124",
          "48441",
          "31061",
          "48881",
          "68037",
          "43019",
          "41161",
          "48340",
          "48550",
          "65111",
          "48531",
          "41069",
          "41086",
          "41301",
          "41028",
          "43015",
          "41053",
          "48622",
          "48360",
          "41012",
          "41383",
          "48321",
          "48320",
          "41382",
          "41013",
          "41117",
          "43014",
          "41029",
          "48434",
          "41091",
          "16263",
          "41068",
          "41087",
          "48530",
          "48510",
          "43022",
          "43018",
          "41160",
          "41033",
          "41203",
          "48521",
          "91822",
          "48331",
          "41055",
          "48366",
          "48389",
          "41278",
          "49131",
          "48370",
          "41014",
          "41385",
          "41034",
          "48350",
          "65212",
          "49150",
          "41059",
          "48540",
          "41058",
          "49151",
          "48310",
          "41127",
          "48582",
          "41035",
          "41384",
          "48371",
          "91161",
          "16422",
          "48330",
          "41054",
          "48520",
          "41202",
          "48023",
          "48561"
         ],
         "legendgroup": "ENGI, UTS",
         "marker": {
          "color": "#636efa",
          "symbol": "circle"
         },
         "mode": "markers",
         "name": "ENGI, UTS",
         "orientation": "v",
         "showlegend": true,
         "type": "scatter",
         "x": [
          -22.142976760864258,
          -21.716533660888672,
          -15.96213436126709,
          -10.410958290100098,
          -11.331449508666992,
          -18.240890502929688,
          -21.912012100219727,
          16.20632553100586,
          17.29581642150879,
          13.242055892944336,
          -12.126025199890137,
          -7.983274936676025,
          -27.399938583374023,
          -21.54379653930664,
          -15.4835205078125,
          18.597143173217773,
          -13.138443946838379,
          -10.80312442779541,
          14.052728652954102,
          -24.117647171020508,
          -26.13865852355957,
          -14.05543327331543,
          -14.588295936584473,
          -25.542861938476562,
          -13.472888946533203,
          -9.361056327819824,
          -6.219724178314209,
          -14.442359924316406,
          -4.763635635375977,
          -25.658130645751953,
          -21.492307662963867,
          -19.199886322021484,
          -16.07159996032715,
          -24.955495834350586,
          -9.479279518127441,
          -18.45368766784668,
          13.633386611938477,
          15.514254570007324,
          -5.784665107727051,
          14.863629341125488,
          -12.103639602661133,
          -10.768209457397461,
          -17.820634841918945,
          -19.824087142944336,
          -18.454540252685547,
          -18.37515640258789,
          17.692453384399414,
          -9.765344619750977,
          -4.780324459075928,
          -20.7094669342041,
          -10.65875244140625,
          -20.435922622680664,
          31.789804458618164,
          -26.889183044433594,
          -10.894315719604492,
          18.308324813842773,
          -12.184739112854004,
          -25.546001434326172,
          15.405972480773926,
          -20.764787673950195,
          -16.328346252441406,
          -12.056320190429688,
          -10.67399787902832,
          -9.141990661621094,
          15.356180191040039,
          -28.331954956054688,
          -14.954146385192871,
          -7.257664203643799,
          -18.286197662353516,
          -22.079137802124023,
          18.207263946533203,
          -9.954426765441895,
          14.384039878845215,
          -23.608028411865234,
          -13.982397079467773,
          17.511022567749023,
          -6.020337104797363,
          -8.840388298034668,
          -11.404372215270996,
          -12.326934814453125,
          -19.42557144165039,
          -15.623538970947266,
          -12.304350852966309,
          -7.586949825286865,
          -29.148414611816406,
          -7.645839214324951,
          -17.852609634399414,
          -23.96452522277832,
          -28.2774715423584,
          -17.626985549926758,
          -6.875572204589844,
          -16.569087982177734,
          -10.886429786682129,
          -22.113842010498047,
          -7.581244468688965,
          -11.399873733520508,
          -25.44015884399414,
          -8.285201072692871,
          -11.8612060546875,
          -5.0660400390625,
          -6.4916839599609375,
          16.439762115478516,
          -7.676042079925537,
          15.096964836120605,
          -7.520244598388672,
          -22.559261322021484,
          -6.259658336639404,
          18.493148803710938,
          -23.85462188720703,
          -19.423986434936523,
          -25.983928680419922,
          -23.31454086303711,
          -3.470489978790283,
          -25.345523834228516,
          -22.263093948364258,
          -7.812809467315674,
          -17.853078842163086,
          -8.243982315063477,
          -21.274826049804688,
          17.519886016845703,
          -26.179365158081055,
          -10.5569486618042,
          -4.79085636138916,
          -7.7368083000183105,
          -25.6976261138916,
          -22.16950798034668,
          -18.93465232849121,
          -4.663252353668213,
          -20.129547119140625,
          -16.71009635925293,
          -22.120702743530273,
          18.39153289794922,
          -25.98565101623535,
          -29.18726921081543,
          -11.083793640136719,
          -6.332984447479248,
          -21.091798782348633,
          -16.105207443237305,
          -3.1981313228607178
         ],
         "xaxis": "x",
         "y": [
          -3.5193257331848145,
          7.519746780395508,
          6.445082187652588,
          1.5905565023422241,
          -9.34656810760498,
          -20.95412254333496,
          -1.2949652671813965,
          11.9617280960083,
          11.343188285827637,
          12.226723670959473,
          4.677834510803223,
          -1.2916269302368164,
          2.6590073108673096,
          2.5849132537841797,
          0.533069908618927,
          9.855260848999023,
          -1.2394392490386963,
          6.780492305755615,
          13.270631790161133,
          4.417533874511719,
          8.407990455627441,
          -0.3868865370750427,
          5.6496171951293945,
          1.31680166721344,
          8.849594116210938,
          5.868344306945801,
          5.510449409484863,
          -1.1189385652542114,
          -4.091635227203369,
          1.9259109497070312,
          -1.5815104246139526,
          -20.437793731689453,
          -22.184852600097656,
          9.450714111328125,
          7.687722206115723,
          10.56935977935791,
          14.276167869567871,
          13.440919876098633,
          3.960033893585205,
          13.571352005004883,
          -4.489995956420898,
          3.831225872039795,
          6.151764869689941,
          -0.7423783540725708,
          8.202932357788086,
          5.869856357574463,
          -2.062613010406494,
          7.211297035217285,
          -0.4204222559928894,
          4.458155632019043,
          -4.869515419006348,
          3.706805944442749,
          -8.598318099975586,
          0.22233103215694427,
          -4.745215892791748,
          -3.3740906715393066,
          9.140449523925781,
          2.9659998416900635,
          10.4800443649292,
          -3.4244625568389893,
          7.70539665222168,
          -4.464839458465576,
          3.9281513690948486,
          2.9535093307495117,
          12.144682884216309,
          9.65881061553955,
          0.013014709576964378,
          0.05277539789676666,
          -23.934492111206055,
          1.8382502794265747,
          -2.969093084335327,
          4.893903732299805,
          11.398189544677734,
          4.175206661224365,
          -0.016687501221895218,
          0.841120183467865,
          1.1612502336502075,
          4.574830532073975,
          -5.447885990142822,
          6.643880844116211,
          -1.8502947092056274,
          6.222045421600342,
          8.374218940734863,
          1.3791120052337646,
          5.932368755340576,
          2.9751100540161133,
          9.824050903320312,
          9.777688980102539,
          3.783214569091797,
          10.925158500671387,
          4.528330326080322,
          8.760534286499023,
          8.226780891418457,
          0.7650306224822998,
          -6.197201251983643,
          -9.41368293762207,
          0.3395159840583801,
          4.382903099060059,
          -5.471928596496582,
          -2.3736023902893066,
          -2.768765687942505,
          14.123173713684082,
          7.917867660522461,
          12.075919151306152,
          -1.0912575721740723,
          -2.0595176219940186,
          -2.564666509628296,
          8.217264175415039,
          10.146366119384766,
          -1.8151471614837646,
          9.788326263427734,
          7.678007125854492,
          -1.503293514251709,
          6.862419605255127,
          5.103444576263428,
          6.36959171295166,
          10.156442642211914,
          -2.7616209983825684,
          4.191880226135254,
          0.8453714847564697,
          7.613654136657715,
          4.60529088973999,
          -3.722764015197754,
          7.8767924308776855,
          5.286440372467041,
          4.345429420471191,
          -19.892784118652344,
          -0.351808100938797,
          -1.8422454595565796,
          10.071884155273438,
          7.466552257537842,
          8.41495132446289,
          2.486128091812134,
          5.971279144287109,
          7.741824626922607,
          -1.55771005153656,
          -2.4374518394470215,
          -20.904098510742188,
          -1.2115572690963745
         ],
         "yaxis": "y"
        },
        {
         "customdata": [
          [
           "ELEC2104",
           "USYD"
          ],
          [
           "BMET2901",
           "USYD"
          ],
          [
           "ELEC5507",
           "USYD"
          ],
          [
           "ELEC3607",
           "USYD"
          ],
          [
           "AMME5060",
           "USYD"
          ],
          [
           "BMET5790",
           "USYD"
          ],
          [
           "ELEC3304",
           "USYD"
          ],
          [
           "CIVL1110",
           "USYD"
          ],
          [
           "BMET5944",
           "USYD"
          ],
          [
           "ELEC5511",
           "USYD"
          ],
          [
           "ELEC5213",
           "USYD"
          ],
          [
           "MECH3261",
           "USYD"
          ],
          [
           "CIVL5702",
           "USYD"
          ],
          [
           "ELEC5205",
           "USYD"
          ],
          [
           "PHYS1003",
           "USYD"
          ],
          [
           "ELEC5622",
           "USYD"
          ],
          [
           "ENGP1002",
           "USYD"
          ],
          [
           "CHEM1991",
           "USYD"
          ],
          [
           "ENGG2112",
           "USYD"
          ],
          [
           "AMME4112",
           "USYD"
          ],
          [
           "CIVL5276",
           "USYD"
          ],
          [
           "BMET3961",
           "USYD"
          ],
          [
           "BMET2960",
           "USYD"
          ],
          [
           "BMET5933",
           "USYD"
          ],
          [
           "CIVL1022",
           "USYD"
          ],
          [
           "BMET5964",
           "USYD"
          ],
          [
           "AMME5902",
           "USYD"
          ],
          [
           "MATH2061",
           "USYD"
          ],
          [
           "CIVL5535",
           "USYD"
          ],
          [
           "AMME5105",
           "USYD"
          ],
          [
           "AMME5104",
           "USYD"
          ],
          [
           "ELEC5208",
           "USYD"
          ],
          [
           "ENGG3112",
           "USYD"
          ],
          [
           "PHYS2213",
           "USYD"
          ],
          [
           "MTRX1705",
           "USYD"
          ],
          [
           "CIVL5670",
           "USYD"
          ],
          [
           "DATA1002",
           "USYD"
          ],
          [
           "CIVL5277",
           "USYD"
          ],
          [
           "AMME2301",
           "USYD"
          ],
          [
           "MECH1400",
           "USYD"
          ],
          [
           "ENGP1003",
           "USYD"
          ],
          [
           "BMET3921",
           "USYD"
          ],
          [
           "CIVL4903",
           "USYD"
          ],
          [
           "ELEC5204",
           "USYD"
          ],
          [
           "ELEC3104",
           "USYD"
          ],
          [
           "CIVL3511",
           "USYD"
          ],
          [
           "CIVL5703",
           "USYD"
          ],
          [
           "MECH3260",
           "USYD"
          ],
          [
           "BMET4010",
           "USYD"
          ],
          [
           "ELEC5212",
           "USYD"
          ],
          [
           "ELEC5510",
           "USYD"
          ],
          [
           "CIVL1900",
           "USYD"
          ],
          [
           "ELEC3702",
           "USYD"
          ],
          [
           "MECH5265",
           "USYD"
          ],
          [
           "ELEC3610",
           "USYD"
          ],
          [
           "CIVL3205",
           "USYD"
          ],
          [
           "ELEC3305",
           "USYD"
          ],
          [
           "ELEC5101",
           "USYD"
          ],
          [
           "CIVL3614",
           "USYD"
          ],
          [
           "BMET5953",
           "USYD"
          ],
          [
           "AMME4010",
           "USYD"
          ],
          [
           "BMET5958",
           "USYD"
          ],
          [
           "BMET3971",
           "USYD"
          ],
          [
           "CIVL5266",
           "USYD"
          ],
          [
           "AMME4401",
           "USYD"
          ],
          [
           "MECH2401",
           "USYD"
          ],
          [
           "ENGP2002",
           "USYD"
          ],
          [
           "CIVL5460",
           "USYD"
          ],
          [
           "MTRX1702",
           "USYD"
          ],
          [
           "BMET5962",
           "USYD"
          ],
          [
           "AMME1802",
           "USYD"
          ],
          [
           "AMME5292",
           "USYD"
          ],
          [
           "MTRX5700",
           "USYD"
          ],
          [
           "AMME5912",
           "USYD"
          ],
          [
           "MECH5311",
           "USYD"
          ],
          [
           "AMME2500",
           "USYD"
          ],
          [
           "CIVL5533",
           "USYD"
          ],
          [
           "BMET1960",
           "USYD"
          ],
          [
           "ELEC3206",
           "USYD"
          ],
          [
           "CIVL3310",
           "USYD"
          ],
          [
           "MECH5720",
           "USYD"
          ],
          [
           "ELEC5517",
           "USYD"
          ],
          [
           "BMET3802",
           "USYD"
          ],
          [
           "CIVL5704",
           "USYD"
          ],
          [
           "CIVL4816",
           "USYD"
          ],
          [
           "ISYS3402",
           "USYD"
          ],
          [
           "MECH2460",
           "USYD"
          ],
          [
           "AMME5271",
           "USYD"
          ],
          [
           "ELEC5203",
           "USYD"
          ],
          [
           "CHNG4203",
           "USYD"
          ],
          [
           "CIVL2700",
           "USYD"
          ],
          [
           "MECH3362",
           "USYD"
          ],
          [
           "ELEC3505",
           "USYD"
          ],
          [
           "BMET4112",
           "USYD"
          ],
          [
           "CIVL4817",
           "USYD"
          ],
          [
           "BMET5996",
           "USYD"
          ],
          [
           "ELEC2302",
           "USYD"
          ],
          [
           "ELEC5701",
           "USYD"
          ],
          [
           "AMME2262",
           "USYD"
          ],
          [
           "BMET4981",
           "USYD"
          ],
          [
           "ELEC5516",
           "USYD"
          ],
          [
           "CHNG4812",
           "USYD"
          ],
          [
           "CIVL1802",
           "USYD"
          ],
          [
           "MECH5275",
           "USYD"
          ],
          [
           "CIVL2812",
           "USYD"
          ],
          [
           "STAT2911",
           "USYD"
          ],
          [
           "MECH3460",
           "USYD"
          ],
          [
           "ELEC2103",
           "USYD"
          ],
          [
           "CIVL3612",
           "USYD"
          ],
          [
           "CIVL3235",
           "USYD"
          ],
          [
           "BMET1961",
           "USYD"
          ],
          [
           "MECH5310",
           "USYD"
          ],
          [
           "MECH5255",
           "USYD"
          ],
          [
           "BMET5963",
           "USYD"
          ],
          [
           "ENGP3002",
           "USYD"
          ],
          [
           "CHNG1108",
           "USYD"
          ],
          [
           "BMET5934",
           "USYD"
          ],
          [
           "ENGP2003",
           "USYD"
          ],
          [
           "MECH2400",
           "USYD"
          ],
          [
           "CIVL4860",
           "USYD"
          ],
          [
           "ENGG1810",
           "USYD"
          ],
          [
           "AMME3500",
           "USYD"
          ],
          [
           "AERO1560",
           "USYD"
          ],
          [
           "BMET5959",
           "USYD"
          ],
          [
           "ELEC5760",
           "USYD"
          ],
          [
           "AMME5101",
           "USYD"
          ],
          [
           "AMME4710",
           "USYD"
          ],
          [
           "CIVL5531",
           "USYD"
          ],
          [
           "BMET3660",
           "USYD"
          ],
          [
           "CIVL4818",
           "USYD"
          ],
          [
           "BMET2925",
           "USYD"
          ],
          [
           "ENGP3001",
           "USYD"
          ],
          [
           "AMME5510",
           "USYD"
          ],
          [
           "MECH5305",
           "USYD"
          ],
          [
           "CIVL5458",
           "USYD"
          ],
          [
           "AMME2200",
           "USYD"
          ],
          [
           "AMME1705",
           "USYD"
          ],
          [
           "ELEC2602",
           "USYD"
          ],
          [
           "MECH3361",
           "USYD"
          ],
          [
           "MECH1560",
           "USYD"
          ],
          [
           "BMET4111",
           "USYD"
          ],
          [
           "ELEC3802",
           "USYD"
          ],
          [
           "MATH2069",
           "USYD"
          ],
          [
           "BMET5995",
           "USYD"
          ],
          [
           "ELEC5305",
           "USYD"
          ],
          [
           "CIVL3806",
           "USYD"
          ],
          [
           "CIVL2201",
           "USYD"
          ],
          [
           "AMME2261",
           "USYD"
          ],
          [
           "CHNG4811",
           "USYD"
          ],
          [
           "BMET3990",
           "USYD"
          ],
          [
           "STAT2011",
           "USYD"
          ],
          [
           "ELEC2100",
           "USYD"
          ],
          [
           "ELEC3204",
           "USYD"
          ],
          [
           "BMET5957",
           "USYD"
          ],
          [
           "CIVL5269",
           "USYD"
          ],
          [
           "BUSS1030",
           "USYD"
          ],
          [
           "BMET2400",
           "USYD"
          ],
          [
           "ELEC4714",
           "USYD"
          ],
          [
           "CIVL2410",
           "USYD"
          ],
          [
           "CIVL3411",
           "USYD"
          ],
          [
           "ELEC5304",
           "USYD"
          ],
          [
           "AMME1362",
           "USYD"
          ],
          [
           "AMME3060",
           "USYD"
          ],
          [
           "ELEC3803",
           "USYD"
          ],
          [
           "CIVL2611",
           "USYD"
          ],
          [
           "CIVL3811",
           "USYD"
          ],
          [
           "CIVL5320",
           "USYD"
          ],
          [
           "ELEC5518",
           "USYD"
          ],
          [
           "ENGP2001",
           "USYD"
          ],
          [
           "MTRX1701",
           "USYD"
          ],
          [
           "AMME2000",
           "USYD"
          ],
          [
           "MECH5304",
           "USYD"
          ],
          [
           "MATH1062",
           "USYD"
          ],
          [
           "ELEC5308",
           "USYD"
          ],
          [
           "CIVL4819",
           "USYD"
          ],
          [
           "CHEM1111",
           "USYD"
          ],
          [
           "ELEC5207",
           "USYD"
          ],
          [
           "CIVL4812",
           "USYD"
          ],
          [
           "MKTG1001",
           "USYD"
          ],
          [
           "ELEC3404",
           "USYD"
          ],
          [
           "MTRX3760",
           "USYD"
          ],
          [
           "MECH4660",
           "USYD"
          ],
          [
           "ELEC5211",
           "USYD"
          ],
          [
           "AERO5750",
           "USYD"
          ],
          [
           "CIVL2010",
           "USYD"
          ],
          [
           "CIVL3206",
           "USYD"
          ],
          [
           "BMET5911",
           "USYD"
          ],
          [
           "CIVL5452",
           "USYD"
          ],
          [
           "ELEC4713",
           "USYD"
          ],
          [
           "ELEC1004",
           "USYD"
          ],
          [
           "BMET5907",
           "USYD"
          ],
          [
           "CIVL3705",
           "USYD"
          ],
          [
           "BMET2903",
           "USYD"
          ],
          [
           "AMME5520",
           "USYD"
          ],
          [
           "MTRX2700",
           "USYD"
          ],
          [
           "CIVL5999",
           "USYD"
          ],
          [
           "CHEM1911",
           "USYD"
          ],
          [
           "BMET5931",
           "USYD"
          ],
          [
           "DATA1902",
           "USYD"
          ],
          [
           "CIVL4023",
           "USYD"
          ],
          [
           "ELEC3609",
           "USYD"
          ],
          [
           "AMME5202",
           "USYD"
          ],
          [
           "AMME5310",
           "USYD"
          ],
          [
           "PHYS1001",
           "USYD"
          ],
          [
           "ENGP1001",
           "USYD"
          ],
          [
           "MTRX3700",
           "USYD"
          ],
          [
           "CIVL4022",
           "USYD"
          ],
          [
           "ELEC3608",
           "USYD"
          ],
          [
           "AMME4111",
           "USYD"
          ],
          [
           "CIVL5330",
           "USYD"
          ],
          [
           "BMET2922",
           "USYD"
          ],
          [
           "CIVL5668",
           "USYD"
          ],
          [
           "ELEC3203",
           "USYD"
          ],
          [
           "BMET2902",
           "USYD"
          ],
          [
           "BMET3997",
           "USYD"
          ],
          [
           "CIVL3704",
           "USYD"
          ],
          [
           "CIVL5453",
           "USYD"
          ],
          [
           "ELEC4712",
           "USYD"
          ],
          [
           "MECH4460",
           "USYD"
          ],
          [
           "ELEC1005",
           "USYD"
          ],
          [
           "ELEC3612",
           "USYD"
          ],
          [
           "CIVL1810",
           "USYD"
          ],
          [
           "CIVL4203",
           "USYD"
          ],
          [
           "ELEC5512",
           "USYD"
          ],
          [
           "ELEC3405",
           "USYD"
          ],
          [
           "CIVL5351",
           "USYD"
          ],
          [
           "CIVL5701",
           "USYD"
          ],
          [
           "BMET5992",
           "USYD"
          ],
          [
           "ELEC4505",
           "USYD"
          ],
          [
           "ELEC5206",
           "USYD"
          ],
          [
           "MECH5461",
           "USYD"
          ]
         ],
         "hovertemplate": "<b>%{hovertext}</b><br><br>degree=ENGI<br>uni=%{customdata[1]}<br>x=%{x}<br>y=%{y}<br>subject_code=%{customdata[0]}<extra></extra>",
         "hovertext": [
          "ELEC2104",
          "BMET2901",
          "ELEC5507",
          "ELEC3607",
          "AMME5060",
          "BMET5790",
          "ELEC3304",
          "CIVL1110",
          "BMET5944",
          "ELEC5511",
          "ELEC5213",
          "MECH3261",
          "CIVL5702",
          "ELEC5205",
          "PHYS1003",
          "ELEC5622",
          "ENGP1002",
          "CHEM1991",
          "ENGG2112",
          "AMME4112",
          "CIVL5276",
          "BMET3961",
          "BMET2960",
          "BMET5933",
          "CIVL1022",
          "BMET5964",
          "AMME5902",
          "MATH2061",
          "CIVL5535",
          "AMME5105",
          "AMME5104",
          "ELEC5208",
          "ENGG3112",
          "PHYS2213",
          "MTRX1705",
          "CIVL5670",
          "DATA1002",
          "CIVL5277",
          "AMME2301",
          "MECH1400",
          "ENGP1003",
          "BMET3921",
          "CIVL4903",
          "ELEC5204",
          "ELEC3104",
          "CIVL3511",
          "CIVL5703",
          "MECH3260",
          "BMET4010",
          "ELEC5212",
          "ELEC5510",
          "CIVL1900",
          "ELEC3702",
          "MECH5265",
          "ELEC3610",
          "CIVL3205",
          "ELEC3305",
          "ELEC5101",
          "CIVL3614",
          "BMET5953",
          "AMME4010",
          "BMET5958",
          "BMET3971",
          "CIVL5266",
          "AMME4401",
          "MECH2401",
          "ENGP2002",
          "CIVL5460",
          "MTRX1702",
          "BMET5962",
          "AMME1802",
          "AMME5292",
          "MTRX5700",
          "AMME5912",
          "MECH5311",
          "AMME2500",
          "CIVL5533",
          "BMET1960",
          "ELEC3206",
          "CIVL3310",
          "MECH5720",
          "ELEC5517",
          "BMET3802",
          "CIVL5704",
          "CIVL4816",
          "ISYS3402",
          "MECH2460",
          "AMME5271",
          "ELEC5203",
          "CHNG4203",
          "CIVL2700",
          "MECH3362",
          "ELEC3505",
          "BMET4112",
          "CIVL4817",
          "BMET5996",
          "ELEC2302",
          "ELEC5701",
          "AMME2262",
          "BMET4981",
          "ELEC5516",
          "CHNG4812",
          "CIVL1802",
          "MECH5275",
          "CIVL2812",
          "STAT2911",
          "MECH3460",
          "ELEC2103",
          "CIVL3612",
          "CIVL3235",
          "BMET1961",
          "MECH5310",
          "MECH5255",
          "BMET5963",
          "ENGP3002",
          "CHNG1108",
          "BMET5934",
          "ENGP2003",
          "MECH2400",
          "CIVL4860",
          "ENGG1810",
          "AMME3500",
          "AERO1560",
          "BMET5959",
          "ELEC5760",
          "AMME5101",
          "AMME4710",
          "CIVL5531",
          "BMET3660",
          "CIVL4818",
          "BMET2925",
          "ENGP3001",
          "AMME5510",
          "MECH5305",
          "CIVL5458",
          "AMME2200",
          "AMME1705",
          "ELEC2602",
          "MECH3361",
          "MECH1560",
          "BMET4111",
          "ELEC3802",
          "MATH2069",
          "BMET5995",
          "ELEC5305",
          "CIVL3806",
          "CIVL2201",
          "AMME2261",
          "CHNG4811",
          "BMET3990",
          "STAT2011",
          "ELEC2100",
          "ELEC3204",
          "BMET5957",
          "CIVL5269",
          "BUSS1030",
          "BMET2400",
          "ELEC4714",
          "CIVL2410",
          "CIVL3411",
          "ELEC5304",
          "AMME1362",
          "AMME3060",
          "ELEC3803",
          "CIVL2611",
          "CIVL3811",
          "CIVL5320",
          "ELEC5518",
          "ENGP2001",
          "MTRX1701",
          "AMME2000",
          "MECH5304",
          "MATH1062",
          "ELEC5308",
          "CIVL4819",
          "CHEM1111",
          "ELEC5207",
          "CIVL4812",
          "MKTG1001",
          "ELEC3404",
          "MTRX3760",
          "MECH4660",
          "ELEC5211",
          "AERO5750",
          "CIVL2010",
          "CIVL3206",
          "BMET5911",
          "CIVL5452",
          "ELEC4713",
          "ELEC1004",
          "BMET5907",
          "CIVL3705",
          "BMET2903",
          "AMME5520",
          "MTRX2700",
          "CIVL5999",
          "CHEM1911",
          "BMET5931",
          "DATA1902",
          "CIVL4023",
          "ELEC3609",
          "AMME5202",
          "AMME5310",
          "PHYS1001",
          "ENGP1001",
          "MTRX3700",
          "CIVL4022",
          "ELEC3608",
          "AMME4111",
          "CIVL5330",
          "BMET2922",
          "CIVL5668",
          "ELEC3203",
          "BMET2902",
          "BMET3997",
          "CIVL3704",
          "CIVL5453",
          "ELEC4712",
          "MECH4460",
          "ELEC1005",
          "ELEC3612",
          "CIVL1810",
          "CIVL4203",
          "ELEC5512",
          "ELEC3405",
          "CIVL5351",
          "CIVL5701",
          "BMET5992",
          "ELEC4505",
          "ELEC5206",
          "MECH5461"
         ],
         "legendgroup": "ENGI, USYD",
         "marker": {
          "color": "#636efa",
          "symbol": "diamond"
         },
         "mode": "markers",
         "name": "ENGI, USYD",
         "orientation": "v",
         "showlegend": true,
         "type": "scatter",
         "x": [
          3.963411331176758,
          17.4279842376709,
          8.576223373413086,
          4.484529495239258,
          -4.797914028167725,
          18.21445083618164,
          5.592521667480469,
          -32.81315612792969,
          13.996973991394043,
          8.985976219177246,
          -0.07938835769891739,
          -6.669913291931152,
          -37.69400405883789,
          2.182298183441162,
          11.67663860321045,
          10.941093444824219,
          -19.581283569335938,
          15.181696891784668,
          -13.661181449890137,
          -22.09514617919922,
          -33.537391662597656,
          14.878438949584961,
          18.330591201782227,
          20.759653091430664,
          -34.0483283996582,
          15.790520668029785,
          -0.13996094465255737,
          22.347414016723633,
          -31.840038299560547,
          -8.401480674743652,
          -8.2263765335083,
          1.090408205986023,
          -14.364660263061523,
          10.008169174194336,
          -3.860186815261841,
          -34.712242126464844,
          18.621749877929688,
          -26.750288009643555,
          -3.110699415206909,
          -3.180835723876953,
          -18.761642456054688,
          15.752962112426758,
          -34.63898849487305,
          1.149369239807129,
          5.717104911804199,
          -32.533424377441406,
          -36.68125915527344,
          -8.950199127197266,
          12.750022888183594,
          -0.6683549880981445,
          7.333771228790283,
          -34.48097229003906,
          -10.563766479492188,
          -6.864961624145508,
          3.383241891860962,
          -30.308521270751953,
          9.980961799621582,
          6.430560111999512,
          -34.820091247558594,
          16.61454200744629,
          -5.88150691986084,
          18.34992027282715,
          15.555886268615723,
          -28.343355178833008,
          -5.163758754730225,
          -4.188190937042236,
          -19.100421905517578,
          -32.57942199707031,
          -2.718825340270996,
          15.494485855102539,
          -5.987250804901123,
          -5.864003658294678,
          -1.837073564529419,
          -3.9452016353607178,
          1.2975890636444092,
          -6.293083190917969,
          -32.63916778564453,
          16.876216888427734,
          1.415143609046936,
          -39.25162887573242,
          -0.5535353422164917,
          0.3177200257778168,
          20.315275192260742,
          -37.44627380371094,
          -41.0107421875,
          -42.510101318359375,
          -1.1748383045196533,
          -0.97501140832901,
          -0.13219517469406128,
          -16.763614654541016,
          -37.8072509765625,
          -0.6541923880577087,
          7.409566879272461,
          -21.361536026000977,
          -40.429595947265625,
          -42.510101318359375,
          5.7888336181640625,
          -42.510101318359375,
          -8.968412399291992,
          15.790254592895508,
          3.0795655250549316,
          -22.118486404418945,
          -31.810346603393555,
          -8.747135162353516,
          -35.88691711425781,
          23.082639694213867,
          -2.4040334224700928,
          3.420717716217041,
          -32.77608108520508,
          -30.5736026763916,
          16.782062530517578,
          -0.16813445091247559,
          -8.679155349731445,
          17.14748764038086,
          -17.828584671020508,
          -16.812726974487305,
          20.881744384765625,
          -18.357572555541992,
          -3.3707315921783447,
          -33.73427200317383,
          11.56600284576416,
          -7.404571056365967,
          -1.0122579336166382,
          18.828598022460938,
          -42.510101318359375,
          -8.94125747680664,
          10.112099647521973,
          -32.31937026977539,
          14.781854629516602,
          -40.07573699951172,
          31.079864501953125,
          -18.002269744873047,
          -4.816828727722168,
          0.18099047243595123,
          -29.651968002319336,
          -9.98608684539795,
          -4.401362419128418,
          5.705788612365723,
          -2.84248685836792,
          -1.5276415348052979,
          -21.288890838623047,
          20.482952117919922,
          19.671247482299805,
          18.899497985839844,
          10.086004257202148,
          -40.331520080566406,
          -29.852188110351562,
          -6.735787868499756,
          -22.515058517456055,
          14.591364860534668,
          23.062849044799805,
          4.257767677307129,
          1.446967363357544,
          19.512001037597656,
          -30.0299072265625,
          -29.625513076782227,
          16.141632080078125,
          3.5728273391723633,
          -33.061588287353516,
          -32.466636657714844,
          9.650792121887207,
          -0.6964947581291199,
          -5.535696983337402,
          -42.510101318359375,
          -32.93722915649414,
          -33.9195556640625,
          -38.84150314331055,
          3.2208662033081055,
          -18.882238388061523,
          -2.6049857139587402,
          -5.883448123931885,
          0.21053315699100494,
          22.078155517578125,
          8.295262336730957,
          -40.04364013671875,
          15.045483589172363,
          0.7102412581443787,
          -40.15861892700195,
          -28.658777236938477,
          3.76554274559021,
          -2.107950210571289,
          -9.629859924316406,
          0.1965751200914383,
          -0.08757330477237701,
          -37.71968078613281,
          -28.99864959716797,
          18.773712158203125,
          -32.584861755371094,
          -22.94378662109375,
          4.284480571746826,
          13.43520736694336,
          -36.73276138305664,
          18.83323097229004,
          -8.081320762634277,
          -3.2190401554107666,
          -35.85465621948242,
          15.09702205657959,
          17.749277114868164,
          18.629703521728516,
          -22.679365158081055,
          2.783129930496216,
          -5.268472194671631,
          -2.321573495864868,
          11.78125,
          -19.44032096862793,
          -2.8862903118133545,
          -23.20335578918457,
          5.1847052574157715,
          -21.812519073486328,
          -39.42350769042969,
          20.24095344543457,
          -34.17100143432617,
          0.6183277368545532,
          18.895429611206055,
          -42.510101318359375,
          -38.49753189086914,
          -33.531898498535156,
          -23.50084114074707,
          -1.4693509340286255,
          1.6541472673416138,
          10.337040901184082,
          -34.40934371948242,
          -36.28977966308594,
          9.353058815002441,
          8.60834789276123,
          -34.2325325012207,
          -37.26029968261719,
          14.951335906982422,
          7.6149210929870605,
          0.2074962705373764,
          -0.4244396388530731
         ],
         "xaxis": "x",
         "y": [
          -3.128945827484131,
          18.15433120727539,
          -6.718352794647217,
          -9.904093742370605,
          23.85620880126953,
          16.295337677001953,
          -1.2364519834518433,
          12.746109008789062,
          21.280019760131836,
          -4.262129306793213,
          -6.90529203414917,
          25.142467498779297,
          17.704246520996094,
          -3.636932373046875,
          0.9341703057289124,
          -10.330218315124512,
          20.665983200073242,
          2.996934652328491,
          18.67112159729004,
          27.194128036499023,
          13.929718017578125,
          20.727115631103516,
          19.356672286987305,
          20.536685943603516,
          9.440564155578613,
          22.677141189575195,
          19.875808715820312,
          -10.506453514099121,
          16.410289764404297,
          17.692066192626953,
          17.663660049438477,
          -5.199289321899414,
          18.238170623779297,
          -0.4299699664115906,
          14.4393949508667,
          18.682655334472656,
          -19.707035064697266,
          11.034403800964355,
          21.79340362548828,
          17.860496520996094,
          21.28125762939453,
          17.761913299560547,
          14.752226829528809,
          -3.800999879837036,
          -3.950674533843994,
          15.382284164428711,
          16.53989028930664,
          25.867536544799805,
          17.591373443603516,
          -4.756546974182129,
          -5.3884663581848145,
          13.746468544006348,
          16.931129455566406,
          27.060802459716797,
          -15.589190483093262,
          13.41772747039795,
          -8.287399291992188,
          -4.075573921203613,
          19.13389015197754,
          16.820283889770508,
          18.23568344116211,
          22.612567901611328,
          20.58735466003418,
          14.344974517822266,
          18.12851905822754,
          17.665611267089844,
          19.865394592285156,
          8.747283935546875,
          13.981369018554688,
          22.261198043823242,
          21.189096450805664,
          25.729684829711914,
          12.249898910522461,
          20.766456604003906,
          22.831653594970703,
          21.066736221313477,
          16.42671775817871,
          19.19469451904297,
          -1.9013358354568481,
          12.282291412353516,
          10.551758766174316,
          -9.990084648132324,
          17.634666442871094,
          15.657125473022461,
          6.803320407867432,
          -2.59708309173584,
          17.976909637451172,
          24.8828182220459,
          -6.7452263832092285,
          14.142316818237305,
          16.515644073486328,
          21.404144287109375,
          -6.2272138595581055,
          26.823856353759766,
          7.298448085784912,
          -2.59708309173584,
          -2.2753067016601562,
          -2.59708309173584,
          25.480371475219727,
          18.94723129272461,
          -6.557467460632324,
          26.326555252075195,
          13.67013931274414,
          27.299869537353516,
          11.711897850036621,
          -14.722583770751953,
          20.51936912536621,
          -4.766551971435547,
          20.13069725036621,
          14.211906433105469,
          19.872968673706055,
          22.446449279785156,
          24.250436782836914,
          21.51074981689453,
          20.612428665161133,
          13.80388069152832,
          19.396257400512695,
          19.980287551879883,
          17.67584228515625,
          15.246821403503418,
          -30.995098114013672,
          20.62496566772461,
          16.468460083007812,
          21.198732376098633,
          -2.59708309173584,
          26.69070816040039,
          -12.926262855529785,
          15.709053993225098,
          19.394214630126953,
          9.153242111206055,
          -11.525197982788086,
          21.311805725097656,
          22.30175018310547,
          22.921430587768555,
          10.633633613586426,
          25.300268173217773,
          14.844711303710938,
          -9.42279052734375,
          21.424680709838867,
          17.35149574279785,
          25.95600700378418,
          17.48691177368164,
          -12.686229705810547,
          16.170320510864258,
          -8.629884719848633,
          6.362633228302002,
          14.892403602600098,
          24.99273681640625,
          25.23311424255371,
          18.100189208984375,
          -14.73813247680664,
          -3.8419368267059326,
          -1.4261376857757568,
          16.628110885620117,
          13.10643482208252,
          -9.355953216552734,
          18.29744529724121,
          1.6596052646636963,
          10.194457054138184,
          9.9298095703125,
          -11.360370635986328,
          22.75128936767578,
          23.45234489440918,
          -2.59708309173584,
          19.91571617126465,
          12.69745922088623,
          12.382805824279785,
          -8.04586124420166,
          20.57230567932129,
          15.12015151977539,
          23.159870147705078,
          22.07670783996582,
          -12.557915687561035,
          -11.13525390625,
          7.177205562591553,
          2.5776894092559814,
          -0.9514879584312439,
          7.973238468170166,
          -9.818094253540039,
          -2.1027376651763916,
          13.851883888244629,
          17.174009323120117,
          -3.8894879817962646,
          15.473831176757812,
          13.051352500915527,
          14.55058765411377,
          22.991748809814453,
          10.599042892456055,
          27.16395378112793,
          -4.125935077667236,
          19.38046646118164,
          15.77573299407959,
          20.356857299804688,
          20.574825286865234,
          13.161443710327148,
          14.29194450378418,
          2.5619523525238037,
          22.865633010864258,
          -19.679174423217773,
          26.261884689331055,
          -16.009254455566406,
          25.43782615661621,
          23.70684051513672,
          1.0074204206466675,
          21.589214324951172,
          13.090039253234863,
          25.498620986938477,
          -10.556949615478516,
          25.345510482788086,
          12.527209281921387,
          19.544395446777344,
          17.737728118896484,
          -4.296490669250488,
          17.926513671875,
          -2.59708309173584,
          16.00844955444336,
          9.200414657592773,
          26.384851455688477,
          19.740610122680664,
          -13.537247657775879,
          -11.559789657592773,
          12.283185958862305,
          13.25253677368164,
          -4.4249701499938965,
          -3.814438819885254,
          7.548067092895508,
          16.6000919342041,
          17.471782684326172,
          -6.332849502563477,
          -1.6041003465652466,
          18.7325382232666
         ],
         "yaxis": "y"
        },
        {
         "customdata": [
          [
           "31251",
           "UTS"
          ],
          [
           "31271",
           "UTS"
          ],
          [
           "41113",
           "UTS"
          ],
          [
           "41001",
           "UTS"
          ],
          [
           "31250",
           "UTS"
          ],
          [
           "31257",
           "UTS"
          ],
          [
           "31282",
           "UTS"
          ],
          [
           "41092",
           "UTS"
          ],
          [
           "33230",
           "UTS"
          ],
          [
           "48024",
           "UTS"
          ],
          [
           "48730",
           "UTS"
          ],
          [
           "48433",
           "UTS"
          ],
          [
           "31005",
           "UTS"
          ],
          [
           "31269",
           "UTS"
          ],
          [
           "33130",
           "UTS"
          ],
          [
           "41039",
           "UTS"
          ]
         ],
         "hovertemplate": "<b>%{hovertext}</b><br><br>degree=ENGI - COMP<br>uni=%{customdata[1]}<br>x=%{x}<br>y=%{y}<br>subject_code=%{customdata[0]}<extra></extra>",
         "hovertext": [
          "31251",
          "31271",
          "41113",
          "41001",
          "31250",
          "31257",
          "31282",
          "41092",
          "33230",
          "48024",
          "48730",
          "48433",
          "31005",
          "31269",
          "33130",
          "41039"
         ],
         "legendgroup": "ENGI - COMP, UTS",
         "marker": {
          "color": "#EF553B",
          "symbol": "circle"
         },
         "mode": "markers",
         "name": "ENGI - COMP, UTS",
         "orientation": "v",
         "showlegend": true,
         "type": "scatter",
         "x": [
          -15.287577629089355,
          -18.462312698364258,
          -18.42625617980957,
          -7.818881511688232,
          -10.747913360595703,
          -18.499431610107422,
          -16.650909423828125,
          -13.315384864807129,
          20.270065307617188,
          -16.408605575561523,
          -10.83165454864502,
          -20.663782119750977,
          -11.92296028137207,
          -19.76647186279297,
          19.16577911376953,
          -15.759693145751953
         ],
         "xaxis": "x",
         "y": [
          -23.88172721862793,
          -24.022235870361328,
          -19.581945419311523,
          -26.78710174560547,
          -19.740449905395508,
          -16.96218490600586,
          -16.595542907714844,
          -11.712005615234375,
          -4.504515647888184,
          -20.85085105895996,
          -14.087324142456055,
          -19.142107009887695,
          -21.07478141784668,
          -17.043025970458984,
          -4.308895111083984,
          -20.592632293701172
         ],
         "yaxis": "y"
        },
        {
         "customdata": [
          [
           "ISYS2110",
           "USYD"
          ],
          [
           "COMP3109",
           "USYD"
          ],
          [
           "COMP3308",
           "USYD"
          ],
          [
           "COMP4530",
           "USYD"
          ],
          [
           "ELEC5618",
           "USYD"
          ],
          [
           "INFO1910",
           "USYD"
          ],
          [
           "COMP2017",
           "USYD"
          ],
          [
           "ELEC5619",
           "USYD"
          ],
          [
           "COMP4415",
           "USYD"
          ],
          [
           "COMP4618",
           "USYD"
          ],
          [
           "ELEC1601",
           "USYD"
          ],
          [
           "COMP2922",
           "USYD"
          ],
          [
           "COMP3221",
           "USYD"
          ],
          [
           "COMP4445",
           "USYD"
          ],
          [
           "DATA4207",
           "USYD"
          ],
          [
           "INFO1110",
           "USYD"
          ],
          [
           "MATH1061",
           "USYD"
          ],
          [
           "ISYS2120",
           "USYD"
          ],
          [
           "COMP4347",
           "USYD"
          ],
          [
           "SOFT2412",
           "USYD"
          ],
          [
           "COMP3027",
           "USYD"
          ],
          [
           "COMP4424",
           "USYD"
          ],
          [
           "ELEC5307",
           "USYD"
          ],
          [
           "ISYS4450",
           "USYD"
          ],
          [
           "ELEC5306",
           "USYD"
          ],
          [
           "COMP4425",
           "USYD"
          ],
          [
           "SOFT3202",
           "USYD"
          ],
          [
           "COMP4448",
           "USYD"
          ],
          [
           "COMP2123",
           "USYD"
          ],
          [
           "ISYS2160",
           "USYD"
          ],
          [
           "DATA3404",
           "USYD"
          ],
          [
           "COMP4405",
           "USYD"
          ],
          [
           "DATA2901",
           "USYD"
          ],
          [
           "DATA2002",
           "USYD"
          ],
          [
           "COMP4216",
           "USYD"
          ],
          [
           "COMP4328",
           "USYD"
          ],
          [
           "DATA2001",
           "USYD"
          ],
          [
           "DATA2902",
           "USYD"
          ],
          [
           "COMP4447",
           "USYD"
          ],
          [
           "ELEC3506",
           "USYD"
          ],
          [
           "COMP4349",
           "USYD"
          ],
          [
           "COMP4426",
           "USYD"
          ],
          [
           "COMP2823",
           "USYD"
          ],
          [
           "COMP3419",
           "USYD"
          ],
          [
           "ELEC5514",
           "USYD"
          ],
          [
           "COMP3927",
           "USYD"
          ],
          [
           "SOFT2201",
           "USYD"
          ],
          [
           "COMP4427",
           "USYD"
          ],
          [
           "SOFT3410",
           "USYD"
          ],
          [
           "ISYS3401",
           "USYD"
          ],
          [
           "COMP4348",
           "USYD"
          ],
          [
           "COMP4446",
           "USYD"
          ],
          [
           "SOFT3888",
           "USYD"
          ],
          [
           "COMP4329",
           "USYD"
          ],
          [
           "INFO3315",
           "USYD"
          ],
          [
           "INFO1113",
           "USYD"
          ],
          [
           "INFO4491",
           "USYD"
          ],
          [
           "COMP4313",
           "USYD"
          ],
          [
           "DATA3406",
           "USYD"
          ],
          [
           "INFO3616",
           "USYD"
          ],
          [
           "COMP3520",
           "USYD"
          ],
          [
           "COMP4318",
           "USYD"
          ],
          [
           "ELEC5616",
           "USYD"
          ],
          [
           "COMP2022",
           "USYD"
          ],
          [
           "COMP4617",
           "USYD"
          ],
          [
           "ISYS3888",
           "USYD"
          ],
          [
           "COMP4416",
           "USYD"
          ],
          [
           "COMP4338",
           "USYD"
          ],
          [
           "ELEC5620",
           "USYD"
          ],
          [
           "ELEC5509",
           "USYD"
          ],
          [
           "ELEC5508",
           "USYD"
          ],
          [
           "COMP4270",
           "USYD"
          ],
          [
           "COMP3608",
           "USYD"
          ]
         ],
         "hovertemplate": "<b>%{hovertext}</b><br><br>degree=ENGI - COMP<br>uni=%{customdata[1]}<br>x=%{x}<br>y=%{y}<br>subject_code=%{customdata[0]}<extra></extra>",
         "hovertext": [
          "ISYS2110",
          "COMP3109",
          "COMP3308",
          "COMP4530",
          "ELEC5618",
          "INFO1910",
          "COMP2017",
          "ELEC5619",
          "COMP4415",
          "COMP4618",
          "ELEC1601",
          "COMP2922",
          "COMP3221",
          "COMP4445",
          "DATA4207",
          "INFO1110",
          "MATH1061",
          "ISYS2120",
          "COMP4347",
          "SOFT2412",
          "COMP3027",
          "COMP4424",
          "ELEC5307",
          "ISYS4450",
          "ELEC5306",
          "COMP4425",
          "SOFT3202",
          "COMP4448",
          "COMP2123",
          "ISYS2160",
          "DATA3404",
          "COMP4405",
          "DATA2901",
          "DATA2002",
          "COMP4216",
          "COMP4328",
          "DATA2001",
          "DATA2902",
          "COMP4447",
          "ELEC3506",
          "COMP4349",
          "COMP4426",
          "COMP2823",
          "COMP3419",
          "ELEC5514",
          "COMP3927",
          "SOFT2201",
          "COMP4427",
          "SOFT3410",
          "ISYS3401",
          "COMP4348",
          "COMP4446",
          "SOFT3888",
          "COMP4329",
          "INFO3315",
          "INFO1113",
          "INFO4491",
          "COMP4313",
          "DATA3406",
          "INFO3616",
          "COMP3520",
          "COMP4318",
          "ELEC5616",
          "COMP2022",
          "COMP4617",
          "ISYS3888",
          "COMP4416",
          "COMP4338",
          "ELEC5620",
          "ELEC5509",
          "ELEC5508",
          "COMP4270",
          "COMP3608"
         ],
         "legendgroup": "ENGI - COMP, USYD",
         "marker": {
          "color": "#EF553B",
          "symbol": "diamond"
         },
         "mode": "markers",
         "name": "ENGI - COMP, USYD",
         "orientation": "v",
         "showlegend": true,
         "type": "scatter",
         "x": [
          2.07193922996521,
          10.016031265258789,
          12.870200157165527,
          13.205777168273926,
          1.425946593284607,
          10.954997062683105,
          9.642477035522461,
          2.4285666942596436,
          9.104844093322754,
          2.285881519317627,
          5.343779563903809,
          15.39520263671875,
          13.066617965698242,
          15.68586254119873,
          21.538421630859375,
          10.893229484558105,
          21.850772857666016,
          19.282846450805664,
          2.679605007171631,
          6.70288610458374,
          14.74073600769043,
          28.874876022338867,
          9.581561088562012,
          1.6203653812408447,
          9.017030715942383,
          10.038838386535645,
          6.820392608642578,
          7.069921493530273,
          16.38309669494629,
          3.531038284301758,
          20.03607177734375,
          9.395604133605957,
          20.852062225341797,
          22.86087989807129,
          5.024000644683838,
          13.246028900146484,
          20.85140037536621,
          22.786840438842773,
          4.297579288482666,
          6.881760120391846,
          2.5023200511932373,
          11.101529121398926,
          16.372846603393555,
          9.10098648071289,
          3.5438108444213867,
          14.73690414428711,
          6.860295295715332,
          -2.341651678085327,
          8.568055152893066,
          3.1284844875335693,
          3.9970622062683105,
          14.780117988586426,
          6.8254075050354,
          12.454318046569824,
          -2.653421401977539,
          10.88144302368164,
          -0.7770214676856995,
          13.399635314941406,
          23.40694236755371,
          0.98808753490448,
          6.270177841186523,
          13.574792861938477,
          4.305500030517578,
          15.387493133544922,
          2.441406488418579,
          3.9993693828582764,
          5.869388580322266,
          18.91133689880371,
          2.0111989974975586,
          5.650221347808838,
          5.799903392791748,
          12.760278701782227,
          12.765077590942383
         ],
         "xaxis": "x",
         "y": [
          -25.818693161010742,
          -28.712724685668945,
          -21.980405807495117,
          -24.453088760375977,
          -13.342949867248535,
          -31.53189468383789,
          -31.3055477142334,
          -15.928291320800781,
          -20.861980438232422,
          -21.025789260864258,
          -10.369155883789062,
          -29.987640380859375,
          -27.215917587280273,
          -25.23932456970215,
          -19.093536376953125,
          -31.589153289794922,
          -11.411320686340332,
          -23.61517906188965,
          -17.71194076538086,
          -31.215110778808594,
          -26.258949279785156,
          -9.554529190063477,
          -10.679149627685547,
          -26.907997131347656,
          -10.143755912780762,
          -19.718847274780273,
          -32.63372802734375,
          -18.62140655517578,
          -26.763809204101562,
          -25.96417236328125,
          -22.606372833251953,
          -20.116636276245117,
          -20.811372756958008,
          -17.4309139251709,
          -23.030261993408203,
          -17.97416877746582,
          -20.82611846923828,
          -17.435791015625,
          -22.39390754699707,
          -7.245687961578369,
          -29.802894592285156,
          -26.723379135131836,
          -26.72987937927246,
          -20.881282806396484,
          -7.778845310211182,
          -26.259010314941406,
          -32.59906005859375,
          -21.42441749572754,
          -32.55906295776367,
          -26.61508560180664,
          -31.090553283691406,
          -20.052818298339844,
          -30.27907943725586,
          -17.141368865966797,
          -20.69199562072754,
          -33.009124755859375,
          -28.05781364440918,
          -27.82061195373535,
          -18.8912353515625,
          -21.224842071533203,
          -24.692012786865234,
          -18.078502655029297,
          -12.138265609741211,
          -29.99862289428711,
          -21.34063720703125,
          -26.415380477905273,
          -21.784595489501953,
          -23.742626190185547,
          -13.960502624511719,
          -6.845985412597656,
          -6.434762001037598,
          -25.30025863647461,
          -22.172832489013672
         ],
         "yaxis": "y"
        },
        {
         "customdata": [
          [
           "31482",
           "UTS"
          ],
          [
           "41903",
           "UTS"
          ],
          [
           "31247",
           "UTS"
          ],
          [
           "42913",
           "UTS"
          ],
          [
           "35005",
           "UTS"
          ],
          [
           "32144",
           "UTS"
          ],
          [
           "31338",
           "UTS"
          ],
          [
           "48450",
           "UTS"
          ],
          [
           "31748",
           "UTS"
          ],
          [
           "37262",
           "UTS"
          ],
          [
           "41889",
           "UTS"
          ],
          [
           "41020",
           "UTS"
          ],
          [
           "41077",
           "UTS"
          ],
          [
           "41173",
           "UTS"
          ],
          [
           "41172",
           "UTS"
          ],
          [
           "41076",
           "UTS"
          ],
          [
           "31266",
           "UTS"
          ],
          [
           "41021",
           "UTS"
          ],
          [
           "37234",
           "UTS"
          ],
          [
           "42050",
           "UTS"
          ],
          [
           "41040",
           "UTS"
          ],
          [
           "37233",
           "UTS"
          ],
          [
           "42036",
           "UTS"
          ],
          [
           "31261",
           "UTS"
          ],
          [
           "41026",
           "UTS"
          ],
          [
           "37161",
           "UTS"
          ],
          [
           "41175",
           "UTS"
          ],
          [
           "31277",
           "UTS"
          ],
          [
           "41905",
           "UTS"
          ],
          [
           "48270",
           "UTS"
          ],
          [
           "32011",
           "UTS"
          ],
          [
           "41180",
           "UTS"
          ],
          [
           "37252",
           "UTS"
          ],
          [
           "48436",
           "UTS"
          ],
          [
           "41181",
           "UTS"
          ],
          [
           "31256",
           "UTS"
          ],
          [
           "41174",
           "UTS"
          ],
          [
           "31276",
           "UTS"
          ],
          [
           "31260",
           "UTS"
          ],
          [
           "42037",
           "UTS"
          ],
          [
           "32009",
           "UTS"
          ],
          [
           "31275",
           "UTS"
          ],
          [
           "31263",
           "UTS"
          ],
          [
           "43023",
           "UTS"
          ],
          [
           "37335",
           "UTS"
          ],
          [
           "41182",
           "UTS"
          ],
          [
           "31280",
           "UTS"
          ],
          [
           "57304",
           "UTS"
          ],
          [
           "31097",
           "UTS"
          ],
          [
           "31243",
           "UTS"
          ],
          [
           "41004",
           "UTS"
          ],
          [
           "31255",
           "UTS"
          ],
          [
           "31080",
           "UTS"
          ],
          [
           "31242",
           "UTS"
          ],
          [
           "41052",
           "UTS"
          ],
          [
           "41183",
           "UTS"
          ],
          [
           "48033",
           "UTS"
          ],
          [
           "37181",
           "UTS"
          ],
          [
           "31258",
           "UTS"
          ],
          [
           "37363",
           "UTS"
          ],
          [
           "32931",
           "UTS"
          ],
          [
           "41025",
           "UTS"
          ],
          [
           "31777",
           "UTS"
          ],
          [
           "31262",
           "UTS"
          ],
          [
           "42028",
           "UTS"
          ],
          [
           "32146",
           "UTS"
          ],
          [
           "41891",
           "UTS"
          ],
          [
           "35007",
           "UTS"
          ],
          [
           "41080",
           "UTS"
          ],
          [
           "41079",
           "UTS"
          ],
          [
           "41184",
           "UTS"
          ],
          [
           "31245",
           "UTS"
          ],
          [
           "31253",
           "UTS"
          ],
          [
           "41043",
           "UTS"
          ],
          [
           "41171",
           "UTS"
          ],
          [
           "31265",
           "UTS"
          ],
          [
           "43025",
           "UTS"
          ],
          [
           "41019",
           "UTS"
          ],
          [
           "43024",
           "UTS"
          ],
          [
           "31927",
           "UTS"
          ],
          [
           "37373",
           "UTS"
          ],
          [
           "31272",
           "UTS"
          ],
          [
           "41900",
           "UTS"
          ],
          [
           "41185",
           "UTS"
          ],
          [
           "31268",
           "UTS"
          ],
          [
           "41078",
           "UTS"
          ],
          [
           "35006",
           "UTS"
          ],
          [
           "41890",
           "UTS"
          ]
         ],
         "hovertemplate": "<b>%{hovertext}</b><br><br>degree=COMP<br>uni=%{customdata[1]}<br>x=%{x}<br>y=%{y}<br>subject_code=%{customdata[0]}<extra></extra>",
         "hovertext": [
          "31482",
          "41903",
          "31247",
          "42913",
          "35005",
          "32144",
          "31338",
          "48450",
          "31748",
          "37262",
          "41889",
          "41020",
          "41077",
          "41173",
          "41172",
          "41076",
          "31266",
          "41021",
          "37234",
          "42050",
          "41040",
          "37233",
          "42036",
          "31261",
          "41026",
          "37161",
          "41175",
          "31277",
          "41905",
          "48270",
          "32011",
          "41180",
          "37252",
          "48436",
          "41181",
          "31256",
          "41174",
          "31276",
          "31260",
          "42037",
          "32009",
          "31275",
          "31263",
          "43023",
          "37335",
          "41182",
          "31280",
          "57304",
          "31097",
          "31243",
          "41004",
          "31255",
          "31080",
          "31242",
          "41052",
          "41183",
          "48033",
          "37181",
          "31258",
          "37363",
          "32931",
          "41025",
          "31777",
          "31262",
          "42028",
          "32146",
          "41891",
          "35007",
          "41080",
          "41079",
          "41184",
          "31245",
          "31253",
          "41043",
          "41171",
          "31265",
          "43025",
          "41019",
          "43024",
          "31927",
          "37373",
          "31272",
          "41900",
          "41185",
          "31268",
          "41078",
          "35006",
          "41890"
         ],
         "legendgroup": "COMP, UTS",
         "marker": {
          "color": "#00cc96",
          "symbol": "circle"
         },
         "mode": "markers",
         "name": "COMP, UTS",
         "orientation": "v",
         "showlegend": true,
         "type": "scatter",
         "x": [
          -18.560169219970703,
          -13.374138832092285,
          -18.810312271118164,
          -15.202749252319336,
          20.45197296142578,
          -18.957138061523438,
          -14.390923500061035,
          -7.860924243927002,
          -21.403274536132812,
          21.959674835205078,
          -16.979297637939453,
          -4.567523956298828,
          -5.513157367706299,
          -14.98249626159668,
          -13.866307258605957,
          -15.103386878967285,
          -17.986650466918945,
          -6.715287208557129,
          20.338848114013672,
          18.214008331298828,
          -12.736832618713379,
          20.518312454223633,
          -10.808507919311523,
          -15.297743797302246,
          -18.939796447753906,
          21.966140747070312,
          -14.331494331359863,
          -14.87750244140625,
          -0.24447201192378998,
          -19.21584129333496,
          -14.369550704956055,
          -11.655122756958008,
          20.989316940307617,
          -10.223785400390625,
          -13.83031177520752,
          10.772525787353516,
          -15.74814510345459,
          -21.23945426940918,
          -6.5987138748168945,
          -9.783697128295898,
          -15.139266967773438,
          -14.782730102539062,
          -23.78289222717285,
          -12.466940879821777,
          19.499317169189453,
          -13.246224403381348,
          -18.203407287597656,
          -5.521657943725586,
          -17.09722137451172,
          -10.984519004821777,
          -9.360260963439941,
          -17.5111141204834,
          -7.696376800537109,
          -21.39702606201172,
          -14.754040718078613,
          -12.87508487701416,
          -9.528669357299805,
          18.588306427001953,
          -21.083051681518555,
          22.653757095336914,
          -18.836427688598633,
          -17.56649398803711,
          -5.6495680809021,
          -23.859600067138672,
          11.289539337158203,
          -10.056275367736816,
          -7.71238899230957,
          21.199966430664062,
          -14.136253356933594,
          -9.242229461669922,
          -13.890067100524902,
          -20.471742630004883,
          -18.99576759338379,
          -11.808819770812988,
          -15.333681106567383,
          -20.565187454223633,
          -14.684423446655273,
          -6.267593860626221,
          -13.120498657226562,
          -15.856565475463867,
          18.063602447509766,
          -21.951812744140625,
          -11.618341445922852,
          -12.780261039733887,
          -15.174775123596191,
          -9.254585266113281,
          18.12620735168457,
          -12.992023468017578
         ],
         "xaxis": "x",
         "y": [
          -11.950488090515137,
          -12.059246063232422,
          -14.88425350189209,
          -14.979021072387695,
          -7.756795406341553,
          -11.507198333740234,
          -12.88448429107666,
          -7.491194725036621,
          -22.43511962890625,
          -4.489100456237793,
          -18.879735946655273,
          -19.80937957763672,
          -10.524170875549316,
          -28.161542892456055,
          -29.303142547607422,
          -28.97229766845703,
          -15.499692916870117,
          -18.378530502319336,
          -6.516046047210693,
          -16.574302673339844,
          -22.327272415161133,
          -5.256109237670898,
          -13.478050231933594,
          -12.634622573852539,
          -18.779462814331055,
          -4.515350341796875,
          -28.41088104248047,
          -10.70144271850586,
          -10.174898147583008,
          -3.2791597843170166,
          -10.130500793457031,
          -17.795581817626953,
          -3.7202179431915283,
          -14.641826629638672,
          -16.047616958618164,
          -14.19054889678955,
          -28.7696590423584,
          -15.01668643951416,
          -18.913150787353516,
          -12.362564086914062,
          -9.919986724853516,
          -11.46935749053955,
          -20.282390594482422,
          -22.43486213684082,
          -5.2146477699279785,
          -15.69276237487793,
          -14.014460563659668,
          -11.427175521850586,
          -15.156676292419434,
          -20.5062313079834,
          -21.674116134643555,
          -14.491341590881348,
          -18.52758026123047,
          -22.363445281982422,
          -24.115562438964844,
          -16.828413009643555,
          -11.712193489074707,
          -6.295443534851074,
          -16.17426109313965,
          -4.827803134918213,
          -12.118368148803711,
          -19.494142532348633,
          -19.644601821899414,
          -20.258182525634766,
          -15.22085952758789,
          -19.40243911743164,
          -26.82891273498535,
          -7.912741661071777,
          -24.498085021972656,
          -23.593027114868164,
          -17.904224395751953,
          -14.905699729919434,
          -24.31147575378418,
          -23.050825119018555,
          -29.825420379638672,
          -4.6884918212890625,
          -29.17008399963379,
          -18.238460540771484,
          -22.05335807800293,
          -19.288970947265625,
          -8.832657814025879,
          -4.734367370605469,
          -16.12604331970215,
          -16.26875114440918,
          -13.710406303405762,
          -23.481019973754883,
          -8.494805335998535,
          -13.968911170959473
         ],
         "yaxis": "y"
        },
        {
         "customdata": [
          [
           "COMP3888",
           "USYD"
          ],
          [
           "INFO4912",
           "USYD"
          ],
          [
           "MATH1964",
           "USYD"
          ],
          [
           "INFO1911",
           "USYD"
          ],
          [
           "INFO4990",
           "USYD"
          ],
          [
           "ISYS5070",
           "USYD"
          ],
          [
           "INFO2150",
           "USYD"
          ],
          [
           "INFO4913",
           "USYD"
          ],
          [
           "DATA1901",
           "USYD"
          ],
          [
           "HTIN4003",
           "USYD"
          ],
          [
           "INFO2222",
           "USYD"
          ],
          [
           "INFO4001",
           "USYD"
          ],
          [
           "INFO4406",
           "USYD"
          ],
          [
           "INFO2911",
           "USYD"
          ],
          [
           "ENGG3800",
           "USYD"
          ],
          [
           "HTIN4005",
           "USYD"
          ],
          [
           "INFO1111",
           "USYD"
          ],
          [
           "INFO3911",
           "USYD"
          ],
          [
           "INFO1112",
           "USYD"
          ],
          [
           "CSEC3616",
           "USYD"
          ],
          [
           "INFO3912",
           "USYD"
          ],
          [
           "HTIN4006",
           "USYD"
          ],
          [
           "COMP3988",
           "USYD"
          ],
          [
           "COMP3530",
           "USYD"
          ],
          [
           "DATA3888",
           "USYD"
          ],
          [
           "INFO4999",
           "USYD"
          ],
          [
           "INFO4002",
           "USYD"
          ],
          [
           "INFO4444",
           "USYD"
          ],
          [
           "INFO2912",
           "USYD"
          ],
          [
           "MATH1961",
           "USYD"
          ],
          [
           "DATA1001",
           "USYD"
          ],
          [
           "INFO4911",
           "USYD"
          ],
          [
           "MATH1064",
           "USYD"
          ],
          [
           "INFO1912",
           "USYD"
          ],
          [
           "INFO3333",
           "USYD"
          ],
          [
           "CSEC3888",
           "USYD"
          ]
         ],
         "hovertemplate": "<b>%{hovertext}</b><br><br>degree=COMP<br>uni=%{customdata[1]}<br>x=%{x}<br>y=%{y}<br>subject_code=%{customdata[0]}<extra></extra>",
         "hovertext": [
          "COMP3888",
          "INFO4912",
          "MATH1964",
          "INFO1911",
          "INFO4990",
          "ISYS5070",
          "INFO2150",
          "INFO4913",
          "DATA1901",
          "HTIN4003",
          "INFO2222",
          "INFO4001",
          "INFO4406",
          "INFO2911",
          "ENGG3800",
          "HTIN4005",
          "INFO1111",
          "INFO3911",
          "INFO1112",
          "CSEC3616",
          "INFO3912",
          "HTIN4006",
          "COMP3988",
          "COMP3530",
          "DATA3888",
          "INFO4999",
          "INFO4002",
          "INFO4444",
          "INFO2912",
          "MATH1961",
          "DATA1001",
          "INFO4911",
          "MATH1064",
          "INFO1912",
          "INFO3333",
          "CSEC3888"
         ],
         "legendgroup": "COMP, USYD",
         "marker": {
          "color": "#00cc96",
          "symbol": "diamond"
         },
         "mode": "markers",
         "name": "COMP, USYD",
         "orientation": "v",
         "showlegend": true,
         "type": "scatter",
         "x": [
          6.950104236602783,
          9.104870796203613,
          19.58147430419922,
          6.6393537521362305,
          10.29656982421875,
          0.6879501938819885,
          29.2100772857666,
          9.2952241897583,
          21.520116806030273,
          31.288249969482422,
          -1.8176188468933105,
          8.124321937561035,
          29.562150955200195,
          8.043767929077148,
          -14.739593505859375,
          30.264738082885742,
          5.13156795501709,
          7.495006561279297,
          5.709602355957031,
          1.0739681720733643,
          7.272172451019287,
          30.05279541015625,
          6.9694437980651855,
          13.323695182800293,
          21.09262466430664,
          9.430107116699219,
          8.109787940979004,
          1.6526319980621338,
          7.796421051025391,
          21.88080406188965,
          21.583358764648438,
          9.498029708862305,
          19.51534080505371,
          7.241240978240967,
          5.796801567077637,
          1.403076410293579
         ],
         "xaxis": "x",
         "y": [
          -29.298765182495117,
          -25.071352005004883,
          -12.179080963134766,
          -26.2379207611084,
          -24.588699340820312,
          -27.193601608276367,
          -11.533455848693848,
          -24.763011932373047,
          -17.063697814941406,
          -9.208388328552246,
          -20.86309051513672,
          -23.21057891845703,
          -9.502378463745117,
          -26.4820613861084,
          18.060728073120117,
          -10.902109146118164,
          -28.36638641357422,
          -27.03295135498047,
          -23.22247886657715,
          -21.46745491027832,
          -26.508134841918945,
          -10.908308029174805,
          -29.241342544555664,
          -24.36518669128418,
          -18.42180824279785,
          -26.14352035522461,
          -23.390949249267578,
          -29.310379028320312,
          -25.886028289794922,
          -11.216462135314941,
          -16.95218276977539,
          -25.30024528503418,
          -12.108257293701172,
          -25.651105880737305,
          -27.434146881103516,
          -22.872310638427734
         ],
         "yaxis": "y"
        },
        {
         "customdata": [
          [
           "92471",
           "UTS"
          ],
          [
           "93470",
           "UTS"
          ],
          [
           "93217",
           "UTS"
          ],
          [
           "93201",
           "UTS"
          ],
          [
           "93200",
           "UTS"
          ],
          [
           "93216",
           "UTS"
          ],
          [
           "91529",
           "UTS"
          ],
          [
           "92470",
           "UTS"
          ],
          [
           "93220",
           "UTS"
          ],
          [
           "92482",
           "UTS"
          ],
          [
           "93211",
           "UTS"
          ],
          [
           "93207",
           "UTS"
          ],
          [
           "93227",
           "UTS"
          ],
          [
           "92477",
           "UTS"
          ],
          [
           "93231",
           "UTS"
          ],
          [
           "93230",
           "UTS"
          ],
          [
           "92476",
           "UTS"
          ],
          [
           "91562",
           "UTS"
          ],
          [
           "93226",
           "UTS"
          ],
          [
           "93206",
           "UTS"
          ],
          [
           "93210",
           "UTS"
          ],
          [
           "93205",
           "UTS"
          ],
          [
           "93213",
           "UTS"
          ],
          [
           "92479",
           "UTS"
          ],
          [
           "92480",
           "UTS"
          ],
          [
           "93229",
           "UTS"
          ],
          [
           "93209",
           "UTS"
          ],
          [
           "93233",
           "UTS"
          ],
          [
           "92475",
           "UTS"
          ],
          [
           "91561",
           "UTS"
          ],
          [
           "93225",
           "UTS"
          ],
          [
           "93224",
           "UTS"
          ],
          [
           "92474",
           "UTS"
          ],
          [
           "93232",
           "UTS"
          ],
          [
           "93208",
           "UTS"
          ],
          [
           "93228",
           "UTS"
          ],
          [
           "92481",
           "UTS"
          ],
          [
           "92478",
           "UTS"
          ],
          [
           "93212",
           "UTS"
          ],
          [
           "93204",
           "UTS"
          ],
          [
           "93219",
           "UTS"
          ],
          [
           "92473",
           "UTS"
          ],
          [
           "91530",
           "UTS"
          ],
          [
           "93223",
           "UTS"
          ],
          [
           "93203",
           "UTS"
          ],
          [
           "93214",
           "UTS"
          ],
          [
           "93202",
           "UTS"
          ],
          [
           "93222",
           "UTS"
          ],
          [
           "92472",
           "UTS"
          ],
          [
           "93218",
           "UTS"
          ]
         ],
         "hovertemplate": "<b>%{hovertext}</b><br><br>degree=NURS<br>uni=%{customdata[1]}<br>x=%{x}<br>y=%{y}<br>subject_code=%{customdata[0]}<extra></extra>",
         "hovertext": [
          "92471",
          "93470",
          "93217",
          "93201",
          "93200",
          "93216",
          "91529",
          "92470",
          "93220",
          "92482",
          "93211",
          "93207",
          "93227",
          "92477",
          "93231",
          "93230",
          "92476",
          "91562",
          "93226",
          "93206",
          "93210",
          "93205",
          "93213",
          "92479",
          "92480",
          "93229",
          "93209",
          "93233",
          "92475",
          "91561",
          "93225",
          "93224",
          "92474",
          "93232",
          "93208",
          "93228",
          "92481",
          "92478",
          "93212",
          "93204",
          "93219",
          "92473",
          "91530",
          "93223",
          "93203",
          "93214",
          "93202",
          "93222",
          "92472",
          "93218"
         ],
         "legendgroup": "NURS, UTS",
         "marker": {
          "color": "#ab63fa",
          "symbol": "circle"
         },
         "mode": "markers",
         "name": "NURS, UTS",
         "orientation": "v",
         "showlegend": true,
         "type": "scatter",
         "x": [
          55.25759506225586,
          56.428462982177734,
          49.57196044921875,
          50.62751770019531,
          50.949066162109375,
          52.0013313293457,
          41.687217712402344,
          57.0635871887207,
          51.225704193115234,
          57.19852828979492,
          52.78470993041992,
          50.426151275634766,
          47.89927291870117,
          56.604888916015625,
          49.48656463623047,
          49.730594635009766,
          54.89999771118164,
          42.566036224365234,
          53.1033821105957,
          53.829261779785156,
          52.934017181396484,
          51.39656066894531,
          48.133644104003906,
          56.06147766113281,
          57.71211242675781,
          52.170108795166016,
          53.180091857910156,
          51.28047561645508,
          56.227020263671875,
          42.741722106933594,
          52.46440887451172,
          52.979427337646484,
          57.961673736572266,
          53.644405364990234,
          52.219017028808594,
          50.644840240478516,
          54.72746276855469,
          55.70133590698242,
          53.06627655029297,
          51.82330322265625,
          53.82843780517578,
          55.465362548828125,
          41.70259475708008,
          53.184669494628906,
          48.96284484863281,
          50.83708953857422,
          51.66658020019531,
          52.73398208618164,
          56.528297424316406,
          49.54993438720703
         ],
         "xaxis": "x",
         "y": [
          11.113825798034668,
          16.930349349975586,
          15.133357048034668,
          14.34878921508789,
          13.234588623046875,
          16.455520629882812,
          12.303520202636719,
          11.252765655517578,
          11.33923053741455,
          12.796672821044922,
          14.71276569366455,
          13.318854331970215,
          13.18016242980957,
          14.944738388061523,
          10.016416549682617,
          14.841970443725586,
          13.304686546325684,
          11.60595703125,
          6.167365074157715,
          14.723526000976562,
          12.403648376464844,
          7.178387641906738,
          13.232701301574707,
          14.171255111694336,
          13.297167778015137,
          16.175060272216797,
          9.969741821289062,
          11.35194206237793,
          13.01276969909668,
          11.534795761108398,
          14.967778205871582,
          12.692919731140137,
          14.074506759643555,
          16.327775955200195,
          13.952595710754395,
          15.796060562133789,
          12.490793228149414,
          10.36098861694336,
          6.231536388397217,
          13.064754486083984,
          16.404212951660156,
          15.210994720458984,
          12.253409385681152,
          9.760636329650879,
          11.720807075500488,
          15.406949043273926,
          14.550999641418457,
          13.940670013427734,
          11.727752685546875,
          10.053075790405273
         ],
         "yaxis": "y"
        },
        {
         "customdata": [
          [
           "NURS1008",
           "USYD"
          ],
          [
           "NURS3019",
           "USYD"
          ],
          [
           "NURS1004",
           "USYD"
          ],
          [
           "NURS3015",
           "USYD"
          ],
          [
           "NURS1005",
           "USYD"
          ],
          [
           "NURS2003",
           "USYD"
          ],
          [
           "NURS3018",
           "USYD"
          ],
          [
           "NURS1002",
           "USYD"
          ],
          [
           "NURS2008",
           "USYD"
          ],
          [
           "NURS3008",
           "USYD"
          ],
          [
           "NURS2009",
           "USYD"
          ],
          [
           "NURS3012",
           "USYD"
          ],
          [
           "NURS1003",
           "USYD"
          ],
          [
           "NURS2005",
           "USYD"
          ],
          [
           "NURS3007",
           "USYD"
          ],
          [
           "NURS2010",
           "USYD"
          ],
          [
           "NURS2006",
           "USYD"
          ],
          [
           "NURS1001",
           "USYD"
          ],
          [
           "NURS2011",
           "USYD"
          ],
          [
           "NURS3017",
           "USYD"
          ],
          [
           "NURS1006",
           "USYD"
          ],
          [
           "NURS2001",
           "USYD"
          ],
          [
           "NURS1007",
           "USYD"
          ],
          [
           "NURS3020",
           "USYD"
          ]
         ],
         "hovertemplate": "<b>%{hovertext}</b><br><br>degree=NURS<br>uni=%{customdata[1]}<br>x=%{x}<br>y=%{y}<br>subject_code=%{customdata[0]}<extra></extra>",
         "hovertext": [
          "NURS1008",
          "NURS3019",
          "NURS1004",
          "NURS3015",
          "NURS1005",
          "NURS2003",
          "NURS3018",
          "NURS1002",
          "NURS2008",
          "NURS3008",
          "NURS2009",
          "NURS3012",
          "NURS1003",
          "NURS2005",
          "NURS3007",
          "NURS2010",
          "NURS2006",
          "NURS1001",
          "NURS2011",
          "NURS3017",
          "NURS1006",
          "NURS2001",
          "NURS1007",
          "NURS3020"
         ],
         "legendgroup": "NURS, USYD",
         "marker": {
          "color": "#ab63fa",
          "symbol": "diamond"
         },
         "mode": "markers",
         "name": "NURS, USYD",
         "orientation": "v",
         "showlegend": true,
         "type": "scatter",
         "x": [
          45.5806999206543,
          46.999202728271484,
          46.2029914855957,
          50.2943115234375,
          40.9512825012207,
          49.77988052368164,
          47.174686431884766,
          46.66324234008789,
          50.73432922363281,
          50.1967658996582,
          48.795894622802734,
          47.64438247680664,
          50.01698684692383,
          43.68735122680664,
          45.392303466796875,
          48.13829803466797,
          48.45436096191406,
          40.90546798706055,
          48.82057189941406,
          45.3088493347168,
          48.8759880065918,
          43.70195388793945,
          47.7669677734375,
          46.22359085083008
         ],
         "xaxis": "x",
         "y": [
          3.755681276321411,
          3.347888946533203,
          4.587876796722412,
          3.0564844608306885,
          9.50323486328125,
          4.268610954284668,
          6.481051445007324,
          5.325192928314209,
          4.104037284851074,
          5.723725318908691,
          5.412785053253174,
          1.9456335306167603,
          4.838311195373535,
          7.50664758682251,
          2.7778983116149902,
          5.938863754272461,
          3.464237689971924,
          9.45054817199707,
          2.6132874488830566,
          4.813782691955566,
          4.246963977813721,
          7.4964165687561035,
          4.60324764251709,
          3.916416645050049
         ],
         "yaxis": "y"
        }
       ],
       "layout": {
        "legend": {
         "title": {
          "text": "degree, uni"
         },
         "tracegroupgap": 0
        },
        "margin": {
         "t": 60
        },
        "template": {
         "data": {
          "bar": [
           {
            "error_x": {
             "color": "#2a3f5f"
            },
            "error_y": {
             "color": "#2a3f5f"
            },
            "marker": {
             "line": {
              "color": "#E5ECF6",
              "width": 0.5
             },
             "pattern": {
              "fillmode": "overlay",
              "size": 10,
              "solidity": 0.2
             }
            },
            "type": "bar"
           }
          ],
          "barpolar": [
           {
            "marker": {
             "line": {
              "color": "#E5ECF6",
              "width": 0.5
             },
             "pattern": {
              "fillmode": "overlay",
              "size": 10,
              "solidity": 0.2
             }
            },
            "type": "barpolar"
           }
          ],
          "carpet": [
           {
            "aaxis": {
             "endlinecolor": "#2a3f5f",
             "gridcolor": "white",
             "linecolor": "white",
             "minorgridcolor": "white",
             "startlinecolor": "#2a3f5f"
            },
            "baxis": {
             "endlinecolor": "#2a3f5f",
             "gridcolor": "white",
             "linecolor": "white",
             "minorgridcolor": "white",
             "startlinecolor": "#2a3f5f"
            },
            "type": "carpet"
           }
          ],
          "choropleth": [
           {
            "colorbar": {
             "outlinewidth": 0,
             "ticks": ""
            },
            "type": "choropleth"
           }
          ],
          "contour": [
           {
            "colorbar": {
             "outlinewidth": 0,
             "ticks": ""
            },
            "colorscale": [
             [
              0,
              "#0d0887"
             ],
             [
              0.1111111111111111,
              "#46039f"
             ],
             [
              0.2222222222222222,
              "#7201a8"
             ],
             [
              0.3333333333333333,
              "#9c179e"
             ],
             [
              0.4444444444444444,
              "#bd3786"
             ],
             [
              0.5555555555555556,
              "#d8576b"
             ],
             [
              0.6666666666666666,
              "#ed7953"
             ],
             [
              0.7777777777777778,
              "#fb9f3a"
             ],
             [
              0.8888888888888888,
              "#fdca26"
             ],
             [
              1,
              "#f0f921"
             ]
            ],
            "type": "contour"
           }
          ],
          "contourcarpet": [
           {
            "colorbar": {
             "outlinewidth": 0,
             "ticks": ""
            },
            "type": "contourcarpet"
           }
          ],
          "heatmap": [
           {
            "colorbar": {
             "outlinewidth": 0,
             "ticks": ""
            },
            "colorscale": [
             [
              0,
              "#0d0887"
             ],
             [
              0.1111111111111111,
              "#46039f"
             ],
             [
              0.2222222222222222,
              "#7201a8"
             ],
             [
              0.3333333333333333,
              "#9c179e"
             ],
             [
              0.4444444444444444,
              "#bd3786"
             ],
             [
              0.5555555555555556,
              "#d8576b"
             ],
             [
              0.6666666666666666,
              "#ed7953"
             ],
             [
              0.7777777777777778,
              "#fb9f3a"
             ],
             [
              0.8888888888888888,
              "#fdca26"
             ],
             [
              1,
              "#f0f921"
             ]
            ],
            "type": "heatmap"
           }
          ],
          "heatmapgl": [
           {
            "colorbar": {
             "outlinewidth": 0,
             "ticks": ""
            },
            "colorscale": [
             [
              0,
              "#0d0887"
             ],
             [
              0.1111111111111111,
              "#46039f"
             ],
             [
              0.2222222222222222,
              "#7201a8"
             ],
             [
              0.3333333333333333,
              "#9c179e"
             ],
             [
              0.4444444444444444,
              "#bd3786"
             ],
             [
              0.5555555555555556,
              "#d8576b"
             ],
             [
              0.6666666666666666,
              "#ed7953"
             ],
             [
              0.7777777777777778,
              "#fb9f3a"
             ],
             [
              0.8888888888888888,
              "#fdca26"
             ],
             [
              1,
              "#f0f921"
             ]
            ],
            "type": "heatmapgl"
           }
          ],
          "histogram": [
           {
            "marker": {
             "pattern": {
              "fillmode": "overlay",
              "size": 10,
              "solidity": 0.2
             }
            },
            "type": "histogram"
           }
          ],
          "histogram2d": [
           {
            "colorbar": {
             "outlinewidth": 0,
             "ticks": ""
            },
            "colorscale": [
             [
              0,
              "#0d0887"
             ],
             [
              0.1111111111111111,
              "#46039f"
             ],
             [
              0.2222222222222222,
              "#7201a8"
             ],
             [
              0.3333333333333333,
              "#9c179e"
             ],
             [
              0.4444444444444444,
              "#bd3786"
             ],
             [
              0.5555555555555556,
              "#d8576b"
             ],
             [
              0.6666666666666666,
              "#ed7953"
             ],
             [
              0.7777777777777778,
              "#fb9f3a"
             ],
             [
              0.8888888888888888,
              "#fdca26"
             ],
             [
              1,
              "#f0f921"
             ]
            ],
            "type": "histogram2d"
           }
          ],
          "histogram2dcontour": [
           {
            "colorbar": {
             "outlinewidth": 0,
             "ticks": ""
            },
            "colorscale": [
             [
              0,
              "#0d0887"
             ],
             [
              0.1111111111111111,
              "#46039f"
             ],
             [
              0.2222222222222222,
              "#7201a8"
             ],
             [
              0.3333333333333333,
              "#9c179e"
             ],
             [
              0.4444444444444444,
              "#bd3786"
             ],
             [
              0.5555555555555556,
              "#d8576b"
             ],
             [
              0.6666666666666666,
              "#ed7953"
             ],
             [
              0.7777777777777778,
              "#fb9f3a"
             ],
             [
              0.8888888888888888,
              "#fdca26"
             ],
             [
              1,
              "#f0f921"
             ]
            ],
            "type": "histogram2dcontour"
           }
          ],
          "mesh3d": [
           {
            "colorbar": {
             "outlinewidth": 0,
             "ticks": ""
            },
            "type": "mesh3d"
           }
          ],
          "parcoords": [
           {
            "line": {
             "colorbar": {
              "outlinewidth": 0,
              "ticks": ""
             }
            },
            "type": "parcoords"
           }
          ],
          "pie": [
           {
            "automargin": true,
            "type": "pie"
           }
          ],
          "scatter": [
           {
            "fillpattern": {
             "fillmode": "overlay",
             "size": 10,
             "solidity": 0.2
            },
            "type": "scatter"
           }
          ],
          "scatter3d": [
           {
            "line": {
             "colorbar": {
              "outlinewidth": 0,
              "ticks": ""
             }
            },
            "marker": {
             "colorbar": {
              "outlinewidth": 0,
              "ticks": ""
             }
            },
            "type": "scatter3d"
           }
          ],
          "scattercarpet": [
           {
            "marker": {
             "colorbar": {
              "outlinewidth": 0,
              "ticks": ""
             }
            },
            "type": "scattercarpet"
           }
          ],
          "scattergeo": [
           {
            "marker": {
             "colorbar": {
              "outlinewidth": 0,
              "ticks": ""
             }
            },
            "type": "scattergeo"
           }
          ],
          "scattergl": [
           {
            "marker": {
             "colorbar": {
              "outlinewidth": 0,
              "ticks": ""
             }
            },
            "type": "scattergl"
           }
          ],
          "scattermapbox": [
           {
            "marker": {
             "colorbar": {
              "outlinewidth": 0,
              "ticks": ""
             }
            },
            "type": "scattermapbox"
           }
          ],
          "scatterpolar": [
           {
            "marker": {
             "colorbar": {
              "outlinewidth": 0,
              "ticks": ""
             }
            },
            "type": "scatterpolar"
           }
          ],
          "scatterpolargl": [
           {
            "marker": {
             "colorbar": {
              "outlinewidth": 0,
              "ticks": ""
             }
            },
            "type": "scatterpolargl"
           }
          ],
          "scatterternary": [
           {
            "marker": {
             "colorbar": {
              "outlinewidth": 0,
              "ticks": ""
             }
            },
            "type": "scatterternary"
           }
          ],
          "surface": [
           {
            "colorbar": {
             "outlinewidth": 0,
             "ticks": ""
            },
            "colorscale": [
             [
              0,
              "#0d0887"
             ],
             [
              0.1111111111111111,
              "#46039f"
             ],
             [
              0.2222222222222222,
              "#7201a8"
             ],
             [
              0.3333333333333333,
              "#9c179e"
             ],
             [
              0.4444444444444444,
              "#bd3786"
             ],
             [
              0.5555555555555556,
              "#d8576b"
             ],
             [
              0.6666666666666666,
              "#ed7953"
             ],
             [
              0.7777777777777778,
              "#fb9f3a"
             ],
             [
              0.8888888888888888,
              "#fdca26"
             ],
             [
              1,
              "#f0f921"
             ]
            ],
            "type": "surface"
           }
          ],
          "table": [
           {
            "cells": {
             "fill": {
              "color": "#EBF0F8"
             },
             "line": {
              "color": "white"
             }
            },
            "header": {
             "fill": {
              "color": "#C8D4E3"
             },
             "line": {
              "color": "white"
             }
            },
            "type": "table"
           }
          ]
         },
         "layout": {
          "annotationdefaults": {
           "arrowcolor": "#2a3f5f",
           "arrowhead": 0,
           "arrowwidth": 1
          },
          "autotypenumbers": "strict",
          "coloraxis": {
           "colorbar": {
            "outlinewidth": 0,
            "ticks": ""
           }
          },
          "colorscale": {
           "diverging": [
            [
             0,
             "#8e0152"
            ],
            [
             0.1,
             "#c51b7d"
            ],
            [
             0.2,
             "#de77ae"
            ],
            [
             0.3,
             "#f1b6da"
            ],
            [
             0.4,
             "#fde0ef"
            ],
            [
             0.5,
             "#f7f7f7"
            ],
            [
             0.6,
             "#e6f5d0"
            ],
            [
             0.7,
             "#b8e186"
            ],
            [
             0.8,
             "#7fbc41"
            ],
            [
             0.9,
             "#4d9221"
            ],
            [
             1,
             "#276419"
            ]
           ],
           "sequential": [
            [
             0,
             "#0d0887"
            ],
            [
             0.1111111111111111,
             "#46039f"
            ],
            [
             0.2222222222222222,
             "#7201a8"
            ],
            [
             0.3333333333333333,
             "#9c179e"
            ],
            [
             0.4444444444444444,
             "#bd3786"
            ],
            [
             0.5555555555555556,
             "#d8576b"
            ],
            [
             0.6666666666666666,
             "#ed7953"
            ],
            [
             0.7777777777777778,
             "#fb9f3a"
            ],
            [
             0.8888888888888888,
             "#fdca26"
            ],
            [
             1,
             "#f0f921"
            ]
           ],
           "sequentialminus": [
            [
             0,
             "#0d0887"
            ],
            [
             0.1111111111111111,
             "#46039f"
            ],
            [
             0.2222222222222222,
             "#7201a8"
            ],
            [
             0.3333333333333333,
             "#9c179e"
            ],
            [
             0.4444444444444444,
             "#bd3786"
            ],
            [
             0.5555555555555556,
             "#d8576b"
            ],
            [
             0.6666666666666666,
             "#ed7953"
            ],
            [
             0.7777777777777778,
             "#fb9f3a"
            ],
            [
             0.8888888888888888,
             "#fdca26"
            ],
            [
             1,
             "#f0f921"
            ]
           ]
          },
          "colorway": [
           "#636efa",
           "#EF553B",
           "#00cc96",
           "#ab63fa",
           "#FFA15A",
           "#19d3f3",
           "#FF6692",
           "#B6E880",
           "#FF97FF",
           "#FECB52"
          ],
          "font": {
           "color": "#2a3f5f"
          },
          "geo": {
           "bgcolor": "white",
           "lakecolor": "white",
           "landcolor": "#E5ECF6",
           "showlakes": true,
           "showland": true,
           "subunitcolor": "white"
          },
          "hoverlabel": {
           "align": "left"
          },
          "hovermode": "closest",
          "mapbox": {
           "style": "light"
          },
          "paper_bgcolor": "white",
          "plot_bgcolor": "#E5ECF6",
          "polar": {
           "angularaxis": {
            "gridcolor": "white",
            "linecolor": "white",
            "ticks": ""
           },
           "bgcolor": "#E5ECF6",
           "radialaxis": {
            "gridcolor": "white",
            "linecolor": "white",
            "ticks": ""
           }
          },
          "scene": {
           "xaxis": {
            "backgroundcolor": "#E5ECF6",
            "gridcolor": "white",
            "gridwidth": 2,
            "linecolor": "white",
            "showbackground": true,
            "ticks": "",
            "zerolinecolor": "white"
           },
           "yaxis": {
            "backgroundcolor": "#E5ECF6",
            "gridcolor": "white",
            "gridwidth": 2,
            "linecolor": "white",
            "showbackground": true,
            "ticks": "",
            "zerolinecolor": "white"
           },
           "zaxis": {
            "backgroundcolor": "#E5ECF6",
            "gridcolor": "white",
            "gridwidth": 2,
            "linecolor": "white",
            "showbackground": true,
            "ticks": "",
            "zerolinecolor": "white"
           }
          },
          "shapedefaults": {
           "line": {
            "color": "#2a3f5f"
           }
          },
          "ternary": {
           "aaxis": {
            "gridcolor": "white",
            "linecolor": "white",
            "ticks": ""
           },
           "baxis": {
            "gridcolor": "white",
            "linecolor": "white",
            "ticks": ""
           },
           "bgcolor": "#E5ECF6",
           "caxis": {
            "gridcolor": "white",
            "linecolor": "white",
            "ticks": ""
           }
          },
          "title": {
           "x": 0.05
          },
          "xaxis": {
           "automargin": true,
           "gridcolor": "white",
           "linecolor": "white",
           "ticks": "",
           "title": {
            "standoff": 15
           },
           "zerolinecolor": "white",
           "zerolinewidth": 2
          },
          "yaxis": {
           "automargin": true,
           "gridcolor": "white",
           "linecolor": "white",
           "ticks": "",
           "title": {
            "standoff": 15
           },
           "zerolinecolor": "white",
           "zerolinewidth": 2
          }
         }
        },
        "title": {
         "text": "t-SNE of MXBAI embeddings of UTS and USYD subjects using by Degree"
        },
        "xaxis": {
         "anchor": "y",
         "domain": [
          0,
          1
         ],
         "title": {
          "text": "First t-SNE"
         }
        },
        "yaxis": {
         "anchor": "x",
         "domain": [
          0,
          1
         ],
         "title": {
          "text": "Second t-SNE"
         }
        }
       }
      }
     },
     "metadata": {},
     "output_type": "display_data"
    }
   ],
   "source": [
    "show_degree_plot(\"mxbai\")"
   ]
  },
  {
   "cell_type": "code",
   "execution_count": 170,
   "metadata": {},
   "outputs": [
    {
     "data": {
      "application/vnd.plotly.v1+json": {
       "config": {
        "plotlyServerURL": "https://plot.ly"
       },
       "data": [
        {
         "customdata": [
          [
           "48260",
           "UTS"
          ],
          [
           "48221",
           "UTS"
          ],
          [
           "41057",
           "UTS"
          ],
          [
           "41305",
           "UTS"
          ],
          [
           "41082",
           "UTS"
          ],
          [
           "41128",
           "UTS"
          ],
          [
           "41201",
           "UTS"
          ],
          [
           "49261",
           "UTS"
          ],
          [
           "91705",
           "UTS"
          ],
          [
           "42724",
           "UTS"
          ],
          [
           "41108",
           "UTS"
          ],
          [
           "41276",
           "UTS"
          ],
          [
           "16138",
           "UTS"
          ],
          [
           "48850",
           "UTS"
          ],
          [
           "43123",
           "UTS"
          ],
          [
           "91400",
           "UTS"
          ],
          [
           "41124",
           "UTS"
          ],
          [
           "48610",
           "UTS"
          ],
          [
           "42026",
           "UTS"
          ],
          [
           "48352",
           "UTS"
          ],
          [
           "48353",
           "UTS"
          ],
          [
           "41125",
           "UTS"
          ],
          [
           "41060",
           "UTS"
          ],
          [
           "16912",
           "UTS"
          ],
          [
           "60101",
           "UTS"
          ],
          [
           "41099",
           "UTS"
          ],
          [
           "41308",
           "UTS"
          ],
          [
           "43026",
           "UTS"
          ],
          [
           "41277",
           "UTS"
          ],
          [
           "16314",
           "UTS"
          ],
          [
           "41200",
           "UTS"
          ],
          [
           "41129",
           "UTS"
          ],
          [
           "48430",
           "UTS"
          ],
          [
           "48349",
           "UTS"
          ],
          [
           "41056",
           "UTS"
          ],
          [
           "41386",
           "UTS"
          ],
          [
           "42722",
           "UTS"
          ],
          [
           "43021",
           "UTS"
          ],
          [
           "41118",
           "UTS"
          ],
          [
           "41163",
           "UTS"
          ],
          [
           "41088",
           "UTS"
          ],
          [
           "41067",
           "UTS"
          ],
          [
           "48641",
           "UTS"
          ],
          [
           "41030",
           "UTS"
          ],
          [
           "41381",
           "UTS"
          ],
          [
           "48362",
           "UTS"
          ],
          [
           "68412",
           "UTS"
          ],
          [
           "43017",
           "UTS"
          ],
          [
           "48572",
           "UTS"
          ],
          [
           "48821",
           "UTS"
          ],
          [
           "41084",
           "UTS"
          ],
          [
           "48860",
           "UTS"
          ],
          [
           "26101",
           "UTS"
          ],
          [
           "42095",
           "UTS"
          ],
          [
           "41085",
           "UTS"
          ],
          [
           "68038",
           "UTS"
          ],
          [
           "41302",
           "UTS"
          ],
          [
           "16471",
           "UTS"
          ],
          [
           "42001",
           "UTS"
          ],
          [
           "48230",
           "UTS"
          ],
          [
           "41380",
           "UTS"
          ],
          [
           "41089",
           "UTS"
          ],
          [
           "41066",
           "UTS"
          ],
          [
           "41070",
           "UTS"
          ],
          [
           "41162",
           "UTS"
          ],
          [
           "49047",
           "UTS"
          ],
          [
           "43124",
           "UTS"
          ],
          [
           "48441",
           "UTS"
          ],
          [
           "31061",
           "UTS"
          ],
          [
           "48881",
           "UTS"
          ],
          [
           "68037",
           "UTS"
          ],
          [
           "43019",
           "UTS"
          ],
          [
           "41161",
           "UTS"
          ],
          [
           "48340",
           "UTS"
          ],
          [
           "48550",
           "UTS"
          ],
          [
           "65111",
           "UTS"
          ],
          [
           "48531",
           "UTS"
          ],
          [
           "41069",
           "UTS"
          ],
          [
           "41086",
           "UTS"
          ],
          [
           "41301",
           "UTS"
          ],
          [
           "41028",
           "UTS"
          ],
          [
           "43015",
           "UTS"
          ],
          [
           "41053",
           "UTS"
          ],
          [
           "48622",
           "UTS"
          ],
          [
           "48360",
           "UTS"
          ],
          [
           "41012",
           "UTS"
          ],
          [
           "41383",
           "UTS"
          ],
          [
           "48321",
           "UTS"
          ],
          [
           "48320",
           "UTS"
          ],
          [
           "41382",
           "UTS"
          ],
          [
           "41013",
           "UTS"
          ],
          [
           "41117",
           "UTS"
          ],
          [
           "43014",
           "UTS"
          ],
          [
           "41029",
           "UTS"
          ],
          [
           "48434",
           "UTS"
          ],
          [
           "41091",
           "UTS"
          ],
          [
           "16263",
           "UTS"
          ],
          [
           "41068",
           "UTS"
          ],
          [
           "41087",
           "UTS"
          ],
          [
           "48530",
           "UTS"
          ],
          [
           "48510",
           "UTS"
          ],
          [
           "43022",
           "UTS"
          ],
          [
           "43018",
           "UTS"
          ],
          [
           "41160",
           "UTS"
          ],
          [
           "41033",
           "UTS"
          ],
          [
           "41203",
           "UTS"
          ],
          [
           "48521",
           "UTS"
          ],
          [
           "91822",
           "UTS"
          ],
          [
           "48331",
           "UTS"
          ],
          [
           "41055",
           "UTS"
          ],
          [
           "48366",
           "UTS"
          ],
          [
           "48389",
           "UTS"
          ],
          [
           "41278",
           "UTS"
          ],
          [
           "49131",
           "UTS"
          ],
          [
           "48370",
           "UTS"
          ],
          [
           "41014",
           "UTS"
          ],
          [
           "41385",
           "UTS"
          ],
          [
           "41034",
           "UTS"
          ],
          [
           "48350",
           "UTS"
          ],
          [
           "65212",
           "UTS"
          ],
          [
           "49150",
           "UTS"
          ],
          [
           "41059",
           "UTS"
          ],
          [
           "48540",
           "UTS"
          ],
          [
           "41058",
           "UTS"
          ],
          [
           "49151",
           "UTS"
          ],
          [
           "48310",
           "UTS"
          ],
          [
           "41127",
           "UTS"
          ],
          [
           "48582",
           "UTS"
          ],
          [
           "41035",
           "UTS"
          ],
          [
           "41384",
           "UTS"
          ],
          [
           "48371",
           "UTS"
          ],
          [
           "91161",
           "UTS"
          ],
          [
           "16422",
           "UTS"
          ],
          [
           "48330",
           "UTS"
          ],
          [
           "41054",
           "UTS"
          ],
          [
           "48520",
           "UTS"
          ],
          [
           "41202",
           "UTS"
          ],
          [
           "48023",
           "UTS"
          ],
          [
           "48561",
           "UTS"
          ]
         ],
         "hovertemplate": "<b>%{hovertext}</b><br><br>degree=ENGI<br>uni=%{customdata[1]}<br>x=%{x}<br>y=%{y}<br>subject_code=%{customdata[0]}<extra></extra>",
         "hovertext": [
          "48260",
          "48221",
          "41057",
          "41305",
          "41082",
          "41128",
          "41201",
          "49261",
          "91705",
          "42724",
          "41108",
          "41276",
          "16138",
          "48850",
          "43123",
          "91400",
          "41124",
          "48610",
          "42026",
          "48352",
          "48353",
          "41125",
          "41060",
          "16912",
          "60101",
          "41099",
          "41308",
          "43026",
          "41277",
          "16314",
          "41200",
          "41129",
          "48430",
          "48349",
          "41056",
          "41386",
          "42722",
          "43021",
          "41118",
          "41163",
          "41088",
          "41067",
          "48641",
          "41030",
          "41381",
          "48362",
          "68412",
          "43017",
          "48572",
          "48821",
          "41084",
          "48860",
          "26101",
          "42095",
          "41085",
          "68038",
          "41302",
          "16471",
          "42001",
          "48230",
          "41380",
          "41089",
          "41066",
          "41070",
          "41162",
          "49047",
          "43124",
          "48441",
          "31061",
          "48881",
          "68037",
          "43019",
          "41161",
          "48340",
          "48550",
          "65111",
          "48531",
          "41069",
          "41086",
          "41301",
          "41028",
          "43015",
          "41053",
          "48622",
          "48360",
          "41012",
          "41383",
          "48321",
          "48320",
          "41382",
          "41013",
          "41117",
          "43014",
          "41029",
          "48434",
          "41091",
          "16263",
          "41068",
          "41087",
          "48530",
          "48510",
          "43022",
          "43018",
          "41160",
          "41033",
          "41203",
          "48521",
          "91822",
          "48331",
          "41055",
          "48366",
          "48389",
          "41278",
          "49131",
          "48370",
          "41014",
          "41385",
          "41034",
          "48350",
          "65212",
          "49150",
          "41059",
          "48540",
          "41058",
          "49151",
          "48310",
          "41127",
          "48582",
          "41035",
          "41384",
          "48371",
          "91161",
          "16422",
          "48330",
          "41054",
          "48520",
          "41202",
          "48023",
          "48561"
         ],
         "legendgroup": "ENGI, UTS",
         "marker": {
          "color": "#636efa",
          "symbol": "circle"
         },
         "mode": "markers",
         "name": "ENGI, UTS",
         "orientation": "v",
         "showlegend": true,
         "type": "scatter",
         "x": [
          -16.593713760375977,
          -12.38824462890625,
          -14.000208854675293,
          -26.132261276245117,
          -13.886127471923828,
          -24.396799087524414,
          -21.280969619750977,
          -6.9802565574646,
          -18.37165641784668,
          -9.30610466003418,
          -16.23128890991211,
          -26.6849308013916,
          -23.027942657470703,
          -2.61346435546875,
          -24.877498626708984,
          -23.02554702758789,
          -18.638946533203125,
          -24.826553344726562,
          -16.459794998168945,
          -15.632828712463379,
          -5.959749221801758,
          -10.773566246032715,
          -30.529220581054688,
          -17.7857608795166,
          -16.79985809326172,
          -28.230953216552734,
          -15.859894752502441,
          -17.062450408935547,
          -15.897509574890137,
          -10.40032958984375,
          -19.339130401611328,
          -11.227140426635742,
          -21.634986877441406,
          -18.73421287536621,
          -14.384533882141113,
          -16.88031005859375,
          -18.1472225189209,
          -21.019113540649414,
          -19.342823028564453,
          -28.694385528564453,
          -26.19366455078125,
          -19.671371459960938,
          -6.450292587280273,
          -16.923477172851562,
          -17.573911666870117,
          -10.648884773254395,
          -24.245887756347656,
          -12.165237426757812,
          -27.56260108947754,
          -18.263887405395508,
          -26.480892181396484,
          -3.0606026649475098,
          -13.831583023071289,
          -8.906233787536621,
          -26.775028228759766,
          -10.11044692993164,
          -15.947210311889648,
          -19.68288230895996,
          -11.277256965637207,
          -8.882909774780273,
          -12.488106727600098,
          -26.95445442199707,
          -30.581153869628906,
          -27.417236328125,
          -21.119626998901367,
          -11.34687328338623,
          -11.035337448120117,
          -13.769829750061035,
          -13.90656852722168,
          -23.853118896484375,
          -15.343655586242676,
          -19.394304275512695,
          -22.64995574951172,
          -2.390228509902954,
          -0.1017371416091919,
          -17.265409469604492,
          -8.679451942443848,
          -29.842830657958984,
          -26.011293411254883,
          -24.097505569458008,
          -14.20656967163086,
          -10.992738723754883,
          -13.74582290649414,
          -8.185585021972656,
          -1.3790291547775269,
          -18.88256072998047,
          -17.483198165893555,
          -17.464942932128906,
          -19.90484619140625,
          -17.263959884643555,
          -15.852694511413574,
          -20.547470092773438,
          -13.014609336853027,
          -23.839895248413086,
          -20.7213077545166,
          -21.183780670166016,
          -25.029817581176758,
          -30.150388717651367,
          -26.062419891357422,
          -18.633853912353516,
          -1.0401400327682495,
          -20.545257568359375,
          -16.699594497680664,
          -28.575761795043945,
          -24.818462371826172,
          -21.088579177856445,
          -5.832712650299072,
          -23.276016235351562,
          -9.612337112426758,
          -10.553582191467285,
          -8.22836971282959,
          -20.727773666381836,
          -24.852031707763672,
          -4.534599304199219,
          -7.578753471374512,
          -18.16084861755371,
          -17.419584274291992,
          -26.325170516967773,
          -12.221702575683594,
          -17.45901107788086,
          -15.668611526489258,
          -29.25815200805664,
          -27.58667755126953,
          -16.53915786743164,
          -15.505792617797852,
          -22.704021453857422,
          -30.77621841430664,
          -26.217458724975586,
          -13.738068580627441,
          -16.838533401489258,
          -10.924028396606445,
          -15.962594985961914,
          -12.16524887084961,
          -1.3142642974853516,
          -10.481761932373047,
          -18.220935821533203,
          -18.583171844482422,
          -0.7943461537361145,
          -7.6780781745910645
         ],
         "xaxis": "x",
         "y": [
          -16.346115112304688,
          0.9643943905830383,
          -10.564332008361816,
          -7.935227870941162,
          -8.067837715148926,
          -6.82175350189209,
          -15.581632614135742,
          -3.993537187576294,
          -2.147758960723877,
          -7.687747478485107,
          -5.52305269241333,
          -2.6597092151641846,
          -11.988446235656738,
          -7.549208641052246,
          -11.861019134521484,
          3.8966312408447266,
          -8.295174598693848,
          -3.3814964294433594,
          -9.668465614318848,
          -12.711942672729492,
          -9.265937805175781,
          -10.040514945983887,
          -7.297639846801758,
          -16.845762252807617,
          2.6435813903808594,
          -5.1164679527282715,
          -6.39478063583374,
          -6.334790229797363,
          -6.245100975036621,
          4.246952056884766,
          -14.841301918029785,
          -1.7559444904327393,
          -10.499302864074707,
          -0.2760166525840759,
          -8.495931625366211,
          -8.351703643798828,
          -20.28875160217285,
          -7.861029148101807,
          -9.16687297821045,
          -3.469688892364502,
          -10.171422958374023,
          -5.610560417175293,
          -5.531239986419678,
          -14.688941955566406,
          -7.928309440612793,
          -11.30296802520752,
          3.6564114093780518,
          -7.370500087738037,
          2.148197650909424,
          -3.3491322994232178,
          -10.351385116577148,
          -12.900995254516602,
          -3.0208075046539307,
          -7.091562271118164,
          -10.767221450805664,
          -15.009843826293945,
          -10.944950103759766,
          -13.594489097595215,
          1.926098346710205,
          -9.32372760772705,
          -11.940206527709961,
          -9.808955192565918,
          -6.562027454376221,
          -7.297389030456543,
          -10.507512092590332,
          -13.974400520324707,
          -18.5113468170166,
          1.7200011014938354,
          4.158144474029541,
          -17.86553955078125,
          -4.25797700881958,
          -7.72577428817749,
          -5.9278082847595215,
          -10.038736343383789,
          -12.950614929199219,
          3.26863956451416,
          -4.9912872314453125,
          -6.140891075134277,
          -10.95706844329834,
          -10.301778793334961,
          -11.553858757019043,
          -8.857451438903809,
          -9.783202171325684,
          -13.675575256347656,
          -7.967202186584473,
          -11.182123184204102,
          -9.09093189239502,
          -5.0528035163879395,
          1.331854224205017,
          -8.372194290161133,
          -0.24974554777145386,
          -10.671009063720703,
          -9.549982070922852,
          -17.871789932250977,
          5.398393630981445,
          -11.982949256896973,
          -13.581998825073242,
          -6.5352396965026855,
          -10.64023208618164,
          2.790665864944458,
          -7.386000156402588,
          -9.246269226074219,
          -1.0637553930282593,
          -1.7396738529205322,
          -4.307136058807373,
          -15.569725036621094,
          -8.972001075744629,
          3.8447153568267822,
          -13.773038864135742,
          -1.495674967765808,
          -2.2506983280181885,
          3.3601770401000977,
          -8.46508502960205,
          -4.410366058349609,
          -12.291314125061035,
          -19.986696243286133,
          -8.951849937438965,
          -2.6007637977600098,
          -7.984409332275391,
          1.0116373300552368,
          -11.983508110046387,
          -3.994441270828247,
          2.191255569458008,
          -1.0871567726135254,
          -13.108824729919434,
          -8.90145206451416,
          -8.109332084655762,
          -5.895845413208008,
          -12.526144981384277,
          -6.879222869873047,
          -8.293546676635742,
          1.4065202474594116,
          -10.181339263916016,
          -8.387809753417969,
          1.1907316446304321,
          3.1587278842926025,
          -14.833113670349121,
          -13.631831169128418,
          -13.031148910522461
         ],
         "yaxis": "y"
        },
        {
         "customdata": [
          [
           "ELEC2104",
           "USYD"
          ],
          [
           "BMET2901",
           "USYD"
          ],
          [
           "ELEC5507",
           "USYD"
          ],
          [
           "ELEC3607",
           "USYD"
          ],
          [
           "AMME5060",
           "USYD"
          ],
          [
           "BMET5790",
           "USYD"
          ],
          [
           "ELEC3304",
           "USYD"
          ],
          [
           "CIVL1110",
           "USYD"
          ],
          [
           "BMET5944",
           "USYD"
          ],
          [
           "ELEC5511",
           "USYD"
          ],
          [
           "ELEC5213",
           "USYD"
          ],
          [
           "MECH3261",
           "USYD"
          ],
          [
           "CIVL5702",
           "USYD"
          ],
          [
           "ELEC5205",
           "USYD"
          ],
          [
           "PHYS1003",
           "USYD"
          ],
          [
           "ELEC5622",
           "USYD"
          ],
          [
           "ENGP1002",
           "USYD"
          ],
          [
           "CHEM1991",
           "USYD"
          ],
          [
           "ENGG2112",
           "USYD"
          ],
          [
           "AMME4112",
           "USYD"
          ],
          [
           "CIVL5276",
           "USYD"
          ],
          [
           "BMET3961",
           "USYD"
          ],
          [
           "BMET2960",
           "USYD"
          ],
          [
           "BMET5933",
           "USYD"
          ],
          [
           "CIVL1022",
           "USYD"
          ],
          [
           "BMET5964",
           "USYD"
          ],
          [
           "AMME5902",
           "USYD"
          ],
          [
           "MATH2061",
           "USYD"
          ],
          [
           "CIVL5535",
           "USYD"
          ],
          [
           "AMME5105",
           "USYD"
          ],
          [
           "AMME5104",
           "USYD"
          ],
          [
           "ELEC5208",
           "USYD"
          ],
          [
           "ENGG3112",
           "USYD"
          ],
          [
           "PHYS2213",
           "USYD"
          ],
          [
           "MTRX1705",
           "USYD"
          ],
          [
           "CIVL5670",
           "USYD"
          ],
          [
           "DATA1002",
           "USYD"
          ],
          [
           "CIVL5277",
           "USYD"
          ],
          [
           "AMME2301",
           "USYD"
          ],
          [
           "MECH1400",
           "USYD"
          ],
          [
           "ENGP1003",
           "USYD"
          ],
          [
           "BMET3921",
           "USYD"
          ],
          [
           "CIVL4903",
           "USYD"
          ],
          [
           "ELEC5204",
           "USYD"
          ],
          [
           "ELEC3104",
           "USYD"
          ],
          [
           "CIVL3511",
           "USYD"
          ],
          [
           "CIVL5703",
           "USYD"
          ],
          [
           "MECH3260",
           "USYD"
          ],
          [
           "BMET4010",
           "USYD"
          ],
          [
           "ELEC5212",
           "USYD"
          ],
          [
           "ELEC5510",
           "USYD"
          ],
          [
           "CIVL1900",
           "USYD"
          ],
          [
           "ELEC3702",
           "USYD"
          ],
          [
           "MECH5265",
           "USYD"
          ],
          [
           "ELEC3610",
           "USYD"
          ],
          [
           "CIVL3205",
           "USYD"
          ],
          [
           "ELEC3305",
           "USYD"
          ],
          [
           "ELEC5101",
           "USYD"
          ],
          [
           "CIVL3614",
           "USYD"
          ],
          [
           "BMET5953",
           "USYD"
          ],
          [
           "AMME4010",
           "USYD"
          ],
          [
           "BMET5958",
           "USYD"
          ],
          [
           "BMET3971",
           "USYD"
          ],
          [
           "CIVL5266",
           "USYD"
          ],
          [
           "AMME4401",
           "USYD"
          ],
          [
           "MECH2401",
           "USYD"
          ],
          [
           "ENGP2002",
           "USYD"
          ],
          [
           "CIVL5460",
           "USYD"
          ],
          [
           "MTRX1702",
           "USYD"
          ],
          [
           "BMET5962",
           "USYD"
          ],
          [
           "AMME1802",
           "USYD"
          ],
          [
           "AMME5292",
           "USYD"
          ],
          [
           "MTRX5700",
           "USYD"
          ],
          [
           "AMME5912",
           "USYD"
          ],
          [
           "MECH5311",
           "USYD"
          ],
          [
           "AMME2500",
           "USYD"
          ],
          [
           "CIVL5533",
           "USYD"
          ],
          [
           "BMET1960",
           "USYD"
          ],
          [
           "ELEC3206",
           "USYD"
          ],
          [
           "CIVL3310",
           "USYD"
          ],
          [
           "MECH5720",
           "USYD"
          ],
          [
           "ELEC5517",
           "USYD"
          ],
          [
           "BMET3802",
           "USYD"
          ],
          [
           "CIVL5704",
           "USYD"
          ],
          [
           "CIVL4816",
           "USYD"
          ],
          [
           "ISYS3402",
           "USYD"
          ],
          [
           "MECH2460",
           "USYD"
          ],
          [
           "AMME5271",
           "USYD"
          ],
          [
           "ELEC5203",
           "USYD"
          ],
          [
           "CHNG4203",
           "USYD"
          ],
          [
           "CIVL2700",
           "USYD"
          ],
          [
           "MECH3362",
           "USYD"
          ],
          [
           "ELEC3505",
           "USYD"
          ],
          [
           "BMET4112",
           "USYD"
          ],
          [
           "CIVL4817",
           "USYD"
          ],
          [
           "BMET5996",
           "USYD"
          ],
          [
           "ELEC2302",
           "USYD"
          ],
          [
           "ELEC5701",
           "USYD"
          ],
          [
           "AMME2262",
           "USYD"
          ],
          [
           "BMET4981",
           "USYD"
          ],
          [
           "ELEC5516",
           "USYD"
          ],
          [
           "CHNG4812",
           "USYD"
          ],
          [
           "CIVL1802",
           "USYD"
          ],
          [
           "MECH5275",
           "USYD"
          ],
          [
           "CIVL2812",
           "USYD"
          ],
          [
           "STAT2911",
           "USYD"
          ],
          [
           "MECH3460",
           "USYD"
          ],
          [
           "ELEC2103",
           "USYD"
          ],
          [
           "CIVL3612",
           "USYD"
          ],
          [
           "CIVL3235",
           "USYD"
          ],
          [
           "BMET1961",
           "USYD"
          ],
          [
           "MECH5310",
           "USYD"
          ],
          [
           "MECH5255",
           "USYD"
          ],
          [
           "BMET5963",
           "USYD"
          ],
          [
           "ENGP3002",
           "USYD"
          ],
          [
           "CHNG1108",
           "USYD"
          ],
          [
           "BMET5934",
           "USYD"
          ],
          [
           "ENGP2003",
           "USYD"
          ],
          [
           "MECH2400",
           "USYD"
          ],
          [
           "CIVL4860",
           "USYD"
          ],
          [
           "ENGG1810",
           "USYD"
          ],
          [
           "AMME3500",
           "USYD"
          ],
          [
           "AERO1560",
           "USYD"
          ],
          [
           "BMET5959",
           "USYD"
          ],
          [
           "ELEC5760",
           "USYD"
          ],
          [
           "AMME5101",
           "USYD"
          ],
          [
           "AMME4710",
           "USYD"
          ],
          [
           "CIVL5531",
           "USYD"
          ],
          [
           "BMET3660",
           "USYD"
          ],
          [
           "CIVL4818",
           "USYD"
          ],
          [
           "BMET2925",
           "USYD"
          ],
          [
           "ENGP3001",
           "USYD"
          ],
          [
           "AMME5510",
           "USYD"
          ],
          [
           "MECH5305",
           "USYD"
          ],
          [
           "CIVL5458",
           "USYD"
          ],
          [
           "AMME2200",
           "USYD"
          ],
          [
           "AMME1705",
           "USYD"
          ],
          [
           "ELEC2602",
           "USYD"
          ],
          [
           "MECH3361",
           "USYD"
          ],
          [
           "MECH1560",
           "USYD"
          ],
          [
           "BMET4111",
           "USYD"
          ],
          [
           "ELEC3802",
           "USYD"
          ],
          [
           "MATH2069",
           "USYD"
          ],
          [
           "BMET5995",
           "USYD"
          ],
          [
           "ELEC5305",
           "USYD"
          ],
          [
           "CIVL3806",
           "USYD"
          ],
          [
           "CIVL2201",
           "USYD"
          ],
          [
           "AMME2261",
           "USYD"
          ],
          [
           "CHNG4811",
           "USYD"
          ],
          [
           "BMET3990",
           "USYD"
          ],
          [
           "STAT2011",
           "USYD"
          ],
          [
           "ELEC2100",
           "USYD"
          ],
          [
           "ELEC3204",
           "USYD"
          ],
          [
           "BMET5957",
           "USYD"
          ],
          [
           "CIVL5269",
           "USYD"
          ],
          [
           "BUSS1030",
           "USYD"
          ],
          [
           "BMET2400",
           "USYD"
          ],
          [
           "ELEC4714",
           "USYD"
          ],
          [
           "CIVL2410",
           "USYD"
          ],
          [
           "CIVL3411",
           "USYD"
          ],
          [
           "ELEC5304",
           "USYD"
          ],
          [
           "AMME1362",
           "USYD"
          ],
          [
           "AMME3060",
           "USYD"
          ],
          [
           "ELEC3803",
           "USYD"
          ],
          [
           "CIVL2611",
           "USYD"
          ],
          [
           "CIVL3811",
           "USYD"
          ],
          [
           "CIVL5320",
           "USYD"
          ],
          [
           "ELEC5518",
           "USYD"
          ],
          [
           "ENGP2001",
           "USYD"
          ],
          [
           "MTRX1701",
           "USYD"
          ],
          [
           "AMME2000",
           "USYD"
          ],
          [
           "MECH5304",
           "USYD"
          ],
          [
           "MATH1062",
           "USYD"
          ],
          [
           "ELEC5308",
           "USYD"
          ],
          [
           "CIVL4819",
           "USYD"
          ],
          [
           "CHEM1111",
           "USYD"
          ],
          [
           "ELEC5207",
           "USYD"
          ],
          [
           "CIVL4812",
           "USYD"
          ],
          [
           "MKTG1001",
           "USYD"
          ],
          [
           "ELEC3404",
           "USYD"
          ],
          [
           "MTRX3760",
           "USYD"
          ],
          [
           "MECH4660",
           "USYD"
          ],
          [
           "ELEC5211",
           "USYD"
          ],
          [
           "AERO5750",
           "USYD"
          ],
          [
           "CIVL2010",
           "USYD"
          ],
          [
           "CIVL3206",
           "USYD"
          ],
          [
           "BMET5911",
           "USYD"
          ],
          [
           "CIVL5452",
           "USYD"
          ],
          [
           "ELEC4713",
           "USYD"
          ],
          [
           "ELEC1004",
           "USYD"
          ],
          [
           "BMET5907",
           "USYD"
          ],
          [
           "CIVL3705",
           "USYD"
          ],
          [
           "BMET2903",
           "USYD"
          ],
          [
           "AMME5520",
           "USYD"
          ],
          [
           "MTRX2700",
           "USYD"
          ],
          [
           "CIVL5999",
           "USYD"
          ],
          [
           "CHEM1911",
           "USYD"
          ],
          [
           "BMET5931",
           "USYD"
          ],
          [
           "DATA1902",
           "USYD"
          ],
          [
           "CIVL4023",
           "USYD"
          ],
          [
           "ELEC3609",
           "USYD"
          ],
          [
           "AMME5202",
           "USYD"
          ],
          [
           "AMME5310",
           "USYD"
          ],
          [
           "PHYS1001",
           "USYD"
          ],
          [
           "ENGP1001",
           "USYD"
          ],
          [
           "MTRX3700",
           "USYD"
          ],
          [
           "CIVL4022",
           "USYD"
          ],
          [
           "ELEC3608",
           "USYD"
          ],
          [
           "AMME4111",
           "USYD"
          ],
          [
           "CIVL5330",
           "USYD"
          ],
          [
           "BMET2922",
           "USYD"
          ],
          [
           "CIVL5668",
           "USYD"
          ],
          [
           "ELEC3203",
           "USYD"
          ],
          [
           "BMET2902",
           "USYD"
          ],
          [
           "BMET3997",
           "USYD"
          ],
          [
           "CIVL3704",
           "USYD"
          ],
          [
           "CIVL5453",
           "USYD"
          ],
          [
           "ELEC4712",
           "USYD"
          ],
          [
           "MECH4460",
           "USYD"
          ],
          [
           "ELEC1005",
           "USYD"
          ],
          [
           "ELEC3612",
           "USYD"
          ],
          [
           "CIVL1810",
           "USYD"
          ],
          [
           "CIVL4203",
           "USYD"
          ],
          [
           "ELEC5512",
           "USYD"
          ],
          [
           "ELEC3405",
           "USYD"
          ],
          [
           "CIVL5351",
           "USYD"
          ],
          [
           "CIVL5701",
           "USYD"
          ],
          [
           "BMET5992",
           "USYD"
          ],
          [
           "ELEC4505",
           "USYD"
          ],
          [
           "ELEC5206",
           "USYD"
          ],
          [
           "MECH5461",
           "USYD"
          ]
         ],
         "hovertemplate": "<b>%{hovertext}</b><br><br>degree=ENGI<br>uni=%{customdata[1]}<br>x=%{x}<br>y=%{y}<br>subject_code=%{customdata[0]}<extra></extra>",
         "hovertext": [
          "ELEC2104",
          "BMET2901",
          "ELEC5507",
          "ELEC3607",
          "AMME5060",
          "BMET5790",
          "ELEC3304",
          "CIVL1110",
          "BMET5944",
          "ELEC5511",
          "ELEC5213",
          "MECH3261",
          "CIVL5702",
          "ELEC5205",
          "PHYS1003",
          "ELEC5622",
          "ENGP1002",
          "CHEM1991",
          "ENGG2112",
          "AMME4112",
          "CIVL5276",
          "BMET3961",
          "BMET2960",
          "BMET5933",
          "CIVL1022",
          "BMET5964",
          "AMME5902",
          "MATH2061",
          "CIVL5535",
          "AMME5105",
          "AMME5104",
          "ELEC5208",
          "ENGG3112",
          "PHYS2213",
          "MTRX1705",
          "CIVL5670",
          "DATA1002",
          "CIVL5277",
          "AMME2301",
          "MECH1400",
          "ENGP1003",
          "BMET3921",
          "CIVL4903",
          "ELEC5204",
          "ELEC3104",
          "CIVL3511",
          "CIVL5703",
          "MECH3260",
          "BMET4010",
          "ELEC5212",
          "ELEC5510",
          "CIVL1900",
          "ELEC3702",
          "MECH5265",
          "ELEC3610",
          "CIVL3205",
          "ELEC3305",
          "ELEC5101",
          "CIVL3614",
          "BMET5953",
          "AMME4010",
          "BMET5958",
          "BMET3971",
          "CIVL5266",
          "AMME4401",
          "MECH2401",
          "ENGP2002",
          "CIVL5460",
          "MTRX1702",
          "BMET5962",
          "AMME1802",
          "AMME5292",
          "MTRX5700",
          "AMME5912",
          "MECH5311",
          "AMME2500",
          "CIVL5533",
          "BMET1960",
          "ELEC3206",
          "CIVL3310",
          "MECH5720",
          "ELEC5517",
          "BMET3802",
          "CIVL5704",
          "CIVL4816",
          "ISYS3402",
          "MECH2460",
          "AMME5271",
          "ELEC5203",
          "CHNG4203",
          "CIVL2700",
          "MECH3362",
          "ELEC3505",
          "BMET4112",
          "CIVL4817",
          "BMET5996",
          "ELEC2302",
          "ELEC5701",
          "AMME2262",
          "BMET4981",
          "ELEC5516",
          "CHNG4812",
          "CIVL1802",
          "MECH5275",
          "CIVL2812",
          "STAT2911",
          "MECH3460",
          "ELEC2103",
          "CIVL3612",
          "CIVL3235",
          "BMET1961",
          "MECH5310",
          "MECH5255",
          "BMET5963",
          "ENGP3002",
          "CHNG1108",
          "BMET5934",
          "ENGP2003",
          "MECH2400",
          "CIVL4860",
          "ENGG1810",
          "AMME3500",
          "AERO1560",
          "BMET5959",
          "ELEC5760",
          "AMME5101",
          "AMME4710",
          "CIVL5531",
          "BMET3660",
          "CIVL4818",
          "BMET2925",
          "ENGP3001",
          "AMME5510",
          "MECH5305",
          "CIVL5458",
          "AMME2200",
          "AMME1705",
          "ELEC2602",
          "MECH3361",
          "MECH1560",
          "BMET4111",
          "ELEC3802",
          "MATH2069",
          "BMET5995",
          "ELEC5305",
          "CIVL3806",
          "CIVL2201",
          "AMME2261",
          "CHNG4811",
          "BMET3990",
          "STAT2011",
          "ELEC2100",
          "ELEC3204",
          "BMET5957",
          "CIVL5269",
          "BUSS1030",
          "BMET2400",
          "ELEC4714",
          "CIVL2410",
          "CIVL3411",
          "ELEC5304",
          "AMME1362",
          "AMME3060",
          "ELEC3803",
          "CIVL2611",
          "CIVL3811",
          "CIVL5320",
          "ELEC5518",
          "ENGP2001",
          "MTRX1701",
          "AMME2000",
          "MECH5304",
          "MATH1062",
          "ELEC5308",
          "CIVL4819",
          "CHEM1111",
          "ELEC5207",
          "CIVL4812",
          "MKTG1001",
          "ELEC3404",
          "MTRX3760",
          "MECH4660",
          "ELEC5211",
          "AERO5750",
          "CIVL2010",
          "CIVL3206",
          "BMET5911",
          "CIVL5452",
          "ELEC4713",
          "ELEC1004",
          "BMET5907",
          "CIVL3705",
          "BMET2903",
          "AMME5520",
          "MTRX2700",
          "CIVL5999",
          "CHEM1911",
          "BMET5931",
          "DATA1902",
          "CIVL4023",
          "ELEC3609",
          "AMME5202",
          "AMME5310",
          "PHYS1001",
          "ENGP1001",
          "MTRX3700",
          "CIVL4022",
          "ELEC3608",
          "AMME4111",
          "CIVL5330",
          "BMET2922",
          "CIVL5668",
          "ELEC3203",
          "BMET2902",
          "BMET3997",
          "CIVL3704",
          "CIVL5453",
          "ELEC4712",
          "MECH4460",
          "ELEC1005",
          "ELEC3612",
          "CIVL1810",
          "CIVL4203",
          "ELEC5512",
          "ELEC3405",
          "CIVL5351",
          "CIVL5701",
          "BMET5992",
          "ELEC4505",
          "ELEC5206",
          "MECH5461"
         ],
         "legendgroup": "ENGI, USYD",
         "marker": {
          "color": "#636efa",
          "symbol": "diamond"
         },
         "mode": "markers",
         "name": "ENGI, USYD",
         "orientation": "v",
         "showlegend": true,
         "type": "scatter",
         "x": [
          28.21733856201172,
          19.274696350097656,
          26.5867977142334,
          -7.0632100105285645,
          32.26765441894531,
          24.043550491333008,
          33.39968490600586,
          16.651655197143555,
          30.881603240966797,
          26.412513732910156,
          25.4014892578125,
          14.067073822021484,
          16.7471981048584,
          28.876794815063477,
          27.45698356628418,
          23.061296463012695,
          9.380281448364258,
          29.102155685424805,
          17.705467224121094,
          23.904850006103516,
          22.16484832763672,
          23.305965423583984,
          17.999107360839844,
          23.63450813293457,
          24.630855560302734,
          23.026382446289062,
          26.66962242126465,
          19.81798553466797,
          20.929973602294922,
          30.80257225036621,
          31.307249069213867,
          9.719051361083984,
          17.50090980529785,
          31.621929168701172,
          22.01187515258789,
          17.921422958374023,
          0.6164259314537048,
          23.750234603881836,
          18.2972412109375,
          18.62333106994629,
          9.623899459838867,
          21.21181297302246,
          20.521907806396484,
          28.79081153869629,
          29.064855575561523,
          21.344745635986328,
          18.703821182250977,
          12.96143627166748,
          20.10916519165039,
          34.42769241333008,
          29.499435424804688,
          12.815178871154785,
          29.355918884277344,
          27.610258102416992,
          15.742398262023926,
          25.051355361938477,
          1.8657128810882568,
          29.085880279541016,
          29.454002380371094,
          17.31104278564453,
          19.94187355041504,
          25.26773452758789,
          31.420377731323242,
          23.82794189453125,
          25.530521392822266,
          21.521808624267578,
          8.81108570098877,
          27.876970291137695,
          19.504703521728516,
          14.22827434539795,
          20.88869285583496,
          30.705835342407227,
          33.17159652709961,
          29.622661590576172,
          30.658037185668945,
          28.464094161987305,
          20.264474868774414,
          22.8791561126709,
          12.743836402893066,
          24.684694290161133,
          30.809097290039062,
          26.558870315551758,
          22.219276428222656,
          19.320323944091797,
          21.511367797851562,
          -10.491600036621094,
          16.04680061340332,
          32.12921142578125,
          25.704742431640625,
          22.20265769958496,
          21.53691291809082,
          16.529537200927734,
          -5.2809157371521,
          24.455698013305664,
          20.97692108154297,
          24.276458740234375,
          23.17218589782715,
          24.137720108032227,
          16.9992733001709,
          26.20806312561035,
          19.592599868774414,
          24.420080184936523,
          20.49236488342285,
          15.068792343139648,
          19.46790885925293,
          -0.9384790658950806,
          23.67458724975586,
          27.04395866394043,
          12.67910099029541,
          31.00154685974121,
          25.575599670410156,
          30.46915626525879,
          32.126190185546875,
          21.973773956298828,
          10.024765968322754,
          19.400890350341797,
          23.080598831176758,
          9.424980163574219,
          27.8067684173584,
          22.00296974182129,
          3.4832823276519775,
          27.005958557128906,
          33.566226959228516,
          28.659931182861328,
          24.0898380279541,
          32.630279541015625,
          13.750814437866211,
          21.546884536743164,
          16.074459075927734,
          22.496713638305664,
          -2.4361417293548584,
          8.650997161865234,
          21.386302947998047,
          17.68236541748047,
          28.28864860534668,
          15.571131706237793,
          20.009178161621094,
          13.412633895874023,
          20.80872917175293,
          26.718725204467773,
          5.909595012664795,
          29.150054931640625,
          -2.826402425765991,
          23.950931549072266,
          18.518049240112305,
          23.01459312438965,
          22.185487747192383,
          17.287382125854492,
          5.905993461608887,
          24.412580490112305,
          -0.9130139946937561,
          25.29989242553711,
          16.960235595703125,
          20.25751304626465,
          25.064971923828125,
          27.597549438476562,
          24.85518455505371,
          20.332843780517578,
          20.83574867248535,
          20.534486770629883,
          19.389413833618164,
          16.141006469726562,
          15.373181343078613,
          24.418712615966797,
          14.220976829528809,
          23.28765296936035,
          20.427650451660156,
          22.83562660217285,
          8.720013618469238,
          25.854230880737305,
          18.55632781982422,
          28.260868072509766,
          -8.419333457946777,
          24.906402587890625,
          22.29863929748535,
          26.50298500061035,
          16.440990447998047,
          21.618366241455078,
          32.342010498046875,
          25.99066734313965,
          15.066180229187012,
          30.832406997680664,
          29.11166763305664,
          34.75056457519531,
          23.847023010253906,
          20.979766845703125,
          30.001882553100586,
          19.68877601623535,
          24.001617431640625,
          25.548601150512695,
          20.539613723754883,
          15.232088088989258,
          22.0063533782959,
          32.321510314941406,
          18.354248046875,
          22.422121047973633,
          29.311965942382812,
          18.81113624572754,
          0.4973578453063965,
          24.1948184967041,
          18.7575740814209,
          33.0246696472168,
          23.65655517578125,
          27.283037185668945,
          9.25806713104248,
          18.791519165039062,
          5.857796669006348,
          14.644832611083984,
          5.380160808563232,
          23.697248458862305,
          23.187488555908203,
          14.18087100982666,
          17.83572769165039,
          24.97406768798828,
          23.80002212524414,
          20.67482566833496,
          26.286100387573242,
          5.3713908195495605,
          19.197391510009766,
          17.587753295898438,
          19.479225158691406,
          25.913551330566406,
          20.223052978515625,
          33.87617111206055,
          21.973098754882812,
          30.615171432495117,
          33.89902114868164,
          23.563383102416992,
          27.75839614868164,
          12.911293983459473,
          28.170888900756836
         ],
         "xaxis": "x",
         "y": [
          -4.216830730438232,
          1.766249418258667,
          -0.8647620677947998,
          25.988174438476562,
          7.294464111328125,
          -10.075611114501953,
          -0.6131018400192261,
          -3.4344868659973145,
          -9.589641571044922,
          0.4849873185157776,
          -5.164849281311035,
          -11.546055793762207,
          -12.724187850952148,
          -0.29303690791130066,
          9.746649742126465,
          -2.6461875438690186,
          -20.18692970275879,
          8.9846773147583,
          6.640385627746582,
          13.236502647399902,
          -6.706937789916992,
          -9.955734252929688,
          -10.509831428527832,
          -6.660239219665527,
          -1.9613213539123535,
          -10.346736907958984,
          5.763484477996826,
          -11.836440086364746,
          -0.045480236411094666,
          -1.6449633836746216,
          2.9661765098571777,
          -5.404728412628174,
          6.649869918823242,
          0.42898648977279663,
          -5.008465766906738,
          -4.444709777832031,
          20.846981048583984,
          -14.599632263183594,
          -11.587120056152344,
          1.3577989339828491,
          -20.79276466369629,
          -4.18359899520874,
          1.2684439420700073,
          -6.683793067932129,
          -6.283016681671143,
          1.674879550933838,
          -5.46782112121582,
          -7.469552040100098,
          15.096179008483887,
          -3.793673276901245,
          -3.251472234725952,
          -4.2981743812561035,
          -3.265662670135498,
          6.329241752624512,
          9.928924560546875,
          -14.476806640625,
          22.13262367248535,
          -5.852478981018066,
          0.5003849267959595,
          10.409048080444336,
          15.031805992126465,
          -7.051008224487305,
          -8.936532974243164,
          -14.996167182922363,
          3.0466482639312744,
          5.164525508880615,
          -21.350276947021484,
          -6.058840274810791,
          -14.117840766906738,
          -3.2561473846435547,
          6.370312213897705,
          5.567497253417969,
          1.4077378511428833,
          4.8780059814453125,
          3.654864549636841,
          3.0094001293182373,
          -0.004916756879538298,
          -13.666383743286133,
          -1.0265929698944092,
          0.9036596417427063,
          -10.208148002624512,
          -3.777974843978882,
          -4.868137359619141,
          -2.2724671363830566,
          7.742506980895996,
          20.731229782104492,
          -14.535331726074219,
          6.892868995666504,
          -5.236716270446777,
          13.37216567993164,
          -12.757987976074219,
          -15.190213203430176,
          27.917739868164062,
          13.104307174682617,
          9.00179672241211,
          3.970221996307373,
          -2.4712305068969727,
          3.7730777263641357,
          -9.873741149902344,
          -2.1102004051208496,
          -4.038522720336914,
          14.003583908081055,
          7.654175281524658,
          -12.08469295501709,
          10.103320121765137,
          26.85885238647461,
          -5.084753513336182,
          -4.206887722015381,
          -11.878205299377441,
          1.117486834526062,
          -6.854147911071777,
          4.557323932647705,
          6.506205081939697,
          -8.419852256774902,
          -20.43607521057129,
          1.8693724870681763,
          -4.270907402038574,
          -21.376455307006836,
          -12.486003875732422,
          -2.9684953689575195,
          20.20026206970215,
          5.243000507354736,
          -1.5370190143585205,
          -12.053750991821289,
          4.302601337432861,
          4.900599002838135,
          3.932757616043091,
          1.8276890516281128,
          -14.651070594787598,
          9.21985912322998,
          14.444075584411621,
          -20.77268409729004,
          4.301239013671875,
          -6.7110772132873535,
          -1.2305529117584229,
          -8.107142448425293,
          -6.678560733795166,
          -4.352941989898682,
          -15.506160736083984,
          -9.082864761352539,
          11.676812171936035,
          -4.042459487915039,
          22.582284927368164,
          -3.6668331623077393,
          -3.1761488914489746,
          0.9506521224975586,
          -14.5820951461792,
          -10.192992210388184,
          11.111681938171387,
          -8.178777694702148,
          26.9268798828125,
          -2.678179979324341,
          -4.092253684997559,
          -6.219143390655518,
          -15.317492485046387,
          1.1350926160812378,
          -8.345497131347656,
          15.470354080200195,
          -9.310755729675293,
          -13.747393608093262,
          3.057957172393799,
          -1.9885988235473633,
          -6.183405876159668,
          4.4599809646606445,
          -10.683767318725586,
          -13.193105697631836,
          -0.9646666049957275,
          5.892786026000977,
          -20.891782760620117,
          -8.978527069091797,
          -10.745231628417969,
          -12.368744850158691,
          17.014677047729492,
          0.7861232161521912,
          8.606690406799316,
          10.28231143951416,
          -4.748992443084717,
          8.354296684265137,
          -3.974497079849243,
          0.706413984298706,
          -6.929564952850342,
          -2.7606616020202637,
          -7.5885090827941895,
          1.0554039478302002,
          -8.367253303527832,
          -9.366016387939453,
          3.3740551471710205,
          -10.931662559509277,
          13.626938819885254,
          -1.003281831741333,
          -2.9607386589050293,
          4.944489002227783,
          -0.008491591550409794,
          4.071707725524902,
          8.388764381408691,
          -0.8860369920730591,
          8.81453800201416,
          -9.314603805541992,
          20.517017364501953,
          13.508745193481445,
          8.786398887634277,
          1.4065525531768799,
          8.030755996704102,
          9.826623916625977,
          -20.69819450378418,
          -14.351456642150879,
          11.119585037231445,
          -4.721506595611572,
          11.602133750915527,
          1.6614325046539307,
          -7.083166122436523,
          -10.315118789672852,
          -5.492867946624756,
          -2.8979458808898926,
          4.270897388458252,
          4.634118556976318,
          -2.605295419692993,
          11.506750106811523,
          -7.597849369049072,
          4.378771781921387,
          5.340600490570068,
          -10.877321243286133,
          15.322571754455566,
          -4.573892593383789,
          3.6872570514678955,
          -6.390774250030518,
          -4.499998569488525,
          -0.05541423708200455,
          0.9426606297492981,
          -1.8707735538482666,
          -2.4520668983459473
         ],
         "yaxis": "y"
        },
        {
         "customdata": [
          [
           "31251",
           "UTS"
          ],
          [
           "31271",
           "UTS"
          ],
          [
           "41113",
           "UTS"
          ],
          [
           "41001",
           "UTS"
          ],
          [
           "31250",
           "UTS"
          ],
          [
           "31257",
           "UTS"
          ],
          [
           "31282",
           "UTS"
          ],
          [
           "41092",
           "UTS"
          ],
          [
           "33230",
           "UTS"
          ],
          [
           "48024",
           "UTS"
          ],
          [
           "48730",
           "UTS"
          ],
          [
           "48433",
           "UTS"
          ],
          [
           "31005",
           "UTS"
          ],
          [
           "31269",
           "UTS"
          ],
          [
           "33130",
           "UTS"
          ],
          [
           "41039",
           "UTS"
          ]
         ],
         "hovertemplate": "<b>%{hovertext}</b><br><br>degree=ENGI - COMP<br>uni=%{customdata[1]}<br>x=%{x}<br>y=%{y}<br>subject_code=%{customdata[0]}<extra></extra>",
         "hovertext": [
          "31251",
          "31271",
          "41113",
          "41001",
          "31250",
          "31257",
          "31282",
          "41092",
          "33230",
          "48024",
          "48730",
          "48433",
          "31005",
          "31269",
          "33130",
          "41039"
         ],
         "legendgroup": "ENGI - COMP, UTS",
         "marker": {
          "color": "#EF553B",
          "symbol": "circle"
         },
         "mode": "markers",
         "name": "ENGI - COMP, UTS",
         "orientation": "v",
         "showlegend": true,
         "type": "scatter",
         "x": [
          -17.963157653808594,
          -11.61590576171875,
          -23.823102951049805,
          -11.427787780761719,
          -10.820961952209473,
          -12.340598106384277,
          -12.32141399383545,
          -24.54610824584961,
          -13.383605003356934,
          -19.181730270385742,
          -19.12229347229004,
          -13.468913078308105,
          -26.278076171875,
          0.5148807764053345,
          -14.804778099060059,
          -0.7598388195037842
         ],
         "xaxis": "x",
         "y": [
          -12.091978073120117,
          4.715940475463867,
          -7.517378330230713,
          -4.064396381378174,
          -14.300385475158691,
          5.601379871368408,
          5.837451457977295,
          -0.7267278432846069,
          -14.109954833984375,
          6.522192001342773,
          4.001006603240967,
          -1.8080991506576538,
          -7.41453218460083,
          -9.69688892364502,
          4.294094562530518,
          -13.852537155151367
         ],
         "yaxis": "y"
        },
        {
         "customdata": [
          [
           "ISYS2110",
           "USYD"
          ],
          [
           "COMP3109",
           "USYD"
          ],
          [
           "COMP3308",
           "USYD"
          ],
          [
           "COMP4530",
           "USYD"
          ],
          [
           "ELEC5618",
           "USYD"
          ],
          [
           "INFO1910",
           "USYD"
          ],
          [
           "COMP2017",
           "USYD"
          ],
          [
           "ELEC5619",
           "USYD"
          ],
          [
           "COMP4415",
           "USYD"
          ],
          [
           "COMP4618",
           "USYD"
          ],
          [
           "ELEC1601",
           "USYD"
          ],
          [
           "COMP2922",
           "USYD"
          ],
          [
           "COMP3221",
           "USYD"
          ],
          [
           "COMP4445",
           "USYD"
          ],
          [
           "DATA4207",
           "USYD"
          ],
          [
           "INFO1110",
           "USYD"
          ],
          [
           "MATH1061",
           "USYD"
          ],
          [
           "ISYS2120",
           "USYD"
          ],
          [
           "COMP4347",
           "USYD"
          ],
          [
           "SOFT2412",
           "USYD"
          ],
          [
           "COMP3027",
           "USYD"
          ],
          [
           "COMP4424",
           "USYD"
          ],
          [
           "ELEC5307",
           "USYD"
          ],
          [
           "ISYS4450",
           "USYD"
          ],
          [
           "ELEC5306",
           "USYD"
          ],
          [
           "COMP4425",
           "USYD"
          ],
          [
           "SOFT3202",
           "USYD"
          ],
          [
           "COMP4448",
           "USYD"
          ],
          [
           "COMP2123",
           "USYD"
          ],
          [
           "ISYS2160",
           "USYD"
          ],
          [
           "DATA3404",
           "USYD"
          ],
          [
           "COMP4405",
           "USYD"
          ],
          [
           "DATA2901",
           "USYD"
          ],
          [
           "DATA2002",
           "USYD"
          ],
          [
           "COMP4216",
           "USYD"
          ],
          [
           "COMP4328",
           "USYD"
          ],
          [
           "DATA2001",
           "USYD"
          ],
          [
           "DATA2902",
           "USYD"
          ],
          [
           "COMP4447",
           "USYD"
          ],
          [
           "ELEC3506",
           "USYD"
          ],
          [
           "COMP4349",
           "USYD"
          ],
          [
           "COMP4426",
           "USYD"
          ],
          [
           "COMP2823",
           "USYD"
          ],
          [
           "COMP3419",
           "USYD"
          ],
          [
           "ELEC5514",
           "USYD"
          ],
          [
           "COMP3927",
           "USYD"
          ],
          [
           "SOFT2201",
           "USYD"
          ],
          [
           "COMP4427",
           "USYD"
          ],
          [
           "SOFT3410",
           "USYD"
          ],
          [
           "ISYS3401",
           "USYD"
          ],
          [
           "COMP4348",
           "USYD"
          ],
          [
           "COMP4446",
           "USYD"
          ],
          [
           "SOFT3888",
           "USYD"
          ],
          [
           "COMP4329",
           "USYD"
          ],
          [
           "INFO3315",
           "USYD"
          ],
          [
           "INFO1113",
           "USYD"
          ],
          [
           "INFO4491",
           "USYD"
          ],
          [
           "COMP4313",
           "USYD"
          ],
          [
           "DATA3406",
           "USYD"
          ],
          [
           "INFO3616",
           "USYD"
          ],
          [
           "COMP3520",
           "USYD"
          ],
          [
           "COMP4318",
           "USYD"
          ],
          [
           "ELEC5616",
           "USYD"
          ],
          [
           "COMP2022",
           "USYD"
          ],
          [
           "COMP4617",
           "USYD"
          ],
          [
           "ISYS3888",
           "USYD"
          ],
          [
           "COMP4416",
           "USYD"
          ],
          [
           "COMP4338",
           "USYD"
          ],
          [
           "ELEC5620",
           "USYD"
          ],
          [
           "ELEC5509",
           "USYD"
          ],
          [
           "ELEC5508",
           "USYD"
          ],
          [
           "COMP4270",
           "USYD"
          ],
          [
           "COMP3608",
           "USYD"
          ]
         ],
         "hovertemplate": "<b>%{hovertext}</b><br><br>degree=ENGI - COMP<br>uni=%{customdata[1]}<br>x=%{x}<br>y=%{y}<br>subject_code=%{customdata[0]}<extra></extra>",
         "hovertext": [
          "ISYS2110",
          "COMP3109",
          "COMP3308",
          "COMP4530",
          "ELEC5618",
          "INFO1910",
          "COMP2017",
          "ELEC5619",
          "COMP4415",
          "COMP4618",
          "ELEC1601",
          "COMP2922",
          "COMP3221",
          "COMP4445",
          "DATA4207",
          "INFO1110",
          "MATH1061",
          "ISYS2120",
          "COMP4347",
          "SOFT2412",
          "COMP3027",
          "COMP4424",
          "ELEC5307",
          "ISYS4450",
          "ELEC5306",
          "COMP4425",
          "SOFT3202",
          "COMP4448",
          "COMP2123",
          "ISYS2160",
          "DATA3404",
          "COMP4405",
          "DATA2901",
          "DATA2002",
          "COMP4216",
          "COMP4328",
          "DATA2001",
          "DATA2902",
          "COMP4447",
          "ELEC3506",
          "COMP4349",
          "COMP4426",
          "COMP2823",
          "COMP3419",
          "ELEC5514",
          "COMP3927",
          "SOFT2201",
          "COMP4427",
          "SOFT3410",
          "ISYS3401",
          "COMP4348",
          "COMP4446",
          "SOFT3888",
          "COMP4329",
          "INFO3315",
          "INFO1113",
          "INFO4491",
          "COMP4313",
          "DATA3406",
          "INFO3616",
          "COMP3520",
          "COMP4318",
          "ELEC5616",
          "COMP2022",
          "COMP4617",
          "ISYS3888",
          "COMP4416",
          "COMP4338",
          "ELEC5620",
          "ELEC5509",
          "ELEC5508",
          "COMP4270",
          "COMP3608"
         ],
         "legendgroup": "ENGI - COMP, USYD",
         "marker": {
          "color": "#EF553B",
          "symbol": "diamond"
         },
         "mode": "markers",
         "name": "ENGI - COMP, USYD",
         "orientation": "v",
         "showlegend": true,
         "type": "scatter",
         "x": [
          -2.5874459743499756,
          1.1132746934890747,
          1.0334136486053467,
          -6.800310134887695,
          -3.656144380569458,
          3.4692609310150146,
          -2.3394644260406494,
          -3.054893970489502,
          -6.085515975952148,
          -10.495104789733887,
          2.209254741668701,
          1.724470853805542,
          -2.1779837608337402,
          -5.855936527252197,
          -5.9147467613220215,
          3.3634276390075684,
          -7.426697731018066,
          -2.959496259689331,
          -4.839942455291748,
          -1.1004011631011963,
          -3.2865850925445557,
          -8.078951835632324,
          -2.4255211353302,
          -6.366851329803467,
          -3.026310443878174,
          -7.161054611206055,
          -4.937838077545166,
          -3.247953414916992,
          -1.2464441061019897,
          -1.0712175369262695,
          -4.3054986000061035,
          -6.485815048217773,
          3.261284589767456,
          -1.818135142326355,
          -8.283709526062012,
          -5.346766948699951,
          3.3794708251953125,
          -1.9140818119049072,
          -7.299758434295654,
          -4.163291931152344,
          -5.202839374542236,
          -6.1616315841674805,
          -1.3698515892028809,
          -3.076799154281616,
          3.460447072982788,
          -3.765062093734741,
          -1.8786104917526245,
          -10.628552436828613,
          -0.10452182590961456,
          -5.044917583465576,
          -9.174857139587402,
          -6.601844310760498,
          -2.4782745838165283,
          -7.162906169891357,
          -5.1749587059021,
          -1.37870454788208,
          -9.642035484313965,
          -10.717792510986328,
          -6.055733680725098,
          -9.126846313476562,
          -2.6781558990478516,
          -7.8097004890441895,
          -8.07111644744873,
          1.72612726688385,
          -8.27646255493164,
          -3.7998874187469482,
          -7.706663608551025,
          -8.16960334777832,
          -1.4867537021636963,
          -5.323817729949951,
          -0.5757317543029785,
          -5.071978569030762,
          -0.5348348617553711
         ],
         "xaxis": "x",
         "y": [
          17.25936508178711,
          22.145397186279297,
          18.345123291015625,
          21.437549591064453,
          16.080469131469727,
          20.691957473754883,
          23.565826416015625,
          13.99686050415039,
          24.439912796020508,
          25.11612892150879,
          19.873638153076172,
          24.966266632080078,
          21.463624954223633,
          23.575021743774414,
          16.66477394104004,
          20.13189125061035,
          17.02861785888672,
          16.406246185302734,
          14.80019474029541,
          16.8375301361084,
          19.759445190429688,
          20.958681106567383,
          9.545379638671875,
          28.62995719909668,
          9.472285270690918,
          23.01184844970703,
          10.215449333190918,
          8.291670799255371,
          17.869342803955078,
          11.7990140914917,
          19.62531280517578,
          24.3028564453125,
          16.825197219848633,
          25.47868537902832,
          20.02089500427246,
          22.229984283447266,
          16.664749145507812,
          25.387880325317383,
          19.48839569091797,
          27.33182716369629,
          25.04364013671875,
          21.73345375061035,
          17.896392822265625,
          9.144290924072266,
          12.490144729614258,
          19.362688064575195,
          21.03240394592285,
          19.78860092163086,
          18.664323806762695,
          13.23238754272461,
          21.96294593811035,
          24.796640396118164,
          11.824742317199707,
          24.551908493041992,
          18.234989166259766,
          9.646003723144531,
          24.11756134033203,
          20.016523361206055,
          19.448123931884766,
          26.326322555541992,
          22.02117919921875,
          21.87466049194336,
          27.39438247680664,
          24.925796508789062,
          24.204824447631836,
          12.693404197692871,
          24.024703979492188,
          19.84173583984375,
          19.439632415771484,
          27.730026245117188,
          12.820731163024902,
          21.813344955444336,
          22.161476135253906
         ],
         "yaxis": "y"
        },
        {
         "customdata": [
          [
           "31482",
           "UTS"
          ],
          [
           "41903",
           "UTS"
          ],
          [
           "31247",
           "UTS"
          ],
          [
           "42913",
           "UTS"
          ],
          [
           "35005",
           "UTS"
          ],
          [
           "32144",
           "UTS"
          ],
          [
           "31338",
           "UTS"
          ],
          [
           "48450",
           "UTS"
          ],
          [
           "31748",
           "UTS"
          ],
          [
           "37262",
           "UTS"
          ],
          [
           "41889",
           "UTS"
          ],
          [
           "41020",
           "UTS"
          ],
          [
           "41077",
           "UTS"
          ],
          [
           "41173",
           "UTS"
          ],
          [
           "41172",
           "UTS"
          ],
          [
           "41076",
           "UTS"
          ],
          [
           "31266",
           "UTS"
          ],
          [
           "41021",
           "UTS"
          ],
          [
           "37234",
           "UTS"
          ],
          [
           "42050",
           "UTS"
          ],
          [
           "41040",
           "UTS"
          ],
          [
           "37233",
           "UTS"
          ],
          [
           "42036",
           "UTS"
          ],
          [
           "31261",
           "UTS"
          ],
          [
           "41026",
           "UTS"
          ],
          [
           "37161",
           "UTS"
          ],
          [
           "41175",
           "UTS"
          ],
          [
           "31277",
           "UTS"
          ],
          [
           "41905",
           "UTS"
          ],
          [
           "48270",
           "UTS"
          ],
          [
           "32011",
           "UTS"
          ],
          [
           "41180",
           "UTS"
          ],
          [
           "37252",
           "UTS"
          ],
          [
           "48436",
           "UTS"
          ],
          [
           "41181",
           "UTS"
          ],
          [
           "31256",
           "UTS"
          ],
          [
           "41174",
           "UTS"
          ],
          [
           "31276",
           "UTS"
          ],
          [
           "31260",
           "UTS"
          ],
          [
           "42037",
           "UTS"
          ],
          [
           "32009",
           "UTS"
          ],
          [
           "31275",
           "UTS"
          ],
          [
           "31263",
           "UTS"
          ],
          [
           "43023",
           "UTS"
          ],
          [
           "37335",
           "UTS"
          ],
          [
           "41182",
           "UTS"
          ],
          [
           "31280",
           "UTS"
          ],
          [
           "57304",
           "UTS"
          ],
          [
           "31097",
           "UTS"
          ],
          [
           "31243",
           "UTS"
          ],
          [
           "41004",
           "UTS"
          ],
          [
           "31255",
           "UTS"
          ],
          [
           "31080",
           "UTS"
          ],
          [
           "31242",
           "UTS"
          ],
          [
           "41052",
           "UTS"
          ],
          [
           "41183",
           "UTS"
          ],
          [
           "48033",
           "UTS"
          ],
          [
           "37181",
           "UTS"
          ],
          [
           "31258",
           "UTS"
          ],
          [
           "37363",
           "UTS"
          ],
          [
           "32931",
           "UTS"
          ],
          [
           "41025",
           "UTS"
          ],
          [
           "31777",
           "UTS"
          ],
          [
           "31262",
           "UTS"
          ],
          [
           "42028",
           "UTS"
          ],
          [
           "32146",
           "UTS"
          ],
          [
           "41891",
           "UTS"
          ],
          [
           "35007",
           "UTS"
          ],
          [
           "41080",
           "UTS"
          ],
          [
           "41079",
           "UTS"
          ],
          [
           "41184",
           "UTS"
          ],
          [
           "31245",
           "UTS"
          ],
          [
           "31253",
           "UTS"
          ],
          [
           "41043",
           "UTS"
          ],
          [
           "41171",
           "UTS"
          ],
          [
           "31265",
           "UTS"
          ],
          [
           "43025",
           "UTS"
          ],
          [
           "41019",
           "UTS"
          ],
          [
           "43024",
           "UTS"
          ],
          [
           "31927",
           "UTS"
          ],
          [
           "37373",
           "UTS"
          ],
          [
           "31272",
           "UTS"
          ],
          [
           "41900",
           "UTS"
          ],
          [
           "41185",
           "UTS"
          ],
          [
           "31268",
           "UTS"
          ],
          [
           "41078",
           "UTS"
          ],
          [
           "35006",
           "UTS"
          ],
          [
           "41890",
           "UTS"
          ]
         ],
         "hovertemplate": "<b>%{hovertext}</b><br><br>degree=COMP<br>uni=%{customdata[1]}<br>x=%{x}<br>y=%{y}<br>subject_code=%{customdata[0]}<extra></extra>",
         "hovertext": [
          "31482",
          "41903",
          "31247",
          "42913",
          "35005",
          "32144",
          "31338",
          "48450",
          "31748",
          "37262",
          "41889",
          "41020",
          "41077",
          "41173",
          "41172",
          "41076",
          "31266",
          "41021",
          "37234",
          "42050",
          "41040",
          "37233",
          "42036",
          "31261",
          "41026",
          "37161",
          "41175",
          "31277",
          "41905",
          "48270",
          "32011",
          "41180",
          "37252",
          "48436",
          "41181",
          "31256",
          "41174",
          "31276",
          "31260",
          "42037",
          "32009",
          "31275",
          "31263",
          "43023",
          "37335",
          "41182",
          "31280",
          "57304",
          "31097",
          "31243",
          "41004",
          "31255",
          "31080",
          "31242",
          "41052",
          "41183",
          "48033",
          "37181",
          "31258",
          "37363",
          "32931",
          "41025",
          "31777",
          "31262",
          "42028",
          "32146",
          "41891",
          "35007",
          "41080",
          "41079",
          "41184",
          "31245",
          "31253",
          "41043",
          "41171",
          "31265",
          "43025",
          "41019",
          "43024",
          "31927",
          "37373",
          "31272",
          "41900",
          "41185",
          "31268",
          "41078",
          "35006",
          "41890"
         ],
         "legendgroup": "COMP, UTS",
         "marker": {
          "color": "#00cc96",
          "symbol": "circle"
         },
         "mode": "markers",
         "name": "COMP, UTS",
         "orientation": "v",
         "showlegend": true,
         "type": "scatter",
         "x": [
          -12.589287757873535,
          -0.03156023100018501,
          -0.5978072285652161,
          -14.486541748046875,
          -6.525392055511475,
          -12.305736541748047,
          -21.136661529541016,
          -20.036354064941406,
          -22.80972671508789,
          -14.235211372375488,
          -10.541885375976562,
          -12.37433910369873,
          -8.237788200378418,
          -12.489943504333496,
          -13.632024765014648,
          -13.749457359313965,
          -20.81849479675293,
          -18.342470169067383,
          -15.574400901794434,
          -7.803456783294678,
          -11.75505256652832,
          -8.144773483276367,
          -17.871253967285156,
          -20.23262596130371,
          -5.836414337158203,
          -7.3237481117248535,
          -12.776266098022461,
          -24.69534683227539,
          -23.068857192993164,
          -2.0201375484466553,
          -15.467888832092285,
          -21.09433937072754,
          -16.31776237487793,
          -24.71445083618164,
          -20.00326919555664,
          -20.926361083984375,
          -13.256205558776855,
          -21.65395164489746,
          -20.177650451660156,
          -19.94980239868164,
          -12.946585655212402,
          -22.6784725189209,
          -24.518171310424805,
          -4.772141933441162,
          -16.422948837280273,
          -20.708999633789062,
          -15.382218360900879,
          -7.975354194641113,
          -22.518573760986328,
          -13.531806945800781,
          -15.344457626342773,
          -22.984676361083984,
          -17.828994750976562,
          -18.959400177001953,
          -1.4156914949417114,
          -19.358339309692383,
          -25.127281188964844,
          -0.4883585274219513,
          -10.004271507263184,
          -7.999924182891846,
          -14.021824836730957,
          -5.857507705688477,
          -16.468610763549805,
          -15.367807388305664,
          -9.94862174987793,
          -10.875727653503418,
          -2.530029773712158,
          -6.907299995422363,
          -11.251360893249512,
          -12.255337715148926,
          -22.217164993286133,
          -20.759521484375,
          -13.48777961730957,
          -18.206783294677734,
          -13.90036392211914,
          -9.04762077331543,
          -13.869258880615234,
          -14.374324798583984,
          -3.708059787750244,
          -17.659217834472656,
          -6.589338302612305,
          -16.571870803833008,
          -16.241573333740234,
          -21.33753204345703,
          -21.174104690551758,
          -11.327237129211426,
          -6.6959662437438965,
          -22.31536865234375
         ],
         "xaxis": "x",
         "y": [
          -17.98888397216797,
          -10.3761568069458,
          -11.023456573486328,
          -6.262241363525391,
          1.6562801599502563,
          -18.111482620239258,
          8.637497901916504,
          5.135698318481445,
          6.933462142944336,
          2.2126224040985107,
          7.488425254821777,
          -4.44362211227417,
          -10.522972106933594,
          8.688450813293457,
          8.125504493713379,
          9.63085651397705,
          2.181525707244873,
          -7.184072017669678,
          4.157428741455078,
          1.2455285787582397,
          8.088475227355957,
          -15.998823165893555,
          -0.5019055008888245,
          -16.246496200561523,
          -7.289383888244629,
          -15.09935188293457,
          8.608192443847656,
          0.32240036129951477,
          -6.162521839141846,
          -12.78480052947998,
          -2.0086448192596436,
          -4.138595104217529,
          4.834563732147217,
          -1.3695390224456787,
          -1.0865705013275146,
          -7.77269172668457,
          8.086414337158203,
          -0.12416103482246399,
          -6.634520053863525,
          -0.493632435798645,
          -1.772779941558838,
          0.7712727189064026,
          -1.7721623182296753,
          -11.03494644165039,
          5.254604339599609,
          -2.723367929458618,
          -7.426423072814941,
          1.2182563543319702,
          -7.623096466064453,
          -18.240245819091797,
          -15.310190200805664,
          -5.1424360275268555,
          -11.270699501037598,
          -10.195833206176758,
          -10.543715476989746,
          -3.9265952110290527,
          -2.4796457290649414,
          -4.038907051086426,
          -12.268153190612793,
          -15.812457084655762,
          -3.84318208694458,
          -7.364522933959961,
          -3.1024296283721924,
          -8.71590518951416,
          -3.2693095207214355,
          -5.51738166809082,
          -10.2202730178833,
          1.4143248796463013,
          -2.6598961353302,
          -6.249816417694092,
          -2.4074573516845703,
          0.145527645945549,
          3.4573705196380615,
          -5.894375801086426,
          8.323105812072754,
          -9.321019172668457,
          9.0576810836792,
          -5.231314659118652,
          -10.60684585571289,
          -10.737316131591797,
          1.129746675491333,
          -16.435909271240234,
          -4.875863075256348,
          -3.2007687091827393,
          2.111865997314453,
          -4.3079071044921875,
          1.1892530918121338,
          -1.6547348499298096
         ],
         "yaxis": "y"
        },
        {
         "customdata": [
          [
           "COMP3888",
           "USYD"
          ],
          [
           "INFO4912",
           "USYD"
          ],
          [
           "MATH1964",
           "USYD"
          ],
          [
           "INFO1911",
           "USYD"
          ],
          [
           "INFO4990",
           "USYD"
          ],
          [
           "ISYS5070",
           "USYD"
          ],
          [
           "INFO2150",
           "USYD"
          ],
          [
           "INFO4913",
           "USYD"
          ],
          [
           "DATA1901",
           "USYD"
          ],
          [
           "HTIN4003",
           "USYD"
          ],
          [
           "INFO2222",
           "USYD"
          ],
          [
           "INFO4001",
           "USYD"
          ],
          [
           "INFO4406",
           "USYD"
          ],
          [
           "INFO2911",
           "USYD"
          ],
          [
           "ENGG3800",
           "USYD"
          ],
          [
           "HTIN4005",
           "USYD"
          ],
          [
           "INFO1111",
           "USYD"
          ],
          [
           "INFO3911",
           "USYD"
          ],
          [
           "INFO1112",
           "USYD"
          ],
          [
           "CSEC3616",
           "USYD"
          ],
          [
           "INFO3912",
           "USYD"
          ],
          [
           "HTIN4006",
           "USYD"
          ],
          [
           "COMP3988",
           "USYD"
          ],
          [
           "COMP3530",
           "USYD"
          ],
          [
           "DATA3888",
           "USYD"
          ],
          [
           "INFO4999",
           "USYD"
          ],
          [
           "INFO4002",
           "USYD"
          ],
          [
           "INFO4444",
           "USYD"
          ],
          [
           "INFO2912",
           "USYD"
          ],
          [
           "MATH1961",
           "USYD"
          ],
          [
           "DATA1001",
           "USYD"
          ],
          [
           "INFO4911",
           "USYD"
          ],
          [
           "MATH1064",
           "USYD"
          ],
          [
           "INFO1912",
           "USYD"
          ],
          [
           "INFO3333",
           "USYD"
          ],
          [
           "CSEC3888",
           "USYD"
          ]
         ],
         "hovertemplate": "<b>%{hovertext}</b><br><br>degree=COMP<br>uni=%{customdata[1]}<br>x=%{x}<br>y=%{y}<br>subject_code=%{customdata[0]}<extra></extra>",
         "hovertext": [
          "COMP3888",
          "INFO4912",
          "MATH1964",
          "INFO1911",
          "INFO4990",
          "ISYS5070",
          "INFO2150",
          "INFO4913",
          "DATA1901",
          "HTIN4003",
          "INFO2222",
          "INFO4001",
          "INFO4406",
          "INFO2911",
          "ENGG3800",
          "HTIN4005",
          "INFO1111",
          "INFO3911",
          "INFO1112",
          "CSEC3616",
          "INFO3912",
          "HTIN4006",
          "COMP3988",
          "COMP3530",
          "DATA3888",
          "INFO4999",
          "INFO4002",
          "INFO4444",
          "INFO2912",
          "MATH1961",
          "DATA1001",
          "INFO4911",
          "MATH1064",
          "INFO1912",
          "INFO3333",
          "CSEC3888"
         ],
         "legendgroup": "COMP, USYD",
         "marker": {
          "color": "#00cc96",
          "symbol": "diamond"
         },
         "mode": "markers",
         "name": "COMP, USYD",
         "orientation": "v",
         "showlegend": true,
         "type": "scatter",
         "x": [
          -3.0789196491241455,
          0.25868964195251465,
          -6.8895368576049805,
          4.451025009155273,
          3.881967067718506,
          -7.311171531677246,
          -2.8056962490081787,
          0.3853278160095215,
          3.7477896213531494,
          -6.7715559005737305,
          0.8901216983795166,
          -0.049542948603630066,
          -11.159756660461426,
          4.428654670715332,
          0.8097012639045715,
          -6.788127422332764,
          -1.249580979347229,
          4.571988105773926,
          0.9096188545227051,
          -9.245696067810059,
          3.604588270187378,
          -0.05011332780122757,
          -3.350724935531616,
          -3.5803842544555664,
          -2.9927473068237305,
          3.8714168071746826,
          -0.4142729640007019,
          -1.6680924892425537,
          3.5658209323883057,
          -7.587410926818848,
          4.149877548217773,
          0.21258489787578583,
          -5.589076042175293,
          3.807434558868408,
          0.10084826499223709,
          -3.2864015102386475
         ],
         "xaxis": "x",
         "y": [
          11.475407600402832,
          6.742754936218262,
          17.511077880859375,
          6.189270973205566,
          8.369388580322266,
          13.70219612121582,
          18.028541564941406,
          7.144962787628174,
          16.203617095947266,
          20.794389724731445,
          15.11830997467041,
          8.27871322631836,
          22.720367431640625,
          5.97745943069458,
          10.931201934814453,
          19.982900619506836,
          15.20702075958252,
          5.788865089416504,
          14.871448516845703,
          26.414941787719727,
          5.803532123565674,
          23.440839767456055,
          11.637048721313477,
          21.70049285888672,
          13.732146263122559,
          7.4653472900390625,
          6.835602760314941,
          7.015178680419922,
          5.982078552246094,
          17.246368408203125,
          16.38956069946289,
          6.897890567779541,
          17.850399017333984,
          6.478106498718262,
          11.135043144226074,
          12.480653762817383
         ],
         "yaxis": "y"
        },
        {
         "customdata": [
          [
           "92471",
           "UTS"
          ],
          [
           "93470",
           "UTS"
          ],
          [
           "93217",
           "UTS"
          ],
          [
           "93201",
           "UTS"
          ],
          [
           "93200",
           "UTS"
          ],
          [
           "93216",
           "UTS"
          ],
          [
           "91529",
           "UTS"
          ],
          [
           "92470",
           "UTS"
          ],
          [
           "93220",
           "UTS"
          ],
          [
           "92482",
           "UTS"
          ],
          [
           "93211",
           "UTS"
          ],
          [
           "93207",
           "UTS"
          ],
          [
           "93227",
           "UTS"
          ],
          [
           "92477",
           "UTS"
          ],
          [
           "93231",
           "UTS"
          ],
          [
           "93230",
           "UTS"
          ],
          [
           "92476",
           "UTS"
          ],
          [
           "91562",
           "UTS"
          ],
          [
           "93226",
           "UTS"
          ],
          [
           "93206",
           "UTS"
          ],
          [
           "93210",
           "UTS"
          ],
          [
           "93205",
           "UTS"
          ],
          [
           "93213",
           "UTS"
          ],
          [
           "92479",
           "UTS"
          ],
          [
           "92480",
           "UTS"
          ],
          [
           "93229",
           "UTS"
          ],
          [
           "93209",
           "UTS"
          ],
          [
           "93233",
           "UTS"
          ],
          [
           "92475",
           "UTS"
          ],
          [
           "91561",
           "UTS"
          ],
          [
           "93225",
           "UTS"
          ],
          [
           "93224",
           "UTS"
          ],
          [
           "92474",
           "UTS"
          ],
          [
           "93232",
           "UTS"
          ],
          [
           "93208",
           "UTS"
          ],
          [
           "93228",
           "UTS"
          ],
          [
           "92481",
           "UTS"
          ],
          [
           "92478",
           "UTS"
          ],
          [
           "93212",
           "UTS"
          ],
          [
           "93204",
           "UTS"
          ],
          [
           "93219",
           "UTS"
          ],
          [
           "92473",
           "UTS"
          ],
          [
           "91530",
           "UTS"
          ],
          [
           "93223",
           "UTS"
          ],
          [
           "93203",
           "UTS"
          ],
          [
           "93214",
           "UTS"
          ],
          [
           "93202",
           "UTS"
          ],
          [
           "93222",
           "UTS"
          ],
          [
           "92472",
           "UTS"
          ],
          [
           "93218",
           "UTS"
          ]
         ],
         "hovertemplate": "<b>%{hovertext}</b><br><br>degree=NURS<br>uni=%{customdata[1]}<br>x=%{x}<br>y=%{y}<br>subject_code=%{customdata[0]}<extra></extra>",
         "hovertext": [
          "92471",
          "93470",
          "93217",
          "93201",
          "93200",
          "93216",
          "91529",
          "92470",
          "93220",
          "92482",
          "93211",
          "93207",
          "93227",
          "92477",
          "93231",
          "93230",
          "92476",
          "91562",
          "93226",
          "93206",
          "93210",
          "93205",
          "93213",
          "92479",
          "92480",
          "93229",
          "93209",
          "93233",
          "92475",
          "91561",
          "93225",
          "93224",
          "92474",
          "93232",
          "93208",
          "93228",
          "92481",
          "92478",
          "93212",
          "93204",
          "93219",
          "92473",
          "91530",
          "93223",
          "93203",
          "93214",
          "93202",
          "93222",
          "92472",
          "93218"
         ],
         "legendgroup": "NURS, UTS",
         "marker": {
          "color": "#ab63fa",
          "symbol": "circle"
         },
         "mode": "markers",
         "name": "NURS, UTS",
         "orientation": "v",
         "showlegend": true,
         "type": "scatter",
         "x": [
          -4.673609256744385,
          -5.1390886306762695,
          -2.2271435260772705,
          -1.6128381490707397,
          -1.4255610704421997,
          -0.7590198516845703,
          1.036330223083496,
          -5.989115238189697,
          -6.9997711181640625,
          -4.829836368560791,
          -3.1796352863311768,
          -3.442795753479004,
          -0.7586819529533386,
          -2.71726393699646,
          -5.886875152587891,
          -2.464268445968628,
          -5.331974029541016,
          0.22778496146202087,
          -2.9586334228515625,
          -4.429070949554443,
          -3.836547374725342,
          -0.43915557861328125,
          -1.2531750202178955,
          -5.000942707061768,
          -5.1414594650268555,
          -2.6914682388305664,
          -2.573777675628662,
          -6.944900035858154,
          -5.229294300079346,
          0.3149682581424713,
          -4.217033386230469,
          -4.325115203857422,
          -5.293153762817383,
          -3.4104392528533936,
          -2.819923162460327,
          -3.9697983264923096,
          -6.524119853973389,
          -5.1455488204956055,
          -3.220158576965332,
          -0.2924041450023651,
          -2.905632257461548,
          -3.669113874435425,
          1.4250997304916382,
          -2.294515609741211,
          -1.7185169458389282,
          -1.5947577953338623,
          -3.3940138816833496,
          -4.818118095397949,
          -5.826955318450928,
          -6.088912010192871
         ],
         "xaxis": "x",
         "y": [
          2.204869270324707,
          3.8247547149658203,
          -1.1546050310134888,
          2.527090072631836,
          -0.5540937185287476,
          0.31874018907546997,
          0.8976094722747803,
          -0.3530515730381012,
          4.0722737312316895,
          -1.4733222723007202,
          2.992802143096924,
          -1.0424546003341675,
          -1.2724415063858032,
          1.8992184400558472,
          5.220259189605713,
          -0.6240301132202148,
          1.9438732862472534,
          -1.752057433128357,
          -2.3927364349365234,
          3.7205843925476074,
          4.923120498657227,
          1.3621926307678223,
          -1.1580138206481934,
          2.538194179534912,
          4.409460067749023,
          1.0841747522354126,
          -0.05200157314538956,
          3.8422837257385254,
          2.94065260887146,
          -0.3483063876628876,
          1.5054773092269897,
          5.048386573791504,
          0.11789192259311676,
          3.831101179122925,
          0.362943559885025,
          -0.016980567947030067,
          -0.7617539167404175,
          1.6215664148330688,
          -2.087862968444824,
          2.1874585151672363,
          4.0885396003723145,
          2.342571973800659,
          0.008087759837508202,
          -1.6465984582901,
          -0.013496477156877518,
          0.8319360017776489,
          0.4903147518634796,
          0.6967330574989319,
          2.559015989303589,
          4.474185466766357
         ],
         "yaxis": "y"
        },
        {
         "customdata": [
          [
           "NURS1008",
           "USYD"
          ],
          [
           "NURS3019",
           "USYD"
          ],
          [
           "NURS1004",
           "USYD"
          ],
          [
           "NURS3015",
           "USYD"
          ],
          [
           "NURS1005",
           "USYD"
          ],
          [
           "NURS2003",
           "USYD"
          ],
          [
           "NURS3018",
           "USYD"
          ],
          [
           "NURS1002",
           "USYD"
          ],
          [
           "NURS2008",
           "USYD"
          ],
          [
           "NURS3008",
           "USYD"
          ],
          [
           "NURS2009",
           "USYD"
          ],
          [
           "NURS3012",
           "USYD"
          ],
          [
           "NURS1003",
           "USYD"
          ],
          [
           "NURS2005",
           "USYD"
          ],
          [
           "NURS3007",
           "USYD"
          ],
          [
           "NURS2010",
           "USYD"
          ],
          [
           "NURS2006",
           "USYD"
          ],
          [
           "NURS1001",
           "USYD"
          ],
          [
           "NURS2011",
           "USYD"
          ],
          [
           "NURS3017",
           "USYD"
          ],
          [
           "NURS1006",
           "USYD"
          ],
          [
           "NURS2001",
           "USYD"
          ],
          [
           "NURS1007",
           "USYD"
          ],
          [
           "NURS3020",
           "USYD"
          ]
         ],
         "hovertemplate": "<b>%{hovertext}</b><br><br>degree=NURS<br>uni=%{customdata[1]}<br>x=%{x}<br>y=%{y}<br>subject_code=%{customdata[0]}<extra></extra>",
         "hovertext": [
          "NURS1008",
          "NURS3019",
          "NURS1004",
          "NURS3015",
          "NURS1005",
          "NURS2003",
          "NURS3018",
          "NURS1002",
          "NURS2008",
          "NURS3008",
          "NURS2009",
          "NURS3012",
          "NURS1003",
          "NURS2005",
          "NURS3007",
          "NURS2010",
          "NURS2006",
          "NURS1001",
          "NURS2011",
          "NURS3017",
          "NURS1006",
          "NURS2001",
          "NURS1007",
          "NURS3020"
         ],
         "legendgroup": "NURS, USYD",
         "marker": {
          "color": "#ab63fa",
          "symbol": "diamond"
         },
         "mode": "markers",
         "name": "NURS, USYD",
         "orientation": "v",
         "showlegend": true,
         "type": "scatter",
         "x": [
          17.64673614501953,
          18.0399227142334,
          16.982892990112305,
          16.60872459411621,
          14.41723346710205,
          15.84228801727295,
          18.529129028320312,
          16.471487045288086,
          16.368677139282227,
          18.625507354736328,
          25.838529586791992,
          15.062505722045898,
          17.521944046020508,
          17.750307083129883,
          19.188159942626953,
          14.02760124206543,
          14.434389114379883,
          16.626346588134766,
          21.478662490844727,
          17.345767974853516,
          12.814512252807617,
          30.539093017578125,
          16.139938354492188,
          18.2933292388916
         ],
         "xaxis": "x",
         "y": [
          -1.1436206102371216,
          -1.4594871997833252,
          3.5600240230560303,
          1.1986554861068726,
          1.8723442554473877,
          -1.399946689605713,
          3.001477003097534,
          3.9396090507507324,
          1.197740912437439,
          0.3767163157463074,
          6.655428409576416,
          0.7403053641319275,
          1.7637479305267334,
          0.5408731698989868,
          -1.9961791038513184,
          -0.8472673296928406,
          -2.981236696243286,
          0.05150516331195831,
          -1.3549553155899048,
          3.458150625228882,
          -0.0999138355255127,
          1.7537074089050293,
          0.0914248377084732,
          -1.8204623460769653
         ],
         "yaxis": "y"
        }
       ],
       "layout": {
        "legend": {
         "title": {
          "text": "degree, uni"
         },
         "tracegroupgap": 0
        },
        "margin": {
         "t": 60
        },
        "template": {
         "data": {
          "bar": [
           {
            "error_x": {
             "color": "#2a3f5f"
            },
            "error_y": {
             "color": "#2a3f5f"
            },
            "marker": {
             "line": {
              "color": "#E5ECF6",
              "width": 0.5
             },
             "pattern": {
              "fillmode": "overlay",
              "size": 10,
              "solidity": 0.2
             }
            },
            "type": "bar"
           }
          ],
          "barpolar": [
           {
            "marker": {
             "line": {
              "color": "#E5ECF6",
              "width": 0.5
             },
             "pattern": {
              "fillmode": "overlay",
              "size": 10,
              "solidity": 0.2
             }
            },
            "type": "barpolar"
           }
          ],
          "carpet": [
           {
            "aaxis": {
             "endlinecolor": "#2a3f5f",
             "gridcolor": "white",
             "linecolor": "white",
             "minorgridcolor": "white",
             "startlinecolor": "#2a3f5f"
            },
            "baxis": {
             "endlinecolor": "#2a3f5f",
             "gridcolor": "white",
             "linecolor": "white",
             "minorgridcolor": "white",
             "startlinecolor": "#2a3f5f"
            },
            "type": "carpet"
           }
          ],
          "choropleth": [
           {
            "colorbar": {
             "outlinewidth": 0,
             "ticks": ""
            },
            "type": "choropleth"
           }
          ],
          "contour": [
           {
            "colorbar": {
             "outlinewidth": 0,
             "ticks": ""
            },
            "colorscale": [
             [
              0,
              "#0d0887"
             ],
             [
              0.1111111111111111,
              "#46039f"
             ],
             [
              0.2222222222222222,
              "#7201a8"
             ],
             [
              0.3333333333333333,
              "#9c179e"
             ],
             [
              0.4444444444444444,
              "#bd3786"
             ],
             [
              0.5555555555555556,
              "#d8576b"
             ],
             [
              0.6666666666666666,
              "#ed7953"
             ],
             [
              0.7777777777777778,
              "#fb9f3a"
             ],
             [
              0.8888888888888888,
              "#fdca26"
             ],
             [
              1,
              "#f0f921"
             ]
            ],
            "type": "contour"
           }
          ],
          "contourcarpet": [
           {
            "colorbar": {
             "outlinewidth": 0,
             "ticks": ""
            },
            "type": "contourcarpet"
           }
          ],
          "heatmap": [
           {
            "colorbar": {
             "outlinewidth": 0,
             "ticks": ""
            },
            "colorscale": [
             [
              0,
              "#0d0887"
             ],
             [
              0.1111111111111111,
              "#46039f"
             ],
             [
              0.2222222222222222,
              "#7201a8"
             ],
             [
              0.3333333333333333,
              "#9c179e"
             ],
             [
              0.4444444444444444,
              "#bd3786"
             ],
             [
              0.5555555555555556,
              "#d8576b"
             ],
             [
              0.6666666666666666,
              "#ed7953"
             ],
             [
              0.7777777777777778,
              "#fb9f3a"
             ],
             [
              0.8888888888888888,
              "#fdca26"
             ],
             [
              1,
              "#f0f921"
             ]
            ],
            "type": "heatmap"
           }
          ],
          "heatmapgl": [
           {
            "colorbar": {
             "outlinewidth": 0,
             "ticks": ""
            },
            "colorscale": [
             [
              0,
              "#0d0887"
             ],
             [
              0.1111111111111111,
              "#46039f"
             ],
             [
              0.2222222222222222,
              "#7201a8"
             ],
             [
              0.3333333333333333,
              "#9c179e"
             ],
             [
              0.4444444444444444,
              "#bd3786"
             ],
             [
              0.5555555555555556,
              "#d8576b"
             ],
             [
              0.6666666666666666,
              "#ed7953"
             ],
             [
              0.7777777777777778,
              "#fb9f3a"
             ],
             [
              0.8888888888888888,
              "#fdca26"
             ],
             [
              1,
              "#f0f921"
             ]
            ],
            "type": "heatmapgl"
           }
          ],
          "histogram": [
           {
            "marker": {
             "pattern": {
              "fillmode": "overlay",
              "size": 10,
              "solidity": 0.2
             }
            },
            "type": "histogram"
           }
          ],
          "histogram2d": [
           {
            "colorbar": {
             "outlinewidth": 0,
             "ticks": ""
            },
            "colorscale": [
             [
              0,
              "#0d0887"
             ],
             [
              0.1111111111111111,
              "#46039f"
             ],
             [
              0.2222222222222222,
              "#7201a8"
             ],
             [
              0.3333333333333333,
              "#9c179e"
             ],
             [
              0.4444444444444444,
              "#bd3786"
             ],
             [
              0.5555555555555556,
              "#d8576b"
             ],
             [
              0.6666666666666666,
              "#ed7953"
             ],
             [
              0.7777777777777778,
              "#fb9f3a"
             ],
             [
              0.8888888888888888,
              "#fdca26"
             ],
             [
              1,
              "#f0f921"
             ]
            ],
            "type": "histogram2d"
           }
          ],
          "histogram2dcontour": [
           {
            "colorbar": {
             "outlinewidth": 0,
             "ticks": ""
            },
            "colorscale": [
             [
              0,
              "#0d0887"
             ],
             [
              0.1111111111111111,
              "#46039f"
             ],
             [
              0.2222222222222222,
              "#7201a8"
             ],
             [
              0.3333333333333333,
              "#9c179e"
             ],
             [
              0.4444444444444444,
              "#bd3786"
             ],
             [
              0.5555555555555556,
              "#d8576b"
             ],
             [
              0.6666666666666666,
              "#ed7953"
             ],
             [
              0.7777777777777778,
              "#fb9f3a"
             ],
             [
              0.8888888888888888,
              "#fdca26"
             ],
             [
              1,
              "#f0f921"
             ]
            ],
            "type": "histogram2dcontour"
           }
          ],
          "mesh3d": [
           {
            "colorbar": {
             "outlinewidth": 0,
             "ticks": ""
            },
            "type": "mesh3d"
           }
          ],
          "parcoords": [
           {
            "line": {
             "colorbar": {
              "outlinewidth": 0,
              "ticks": ""
             }
            },
            "type": "parcoords"
           }
          ],
          "pie": [
           {
            "automargin": true,
            "type": "pie"
           }
          ],
          "scatter": [
           {
            "fillpattern": {
             "fillmode": "overlay",
             "size": 10,
             "solidity": 0.2
            },
            "type": "scatter"
           }
          ],
          "scatter3d": [
           {
            "line": {
             "colorbar": {
              "outlinewidth": 0,
              "ticks": ""
             }
            },
            "marker": {
             "colorbar": {
              "outlinewidth": 0,
              "ticks": ""
             }
            },
            "type": "scatter3d"
           }
          ],
          "scattercarpet": [
           {
            "marker": {
             "colorbar": {
              "outlinewidth": 0,
              "ticks": ""
             }
            },
            "type": "scattercarpet"
           }
          ],
          "scattergeo": [
           {
            "marker": {
             "colorbar": {
              "outlinewidth": 0,
              "ticks": ""
             }
            },
            "type": "scattergeo"
           }
          ],
          "scattergl": [
           {
            "marker": {
             "colorbar": {
              "outlinewidth": 0,
              "ticks": ""
             }
            },
            "type": "scattergl"
           }
          ],
          "scattermapbox": [
           {
            "marker": {
             "colorbar": {
              "outlinewidth": 0,
              "ticks": ""
             }
            },
            "type": "scattermapbox"
           }
          ],
          "scatterpolar": [
           {
            "marker": {
             "colorbar": {
              "outlinewidth": 0,
              "ticks": ""
             }
            },
            "type": "scatterpolar"
           }
          ],
          "scatterpolargl": [
           {
            "marker": {
             "colorbar": {
              "outlinewidth": 0,
              "ticks": ""
             }
            },
            "type": "scatterpolargl"
           }
          ],
          "scatterternary": [
           {
            "marker": {
             "colorbar": {
              "outlinewidth": 0,
              "ticks": ""
             }
            },
            "type": "scatterternary"
           }
          ],
          "surface": [
           {
            "colorbar": {
             "outlinewidth": 0,
             "ticks": ""
            },
            "colorscale": [
             [
              0,
              "#0d0887"
             ],
             [
              0.1111111111111111,
              "#46039f"
             ],
             [
              0.2222222222222222,
              "#7201a8"
             ],
             [
              0.3333333333333333,
              "#9c179e"
             ],
             [
              0.4444444444444444,
              "#bd3786"
             ],
             [
              0.5555555555555556,
              "#d8576b"
             ],
             [
              0.6666666666666666,
              "#ed7953"
             ],
             [
              0.7777777777777778,
              "#fb9f3a"
             ],
             [
              0.8888888888888888,
              "#fdca26"
             ],
             [
              1,
              "#f0f921"
             ]
            ],
            "type": "surface"
           }
          ],
          "table": [
           {
            "cells": {
             "fill": {
              "color": "#EBF0F8"
             },
             "line": {
              "color": "white"
             }
            },
            "header": {
             "fill": {
              "color": "#C8D4E3"
             },
             "line": {
              "color": "white"
             }
            },
            "type": "table"
           }
          ]
         },
         "layout": {
          "annotationdefaults": {
           "arrowcolor": "#2a3f5f",
           "arrowhead": 0,
           "arrowwidth": 1
          },
          "autotypenumbers": "strict",
          "coloraxis": {
           "colorbar": {
            "outlinewidth": 0,
            "ticks": ""
           }
          },
          "colorscale": {
           "diverging": [
            [
             0,
             "#8e0152"
            ],
            [
             0.1,
             "#c51b7d"
            ],
            [
             0.2,
             "#de77ae"
            ],
            [
             0.3,
             "#f1b6da"
            ],
            [
             0.4,
             "#fde0ef"
            ],
            [
             0.5,
             "#f7f7f7"
            ],
            [
             0.6,
             "#e6f5d0"
            ],
            [
             0.7,
             "#b8e186"
            ],
            [
             0.8,
             "#7fbc41"
            ],
            [
             0.9,
             "#4d9221"
            ],
            [
             1,
             "#276419"
            ]
           ],
           "sequential": [
            [
             0,
             "#0d0887"
            ],
            [
             0.1111111111111111,
             "#46039f"
            ],
            [
             0.2222222222222222,
             "#7201a8"
            ],
            [
             0.3333333333333333,
             "#9c179e"
            ],
            [
             0.4444444444444444,
             "#bd3786"
            ],
            [
             0.5555555555555556,
             "#d8576b"
            ],
            [
             0.6666666666666666,
             "#ed7953"
            ],
            [
             0.7777777777777778,
             "#fb9f3a"
            ],
            [
             0.8888888888888888,
             "#fdca26"
            ],
            [
             1,
             "#f0f921"
            ]
           ],
           "sequentialminus": [
            [
             0,
             "#0d0887"
            ],
            [
             0.1111111111111111,
             "#46039f"
            ],
            [
             0.2222222222222222,
             "#7201a8"
            ],
            [
             0.3333333333333333,
             "#9c179e"
            ],
            [
             0.4444444444444444,
             "#bd3786"
            ],
            [
             0.5555555555555556,
             "#d8576b"
            ],
            [
             0.6666666666666666,
             "#ed7953"
            ],
            [
             0.7777777777777778,
             "#fb9f3a"
            ],
            [
             0.8888888888888888,
             "#fdca26"
            ],
            [
             1,
             "#f0f921"
            ]
           ]
          },
          "colorway": [
           "#636efa",
           "#EF553B",
           "#00cc96",
           "#ab63fa",
           "#FFA15A",
           "#19d3f3",
           "#FF6692",
           "#B6E880",
           "#FF97FF",
           "#FECB52"
          ],
          "font": {
           "color": "#2a3f5f"
          },
          "geo": {
           "bgcolor": "white",
           "lakecolor": "white",
           "landcolor": "#E5ECF6",
           "showlakes": true,
           "showland": true,
           "subunitcolor": "white"
          },
          "hoverlabel": {
           "align": "left"
          },
          "hovermode": "closest",
          "mapbox": {
           "style": "light"
          },
          "paper_bgcolor": "white",
          "plot_bgcolor": "#E5ECF6",
          "polar": {
           "angularaxis": {
            "gridcolor": "white",
            "linecolor": "white",
            "ticks": ""
           },
           "bgcolor": "#E5ECF6",
           "radialaxis": {
            "gridcolor": "white",
            "linecolor": "white",
            "ticks": ""
           }
          },
          "scene": {
           "xaxis": {
            "backgroundcolor": "#E5ECF6",
            "gridcolor": "white",
            "gridwidth": 2,
            "linecolor": "white",
            "showbackground": true,
            "ticks": "",
            "zerolinecolor": "white"
           },
           "yaxis": {
            "backgroundcolor": "#E5ECF6",
            "gridcolor": "white",
            "gridwidth": 2,
            "linecolor": "white",
            "showbackground": true,
            "ticks": "",
            "zerolinecolor": "white"
           },
           "zaxis": {
            "backgroundcolor": "#E5ECF6",
            "gridcolor": "white",
            "gridwidth": 2,
            "linecolor": "white",
            "showbackground": true,
            "ticks": "",
            "zerolinecolor": "white"
           }
          },
          "shapedefaults": {
           "line": {
            "color": "#2a3f5f"
           }
          },
          "ternary": {
           "aaxis": {
            "gridcolor": "white",
            "linecolor": "white",
            "ticks": ""
           },
           "baxis": {
            "gridcolor": "white",
            "linecolor": "white",
            "ticks": ""
           },
           "bgcolor": "#E5ECF6",
           "caxis": {
            "gridcolor": "white",
            "linecolor": "white",
            "ticks": ""
           }
          },
          "title": {
           "x": 0.05
          },
          "xaxis": {
           "automargin": true,
           "gridcolor": "white",
           "linecolor": "white",
           "ticks": "",
           "title": {
            "standoff": 15
           },
           "zerolinecolor": "white",
           "zerolinewidth": 2
          },
          "yaxis": {
           "automargin": true,
           "gridcolor": "white",
           "linecolor": "white",
           "ticks": "",
           "title": {
            "standoff": 15
           },
           "zerolinecolor": "white",
           "zerolinewidth": 2
          }
         }
        },
        "title": {
         "text": "t-SNE of DOC2VEC embeddings of UTS and USYD subjects using by Degree"
        },
        "xaxis": {
         "anchor": "y",
         "domain": [
          0,
          1
         ],
         "title": {
          "text": "First t-SNE"
         }
        },
        "yaxis": {
         "anchor": "x",
         "domain": [
          0,
          1
         ],
         "title": {
          "text": "Second t-SNE"
         }
        }
       }
      }
     },
     "metadata": {},
     "output_type": "display_data"
    }
   ],
   "source": [
    "show_degree_plot(\"doc2vec\")"
   ]
  },
  {
   "cell_type": "code",
   "execution_count": 171,
   "metadata": {},
   "outputs": [
    {
     "data": {
      "application/vnd.plotly.v1+json": {
       "config": {
        "plotlyServerURL": "https://plot.ly"
       },
       "data": [
        {
         "customdata": [
          [
           "48260",
           "UTS"
          ],
          [
           "31482",
           "UTS"
          ],
          [
           "92471",
           "UTS"
          ],
          [
           "41057",
           "UTS"
          ],
          [
           "93470",
           "UTS"
          ],
          [
           "41128",
           "UTS"
          ],
          [
           "41201",
           "UTS"
          ],
          [
           "32144",
           "UTS"
          ],
          [
           "41276",
           "UTS"
          ],
          [
           "16138",
           "UTS"
          ],
          [
           "93217",
           "UTS"
          ],
          [
           "93201",
           "UTS"
          ],
          [
           "48610",
           "UTS"
          ],
          [
           "93200",
           "UTS"
          ],
          [
           "41060",
           "UTS"
          ],
          [
           "16912",
           "UTS"
          ],
          [
           "93216",
           "UTS"
          ],
          [
           "31266",
           "UTS"
          ],
          [
           "91529",
           "UTS"
          ],
          [
           "41277",
           "UTS"
          ],
          [
           "16314",
           "UTS"
          ],
          [
           "41200",
           "UTS"
          ],
          [
           "41129",
           "UTS"
          ],
          [
           "48430",
           "UTS"
          ],
          [
           "41056",
           "UTS"
          ],
          [
           "92470",
           "UTS"
          ],
          [
           "93220",
           "UTS"
          ],
          [
           "92482",
           "UTS"
          ],
          [
           "41118",
           "UTS"
          ],
          [
           "93211",
           "UTS"
          ],
          [
           "93207",
           "UTS"
          ],
          [
           "41067",
           "UTS"
          ],
          [
           "93227",
           "UTS"
          ],
          [
           "92477",
           "UTS"
          ],
          [
           "93231",
           "UTS"
          ],
          [
           "43017",
           "UTS"
          ],
          [
           "41084",
           "UTS"
          ],
          [
           "42095",
           "UTS"
          ],
          [
           "41085",
           "UTS"
          ],
          [
           "68038",
           "UTS"
          ],
          [
           "41302",
           "UTS"
          ],
          [
           "16471",
           "UTS"
          ],
          [
           "93230",
           "UTS"
          ],
          [
           "92476",
           "UTS"
          ],
          [
           "48230",
           "UTS"
          ],
          [
           "91562",
           "UTS"
          ],
          [
           "93226",
           "UTS"
          ],
          [
           "93206",
           "UTS"
          ],
          [
           "41066",
           "UTS"
          ],
          [
           "93210",
           "UTS"
          ],
          [
           "41070",
           "UTS"
          ],
          [
           "49047",
           "UTS"
          ],
          [
           "48441",
           "UTS"
          ],
          [
           "33230",
           "UTS"
          ],
          [
           "93205",
           "UTS"
          ],
          [
           "93213",
           "UTS"
          ],
          [
           "68037",
           "UTS"
          ],
          [
           "43019",
           "UTS"
          ],
          [
           "92479",
           "UTS"
          ],
          [
           "92480",
           "UTS"
          ],
          [
           "93229",
           "UTS"
          ],
          [
           "37335",
           "UTS"
          ],
          [
           "41069",
           "UTS"
          ],
          [
           "41086",
           "UTS"
          ],
          [
           "93209",
           "UTS"
          ],
          [
           "41028",
           "UTS"
          ],
          [
           "93233",
           "UTS"
          ],
          [
           "41053",
           "UTS"
          ],
          [
           "48622",
           "UTS"
          ],
          [
           "92475",
           "UTS"
          ],
          [
           "41012",
           "UTS"
          ],
          [
           "91561",
           "UTS"
          ],
          [
           "93225",
           "UTS"
          ],
          [
           "93224",
           "UTS"
          ],
          [
           "41013",
           "UTS"
          ],
          [
           "92474",
           "UTS"
          ],
          [
           "93232",
           "UTS"
          ],
          [
           "43014",
           "UTS"
          ],
          [
           "48434",
           "UTS"
          ],
          [
           "16263",
           "UTS"
          ],
          [
           "37181",
           "UTS"
          ],
          [
           "41068",
           "UTS"
          ],
          [
           "41087",
           "UTS"
          ],
          [
           "93208",
           "UTS"
          ],
          [
           "48530",
           "UTS"
          ],
          [
           "93228",
           "UTS"
          ],
          [
           "37363",
           "UTS"
          ],
          [
           "92481",
           "UTS"
          ],
          [
           "92478",
           "UTS"
          ],
          [
           "32931",
           "UTS"
          ],
          [
           "43018",
           "UTS"
          ],
          [
           "93212",
           "UTS"
          ],
          [
           "93204",
           "UTS"
          ],
          [
           "41033",
           "UTS"
          ],
          [
           "41203",
           "UTS"
          ],
          [
           "41080",
           "UTS"
          ],
          [
           "48521",
           "UTS"
          ],
          [
           "41079",
           "UTS"
          ],
          [
           "93219",
           "UTS"
          ],
          [
           "41055",
           "UTS"
          ],
          [
           "48366",
           "UTS"
          ],
          [
           "92473",
           "UTS"
          ],
          [
           "48389",
           "UTS"
          ],
          [
           "41278",
           "UTS"
          ],
          [
           "91530",
           "UTS"
          ],
          [
           "49131",
           "UTS"
          ],
          [
           "48370",
           "UTS"
          ],
          [
           "41014",
           "UTS"
          ],
          [
           "93223",
           "UTS"
          ],
          [
           "41034",
           "UTS"
          ],
          [
           "93203",
           "UTS"
          ],
          [
           "33130",
           "UTS"
          ],
          [
           "49150",
           "UTS"
          ],
          [
           "31265",
           "UTS"
          ],
          [
           "41059",
           "UTS"
          ],
          [
           "48540",
           "UTS"
          ],
          [
           "41058",
           "UTS"
          ],
          [
           "49151",
           "UTS"
          ],
          [
           "93214",
           "UTS"
          ],
          [
           "41127",
           "UTS"
          ],
          [
           "93202",
           "UTS"
          ],
          [
           "41035",
           "UTS"
          ],
          [
           "31272",
           "UTS"
          ],
          [
           "93222",
           "UTS"
          ],
          [
           "48371",
           "UTS"
          ],
          [
           "92472",
           "UTS"
          ],
          [
           "16422",
           "UTS"
          ],
          [
           "41054",
           "UTS"
          ],
          [
           "31268",
           "UTS"
          ],
          [
           "41078",
           "UTS"
          ],
          [
           "93218",
           "UTS"
          ],
          [
           "41202",
           "UTS"
          ]
         ],
         "hovertemplate": "major=CORE/NONE<br>uni=%{customdata[1]}<br>x=%{x}<br>y=%{y}<br>subject_code=%{customdata[0]}<extra></extra>",
         "legendgroup": "CORE/NONE, UTS",
         "marker": {
          "color": "#636efa",
          "symbol": "circle"
         },
         "mode": "markers",
         "name": "CORE/NONE, UTS",
         "orientation": "v",
         "showlegend": true,
         "type": "scatter",
         "x": [
          -15.487656593322754,
          -10.301382064819336,
          55.42243957519531,
          -2.8076486587524414,
          51.05870819091797,
          -8.131616592407227,
          -17.604867935180664,
          -11.134735107421875,
          -3.2593040466308594,
          -12.549188613891602,
          47.3657112121582,
          48.838623046875,
          3.675069570541382,
          47.085662841796875,
          -2.4447247982025146,
          -13.95406436920166,
          49.90961837768555,
          -13.62707805633545,
          42.860328674316406,
          -2.3182525634765625,
          -13.773919105529785,
          -16.677608489990234,
          -6.751643180847168,
          -4.877227306365967,
          3.675741672515869,
          45.86133575439453,
          50.24783706665039,
          55.65541458129883,
          3.851581573486328,
          48.87374496459961,
          47.09403610229492,
          2.451047658920288,
          52.457027435302734,
          53.09855270385742,
          53.956817626953125,
          2.8613319396972656,
          -3.2064430713653564,
          -15.020812034606934,
          -3.2505428791046143,
          -2.728029251098633,
          1.1202750205993652,
          -13.977982521057129,
          47.37743377685547,
          52.991146087646484,
          -18.299606323242188,
          41.53251647949219,
          45.0966911315918,
          50.07963943481445,
          2.7759616374969482,
          47.488800048828125,
          1.5485972166061401,
          -5.2884297370910645,
          -1.1848711967468262,
          11.211183547973633,
          52.121089935302734,
          52.46076202392578,
          -3.040313959121704,
          2.492382287979126,
          52.386940002441406,
          55.004878997802734,
          49.90911865234375,
          10.338672637939453,
          3.0948362350463867,
          -2.4994962215423584,
          56.13779830932617,
          -18.672447204589844,
          50.22902297973633,
          1.676639199256897,
          -0.5191280245780945,
          52.984153747558594,
          3.283991813659668,
          41.22697830200195,
          48.61616134643555,
          47.54346466064453,
          4.5485968589782715,
          54.401611328125,
          51.43852615356445,
          3.033607006072998,
          0.14916138350963593,
          -14.111083984375,
          9.572609901428223,
          3.0855605602264404,
          -2.694617986679077,
          48.717079162597656,
          -4.929522514343262,
          48.505455017089844,
          10.78110122680664,
          53.303871154785156,
          54.52742385864258,
          -10.120635986328125,
          5.584228515625,
          45.1843376159668,
          49.18233108520508,
          -3.558805227279663,
          -18.013324737548828,
          -1.8569155931472778,
          -4.480159759521484,
          -8.338762283325195,
          51.422664642333984,
          -18.72784996032715,
          -7.923386096954346,
          51.2000846862793,
          -6.317505836486816,
          -6.246651649475098,
          42.8177375793457,
          -7.288197994232178,
          -18.887845993041992,
          3.1970713138580322,
          56.247528076171875,
          -2.2117087841033936,
          50.79390335083008,
          11.043859481811523,
          -7.5369648933410645,
          -18.6633243560791,
          3.3109846115112305,
          -2.6245980262756348,
          5.331520080566406,
          -9.661036491394043,
          48.52145767211914,
          -8.309659957885742,
          49.91046905517578,
          -18.085311889648438,
          -14.025715827941895,
          48.500762939453125,
          -4.40688943862915,
          54.72185516357422,
          -14.12088394165039,
          3.157287359237671,
          -17.83108139038086,
          -8.516282081604004,
          53.866943359375,
          -16.82398796081543
         ],
         "xaxis": "x",
         "y": [
          22.730587005615234,
          -10.035536766052246,
          -10.603285789489746,
          21.82050132751465,
          -5.953498363494873,
          -14.007100105285645,
          23.94952392578125,
          -9.244873046875,
          6.289360523223877,
          29.52689552307129,
          -11.544024467468262,
          -11.602510452270508,
          14.230612754821777,
          -9.692641258239746,
          20.993911743164062,
          27.003032684326172,
          -9.902270317077637,
          -13.167465209960938,
          -5.7038140296936035,
          8.773475646972656,
          27.719501495361328,
          23.768726348876953,
          -13.312138557434082,
          -19.72262191772461,
          16.589797973632812,
          -13.570123672485352,
          -13.277461051940918,
          -7.02350378036499,
          -15.694828033447266,
          -9.187199592590332,
          -9.850030899047852,
          13.510868072509766,
          -12.103777885437012,
          -7.7971110343933105,
          -13.355786323547363,
          15.069986343383789,
          -1.869952917098999,
          27.247392654418945,
          -2.057889223098755,
          15.421499252319336,
          15.047938346862793,
          29.11953353881836,
          -11.546381950378418,
          -10.788115501403809,
          21.84281349182129,
          -6.120487213134766,
          -14.427370071411133,
          -8.115821838378906,
          13.319520950317383,
          -7.484452724456787,
          9.650763511657715,
          31.572919845581055,
          4.893266677856445,
          -16.867950439453125,
          -13.883038520812988,
          -11.983488082885742,
          16.300392150878906,
          11.944592475891113,
          -7.94550085067749,
          -6.968392372131348,
          -9.90767765045166,
          -15.581314086914062,
          10.79244327545166,
          -2.6413533687591553,
          -12.051237106323242,
          19.69253158569336,
          -13.2874755859375,
          15.708609580993652,
          4.815484046936035,
          -6.437518119812012,
          7.243856906890869,
          -6.286731243133545,
          -9.152904510498047,
          -7.5356903076171875,
          10.348164558410645,
          -7.623211860656738,
          -10.5428466796875,
          17.87129783630371,
          4.018251419067383,
          26.399499893188477,
          -17.47519874572754,
          10.239310264587402,
          -3.101012945175171,
          -10.114058494567871,
          6.208222389221191,
          -12.748126983642578,
          -19.46232032775879,
          -9.955926895141602,
          -10.234391212463379,
          -10.016313552856445,
          16.533586502075195,
          -14.338027000427246,
          -7.980624675750732,
          5.62114143371582,
          23.36001968383789,
          -19.04372215270996,
          7.726318359375,
          -11.717093467712402,
          -10.515992164611816,
          19.9591007232666,
          32.77076721191406,
          -8.700143814086914,
          30.943096160888672,
          7.734668731689453,
          -5.699882984161377,
          30.72537612915039,
          31.885814666748047,
          9.09714412689209,
          -12.14109992980957,
          6.38072395324707,
          -12.224111557006836,
          -16.54478645324707,
          33.78532409667969,
          21.720998764038086,
          12.724381446838379,
          8.363529205322266,
          16.503816604614258,
          30.261959075927734,
          -12.717303276062012,
          -15.4952392578125,
          -11.296052932739258,
          19.925010681152344,
          -10.24484634399414,
          -10.131269454956055,
          29.939697265625,
          -8.864198684692383,
          28.893850326538086,
          17.603769302368164,
          -11.928092956542969,
          -11.585906028747559,
          -13.302722930908203,
          22.89548683166504
         ],
         "yaxis": "y"
        },
        {
         "customdata": [
          [
           "NURS1008",
           "USYD"
          ],
          [
           "NURS3019",
           "USYD"
          ],
          [
           "ENGP1002",
           "USYD"
          ],
          [
           "ENGG2112",
           "USYD"
          ],
          [
           "AMME4112",
           "USYD"
          ],
          [
           "NURS1004",
           "USYD"
          ],
          [
           "INFO4912",
           "USYD"
          ],
          [
           "NURS3015",
           "USYD"
          ],
          [
           "MATH1964",
           "USYD"
          ],
          [
           "INFO1911",
           "USYD"
          ],
          [
           "INFO4990",
           "USYD"
          ],
          [
           "ISYS5070",
           "USYD"
          ],
          [
           "ENGG3112",
           "USYD"
          ],
          [
           "INFO2150",
           "USYD"
          ],
          [
           "INFO4913",
           "USYD"
          ],
          [
           "NURS1005",
           "USYD"
          ],
          [
           "ENGP1003",
           "USYD"
          ],
          [
           "NURS2003",
           "USYD"
          ],
          [
           "HTIN4003",
           "USYD"
          ],
          [
           "INFO2222",
           "USYD"
          ],
          [
           "NURS3018",
           "USYD"
          ],
          [
           "CIVL1900",
           "USYD"
          ],
          [
           "INFO4001",
           "USYD"
          ],
          [
           "INFO4406",
           "USYD"
          ],
          [
           "ENGP2002",
           "USYD"
          ],
          [
           "NURS1002",
           "USYD"
          ],
          [
           "INFO2911",
           "USYD"
          ],
          [
           "MATH1061",
           "USYD"
          ],
          [
           "BMET1960",
           "USYD"
          ],
          [
           "ENGG3800",
           "USYD"
          ],
          [
           "NURS2008",
           "USYD"
          ],
          [
           "CHNG4203",
           "USYD"
          ],
          [
           "HTIN4005",
           "USYD"
          ],
          [
           "NURS3008",
           "USYD"
          ],
          [
           "BMET4112",
           "USYD"
          ],
          [
           "CHNG4812",
           "USYD"
          ],
          [
           "NURS2009",
           "USYD"
          ],
          [
           "ENGP3002",
           "USYD"
          ],
          [
           "NURS3012",
           "USYD"
          ],
          [
           "INFO1111",
           "USYD"
          ],
          [
           "CHNG1108",
           "USYD"
          ],
          [
           "ENGP2003",
           "USYD"
          ],
          [
           "NURS1003",
           "USYD"
          ],
          [
           "INFO3911",
           "USYD"
          ],
          [
           "ENGG1810",
           "USYD"
          ],
          [
           "AERO1560",
           "USYD"
          ],
          [
           "NURS2005",
           "USYD"
          ],
          [
           "NURS3007",
           "USYD"
          ],
          [
           "ENGP3001",
           "USYD"
          ],
          [
           "INFO1112",
           "USYD"
          ],
          [
           "NURS2010",
           "USYD"
          ],
          [
           "INFO3912",
           "USYD"
          ],
          [
           "NURS2006",
           "USYD"
          ],
          [
           "HTIN4006",
           "USYD"
          ],
          [
           "MECH1560",
           "USYD"
          ],
          [
           "BMET4111",
           "USYD"
          ],
          [
           "CHNG4811",
           "USYD"
          ],
          [
           "INFO4999",
           "USYD"
          ],
          [
           "INFO4002",
           "USYD"
          ],
          [
           "NURS1001",
           "USYD"
          ],
          [
           "ENGP2001",
           "USYD"
          ],
          [
           "INFO4444",
           "USYD"
          ],
          [
           "NURS2011",
           "USYD"
          ],
          [
           "MTRX1701",
           "USYD"
          ],
          [
           "INFO2912",
           "USYD"
          ],
          [
           "MATH1062",
           "USYD"
          ],
          [
           "MATH1961",
           "USYD"
          ],
          [
           "ELEC4713",
           "USYD"
          ],
          [
           "ELEC1004",
           "USYD"
          ],
          [
           "NURS3017",
           "USYD"
          ],
          [
           "NURS1006",
           "USYD"
          ],
          [
           "CIVL4023",
           "USYD"
          ],
          [
           "NURS2001",
           "USYD"
          ],
          [
           "ENGP1001",
           "USYD"
          ],
          [
           "CIVL4022",
           "USYD"
          ],
          [
           "AMME4111",
           "USYD"
          ],
          [
           "NURS1007",
           "USYD"
          ],
          [
           "INFO4911",
           "USYD"
          ],
          [
           "MATH1064",
           "USYD"
          ],
          [
           "INFO1912",
           "USYD"
          ],
          [
           "NURS3020",
           "USYD"
          ],
          [
           "ELEC4712",
           "USYD"
          ],
          [
           "ELEC1005",
           "USYD"
          ],
          [
           "INFO3333",
           "USYD"
          ]
         ],
         "hovertemplate": "major=CORE/NONE<br>uni=%{customdata[1]}<br>x=%{x}<br>y=%{y}<br>subject_code=%{customdata[0]}<extra></extra>",
         "legendgroup": "CORE/NONE, USYD",
         "marker": {
          "color": "#636efa",
          "symbol": "diamond"
         },
         "mode": "markers",
         "name": "CORE/NONE, USYD",
         "orientation": "v",
         "showlegend": true,
         "type": "scatter",
         "x": [
          51.49025344848633,
          49.71531677246094,
          -22.792665481567383,
          -18.01091957092285,
          -31.943992614746094,
          49.4600830078125,
          -11.626917839050293,
          46.58224105834961,
          -4.81927490234375,
          -11.502450942993164,
          -11.93712043762207,
          -12.89881706237793,
          -17.942424774169922,
          18.896753311157227,
          -12.039133071899414,
          40.819252014160156,
          -23.005905151367188,
          46.71422576904297,
          21.477296829223633,
          -19.984466552734375,
          51.03567886352539,
          -12.86322021484375,
          -10.021981239318848,
          20.221216201782227,
          -22.101566314697266,
          48.611000061035156,
          -12.133054733276367,
          11.1614351272583,
          20.717632293701172,
          -17.912925720214844,
          45.435462951660156,
          -8.778777122497559,
          19.40825080871582,
          48.05512237548828,
          -32.7224235534668,
          -32.782073974609375,
          48.98055648803711,
          -23.34004783630371,
          48.67563247680664,
          -13.95447826385498,
          -7.802561283111572,
          -21.63371467590332,
          47.05282211303711,
          -12.285082817077637,
          -4.7359137535095215,
          11.147163391113281,
          43.308956146240234,
          52.27489471435547,
          -22.467880249023438,
          -18.78030014038086,
          49.72517395019531,
          -12.67963695526123,
          46.310054779052734,
          19.23191261291504,
          10.404557228088379,
          -31.964637756347656,
          -32.41253662109375,
          -13.086346626281738,
          -10.460585594177246,
          40.557159423828125,
          -21.779264450073242,
          -11.199092864990234,
          47.318294525146484,
          10.346914291381836,
          -12.620671272277832,
          10.147951126098633,
          11.105071067810059,
          -30.920686721801758,
          -4.5674052238464355,
          49.92897033691406,
          48.26319885253906,
          -31.16769027709961,
          43.372379302978516,
          -23.452362060546875,
          -30.790645599365234,
          -31.691486358642578,
          47.93096160888672,
          -11.636085510253906,
          -4.512161731719971,
          -11.45169734954834,
          50.72342300415039,
          -31.61756706237793,
          -10.300148010253906,
          -13.87563705444336
         ],
         "xaxis": "x",
         "y": [
          -16.216989517211914,
          -16.921030044555664,
          18.284284591674805,
          14.838062286376953,
          24.389633178710938,
          -15.447012901306152,
          -28.30103874206543,
          -16.65108871459961,
          -31.140033721923828,
          -26.00891876220703,
          -30.13021469116211,
          -16.420751571655273,
          15.570569038391113,
          -5.429955959320068,
          -28.627798080444336,
          -4.966892719268799,
          19.11179542541504,
          -17.718868255615234,
          -6.728566646575928,
          -17.252641677856445,
          -18.421354293823242,
          33.6004524230957,
          -28.3471736907959,
          -5.201125621795654,
          18.924333572387695,
          -16.2532901763916,
          -26.909229278564453,
          -12.984475135803223,
          7.0449066162109375,
          15.920010566711426,
          -17.3892822265625,
          20.461469650268555,
          -4.434169769287109,
          -18.123661041259766,
          24.78546905517578,
          23.927366256713867,
          -18.724313735961914,
          19.707042694091797,
          -20.552581787109375,
          -18.228164672851562,
          20.47205352783203,
          18.422853469848633,
          -17.48040199279785,
          -25.815629959106445,
          -23.400285720825195,
          14.45559310913086,
          -9.816534042358398,
          -16.471403121948242,
          19.887380599975586,
          -24.081872940063477,
          -18.62773323059082,
          -26.064373016357422,
          -19.28435516357422,
          -4.746673583984375,
          14.57541561126709,
          25.240585327148438,
          23.277769088745117,
          -28.1876277923584,
          -28.081838607788086,
          -4.932926177978516,
          19.443252563476562,
          -12.847089767456055,
          -19.621841430664062,
          14.264756202697754,
          -26.8544864654541,
          -13.38870620727539,
          -12.973967552185059,
          23.50705909729004,
          3.8883912563323975,
          -15.305771827697754,
          -19.004940032958984,
          24.922876358032227,
          -9.869301795959473,
          18.644142150878906,
          24.293962478637695,
          23.881179809570312,
          -15.609801292419434,
          -28.708633422851562,
          -31.119598388671875,
          -26.602182388305664,
          -16.828319549560547,
          23.037113189697266,
          -5.094272613525391,
          -18.875083923339844
         ],
         "yaxis": "y"
        },
        {
         "customdata": [
          [
           "31251",
           "UTS"
          ],
          [
           "48024",
           "UTS"
          ],
          [
           "31269",
           "UTS"
          ]
         ],
         "hovertemplate": "major=SOFT<br>uni=%{customdata[1]}<br>x=%{x}<br>y=%{y}<br>subject_code=%{customdata[0]}<extra></extra>",
         "legendgroup": "SOFT, UTS",
         "marker": {
          "color": "#EF553B",
          "symbol": "circle"
         },
         "mode": "markers",
         "name": "SOFT, UTS",
         "orientation": "v",
         "showlegend": true,
         "type": "scatter",
         "x": [
          -3.493258237838745,
          -5.827866554260254,
          -9.703024864196777
         ],
         "xaxis": "x",
         "y": [
          -19.59447479248047,
          -17.116384506225586,
          -15.266571044921875
         ],
         "yaxis": "y"
        },
        {
         "customdata": [
          [
           "ISYS2110",
           "USYD"
          ],
          [
           "COMP4530",
           "USYD"
          ],
          [
           "DATA1002",
           "USYD"
          ],
          [
           "COMP4415",
           "USYD"
          ],
          [
           "COMP4618",
           "USYD"
          ],
          [
           "COMP4445",
           "USYD"
          ],
          [
           "DATA4207",
           "USYD"
          ],
          [
           "COMP4347",
           "USYD"
          ],
          [
           "COMP4424",
           "USYD"
          ],
          [
           "ISYS3402",
           "USYD"
          ],
          [
           "ISYS4450",
           "USYD"
          ],
          [
           "COMP4425",
           "USYD"
          ],
          [
           "COMP4448",
           "USYD"
          ],
          [
           "STAT2911",
           "USYD"
          ],
          [
           "ISYS2160",
           "USYD"
          ],
          [
           "COMP4405",
           "USYD"
          ],
          [
           "COMP4328",
           "USYD"
          ],
          [
           "COMP4349",
           "USYD"
          ],
          [
           "MATH2069",
           "USYD"
          ],
          [
           "STAT2011",
           "USYD"
          ],
          [
           "BUSS1030",
           "USYD"
          ],
          [
           "COMP4427",
           "USYD"
          ],
          [
           "SOFT3410",
           "USYD"
          ],
          [
           "ISYS3401",
           "USYD"
          ],
          [
           "COMP4348",
           "USYD"
          ],
          [
           "COMP4446",
           "USYD"
          ],
          [
           "COMP4329",
           "USYD"
          ],
          [
           "INFO4491",
           "USYD"
          ],
          [
           "COMP4313",
           "USYD"
          ],
          [
           "INFO3616",
           "USYD"
          ],
          [
           "MKTG1001",
           "USYD"
          ],
          [
           "COMP4617",
           "USYD"
          ],
          [
           "DATA1902",
           "USYD"
          ],
          [
           "ISYS3888",
           "USYD"
          ],
          [
           "COMP4416",
           "USYD"
          ],
          [
           "COMP4338",
           "USYD"
          ],
          [
           "COMP4270",
           "USYD"
          ]
         ],
         "hovertemplate": "major=SOFT<br>uni=%{customdata[1]}<br>x=%{x}<br>y=%{y}<br>subject_code=%{customdata[0]}<extra></extra>",
         "legendgroup": "SOFT, USYD",
         "marker": {
          "color": "#EF553B",
          "symbol": "diamond"
         },
         "mode": "markers",
         "name": "SOFT, USYD",
         "orientation": "v",
         "showlegend": true,
         "type": "scatter",
         "x": [
          -11.565605163574219,
          -6.418018817901611,
          5.4048542976379395,
          0.10440008342266083,
          -21.784408569335938,
          -3.0245280265808105,
          7.173011779785156,
          -17.460966110229492,
          20.059486389160156,
          -15.045005798339844,
          -10.539782524108887,
          1.7935155630111694,
          5.120579719543457,
          12.422707557678223,
          -12.246219635009766,
          0.9707934260368347,
          -0.28169673681259155,
          -16.287776947021484,
          -5.488134384155273,
          12.4341459274292,
          -21.292097091674805,
          -6.422924518585205,
          -16.810382843017578,
          -11.325601577758789,
          -15.272170066833496,
          -0.11462464183568954,
          0.2379438728094101,
          -12.60977554321289,
          -17.321060180664062,
          -21.612712860107422,
          -21.902814865112305,
          -21.997432708740234,
          5.405019760131836,
          -12.48501205444336,
          -18.02083969116211,
          2.040391445159912,
          -7.189449787139893
         ],
         "xaxis": "x",
         "y": [
          -16.53179359436035,
          -28.546348571777344,
          -27.42041778564453,
          -10.494455337524414,
          -16.078907012939453,
          -28.60647964477539,
          -23.359657287597656,
          -14.516290664672852,
          -1.2960647344589233,
          -36.12409973144531,
          -21.03955841064453,
          -11.517738342285156,
          -22.754289627075195,
          -21.204336166381836,
          -23.212888717651367,
          -11.130792617797852,
          -24.341957092285156,
          -16.728103637695312,
          -30.810697555541992,
          -21.209325790405273,
          6.465920925140381,
          -7.797435283660889,
          -26.63621711730957,
          -21.947418212890625,
          -24.012310028076172,
          -21.354555130004883,
          -23.685678482055664,
          -11.451481819152832,
          -22.6830997467041,
          -17.41352653503418,
          5.475199222564697,
          -19.313011169433594,
          -27.397308349609375,
          -23.73261260986328,
          -22.93459701538086,
          -28.526399612426758,
          -28.144962310791016
         ],
         "yaxis": "y"
        },
        {
         "customdata": [
          [
           "48221",
           "UTS"
          ],
          [
           "48352",
           "UTS"
          ],
          [
           "48353",
           "UTS"
          ],
          [
           "48349",
           "UTS"
          ],
          [
           "48362",
           "UTS"
          ],
          [
           "48821",
           "UTS"
          ],
          [
           "48860",
           "UTS"
          ],
          [
           "48881",
           "UTS"
          ],
          [
           "48340",
           "UTS"
          ],
          [
           "48360",
           "UTS"
          ],
          [
           "48321",
           "UTS"
          ],
          [
           "48320",
           "UTS"
          ],
          [
           "48331",
           "UTS"
          ],
          [
           "48310",
           "UTS"
          ],
          [
           "48330",
           "UTS"
          ]
         ],
         "hovertemplate": "major=CIVI<br>uni=%{customdata[1]}<br>x=%{x}<br>y=%{y}<br>subject_code=%{customdata[0]}<extra></extra>",
         "legendgroup": "CIVI, UTS",
         "marker": {
          "color": "#00cc96",
          "symbol": "circle"
         },
         "mode": "markers",
         "name": "CIVI, UTS",
         "orientation": "v",
         "showlegend": true,
         "type": "scatter",
         "x": [
          -4.075743198394775,
          -9.848489761352539,
          -7.754741668701172,
          -6.355669975280762,
          -3.9869890213012695,
          -9.199560165405273,
          -8.907820701599121,
          -12.16834831237793,
          -12.12944221496582,
          -9.536108016967773,
          -5.645002841949463,
          -12.109238624572754,
          -5.407772064208984,
          -11.3164644241333,
          -9.230314254760742
         ],
         "xaxis": "x",
         "y": [
          29.880329132080078,
          29.468765258789062,
          33.607757568359375,
          33.09367370605469,
          25.491392135620117,
          25.672765731811523,
          25.588289260864258,
          23.789772033691406,
          27.547677993774414,
          35.84305953979492,
          32.848018646240234,
          30.96205711364746,
          33.30926513671875,
          27.287147521972656,
          35.70781326293945
         ],
         "yaxis": "y"
        },
        {
         "customdata": [
          [
           "CIVL1110",
           "USYD"
          ],
          [
           "CIVL5702",
           "USYD"
          ],
          [
           "CIVL5276",
           "USYD"
          ],
          [
           "CIVL1022",
           "USYD"
          ],
          [
           "CIVL5535",
           "USYD"
          ],
          [
           "CIVL5670",
           "USYD"
          ],
          [
           "CIVL5277",
           "USYD"
          ],
          [
           "CIVL4903",
           "USYD"
          ],
          [
           "CIVL3511",
           "USYD"
          ],
          [
           "CIVL5703",
           "USYD"
          ],
          [
           "CIVL3205",
           "USYD"
          ],
          [
           "CIVL3614",
           "USYD"
          ],
          [
           "CIVL5266",
           "USYD"
          ],
          [
           "CIVL5460",
           "USYD"
          ],
          [
           "CIVL5533",
           "USYD"
          ],
          [
           "CIVL3310",
           "USYD"
          ],
          [
           "CIVL5704",
           "USYD"
          ],
          [
           "CIVL4816",
           "USYD"
          ],
          [
           "CIVL2700",
           "USYD"
          ],
          [
           "CIVL4817",
           "USYD"
          ],
          [
           "CIVL1802",
           "USYD"
          ],
          [
           "CIVL2812",
           "USYD"
          ],
          [
           "CIVL3612",
           "USYD"
          ],
          [
           "CIVL3235",
           "USYD"
          ],
          [
           "CIVL4860",
           "USYD"
          ],
          [
           "CIVL5531",
           "USYD"
          ],
          [
           "CIVL4818",
           "USYD"
          ],
          [
           "CIVL5458",
           "USYD"
          ],
          [
           "CIVL3806",
           "USYD"
          ],
          [
           "CIVL2201",
           "USYD"
          ],
          [
           "CIVL5269",
           "USYD"
          ],
          [
           "CIVL2410",
           "USYD"
          ],
          [
           "CIVL3411",
           "USYD"
          ],
          [
           "CIVL2611",
           "USYD"
          ],
          [
           "CIVL3811",
           "USYD"
          ],
          [
           "CIVL5320",
           "USYD"
          ],
          [
           "CIVL4819",
           "USYD"
          ],
          [
           "CIVL4812",
           "USYD"
          ],
          [
           "CIVL2010",
           "USYD"
          ],
          [
           "CIVL3206",
           "USYD"
          ],
          [
           "CIVL5452",
           "USYD"
          ],
          [
           "CIVL3705",
           "USYD"
          ],
          [
           "CIVL5999",
           "USYD"
          ],
          [
           "CIVL5330",
           "USYD"
          ],
          [
           "CIVL5668",
           "USYD"
          ],
          [
           "CIVL3704",
           "USYD"
          ],
          [
           "CIVL5453",
           "USYD"
          ],
          [
           "CIVL1810",
           "USYD"
          ],
          [
           "CIVL4203",
           "USYD"
          ],
          [
           "CIVL5351",
           "USYD"
          ],
          [
           "CIVL5701",
           "USYD"
          ]
         ],
         "hovertemplate": "major=CIVI<br>uni=%{customdata[1]}<br>x=%{x}<br>y=%{y}<br>subject_code=%{customdata[0]}<extra></extra>",
         "legendgroup": "CIVI, USYD",
         "marker": {
          "color": "#00cc96",
          "symbol": "diamond"
         },
         "mode": "markers",
         "name": "CIVI, USYD",
         "orientation": "v",
         "showlegend": true,
         "type": "scatter",
         "x": [
          -11.815718650817871,
          -18.29523468017578,
          -12.778303146362305,
          -10.410965919494629,
          -14.895634651184082,
          -5.497744560241699,
          -9.182783126831055,
          -14.556130409240723,
          -14.607553482055664,
          -20.591035842895508,
          -6.554437637329102,
          -5.810410499572754,
          -4.68025541305542,
          -8.852156639099121,
          -15.746063232421875,
          -19.74531364440918,
          -19.236980438232422,
          -23.72702407836914,
          -19.05354881286621,
          -23.275226593017578,
          -3.517868757247925,
          -16.65430450439453,
          -0.5975068211555481,
          -4.126019477844238,
          -14.788825035095215,
          -15.009347915649414,
          -18.942962646484375,
          -3.4549355506896973,
          -22.973939895629883,
          -4.678421974182129,
          -6.857529163360596,
          -8.615225791931152,
          -9.391302108764648,
          -0.8596445918083191,
          -10.163376808166504,
          -19.72443962097168,
          -22.99364471435547,
          -23.919740676879883,
          -10.850218772888184,
          -4.893761157989502,
          -9.843085289001465,
          -19.735307693481445,
          -17.311376571655273,
          -19.257274627685547,
          -11.852814674377441,
          -19.668439865112305,
          -10.107927322387695,
          -11.99063491821289,
          -16.96796989440918,
          -7.54611873626709,
          -20.076292037963867
         ],
         "xaxis": "x",
         "y": [
          33.8438720703125,
          33.7984619140625,
          34.764625549316406,
          38.46600341796875,
          36.439125061035156,
          26.923599243164062,
          32.948326110839844,
          33.84067153930664,
          35.39923095703125,
          32.52325439453125,
          35.404144287109375,
          26.691120147705078,
          36.402305603027344,
          38.4421272277832,
          36.01680374145508,
          28.34814453125,
          32.805419921875,
          10.035826683044434,
          33.40658950805664,
          9.977083206176758,
          34.28957748413086,
          25.50484275817871,
          26.60405158996582,
          34.02168655395508,
          33.988975524902344,
          35.86039733886719,
          24.746694564819336,
          31.545394897460938,
          9.172748565673828,
          34.83769607543945,
          35.67252731323242,
          37.06166076660156,
          37.201961517333984,
          26.700847625732422,
          33.80238723754883,
          28.505374908447266,
          9.909499168395996,
          11.423982620239258,
          26.178483963012695,
          35.91514205932617,
          36.867515563964844,
          32.46171951293945,
          32.93939971923828,
          28.70766258239746,
          37.73649215698242,
          34.11811828613281,
          38.612552642822266,
          31.737112045288086,
          30.44643783569336,
          26.575883865356445,
          33.36506271362305
         ],
         "yaxis": "y"
        },
        {
         "customdata": [
          [
           "41903",
           "UTS"
          ],
          [
           "31338",
           "UTS"
          ],
          [
           "48450",
           "UTS"
          ],
          [
           "42036",
           "UTS"
          ],
          [
           "31261",
           "UTS"
          ],
          [
           "31277",
           "UTS"
          ],
          [
           "41905",
           "UTS"
          ],
          [
           "32011",
           "UTS"
          ],
          [
           "42037",
           "UTS"
          ],
          [
           "32009",
           "UTS"
          ],
          [
           "31275",
           "UTS"
          ],
          [
           "48033",
           "UTS"
          ],
          [
           "41891",
           "UTS"
          ],
          [
           "41890",
           "UTS"
          ]
         ],
         "hovertemplate": "major=NETW<br>uni=%{customdata[1]}<br>x=%{x}<br>y=%{y}<br>subject_code=%{customdata[0]}<extra></extra>",
         "legendgroup": "NETW, UTS",
         "marker": {
          "color": "#ab63fa",
          "symbol": "circle"
         },
         "mode": "markers",
         "name": "NETW, UTS",
         "orientation": "v",
         "showlegend": true,
         "type": "scatter",
         "x": [
          -18.260229110717773,
          -17.969301223754883,
          -18.597381591796875,
          -23.531295776367188,
          -15.697073936462402,
          -19.686996459960938,
          -18.447837829589844,
          -21.055543899536133,
          -22.60628890991211,
          -20.91090202331543,
          -15.368729591369629,
          -7.041234970092773,
          -16.081586837768555,
          -21.51072120666504
         ],
         "xaxis": "x",
         "y": [
          -8.664695739746094,
          -11.213330268859863,
          -25.997047424316406,
          -11.074910163879395,
          -9.826142311096191,
          -8.281163215637207,
          -4.6974196434021,
          -8.654695510864258,
          -11.056561470031738,
          -8.43225383758545,
          -1.3436065912246704,
          -1.8527878522872925,
          -15.606162071228027,
          -10.968864440917969
         ],
         "yaxis": "y"
        },
        {
         "customdata": [
          [
           "CSEC3616",
           "USYD"
          ],
          [
           "CSEC3888",
           "USYD"
          ]
         ],
         "hovertemplate": "major=NETW<br>uni=%{customdata[1]}<br>x=%{x}<br>y=%{y}<br>subject_code=%{customdata[0]}<extra></extra>",
         "legendgroup": "NETW, USYD",
         "marker": {
          "color": "#ab63fa",
          "symbol": "diamond"
         },
         "mode": "markers",
         "name": "NETW, USYD",
         "orientation": "v",
         "showlegend": true,
         "type": "scatter",
         "x": [
          -21.678714752197266,
          -20.706180572509766
         ],
         "xaxis": "x",
         "y": [
          -17.48762321472168,
          -18.8839168548584
         ],
         "yaxis": "y"
        },
        {
         "customdata": [
          [
           "31247",
           "UTS"
          ],
          [
           "48270",
           "UTS"
          ],
          [
           "31276",
           "UTS"
          ],
          [
           "31280",
           "UTS"
          ],
          [
           "31097",
           "UTS"
          ],
          [
           "31255",
           "UTS"
          ],
          [
           "31258",
           "UTS"
          ],
          [
           "31245",
           "UTS"
          ]
         ],
         "hovertemplate": "major=BUSI<br>uni=%{customdata[1]}<br>x=%{x}<br>y=%{y}<br>subject_code=%{customdata[0]}<extra></extra>",
         "legendgroup": "BUSI, UTS",
         "marker": {
          "color": "#FFA15A",
          "symbol": "circle"
         },
         "mode": "markers",
         "name": "BUSI, UTS",
         "orientation": "v",
         "showlegend": true,
         "type": "scatter",
         "x": [
          -11.911108016967773,
          -15.321467399597168,
          -13.288225173950195,
          -14.123985290527344,
          -15.263636589050293,
          -14.838265419006348,
          -12.822783470153809,
          -13.37745475769043
         ],
         "xaxis": "x",
         "y": [
          -13.77245807647705,
          21.64397430419922,
          -14.152205467224121,
          -10.975176811218262,
          -12.038555145263672,
          -11.251949310302734,
          -12.509968757629395,
          -13.504691123962402
         ],
         "yaxis": "y"
        },
        {
         "customdata": [
          [
           "42913",
           "UTS"
          ],
          [
           "41077",
           "UTS"
          ],
          [
           "42050",
           "UTS"
          ],
          [
           "41040",
           "UTS"
          ],
          [
           "31256",
           "UTS"
          ],
          [
           "43023",
           "UTS"
          ],
          [
           "57304",
           "UTS"
          ],
          [
           "31243",
           "UTS"
          ],
          [
           "41004",
           "UTS"
          ],
          [
           "32146",
           "UTS"
          ],
          [
           "41043",
           "UTS"
          ],
          [
           "43024",
           "UTS"
          ]
         ],
         "hovertemplate": "major=ARTI<br>uni=%{customdata[1]}<br>x=%{x}<br>y=%{y}<br>subject_code=%{customdata[0]}<extra></extra>",
         "legendgroup": "ARTI, UTS",
         "marker": {
          "color": "#19d3f3",
          "symbol": "circle"
         },
         "mode": "markers",
         "name": "ARTI, UTS",
         "orientation": "v",
         "showlegend": true,
         "type": "scatter",
         "x": [
          4.865143775939941,
          3.760720729827881,
          3.362238645553589,
          0.36814096570014954,
          5.672313690185547,
          1.524559497833252,
          2.869762659072876,
          3.5135135650634766,
          4.283719062805176,
          4.529712677001953,
          0.6257020235061646,
          0.6220980882644653
         ],
         "xaxis": "x",
         "y": [
          -19.89468002319336,
          -16.05453109741211,
          -23.18283462524414,
          -19.42443084716797,
          -4.615321159362793,
          -18.967605590820312,
          -18.013599395751953,
          -21.008113861083984,
          -20.847543716430664,
          -22.149311065673828,
          -20.359392166137695,
          -19.147045135498047
         ],
         "yaxis": "y"
        },
        {
         "customdata": [
          [
           "DATA1901",
           "USYD"
          ],
          [
           "COMP3530",
           "USYD"
          ],
          [
           "DATA3888",
           "USYD"
          ],
          [
           "DATA1001",
           "USYD"
          ]
         ],
         "hovertemplate": "major=ARTI<br>uni=%{customdata[1]}<br>x=%{x}<br>y=%{y}<br>subject_code=%{customdata[0]}<extra></extra>",
         "legendgroup": "ARTI, USYD",
         "marker": {
          "color": "#19d3f3",
          "symbol": "diamond"
         },
         "mode": "markers",
         "name": "ARTI, USYD",
         "orientation": "v",
         "showlegend": true,
         "type": "scatter",
         "x": [
          8.855714797973633,
          -6.1700568199157715,
          7.865711212158203,
          8.877791404724121
         ],
         "xaxis": "x",
         "y": [
          -23.55449104309082,
          -28.610551834106445,
          -24.629493713378906,
          -23.340227127075195
         ],
         "yaxis": "y"
        },
        {
         "customdata": [
          [
           "41305",
           "UTS"
          ],
          [
           "41108",
           "UTS"
          ],
          [
           "41308",
           "UTS"
          ],
          [
           "41386",
           "UTS"
          ],
          [
           "41381",
           "UTS"
          ],
          [
           "41380",
           "UTS"
          ],
          [
           "41301",
           "UTS"
          ],
          [
           "43015",
           "UTS"
          ],
          [
           "41383",
           "UTS"
          ],
          [
           "41382",
           "UTS"
          ],
          [
           "41117",
           "UTS"
          ],
          [
           "41385",
           "UTS"
          ],
          [
           "65212",
           "UTS"
          ],
          [
           "41384",
           "UTS"
          ]
         ],
         "hovertemplate": "major=CHEM<br>uni=%{customdata[1]}<br>x=%{x}<br>y=%{y}<br>subject_code=%{customdata[0]}<extra></extra>",
         "legendgroup": "CHEM, UTS",
         "marker": {
          "color": "#FF6692",
          "symbol": "circle"
         },
         "mode": "markers",
         "name": "CHEM, UTS",
         "orientation": "v",
         "showlegend": true,
         "type": "scatter",
         "x": [
          -6.290759563446045,
          0.6770007610321045,
          7.791106700897217,
          -7.611408233642578,
          -4.074729919433594,
          -4.065889358520508,
          0.025624046102166176,
          -2.622727870941162,
          -6.919652938842773,
          -6.559716701507568,
          -5.95491361618042,
          -6.86280632019043,
          5.867535591125488,
          -5.349193572998047
         ],
         "xaxis": "x",
         "y": [
          -1.5827387571334839,
          13.849684715270996,
          3.6107499599456787,
          22.51093292236328,
          24.01706886291504,
          21.87003517150879,
          14.621541976928711,
          21.69686508178711,
          21.828283309936523,
          22.983999252319336,
          21.63705825805664,
          21.963228225708008,
          30.618988037109375,
          22.665573120117188
         ],
         "yaxis": "y"
        },
        {
         "customdata": [
          [
           "41082",
           "UTS"
          ],
          [
           "41092",
           "UTS"
          ],
          [
           "41091",
           "UTS"
          ]
         ],
         "hovertemplate": "major=DATA<br>uni=%{customdata[1]}<br>x=%{x}<br>y=%{y}<br>subject_code=%{customdata[0]}<extra></extra>",
         "legendgroup": "DATA, UTS",
         "marker": {
          "color": "#B6E880",
          "symbol": "circle"
         },
         "mode": "markers",
         "name": "DATA, UTS",
         "orientation": "v",
         "showlegend": true,
         "type": "scatter",
         "x": [
          -1.3406293392181396,
          -19.202062606811523,
          -1.4467982053756714
         ],
         "xaxis": "x",
         "y": [
          -7.11351203918457,
          -8.145224571228027,
          -7.209081649780273
         ],
         "yaxis": "y"
        },
        {
         "customdata": [
          [
           "35005",
           "UTS"
          ],
          [
           "37234",
           "UTS"
          ],
          [
           "37252",
           "UTS"
          ],
          [
           "35007",
           "UTS"
          ],
          [
           "37373",
           "UTS"
          ],
          [
           "35006",
           "UTS"
          ]
         ],
         "hovertemplate": "major=MATH<br>uni=%{customdata[1]}<br>x=%{x}<br>y=%{y}<br>subject_code=%{customdata[0]}<extra></extra>",
         "legendgroup": "MATH, UTS",
         "marker": {
          "color": "#FF97FF",
          "symbol": "circle"
         },
         "mode": "markers",
         "name": "MATH, UTS",
         "orientation": "v",
         "showlegend": true,
         "type": "scatter",
         "x": [
          12.666464805603027,
          11.478524208068848,
          12.380834579467773,
          12.639272689819336,
          4.697216033935547,
          8.534449577331543
         ],
         "xaxis": "x",
         "y": [
          -14.794425964355469,
          -15.108327865600586,
          -18.06740379333496,
          -13.835014343261719,
          -25.675302505493164,
          -15.658764839172363
         ],
         "yaxis": "y"
        },
        {
         "customdata": [
          [
           "49261",
           "UTS"
          ],
          [
           "91705",
           "UTS"
          ],
          [
           "42724",
           "UTS"
          ],
          [
           "91400",
           "UTS"
          ],
          [
           "42026",
           "UTS"
          ],
          [
           "41099",
           "UTS"
          ],
          [
           "42722",
           "UTS"
          ],
          [
           "43021",
           "UTS"
          ],
          [
           "41163",
           "UTS"
          ],
          [
           "26101",
           "UTS"
          ],
          [
           "42001",
           "UTS"
          ],
          [
           "41162",
           "UTS"
          ],
          [
           "31061",
           "UTS"
          ],
          [
           "41161",
           "UTS"
          ],
          [
           "43022",
           "UTS"
          ],
          [
           "41160",
           "UTS"
          ],
          [
           "91822",
           "UTS"
          ],
          [
           "48023",
           "UTS"
          ]
         ],
         "hovertemplate": "major=BIOM<br>uni=%{customdata[1]}<br>x=%{x}<br>y=%{y}<br>subject_code=%{customdata[0]}<extra></extra>",
         "legendgroup": "BIOM, UTS",
         "marker": {
          "color": "#FECB52",
          "symbol": "circle"
         },
         "mode": "markers",
         "name": "BIOM, UTS",
         "orientation": "v",
         "showlegend": true,
         "type": "scatter",
         "x": [
          20.85946273803711,
          20.13778305053711,
          25.565141677856445,
          39.546016693115234,
          23.470348358154297,
          1.8639898300170898,
          23.938512802124023,
          22.271406173706055,
          22.775636672973633,
          21.626007080078125,
          21.471973419189453,
          21.423507690429688,
          -7.224284648895264,
          18.801719665527344,
          22.662744522094727,
          21.715988159179688,
          24.470943450927734,
          -5.448138236999512
         ],
         "xaxis": "x",
         "y": [
          4.243027210235596,
          3.708199977874756,
          5.197432994842529,
          -5.277594566345215,
          4.519741535186768,
          8.952037811279297,
          3.053056478500366,
          2.7260289192199707,
          3.7216453552246094,
          -6.810557842254639,
          0.3173079788684845,
          3.2546164989471436,
          -19.03704071044922,
          4.323126792907715,
          2.320138692855835,
          4.197665214538574,
          -1.3854835033416748,
          -17.497426986694336
         ],
         "yaxis": "y"
        },
        {
         "customdata": [
          [
           "BMET2901",
           "USYD"
          ],
          [
           "BMET5944",
           "USYD"
          ],
          [
           "CHEM1991",
           "USYD"
          ],
          [
           "BMET3961",
           "USYD"
          ],
          [
           "BMET2960",
           "USYD"
          ],
          [
           "BMET5933",
           "USYD"
          ],
          [
           "BMET5964",
           "USYD"
          ],
          [
           "BMET3921",
           "USYD"
          ],
          [
           "BMET4010",
           "USYD"
          ],
          [
           "BMET5953",
           "USYD"
          ],
          [
           "BMET5958",
           "USYD"
          ],
          [
           "BMET3971",
           "USYD"
          ],
          [
           "BMET5962",
           "USYD"
          ],
          [
           "BMET3802",
           "USYD"
          ],
          [
           "BMET5996",
           "USYD"
          ],
          [
           "BMET4981",
           "USYD"
          ],
          [
           "BMET1961",
           "USYD"
          ],
          [
           "BMET5963",
           "USYD"
          ],
          [
           "BMET5934",
           "USYD"
          ],
          [
           "BMET5959",
           "USYD"
          ],
          [
           "BMET3660",
           "USYD"
          ],
          [
           "BMET2925",
           "USYD"
          ],
          [
           "BMET5995",
           "USYD"
          ],
          [
           "BMET3990",
           "USYD"
          ],
          [
           "BMET5957",
           "USYD"
          ],
          [
           "BMET2400",
           "USYD"
          ],
          [
           "CHEM1111",
           "USYD"
          ],
          [
           "BMET5911",
           "USYD"
          ],
          [
           "BMET5907",
           "USYD"
          ],
          [
           "BMET2903",
           "USYD"
          ],
          [
           "CHEM1911",
           "USYD"
          ],
          [
           "BMET5931",
           "USYD"
          ],
          [
           "BMET2922",
           "USYD"
          ],
          [
           "BMET2902",
           "USYD"
          ],
          [
           "BMET3997",
           "USYD"
          ],
          [
           "BMET5992",
           "USYD"
          ]
         ],
         "hovertemplate": "major=BIOM<br>uni=%{customdata[1]}<br>x=%{x}<br>y=%{y}<br>subject_code=%{customdata[0]}<extra></extra>",
         "legendgroup": "BIOM, USYD",
         "marker": {
          "color": "#FECB52",
          "symbol": "diamond"
         },
         "mode": "markers",
         "name": "BIOM, USYD",
         "orientation": "v",
         "showlegend": true,
         "type": "scatter",
         "x": [
          18.911521911621094,
          21.155284881591797,
          7.594013690948486,
          21.81020164489746,
          20.638893127441406,
          19.627792358398438,
          23.517045974731445,
          19.207374572753906,
          15.8771390914917,
          18.399396896362305,
          25.555442810058594,
          22.372220993041992,
          22.9702091217041,
          23.605865478515625,
          -15.045005798339844,
          20.119619369506836,
          22.406639099121094,
          25.698192596435547,
          18.299697875976562,
          24.223979949951172,
          19.987417221069336,
          19.20038604736328,
          22.57794761657715,
          18.170766830444336,
          23.314279556274414,
          19.23657989501953,
          7.170755863189697,
          25.641231536865234,
          20.010787963867188,
          24.97764015197754,
          7.5295820236206055,
          25.093183517456055,
          18.632259368896484,
          22.509002685546875,
          -15.045005798339844,
          18.489830017089844
         ],
         "xaxis": "x",
         "y": [
          9.5205659866333,
          8.54504680633545,
          30.76154899597168,
          8.033510208129883,
          12.737125396728516,
          -0.5698907971382141,
          7.292587757110596,
          6.239714622497559,
          9.329631805419922,
          7.587865352630615,
          7.960300922393799,
          6.128963470458984,
          7.5293450355529785,
          12.423866271972656,
          -36.12409973144531,
          8.080794334411621,
          6.9744415283203125,
          5.5412211418151855,
          1.433117151260376,
          8.838528633117676,
          7.2656145095825195,
          -3.483093738555908,
          10.383034706115723,
          5.804869174957275,
          10.737133026123047,
          8.714792251586914,
          30.629117965698242,
          8.381722450256348,
          9.681990623474121,
          9.74215316772461,
          30.933795928955078,
          7.3251495361328125,
          1.4320361614227295,
          12.33500862121582,
          -36.12409973144531,
          5.272410869598389
         ],
         "yaxis": "y"
        },
        {
         "customdata": [
          [
           "31748",
           "UTS"
          ],
          [
           "41020",
           "UTS"
          ],
          [
           "41021",
           "UTS"
          ],
          [
           "31263",
           "UTS"
          ],
          [
           "31080",
           "UTS"
          ],
          [
           "31262",
           "UTS"
          ],
          [
           "41019",
           "UTS"
          ]
         ],
         "hovertemplate": "major=INTE<br>uni=%{customdata[1]}<br>x=%{x}<br>y=%{y}<br>subject_code=%{customdata[0]}<extra></extra>",
         "legendgroup": "INTE, UTS",
         "marker": {
          "color": "#636efa",
          "symbol": "circle"
         },
         "mode": "markers",
         "name": "INTE, UTS",
         "orientation": "v",
         "showlegend": true,
         "type": "scatter",
         "x": [
          -18.07767677307129,
          -4.9384002685546875,
          -5.035486221313477,
          -3.555208683013916,
          -1.2909306287765503,
          -3.610349655151367,
          -4.599348068237305
         ],
         "xaxis": "x",
         "y": [
          -13.02141284942627,
          -8.837265014648438,
          -11.24113655090332,
          -12.960597038269043,
          -11.122121810913086,
          -12.76905345916748,
          -10.138518333435059
         ],
         "yaxis": "y"
        },
        {
         "customdata": [
          [
           "48850",
           "UTS"
          ],
          [
           "43123",
           "UTS"
          ],
          [
           "41124",
           "UTS"
          ],
          [
           "41125",
           "UTS"
          ],
          [
           "43026",
           "UTS"
          ],
          [
           "68412",
           "UTS"
          ],
          [
           "48572",
           "UTS"
          ],
          [
           "43124",
           "UTS"
          ],
          [
           "48550",
           "UTS"
          ],
          [
           "48531",
           "UTS"
          ],
          [
           "48582",
           "UTS"
          ],
          [
           "48520",
           "UTS"
          ],
          [
           "48561",
           "UTS"
          ]
         ],
         "hovertemplate": "major=RENE<br>uni=%{customdata[1]}<br>x=%{x}<br>y=%{y}<br>subject_code=%{customdata[0]}<extra></extra>",
         "legendgroup": "RENE, UTS",
         "marker": {
          "color": "#EF553B",
          "symbol": "circle"
         },
         "mode": "markers",
         "name": "RENE, UTS",
         "orientation": "v",
         "showlegend": true,
         "type": "scatter",
         "x": [
          -10.6769380569458,
          -9.351926803588867,
          -9.839181900024414,
          -9.28660774230957,
          -10.114249229431152,
          -3.4301254749298096,
          -7.54985237121582,
          -9.285392761230469,
          -8.937582015991211,
          -5.265655040740967,
          -7.620377540588379,
          -4.312262535095215,
          -6.314405918121338
         ],
         "xaxis": "x",
         "y": [
          24.661991119384766,
          16.737497329711914,
          14.30805492401123,
          15.276430130004883,
          15.063337326049805,
          17.322166442871094,
          7.885074138641357,
          15.773320198059082,
          14.490008354187012,
          9.116948127746582,
          8.274932861328125,
          6.681200981140137,
          8.2440185546875
         ],
         "yaxis": "y"
        },
        {
         "customdata": [
          [
           "37262",
           "UTS"
          ],
          [
           "37233",
           "UTS"
          ],
          [
           "37161",
           "UTS"
          ]
         ],
         "hovertemplate": "major=MATH - QUAN<br>uni=%{customdata[1]}<br>x=%{x}<br>y=%{y}<br>subject_code=%{customdata[0]}<extra></extra>",
         "legendgroup": "MATH - QUAN, UTS",
         "marker": {
          "color": "#00cc96",
          "symbol": "circle"
         },
         "mode": "markers",
         "name": "MATH - QUAN, UTS",
         "orientation": "v",
         "showlegend": true,
         "type": "scatter",
         "x": [
          11.287750244140625,
          9.63811206817627,
          11.267038345336914
         ],
         "xaxis": "x",
         "y": [
          -18.833669662475586,
          -16.178316116333008,
          -19.020999908447266
         ],
         "yaxis": "y"
        },
        {
         "customdata": [
          [
           "41889",
           "UTS"
          ],
          [
           "31260",
           "UTS"
          ],
          [
           "31777",
           "UTS"
          ],
          [
           "31927",
           "UTS"
          ]
         ],
         "hovertemplate": "major=ENTE - INTE<br>uni=%{customdata[1]}<br>x=%{x}<br>y=%{y}<br>subject_code=%{customdata[0]}<extra></extra>",
         "legendgroup": "ENTE - INTE, UTS",
         "marker": {
          "color": "#ab63fa",
          "symbol": "circle"
         },
         "mode": "markers",
         "name": "ENTE - INTE, UTS",
         "orientation": "v",
         "showlegend": true,
         "type": "scatter",
         "x": [
          -5.3904619216918945,
          -5.467782020568848,
          -5.781774997711182,
          -6.461877346038818
         ],
         "xaxis": "x",
         "y": [
          -15.155150413513184,
          -10.253506660461426,
          -9.7990083694458,
          -16.470460891723633
         ],
         "yaxis": "y"
        },
        {
         "customdata": [
          [
           "31271",
           "UTS"
          ]
         ],
         "hovertemplate": "major=DATA - SOFT<br>uni=%{customdata[1]}<br>x=%{x}<br>y=%{y}<br>subject_code=%{customdata[0]}<extra></extra>",
         "legendgroup": "DATA - SOFT, UTS",
         "marker": {
          "color": "#FFA15A",
          "symbol": "circle"
         },
         "mode": "markers",
         "name": "DATA - SOFT, UTS",
         "orientation": "v",
         "showlegend": true,
         "type": "scatter",
         "x": [
          -7.296644687652588
         ],
         "xaxis": "x",
         "y": [
          -19.175037384033203
         ],
         "yaxis": "y"
        },
        {
         "customdata": [
          [
           "41173",
           "UTS"
          ],
          [
           "41172",
           "UTS"
          ],
          [
           "41076",
           "UTS"
          ],
          [
           "41175",
           "UTS"
          ],
          [
           "41174",
           "UTS"
          ],
          [
           "41171",
           "UTS"
          ]
         ],
         "hovertemplate": "major=QUAN<br>uni=%{customdata[1]}<br>x=%{x}<br>y=%{y}<br>subject_code=%{customdata[0]}<extra></extra>",
         "legendgroup": "QUAN, UTS",
         "marker": {
          "color": "#19d3f3",
          "symbol": "circle"
         },
         "mode": "markers",
         "name": "QUAN, UTS",
         "orientation": "v",
         "showlegend": true,
         "type": "scatter",
         "x": [
          -1.6084673404693604,
          0.1115550771355629,
          -0.9728207588195801,
          -0.3559461832046509,
          -1.1224784851074219,
          -1.5055173635482788
         ],
         "xaxis": "x",
         "y": [
          -16.721969604492188,
          -16.15252685546875,
          -16.404809951782227,
          -15.69139575958252,
          -17.400737762451172,
          -15.793216705322266
         ],
         "yaxis": "y"
        },
        {
         "customdata": [
          [
           "60101",
           "UTS"
          ]
         ],
         "hovertemplate": "major=CHEM - CIVI - RENE<br>uni=%{customdata[1]}<br>x=%{x}<br>y=%{y}<br>subject_code=%{customdata[0]}<extra></extra>",
         "legendgroup": "CHEM - CIVI - RENE, UTS",
         "marker": {
          "color": "#FF6692",
          "symbol": "circle"
         },
         "mode": "markers",
         "name": "CHEM - CIVI - RENE, UTS",
         "orientation": "v",
         "showlegend": true,
         "type": "scatter",
         "x": [
          0.5962652564048767
         ],
         "xaxis": "x",
         "y": [
          18.083276748657227
         ],
         "yaxis": "y"
        },
        {
         "customdata": [
          [
           "41113",
           "UTS"
          ],
          [
           "41026",
           "UTS"
          ],
          [
           "31242",
           "UTS"
          ],
          [
           "41025",
           "UTS"
          ],
          [
           "31253",
           "UTS"
          ]
         ],
         "hovertemplate": "major=ENTE<br>uni=%{customdata[1]}<br>x=%{x}<br>y=%{y}<br>subject_code=%{customdata[0]}<extra></extra>",
         "legendgroup": "ENTE, UTS",
         "marker": {
          "color": "#B6E880",
          "symbol": "circle"
         },
         "mode": "markers",
         "name": "ENTE, UTS",
         "orientation": "v",
         "showlegend": true,
         "type": "scatter",
         "x": [
          -6.661779880523682,
          -7.590141773223877,
          -17.6766414642334,
          -7.02423620223999,
          -7.773064613342285
         ],
         "xaxis": "x",
         "y": [
          -13.871582984924316,
          -15.040228843688965,
          -13.423649787902832,
          -15.261211395263672,
          -19.154417037963867
         ],
         "yaxis": "y"
        },
        {
         "customdata": [
          [
           "41001",
           "UTS"
          ]
         ],
         "hovertemplate": "major=DATA - ENTE<br>uni=%{customdata[1]}<br>x=%{x}<br>y=%{y}<br>subject_code=%{customdata[0]}<extra></extra>",
         "legendgroup": "DATA - ENTE, UTS",
         "marker": {
          "color": "#FF97FF",
          "symbol": "circle"
         },
         "mode": "markers",
         "name": "DATA - ENTE, UTS",
         "orientation": "v",
         "showlegend": true,
         "type": "scatter",
         "x": [
          -15.997574806213379
         ],
         "xaxis": "x",
         "y": [
          -15.81086254119873
         ],
         "yaxis": "y"
        },
        {
         "customdata": [
          [
           "31250",
           "UTS"
          ]
         ],
         "hovertemplate": "major=ARTI - BIOM - DATA - INTE - QUAN<br>uni=%{customdata[1]}<br>x=%{x}<br>y=%{y}<br>subject_code=%{customdata[0]}<extra></extra>",
         "legendgroup": "ARTI - BIOM - DATA - INTE - QUAN, UTS",
         "marker": {
          "color": "#FECB52",
          "symbol": "circle"
         },
         "mode": "markers",
         "name": "ARTI - BIOM - DATA - INTE - QUAN, UTS",
         "orientation": "v",
         "showlegend": true,
         "type": "scatter",
         "x": [
          4.168561935424805
         ],
         "xaxis": "x",
         "y": [
          -21.497644424438477
         ],
         "yaxis": "y"
        },
        {
         "customdata": [
          [
           "41088",
           "UTS"
          ],
          [
           "41089",
           "UTS"
          ]
         ],
         "hovertemplate": "major=ELEC - RENE<br>uni=%{customdata[1]}<br>x=%{x}<br>y=%{y}<br>subject_code=%{customdata[0]}<extra></extra>",
         "legendgroup": "ELEC - RENE, UTS",
         "marker": {
          "color": "#636efa",
          "symbol": "circle"
         },
         "mode": "markers",
         "name": "ELEC - RENE, UTS",
         "orientation": "v",
         "showlegend": true,
         "type": "scatter",
         "x": [
          -3.6253437995910645,
          -3.7528483867645264
         ],
         "xaxis": "x",
         "y": [
          -3.2364981174468994,
          -3.1383161544799805
         ],
         "yaxis": "y"
        },
        {
         "customdata": [
          [
           "48641",
           "UTS"
          ],
          [
           "48350",
           "UTS"
          ]
         ],
         "hovertemplate": "major=CHEM - CIVI<br>uni=%{customdata[1]}<br>x=%{x}<br>y=%{y}<br>subject_code=%{customdata[0]}<extra></extra>",
         "legendgroup": "CHEM - CIVI, UTS",
         "marker": {
          "color": "#EF553B",
          "symbol": "circle"
         },
         "mode": "markers",
         "name": "CHEM - CIVI, UTS",
         "orientation": "v",
         "showlegend": true,
         "type": "scatter",
         "x": [
          -3.534412384033203,
          -9.884995460510254
         ],
         "xaxis": "x",
         "y": [
          24.873106002807617,
          26.157819747924805
         ],
         "yaxis": "y"
        },
        {
         "customdata": [
          [
           "41030",
           "UTS"
          ],
          [
           "41029",
           "UTS"
          ]
         ],
         "hovertemplate": "major=BIOM - CHEM - CIVI - DATA - ELEC - MECH - RENE - SOFT<br>uni=%{customdata[1]}<br>x=%{x}<br>y=%{y}<br>subject_code=%{customdata[0]}<extra></extra>",
         "legendgroup": "BIOM - CHEM - CIVI - DATA - ELEC - MECH - RENE - SOFT, UTS",
         "marker": {
          "color": "#00cc96",
          "symbol": "circle"
         },
         "mode": "markers",
         "name": "BIOM - CHEM - CIVI - DATA - ELEC - MECH - RENE - SOFT, UTS",
         "orientation": "v",
         "showlegend": true,
         "type": "scatter",
         "x": [
          -16.819347381591797,
          -13.905272483825684
         ],
         "xaxis": "x",
         "y": [
          20.950746536254883,
          23.23259925842285
         ],
         "yaxis": "y"
        },
        {
         "customdata": [
          [
           "31257",
           "UTS"
          ],
          [
           "31282",
           "UTS"
          ]
         ],
         "hovertemplate": "major=BUSI - SOFT<br>uni=%{customdata[1]}<br>x=%{x}<br>y=%{y}<br>subject_code=%{customdata[0]}<extra></extra>",
         "legendgroup": "BUSI - SOFT, UTS",
         "marker": {
          "color": "#ab63fa",
          "symbol": "circle"
         },
         "mode": "markers",
         "name": "BUSI - SOFT, UTS",
         "orientation": "v",
         "showlegend": true,
         "type": "scatter",
         "x": [
          -10.88105297088623,
          -9.041315078735352
         ],
         "xaxis": "x",
         "y": [
          -15.35624885559082,
          -14.339675903320312
         ],
         "yaxis": "y"
        },
        {
         "customdata": [
          [
           "41180",
           "UTS"
          ],
          [
           "41181",
           "UTS"
          ],
          [
           "41182",
           "UTS"
          ],
          [
           "41183",
           "UTS"
          ],
          [
           "41184",
           "UTS"
          ],
          [
           "41185",
           "UTS"
          ]
         ],
         "hovertemplate": "major=CYBE<br>uni=%{customdata[1]}<br>x=%{x}<br>y=%{y}<br>subject_code=%{customdata[0]}<extra></extra>",
         "legendgroup": "CYBE, UTS",
         "marker": {
          "color": "#FFA15A",
          "symbol": "circle"
         },
         "mode": "markers",
         "name": "CYBE, UTS",
         "orientation": "v",
         "showlegend": true,
         "type": "scatter",
         "x": [
          -24.230249404907227,
          -21.40340805053711,
          -21.87975311279297,
          -22.733694076538086,
          -21.70053482055664,
          -22.606733322143555
         ],
         "xaxis": "x",
         "y": [
          -14.107919692993164,
          -13.194816589355469,
          -14.011927604675293,
          -13.801440238952637,
          -14.491705894470215,
          -13.37236213684082
         ],
         "yaxis": "y"
        },
        {
         "customdata": [
          [
           "48436",
           "UTS"
          ],
          [
           "41900",
           "UTS"
          ]
         ],
         "hovertemplate": "major=CYBE - NETW<br>uni=%{customdata[1]}<br>x=%{x}<br>y=%{y}<br>subject_code=%{customdata[0]}<extra></extra>",
         "legendgroup": "CYBE - NETW, UTS",
         "marker": {
          "color": "#19d3f3",
          "symbol": "circle"
         },
         "mode": "markers",
         "name": "CYBE - NETW, UTS",
         "orientation": "v",
         "showlegend": true,
         "type": "scatter",
         "x": [
          -24.010400772094727,
          -23.38742446899414
         ],
         "xaxis": "x",
         "y": [
          -12.755481719970703,
          -15.243840217590332
         ],
         "yaxis": "y"
        },
        {
         "customdata": [
          [
           "65111",
           "UTS"
          ]
         ],
         "hovertemplate": "major=BIOM - CIVI<br>uni=%{customdata[1]}<br>x=%{x}<br>y=%{y}<br>subject_code=%{customdata[0]}<extra></extra>",
         "legendgroup": "BIOM - CIVI, UTS",
         "marker": {
          "color": "#FF6692",
          "symbol": "circle"
         },
         "mode": "markers",
         "name": "BIOM - CIVI, UTS",
         "orientation": "v",
         "showlegend": true,
         "type": "scatter",
         "x": [
          5.881519794464111
         ],
         "xaxis": "x",
         "y": [
          30.543710708618164
         ],
         "yaxis": "y"
        },
        {
         "customdata": [
          [
           "48730",
           "UTS"
          ]
         ],
         "hovertemplate": "major=CYBE - DATA - NETW<br>uni=%{customdata[1]}<br>x=%{x}<br>y=%{y}<br>subject_code=%{customdata[0]}<extra></extra>",
         "legendgroup": "CYBE - DATA - NETW, UTS",
         "marker": {
          "color": "#B6E880",
          "symbol": "circle"
         },
         "mode": "markers",
         "name": "CYBE - DATA - NETW, UTS",
         "orientation": "v",
         "showlegend": true,
         "type": "scatter",
         "x": [
          -22.25984001159668
         ],
         "xaxis": "x",
         "y": [
          -12.249427795410156
         ],
         "yaxis": "y"
        },
        {
         "customdata": [
          [
           "41052",
           "UTS"
          ]
         ],
         "hovertemplate": "major=ENTE - QUAN<br>uni=%{customdata[1]}<br>x=%{x}<br>y=%{y}<br>subject_code=%{customdata[0]}<extra></extra>",
         "legendgroup": "ENTE - QUAN, UTS",
         "marker": {
          "color": "#FF97FF",
          "symbol": "circle"
         },
         "mode": "markers",
         "name": "ENTE - QUAN, UTS",
         "orientation": "v",
         "showlegend": true,
         "type": "scatter",
         "x": [
          -2.6247904300689697
         ],
         "xaxis": "x",
         "y": [
          -19.566226959228516
         ],
         "yaxis": "y"
        },
        {
         "customdata": [
          [
           "48510",
           "UTS"
          ]
         ],
         "hovertemplate": "major=BIOM - RENE<br>uni=%{customdata[1]}<br>x=%{x}<br>y=%{y}<br>subject_code=%{customdata[0]}<extra></extra>",
         "legendgroup": "BIOM - RENE, UTS",
         "marker": {
          "color": "#FECB52",
          "symbol": "circle"
         },
         "mode": "markers",
         "name": "BIOM - RENE, UTS",
         "orientation": "v",
         "showlegend": true,
         "type": "scatter",
         "x": [
          -4.517932415008545
         ],
         "xaxis": "x",
         "y": [
          7.389777183532715
         ],
         "yaxis": "y"
        },
        {
         "customdata": [
          [
           "42028",
           "UTS"
          ],
          [
           "43025",
           "UTS"
          ]
         ],
         "hovertemplate": "major=ARTI - QUAN<br>uni=%{customdata[1]}<br>x=%{x}<br>y=%{y}<br>subject_code=%{customdata[0]}<extra></extra>",
         "legendgroup": "ARTI - QUAN, UTS",
         "marker": {
          "color": "#636efa",
          "symbol": "circle"
         },
         "mode": "markers",
         "name": "ARTI - QUAN, UTS",
         "orientation": "v",
         "showlegend": true,
         "type": "scatter",
         "x": [
          1.5907502174377441,
          -0.4560793340206146
         ],
         "xaxis": "x",
         "y": [
          -22.28424835205078,
          -16.689279556274414
         ],
         "yaxis": "y"
        },
        {
         "customdata": [
          [
           "48433",
           "UTS"
          ]
         ],
         "hovertemplate": "major=ENTE - SOFT<br>uni=%{customdata[1]}<br>x=%{x}<br>y=%{y}<br>subject_code=%{customdata[0]}<extra></extra>",
         "legendgroup": "ENTE - SOFT, UTS",
         "marker": {
          "color": "#EF553B",
          "symbol": "circle"
         },
         "mode": "markers",
         "name": "ENTE - SOFT, UTS",
         "orientation": "v",
         "showlegend": true,
         "type": "scatter",
         "x": [
          -8.714245796203613
         ],
         "xaxis": "x",
         "y": [
          -16.61436653137207
         ],
         "yaxis": "y"
        },
        {
         "customdata": [
          [
           "SOFT2412",
           "USYD"
          ],
          [
           "SOFT3202",
           "USYD"
          ],
          [
           "SOFT2201",
           "USYD"
          ],
          [
           "SOFT3888",
           "USYD"
          ],
          [
           "INFO3315",
           "USYD"
          ]
         ],
         "hovertemplate": "major=ENTE - SOFT<br>uni=%{customdata[1]}<br>x=%{x}<br>y=%{y}<br>subject_code=%{customdata[0]}<extra></extra>",
         "legendgroup": "ENTE - SOFT, USYD",
         "marker": {
          "color": "#EF553B",
          "symbol": "diamond"
         },
         "mode": "markers",
         "name": "ENTE - SOFT, USYD",
         "orientation": "v",
         "showlegend": true,
         "type": "scatter",
         "x": [
          -12.60888385772705,
          -8.488078117370605,
          -8.396739959716797,
          -13.38205337524414,
          -6.190574645996094
         ],
         "xaxis": "x",
         "y": [
          -19.644601821899414,
          -23.707786560058594,
          -23.77361297607422,
          -20.6754207611084,
          -8.398163795471191
         ],
         "yaxis": "y"
        },
        {
         "customdata": [
          [
           "31005",
           "UTS"
          ]
         ],
         "hovertemplate": "major=ARTI - DATA - QUAN<br>uni=%{customdata[1]}<br>x=%{x}<br>y=%{y}<br>subject_code=%{customdata[0]}<extra></extra>",
         "legendgroup": "ARTI - DATA - QUAN, UTS",
         "marker": {
          "color": "#00cc96",
          "symbol": "circle"
         },
         "mode": "markers",
         "name": "ARTI - DATA - QUAN, UTS",
         "orientation": "v",
         "showlegend": true,
         "type": "scatter",
         "x": [
          2.3689064979553223
         ],
         "xaxis": "x",
         "y": [
          -21.407400131225586
         ],
         "yaxis": "y"
        },
        {
         "customdata": [
          [
           "91161",
           "UTS"
          ]
         ],
         "hovertemplate": "major=BIOM - CHEM<br>uni=%{customdata[1]}<br>x=%{x}<br>y=%{y}<br>subject_code=%{customdata[0]}<extra></extra>",
         "legendgroup": "BIOM - CHEM, UTS",
         "marker": {
          "color": "#ab63fa",
          "symbol": "circle"
         },
         "mode": "markers",
         "name": "BIOM - CHEM, UTS",
         "orientation": "v",
         "showlegend": true,
         "type": "scatter",
         "x": [
          24.60371208190918
         ],
         "xaxis": "x",
         "y": [
          -1.4908406734466553
         ],
         "yaxis": "y"
        },
        {
         "customdata": [
          [
           "41039",
           "UTS"
          ]
         ],
         "hovertemplate": "major=DATA - RENE - SOFT<br>uni=%{customdata[1]}<br>x=%{x}<br>y=%{y}<br>subject_code=%{customdata[0]}<extra></extra>",
         "legendgroup": "DATA - RENE - SOFT, UTS",
         "marker": {
          "color": "#FFA15A",
          "symbol": "circle"
         },
         "mode": "markers",
         "name": "DATA - RENE - SOFT, UTS",
         "orientation": "v",
         "showlegend": true,
         "type": "scatter",
         "x": [
          -4.656149387359619
         ],
         "xaxis": "x",
         "y": [
          -17.545663833618164
         ],
         "yaxis": "y"
        },
        {
         "customdata": [
          [
           "ELEC2104",
           "USYD"
          ],
          [
           "ELEC3204",
           "USYD"
          ]
         ],
         "hovertemplate": "major=ELEC - MECH - SOFT<br>uni=%{customdata[1]}<br>x=%{x}<br>y=%{y}<br>subject_code=%{customdata[0]}<extra></extra>",
         "legendgroup": "ELEC - MECH - SOFT, USYD",
         "marker": {
          "color": "#19d3f3",
          "symbol": "diamond"
         },
         "mode": "markers",
         "name": "ELEC - MECH - SOFT, USYD",
         "orientation": "v",
         "showlegend": true,
         "type": "scatter",
         "x": [
          -5.61908483505249,
          -7.021120548248291
         ],
         "xaxis": "x",
         "y": [
          4.358373641967773,
          6.574625492095947
         ],
         "yaxis": "y"
        },
        {
         "customdata": [
          [
           "COMP3109",
           "USYD"
          ],
          [
           "COMP2922",
           "USYD"
          ],
          [
           "COMP3419",
           "USYD"
          ],
          [
           "COMP2022",
           "USYD"
          ]
         ],
         "hovertemplate": "major=COMP - SOFT<br>uni=%{customdata[1]}<br>x=%{x}<br>y=%{y}<br>subject_code=%{customdata[0]}<extra></extra>",
         "legendgroup": "COMP - SOFT, USYD",
         "marker": {
          "color": "#FF6692",
          "symbol": "diamond"
         },
         "mode": "markers",
         "name": "COMP - SOFT, USYD",
         "orientation": "v",
         "showlegend": true,
         "type": "scatter",
         "x": [
          -7.820300579071045,
          -1.0728788375854492,
          0.6152716279029846,
          -1.0726490020751953
         ],
         "xaxis": "x",
         "y": [
          -26.215484619140625,
          -32.420711517333984,
          -10.647387504577637,
          -32.420223236083984
         ],
         "yaxis": "y"
        },
        {
         "customdata": [
          [
           "ELEC5507",
           "USYD"
          ],
          [
           "ELEC3607",
           "USYD"
          ],
          [
           "ELEC3304",
           "USYD"
          ],
          [
           "ELEC5511",
           "USYD"
          ],
          [
           "ELEC5213",
           "USYD"
          ],
          [
           "ELEC5205",
           "USYD"
          ],
          [
           "PHYS1003",
           "USYD"
          ],
          [
           "ELEC5622",
           "USYD"
          ],
          [
           "ELEC5618",
           "USYD"
          ],
          [
           "ELEC5208",
           "USYD"
          ],
          [
           "ELEC5619",
           "USYD"
          ],
          [
           "PHYS2213",
           "USYD"
          ],
          [
           "ELEC5204",
           "USYD"
          ],
          [
           "ELEC3104",
           "USYD"
          ],
          [
           "ELEC5212",
           "USYD"
          ],
          [
           "ELEC1601",
           "USYD"
          ],
          [
           "ELEC5510",
           "USYD"
          ],
          [
           "ELEC3702",
           "USYD"
          ],
          [
           "ELEC3610",
           "USYD"
          ],
          [
           "ELEC3305",
           "USYD"
          ],
          [
           "ELEC5101",
           "USYD"
          ],
          [
           "ELEC3206",
           "USYD"
          ],
          [
           "ELEC5517",
           "USYD"
          ],
          [
           "ELEC5307",
           "USYD"
          ],
          [
           "ELEC5203",
           "USYD"
          ],
          [
           "ELEC3505",
           "USYD"
          ],
          [
           "ELEC5306",
           "USYD"
          ],
          [
           "ELEC2302",
           "USYD"
          ],
          [
           "ELEC5701",
           "USYD"
          ],
          [
           "ELEC5516",
           "USYD"
          ],
          [
           "ELEC2103",
           "USYD"
          ],
          [
           "ELEC5760",
           "USYD"
          ],
          [
           "COMP4216",
           "USYD"
          ],
          [
           "COMP4447",
           "USYD"
          ],
          [
           "ELEC2602",
           "USYD"
          ],
          [
           "ELEC3802",
           "USYD"
          ],
          [
           "ELEC5305",
           "USYD"
          ],
          [
           "COMP4426",
           "USYD"
          ],
          [
           "ELEC2100",
           "USYD"
          ],
          [
           "ELEC4714",
           "USYD"
          ],
          [
           "ELEC5514",
           "USYD"
          ],
          [
           "ELEC5304",
           "USYD"
          ],
          [
           "ELEC3803",
           "USYD"
          ],
          [
           "ELEC5518",
           "USYD"
          ],
          [
           "ELEC5308",
           "USYD"
          ],
          [
           "ELEC5207",
           "USYD"
          ],
          [
           "ELEC3404",
           "USYD"
          ],
          [
           "ELEC5616",
           "USYD"
          ],
          [
           "ELEC5211",
           "USYD"
          ],
          [
           "ELEC3609",
           "USYD"
          ],
          [
           "ELEC5620",
           "USYD"
          ],
          [
           "PHYS1001",
           "USYD"
          ],
          [
           "ELEC5509",
           "USYD"
          ],
          [
           "ELEC5508",
           "USYD"
          ],
          [
           "ELEC3608",
           "USYD"
          ],
          [
           "ELEC3203",
           "USYD"
          ],
          [
           "ELEC3612",
           "USYD"
          ],
          [
           "ELEC5512",
           "USYD"
          ],
          [
           "ELEC3405",
           "USYD"
          ],
          [
           "ELEC4505",
           "USYD"
          ],
          [
           "ELEC5206",
           "USYD"
          ]
         ],
         "hovertemplate": "major=ELEC - SOFT<br>uni=%{customdata[1]}<br>x=%{x}<br>y=%{y}<br>subject_code=%{customdata[0]}<extra></extra>",
         "legendgroup": "ELEC - SOFT, USYD",
         "marker": {
          "color": "#B6E880",
          "symbol": "diamond"
         },
         "mode": "markers",
         "name": "ELEC - SOFT, USYD",
         "orientation": "v",
         "showlegend": true,
         "type": "scatter",
         "x": [
          -10.759552955627441,
          -1.2141858339309692,
          -8.191892623901367,
          -13.955452919006348,
          -11.450645446777344,
          -8.603086471557617,
          -4.171306133270264,
          6.199639320373535,
          -10.21397876739502,
          -10.46765422821045,
          -14.059854507446289,
          -4.214188098907471,
          -9.622224807739258,
          -4.464402675628662,
          -11.708747863769531,
          -2.172502040863037,
          -12.43708610534668,
          -15.184161186218262,
          -13.225883483886719,
          2.5548431873321533,
          -13.98389720916748,
          -6.813939571380615,
          -18.38309669494629,
          4.524198532104492,
          -11.445928573608398,
          -11.779741287231445,
          4.1006059646606445,
          -8.584762573242188,
          -15.045005798339844,
          -7.422361850738525,
          -10.378918647766113,
          -15.045005798339844,
          -15.428223609924316,
          -7.333738327026367,
          -2.2157676219940186,
          23.669038772583008,
          3.283512830734253,
          -14.936264991760254,
          -4.879082679748535,
          -15.066313743591309,
          -7.535762786865234,
          4.658276081085205,
          -15.045005798339844,
          -7.645808696746826,
          2.86016845703125,
          -8.984625816345215,
          -6.127382278442383,
          -22.83953094482422,
          -9.136775970458984,
          -14.134778022766113,
          -10.628853797912598,
          -4.22741174697876,
          -15.014607429504395,
          -14.327751159667969,
          -1.8829785585403442,
          -9.973373413085938,
          3.75462007522583,
          -14.548182487487793,
          -13.397826194763184,
          -11.812914848327637,
          -8.767827987670898
         ],
         "xaxis": "x",
         "y": [
          2.6080312728881836,
          2.8108139038085938,
          4.943314552307129,
          2.343513250350952,
          6.297415733337402,
          9.339914321899414,
          14.968297958374023,
          -2.5002102851867676,
          -5.642918586730957,
          9.867875099182129,
          -6.4280476570129395,
          12.447307586669922,
          9.02548599243164,
          11.609633445739746,
          9.268104553222656,
          2.034374952316284,
          1.2016931772232056,
          15.502942085266113,
          -5.666512966156006,
          0.09918611496686935,
          4.665645122528076,
          10.02658748626709,
          -4.5738725662231445,
          -2.8287503719329834,
          6.456103324890137,
          1.9367588758468628,
          -4.432804107666016,
          4.214881420135498,
          -36.12409973144531,
          1.7059074640274048,
          5.180716514587402,
          -36.12409973144531,
          -20.637165069580078,
          -3.5663764476776123,
          3.696899890899658,
          12.481144905090332,
          -0.08928735554218292,
          -26.20347785949707,
          4.572447299957275,
          13.68720531463623,
          0.8977658152580261,
          -3.2098710536956787,
          -36.12409973144531,
          0.012781176716089249,
          -2.455230474472046,
          11.171602249145508,
          5.576627731323242,
          -17.697372436523438,
          8.048426628112793,
          -6.471533298492432,
          -4.90349006652832,
          15.122274398803711,
          -0.8433389067649841,
          0.0018311361782252789,
          1.495261311531067,
          8.363485336303711,
          -2.6561331748962402,
          2.290297269821167,
          2.5119659900665283,
          1.7975449562072754,
          12.207728385925293
         ],
         "yaxis": "y"
        },
        {
         "customdata": [
          [
           "AMME5060",
           "USYD"
          ],
          [
           "MECH3261",
           "USYD"
          ],
          [
           "AMME5902",
           "USYD"
          ],
          [
           "AMME5105",
           "USYD"
          ],
          [
           "AMME5104",
           "USYD"
          ],
          [
           "MTRX1705",
           "USYD"
          ],
          [
           "MECH1400",
           "USYD"
          ],
          [
           "MECH3260",
           "USYD"
          ],
          [
           "MECH5265",
           "USYD"
          ],
          [
           "AMME4010",
           "USYD"
          ],
          [
           "AMME4401",
           "USYD"
          ],
          [
           "MECH2401",
           "USYD"
          ],
          [
           "MTRX1702",
           "USYD"
          ],
          [
           "AMME5292",
           "USYD"
          ],
          [
           "MTRX5700",
           "USYD"
          ],
          [
           "AMME5912",
           "USYD"
          ],
          [
           "MECH5311",
           "USYD"
          ],
          [
           "AMME2500",
           "USYD"
          ],
          [
           "MECH5720",
           "USYD"
          ],
          [
           "MECH2460",
           "USYD"
          ],
          [
           "AMME5271",
           "USYD"
          ],
          [
           "MECH3362",
           "USYD"
          ],
          [
           "AMME2262",
           "USYD"
          ],
          [
           "MECH5275",
           "USYD"
          ],
          [
           "MECH3460",
           "USYD"
          ],
          [
           "MECH5310",
           "USYD"
          ],
          [
           "MECH5255",
           "USYD"
          ],
          [
           "MECH2400",
           "USYD"
          ],
          [
           "AMME3500",
           "USYD"
          ],
          [
           "AMME5101",
           "USYD"
          ],
          [
           "AMME4710",
           "USYD"
          ],
          [
           "AMME5510",
           "USYD"
          ],
          [
           "MECH5305",
           "USYD"
          ],
          [
           "AMME2200",
           "USYD"
          ],
          [
           "AMME1705",
           "USYD"
          ],
          [
           "AMME2261",
           "USYD"
          ],
          [
           "AMME3060",
           "USYD"
          ],
          [
           "AMME2000",
           "USYD"
          ],
          [
           "MECH5304",
           "USYD"
          ],
          [
           "MTRX3760",
           "USYD"
          ],
          [
           "MECH4660",
           "USYD"
          ],
          [
           "AERO5750",
           "USYD"
          ],
          [
           "AMME5520",
           "USYD"
          ],
          [
           "MTRX2700",
           "USYD"
          ],
          [
           "AMME5202",
           "USYD"
          ],
          [
           "AMME5310",
           "USYD"
          ],
          [
           "MTRX3700",
           "USYD"
          ],
          [
           "MECH4460",
           "USYD"
          ],
          [
           "MECH5461",
           "USYD"
          ]
         ],
         "hovertemplate": "major=MECH<br>uni=%{customdata[1]}<br>x=%{x}<br>y=%{y}<br>subject_code=%{customdata[0]}<extra></extra>",
         "legendgroup": "MECH, USYD",
         "marker": {
          "color": "#FF97FF",
          "symbol": "diamond"
         },
         "mode": "markers",
         "name": "MECH, USYD",
         "orientation": "v",
         "showlegend": true,
         "type": "scatter",
         "x": [
          5.9172892570495605,
          2.511320114135742,
          11.584009170532227,
          -20.68815040588379,
          -13.749470710754395,
          0.30562126636505127,
          7.987827301025391,
          0.037867654114961624,
          1.211830973625183,
          15.015024185180664,
          7.726792335510254,
          7.555882930755615,
          3.9298949241638184,
          3.240840435028076,
          5.663221836090088,
          6.791061878204346,
          11.912049293518066,
          5.565147876739502,
          4.274429798126221,
          10.233967781066895,
          8.313597679138184,
          9.486953735351562,
          1.4051584005355835,
          -7.3122758865356445,
          7.992152214050293,
          11.078094482421875,
          0.9280458092689514,
          7.893553733825684,
          5.768492221832275,
          -0.6986125111579895,
          6.181053638458252,
          6.5015482902526855,
          11.411565780639648,
          -0.34425851702690125,
          0.7786054015159607,
          2.32761812210083,
          5.323539733886719,
          5.022642135620117,
          10.860613822937012,
          4.695192813873291,
          -14.639810562133789,
          7.5433454513549805,
          7.70233678817749,
          4.927065849304199,
          4.111412525177002,
          4.259998321533203,
          5.3241143226623535,
          10.076406478881836,
          10.078452110290527
         ],
         "xaxis": "x",
         "y": [
          23.928075790405273,
          24.661090850830078,
          17.262489318847656,
          9.012693405151367,
          16.52450942993164,
          6.310013771057129,
          14.156529426574707,
          22.096607208251953,
          23.447608947753906,
          9.825490951538086,
          12.558095932006836,
          12.5535888671875,
          6.6179585456848145,
          24.308855056762695,
          8.274121284484863,
          22.118473052978516,
          21.685997009277344,
          20.3603572845459,
          2.5421249866485596,
          16.082971572875977,
          23.91763687133789,
          20.024295806884766,
          21.832612991333008,
          16.196990966796875,
          19.92399787902832,
          20.167089462280273,
          21.291696548461914,
          14.438690185546875,
          19.01622772216797,
          21.586402893066406,
          -4.394054412841797,
          17.061800003051758,
          19.790132522583008,
          23.827648162841797,
          7.01565408706665,
          24.961578369140625,
          23.423372268676758,
          22.811614990234375,
          20.47351837158203,
          7.352332592010498,
          15.834784507751465,
          7.7536773681640625,
          9.265149116516113,
          6.0883355140686035,
          24.40768051147461,
          20.183509826660156,
          6.191471099853516,
          12.725983619689941,
          16.61105728149414
         ],
         "yaxis": "y"
        },
        {
         "customdata": [
          [
           "BMET5790",
           "USYD"
          ],
          [
           "AMME2301",
           "USYD"
          ],
          [
           "AMME1802",
           "USYD"
          ],
          [
           "MECH3361",
           "USYD"
          ],
          [
           "AMME1362",
           "USYD"
          ]
         ],
         "hovertemplate": "major=BIOM - MECH<br>uni=%{customdata[1]}<br>x=%{x}<br>y=%{y}<br>subject_code=%{customdata[0]}<extra></extra>",
         "legendgroup": "BIOM - MECH, USYD",
         "marker": {
          "color": "#FECB52",
          "symbol": "diamond"
         },
         "mode": "markers",
         "name": "BIOM - MECH, USYD",
         "orientation": "v",
         "showlegend": true,
         "type": "scatter",
         "x": [
          21.88413429260254,
          8.00853443145752,
          5.76083517074585,
          8.014928817749023,
          10.725197792053223
         ],
         "xaxis": "x",
         "y": [
          10.38552474975586,
          21.395156860351562,
          20.862035751342773,
          21.20709991455078,
          21.265348434448242
         ],
         "yaxis": "y"
        },
        {
         "customdata": [
          [
           "COMP3888",
           "USYD"
          ],
          [
           "COMP3988",
           "USYD"
          ]
         ],
         "hovertemplate": "major=COMP<br>uni=%{customdata[1]}<br>x=%{x}<br>y=%{y}<br>subject_code=%{customdata[0]}<extra></extra>",
         "legendgroup": "COMP, USYD",
         "marker": {
          "color": "#636efa",
          "symbol": "diamond"
         },
         "mode": "markers",
         "name": "COMP, USYD",
         "orientation": "v",
         "showlegend": true,
         "type": "scatter",
         "x": [
          -13.709874153137207,
          -13.658120155334473
         ],
         "xaxis": "x",
         "y": [
          -21.06040382385254,
          -21.184736251831055
         ],
         "yaxis": "y"
        },
        {
         "customdata": [
          [
           "COMP3308",
           "USYD"
          ]
         ],
         "hovertemplate": "major=ARTI - COMP - MECH - SOFT<br>uni=%{customdata[1]}<br>x=%{x}<br>y=%{y}<br>subject_code=%{customdata[0]}<extra></extra>",
         "legendgroup": "ARTI - COMP - MECH - SOFT, USYD",
         "marker": {
          "color": "#EF553B",
          "symbol": "diamond"
         },
         "mode": "markers",
         "name": "ARTI - COMP - MECH - SOFT, USYD",
         "orientation": "v",
         "showlegend": true,
         "type": "scatter",
         "x": [
          -1.8635008335113525
         ],
         "xaxis": "x",
         "y": [
          -24.608814239501953
         ],
         "yaxis": "y"
        },
        {
         "customdata": [
          [
           "MATH2061",
           "USYD"
          ]
         ],
         "hovertemplate": "major=CIVI - ELEC - SOFT<br>uni=%{customdata[1]}<br>x=%{x}<br>y=%{y}<br>subject_code=%{customdata[0]}<extra></extra>",
         "legendgroup": "CIVI - ELEC - SOFT, USYD",
         "marker": {
          "color": "#00cc96",
          "symbol": "diamond"
         },
         "mode": "markers",
         "name": "CIVI - ELEC - SOFT, USYD",
         "orientation": "v",
         "showlegend": true,
         "type": "scatter",
         "x": [
          11.765323638916016
         ],
         "xaxis": "x",
         "y": [
          -12.033892631530762
         ],
         "yaxis": "y"
        },
        {
         "customdata": [
          [
           "INFO1910",
           "USYD"
          ],
          [
           "INFO1110",
           "USYD"
          ]
         ],
         "hovertemplate": "major=ARTI - COMP - ENTE - NETW<br>uni=%{customdata[1]}<br>x=%{x}<br>y=%{y}<br>subject_code=%{customdata[0]}<extra></extra>",
         "legendgroup": "ARTI - COMP - ENTE - NETW, USYD",
         "marker": {
          "color": "#ab63fa",
          "symbol": "diamond"
         },
         "mode": "markers",
         "name": "ARTI - COMP - ENTE - NETW, USYD",
         "orientation": "v",
         "showlegend": true,
         "type": "scatter",
         "x": [
          -5.293193340301514,
          -5.260547161102295
         ],
         "xaxis": "x",
         "y": [
          -24.475502014160156,
          -24.114988327026367
         ],
         "yaxis": "y"
        },
        {
         "customdata": [
          [
           "COMP2017",
           "USYD"
          ]
         ],
         "hovertemplate": "major=COMP - ELEC - NETW - SOFT<br>uni=%{customdata[1]}<br>x=%{x}<br>y=%{y}<br>subject_code=%{customdata[0]}<extra></extra>",
         "legendgroup": "COMP - ELEC - NETW - SOFT, USYD",
         "marker": {
          "color": "#FFA15A",
          "symbol": "diamond"
         },
         "mode": "markers",
         "name": "COMP - ELEC - NETW - SOFT, USYD",
         "orientation": "v",
         "showlegend": true,
         "type": "scatter",
         "x": [
          -17.930612564086914
         ],
         "xaxis": "x",
         "y": [
          -27.526775360107422
         ],
         "yaxis": "y"
        },
        {
         "customdata": [
          [
           "COMP3221",
           "USYD"
          ]
         ],
         "hovertemplate": "major=COMP - NETW - SOFT<br>uni=%{customdata[1]}<br>x=%{x}<br>y=%{y}<br>subject_code=%{customdata[0]}<extra></extra>",
         "legendgroup": "COMP - NETW - SOFT, USYD",
         "marker": {
          "color": "#19d3f3",
          "symbol": "diamond"
         },
         "mode": "markers",
         "name": "COMP - NETW - SOFT, USYD",
         "orientation": "v",
         "showlegend": true,
         "type": "scatter",
         "x": [
          -17.005521774291992
         ],
         "xaxis": "x",
         "y": [
          -23.772493362426758
         ],
         "yaxis": "y"
        },
        {
         "customdata": [
          [
           "ISYS2120",
           "USYD"
          ]
         ],
         "hovertemplate": "major=NETW - SOFT<br>uni=%{customdata[1]}<br>x=%{x}<br>y=%{y}<br>subject_code=%{customdata[0]}<extra></extra>",
         "legendgroup": "NETW - SOFT, USYD",
         "marker": {
          "color": "#FF6692",
          "symbol": "diamond"
         },
         "mode": "markers",
         "name": "NETW - SOFT, USYD",
         "orientation": "v",
         "showlegend": true,
         "type": "scatter",
         "x": [
          -8.48269271850586
         ],
         "xaxis": "x",
         "y": [
          -20.164867401123047
         ],
         "yaxis": "y"
        },
        {
         "customdata": [
          [
           "COMP3027",
           "USYD"
          ],
          [
           "COMP3927",
           "USYD"
          ],
          [
           "COMP3608",
           "USYD"
          ]
         ],
         "hovertemplate": "major=ARTI - COMP - SOFT<br>uni=%{customdata[1]}<br>x=%{x}<br>y=%{y}<br>subject_code=%{customdata[0]}<extra></extra>",
         "legendgroup": "ARTI - COMP - SOFT, USYD",
         "marker": {
          "color": "#B6E880",
          "symbol": "diamond"
         },
         "mode": "markers",
         "name": "ARTI - COMP - SOFT, USYD",
         "orientation": "v",
         "showlegend": true,
         "type": "scatter",
         "x": [
          -3.942775249481201,
          -3.8627514839172363,
          -2.0234010219573975
         ],
         "xaxis": "x",
         "y": [
          -27.642343521118164,
          -27.67765998840332,
          -24.764251708984375
         ],
         "yaxis": "y"
        },
        {
         "customdata": [
          [
           "COMP2123",
           "USYD"
          ]
         ],
         "hovertemplate": "major=ARTI - COMP - ELEC - ENTE - SOFT<br>uni=%{customdata[1]}<br>x=%{x}<br>y=%{y}<br>subject_code=%{customdata[0]}<extra></extra>",
         "legendgroup": "ARTI - COMP - ELEC - ENTE - SOFT, USYD",
         "marker": {
          "color": "#FF97FF",
          "symbol": "diamond"
         },
         "mode": "markers",
         "name": "ARTI - COMP - ELEC - ENTE - SOFT, USYD",
         "orientation": "v",
         "showlegend": true,
         "type": "scatter",
         "x": [
          -1.8373284339904785
         ],
         "xaxis": "x",
         "y": [
          -27.84869956970215
         ],
         "yaxis": "y"
        },
        {
         "customdata": [
          [
           "DATA3404",
           "USYD"
          ],
          [
           "DATA2901",
           "USYD"
          ],
          [
           "DATA2002",
           "USYD"
          ],
          [
           "DATA2001",
           "USYD"
          ],
          [
           "DATA2902",
           "USYD"
          ],
          [
           "DATA3406",
           "USYD"
          ]
         ],
         "hovertemplate": "major=ARTI - SOFT<br>uni=%{customdata[1]}<br>x=%{x}<br>y=%{y}<br>subject_code=%{customdata[0]}<extra></extra>",
         "legendgroup": "ARTI - SOFT, USYD",
         "marker": {
          "color": "#FECB52",
          "symbol": "diamond"
         },
         "mode": "markers",
         "name": "ARTI - SOFT, USYD",
         "orientation": "v",
         "showlegend": true,
         "type": "scatter",
         "x": [
          2.211351156234741,
          5.866158485412598,
          9.044411659240723,
          5.905472755432129,
          9.136262893676758,
          6.900825500488281
         ],
         "xaxis": "x",
         "y": [
          -28.48599624633789,
          -25.480871200561523,
          -24.88128662109375,
          -25.459741592407227,
          -24.986961364746094,
          -21.98059844970703
         ],
         "yaxis": "y"
        },
        {
         "customdata": [
          [
           "ELEC3506",
           "USYD"
          ]
         ],
         "hovertemplate": "major=ELEC - NETW - SOFT<br>uni=%{customdata[1]}<br>x=%{x}<br>y=%{y}<br>subject_code=%{customdata[0]}<extra></extra>",
         "legendgroup": "ELEC - NETW - SOFT, USYD",
         "marker": {
          "color": "#636efa",
          "symbol": "diamond"
         },
         "mode": "markers",
         "name": "ELEC - NETW - SOFT, USYD",
         "orientation": "v",
         "showlegend": true,
         "type": "scatter",
         "x": [
          -19.427949905395508
         ],
         "xaxis": "x",
         "y": [
          -6.867120742797852
         ],
         "yaxis": "y"
        },
        {
         "customdata": [
          [
           "COMP2823",
           "USYD"
          ]
         ],
         "hovertemplate": "major=ARTI - COMP - ENTE - SOFT<br>uni=%{customdata[1]}<br>x=%{x}<br>y=%{y}<br>subject_code=%{customdata[0]}<extra></extra>",
         "legendgroup": "ARTI - COMP - ENTE - SOFT, USYD",
         "marker": {
          "color": "#EF553B",
          "symbol": "diamond"
         },
         "mode": "markers",
         "name": "ARTI - COMP - ENTE - SOFT, USYD",
         "orientation": "v",
         "showlegend": true,
         "type": "scatter",
         "x": [
          -1.8449517488479614
         ],
         "xaxis": "x",
         "y": [
          -27.847509384155273
         ],
         "yaxis": "y"
        },
        {
         "customdata": [
          [
           "INFO1113",
           "USYD"
          ]
         ],
         "hovertemplate": "major=COMP - ELEC - ENTE - NETW - SOFT<br>uni=%{customdata[1]}<br>x=%{x}<br>y=%{y}<br>subject_code=%{customdata[0]}<extra></extra>",
         "legendgroup": "COMP - ELEC - ENTE - NETW - SOFT, USYD",
         "marker": {
          "color": "#00cc96",
          "symbol": "diamond"
         },
         "mode": "markers",
         "name": "COMP - ELEC - ENTE - NETW - SOFT, USYD",
         "orientation": "v",
         "showlegend": true,
         "type": "scatter",
         "x": [
          -6.393103122711182
         ],
         "xaxis": "x",
         "y": [
          -23.666542053222656
         ],
         "yaxis": "y"
        },
        {
         "customdata": [
          [
           "COMP3520",
           "USYD"
          ]
         ],
         "hovertemplate": "major=COMP - ELEC - SOFT<br>uni=%{customdata[1]}<br>x=%{x}<br>y=%{y}<br>subject_code=%{customdata[0]}<extra></extra>",
         "legendgroup": "COMP - ELEC - SOFT, USYD",
         "marker": {
          "color": "#ab63fa",
          "symbol": "diamond"
         },
         "mode": "markers",
         "name": "COMP - ELEC - SOFT, USYD",
         "orientation": "v",
         "showlegend": true,
         "type": "scatter",
         "x": [
          -18.109790802001953
         ],
         "xaxis": "x",
         "y": [
          -25.71990394592285
         ],
         "yaxis": "y"
        },
        {
         "customdata": [
          [
           "COMP4318",
           "USYD"
          ]
         ],
         "hovertemplate": "major=MECH - SOFT<br>uni=%{customdata[1]}<br>x=%{x}<br>y=%{y}<br>subject_code=%{customdata[0]}<extra></extra>",
         "legendgroup": "MECH - SOFT, USYD",
         "marker": {
          "color": "#FFA15A",
          "symbol": "diamond"
         },
         "mode": "markers",
         "name": "MECH - SOFT, USYD",
         "orientation": "v",
         "showlegend": true,
         "type": "scatter",
         "x": [
          0.407019704580307
         ],
         "xaxis": "x",
         "y": [
          -24.520584106445312
         ],
         "yaxis": "y"
        }
       ],
       "layout": {
        "legend": {
         "title": {
          "text": "major, uni"
         },
         "tracegroupgap": 0
        },
        "margin": {
         "t": 60
        },
        "template": {
         "data": {
          "bar": [
           {
            "error_x": {
             "color": "#2a3f5f"
            },
            "error_y": {
             "color": "#2a3f5f"
            },
            "marker": {
             "line": {
              "color": "#E5ECF6",
              "width": 0.5
             },
             "pattern": {
              "fillmode": "overlay",
              "size": 10,
              "solidity": 0.2
             }
            },
            "type": "bar"
           }
          ],
          "barpolar": [
           {
            "marker": {
             "line": {
              "color": "#E5ECF6",
              "width": 0.5
             },
             "pattern": {
              "fillmode": "overlay",
              "size": 10,
              "solidity": 0.2
             }
            },
            "type": "barpolar"
           }
          ],
          "carpet": [
           {
            "aaxis": {
             "endlinecolor": "#2a3f5f",
             "gridcolor": "white",
             "linecolor": "white",
             "minorgridcolor": "white",
             "startlinecolor": "#2a3f5f"
            },
            "baxis": {
             "endlinecolor": "#2a3f5f",
             "gridcolor": "white",
             "linecolor": "white",
             "minorgridcolor": "white",
             "startlinecolor": "#2a3f5f"
            },
            "type": "carpet"
           }
          ],
          "choropleth": [
           {
            "colorbar": {
             "outlinewidth": 0,
             "ticks": ""
            },
            "type": "choropleth"
           }
          ],
          "contour": [
           {
            "colorbar": {
             "outlinewidth": 0,
             "ticks": ""
            },
            "colorscale": [
             [
              0,
              "#0d0887"
             ],
             [
              0.1111111111111111,
              "#46039f"
             ],
             [
              0.2222222222222222,
              "#7201a8"
             ],
             [
              0.3333333333333333,
              "#9c179e"
             ],
             [
              0.4444444444444444,
              "#bd3786"
             ],
             [
              0.5555555555555556,
              "#d8576b"
             ],
             [
              0.6666666666666666,
              "#ed7953"
             ],
             [
              0.7777777777777778,
              "#fb9f3a"
             ],
             [
              0.8888888888888888,
              "#fdca26"
             ],
             [
              1,
              "#f0f921"
             ]
            ],
            "type": "contour"
           }
          ],
          "contourcarpet": [
           {
            "colorbar": {
             "outlinewidth": 0,
             "ticks": ""
            },
            "type": "contourcarpet"
           }
          ],
          "heatmap": [
           {
            "colorbar": {
             "outlinewidth": 0,
             "ticks": ""
            },
            "colorscale": [
             [
              0,
              "#0d0887"
             ],
             [
              0.1111111111111111,
              "#46039f"
             ],
             [
              0.2222222222222222,
              "#7201a8"
             ],
             [
              0.3333333333333333,
              "#9c179e"
             ],
             [
              0.4444444444444444,
              "#bd3786"
             ],
             [
              0.5555555555555556,
              "#d8576b"
             ],
             [
              0.6666666666666666,
              "#ed7953"
             ],
             [
              0.7777777777777778,
              "#fb9f3a"
             ],
             [
              0.8888888888888888,
              "#fdca26"
             ],
             [
              1,
              "#f0f921"
             ]
            ],
            "type": "heatmap"
           }
          ],
          "heatmapgl": [
           {
            "colorbar": {
             "outlinewidth": 0,
             "ticks": ""
            },
            "colorscale": [
             [
              0,
              "#0d0887"
             ],
             [
              0.1111111111111111,
              "#46039f"
             ],
             [
              0.2222222222222222,
              "#7201a8"
             ],
             [
              0.3333333333333333,
              "#9c179e"
             ],
             [
              0.4444444444444444,
              "#bd3786"
             ],
             [
              0.5555555555555556,
              "#d8576b"
             ],
             [
              0.6666666666666666,
              "#ed7953"
             ],
             [
              0.7777777777777778,
              "#fb9f3a"
             ],
             [
              0.8888888888888888,
              "#fdca26"
             ],
             [
              1,
              "#f0f921"
             ]
            ],
            "type": "heatmapgl"
           }
          ],
          "histogram": [
           {
            "marker": {
             "pattern": {
              "fillmode": "overlay",
              "size": 10,
              "solidity": 0.2
             }
            },
            "type": "histogram"
           }
          ],
          "histogram2d": [
           {
            "colorbar": {
             "outlinewidth": 0,
             "ticks": ""
            },
            "colorscale": [
             [
              0,
              "#0d0887"
             ],
             [
              0.1111111111111111,
              "#46039f"
             ],
             [
              0.2222222222222222,
              "#7201a8"
             ],
             [
              0.3333333333333333,
              "#9c179e"
             ],
             [
              0.4444444444444444,
              "#bd3786"
             ],
             [
              0.5555555555555556,
              "#d8576b"
             ],
             [
              0.6666666666666666,
              "#ed7953"
             ],
             [
              0.7777777777777778,
              "#fb9f3a"
             ],
             [
              0.8888888888888888,
              "#fdca26"
             ],
             [
              1,
              "#f0f921"
             ]
            ],
            "type": "histogram2d"
           }
          ],
          "histogram2dcontour": [
           {
            "colorbar": {
             "outlinewidth": 0,
             "ticks": ""
            },
            "colorscale": [
             [
              0,
              "#0d0887"
             ],
             [
              0.1111111111111111,
              "#46039f"
             ],
             [
              0.2222222222222222,
              "#7201a8"
             ],
             [
              0.3333333333333333,
              "#9c179e"
             ],
             [
              0.4444444444444444,
              "#bd3786"
             ],
             [
              0.5555555555555556,
              "#d8576b"
             ],
             [
              0.6666666666666666,
              "#ed7953"
             ],
             [
              0.7777777777777778,
              "#fb9f3a"
             ],
             [
              0.8888888888888888,
              "#fdca26"
             ],
             [
              1,
              "#f0f921"
             ]
            ],
            "type": "histogram2dcontour"
           }
          ],
          "mesh3d": [
           {
            "colorbar": {
             "outlinewidth": 0,
             "ticks": ""
            },
            "type": "mesh3d"
           }
          ],
          "parcoords": [
           {
            "line": {
             "colorbar": {
              "outlinewidth": 0,
              "ticks": ""
             }
            },
            "type": "parcoords"
           }
          ],
          "pie": [
           {
            "automargin": true,
            "type": "pie"
           }
          ],
          "scatter": [
           {
            "fillpattern": {
             "fillmode": "overlay",
             "size": 10,
             "solidity": 0.2
            },
            "type": "scatter"
           }
          ],
          "scatter3d": [
           {
            "line": {
             "colorbar": {
              "outlinewidth": 0,
              "ticks": ""
             }
            },
            "marker": {
             "colorbar": {
              "outlinewidth": 0,
              "ticks": ""
             }
            },
            "type": "scatter3d"
           }
          ],
          "scattercarpet": [
           {
            "marker": {
             "colorbar": {
              "outlinewidth": 0,
              "ticks": ""
             }
            },
            "type": "scattercarpet"
           }
          ],
          "scattergeo": [
           {
            "marker": {
             "colorbar": {
              "outlinewidth": 0,
              "ticks": ""
             }
            },
            "type": "scattergeo"
           }
          ],
          "scattergl": [
           {
            "marker": {
             "colorbar": {
              "outlinewidth": 0,
              "ticks": ""
             }
            },
            "type": "scattergl"
           }
          ],
          "scattermapbox": [
           {
            "marker": {
             "colorbar": {
              "outlinewidth": 0,
              "ticks": ""
             }
            },
            "type": "scattermapbox"
           }
          ],
          "scatterpolar": [
           {
            "marker": {
             "colorbar": {
              "outlinewidth": 0,
              "ticks": ""
             }
            },
            "type": "scatterpolar"
           }
          ],
          "scatterpolargl": [
           {
            "marker": {
             "colorbar": {
              "outlinewidth": 0,
              "ticks": ""
             }
            },
            "type": "scatterpolargl"
           }
          ],
          "scatterternary": [
           {
            "marker": {
             "colorbar": {
              "outlinewidth": 0,
              "ticks": ""
             }
            },
            "type": "scatterternary"
           }
          ],
          "surface": [
           {
            "colorbar": {
             "outlinewidth": 0,
             "ticks": ""
            },
            "colorscale": [
             [
              0,
              "#0d0887"
             ],
             [
              0.1111111111111111,
              "#46039f"
             ],
             [
              0.2222222222222222,
              "#7201a8"
             ],
             [
              0.3333333333333333,
              "#9c179e"
             ],
             [
              0.4444444444444444,
              "#bd3786"
             ],
             [
              0.5555555555555556,
              "#d8576b"
             ],
             [
              0.6666666666666666,
              "#ed7953"
             ],
             [
              0.7777777777777778,
              "#fb9f3a"
             ],
             [
              0.8888888888888888,
              "#fdca26"
             ],
             [
              1,
              "#f0f921"
             ]
            ],
            "type": "surface"
           }
          ],
          "table": [
           {
            "cells": {
             "fill": {
              "color": "#EBF0F8"
             },
             "line": {
              "color": "white"
             }
            },
            "header": {
             "fill": {
              "color": "#C8D4E3"
             },
             "line": {
              "color": "white"
             }
            },
            "type": "table"
           }
          ]
         },
         "layout": {
          "annotationdefaults": {
           "arrowcolor": "#2a3f5f",
           "arrowhead": 0,
           "arrowwidth": 1
          },
          "autotypenumbers": "strict",
          "coloraxis": {
           "colorbar": {
            "outlinewidth": 0,
            "ticks": ""
           }
          },
          "colorscale": {
           "diverging": [
            [
             0,
             "#8e0152"
            ],
            [
             0.1,
             "#c51b7d"
            ],
            [
             0.2,
             "#de77ae"
            ],
            [
             0.3,
             "#f1b6da"
            ],
            [
             0.4,
             "#fde0ef"
            ],
            [
             0.5,
             "#f7f7f7"
            ],
            [
             0.6,
             "#e6f5d0"
            ],
            [
             0.7,
             "#b8e186"
            ],
            [
             0.8,
             "#7fbc41"
            ],
            [
             0.9,
             "#4d9221"
            ],
            [
             1,
             "#276419"
            ]
           ],
           "sequential": [
            [
             0,
             "#0d0887"
            ],
            [
             0.1111111111111111,
             "#46039f"
            ],
            [
             0.2222222222222222,
             "#7201a8"
            ],
            [
             0.3333333333333333,
             "#9c179e"
            ],
            [
             0.4444444444444444,
             "#bd3786"
            ],
            [
             0.5555555555555556,
             "#d8576b"
            ],
            [
             0.6666666666666666,
             "#ed7953"
            ],
            [
             0.7777777777777778,
             "#fb9f3a"
            ],
            [
             0.8888888888888888,
             "#fdca26"
            ],
            [
             1,
             "#f0f921"
            ]
           ],
           "sequentialminus": [
            [
             0,
             "#0d0887"
            ],
            [
             0.1111111111111111,
             "#46039f"
            ],
            [
             0.2222222222222222,
             "#7201a8"
            ],
            [
             0.3333333333333333,
             "#9c179e"
            ],
            [
             0.4444444444444444,
             "#bd3786"
            ],
            [
             0.5555555555555556,
             "#d8576b"
            ],
            [
             0.6666666666666666,
             "#ed7953"
            ],
            [
             0.7777777777777778,
             "#fb9f3a"
            ],
            [
             0.8888888888888888,
             "#fdca26"
            ],
            [
             1,
             "#f0f921"
            ]
           ]
          },
          "colorway": [
           "#636efa",
           "#EF553B",
           "#00cc96",
           "#ab63fa",
           "#FFA15A",
           "#19d3f3",
           "#FF6692",
           "#B6E880",
           "#FF97FF",
           "#FECB52"
          ],
          "font": {
           "color": "#2a3f5f"
          },
          "geo": {
           "bgcolor": "white",
           "lakecolor": "white",
           "landcolor": "#E5ECF6",
           "showlakes": true,
           "showland": true,
           "subunitcolor": "white"
          },
          "hoverlabel": {
           "align": "left"
          },
          "hovermode": "closest",
          "mapbox": {
           "style": "light"
          },
          "paper_bgcolor": "white",
          "plot_bgcolor": "#E5ECF6",
          "polar": {
           "angularaxis": {
            "gridcolor": "white",
            "linecolor": "white",
            "ticks": ""
           },
           "bgcolor": "#E5ECF6",
           "radialaxis": {
            "gridcolor": "white",
            "linecolor": "white",
            "ticks": ""
           }
          },
          "scene": {
           "xaxis": {
            "backgroundcolor": "#E5ECF6",
            "gridcolor": "white",
            "gridwidth": 2,
            "linecolor": "white",
            "showbackground": true,
            "ticks": "",
            "zerolinecolor": "white"
           },
           "yaxis": {
            "backgroundcolor": "#E5ECF6",
            "gridcolor": "white",
            "gridwidth": 2,
            "linecolor": "white",
            "showbackground": true,
            "ticks": "",
            "zerolinecolor": "white"
           },
           "zaxis": {
            "backgroundcolor": "#E5ECF6",
            "gridcolor": "white",
            "gridwidth": 2,
            "linecolor": "white",
            "showbackground": true,
            "ticks": "",
            "zerolinecolor": "white"
           }
          },
          "shapedefaults": {
           "line": {
            "color": "#2a3f5f"
           }
          },
          "ternary": {
           "aaxis": {
            "gridcolor": "white",
            "linecolor": "white",
            "ticks": ""
           },
           "baxis": {
            "gridcolor": "white",
            "linecolor": "white",
            "ticks": ""
           },
           "bgcolor": "#E5ECF6",
           "caxis": {
            "gridcolor": "white",
            "linecolor": "white",
            "ticks": ""
           }
          },
          "title": {
           "x": 0.05
          },
          "xaxis": {
           "automargin": true,
           "gridcolor": "white",
           "linecolor": "white",
           "ticks": "",
           "title": {
            "standoff": 15
           },
           "zerolinecolor": "white",
           "zerolinewidth": 2
          },
          "yaxis": {
           "automargin": true,
           "gridcolor": "white",
           "linecolor": "white",
           "ticks": "",
           "title": {
            "standoff": 15
           },
           "zerolinecolor": "white",
           "zerolinewidth": 2
          }
         }
        },
        "title": {
         "text": "t-SNE visualization of INSTRUCTOR embeddings of UTS and USYD subjects by Major"
        },
        "xaxis": {
         "anchor": "y",
         "domain": [
          0,
          1
         ],
         "title": {
          "text": "First t-SNE"
         }
        },
        "yaxis": {
         "anchor": "x",
         "domain": [
          0,
          1
         ],
         "title": {
          "text": "Second t-SNE"
         }
        }
       }
      }
     },
     "metadata": {},
     "output_type": "display_data"
    }
   ],
   "source": [
    "show_major_plot(\"instructor\")"
   ]
  },
  {
   "cell_type": "code",
   "execution_count": 172,
   "metadata": {},
   "outputs": [
    {
     "data": {
      "application/vnd.plotly.v1+json": {
       "config": {
        "plotlyServerURL": "https://plot.ly"
       },
       "data": [
        {
         "customdata": [
          [
           "48260",
           "UTS"
          ],
          [
           "31482",
           "UTS"
          ],
          [
           "92471",
           "UTS"
          ],
          [
           "41057",
           "UTS"
          ],
          [
           "93470",
           "UTS"
          ],
          [
           "41128",
           "UTS"
          ],
          [
           "41201",
           "UTS"
          ],
          [
           "32144",
           "UTS"
          ],
          [
           "41276",
           "UTS"
          ],
          [
           "16138",
           "UTS"
          ],
          [
           "93217",
           "UTS"
          ],
          [
           "93201",
           "UTS"
          ],
          [
           "48610",
           "UTS"
          ],
          [
           "93200",
           "UTS"
          ],
          [
           "41060",
           "UTS"
          ],
          [
           "16912",
           "UTS"
          ],
          [
           "93216",
           "UTS"
          ],
          [
           "31266",
           "UTS"
          ],
          [
           "91529",
           "UTS"
          ],
          [
           "41277",
           "UTS"
          ],
          [
           "16314",
           "UTS"
          ],
          [
           "41200",
           "UTS"
          ],
          [
           "41129",
           "UTS"
          ],
          [
           "48430",
           "UTS"
          ],
          [
           "41056",
           "UTS"
          ],
          [
           "92470",
           "UTS"
          ],
          [
           "93220",
           "UTS"
          ],
          [
           "92482",
           "UTS"
          ],
          [
           "41118",
           "UTS"
          ],
          [
           "93211",
           "UTS"
          ],
          [
           "93207",
           "UTS"
          ],
          [
           "41067",
           "UTS"
          ],
          [
           "93227",
           "UTS"
          ],
          [
           "92477",
           "UTS"
          ],
          [
           "93231",
           "UTS"
          ],
          [
           "43017",
           "UTS"
          ],
          [
           "41084",
           "UTS"
          ],
          [
           "42095",
           "UTS"
          ],
          [
           "41085",
           "UTS"
          ],
          [
           "68038",
           "UTS"
          ],
          [
           "41302",
           "UTS"
          ],
          [
           "16471",
           "UTS"
          ],
          [
           "93230",
           "UTS"
          ],
          [
           "92476",
           "UTS"
          ],
          [
           "48230",
           "UTS"
          ],
          [
           "91562",
           "UTS"
          ],
          [
           "93226",
           "UTS"
          ],
          [
           "93206",
           "UTS"
          ],
          [
           "41066",
           "UTS"
          ],
          [
           "93210",
           "UTS"
          ],
          [
           "41070",
           "UTS"
          ],
          [
           "49047",
           "UTS"
          ],
          [
           "48441",
           "UTS"
          ],
          [
           "33230",
           "UTS"
          ],
          [
           "93205",
           "UTS"
          ],
          [
           "93213",
           "UTS"
          ],
          [
           "68037",
           "UTS"
          ],
          [
           "43019",
           "UTS"
          ],
          [
           "92479",
           "UTS"
          ],
          [
           "92480",
           "UTS"
          ],
          [
           "93229",
           "UTS"
          ],
          [
           "37335",
           "UTS"
          ],
          [
           "41069",
           "UTS"
          ],
          [
           "41086",
           "UTS"
          ],
          [
           "93209",
           "UTS"
          ],
          [
           "41028",
           "UTS"
          ],
          [
           "93233",
           "UTS"
          ],
          [
           "41053",
           "UTS"
          ],
          [
           "48622",
           "UTS"
          ],
          [
           "92475",
           "UTS"
          ],
          [
           "41012",
           "UTS"
          ],
          [
           "91561",
           "UTS"
          ],
          [
           "93225",
           "UTS"
          ],
          [
           "93224",
           "UTS"
          ],
          [
           "41013",
           "UTS"
          ],
          [
           "92474",
           "UTS"
          ],
          [
           "93232",
           "UTS"
          ],
          [
           "43014",
           "UTS"
          ],
          [
           "48434",
           "UTS"
          ],
          [
           "16263",
           "UTS"
          ],
          [
           "37181",
           "UTS"
          ],
          [
           "41068",
           "UTS"
          ],
          [
           "41087",
           "UTS"
          ],
          [
           "93208",
           "UTS"
          ],
          [
           "48530",
           "UTS"
          ],
          [
           "93228",
           "UTS"
          ],
          [
           "37363",
           "UTS"
          ],
          [
           "92481",
           "UTS"
          ],
          [
           "92478",
           "UTS"
          ],
          [
           "32931",
           "UTS"
          ],
          [
           "43018",
           "UTS"
          ],
          [
           "93212",
           "UTS"
          ],
          [
           "93204",
           "UTS"
          ],
          [
           "41033",
           "UTS"
          ],
          [
           "41203",
           "UTS"
          ],
          [
           "41080",
           "UTS"
          ],
          [
           "48521",
           "UTS"
          ],
          [
           "41079",
           "UTS"
          ],
          [
           "93219",
           "UTS"
          ],
          [
           "41055",
           "UTS"
          ],
          [
           "48366",
           "UTS"
          ],
          [
           "92473",
           "UTS"
          ],
          [
           "48389",
           "UTS"
          ],
          [
           "41278",
           "UTS"
          ],
          [
           "91530",
           "UTS"
          ],
          [
           "49131",
           "UTS"
          ],
          [
           "48370",
           "UTS"
          ],
          [
           "41014",
           "UTS"
          ],
          [
           "93223",
           "UTS"
          ],
          [
           "41034",
           "UTS"
          ],
          [
           "93203",
           "UTS"
          ],
          [
           "33130",
           "UTS"
          ],
          [
           "49150",
           "UTS"
          ],
          [
           "31265",
           "UTS"
          ],
          [
           "41059",
           "UTS"
          ],
          [
           "48540",
           "UTS"
          ],
          [
           "41058",
           "UTS"
          ],
          [
           "49151",
           "UTS"
          ],
          [
           "93214",
           "UTS"
          ],
          [
           "41127",
           "UTS"
          ],
          [
           "93202",
           "UTS"
          ],
          [
           "41035",
           "UTS"
          ],
          [
           "31272",
           "UTS"
          ],
          [
           "93222",
           "UTS"
          ],
          [
           "48371",
           "UTS"
          ],
          [
           "92472",
           "UTS"
          ],
          [
           "16422",
           "UTS"
          ],
          [
           "41054",
           "UTS"
          ],
          [
           "31268",
           "UTS"
          ],
          [
           "41078",
           "UTS"
          ],
          [
           "93218",
           "UTS"
          ],
          [
           "41202",
           "UTS"
          ]
         ],
         "hovertemplate": "major=CORE/NONE<br>uni=%{customdata[1]}<br>x=%{x}<br>y=%{y}<br>subject_code=%{customdata[0]}<extra></extra>",
         "legendgroup": "CORE/NONE, UTS",
         "marker": {
          "color": "#636efa",
          "symbol": "circle"
         },
         "mode": "markers",
         "name": "CORE/NONE, UTS",
         "orientation": "v",
         "showlegend": true,
         "type": "scatter",
         "x": [
          -31.139423370361328,
          -35.809452056884766,
          -52.045928955078125,
          -28.63518524169922,
          -34.19859313964844,
          -20.188369750976562,
          -23.417551040649414,
          -33.61055374145508,
          -16.637327194213867,
          -8.925922393798828,
          -50.80638885498047,
          -52.88927459716797,
          -25.648597717285156,
          -51.1868782043457,
          -32.960174560546875,
          -11.119564056396484,
          -53.88581085205078,
          -31.59030532836914,
          -47.148048400878906,
          -38.85935592651367,
          -9.25001049041748,
          -22.42286491394043,
          -20.958477020263672,
          -20.05636978149414,
          -30.247724533081055,
          -53.899009704589844,
          -53.54881286621094,
          -52.90622329711914,
          -26.247562408447266,
          -51.06482696533203,
          -51.309085845947266,
          -33.192100524902344,
          -56.77347946166992,
          -53.818603515625,
          -54.986427307128906,
          -29.467552185058594,
          -28.801799774169922,
          -16.8609561920166,
          -28.65300941467285,
          -21.79703712463379,
          -18.676921844482422,
          -9.092769622802734,
          -50.72711181640625,
          -57.236637115478516,
          -32.27901840209961,
          -47.016544342041016,
          -56.253604888916016,
          -50.365440368652344,
          -33.09442901611328,
          -49.10417556762695,
          -34.18029022216797,
          -24.080717086791992,
          -20.966201782226562,
          -22.12246322631836,
          -55.53130340576172,
          -56.72660446166992,
          -37.21638870239258,
          -33.99705123901367,
          -51.71037673950195,
          -49.83400344848633,
          -53.88994216918945,
          -20.562971115112305,
          -33.23197555541992,
          -28.935949325561523,
          -54.88515090942383,
          -32.72501754760742,
          -53.55677795410156,
          -29.201818466186523,
          -20.825410842895508,
          -49.8172721862793,
          -19.138845443725586,
          -46.987205505371094,
          -50.94939041137695,
          -49.09175491333008,
          -31.911148071289062,
          -55.85572814941406,
          -52.740447998046875,
          -28.93072509765625,
          -22.267061233520508,
          -11.046875,
          -19.668701171875,
          -33.156036376953125,
          -28.562198638916016,
          -51.852317810058594,
          -34.98162078857422,
          -52.09973907470703,
          -20.79939842224121,
          -54.15869903564453,
          -55.10517883300781,
          -34.97060775756836,
          -29.38931655883789,
          -56.207672119140625,
          -52.116050720214844,
          -24.53232765197754,
          -23.741689682006836,
          -20.507125854492188,
          -26.532333374023438,
          -25.85972023010254,
          -52.8044548034668,
          -31.740352630615234,
          -33.50910568237305,
          -51.65902328491211,
          -31.498268127441406,
          -17.844636917114258,
          -46.9854736328125,
          -32.32478332519531,
          -28.623523712158203,
          -16.291269302368164,
          -54.88982391357422,
          -25.839391708374023,
          -56.389747619628906,
          -22.618839263916016,
          -32.58442306518555,
          -32.42238235473633,
          -34.253170013427734,
          -25.040456771850586,
          -29.415775299072266,
          -31.765417098999023,
          -52.12331771850586,
          -22.531532287597656,
          -53.49336242675781,
          -31.088666915893555,
          -14.4798583984375,
          -51.63719177246094,
          -27.38910484313965,
          -56.434818267822266,
          -9.17323112487793,
          -28.839733123779297,
          -27.638004302978516,
          -24.682113647460938,
          -54.92153549194336,
          -22.002880096435547
         ],
         "xaxis": "x",
         "y": [
          4.568976879119873,
          2.618271827697754,
          6.865052223205566,
          -13.336591720581055,
          12.4906644821167,
          -11.662798881530762,
          -17.580862045288086,
          3.078730344772339,
          -19.56454849243164,
          -6.675316333770752,
          4.270956039428711,
          2.2014236450195312,
          -7.895051956176758,
          2.6628577709198,
          -3.7723329067230225,
          -5.77925968170166,
          -0.770937442779541,
          2.512718439102173,
          3.3945977687835693,
          0.2758074700832367,
          -5.6996989250183105,
          -17.798673629760742,
          -11.977092742919922,
          -5.844507217407227,
          -9.655374526977539,
          5.485706329345703,
          3.8878493309020996,
          7.796218395233154,
          -14.863472938537598,
          0.49855583906173706,
          2.665372610092163,
          -7.160306930541992,
          2.283268451690674,
          6.644457817077637,
          -2.557980537414551,
          -4.28312349319458,
          5.2040276527404785,
          -16.118377685546875,
          5.078165054321289,
          3.660491704940796,
          -18.085779190063477,
          -4.817285060882568,
          4.315410614013672,
          4.280267715454102,
          3.894019603729248,
          -0.35117533802986145,
          -0.733275294303894,
          1.5705980062484741,
          -4.3738694190979,
          1.9456140995025635,
          -3.9218435287475586,
          1.4494189023971558,
          -8.043560028076172,
          1.177919626235962,
          3.0210390090942383,
          2.283719778060913,
          -6.502062797546387,
          -6.277808666229248,
          5.85113525390625,
          6.72864294052124,
          -0.8006761074066162,
          1.4334733486175537,
          -4.884892463684082,
          4.404254913330078,
          1.1594107151031494,
          5.824069976806641,
          3.849713087081909,
          -11.536401748657227,
          -8.070476531982422,
          6.795862674713135,
          -6.285274505615234,
          -0.31276974081993103,
          0.3515110909938812,
          1.9435186386108398,
          -1.8800219297409058,
          5.021169185638428,
          5.634968280792236,
          -10.571771621704102,
          -7.427907466888428,
          -5.8881754875183105,
          3.8692855834960938,
          -4.3279194831848145,
          4.472736358642578,
          1.1563947200775146,
          -0.9639272093772888,
          4.014583110809326,
          2.8356502056121826,
          2.411386728286743,
          4.048222064971924,
          3.3784375190734863,
          -8.617217063903809,
          -0.7116467952728271,
          2.445716142654419,
          -8.68946647644043,
          -17.459779739379883,
          -0.7541106939315796,
          -9.67550277709961,
          -15.079617500305176,
          5.631148815155029,
          6.725903034210205,
          -13.16715145111084,
          -0.17901134490966797,
          -10.475996017456055,
          -21.024539947509766,
          3.4350407123565674,
          -12.030226707458496,
          -16.8399715423584,
          -17.883434295654297,
          1.1375815868377686,
          -9.578984260559082,
          -2.0884828567504883,
          1.936506748199463,
          -12.60625171661377,
          3.799363613128662,
          -4.7062458992004395,
          0.3390040397644043,
          -8.331640243530273,
          -13.565289497375488,
          3.9901652336120605,
          -16.389766693115234,
          0.7238282561302185,
          6.177433013916016,
          -4.513011455535889,
          0.9988572001457214,
          -7.171370029449463,
          5.495355606079102,
          -5.837676048278809,
          -10.128518104553223,
          0.2610170543193817,
          -15.975229263305664,
          -2.5418715476989746,
          -17.496826171875
         ],
         "yaxis": "y"
        },
        {
         "customdata": [
          [
           "NURS1008",
           "USYD"
          ],
          [
           "NURS3019",
           "USYD"
          ],
          [
           "ENGP1002",
           "USYD"
          ],
          [
           "ENGG2112",
           "USYD"
          ],
          [
           "AMME4112",
           "USYD"
          ],
          [
           "NURS1004",
           "USYD"
          ],
          [
           "INFO4912",
           "USYD"
          ],
          [
           "NURS3015",
           "USYD"
          ],
          [
           "MATH1964",
           "USYD"
          ],
          [
           "INFO1911",
           "USYD"
          ],
          [
           "INFO4990",
           "USYD"
          ],
          [
           "ISYS5070",
           "USYD"
          ],
          [
           "ENGG3112",
           "USYD"
          ],
          [
           "INFO2150",
           "USYD"
          ],
          [
           "INFO4913",
           "USYD"
          ],
          [
           "NURS1005",
           "USYD"
          ],
          [
           "ENGP1003",
           "USYD"
          ],
          [
           "NURS2003",
           "USYD"
          ],
          [
           "HTIN4003",
           "USYD"
          ],
          [
           "INFO2222",
           "USYD"
          ],
          [
           "NURS3018",
           "USYD"
          ],
          [
           "CIVL1900",
           "USYD"
          ],
          [
           "INFO4001",
           "USYD"
          ],
          [
           "INFO4406",
           "USYD"
          ],
          [
           "ENGP2002",
           "USYD"
          ],
          [
           "NURS1002",
           "USYD"
          ],
          [
           "INFO2911",
           "USYD"
          ],
          [
           "MATH1061",
           "USYD"
          ],
          [
           "BMET1960",
           "USYD"
          ],
          [
           "ENGG3800",
           "USYD"
          ],
          [
           "NURS2008",
           "USYD"
          ],
          [
           "CHNG4203",
           "USYD"
          ],
          [
           "HTIN4005",
           "USYD"
          ],
          [
           "NURS3008",
           "USYD"
          ],
          [
           "BMET4112",
           "USYD"
          ],
          [
           "CHNG4812",
           "USYD"
          ],
          [
           "NURS2009",
           "USYD"
          ],
          [
           "ENGP3002",
           "USYD"
          ],
          [
           "NURS3012",
           "USYD"
          ],
          [
           "INFO1111",
           "USYD"
          ],
          [
           "CHNG1108",
           "USYD"
          ],
          [
           "ENGP2003",
           "USYD"
          ],
          [
           "NURS1003",
           "USYD"
          ],
          [
           "INFO3911",
           "USYD"
          ],
          [
           "ENGG1810",
           "USYD"
          ],
          [
           "AERO1560",
           "USYD"
          ],
          [
           "NURS2005",
           "USYD"
          ],
          [
           "NURS3007",
           "USYD"
          ],
          [
           "ENGP3001",
           "USYD"
          ],
          [
           "INFO1112",
           "USYD"
          ],
          [
           "NURS2010",
           "USYD"
          ],
          [
           "INFO3912",
           "USYD"
          ],
          [
           "NURS2006",
           "USYD"
          ],
          [
           "HTIN4006",
           "USYD"
          ],
          [
           "MECH1560",
           "USYD"
          ],
          [
           "BMET4111",
           "USYD"
          ],
          [
           "CHNG4811",
           "USYD"
          ],
          [
           "INFO4999",
           "USYD"
          ],
          [
           "INFO4002",
           "USYD"
          ],
          [
           "NURS1001",
           "USYD"
          ],
          [
           "ENGP2001",
           "USYD"
          ],
          [
           "INFO4444",
           "USYD"
          ],
          [
           "NURS2011",
           "USYD"
          ],
          [
           "MTRX1701",
           "USYD"
          ],
          [
           "INFO2912",
           "USYD"
          ],
          [
           "MATH1062",
           "USYD"
          ],
          [
           "MATH1961",
           "USYD"
          ],
          [
           "ELEC4713",
           "USYD"
          ],
          [
           "ELEC1004",
           "USYD"
          ],
          [
           "NURS3017",
           "USYD"
          ],
          [
           "NURS1006",
           "USYD"
          ],
          [
           "CIVL4023",
           "USYD"
          ],
          [
           "NURS2001",
           "USYD"
          ],
          [
           "ENGP1001",
           "USYD"
          ],
          [
           "CIVL4022",
           "USYD"
          ],
          [
           "AMME4111",
           "USYD"
          ],
          [
           "NURS1007",
           "USYD"
          ],
          [
           "INFO4911",
           "USYD"
          ],
          [
           "MATH1064",
           "USYD"
          ],
          [
           "INFO1912",
           "USYD"
          ],
          [
           "NURS3020",
           "USYD"
          ],
          [
           "ELEC4712",
           "USYD"
          ],
          [
           "ELEC1005",
           "USYD"
          ],
          [
           "INFO3333",
           "USYD"
          ]
         ],
         "hovertemplate": "major=CORE/NONE<br>uni=%{customdata[1]}<br>x=%{x}<br>y=%{y}<br>subject_code=%{customdata[0]}<extra></extra>",
         "legendgroup": "CORE/NONE, USYD",
         "marker": {
          "color": "#636efa",
          "symbol": "diamond"
         },
         "mode": "markers",
         "name": "CORE/NONE, USYD",
         "orientation": "v",
         "showlegend": true,
         "type": "scatter",
         "x": [
          4.68278169631958,
          5.081967830657959,
          50.62776184082031,
          36.24162673950195,
          5.946067810058594,
          5.871705532073975,
          47.65311050415039,
          5.956502914428711,
          6.165568828582764,
          45.64564895629883,
          33.890350341796875,
          -28.72138214111328,
          44.654598236083984,
          13.224209785461426,
          47.34367752075195,
          38.53673553466797,
          49.51933288574219,
          6.670677185058594,
          9.697840690612793,
          21.713348388671875,
          3.2450804710388184,
          33.70988082885742,
          49.542945861816406,
          11.026034355163574,
          51.36264419555664,
          6.389554500579834,
          46.03556442260742,
          4.369649410247803,
          23.255727767944336,
          51.06008529663086,
          6.629225730895996,
          33.51140594482422,
          13.472474098205566,
          3.2794456481933594,
          7.11386775970459,
          6.079686641693115,
          3.772333860397339,
          49.465904235839844,
          5.114446640014648,
          18.33418083190918,
          39.504417419433594,
          49.89139938354492,
          7.066980361938477,
          46.53413391113281,
          44.088233947753906,
          16.12582015991211,
          4.625629901885986,
          4.66589879989624,
          51.0489616394043,
          22.033180236816406,
          3.401036500930786,
          46.65673828125,
          4.314244747161865,
          12.762874603271484,
          16.736831665039062,
          6.641401290893555,
          5.547725677490234,
          47.40647888183594,
          49.88605880737305,
          38.30674362182617,
          51.30046463012695,
          27.273523330688477,
          4.7585768699646,
          16.863208770751953,
          46.59319305419922,
          3.9071779251098633,
          4.419442653656006,
          6.2867960929870605,
          32.3775520324707,
          6.221592426300049,
          5.352591514587402,
          5.847145080566406,
          4.548476696014404,
          50.35353088378906,
          6.964883804321289,
          5.316747665405273,
          7.292158603668213,
          47.65311050415039,
          38.81586837768555,
          46.027130126953125,
          3.4629065990448,
          6.825372695922852,
          20.935781478881836,
          35.49361801147461
         ],
         "xaxis": "x",
         "y": [
          19.409107208251953,
          20.760557174682617,
          7.068509101867676,
          7.272437572479248,
          5.124924182891846,
          19.949594497680664,
          6.8678812980651855,
          21.466819763183594,
          10.66845417022705,
          8.776013374328613,
          10.039436340332031,
          8.864631652832031,
          5.715739727020264,
          15.185330390930176,
          6.821937084197998,
          11.52769660949707,
          8.552361488342285,
          22.57408905029297,
          16.80864906311035,
          6.503221035003662,
          20.87721824645996,
          4.121706962585449,
          5.632760047912598,
          14.598474502563477,
          6.956907749176025,
          18.89771270751953,
          8.361115455627441,
          10.689042091369629,
          -1.023621678352356,
          5.8573689460754395,
          22.83763313293457,
          8.464497566223145,
          13.76332950592041,
          21.988521575927734,
          4.013910293579102,
          4.3404541015625,
          23.680709838867188,
          9.10788631439209,
          21.195737838745117,
          7.394410610198975,
          7.077060222625732,
          8.8911714553833,
          21.5919189453125,
          7.992675304412842,
          3.3611292839050293,
          -0.5869964957237244,
          17.57627296447754,
          19.849964141845703,
          8.111847877502441,
          9.197776794433594,
          23.12152099609375,
          8.640317916870117,
          21.408069610595703,
          14.280184745788574,
          -0.18664412200450897,
          4.081256866455078,
          4.04992151260376,
          8.644792556762695,
          5.415581703186035,
          11.906838417053223,
          7.565804958343506,
          7.623223781585693,
          22.280330657958984,
          0.07502742111682892,
          9.340950965881348,
          10.723834991455078,
          10.683693885803223,
          3.1722965240478516,
          -0.28267598152160645,
          19.526662826538086,
          23.21182632446289,
          3.5090982913970947,
          17.683574676513672,
          7.73078727722168,
          4.975539207458496,
          5.2236008644104,
          19.509933471679688,
          6.8678812980651855,
          -6.637795925140381,
          9.327972412109375,
          20.094200134277344,
          3.3738183975219727,
          4.467453956604004,
          5.117865085601807
         ],
         "yaxis": "y"
        },
        {
         "customdata": [
          [
           "31251",
           "UTS"
          ],
          [
           "48024",
           "UTS"
          ],
          [
           "31269",
           "UTS"
          ]
         ],
         "hovertemplate": "major=SOFT<br>uni=%{customdata[1]}<br>x=%{x}<br>y=%{y}<br>subject_code=%{customdata[0]}<extra></extra>",
         "legendgroup": "SOFT, UTS",
         "marker": {
          "color": "#EF553B",
          "symbol": "circle"
         },
         "mode": "markers",
         "name": "SOFT, UTS",
         "orientation": "v",
         "showlegend": true,
         "type": "scatter",
         "x": [
          -18.869544982910156,
          -27.64689064025879,
          -29.61250114440918
         ],
         "xaxis": "x",
         "y": [
          -5.840451717376709,
          0.15359057486057281,
          -2.394022226333618
         ],
         "yaxis": "y"
        },
        {
         "customdata": [
          [
           "ISYS2110",
           "USYD"
          ],
          [
           "COMP4530",
           "USYD"
          ],
          [
           "DATA1002",
           "USYD"
          ],
          [
           "COMP4415",
           "USYD"
          ],
          [
           "COMP4618",
           "USYD"
          ],
          [
           "COMP4445",
           "USYD"
          ],
          [
           "DATA4207",
           "USYD"
          ],
          [
           "COMP4347",
           "USYD"
          ],
          [
           "COMP4424",
           "USYD"
          ],
          [
           "ISYS3402",
           "USYD"
          ],
          [
           "ISYS4450",
           "USYD"
          ],
          [
           "COMP4425",
           "USYD"
          ],
          [
           "COMP4448",
           "USYD"
          ],
          [
           "STAT2911",
           "USYD"
          ],
          [
           "ISYS2160",
           "USYD"
          ],
          [
           "COMP4405",
           "USYD"
          ],
          [
           "COMP4328",
           "USYD"
          ],
          [
           "COMP4349",
           "USYD"
          ],
          [
           "MATH2069",
           "USYD"
          ],
          [
           "STAT2011",
           "USYD"
          ],
          [
           "BUSS1030",
           "USYD"
          ],
          [
           "COMP4427",
           "USYD"
          ],
          [
           "SOFT3410",
           "USYD"
          ],
          [
           "ISYS3401",
           "USYD"
          ],
          [
           "COMP4348",
           "USYD"
          ],
          [
           "COMP4446",
           "USYD"
          ],
          [
           "COMP4329",
           "USYD"
          ],
          [
           "INFO4491",
           "USYD"
          ],
          [
           "COMP4313",
           "USYD"
          ],
          [
           "INFO3616",
           "USYD"
          ],
          [
           "MKTG1001",
           "USYD"
          ],
          [
           "COMP4617",
           "USYD"
          ],
          [
           "DATA1902",
           "USYD"
          ],
          [
           "ISYS3888",
           "USYD"
          ],
          [
           "COMP4416",
           "USYD"
          ],
          [
           "COMP4338",
           "USYD"
          ],
          [
           "COMP4270",
           "USYD"
          ]
         ],
         "hovertemplate": "major=SOFT<br>uni=%{customdata[1]}<br>x=%{x}<br>y=%{y}<br>subject_code=%{customdata[0]}<extra></extra>",
         "legendgroup": "SOFT, USYD",
         "marker": {
          "color": "#EF553B",
          "symbol": "diamond"
         },
         "mode": "markers",
         "name": "SOFT, USYD",
         "orientation": "v",
         "showlegend": true,
         "type": "scatter",
         "x": [
          20.620872497558594,
          16.906328201293945,
          23.8118896484375,
          22.565473556518555,
          9.684185028076172,
          20.193037033081055,
          14.711102485656738,
          17.91676139831543,
          20.807750701904297,
          -33.586612701416016,
          11.735723495483398,
          20.029281616210938,
          34.76326370239258,
          41.73307418823242,
          37.615692138671875,
          20.806623458862305,
          21.16932487487793,
          19.51506996154785,
          42.048377990722656,
          41.734066009521484,
          45.504920959472656,
          15.839024543762207,
          21.826526641845703,
          28.346494674682617,
          16.44868278503418,
          20.732505798339844,
          20.0391788482666,
          10.570998191833496,
          19.3753719329834,
          17.484771728515625,
          46.99169921875,
          15.70863151550293,
          15.516691207885742,
          34.50364303588867,
          17.978809356689453,
          17.296480178833008,
          16.77385902404785
         ],
         "xaxis": "x",
         "y": [
          7.307821750640869,
          17.005617141723633,
          14.242952346801758,
          12.144376754760742,
          14.042776107788086,
          15.908576011657715,
          12.209402084350586,
          11.452600479125977,
          1.532423496246338,
          14.392802238464355,
          12.065547943115234,
          14.007142066955566,
          -3.4329400062561035,
          -6.05540657043457,
          3.270329713821411,
          12.813076972961426,
          17.87737464904785,
          12.168893814086914,
          4.250138759613037,
          -6.030962944030762,
          5.876351833343506,
          10.885066032409668,
          10.011754989624023,
          4.587427616119385,
          15.665337562561035,
          15.259206771850586,
          17.227375030517578,
          15.135296821594238,
          15.720230102539062,
          8.676277160644531,
          5.763051986694336,
          17.266502380371094,
          12.660005569458008,
          6.676634788513184,
          13.333730697631836,
          14.549774169921875,
          16.87491226196289
         ],
         "yaxis": "y"
        },
        {
         "customdata": [
          [
           "48221",
           "UTS"
          ],
          [
           "48352",
           "UTS"
          ],
          [
           "48353",
           "UTS"
          ],
          [
           "48349",
           "UTS"
          ],
          [
           "48362",
           "UTS"
          ],
          [
           "48821",
           "UTS"
          ],
          [
           "48860",
           "UTS"
          ],
          [
           "48881",
           "UTS"
          ],
          [
           "48340",
           "UTS"
          ],
          [
           "48360",
           "UTS"
          ],
          [
           "48321",
           "UTS"
          ],
          [
           "48320",
           "UTS"
          ],
          [
           "48331",
           "UTS"
          ],
          [
           "48310",
           "UTS"
          ],
          [
           "48330",
           "UTS"
          ]
         ],
         "hovertemplate": "major=CIVI<br>uni=%{customdata[1]}<br>x=%{x}<br>y=%{y}<br>subject_code=%{customdata[0]}<extra></extra>",
         "legendgroup": "CIVI, UTS",
         "marker": {
          "color": "#00cc96",
          "symbol": "circle"
         },
         "mode": "markers",
         "name": "CIVI, UTS",
         "orientation": "v",
         "showlegend": true,
         "type": "scatter",
         "x": [
          -26.769012451171875,
          -31.382036209106445,
          -34.01995086669922,
          -22.621732711791992,
          -13.260761260986328,
          -19.591611862182617,
          -30.5640869140625,
          -26.67303466796875,
          -22.127330780029297,
          -32.54210662841797,
          -32.656978607177734,
          -33.325477600097656,
          -34.59343338012695,
          -21.256776809692383,
          -33.31108856201172
         ],
         "xaxis": "x",
         "y": [
          -7.183945655822754,
          -13.45837116241455,
          -13.222562789916992,
          -0.6969008445739746,
          -7.285971164703369,
          -15.92091178894043,
          -16.383317947387695,
          -20.784168243408203,
          -15.357887268066406,
          -11.30112361907959,
          -0.5756770968437195,
          0.008604311384260654,
          -12.177321434020996,
          -16.00668716430664,
          -10.441387176513672
         ],
         "yaxis": "y"
        },
        {
         "customdata": [
          [
           "CIVL1110",
           "USYD"
          ],
          [
           "CIVL5702",
           "USYD"
          ],
          [
           "CIVL5276",
           "USYD"
          ],
          [
           "CIVL1022",
           "USYD"
          ],
          [
           "CIVL5535",
           "USYD"
          ],
          [
           "CIVL5670",
           "USYD"
          ],
          [
           "CIVL5277",
           "USYD"
          ],
          [
           "CIVL4903",
           "USYD"
          ],
          [
           "CIVL3511",
           "USYD"
          ],
          [
           "CIVL5703",
           "USYD"
          ],
          [
           "CIVL3205",
           "USYD"
          ],
          [
           "CIVL3614",
           "USYD"
          ],
          [
           "CIVL5266",
           "USYD"
          ],
          [
           "CIVL5460",
           "USYD"
          ],
          [
           "CIVL5533",
           "USYD"
          ],
          [
           "CIVL3310",
           "USYD"
          ],
          [
           "CIVL5704",
           "USYD"
          ],
          [
           "CIVL4816",
           "USYD"
          ],
          [
           "CIVL2700",
           "USYD"
          ],
          [
           "CIVL4817",
           "USYD"
          ],
          [
           "CIVL1802",
           "USYD"
          ],
          [
           "CIVL2812",
           "USYD"
          ],
          [
           "CIVL3612",
           "USYD"
          ],
          [
           "CIVL3235",
           "USYD"
          ],
          [
           "CIVL4860",
           "USYD"
          ],
          [
           "CIVL5531",
           "USYD"
          ],
          [
           "CIVL4818",
           "USYD"
          ],
          [
           "CIVL5458",
           "USYD"
          ],
          [
           "CIVL3806",
           "USYD"
          ],
          [
           "CIVL2201",
           "USYD"
          ],
          [
           "CIVL5269",
           "USYD"
          ],
          [
           "CIVL2410",
           "USYD"
          ],
          [
           "CIVL3411",
           "USYD"
          ],
          [
           "CIVL2611",
           "USYD"
          ],
          [
           "CIVL3811",
           "USYD"
          ],
          [
           "CIVL5320",
           "USYD"
          ],
          [
           "CIVL4819",
           "USYD"
          ],
          [
           "CIVL4812",
           "USYD"
          ],
          [
           "CIVL2010",
           "USYD"
          ],
          [
           "CIVL3206",
           "USYD"
          ],
          [
           "CIVL5452",
           "USYD"
          ],
          [
           "CIVL3705",
           "USYD"
          ],
          [
           "CIVL5999",
           "USYD"
          ],
          [
           "CIVL5330",
           "USYD"
          ],
          [
           "CIVL5668",
           "USYD"
          ],
          [
           "CIVL3704",
           "USYD"
          ],
          [
           "CIVL5453",
           "USYD"
          ],
          [
           "CIVL1810",
           "USYD"
          ],
          [
           "CIVL4203",
           "USYD"
          ],
          [
           "CIVL5351",
           "USYD"
          ],
          [
           "CIVL5701",
           "USYD"
          ]
         ],
         "hovertemplate": "major=CIVI<br>uni=%{customdata[1]}<br>x=%{x}<br>y=%{y}<br>subject_code=%{customdata[0]}<extra></extra>",
         "legendgroup": "CIVI, USYD",
         "marker": {
          "color": "#00cc96",
          "symbol": "diamond"
         },
         "mode": "markers",
         "name": "CIVI, USYD",
         "orientation": "v",
         "showlegend": true,
         "type": "scatter",
         "x": [
          39.19038009643555,
          30.145116806030273,
          38.001747131347656,
          15.990253448486328,
          23.684341430664062,
          31.30574607849121,
          24.59663963317871,
          37.08156967163086,
          24.381484985351562,
          28.168306350708008,
          31.977392196655273,
          30.561750411987305,
          26.975297927856445,
          28.514732360839844,
          10.963440895080566,
          29.223371505737305,
          36.77682876586914,
          11.369422912597656,
          29.394001007080078,
          10.600669860839844,
          42.8398323059082,
          13.084653854370117,
          33.44486999511719,
          35.48602294921875,
          30.63621711730957,
          11.253678321838379,
          -28.664350509643555,
          28.904569625854492,
          15.037899017333984,
          28.984535217285156,
          31.686227798461914,
          30.21332359313965,
          30.29984474182129,
          32.98397445678711,
          12.466399192810059,
          25.535388946533203,
          9.946660995483398,
          9.960611343383789,
          28.036426544189453,
          27.416719436645508,
          26.652488708496094,
          11.235647201538086,
          15.157697677612305,
          9.747818946838379,
          30.243803024291992,
          28.056396484375,
          29.541112899780273,
          12.607978820800781,
          35.55733108520508,
          28.404315948486328,
          29.043991088867188
         ],
         "xaxis": "x",
         "y": [
          5.945639133453369,
          11.728964805603027,
          7.362002849578857,
          -7.462369918823242,
          2.369229793548584,
          -14.477901458740234,
          1.2700515985488892,
          5.9283447265625,
          2.258392810821533,
          7.736621856689453,
          -9.957320213317871,
          -14.01021671295166,
          -10.53526782989502,
          -12.4382905960083,
          -2.3511428833007812,
          6.136234283447266,
          3.9555773735046387,
          8.716386795043945,
          11.561056137084961,
          8.55460262298584,
          4.880417823791504,
          9.732396125793457,
          -15.674177169799805,
          -9.400090217590332,
          5.827003479003906,
          -3.029714345932007,
          8.933083534240723,
          -7.47076416015625,
          18.072786331176758,
          -10.764405250549316,
          -10.043980598449707,
          -12.746085166931152,
          -12.36737060546875,
          -13.924768447875977,
          -6.794760227203369,
          4.694836139678955,
          8.197769165039062,
          10.02588939666748,
          6.352540016174316,
          -10.570297241210938,
          -13.23366928100586,
          -4.4429545402526855,
          13.040114402770996,
          5.856299877166748,
          -15.498266220092773,
          12.647521018981934,
          -12.760711669921875,
          -6.1441240310668945,
          9.1028470993042,
          -13.9773588180542,
          7.99156379699707
         ],
         "yaxis": "y"
        },
        {
         "customdata": [
          [
           "41903",
           "UTS"
          ],
          [
           "31338",
           "UTS"
          ],
          [
           "48450",
           "UTS"
          ],
          [
           "42036",
           "UTS"
          ],
          [
           "31261",
           "UTS"
          ],
          [
           "31277",
           "UTS"
          ],
          [
           "41905",
           "UTS"
          ],
          [
           "32011",
           "UTS"
          ],
          [
           "42037",
           "UTS"
          ],
          [
           "32009",
           "UTS"
          ],
          [
           "31275",
           "UTS"
          ],
          [
           "48033",
           "UTS"
          ],
          [
           "41891",
           "UTS"
          ],
          [
           "41890",
           "UTS"
          ]
         ],
         "hovertemplate": "major=NETW<br>uni=%{customdata[1]}<br>x=%{x}<br>y=%{y}<br>subject_code=%{customdata[0]}<extra></extra>",
         "legendgroup": "NETW, UTS",
         "marker": {
          "color": "#ab63fa",
          "symbol": "circle"
         },
         "mode": "markers",
         "name": "NETW, UTS",
         "orientation": "v",
         "showlegend": true,
         "type": "scatter",
         "x": [
          -34.096317291259766,
          -16.398773193359375,
          -29.088735580444336,
          -21.471437454223633,
          -27.297439575195312,
          -25.085323333740234,
          -22.60527992248535,
          -15.432369232177734,
          -21.410686492919922,
          -15.874993324279785,
          -30.673675537109375,
          -28.40493392944336,
          -27.716449737548828,
          -23.67486572265625
         ],
         "xaxis": "x",
         "y": [
          1.227114200592041,
          -7.511876106262207,
          -2.4785168170928955,
          -10.106781959533691,
          5.679697036743164,
          -5.0438103675842285,
          -10.527334213256836,
          -6.617025375366211,
          -10.09358024597168,
          -6.454793453216553,
          -6.020726203918457,
          -3.378190279006958,
          -1.99949049949646,
          -4.212393760681152
         ],
         "yaxis": "y"
        },
        {
         "customdata": [
          [
           "CSEC3616",
           "USYD"
          ],
          [
           "CSEC3888",
           "USYD"
          ]
         ],
         "hovertemplate": "major=NETW<br>uni=%{customdata[1]}<br>x=%{x}<br>y=%{y}<br>subject_code=%{customdata[0]}<extra></extra>",
         "legendgroup": "NETW, USYD",
         "marker": {
          "color": "#ab63fa",
          "symbol": "diamond"
         },
         "mode": "markers",
         "name": "NETW, USYD",
         "orientation": "v",
         "showlegend": true,
         "type": "scatter",
         "x": [
          17.39157485961914,
          15.790791511535645
         ],
         "xaxis": "x",
         "y": [
          8.769617080688477,
          8.584972381591797
         ],
         "yaxis": "y"
        },
        {
         "customdata": [
          [
           "31247",
           "UTS"
          ],
          [
           "48270",
           "UTS"
          ],
          [
           "31276",
           "UTS"
          ],
          [
           "31280",
           "UTS"
          ],
          [
           "31097",
           "UTS"
          ],
          [
           "31255",
           "UTS"
          ],
          [
           "31258",
           "UTS"
          ],
          [
           "31245",
           "UTS"
          ]
         ],
         "hovertemplate": "major=BUSI<br>uni=%{customdata[1]}<br>x=%{x}<br>y=%{y}<br>subject_code=%{customdata[0]}<extra></extra>",
         "legendgroup": "BUSI, UTS",
         "marker": {
          "color": "#FFA15A",
          "symbol": "circle"
         },
         "mode": "markers",
         "name": "BUSI, UTS",
         "orientation": "v",
         "showlegend": true,
         "type": "scatter",
         "x": [
          -31.07164192199707,
          -13.488086700439453,
          -26.01729965209961,
          -15.160978317260742,
          -13.198058128356934,
          -30.40275001525879,
          -30.64551544189453,
          -26.192607879638672
         ],
         "xaxis": "x",
         "y": [
          1.902698278427124,
          -3.817784547805786,
          -4.306640625,
          -4.786573886871338,
          -8.667457580566406,
          1.2975701093673706,
          1.8748382329940796,
          -4.239105701446533
         ],
         "yaxis": "y"
        },
        {
         "customdata": [
          [
           "42913",
           "UTS"
          ],
          [
           "41077",
           "UTS"
          ],
          [
           "42050",
           "UTS"
          ],
          [
           "41040",
           "UTS"
          ],
          [
           "31256",
           "UTS"
          ],
          [
           "43023",
           "UTS"
          ],
          [
           "57304",
           "UTS"
          ],
          [
           "31243",
           "UTS"
          ],
          [
           "41004",
           "UTS"
          ],
          [
           "32146",
           "UTS"
          ],
          [
           "41043",
           "UTS"
          ],
          [
           "43024",
           "UTS"
          ]
         ],
         "hovertemplate": "major=ARTI<br>uni=%{customdata[1]}<br>x=%{x}<br>y=%{y}<br>subject_code=%{customdata[0]}<extra></extra>",
         "legendgroup": "ARTI, UTS",
         "marker": {
          "color": "#19d3f3",
          "symbol": "circle"
         },
         "mode": "markers",
         "name": "ARTI, UTS",
         "orientation": "v",
         "showlegend": true,
         "type": "scatter",
         "x": [
          -14.301587104797363,
          -27.120624542236328,
          -37.69829177856445,
          -19.8995361328125,
          -30.415056228637695,
          -15.208518981933594,
          -49.177433013916016,
          -35.89375686645508,
          -14.668612480163574,
          -13.675894737243652,
          -20.61018943786621,
          -16.72333335876465
         ],
         "xaxis": "x",
         "y": [
          -5.745593070983887,
          -15.351056098937988,
          -4.757801055908203,
          -1.7003066539764404,
          -1.6227991580963135,
          -15.654666900634766,
          4.661940574645996,
          1.5007195472717285,
          -3.058297634124756,
          -13.04750919342041,
          -15.50629997253418,
          2.7803783416748047
         ],
         "yaxis": "y"
        },
        {
         "customdata": [
          [
           "DATA1901",
           "USYD"
          ],
          [
           "COMP3530",
           "USYD"
          ],
          [
           "DATA3888",
           "USYD"
          ],
          [
           "DATA1001",
           "USYD"
          ]
         ],
         "hovertemplate": "major=ARTI<br>uni=%{customdata[1]}<br>x=%{x}<br>y=%{y}<br>subject_code=%{customdata[0]}<extra></extra>",
         "legendgroup": "ARTI, USYD",
         "marker": {
          "color": "#19d3f3",
          "symbol": "diamond"
         },
         "mode": "markers",
         "name": "ARTI, USYD",
         "orientation": "v",
         "showlegend": true,
         "type": "scatter",
         "x": [
          40.547672271728516,
          37.59408187866211,
          27.438337326049805,
          41.063194274902344
         ],
         "xaxis": "x",
         "y": [
          3.2740983963012695,
          -5.971184730529785,
          9.133979797363281,
          3.399160146713257
         ],
         "yaxis": "y"
        },
        {
         "customdata": [
          [
           "41305",
           "UTS"
          ],
          [
           "41108",
           "UTS"
          ],
          [
           "41308",
           "UTS"
          ],
          [
           "41386",
           "UTS"
          ],
          [
           "41381",
           "UTS"
          ],
          [
           "41380",
           "UTS"
          ],
          [
           "41301",
           "UTS"
          ],
          [
           "43015",
           "UTS"
          ],
          [
           "41383",
           "UTS"
          ],
          [
           "41382",
           "UTS"
          ],
          [
           "41117",
           "UTS"
          ],
          [
           "41385",
           "UTS"
          ],
          [
           "65212",
           "UTS"
          ],
          [
           "41384",
           "UTS"
          ]
         ],
         "hovertemplate": "major=CHEM<br>uni=%{customdata[1]}<br>x=%{x}<br>y=%{y}<br>subject_code=%{customdata[0]}<extra></extra>",
         "legendgroup": "CHEM, UTS",
         "marker": {
          "color": "#FF6692",
          "symbol": "circle"
         },
         "mode": "markers",
         "name": "CHEM, UTS",
         "orientation": "v",
         "showlegend": true,
         "type": "scatter",
         "x": [
          -23.022966384887695,
          -37.53612518310547,
          -38.274818420410156,
          -37.31454086303711,
          -37.251373291015625,
          -29.568281173706055,
          -20.478769302368164,
          -28.462162017822266,
          -36.15544128417969,
          -37.285484313964844,
          -18.541383743286133,
          -36.327152252197266,
          -37.531394958496094,
          -36.960872650146484
         ],
         "xaxis": "x",
         "y": [
          -6.045924186706543,
          -0.2952289879322052,
          0.8401545882225037,
          -15.41828727722168,
          -17.311420440673828,
          -12.704324722290039,
          -16.92650604248047,
          -13.364167213439941,
          -17.13669204711914,
          -15.629913330078125,
          -17.24208641052246,
          -17.19420051574707,
          -8.434982299804688,
          -18.091720581054688
         ],
         "yaxis": "y"
        },
        {
         "customdata": [
          [
           "41082",
           "UTS"
          ],
          [
           "41092",
           "UTS"
          ],
          [
           "41091",
           "UTS"
          ]
         ],
         "hovertemplate": "major=DATA<br>uni=%{customdata[1]}<br>x=%{x}<br>y=%{y}<br>subject_code=%{customdata[0]}<extra></extra>",
         "legendgroup": "DATA, UTS",
         "marker": {
          "color": "#B6E880",
          "symbol": "circle"
         },
         "mode": "markers",
         "name": "DATA, UTS",
         "orientation": "v",
         "showlegend": true,
         "type": "scatter",
         "x": [
          -34.906494140625,
          -17.821622848510742,
          -20.813955307006836
         ],
         "xaxis": "x",
         "y": [
          0.7459617257118225,
          -7.025177955627441,
          -18.72382354736328
         ],
         "yaxis": "y"
        },
        {
         "customdata": [
          [
           "35005",
           "UTS"
          ],
          [
           "37234",
           "UTS"
          ],
          [
           "37252",
           "UTS"
          ],
          [
           "35007",
           "UTS"
          ],
          [
           "37373",
           "UTS"
          ],
          [
           "35006",
           "UTS"
          ]
         ],
         "hovertemplate": "major=MATH<br>uni=%{customdata[1]}<br>x=%{x}<br>y=%{y}<br>subject_code=%{customdata[0]}<extra></extra>",
         "legendgroup": "MATH, UTS",
         "marker": {
          "color": "#FF97FF",
          "symbol": "circle"
         },
         "mode": "markers",
         "name": "MATH, UTS",
         "orientation": "v",
         "showlegend": true,
         "type": "scatter",
         "x": [
          -42.2725715637207,
          -21.634258270263672,
          -21.27302360534668,
          -45.13520050048828,
          -38.322147369384766,
          -23.28430938720703
         ],
         "xaxis": "x",
         "y": [
          1.7228708267211914,
          2.371481418609619,
          1.1206331253051758,
          0.19543461501598358,
          -3.890029191970825,
          4.155074119567871
         ],
         "yaxis": "y"
        },
        {
         "customdata": [
          [
           "49261",
           "UTS"
          ],
          [
           "91705",
           "UTS"
          ],
          [
           "42724",
           "UTS"
          ],
          [
           "91400",
           "UTS"
          ],
          [
           "42026",
           "UTS"
          ],
          [
           "41099",
           "UTS"
          ],
          [
           "42722",
           "UTS"
          ],
          [
           "43021",
           "UTS"
          ],
          [
           "41163",
           "UTS"
          ],
          [
           "26101",
           "UTS"
          ],
          [
           "42001",
           "UTS"
          ],
          [
           "41162",
           "UTS"
          ],
          [
           "31061",
           "UTS"
          ],
          [
           "41161",
           "UTS"
          ],
          [
           "43022",
           "UTS"
          ],
          [
           "41160",
           "UTS"
          ],
          [
           "91822",
           "UTS"
          ],
          [
           "48023",
           "UTS"
          ]
         ],
         "hovertemplate": "major=BIOM<br>uni=%{customdata[1]}<br>x=%{x}<br>y=%{y}<br>subject_code=%{customdata[0]}<extra></extra>",
         "legendgroup": "BIOM, UTS",
         "marker": {
          "color": "#FECB52",
          "symbol": "circle"
         },
         "mode": "markers",
         "name": "BIOM, UTS",
         "orientation": "v",
         "showlegend": true,
         "type": "scatter",
         "x": [
          -26.330041885375977,
          -39.43610382080078,
          -17.01215362548828,
          -35.77194595336914,
          -26.40574836730957,
          -24.75042724609375,
          -24.737016677856445,
          -24.084001541137695,
          -25.835620880126953,
          -34.6712646484375,
          -14.717229843139648,
          -23.148235321044922,
          -30.112165451049805,
          -13.499457359313965,
          -24.22666358947754,
          -26.04498863220215,
          -39.4164924621582,
          -32.544273376464844
         ],
         "xaxis": "x",
         "y": [
          -11.243257522583008,
          -9.14185905456543,
          -14.75593376159668,
          -1.3745793104171753,
          -12.408758163452148,
          -7.789089202880859,
          -11.47896957397461,
          -12.486005783081055,
          -13.251123428344727,
          5.037585735321045,
          -13.474420547485352,
          -13.235360145568848,
          -0.2013048380613327,
          -9.237421035766602,
          -12.238360404968262,
          -11.838409423828125,
          -6.824557781219482,
          1.1047914028167725
         ],
         "yaxis": "y"
        },
        {
         "customdata": [
          [
           "BMET2901",
           "USYD"
          ],
          [
           "BMET5944",
           "USYD"
          ],
          [
           "CHEM1991",
           "USYD"
          ],
          [
           "BMET3961",
           "USYD"
          ],
          [
           "BMET2960",
           "USYD"
          ],
          [
           "BMET5933",
           "USYD"
          ],
          [
           "BMET5964",
           "USYD"
          ],
          [
           "BMET3921",
           "USYD"
          ],
          [
           "BMET4010",
           "USYD"
          ],
          [
           "BMET5953",
           "USYD"
          ],
          [
           "BMET5958",
           "USYD"
          ],
          [
           "BMET3971",
           "USYD"
          ],
          [
           "BMET5962",
           "USYD"
          ],
          [
           "BMET3802",
           "USYD"
          ],
          [
           "BMET5996",
           "USYD"
          ],
          [
           "BMET4981",
           "USYD"
          ],
          [
           "BMET1961",
           "USYD"
          ],
          [
           "BMET5963",
           "USYD"
          ],
          [
           "BMET5934",
           "USYD"
          ],
          [
           "BMET5959",
           "USYD"
          ],
          [
           "BMET3660",
           "USYD"
          ],
          [
           "BMET2925",
           "USYD"
          ],
          [
           "BMET5995",
           "USYD"
          ],
          [
           "BMET3990",
           "USYD"
          ],
          [
           "BMET5957",
           "USYD"
          ],
          [
           "BMET2400",
           "USYD"
          ],
          [
           "CHEM1111",
           "USYD"
          ],
          [
           "BMET5911",
           "USYD"
          ],
          [
           "BMET5907",
           "USYD"
          ],
          [
           "BMET2903",
           "USYD"
          ],
          [
           "CHEM1911",
           "USYD"
          ],
          [
           "BMET5931",
           "USYD"
          ],
          [
           "BMET2922",
           "USYD"
          ],
          [
           "BMET2902",
           "USYD"
          ],
          [
           "BMET3997",
           "USYD"
          ],
          [
           "BMET5992",
           "USYD"
          ]
         ],
         "hovertemplate": "major=BIOM<br>uni=%{customdata[1]}<br>x=%{x}<br>y=%{y}<br>subject_code=%{customdata[0]}<extra></extra>",
         "legendgroup": "BIOM, USYD",
         "marker": {
          "color": "#FECB52",
          "symbol": "diamond"
         },
         "mode": "markers",
         "name": "BIOM, USYD",
         "orientation": "v",
         "showlegend": true,
         "type": "scatter",
         "x": [
          38.47024917602539,
          15.74933910369873,
          8.062738418579102,
          18.877986907958984,
          30.53775405883789,
          21.971647262573242,
          20.29863739013672,
          36.78705978393555,
          35.34988784790039,
          24.784639358520508,
          21.257762908935547,
          17.90081787109375,
          18.210081100463867,
          24.14593505859375,
          -33.586612701416016,
          32.68482971191406,
          22.267074584960938,
          19.4102783203125,
          18.229061126708984,
          17.973684310913086,
          14.72832202911377,
          13.772990226745605,
          29.86269760131836,
          25.972524642944336,
          17.606611251831055,
          26.15782356262207,
          41.67523956298828,
          22.837366104125977,
          28.163665771484375,
          22.949777603149414,
          15.826091766357422,
          21.933618545532227,
          21.074504852294922,
          28.22562599182129,
          -33.586612701416016,
          26.401147842407227
         ],
         "xaxis": "x",
         "y": [
          10.88475227355957,
          -5.6489973068237305,
          11.679981231689453,
          -2.737820625305176,
          -7.870079040527344,
          0.6746002435684204,
          -4.2576470375061035,
          5.846915245056152,
          8.908206939697266,
          4.04341459274292,
          -1.9396636486053467,
          -2.971087694168091,
          -3.926450490951538,
          -1.570528507232666,
          14.392802238464355,
          3.2309470176696777,
          -0.8165057301521301,
          -3.2422142028808594,
          3.126685619354248,
          -4.426380634307861,
          -2.8902382850646973,
          13.333819389343262,
          0.6988562941551208,
          6.624542713165283,
          2.3525798320770264,
          2.7998600006103516,
          6.609093189239502,
          -2.8006951808929443,
          1.8955734968185425,
          -2.2867109775543213,
          4.560032367706299,
          -2.188508987426758,
          1.5417765378952026,
          1.573593258857727,
          14.392802238464355,
          6.396005630493164
         ],
         "yaxis": "y"
        },
        {
         "customdata": [
          [
           "31748",
           "UTS"
          ],
          [
           "41020",
           "UTS"
          ],
          [
           "41021",
           "UTS"
          ],
          [
           "31263",
           "UTS"
          ],
          [
           "31080",
           "UTS"
          ],
          [
           "31262",
           "UTS"
          ],
          [
           "41019",
           "UTS"
          ]
         ],
         "hovertemplate": "major=INTE<br>uni=%{customdata[1]}<br>x=%{x}<br>y=%{y}<br>subject_code=%{customdata[0]}<extra></extra>",
         "legendgroup": "INTE, UTS",
         "marker": {
          "color": "#636efa",
          "symbol": "circle"
         },
         "mode": "markers",
         "name": "INTE, UTS",
         "orientation": "v",
         "showlegend": true,
         "type": "scatter",
         "x": [
          -18.65785026550293,
          -33.8768424987793,
          -27.178686141967773,
          -20.959447860717773,
          -22.17251205444336,
          -33.24806594848633,
          -22.221294403076172
         ],
         "xaxis": "x",
         "y": [
          -4.519129276275635,
          1.2234227657318115,
          3.7349939346313477,
          -2.9335930347442627,
          -5.171374797821045,
          -2.6446571350097656,
          -5.946999549865723
         ],
         "yaxis": "y"
        },
        {
         "customdata": [
          [
           "48850",
           "UTS"
          ],
          [
           "43123",
           "UTS"
          ],
          [
           "41124",
           "UTS"
          ],
          [
           "41125",
           "UTS"
          ],
          [
           "43026",
           "UTS"
          ],
          [
           "68412",
           "UTS"
          ],
          [
           "48572",
           "UTS"
          ],
          [
           "43124",
           "UTS"
          ],
          [
           "48550",
           "UTS"
          ],
          [
           "48531",
           "UTS"
          ],
          [
           "48582",
           "UTS"
          ],
          [
           "48520",
           "UTS"
          ],
          [
           "48561",
           "UTS"
          ]
         ],
         "hovertemplate": "major=RENE<br>uni=%{customdata[1]}<br>x=%{x}<br>y=%{y}<br>subject_code=%{customdata[0]}<extra></extra>",
         "legendgroup": "RENE, UTS",
         "marker": {
          "color": "#EF553B",
          "symbol": "circle"
         },
         "mode": "markers",
         "name": "RENE, UTS",
         "orientation": "v",
         "showlegend": true,
         "type": "scatter",
         "x": [
          -26.007394790649414,
          -20.823131561279297,
          -38.30491256713867,
          -22.0089168548584,
          -22.5557804107666,
          -36.63964080810547,
          -24.937366485595703,
          -21.97321319580078,
          -21.157487869262695,
          -16.532556533813477,
          -25.696420669555664,
          -32.04938888549805,
          -17.83101463317871
         ],
         "xaxis": "x",
         "y": [
          -18.458066940307617,
          -21.587081909179688,
          2.0490524768829346,
          -21.355892181396484,
          -23.134340286254883,
          -7.742137432098389,
          -1.4331531524658203,
          -22.67478370666504,
          -21.41139793395996,
          -21.337270736694336,
          -1.5313888788223267,
          -0.5507097244262695,
          -21.051177978515625
         ],
         "yaxis": "y"
        },
        {
         "customdata": [
          [
           "37262",
           "UTS"
          ],
          [
           "37233",
           "UTS"
          ],
          [
           "37161",
           "UTS"
          ]
         ],
         "hovertemplate": "major=MATH - QUAN<br>uni=%{customdata[1]}<br>x=%{x}<br>y=%{y}<br>subject_code=%{customdata[0]}<extra></extra>",
         "legendgroup": "MATH - QUAN, UTS",
         "marker": {
          "color": "#00cc96",
          "symbol": "circle"
         },
         "mode": "markers",
         "name": "MATH - QUAN, UTS",
         "orientation": "v",
         "showlegend": true,
         "type": "scatter",
         "x": [
          -20.180959701538086,
          -18.312646865844727,
          -19.302474975585938
         ],
         "xaxis": "x",
         "y": [
          2.8857522010803223,
          3.986555814743042,
          3.1777093410491943
         ],
         "yaxis": "y"
        },
        {
         "customdata": [
          [
           "41889",
           "UTS"
          ],
          [
           "31260",
           "UTS"
          ],
          [
           "31777",
           "UTS"
          ],
          [
           "31927",
           "UTS"
          ]
         ],
         "hovertemplate": "major=ENTE - INTE<br>uni=%{customdata[1]}<br>x=%{x}<br>y=%{y}<br>subject_code=%{customdata[0]}<extra></extra>",
         "legendgroup": "ENTE - INTE, UTS",
         "marker": {
          "color": "#ab63fa",
          "symbol": "circle"
         },
         "mode": "markers",
         "name": "ENTE - INTE, UTS",
         "orientation": "v",
         "showlegend": true,
         "type": "scatter",
         "x": [
          -14.711532592773438,
          -30.272449493408203,
          -30.775142669677734,
          -13.807997703552246
         ],
         "xaxis": "x",
         "y": [
          -7.412459373474121,
          -4.898285865783691,
          -5.064329147338867,
          -7.6132636070251465
         ],
         "yaxis": "y"
        },
        {
         "customdata": [
          [
           "31271",
           "UTS"
          ]
         ],
         "hovertemplate": "major=DATA - SOFT<br>uni=%{customdata[1]}<br>x=%{x}<br>y=%{y}<br>subject_code=%{customdata[0]}<extra></extra>",
         "legendgroup": "DATA - SOFT, UTS",
         "marker": {
          "color": "#FFA15A",
          "symbol": "circle"
         },
         "mode": "markers",
         "name": "DATA - SOFT, UTS",
         "orientation": "v",
         "showlegend": true,
         "type": "scatter",
         "x": [
          -29.560405731201172
         ],
         "xaxis": "x",
         "y": [
          -0.36677786707878113
         ],
         "yaxis": "y"
        },
        {
         "customdata": [
          [
           "41173",
           "UTS"
          ],
          [
           "41172",
           "UTS"
          ],
          [
           "41076",
           "UTS"
          ],
          [
           "41175",
           "UTS"
          ],
          [
           "41174",
           "UTS"
          ],
          [
           "41171",
           "UTS"
          ]
         ],
         "hovertemplate": "major=QUAN<br>uni=%{customdata[1]}<br>x=%{x}<br>y=%{y}<br>subject_code=%{customdata[0]}<extra></extra>",
         "legendgroup": "QUAN, UTS",
         "marker": {
          "color": "#19d3f3",
          "symbol": "circle"
         },
         "mode": "markers",
         "name": "QUAN, UTS",
         "orientation": "v",
         "showlegend": true,
         "type": "scatter",
         "x": [
          -15.84436321258545,
          -18.158063888549805,
          -15.158798217773438,
          -17.31740379333496,
          -19.366050720214844,
          -16.8752498626709
         ],
         "xaxis": "x",
         "y": [
          1.3673176765441895,
          0.8109776377677917,
          0.6942164301872253,
          -13.23766803741455,
          0.6528315544128418,
          0.8681599497795105
         ],
         "yaxis": "y"
        },
        {
         "customdata": [
          [
           "60101",
           "UTS"
          ]
         ],
         "hovertemplate": "major=CHEM - CIVI - RENE<br>uni=%{customdata[1]}<br>x=%{x}<br>y=%{y}<br>subject_code=%{customdata[0]}<extra></extra>",
         "legendgroup": "CHEM - CIVI - RENE, UTS",
         "marker": {
          "color": "#FF6692",
          "symbol": "circle"
         },
         "mode": "markers",
         "name": "CHEM - CIVI - RENE, UTS",
         "orientation": "v",
         "showlegend": true,
         "type": "scatter",
         "x": [
          -30.553226470947266
         ],
         "xaxis": "x",
         "y": [
          -12.014727592468262
         ],
         "yaxis": "y"
        },
        {
         "customdata": [
          [
           "41113",
           "UTS"
          ],
          [
           "41026",
           "UTS"
          ],
          [
           "31242",
           "UTS"
          ],
          [
           "41025",
           "UTS"
          ],
          [
           "31253",
           "UTS"
          ]
         ],
         "hovertemplate": "major=ENTE<br>uni=%{customdata[1]}<br>x=%{x}<br>y=%{y}<br>subject_code=%{customdata[0]}<extra></extra>",
         "legendgroup": "ENTE, UTS",
         "marker": {
          "color": "#B6E880",
          "symbol": "circle"
         },
         "mode": "markers",
         "name": "ENTE, UTS",
         "orientation": "v",
         "showlegend": true,
         "type": "scatter",
         "x": [
          -22.016822814941406,
          -20.75004005432129,
          -23.399154663085938,
          -20.68097686767578,
          -19.338083267211914
         ],
         "xaxis": "x",
         "y": [
          -11.98343276977539,
          -13.052990913391113,
          -6.462192535400391,
          -12.892220497131348,
          -6.103369235992432
         ],
         "yaxis": "y"
        },
        {
         "customdata": [
          [
           "41001",
           "UTS"
          ]
         ],
         "hovertemplate": "major=DATA - ENTE<br>uni=%{customdata[1]}<br>x=%{x}<br>y=%{y}<br>subject_code=%{customdata[0]}<extra></extra>",
         "legendgroup": "DATA - ENTE, UTS",
         "marker": {
          "color": "#FF97FF",
          "symbol": "circle"
         },
         "mode": "markers",
         "name": "DATA - ENTE, UTS",
         "orientation": "v",
         "showlegend": true,
         "type": "scatter",
         "x": [
          -28.516881942749023
         ],
         "xaxis": "x",
         "y": [
          -1.1036937236785889
         ],
         "yaxis": "y"
        },
        {
         "customdata": [
          [
           "31250",
           "UTS"
          ]
         ],
         "hovertemplate": "major=ARTI - BIOM - DATA - INTE - QUAN<br>uni=%{customdata[1]}<br>x=%{x}<br>y=%{y}<br>subject_code=%{customdata[0]}<extra></extra>",
         "legendgroup": "ARTI - BIOM - DATA - INTE - QUAN, UTS",
         "marker": {
          "color": "#FECB52",
          "symbol": "circle"
         },
         "mode": "markers",
         "name": "ARTI - BIOM - DATA - INTE - QUAN, UTS",
         "orientation": "v",
         "showlegend": true,
         "type": "scatter",
         "x": [
          -13.580931663513184
         ],
         "xaxis": "x",
         "y": [
          -13.480481147766113
         ],
         "yaxis": "y"
        },
        {
         "customdata": [
          [
           "41088",
           "UTS"
          ],
          [
           "41089",
           "UTS"
          ]
         ],
         "hovertemplate": "major=ELEC - RENE<br>uni=%{customdata[1]}<br>x=%{x}<br>y=%{y}<br>subject_code=%{customdata[0]}<extra></extra>",
         "legendgroup": "ELEC - RENE, UTS",
         "marker": {
          "color": "#636efa",
          "symbol": "circle"
         },
         "mode": "markers",
         "name": "ELEC - RENE, UTS",
         "orientation": "v",
         "showlegend": true,
         "type": "scatter",
         "x": [
          -29.532995223999023,
          -29.602924346923828
         ],
         "xaxis": "x",
         "y": [
          5.328812122344971,
          5.0021233558654785
         ],
         "yaxis": "y"
        },
        {
         "customdata": [
          [
           "48641",
           "UTS"
          ],
          [
           "48350",
           "UTS"
          ]
         ],
         "hovertemplate": "major=CHEM - CIVI<br>uni=%{customdata[1]}<br>x=%{x}<br>y=%{y}<br>subject_code=%{customdata[0]}<extra></extra>",
         "legendgroup": "CHEM - CIVI, UTS",
         "marker": {
          "color": "#EF553B",
          "symbol": "circle"
         },
         "mode": "markers",
         "name": "CHEM - CIVI, UTS",
         "orientation": "v",
         "showlegend": true,
         "type": "scatter",
         "x": [
          -18.733686447143555,
          -29.700397491455078
         ],
         "xaxis": "x",
         "y": [
          -15.499738693237305,
          -16.17975425720215
         ],
         "yaxis": "y"
        },
        {
         "customdata": [
          [
           "41030",
           "UTS"
          ],
          [
           "41029",
           "UTS"
          ]
         ],
         "hovertemplate": "major=BIOM - CHEM - CIVI - DATA - ELEC - MECH - RENE - SOFT<br>uni=%{customdata[1]}<br>x=%{x}<br>y=%{y}<br>subject_code=%{customdata[0]}<extra></extra>",
         "legendgroup": "BIOM - CHEM - CIVI - DATA - ELEC - MECH - RENE - SOFT, UTS",
         "marker": {
          "color": "#00cc96",
          "symbol": "circle"
         },
         "mode": "markers",
         "name": "BIOM - CHEM - CIVI - DATA - ELEC - MECH - RENE - SOFT, UTS",
         "orientation": "v",
         "showlegend": true,
         "type": "scatter",
         "x": [
          -22.698223114013672,
          -26.728145599365234
         ],
         "xaxis": "x",
         "y": [
          -14.472254753112793,
          -20.86638832092285
         ],
         "yaxis": "y"
        },
        {
         "customdata": [
          [
           "31257",
           "UTS"
          ],
          [
           "31282",
           "UTS"
          ]
         ],
         "hovertemplate": "major=BUSI - SOFT<br>uni=%{customdata[1]}<br>x=%{x}<br>y=%{y}<br>subject_code=%{customdata[0]}<extra></extra>",
         "legendgroup": "BUSI - SOFT, UTS",
         "marker": {
          "color": "#ab63fa",
          "symbol": "circle"
         },
         "mode": "markers",
         "name": "BUSI - SOFT, UTS",
         "orientation": "v",
         "showlegend": true,
         "type": "scatter",
         "x": [
          -16.424814224243164,
          -19.99826431274414
         ],
         "xaxis": "x",
         "y": [
          -4.847553730010986,
          -14.207574844360352
         ],
         "yaxis": "y"
        },
        {
         "customdata": [
          [
           "41180",
           "UTS"
          ],
          [
           "41181",
           "UTS"
          ],
          [
           "41182",
           "UTS"
          ],
          [
           "41183",
           "UTS"
          ],
          [
           "41184",
           "UTS"
          ],
          [
           "41185",
           "UTS"
          ]
         ],
         "hovertemplate": "major=CYBE<br>uni=%{customdata[1]}<br>x=%{x}<br>y=%{y}<br>subject_code=%{customdata[0]}<extra></extra>",
         "legendgroup": "CYBE, UTS",
         "marker": {
          "color": "#FFA15A",
          "symbol": "circle"
         },
         "mode": "markers",
         "name": "CYBE, UTS",
         "orientation": "v",
         "showlegend": true,
         "type": "scatter",
         "x": [
          -16.201038360595703,
          -17.055522918701172,
          -18.472864151000977,
          -16.12828826904297,
          -17.472148895263672,
          -18.053598403930664
         ],
         "xaxis": "x",
         "y": [
          -10.317148208618164,
          -11.765375137329102,
          -10.69028377532959,
          -10.684857368469238,
          -10.178298950195312,
          -12.316018104553223
         ],
         "yaxis": "y"
        },
        {
         "customdata": [
          [
           "48436",
           "UTS"
          ],
          [
           "41900",
           "UTS"
          ]
         ],
         "hovertemplate": "major=CYBE - NETW<br>uni=%{customdata[1]}<br>x=%{x}<br>y=%{y}<br>subject_code=%{customdata[0]}<extra></extra>",
         "legendgroup": "CYBE - NETW, UTS",
         "marker": {
          "color": "#19d3f3",
          "symbol": "circle"
         },
         "mode": "markers",
         "name": "CYBE - NETW, UTS",
         "orientation": "v",
         "showlegend": true,
         "type": "scatter",
         "x": [
          -16.905569076538086,
          -19.085224151611328
         ],
         "xaxis": "x",
         "y": [
          -9.520263671875,
          -7.881777286529541
         ],
         "yaxis": "y"
        },
        {
         "customdata": [
          [
           "65111",
           "UTS"
          ]
         ],
         "hovertemplate": "major=BIOM - CIVI<br>uni=%{customdata[1]}<br>x=%{x}<br>y=%{y}<br>subject_code=%{customdata[0]}<extra></extra>",
         "legendgroup": "BIOM - CIVI, UTS",
         "marker": {
          "color": "#FF6692",
          "symbol": "circle"
         },
         "mode": "markers",
         "name": "BIOM - CIVI, UTS",
         "orientation": "v",
         "showlegend": true,
         "type": "scatter",
         "x": [
          -37.6275520324707
         ],
         "xaxis": "x",
         "y": [
          -8.023472785949707
         ],
         "yaxis": "y"
        },
        {
         "customdata": [
          [
           "48730",
           "UTS"
          ]
         ],
         "hovertemplate": "major=CYBE - DATA - NETW<br>uni=%{customdata[1]}<br>x=%{x}<br>y=%{y}<br>subject_code=%{customdata[0]}<extra></extra>",
         "legendgroup": "CYBE - DATA - NETW, UTS",
         "marker": {
          "color": "#B6E880",
          "symbol": "circle"
         },
         "mode": "markers",
         "name": "CYBE - DATA - NETW, UTS",
         "orientation": "v",
         "showlegend": true,
         "type": "scatter",
         "x": [
          -28.887882232666016
         ],
         "xaxis": "x",
         "y": [
          1.3516439199447632
         ],
         "yaxis": "y"
        },
        {
         "customdata": [
          [
           "41052",
           "UTS"
          ]
         ],
         "hovertemplate": "major=ENTE - QUAN<br>uni=%{customdata[1]}<br>x=%{x}<br>y=%{y}<br>subject_code=%{customdata[0]}<extra></extra>",
         "legendgroup": "ENTE - QUAN, UTS",
         "marker": {
          "color": "#FF97FF",
          "symbol": "circle"
         },
         "mode": "markers",
         "name": "ENTE - QUAN, UTS",
         "orientation": "v",
         "showlegend": true,
         "type": "scatter",
         "x": [
          -14.209835052490234
         ],
         "xaxis": "x",
         "y": [
          -0.07536351680755615
         ],
         "yaxis": "y"
        },
        {
         "customdata": [
          [
           "48510",
           "UTS"
          ]
         ],
         "hovertemplate": "major=BIOM - RENE<br>uni=%{customdata[1]}<br>x=%{x}<br>y=%{y}<br>subject_code=%{customdata[0]}<extra></extra>",
         "legendgroup": "BIOM - RENE, UTS",
         "marker": {
          "color": "#FECB52",
          "symbol": "circle"
         },
         "mode": "markers",
         "name": "BIOM - RENE, UTS",
         "orientation": "v",
         "showlegend": true,
         "type": "scatter",
         "x": [
          -31.82436752319336
         ],
         "xaxis": "x",
         "y": [
          -0.6474199295043945
         ],
         "yaxis": "y"
        },
        {
         "customdata": [
          [
           "42028",
           "UTS"
          ],
          [
           "43025",
           "UTS"
          ]
         ],
         "hovertemplate": "major=ARTI - QUAN<br>uni=%{customdata[1]}<br>x=%{x}<br>y=%{y}<br>subject_code=%{customdata[0]}<extra></extra>",
         "legendgroup": "ARTI - QUAN, UTS",
         "marker": {
          "color": "#636efa",
          "symbol": "circle"
         },
         "mode": "markers",
         "name": "ARTI - QUAN, UTS",
         "orientation": "v",
         "showlegend": true,
         "type": "scatter",
         "x": [
          -23.42556381225586,
          -16.1490421295166
         ],
         "xaxis": "x",
         "y": [
          -7.696298599243164,
          0.9761832356452942
         ],
         "yaxis": "y"
        },
        {
         "customdata": [
          [
           "48433",
           "UTS"
          ]
         ],
         "hovertemplate": "major=ENTE - SOFT<br>uni=%{customdata[1]}<br>x=%{x}<br>y=%{y}<br>subject_code=%{customdata[0]}<extra></extra>",
         "legendgroup": "ENTE - SOFT, UTS",
         "marker": {
          "color": "#EF553B",
          "symbol": "circle"
         },
         "mode": "markers",
         "name": "ENTE - SOFT, UTS",
         "orientation": "v",
         "showlegend": true,
         "type": "scatter",
         "x": [
          -29.66669464111328
         ],
         "xaxis": "x",
         "y": [
          -3.1328070163726807
         ],
         "yaxis": "y"
        },
        {
         "customdata": [
          [
           "SOFT2412",
           "USYD"
          ],
          [
           "SOFT3202",
           "USYD"
          ],
          [
           "SOFT2201",
           "USYD"
          ],
          [
           "SOFT3888",
           "USYD"
          ],
          [
           "INFO3315",
           "USYD"
          ]
         ],
         "hovertemplate": "major=ENTE - SOFT<br>uni=%{customdata[1]}<br>x=%{x}<br>y=%{y}<br>subject_code=%{customdata[0]}<extra></extra>",
         "legendgroup": "ENTE - SOFT, USYD",
         "marker": {
          "color": "#EF553B",
          "symbol": "diamond"
         },
         "mode": "markers",
         "name": "ENTE - SOFT, USYD",
         "orientation": "v",
         "showlegend": true,
         "type": "scatter",
         "x": [
          36.05495071411133,
          39.395965576171875,
          38.58756637573242,
          31.80120277404785,
          19.921890258789062
         ],
         "xaxis": "x",
         "y": [
          1.154770851135254,
          1.5580339431762695,
          1.3875397443771362,
          7.285462856292725,
          8.072526931762695
         ],
         "yaxis": "y"
        },
        {
         "customdata": [
          [
           "31005",
           "UTS"
          ]
         ],
         "hovertemplate": "major=ARTI - DATA - QUAN<br>uni=%{customdata[1]}<br>x=%{x}<br>y=%{y}<br>subject_code=%{customdata[0]}<extra></extra>",
         "legendgroup": "ARTI - DATA - QUAN, UTS",
         "marker": {
          "color": "#00cc96",
          "symbol": "circle"
         },
         "mode": "markers",
         "name": "ARTI - DATA - QUAN, UTS",
         "orientation": "v",
         "showlegend": true,
         "type": "scatter",
         "x": [
          -23.102317810058594
         ],
         "xaxis": "x",
         "y": [
          -9.055654525756836
         ],
         "yaxis": "y"
        },
        {
         "customdata": [
          [
           "91161",
           "UTS"
          ]
         ],
         "hovertemplate": "major=BIOM - CHEM<br>uni=%{customdata[1]}<br>x=%{x}<br>y=%{y}<br>subject_code=%{customdata[0]}<extra></extra>",
         "legendgroup": "BIOM - CHEM, UTS",
         "marker": {
          "color": "#ab63fa",
          "symbol": "circle"
         },
         "mode": "markers",
         "name": "BIOM - CHEM, UTS",
         "orientation": "v",
         "showlegend": true,
         "type": "scatter",
         "x": [
          -38.45529556274414
         ],
         "xaxis": "x",
         "y": [
          -7.482046604156494
         ],
         "yaxis": "y"
        },
        {
         "customdata": [
          [
           "41039",
           "UTS"
          ]
         ],
         "hovertemplate": "major=DATA - RENE - SOFT<br>uni=%{customdata[1]}<br>x=%{x}<br>y=%{y}<br>subject_code=%{customdata[0]}<extra></extra>",
         "legendgroup": "DATA - RENE - SOFT, UTS",
         "marker": {
          "color": "#FFA15A",
          "symbol": "circle"
         },
         "mode": "markers",
         "name": "DATA - RENE - SOFT, UTS",
         "orientation": "v",
         "showlegend": true,
         "type": "scatter",
         "x": [
          -20.78687286376953
         ],
         "xaxis": "x",
         "y": [
          -2.961179494857788
         ],
         "yaxis": "y"
        },
        {
         "customdata": [
          [
           "ELEC2104",
           "USYD"
          ],
          [
           "ELEC3204",
           "USYD"
          ]
         ],
         "hovertemplate": "major=ELEC - MECH - SOFT<br>uni=%{customdata[1]}<br>x=%{x}<br>y=%{y}<br>subject_code=%{customdata[0]}<extra></extra>",
         "legendgroup": "ELEC - MECH - SOFT, USYD",
         "marker": {
          "color": "#19d3f3",
          "symbol": "diamond"
         },
         "mode": "markers",
         "name": "ELEC - MECH - SOFT, USYD",
         "orientation": "v",
         "showlegend": true,
         "type": "scatter",
         "x": [
          29.886281967163086,
          31.678550720214844
         ],
         "xaxis": "x",
         "y": [
          -2.45660400390625,
          -4.905570030212402
         ],
         "yaxis": "y"
        },
        {
         "customdata": [
          [
           "COMP3109",
           "USYD"
          ],
          [
           "COMP2922",
           "USYD"
          ],
          [
           "COMP3419",
           "USYD"
          ],
          [
           "COMP2022",
           "USYD"
          ]
         ],
         "hovertemplate": "major=COMP - SOFT<br>uni=%{customdata[1]}<br>x=%{x}<br>y=%{y}<br>subject_code=%{customdata[0]}<extra></extra>",
         "legendgroup": "COMP - SOFT, USYD",
         "marker": {
          "color": "#FF6692",
          "symbol": "diamond"
         },
         "mode": "markers",
         "name": "COMP - SOFT, USYD",
         "orientation": "v",
         "showlegend": true,
         "type": "scatter",
         "x": [
          19.5397891998291,
          40.08203125,
          39.434791564941406,
          40.08934020996094
         ],
         "xaxis": "x",
         "y": [
          9.950383186340332,
          -8.1011323928833,
          -0.2557165026664734,
          -8.063159942626953
         ],
         "yaxis": "y"
        },
        {
         "customdata": [
          [
           "ELEC5507",
           "USYD"
          ],
          [
           "ELEC3607",
           "USYD"
          ],
          [
           "ELEC3304",
           "USYD"
          ],
          [
           "ELEC5511",
           "USYD"
          ],
          [
           "ELEC5213",
           "USYD"
          ],
          [
           "ELEC5205",
           "USYD"
          ],
          [
           "PHYS1003",
           "USYD"
          ],
          [
           "ELEC5622",
           "USYD"
          ],
          [
           "ELEC5618",
           "USYD"
          ],
          [
           "ELEC5208",
           "USYD"
          ],
          [
           "ELEC5619",
           "USYD"
          ],
          [
           "PHYS2213",
           "USYD"
          ],
          [
           "ELEC5204",
           "USYD"
          ],
          [
           "ELEC3104",
           "USYD"
          ],
          [
           "ELEC5212",
           "USYD"
          ],
          [
           "ELEC1601",
           "USYD"
          ],
          [
           "ELEC5510",
           "USYD"
          ],
          [
           "ELEC3702",
           "USYD"
          ],
          [
           "ELEC3610",
           "USYD"
          ],
          [
           "ELEC3305",
           "USYD"
          ],
          [
           "ELEC5101",
           "USYD"
          ],
          [
           "ELEC3206",
           "USYD"
          ],
          [
           "ELEC5517",
           "USYD"
          ],
          [
           "ELEC5307",
           "USYD"
          ],
          [
           "ELEC5203",
           "USYD"
          ],
          [
           "ELEC3505",
           "USYD"
          ],
          [
           "ELEC5306",
           "USYD"
          ],
          [
           "ELEC2302",
           "USYD"
          ],
          [
           "ELEC5701",
           "USYD"
          ],
          [
           "ELEC5516",
           "USYD"
          ],
          [
           "ELEC2103",
           "USYD"
          ],
          [
           "ELEC5760",
           "USYD"
          ],
          [
           "COMP4216",
           "USYD"
          ],
          [
           "COMP4447",
           "USYD"
          ],
          [
           "ELEC2602",
           "USYD"
          ],
          [
           "ELEC3802",
           "USYD"
          ],
          [
           "ELEC5305",
           "USYD"
          ],
          [
           "COMP4426",
           "USYD"
          ],
          [
           "ELEC2100",
           "USYD"
          ],
          [
           "ELEC4714",
           "USYD"
          ],
          [
           "ELEC5514",
           "USYD"
          ],
          [
           "ELEC5304",
           "USYD"
          ],
          [
           "ELEC3803",
           "USYD"
          ],
          [
           "ELEC5518",
           "USYD"
          ],
          [
           "ELEC5308",
           "USYD"
          ],
          [
           "ELEC5207",
           "USYD"
          ],
          [
           "ELEC3404",
           "USYD"
          ],
          [
           "ELEC5616",
           "USYD"
          ],
          [
           "ELEC5211",
           "USYD"
          ],
          [
           "ELEC3609",
           "USYD"
          ],
          [
           "ELEC5620",
           "USYD"
          ],
          [
           "PHYS1001",
           "USYD"
          ],
          [
           "ELEC5509",
           "USYD"
          ],
          [
           "ELEC5508",
           "USYD"
          ],
          [
           "ELEC3608",
           "USYD"
          ],
          [
           "ELEC3203",
           "USYD"
          ],
          [
           "ELEC3612",
           "USYD"
          ],
          [
           "ELEC5512",
           "USYD"
          ],
          [
           "ELEC3405",
           "USYD"
          ],
          [
           "ELEC4505",
           "USYD"
          ],
          [
           "ELEC5206",
           "USYD"
          ]
         ],
         "hovertemplate": "major=ELEC - SOFT<br>uni=%{customdata[1]}<br>x=%{x}<br>y=%{y}<br>subject_code=%{customdata[0]}<extra></extra>",
         "legendgroup": "ELEC - SOFT, USYD",
         "marker": {
          "color": "#B6E880",
          "symbol": "diamond"
         },
         "mode": "markers",
         "name": "ELEC - SOFT, USYD",
         "orientation": "v",
         "showlegend": true,
         "type": "scatter",
         "x": [
          27.23735237121582,
          34.98558044433594,
          27.4921932220459,
          23.383081436157227,
          36.823760986328125,
          23.224960327148438,
          19.368101119995117,
          34.425846099853516,
          20.58768653869629,
          25.19588279724121,
          21.094860076904297,
          19.415246963500977,
          25.892162322998047,
          40.91209411621094,
          10.215970993041992,
          35.14421463012695,
          27.749919891357422,
          10.669294357299805,
          23.638708114624023,
          32.367942810058594,
          28.673521041870117,
          30.438556671142578,
          36.3648567199707,
          40.359554290771484,
          -16.82452964782715,
          24.736412048339844,
          40.339073181152344,
          28.355236053466797,
          -33.586612701416016,
          30.4104061126709,
          25.790599822998047,
          -33.586612701416016,
          20.682764053344727,
          17.56282615661621,
          42.03642272949219,
          17.662662506103516,
          31.84597396850586,
          18.843059539794922,
          16.292814254760742,
          35.348941802978516,
          27.618152618408203,
          38.554588317871094,
          -33.586612701416016,
          22.290590286254883,
          25.447093963623047,
          31.765846252441406,
          28.957130432128906,
          30.448217391967773,
          26.894235610961914,
          22.11747932434082,
          21.44481658935547,
          27.914560317993164,
          23.495925903320312,
          28.8630428314209,
          41.40746307373047,
          30.439409255981445,
          35.97226333618164,
          24.26301383972168,
          23.52728843688965,
          34.11071014404297,
          25.67918586730957
         ],
         "xaxis": "x",
         "y": [
          -2.5864593982696533,
          0.9832162857055664,
          -5.961886882781982,
          -8.718231201171875,
          -6.613778114318848,
          -5.894844055175781,
          -0.11481639742851257,
          -0.7244485020637512,
          5.522158145904541,
          -3.7802159786224365,
          7.471519947052002,
          -1.0041919946670532,
          -5.856579780578613,
          -2.8000340461730957,
          -1.5187947750091553,
          1.7079087495803833,
          -1.5656473636627197,
          10.96803092956543,
          6.472639083862305,
          -2.7925312519073486,
          -4.745626926422119,
          -4.264642715454102,
          2.0280041694641113,
          0.8132157325744629,
          5.256323337554932,
          -7.858928680419922,
          0.20351888239383698,
          -3.196164608001709,
          14.392802238464355,
          -2.224081516265869,
          -1.4886066913604736,
          14.392802238464355,
          12.142230987548828,
          12.41880989074707,
          -0.5540233254432678,
          -5.544864654541016,
          -2.705378532409668,
          14.1045503616333,
          -5.4622039794921875,
          8.894874572753906,
          -0.6910805702209473,
          -0.7034666538238525,
          14.392802238464355,
          5.499508857727051,
          9.991790771484375,
          -5.743772983551025,
          -3.5719923973083496,
          3.677811622619629,
          -4.913030624389648,
          7.861537933349609,
          4.62383508682251,
          4.637359142303467,
          8.551475524902344,
          -1.0972744226455688,
          0.9761605858802795,
          -5.008584976196289,
          -1.0733308792114258,
          -9.156970977783203,
          -8.4756441116333,
          0.825329065322876,
          -4.289907455444336
         ],
         "yaxis": "y"
        },
        {
         "customdata": [
          [
           "AMME5060",
           "USYD"
          ],
          [
           "MECH3261",
           "USYD"
          ],
          [
           "AMME5902",
           "USYD"
          ],
          [
           "AMME5105",
           "USYD"
          ],
          [
           "AMME5104",
           "USYD"
          ],
          [
           "MTRX1705",
           "USYD"
          ],
          [
           "MECH1400",
           "USYD"
          ],
          [
           "MECH3260",
           "USYD"
          ],
          [
           "MECH5265",
           "USYD"
          ],
          [
           "AMME4010",
           "USYD"
          ],
          [
           "AMME4401",
           "USYD"
          ],
          [
           "MECH2401",
           "USYD"
          ],
          [
           "MTRX1702",
           "USYD"
          ],
          [
           "AMME5292",
           "USYD"
          ],
          [
           "MTRX5700",
           "USYD"
          ],
          [
           "AMME5912",
           "USYD"
          ],
          [
           "MECH5311",
           "USYD"
          ],
          [
           "AMME2500",
           "USYD"
          ],
          [
           "MECH5720",
           "USYD"
          ],
          [
           "MECH2460",
           "USYD"
          ],
          [
           "AMME5271",
           "USYD"
          ],
          [
           "MECH3362",
           "USYD"
          ],
          [
           "AMME2262",
           "USYD"
          ],
          [
           "MECH5275",
           "USYD"
          ],
          [
           "MECH3460",
           "USYD"
          ],
          [
           "MECH5310",
           "USYD"
          ],
          [
           "MECH5255",
           "USYD"
          ],
          [
           "MECH2400",
           "USYD"
          ],
          [
           "AMME3500",
           "USYD"
          ],
          [
           "AMME5101",
           "USYD"
          ],
          [
           "AMME4710",
           "USYD"
          ],
          [
           "AMME5510",
           "USYD"
          ],
          [
           "MECH5305",
           "USYD"
          ],
          [
           "AMME2200",
           "USYD"
          ],
          [
           "AMME1705",
           "USYD"
          ],
          [
           "AMME2261",
           "USYD"
          ],
          [
           "AMME3060",
           "USYD"
          ],
          [
           "AMME2000",
           "USYD"
          ],
          [
           "MECH5304",
           "USYD"
          ],
          [
           "MTRX3760",
           "USYD"
          ],
          [
           "MECH4660",
           "USYD"
          ],
          [
           "AERO5750",
           "USYD"
          ],
          [
           "AMME5520",
           "USYD"
          ],
          [
           "MTRX2700",
           "USYD"
          ],
          [
           "AMME5202",
           "USYD"
          ],
          [
           "AMME5310",
           "USYD"
          ],
          [
           "MTRX3700",
           "USYD"
          ],
          [
           "MECH4460",
           "USYD"
          ],
          [
           "MECH5461",
           "USYD"
          ]
         ],
         "hovertemplate": "major=MECH<br>uni=%{customdata[1]}<br>x=%{x}<br>y=%{y}<br>subject_code=%{customdata[0]}<extra></extra>",
         "legendgroup": "MECH, USYD",
         "marker": {
          "color": "#FF97FF",
          "symbol": "diamond"
         },
         "mode": "markers",
         "name": "MECH, USYD",
         "orientation": "v",
         "showlegend": true,
         "type": "scatter",
         "x": [
          12.263177871704102,
          33.16144943237305,
          13.71348762512207,
          12.6001615524292,
          10.136544227600098,
          42.138065338134766,
          25.8125,
          35.81980514526367,
          13.079039573669434,
          34.13548278808594,
          22.76298713684082,
          14.228775024414062,
          40.40150833129883,
          14.351747512817383,
          17.034189224243164,
          14.749374389648438,
          13.90418529510498,
          27.451770782470703,
          14.473688125610352,
          14.26419448852539,
          15.114387512207031,
          33.3756217956543,
          35.118194580078125,
          24.788354873657227,
          11.395798683166504,
          15.587923049926758,
          12.193812370300293,
          38.68558120727539,
          27.30768394470215,
          13.711538314819336,
          36.57200622558594,
          12.482234954833984,
          16.274673461914062,
          35.1580810546875,
          21.120100021362305,
          33.248355865478516,
          40.30220413208008,
          40.875457763671875,
          32.67182540893555,
          37.28071975708008,
          11.220601081848145,
          13.867508888244629,
          13.76854419708252,
          30.173208236694336,
          14.39859676361084,
          15.696497917175293,
          20.91199493408203,
          25.8959903717041,
          14.261768341064453
         ],
         "xaxis": "x",
         "y": [
          5.450307369232178,
          -14.564292907714844,
          3.689173936843872,
          8.834064483642578,
          12.960973739624023,
          -0.958002507686615,
          2.7706398963928223,
          -13.994956016540527,
          3.3645384311676025,
          9.26876449584961,
          3.667417526245117,
          -0.7429315447807312,
          1.8237708806991577,
          4.841994762420654,
          3.175330400466919,
          5.997925281524658,
          1.8782817125320435,
          -7.739809036254883,
          6.532976150512695,
          -3.232956647872925,
          2.9253673553466797,
          -9.345993041992188,
          -12.954023361206055,
          -4.765264987945557,
          4.089542388916016,
          6.156026840209961,
          2.404665470123291,
          4.659473896026611,
          -6.022350311279297,
          5.126618385314941,
          -1.085452675819397,
          6.621082782745361,
          5.484188079833984,
          -12.7390775680542,
          -6.866521835327148,
          -13.954143524169922,
          4.987476825714111,
          4.606244087219238,
          1.6479326486587524,
          1.5245519876480103,
          11.104825019836426,
          7.678852081298828,
          5.968080997467041,
          4.332673072814941,
          5.57774543762207,
          2.205519914627075,
          3.573859453201294,
          0.49328675866127014,
          -2.070784568786621
         ],
         "yaxis": "y"
        },
        {
         "customdata": [
          [
           "BMET5790",
           "USYD"
          ],
          [
           "AMME2301",
           "USYD"
          ],
          [
           "AMME1802",
           "USYD"
          ],
          [
           "MECH3361",
           "USYD"
          ],
          [
           "AMME1362",
           "USYD"
          ]
         ],
         "hovertemplate": "major=BIOM - MECH<br>uni=%{customdata[1]}<br>x=%{x}<br>y=%{y}<br>subject_code=%{customdata[0]}<extra></extra>",
         "legendgroup": "BIOM - MECH, USYD",
         "marker": {
          "color": "#FECB52",
          "symbol": "diamond"
         },
         "mode": "markers",
         "name": "BIOM - MECH, USYD",
         "orientation": "v",
         "showlegend": true,
         "type": "scatter",
         "x": [
          30.46959114074707,
          34.82978439331055,
          32.3188591003418,
          29.556015014648438,
          38.963417053222656
         ],
         "xaxis": "x",
         "y": [
          -0.307597815990448,
          -9.7041654586792,
          -12.497990608215332,
          -9.250931739807129,
          5.670842170715332
         ],
         "yaxis": "y"
        },
        {
         "customdata": [
          [
           "COMP3888",
           "USYD"
          ],
          [
           "COMP3988",
           "USYD"
          ]
         ],
         "hovertemplate": "major=COMP<br>uni=%{customdata[1]}<br>x=%{x}<br>y=%{y}<br>subject_code=%{customdata[0]}<extra></extra>",
         "legendgroup": "COMP, USYD",
         "marker": {
          "color": "#636efa",
          "symbol": "diamond"
         },
         "mode": "markers",
         "name": "COMP, USYD",
         "orientation": "v",
         "showlegend": true,
         "type": "scatter",
         "x": [
          31.86882209777832,
          31.101011276245117
         ],
         "xaxis": "x",
         "y": [
          7.225231170654297,
          7.521759986877441
         ],
         "yaxis": "y"
        },
        {
         "customdata": [
          [
           "COMP3308",
           "USYD"
          ]
         ],
         "hovertemplate": "major=ARTI - COMP - MECH - SOFT<br>uni=%{customdata[1]}<br>x=%{x}<br>y=%{y}<br>subject_code=%{customdata[0]}<extra></extra>",
         "legendgroup": "ARTI - COMP - MECH - SOFT, USYD",
         "marker": {
          "color": "#EF553B",
          "symbol": "diamond"
         },
         "mode": "markers",
         "name": "ARTI - COMP - MECH - SOFT, USYD",
         "orientation": "v",
         "showlegend": true,
         "type": "scatter",
         "x": [
          36.533905029296875
         ],
         "xaxis": "x",
         "y": [
          -3.1066091060638428
         ],
         "yaxis": "y"
        },
        {
         "customdata": [
          [
           "MATH2061",
           "USYD"
          ]
         ],
         "hovertemplate": "major=CIVI - ELEC - SOFT<br>uni=%{customdata[1]}<br>x=%{x}<br>y=%{y}<br>subject_code=%{customdata[0]}<extra></extra>",
         "legendgroup": "CIVI - ELEC - SOFT, USYD",
         "marker": {
          "color": "#00cc96",
          "symbol": "diamond"
         },
         "mode": "markers",
         "name": "CIVI - ELEC - SOFT, USYD",
         "orientation": "v",
         "showlegend": true,
         "type": "scatter",
         "x": [
          45.079063415527344
         ],
         "xaxis": "x",
         "y": [
          -0.49751216173171997
         ],
         "yaxis": "y"
        },
        {
         "customdata": [
          [
           "INFO1910",
           "USYD"
          ],
          [
           "INFO1110",
           "USYD"
          ]
         ],
         "hovertemplate": "major=ARTI - COMP - ENTE - NETW<br>uni=%{customdata[1]}<br>x=%{x}<br>y=%{y}<br>subject_code=%{customdata[0]}<extra></extra>",
         "legendgroup": "ARTI - COMP - ENTE - NETW, USYD",
         "marker": {
          "color": "#ab63fa",
          "symbol": "diamond"
         },
         "mode": "markers",
         "name": "ARTI - COMP - ENTE - NETW, USYD",
         "orientation": "v",
         "showlegend": true,
         "type": "scatter",
         "x": [
          43.75059509277344,
          43.463661193847656
         ],
         "xaxis": "x",
         "y": [
          1.7319802045822144,
          2.399973154067993
         ],
         "yaxis": "y"
        },
        {
         "customdata": [
          [
           "COMP2017",
           "USYD"
          ]
         ],
         "hovertemplate": "major=COMP - ELEC - NETW - SOFT<br>uni=%{customdata[1]}<br>x=%{x}<br>y=%{y}<br>subject_code=%{customdata[0]}<extra></extra>",
         "legendgroup": "COMP - ELEC - NETW - SOFT, USYD",
         "marker": {
          "color": "#FFA15A",
          "symbol": "diamond"
         },
         "mode": "markers",
         "name": "COMP - ELEC - NETW - SOFT, USYD",
         "orientation": "v",
         "showlegend": true,
         "type": "scatter",
         "x": [
          35.72308349609375
         ],
         "xaxis": "x",
         "y": [
          -4.704160690307617
         ],
         "yaxis": "y"
        },
        {
         "customdata": [
          [
           "COMP3221",
           "USYD"
          ]
         ],
         "hovertemplate": "major=COMP - NETW - SOFT<br>uni=%{customdata[1]}<br>x=%{x}<br>y=%{y}<br>subject_code=%{customdata[0]}<extra></extra>",
         "legendgroup": "COMP - NETW - SOFT, USYD",
         "marker": {
          "color": "#19d3f3",
          "symbol": "diamond"
         },
         "mode": "markers",
         "name": "COMP - NETW - SOFT, USYD",
         "orientation": "v",
         "showlegend": true,
         "type": "scatter",
         "x": [
          37.785072326660156
         ],
         "xaxis": "x",
         "y": [
          -3.2023894786834717
         ],
         "yaxis": "y"
        },
        {
         "customdata": [
          [
           "ISYS2120",
           "USYD"
          ]
         ],
         "hovertemplate": "major=NETW - SOFT<br>uni=%{customdata[1]}<br>x=%{x}<br>y=%{y}<br>subject_code=%{customdata[0]}<extra></extra>",
         "legendgroup": "NETW - SOFT, USYD",
         "marker": {
          "color": "#FF6692",
          "symbol": "diamond"
         },
         "mode": "markers",
         "name": "NETW - SOFT, USYD",
         "orientation": "v",
         "showlegend": true,
         "type": "scatter",
         "x": [
          24.721195220947266
         ],
         "xaxis": "x",
         "y": [
          14.361692428588867
         ],
         "yaxis": "y"
        },
        {
         "customdata": [
          [
           "COMP3027",
           "USYD"
          ],
          [
           "COMP3927",
           "USYD"
          ],
          [
           "COMP3608",
           "USYD"
          ]
         ],
         "hovertemplate": "major=ARTI - COMP - SOFT<br>uni=%{customdata[1]}<br>x=%{x}<br>y=%{y}<br>subject_code=%{customdata[0]}<extra></extra>",
         "legendgroup": "ARTI - COMP - SOFT, USYD",
         "marker": {
          "color": "#B6E880",
          "symbol": "diamond"
         },
         "mode": "markers",
         "name": "ARTI - COMP - SOFT, USYD",
         "orientation": "v",
         "showlegend": true,
         "type": "scatter",
         "x": [
          38.1978759765625,
          38.261199951171875,
          39.066505432128906
         ],
         "xaxis": "x",
         "y": [
          -5.287206649780273,
          -5.294704437255859,
          3.5037825107574463
         ],
         "yaxis": "y"
        },
        {
         "customdata": [
          [
           "COMP2123",
           "USYD"
          ]
         ],
         "hovertemplate": "major=ARTI - COMP - ELEC - ENTE - SOFT<br>uni=%{customdata[1]}<br>x=%{x}<br>y=%{y}<br>subject_code=%{customdata[0]}<extra></extra>",
         "legendgroup": "ARTI - COMP - ELEC - ENTE - SOFT, USYD",
         "marker": {
          "color": "#FF97FF",
          "symbol": "diamond"
         },
         "mode": "markers",
         "name": "ARTI - COMP - ELEC - ENTE - SOFT, USYD",
         "orientation": "v",
         "showlegend": true,
         "type": "scatter",
         "x": [
          36.9638671875
         ],
         "xaxis": "x",
         "y": [
          -4.47823429107666
         ],
         "yaxis": "y"
        },
        {
         "customdata": [
          [
           "DATA3404",
           "USYD"
          ],
          [
           "DATA2901",
           "USYD"
          ],
          [
           "DATA2002",
           "USYD"
          ],
          [
           "DATA2001",
           "USYD"
          ],
          [
           "DATA2902",
           "USYD"
          ],
          [
           "DATA3406",
           "USYD"
          ]
         ],
         "hovertemplate": "major=ARTI - SOFT<br>uni=%{customdata[1]}<br>x=%{x}<br>y=%{y}<br>subject_code=%{customdata[0]}<extra></extra>",
         "legendgroup": "ARTI - SOFT, USYD",
         "marker": {
          "color": "#FECB52",
          "symbol": "diamond"
         },
         "mode": "markers",
         "name": "ARTI - SOFT, USYD",
         "orientation": "v",
         "showlegend": true,
         "type": "scatter",
         "x": [
          24.964092254638672,
          24.289857864379883,
          22.211057662963867,
          24.406009674072266,
          22.18975067138672,
          14.02134895324707
         ],
         "xaxis": "x",
         "y": [
          14.640999794006348,
          16.28097915649414,
          16.207855224609375,
          16.202592849731445,
          16.200626373291016,
          10.98313045501709
         ],
         "yaxis": "y"
        },
        {
         "customdata": [
          [
           "ELEC3506",
           "USYD"
          ]
         ],
         "hovertemplate": "major=ELEC - NETW - SOFT<br>uni=%{customdata[1]}<br>x=%{x}<br>y=%{y}<br>subject_code=%{customdata[0]}<extra></extra>",
         "legendgroup": "ELEC - NETW - SOFT, USYD",
         "marker": {
          "color": "#636efa",
          "symbol": "diamond"
         },
         "mode": "markers",
         "name": "ELEC - NETW - SOFT, USYD",
         "orientation": "v",
         "showlegend": true,
         "type": "scatter",
         "x": [
          26.820188522338867
         ],
         "xaxis": "x",
         "y": [
          -1.9405890703201294
         ],
         "yaxis": "y"
        },
        {
         "customdata": [
          [
           "COMP2823",
           "USYD"
          ]
         ],
         "hovertemplate": "major=ARTI - COMP - ENTE - SOFT<br>uni=%{customdata[1]}<br>x=%{x}<br>y=%{y}<br>subject_code=%{customdata[0]}<extra></extra>",
         "legendgroup": "ARTI - COMP - ENTE - SOFT, USYD",
         "marker": {
          "color": "#EF553B",
          "symbol": "diamond"
         },
         "mode": "markers",
         "name": "ARTI - COMP - ENTE - SOFT, USYD",
         "orientation": "v",
         "showlegend": true,
         "type": "scatter",
         "x": [
          36.830238342285156
         ],
         "xaxis": "x",
         "y": [
          -4.48799467086792
         ],
         "yaxis": "y"
        },
        {
         "customdata": [
          [
           "INFO1113",
           "USYD"
          ]
         ],
         "hovertemplate": "major=COMP - ELEC - ENTE - NETW - SOFT<br>uni=%{customdata[1]}<br>x=%{x}<br>y=%{y}<br>subject_code=%{customdata[0]}<extra></extra>",
         "legendgroup": "COMP - ELEC - ENTE - NETW - SOFT, USYD",
         "marker": {
          "color": "#00cc96",
          "symbol": "diamond"
         },
         "mode": "markers",
         "name": "COMP - ELEC - ENTE - NETW - SOFT, USYD",
         "orientation": "v",
         "showlegend": true,
         "type": "scatter",
         "x": [
          42.828277587890625
         ],
         "xaxis": "x",
         "y": [
          1.9360928535461426
         ],
         "yaxis": "y"
        },
        {
         "customdata": [
          [
           "COMP3520",
           "USYD"
          ]
         ],
         "hovertemplate": "major=COMP - ELEC - SOFT<br>uni=%{customdata[1]}<br>x=%{x}<br>y=%{y}<br>subject_code=%{customdata[0]}<extra></extra>",
         "legendgroup": "COMP - ELEC - SOFT, USYD",
         "marker": {
          "color": "#ab63fa",
          "symbol": "diamond"
         },
         "mode": "markers",
         "name": "COMP - ELEC - SOFT, USYD",
         "orientation": "v",
         "showlegend": true,
         "type": "scatter",
         "x": [
          36.090240478515625
         ],
         "xaxis": "x",
         "y": [
          3.272831916809082
         ],
         "yaxis": "y"
        },
        {
         "customdata": [
          [
           "COMP4318",
           "USYD"
          ]
         ],
         "hovertemplate": "major=MECH - SOFT<br>uni=%{customdata[1]}<br>x=%{x}<br>y=%{y}<br>subject_code=%{customdata[0]}<extra></extra>",
         "legendgroup": "MECH - SOFT, USYD",
         "marker": {
          "color": "#FFA15A",
          "symbol": "diamond"
         },
         "mode": "markers",
         "name": "MECH - SOFT, USYD",
         "orientation": "v",
         "showlegend": true,
         "type": "scatter",
         "x": [
          35.26026153564453
         ],
         "xaxis": "x",
         "y": [
          -2.540090799331665
         ],
         "yaxis": "y"
        }
       ],
       "layout": {
        "legend": {
         "title": {
          "text": "major, uni"
         },
         "tracegroupgap": 0
        },
        "margin": {
         "t": 60
        },
        "template": {
         "data": {
          "bar": [
           {
            "error_x": {
             "color": "#2a3f5f"
            },
            "error_y": {
             "color": "#2a3f5f"
            },
            "marker": {
             "line": {
              "color": "#E5ECF6",
              "width": 0.5
             },
             "pattern": {
              "fillmode": "overlay",
              "size": 10,
              "solidity": 0.2
             }
            },
            "type": "bar"
           }
          ],
          "barpolar": [
           {
            "marker": {
             "line": {
              "color": "#E5ECF6",
              "width": 0.5
             },
             "pattern": {
              "fillmode": "overlay",
              "size": 10,
              "solidity": 0.2
             }
            },
            "type": "barpolar"
           }
          ],
          "carpet": [
           {
            "aaxis": {
             "endlinecolor": "#2a3f5f",
             "gridcolor": "white",
             "linecolor": "white",
             "minorgridcolor": "white",
             "startlinecolor": "#2a3f5f"
            },
            "baxis": {
             "endlinecolor": "#2a3f5f",
             "gridcolor": "white",
             "linecolor": "white",
             "minorgridcolor": "white",
             "startlinecolor": "#2a3f5f"
            },
            "type": "carpet"
           }
          ],
          "choropleth": [
           {
            "colorbar": {
             "outlinewidth": 0,
             "ticks": ""
            },
            "type": "choropleth"
           }
          ],
          "contour": [
           {
            "colorbar": {
             "outlinewidth": 0,
             "ticks": ""
            },
            "colorscale": [
             [
              0,
              "#0d0887"
             ],
             [
              0.1111111111111111,
              "#46039f"
             ],
             [
              0.2222222222222222,
              "#7201a8"
             ],
             [
              0.3333333333333333,
              "#9c179e"
             ],
             [
              0.4444444444444444,
              "#bd3786"
             ],
             [
              0.5555555555555556,
              "#d8576b"
             ],
             [
              0.6666666666666666,
              "#ed7953"
             ],
             [
              0.7777777777777778,
              "#fb9f3a"
             ],
             [
              0.8888888888888888,
              "#fdca26"
             ],
             [
              1,
              "#f0f921"
             ]
            ],
            "type": "contour"
           }
          ],
          "contourcarpet": [
           {
            "colorbar": {
             "outlinewidth": 0,
             "ticks": ""
            },
            "type": "contourcarpet"
           }
          ],
          "heatmap": [
           {
            "colorbar": {
             "outlinewidth": 0,
             "ticks": ""
            },
            "colorscale": [
             [
              0,
              "#0d0887"
             ],
             [
              0.1111111111111111,
              "#46039f"
             ],
             [
              0.2222222222222222,
              "#7201a8"
             ],
             [
              0.3333333333333333,
              "#9c179e"
             ],
             [
              0.4444444444444444,
              "#bd3786"
             ],
             [
              0.5555555555555556,
              "#d8576b"
             ],
             [
              0.6666666666666666,
              "#ed7953"
             ],
             [
              0.7777777777777778,
              "#fb9f3a"
             ],
             [
              0.8888888888888888,
              "#fdca26"
             ],
             [
              1,
              "#f0f921"
             ]
            ],
            "type": "heatmap"
           }
          ],
          "heatmapgl": [
           {
            "colorbar": {
             "outlinewidth": 0,
             "ticks": ""
            },
            "colorscale": [
             [
              0,
              "#0d0887"
             ],
             [
              0.1111111111111111,
              "#46039f"
             ],
             [
              0.2222222222222222,
              "#7201a8"
             ],
             [
              0.3333333333333333,
              "#9c179e"
             ],
             [
              0.4444444444444444,
              "#bd3786"
             ],
             [
              0.5555555555555556,
              "#d8576b"
             ],
             [
              0.6666666666666666,
              "#ed7953"
             ],
             [
              0.7777777777777778,
              "#fb9f3a"
             ],
             [
              0.8888888888888888,
              "#fdca26"
             ],
             [
              1,
              "#f0f921"
             ]
            ],
            "type": "heatmapgl"
           }
          ],
          "histogram": [
           {
            "marker": {
             "pattern": {
              "fillmode": "overlay",
              "size": 10,
              "solidity": 0.2
             }
            },
            "type": "histogram"
           }
          ],
          "histogram2d": [
           {
            "colorbar": {
             "outlinewidth": 0,
             "ticks": ""
            },
            "colorscale": [
             [
              0,
              "#0d0887"
             ],
             [
              0.1111111111111111,
              "#46039f"
             ],
             [
              0.2222222222222222,
              "#7201a8"
             ],
             [
              0.3333333333333333,
              "#9c179e"
             ],
             [
              0.4444444444444444,
              "#bd3786"
             ],
             [
              0.5555555555555556,
              "#d8576b"
             ],
             [
              0.6666666666666666,
              "#ed7953"
             ],
             [
              0.7777777777777778,
              "#fb9f3a"
             ],
             [
              0.8888888888888888,
              "#fdca26"
             ],
             [
              1,
              "#f0f921"
             ]
            ],
            "type": "histogram2d"
           }
          ],
          "histogram2dcontour": [
           {
            "colorbar": {
             "outlinewidth": 0,
             "ticks": ""
            },
            "colorscale": [
             [
              0,
              "#0d0887"
             ],
             [
              0.1111111111111111,
              "#46039f"
             ],
             [
              0.2222222222222222,
              "#7201a8"
             ],
             [
              0.3333333333333333,
              "#9c179e"
             ],
             [
              0.4444444444444444,
              "#bd3786"
             ],
             [
              0.5555555555555556,
              "#d8576b"
             ],
             [
              0.6666666666666666,
              "#ed7953"
             ],
             [
              0.7777777777777778,
              "#fb9f3a"
             ],
             [
              0.8888888888888888,
              "#fdca26"
             ],
             [
              1,
              "#f0f921"
             ]
            ],
            "type": "histogram2dcontour"
           }
          ],
          "mesh3d": [
           {
            "colorbar": {
             "outlinewidth": 0,
             "ticks": ""
            },
            "type": "mesh3d"
           }
          ],
          "parcoords": [
           {
            "line": {
             "colorbar": {
              "outlinewidth": 0,
              "ticks": ""
             }
            },
            "type": "parcoords"
           }
          ],
          "pie": [
           {
            "automargin": true,
            "type": "pie"
           }
          ],
          "scatter": [
           {
            "fillpattern": {
             "fillmode": "overlay",
             "size": 10,
             "solidity": 0.2
            },
            "type": "scatter"
           }
          ],
          "scatter3d": [
           {
            "line": {
             "colorbar": {
              "outlinewidth": 0,
              "ticks": ""
             }
            },
            "marker": {
             "colorbar": {
              "outlinewidth": 0,
              "ticks": ""
             }
            },
            "type": "scatter3d"
           }
          ],
          "scattercarpet": [
           {
            "marker": {
             "colorbar": {
              "outlinewidth": 0,
              "ticks": ""
             }
            },
            "type": "scattercarpet"
           }
          ],
          "scattergeo": [
           {
            "marker": {
             "colorbar": {
              "outlinewidth": 0,
              "ticks": ""
             }
            },
            "type": "scattergeo"
           }
          ],
          "scattergl": [
           {
            "marker": {
             "colorbar": {
              "outlinewidth": 0,
              "ticks": ""
             }
            },
            "type": "scattergl"
           }
          ],
          "scattermapbox": [
           {
            "marker": {
             "colorbar": {
              "outlinewidth": 0,
              "ticks": ""
             }
            },
            "type": "scattermapbox"
           }
          ],
          "scatterpolar": [
           {
            "marker": {
             "colorbar": {
              "outlinewidth": 0,
              "ticks": ""
             }
            },
            "type": "scatterpolar"
           }
          ],
          "scatterpolargl": [
           {
            "marker": {
             "colorbar": {
              "outlinewidth": 0,
              "ticks": ""
             }
            },
            "type": "scatterpolargl"
           }
          ],
          "scatterternary": [
           {
            "marker": {
             "colorbar": {
              "outlinewidth": 0,
              "ticks": ""
             }
            },
            "type": "scatterternary"
           }
          ],
          "surface": [
           {
            "colorbar": {
             "outlinewidth": 0,
             "ticks": ""
            },
            "colorscale": [
             [
              0,
              "#0d0887"
             ],
             [
              0.1111111111111111,
              "#46039f"
             ],
             [
              0.2222222222222222,
              "#7201a8"
             ],
             [
              0.3333333333333333,
              "#9c179e"
             ],
             [
              0.4444444444444444,
              "#bd3786"
             ],
             [
              0.5555555555555556,
              "#d8576b"
             ],
             [
              0.6666666666666666,
              "#ed7953"
             ],
             [
              0.7777777777777778,
              "#fb9f3a"
             ],
             [
              0.8888888888888888,
              "#fdca26"
             ],
             [
              1,
              "#f0f921"
             ]
            ],
            "type": "surface"
           }
          ],
          "table": [
           {
            "cells": {
             "fill": {
              "color": "#EBF0F8"
             },
             "line": {
              "color": "white"
             }
            },
            "header": {
             "fill": {
              "color": "#C8D4E3"
             },
             "line": {
              "color": "white"
             }
            },
            "type": "table"
           }
          ]
         },
         "layout": {
          "annotationdefaults": {
           "arrowcolor": "#2a3f5f",
           "arrowhead": 0,
           "arrowwidth": 1
          },
          "autotypenumbers": "strict",
          "coloraxis": {
           "colorbar": {
            "outlinewidth": 0,
            "ticks": ""
           }
          },
          "colorscale": {
           "diverging": [
            [
             0,
             "#8e0152"
            ],
            [
             0.1,
             "#c51b7d"
            ],
            [
             0.2,
             "#de77ae"
            ],
            [
             0.3,
             "#f1b6da"
            ],
            [
             0.4,
             "#fde0ef"
            ],
            [
             0.5,
             "#f7f7f7"
            ],
            [
             0.6,
             "#e6f5d0"
            ],
            [
             0.7,
             "#b8e186"
            ],
            [
             0.8,
             "#7fbc41"
            ],
            [
             0.9,
             "#4d9221"
            ],
            [
             1,
             "#276419"
            ]
           ],
           "sequential": [
            [
             0,
             "#0d0887"
            ],
            [
             0.1111111111111111,
             "#46039f"
            ],
            [
             0.2222222222222222,
             "#7201a8"
            ],
            [
             0.3333333333333333,
             "#9c179e"
            ],
            [
             0.4444444444444444,
             "#bd3786"
            ],
            [
             0.5555555555555556,
             "#d8576b"
            ],
            [
             0.6666666666666666,
             "#ed7953"
            ],
            [
             0.7777777777777778,
             "#fb9f3a"
            ],
            [
             0.8888888888888888,
             "#fdca26"
            ],
            [
             1,
             "#f0f921"
            ]
           ],
           "sequentialminus": [
            [
             0,
             "#0d0887"
            ],
            [
             0.1111111111111111,
             "#46039f"
            ],
            [
             0.2222222222222222,
             "#7201a8"
            ],
            [
             0.3333333333333333,
             "#9c179e"
            ],
            [
             0.4444444444444444,
             "#bd3786"
            ],
            [
             0.5555555555555556,
             "#d8576b"
            ],
            [
             0.6666666666666666,
             "#ed7953"
            ],
            [
             0.7777777777777778,
             "#fb9f3a"
            ],
            [
             0.8888888888888888,
             "#fdca26"
            ],
            [
             1,
             "#f0f921"
            ]
           ]
          },
          "colorway": [
           "#636efa",
           "#EF553B",
           "#00cc96",
           "#ab63fa",
           "#FFA15A",
           "#19d3f3",
           "#FF6692",
           "#B6E880",
           "#FF97FF",
           "#FECB52"
          ],
          "font": {
           "color": "#2a3f5f"
          },
          "geo": {
           "bgcolor": "white",
           "lakecolor": "white",
           "landcolor": "#E5ECF6",
           "showlakes": true,
           "showland": true,
           "subunitcolor": "white"
          },
          "hoverlabel": {
           "align": "left"
          },
          "hovermode": "closest",
          "mapbox": {
           "style": "light"
          },
          "paper_bgcolor": "white",
          "plot_bgcolor": "#E5ECF6",
          "polar": {
           "angularaxis": {
            "gridcolor": "white",
            "linecolor": "white",
            "ticks": ""
           },
           "bgcolor": "#E5ECF6",
           "radialaxis": {
            "gridcolor": "white",
            "linecolor": "white",
            "ticks": ""
           }
          },
          "scene": {
           "xaxis": {
            "backgroundcolor": "#E5ECF6",
            "gridcolor": "white",
            "gridwidth": 2,
            "linecolor": "white",
            "showbackground": true,
            "ticks": "",
            "zerolinecolor": "white"
           },
           "yaxis": {
            "backgroundcolor": "#E5ECF6",
            "gridcolor": "white",
            "gridwidth": 2,
            "linecolor": "white",
            "showbackground": true,
            "ticks": "",
            "zerolinecolor": "white"
           },
           "zaxis": {
            "backgroundcolor": "#E5ECF6",
            "gridcolor": "white",
            "gridwidth": 2,
            "linecolor": "white",
            "showbackground": true,
            "ticks": "",
            "zerolinecolor": "white"
           }
          },
          "shapedefaults": {
           "line": {
            "color": "#2a3f5f"
           }
          },
          "ternary": {
           "aaxis": {
            "gridcolor": "white",
            "linecolor": "white",
            "ticks": ""
           },
           "baxis": {
            "gridcolor": "white",
            "linecolor": "white",
            "ticks": ""
           },
           "bgcolor": "#E5ECF6",
           "caxis": {
            "gridcolor": "white",
            "linecolor": "white",
            "ticks": ""
           }
          },
          "title": {
           "x": 0.05
          },
          "xaxis": {
           "automargin": true,
           "gridcolor": "white",
           "linecolor": "white",
           "ticks": "",
           "title": {
            "standoff": 15
           },
           "zerolinecolor": "white",
           "zerolinewidth": 2
          },
          "yaxis": {
           "automargin": true,
           "gridcolor": "white",
           "linecolor": "white",
           "ticks": "",
           "title": {
            "standoff": 15
           },
           "zerolinecolor": "white",
           "zerolinewidth": 2
          }
         }
        },
        "title": {
         "text": "t-SNE visualization of GLOVE embeddings of UTS and USYD subjects by Major"
        },
        "xaxis": {
         "anchor": "y",
         "domain": [
          0,
          1
         ],
         "title": {
          "text": "First t-SNE"
         }
        },
        "yaxis": {
         "anchor": "x",
         "domain": [
          0,
          1
         ],
         "title": {
          "text": "Second t-SNE"
         }
        }
       }
      }
     },
     "metadata": {},
     "output_type": "display_data"
    }
   ],
   "source": [
    "show_major_plot(\"glove\")"
   ]
  },
  {
   "cell_type": "code",
   "execution_count": 173,
   "metadata": {},
   "outputs": [
    {
     "data": {
      "application/vnd.plotly.v1+json": {
       "config": {
        "plotlyServerURL": "https://plot.ly"
       },
       "data": [
        {
         "customdata": [
          [
           "48260",
           "UTS"
          ],
          [
           "31482",
           "UTS"
          ],
          [
           "92471",
           "UTS"
          ],
          [
           "41057",
           "UTS"
          ],
          [
           "93470",
           "UTS"
          ],
          [
           "41128",
           "UTS"
          ],
          [
           "41201",
           "UTS"
          ],
          [
           "32144",
           "UTS"
          ],
          [
           "41276",
           "UTS"
          ],
          [
           "16138",
           "UTS"
          ],
          [
           "93217",
           "UTS"
          ],
          [
           "93201",
           "UTS"
          ],
          [
           "48610",
           "UTS"
          ],
          [
           "93200",
           "UTS"
          ],
          [
           "41060",
           "UTS"
          ],
          [
           "16912",
           "UTS"
          ],
          [
           "93216",
           "UTS"
          ],
          [
           "31266",
           "UTS"
          ],
          [
           "91529",
           "UTS"
          ],
          [
           "41277",
           "UTS"
          ],
          [
           "16314",
           "UTS"
          ],
          [
           "41200",
           "UTS"
          ],
          [
           "41129",
           "UTS"
          ],
          [
           "48430",
           "UTS"
          ],
          [
           "41056",
           "UTS"
          ],
          [
           "92470",
           "UTS"
          ],
          [
           "93220",
           "UTS"
          ],
          [
           "92482",
           "UTS"
          ],
          [
           "41118",
           "UTS"
          ],
          [
           "93211",
           "UTS"
          ],
          [
           "93207",
           "UTS"
          ],
          [
           "41067",
           "UTS"
          ],
          [
           "93227",
           "UTS"
          ],
          [
           "92477",
           "UTS"
          ],
          [
           "93231",
           "UTS"
          ],
          [
           "43017",
           "UTS"
          ],
          [
           "41084",
           "UTS"
          ],
          [
           "42095",
           "UTS"
          ],
          [
           "41085",
           "UTS"
          ],
          [
           "68038",
           "UTS"
          ],
          [
           "41302",
           "UTS"
          ],
          [
           "16471",
           "UTS"
          ],
          [
           "93230",
           "UTS"
          ],
          [
           "92476",
           "UTS"
          ],
          [
           "48230",
           "UTS"
          ],
          [
           "91562",
           "UTS"
          ],
          [
           "93226",
           "UTS"
          ],
          [
           "93206",
           "UTS"
          ],
          [
           "41066",
           "UTS"
          ],
          [
           "93210",
           "UTS"
          ],
          [
           "41070",
           "UTS"
          ],
          [
           "49047",
           "UTS"
          ],
          [
           "48441",
           "UTS"
          ],
          [
           "33230",
           "UTS"
          ],
          [
           "93205",
           "UTS"
          ],
          [
           "93213",
           "UTS"
          ],
          [
           "68037",
           "UTS"
          ],
          [
           "43019",
           "UTS"
          ],
          [
           "92479",
           "UTS"
          ],
          [
           "92480",
           "UTS"
          ],
          [
           "93229",
           "UTS"
          ],
          [
           "37335",
           "UTS"
          ],
          [
           "41069",
           "UTS"
          ],
          [
           "41086",
           "UTS"
          ],
          [
           "93209",
           "UTS"
          ],
          [
           "41028",
           "UTS"
          ],
          [
           "93233",
           "UTS"
          ],
          [
           "41053",
           "UTS"
          ],
          [
           "48622",
           "UTS"
          ],
          [
           "92475",
           "UTS"
          ],
          [
           "41012",
           "UTS"
          ],
          [
           "91561",
           "UTS"
          ],
          [
           "93225",
           "UTS"
          ],
          [
           "93224",
           "UTS"
          ],
          [
           "41013",
           "UTS"
          ],
          [
           "92474",
           "UTS"
          ],
          [
           "93232",
           "UTS"
          ],
          [
           "43014",
           "UTS"
          ],
          [
           "48434",
           "UTS"
          ],
          [
           "16263",
           "UTS"
          ],
          [
           "37181",
           "UTS"
          ],
          [
           "41068",
           "UTS"
          ],
          [
           "41087",
           "UTS"
          ],
          [
           "93208",
           "UTS"
          ],
          [
           "48530",
           "UTS"
          ],
          [
           "93228",
           "UTS"
          ],
          [
           "37363",
           "UTS"
          ],
          [
           "92481",
           "UTS"
          ],
          [
           "92478",
           "UTS"
          ],
          [
           "32931",
           "UTS"
          ],
          [
           "43018",
           "UTS"
          ],
          [
           "93212",
           "UTS"
          ],
          [
           "93204",
           "UTS"
          ],
          [
           "41033",
           "UTS"
          ],
          [
           "41203",
           "UTS"
          ],
          [
           "41080",
           "UTS"
          ],
          [
           "48521",
           "UTS"
          ],
          [
           "41079",
           "UTS"
          ],
          [
           "93219",
           "UTS"
          ],
          [
           "41055",
           "UTS"
          ],
          [
           "48366",
           "UTS"
          ],
          [
           "92473",
           "UTS"
          ],
          [
           "48389",
           "UTS"
          ],
          [
           "41278",
           "UTS"
          ],
          [
           "91530",
           "UTS"
          ],
          [
           "49131",
           "UTS"
          ],
          [
           "48370",
           "UTS"
          ],
          [
           "41014",
           "UTS"
          ],
          [
           "93223",
           "UTS"
          ],
          [
           "41034",
           "UTS"
          ],
          [
           "93203",
           "UTS"
          ],
          [
           "33130",
           "UTS"
          ],
          [
           "49150",
           "UTS"
          ],
          [
           "31265",
           "UTS"
          ],
          [
           "41059",
           "UTS"
          ],
          [
           "48540",
           "UTS"
          ],
          [
           "41058",
           "UTS"
          ],
          [
           "49151",
           "UTS"
          ],
          [
           "93214",
           "UTS"
          ],
          [
           "41127",
           "UTS"
          ],
          [
           "93202",
           "UTS"
          ],
          [
           "41035",
           "UTS"
          ],
          [
           "31272",
           "UTS"
          ],
          [
           "93222",
           "UTS"
          ],
          [
           "48371",
           "UTS"
          ],
          [
           "92472",
           "UTS"
          ],
          [
           "16422",
           "UTS"
          ],
          [
           "41054",
           "UTS"
          ],
          [
           "31268",
           "UTS"
          ],
          [
           "41078",
           "UTS"
          ],
          [
           "93218",
           "UTS"
          ],
          [
           "41202",
           "UTS"
          ]
         ],
         "hovertemplate": "major=CORE/NONE<br>uni=%{customdata[1]}<br>x=%{x}<br>y=%{y}<br>subject_code=%{customdata[0]}<extra></extra>",
         "legendgroup": "CORE/NONE, UTS",
         "marker": {
          "color": "#636efa",
          "symbol": "circle"
         },
         "mode": "markers",
         "name": "CORE/NONE, UTS",
         "orientation": "v",
         "showlegend": true,
         "type": "scatter",
         "x": [
          -16.593713760375977,
          -12.589287757873535,
          -4.673609256744385,
          -14.000208854675293,
          -5.1390886306762695,
          -24.396799087524414,
          -21.280969619750977,
          -12.305736541748047,
          -26.6849308013916,
          -23.027942657470703,
          -2.2271435260772705,
          -1.6128381490707397,
          -24.826553344726562,
          -1.4255610704421997,
          -30.529220581054688,
          -17.7857608795166,
          -0.7590198516845703,
          -20.81849479675293,
          1.036330223083496,
          -15.897509574890137,
          -10.40032958984375,
          -19.339130401611328,
          -11.227140426635742,
          -21.634986877441406,
          -14.384533882141113,
          -5.989115238189697,
          -6.9997711181640625,
          -4.829836368560791,
          -19.342823028564453,
          -3.1796352863311768,
          -3.442795753479004,
          -19.671371459960938,
          -0.7586819529533386,
          -2.71726393699646,
          -5.886875152587891,
          -12.165237426757812,
          -26.480892181396484,
          -8.906233787536621,
          -26.775028228759766,
          -10.11044692993164,
          -15.947210311889648,
          -19.68288230895996,
          -2.464268445968628,
          -5.331974029541016,
          -8.882909774780273,
          0.22778496146202087,
          -2.9586334228515625,
          -4.429070949554443,
          -30.581153869628906,
          -3.836547374725342,
          -27.417236328125,
          -11.34687328338623,
          -13.769829750061035,
          -13.383605003356934,
          -0.43915557861328125,
          -1.2531750202178955,
          -15.343655586242676,
          -19.394304275512695,
          -5.000942707061768,
          -5.1414594650268555,
          -2.6914682388305664,
          -16.422948837280273,
          -29.842830657958984,
          -26.011293411254883,
          -2.573777675628662,
          -14.20656967163086,
          -6.944900035858154,
          -13.74582290649414,
          -8.185585021972656,
          -5.229294300079346,
          -18.88256072998047,
          0.3149682581424713,
          -4.217033386230469,
          -4.325115203857422,
          -15.852694511413574,
          -5.293153762817383,
          -3.4104392528533936,
          -13.014609336853027,
          -20.7213077545166,
          -25.029817581176758,
          -0.4883585274219513,
          -30.150388717651367,
          -26.062419891357422,
          -2.819923162460327,
          -18.633853912353516,
          -3.9697983264923096,
          -7.999924182891846,
          -6.524119853973389,
          -5.1455488204956055,
          -14.021824836730957,
          -16.699594497680664,
          -3.220158576965332,
          -0.2924041450023651,
          -24.818462371826172,
          -21.088579177856445,
          -11.251360893249512,
          -5.832712650299072,
          -12.255337715148926,
          -2.905632257461548,
          -10.553582191467285,
          -8.22836971282959,
          -3.669113874435425,
          -20.727773666381836,
          -24.852031707763672,
          1.4250997304916382,
          -4.534599304199219,
          -7.578753471374512,
          -18.16084861755371,
          -2.294515609741211,
          -26.325170516967773,
          -1.7185169458389282,
          -14.804778099060059,
          -15.668611526489258,
          -9.04762077331543,
          -29.25815200805664,
          -27.58667755126953,
          -16.53915786743164,
          -15.505792617797852,
          -1.5947577953338623,
          -30.77621841430664,
          -3.3940138816833496,
          -13.738068580627441,
          -16.571870803833008,
          -4.818118095397949,
          -10.924028396606445,
          -5.826955318450928,
          -12.16524887084961,
          -10.481761932373047,
          -21.174104690551758,
          -11.327237129211426,
          -6.088912010192871,
          -18.583171844482422
         ],
         "xaxis": "x",
         "y": [
          -16.346115112304688,
          -17.98888397216797,
          2.204869270324707,
          -10.564332008361816,
          3.8247547149658203,
          -6.82175350189209,
          -15.581632614135742,
          -18.111482620239258,
          -2.6597092151641846,
          -11.988446235656738,
          -1.1546050310134888,
          2.527090072631836,
          -3.3814964294433594,
          -0.5540937185287476,
          -7.297639846801758,
          -16.845762252807617,
          0.31874018907546997,
          2.181525707244873,
          0.8976094722747803,
          -6.245100975036621,
          4.246952056884766,
          -14.841301918029785,
          -1.7559444904327393,
          -10.499302864074707,
          -8.495931625366211,
          -0.3530515730381012,
          4.0722737312316895,
          -1.4733222723007202,
          -9.16687297821045,
          2.992802143096924,
          -1.0424546003341675,
          -5.610560417175293,
          -1.2724415063858032,
          1.8992184400558472,
          5.220259189605713,
          -7.370500087738037,
          -10.351385116577148,
          -7.091562271118164,
          -10.767221450805664,
          -15.009843826293945,
          -10.944950103759766,
          -13.594489097595215,
          -0.6240301132202148,
          1.9438732862472534,
          -9.32372760772705,
          -1.752057433128357,
          -2.3927364349365234,
          3.7205843925476074,
          -6.562027454376221,
          4.923120498657227,
          -7.297389030456543,
          -13.974400520324707,
          1.7200011014938354,
          -14.109954833984375,
          1.3621926307678223,
          -1.1580138206481934,
          -4.25797700881958,
          -7.72577428817749,
          2.538194179534912,
          4.409460067749023,
          1.0841747522354126,
          5.254604339599609,
          -6.140891075134277,
          -10.95706844329834,
          -0.05200157314538956,
          -11.553858757019043,
          3.8422837257385254,
          -9.783202171325684,
          -13.675575256347656,
          2.94065260887146,
          -11.182123184204102,
          -0.3483063876628876,
          1.5054773092269897,
          5.048386573791504,
          -0.24974554777145386,
          0.11789192259311676,
          3.831101179122925,
          -9.549982070922852,
          5.398393630981445,
          -13.581998825073242,
          -4.038907051086426,
          -6.5352396965026855,
          -10.64023208618164,
          0.362943559885025,
          2.790665864944458,
          -0.016980567947030067,
          -15.812457084655762,
          -0.7617539167404175,
          1.6215664148330688,
          -3.84318208694458,
          -1.0637553930282593,
          -2.087862968444824,
          2.1874585151672363,
          -4.307136058807373,
          -15.569725036621094,
          -2.6598961353302,
          -8.972001075744629,
          -6.249816417694092,
          4.0885396003723145,
          -1.495674967765808,
          -2.2506983280181885,
          2.342571973800659,
          3.3601770401000977,
          -8.46508502960205,
          0.008087759837508202,
          -4.410366058349609,
          -12.291314125061035,
          -19.986696243286133,
          -1.6465984582901,
          -2.6007637977600098,
          -0.013496477156877518,
          4.294094562530518,
          -11.983508110046387,
          -9.321019172668457,
          -3.994441270828247,
          2.191255569458008,
          -1.0871567726135254,
          -13.108824729919434,
          0.8319360017776489,
          -8.109332084655762,
          0.4903147518634796,
          -12.526144981384277,
          -16.435909271240234,
          0.6967330574989319,
          -8.293546676635742,
          2.559015989303589,
          -10.181339263916016,
          1.1907316446304321,
          2.111865997314453,
          -4.3079071044921875,
          4.474185466766357,
          -14.833113670349121
         ],
         "yaxis": "y"
        },
        {
         "customdata": [
          [
           "NURS1008",
           "USYD"
          ],
          [
           "NURS3019",
           "USYD"
          ],
          [
           "ENGP1002",
           "USYD"
          ],
          [
           "ENGG2112",
           "USYD"
          ],
          [
           "AMME4112",
           "USYD"
          ],
          [
           "NURS1004",
           "USYD"
          ],
          [
           "INFO4912",
           "USYD"
          ],
          [
           "NURS3015",
           "USYD"
          ],
          [
           "MATH1964",
           "USYD"
          ],
          [
           "INFO1911",
           "USYD"
          ],
          [
           "INFO4990",
           "USYD"
          ],
          [
           "ISYS5070",
           "USYD"
          ],
          [
           "ENGG3112",
           "USYD"
          ],
          [
           "INFO2150",
           "USYD"
          ],
          [
           "INFO4913",
           "USYD"
          ],
          [
           "NURS1005",
           "USYD"
          ],
          [
           "ENGP1003",
           "USYD"
          ],
          [
           "NURS2003",
           "USYD"
          ],
          [
           "HTIN4003",
           "USYD"
          ],
          [
           "INFO2222",
           "USYD"
          ],
          [
           "NURS3018",
           "USYD"
          ],
          [
           "CIVL1900",
           "USYD"
          ],
          [
           "INFO4001",
           "USYD"
          ],
          [
           "INFO4406",
           "USYD"
          ],
          [
           "ENGP2002",
           "USYD"
          ],
          [
           "NURS1002",
           "USYD"
          ],
          [
           "INFO2911",
           "USYD"
          ],
          [
           "MATH1061",
           "USYD"
          ],
          [
           "BMET1960",
           "USYD"
          ],
          [
           "ENGG3800",
           "USYD"
          ],
          [
           "NURS2008",
           "USYD"
          ],
          [
           "CHNG4203",
           "USYD"
          ],
          [
           "HTIN4005",
           "USYD"
          ],
          [
           "NURS3008",
           "USYD"
          ],
          [
           "BMET4112",
           "USYD"
          ],
          [
           "CHNG4812",
           "USYD"
          ],
          [
           "NURS2009",
           "USYD"
          ],
          [
           "ENGP3002",
           "USYD"
          ],
          [
           "NURS3012",
           "USYD"
          ],
          [
           "INFO1111",
           "USYD"
          ],
          [
           "CHNG1108",
           "USYD"
          ],
          [
           "ENGP2003",
           "USYD"
          ],
          [
           "NURS1003",
           "USYD"
          ],
          [
           "INFO3911",
           "USYD"
          ],
          [
           "ENGG1810",
           "USYD"
          ],
          [
           "AERO1560",
           "USYD"
          ],
          [
           "NURS2005",
           "USYD"
          ],
          [
           "NURS3007",
           "USYD"
          ],
          [
           "ENGP3001",
           "USYD"
          ],
          [
           "INFO1112",
           "USYD"
          ],
          [
           "NURS2010",
           "USYD"
          ],
          [
           "INFO3912",
           "USYD"
          ],
          [
           "NURS2006",
           "USYD"
          ],
          [
           "HTIN4006",
           "USYD"
          ],
          [
           "MECH1560",
           "USYD"
          ],
          [
           "BMET4111",
           "USYD"
          ],
          [
           "CHNG4811",
           "USYD"
          ],
          [
           "INFO4999",
           "USYD"
          ],
          [
           "INFO4002",
           "USYD"
          ],
          [
           "NURS1001",
           "USYD"
          ],
          [
           "ENGP2001",
           "USYD"
          ],
          [
           "INFO4444",
           "USYD"
          ],
          [
           "NURS2011",
           "USYD"
          ],
          [
           "MTRX1701",
           "USYD"
          ],
          [
           "INFO2912",
           "USYD"
          ],
          [
           "MATH1062",
           "USYD"
          ],
          [
           "MATH1961",
           "USYD"
          ],
          [
           "ELEC4713",
           "USYD"
          ],
          [
           "ELEC1004",
           "USYD"
          ],
          [
           "NURS3017",
           "USYD"
          ],
          [
           "NURS1006",
           "USYD"
          ],
          [
           "CIVL4023",
           "USYD"
          ],
          [
           "NURS2001",
           "USYD"
          ],
          [
           "ENGP1001",
           "USYD"
          ],
          [
           "CIVL4022",
           "USYD"
          ],
          [
           "AMME4111",
           "USYD"
          ],
          [
           "NURS1007",
           "USYD"
          ],
          [
           "INFO4911",
           "USYD"
          ],
          [
           "MATH1064",
           "USYD"
          ],
          [
           "INFO1912",
           "USYD"
          ],
          [
           "NURS3020",
           "USYD"
          ],
          [
           "ELEC4712",
           "USYD"
          ],
          [
           "ELEC1005",
           "USYD"
          ],
          [
           "INFO3333",
           "USYD"
          ]
         ],
         "hovertemplate": "major=CORE/NONE<br>uni=%{customdata[1]}<br>x=%{x}<br>y=%{y}<br>subject_code=%{customdata[0]}<extra></extra>",
         "legendgroup": "CORE/NONE, USYD",
         "marker": {
          "color": "#636efa",
          "symbol": "diamond"
         },
         "mode": "markers",
         "name": "CORE/NONE, USYD",
         "orientation": "v",
         "showlegend": true,
         "type": "scatter",
         "x": [
          17.64673614501953,
          18.0399227142334,
          9.380281448364258,
          17.705467224121094,
          23.904850006103516,
          16.982892990112305,
          0.25868964195251465,
          16.60872459411621,
          -6.8895368576049805,
          4.451025009155273,
          3.881967067718506,
          -7.311171531677246,
          17.50090980529785,
          -2.8056962490081787,
          0.3853278160095215,
          14.41723346710205,
          9.623899459838867,
          15.84228801727295,
          -6.7715559005737305,
          0.8901216983795166,
          18.529129028320312,
          12.815178871154785,
          -0.049542948603630066,
          -11.159756660461426,
          8.81108570098877,
          16.471487045288086,
          4.428654670715332,
          -7.426697731018066,
          22.8791561126709,
          0.8097012639045715,
          16.368677139282227,
          22.20265769958496,
          -6.788127422332764,
          18.625507354736328,
          24.455698013305664,
          24.420080184936523,
          25.838529586791992,
          10.024765968322754,
          15.062505722045898,
          -1.249580979347229,
          19.400890350341797,
          9.424980163574219,
          17.521944046020508,
          4.571988105773926,
          3.4832823276519775,
          33.566226959228516,
          17.750307083129883,
          19.188159942626953,
          8.650997161865234,
          0.9096188545227051,
          14.02760124206543,
          3.604588270187378,
          14.434389114379883,
          -0.05011332780122757,
          26.718725204467773,
          5.909595012664795,
          5.905993461608887,
          3.8714168071746826,
          -0.4142729640007019,
          16.626346588134766,
          8.720013618469238,
          -1.6680924892425537,
          21.478662490844727,
          25.854230880737305,
          3.5658209323883057,
          -8.419333457946777,
          -7.587410926818848,
          24.001617431640625,
          25.548601150512695,
          17.345767974853516,
          12.814512252807617,
          24.1948184967041,
          30.539093017578125,
          9.25806713104248,
          5.857796669006348,
          5.380160808563232,
          16.139938354492188,
          0.21258489787578583,
          -5.589076042175293,
          3.807434558868408,
          18.2933292388916,
          5.3713908195495605,
          17.587753295898438,
          0.10084826499223709
         ],
         "xaxis": "x",
         "y": [
          -1.1436206102371216,
          -1.4594871997833252,
          -20.18692970275879,
          6.640385627746582,
          13.236502647399902,
          3.5600240230560303,
          6.742754936218262,
          1.1986554861068726,
          17.511077880859375,
          6.189270973205566,
          8.369388580322266,
          13.70219612121582,
          6.649869918823242,
          18.028541564941406,
          7.144962787628174,
          1.8723442554473877,
          -20.79276466369629,
          -1.399946689605713,
          20.794389724731445,
          15.11830997467041,
          3.001477003097534,
          -4.2981743812561035,
          8.27871322631836,
          22.720367431640625,
          -21.350276947021484,
          3.9396090507507324,
          5.97745943069458,
          17.02861785888672,
          -13.666383743286133,
          10.931201934814453,
          1.197740912437439,
          13.37216567993164,
          19.982900619506836,
          0.3767163157463074,
          13.104307174682617,
          14.003583908081055,
          6.655428409576416,
          -20.43607521057129,
          0.7403053641319275,
          15.20702075958252,
          1.8693724870681763,
          -21.376455307006836,
          1.7637479305267334,
          5.788865089416504,
          20.20026206970215,
          -1.5370190143585205,
          0.5408731698989868,
          -1.9961791038513184,
          -20.77268409729004,
          14.871448516845703,
          -0.8472673296928406,
          5.803532123565674,
          -2.981236696243286,
          23.440839767456055,
          -9.082864761352539,
          11.676812171936035,
          11.111681938171387,
          7.4653472900390625,
          6.835602760314941,
          0.05150516331195831,
          -20.891782760620117,
          7.015178680419922,
          -1.3549553155899048,
          -8.978527069091797,
          5.982078552246094,
          17.014677047729492,
          17.246368408203125,
          13.626938819885254,
          -1.003281831741333,
          3.458150625228882,
          -0.0999138355255127,
          13.508745193481445,
          1.7537074089050293,
          -20.69819450378418,
          11.119585037231445,
          11.602133750915527,
          0.0914248377084732,
          6.897890567779541,
          17.850399017333984,
          6.478106498718262,
          -1.8204623460769653,
          11.506750106811523,
          4.378771781921387,
          11.135043144226074
         ],
         "yaxis": "y"
        },
        {
         "customdata": [
          [
           "31251",
           "UTS"
          ],
          [
           "48024",
           "UTS"
          ],
          [
           "31269",
           "UTS"
          ]
         ],
         "hovertemplate": "major=SOFT<br>uni=%{customdata[1]}<br>x=%{x}<br>y=%{y}<br>subject_code=%{customdata[0]}<extra></extra>",
         "legendgroup": "SOFT, UTS",
         "marker": {
          "color": "#EF553B",
          "symbol": "circle"
         },
         "mode": "markers",
         "name": "SOFT, UTS",
         "orientation": "v",
         "showlegend": true,
         "type": "scatter",
         "x": [
          -17.963157653808594,
          -19.181730270385742,
          0.5148807764053345
         ],
         "xaxis": "x",
         "y": [
          -12.091978073120117,
          6.522192001342773,
          -9.69688892364502
         ],
         "yaxis": "y"
        },
        {
         "customdata": [
          [
           "ISYS2110",
           "USYD"
          ],
          [
           "COMP4530",
           "USYD"
          ],
          [
           "DATA1002",
           "USYD"
          ],
          [
           "COMP4415",
           "USYD"
          ],
          [
           "COMP4618",
           "USYD"
          ],
          [
           "COMP4445",
           "USYD"
          ],
          [
           "DATA4207",
           "USYD"
          ],
          [
           "COMP4347",
           "USYD"
          ],
          [
           "COMP4424",
           "USYD"
          ],
          [
           "ISYS3402",
           "USYD"
          ],
          [
           "ISYS4450",
           "USYD"
          ],
          [
           "COMP4425",
           "USYD"
          ],
          [
           "COMP4448",
           "USYD"
          ],
          [
           "STAT2911",
           "USYD"
          ],
          [
           "ISYS2160",
           "USYD"
          ],
          [
           "COMP4405",
           "USYD"
          ],
          [
           "COMP4328",
           "USYD"
          ],
          [
           "COMP4349",
           "USYD"
          ],
          [
           "MATH2069",
           "USYD"
          ],
          [
           "STAT2011",
           "USYD"
          ],
          [
           "BUSS1030",
           "USYD"
          ],
          [
           "COMP4427",
           "USYD"
          ],
          [
           "SOFT3410",
           "USYD"
          ],
          [
           "ISYS3401",
           "USYD"
          ],
          [
           "COMP4348",
           "USYD"
          ],
          [
           "COMP4446",
           "USYD"
          ],
          [
           "COMP4329",
           "USYD"
          ],
          [
           "INFO4491",
           "USYD"
          ],
          [
           "COMP4313",
           "USYD"
          ],
          [
           "INFO3616",
           "USYD"
          ],
          [
           "MKTG1001",
           "USYD"
          ],
          [
           "COMP4617",
           "USYD"
          ],
          [
           "DATA1902",
           "USYD"
          ],
          [
           "ISYS3888",
           "USYD"
          ],
          [
           "COMP4416",
           "USYD"
          ],
          [
           "COMP4338",
           "USYD"
          ],
          [
           "COMP4270",
           "USYD"
          ]
         ],
         "hovertemplate": "major=SOFT<br>uni=%{customdata[1]}<br>x=%{x}<br>y=%{y}<br>subject_code=%{customdata[0]}<extra></extra>",
         "legendgroup": "SOFT, USYD",
         "marker": {
          "color": "#EF553B",
          "symbol": "diamond"
         },
         "mode": "markers",
         "name": "SOFT, USYD",
         "orientation": "v",
         "showlegend": true,
         "type": "scatter",
         "x": [
          -2.5874459743499756,
          -6.800310134887695,
          0.6164259314537048,
          -6.085515975952148,
          -10.495104789733887,
          -5.855936527252197,
          -5.9147467613220215,
          -4.839942455291748,
          -8.078951835632324,
          -10.491600036621094,
          -6.366851329803467,
          -7.161054611206055,
          -3.247953414916992,
          -0.9384790658950806,
          -1.0712175369262695,
          -6.485815048217773,
          -5.346766948699951,
          -5.202839374542236,
          -2.826402425765991,
          -0.9130139946937561,
          27.597549438476562,
          -10.628552436828613,
          -0.10452182590961456,
          -5.044917583465576,
          -9.174857139587402,
          -6.601844310760498,
          -7.162906169891357,
          -9.642035484313965,
          -10.717792510986328,
          -9.126846313476562,
          32.342010498046875,
          -8.27646255493164,
          0.4973578453063965,
          -3.7998874187469482,
          -7.706663608551025,
          -8.16960334777832,
          -5.071978569030762
         ],
         "xaxis": "x",
         "y": [
          17.25936508178711,
          21.437549591064453,
          20.846981048583984,
          24.439912796020508,
          25.11612892150879,
          23.575021743774414,
          16.66477394104004,
          14.80019474029541,
          20.958681106567383,
          20.731229782104492,
          28.62995719909668,
          23.01184844970703,
          8.291670799255371,
          26.85885238647461,
          11.7990140914917,
          24.3028564453125,
          22.229984283447266,
          25.04364013671875,
          22.582284927368164,
          26.9268798828125,
          1.1350926160812378,
          19.78860092163086,
          18.664323806762695,
          13.23238754272461,
          21.96294593811035,
          24.796640396118164,
          24.551908493041992,
          24.11756134033203,
          20.016523361206055,
          26.326322555541992,
          -3.974497079849243,
          24.204824447631836,
          20.517017364501953,
          12.693404197692871,
          24.024703979492188,
          19.84173583984375,
          21.813344955444336
         ],
         "yaxis": "y"
        },
        {
         "customdata": [
          [
           "48221",
           "UTS"
          ],
          [
           "48352",
           "UTS"
          ],
          [
           "48353",
           "UTS"
          ],
          [
           "48349",
           "UTS"
          ],
          [
           "48362",
           "UTS"
          ],
          [
           "48821",
           "UTS"
          ],
          [
           "48860",
           "UTS"
          ],
          [
           "48881",
           "UTS"
          ],
          [
           "48340",
           "UTS"
          ],
          [
           "48360",
           "UTS"
          ],
          [
           "48321",
           "UTS"
          ],
          [
           "48320",
           "UTS"
          ],
          [
           "48331",
           "UTS"
          ],
          [
           "48310",
           "UTS"
          ],
          [
           "48330",
           "UTS"
          ]
         ],
         "hovertemplate": "major=CIVI<br>uni=%{customdata[1]}<br>x=%{x}<br>y=%{y}<br>subject_code=%{customdata[0]}<extra></extra>",
         "legendgroup": "CIVI, UTS",
         "marker": {
          "color": "#00cc96",
          "symbol": "circle"
         },
         "mode": "markers",
         "name": "CIVI, UTS",
         "orientation": "v",
         "showlegend": true,
         "type": "scatter",
         "x": [
          -12.38824462890625,
          -15.632828712463379,
          -5.959749221801758,
          -18.73421287536621,
          -10.648884773254395,
          -18.263887405395508,
          -3.0606026649475098,
          -23.853118896484375,
          -2.390228509902954,
          -1.3790291547775269,
          -17.464942932128906,
          -19.90484619140625,
          -9.612337112426758,
          -22.704021453857422,
          -1.3142642974853516
         ],
         "xaxis": "x",
         "y": [
          0.9643943905830383,
          -12.711942672729492,
          -9.265937805175781,
          -0.2760166525840759,
          -11.30296802520752,
          -3.3491322994232178,
          -12.900995254516602,
          -17.86553955078125,
          -10.038736343383789,
          -7.967202186584473,
          -5.0528035163879395,
          1.331854224205017,
          -13.773038864135742,
          -8.90145206451416,
          -8.387809753417969
         ],
         "yaxis": "y"
        },
        {
         "customdata": [
          [
           "CIVL1110",
           "USYD"
          ],
          [
           "CIVL5702",
           "USYD"
          ],
          [
           "CIVL5276",
           "USYD"
          ],
          [
           "CIVL1022",
           "USYD"
          ],
          [
           "CIVL5535",
           "USYD"
          ],
          [
           "CIVL5670",
           "USYD"
          ],
          [
           "CIVL5277",
           "USYD"
          ],
          [
           "CIVL4903",
           "USYD"
          ],
          [
           "CIVL3511",
           "USYD"
          ],
          [
           "CIVL5703",
           "USYD"
          ],
          [
           "CIVL3205",
           "USYD"
          ],
          [
           "CIVL3614",
           "USYD"
          ],
          [
           "CIVL5266",
           "USYD"
          ],
          [
           "CIVL5460",
           "USYD"
          ],
          [
           "CIVL5533",
           "USYD"
          ],
          [
           "CIVL3310",
           "USYD"
          ],
          [
           "CIVL5704",
           "USYD"
          ],
          [
           "CIVL4816",
           "USYD"
          ],
          [
           "CIVL2700",
           "USYD"
          ],
          [
           "CIVL4817",
           "USYD"
          ],
          [
           "CIVL1802",
           "USYD"
          ],
          [
           "CIVL2812",
           "USYD"
          ],
          [
           "CIVL3612",
           "USYD"
          ],
          [
           "CIVL3235",
           "USYD"
          ],
          [
           "CIVL4860",
           "USYD"
          ],
          [
           "CIVL5531",
           "USYD"
          ],
          [
           "CIVL4818",
           "USYD"
          ],
          [
           "CIVL5458",
           "USYD"
          ],
          [
           "CIVL3806",
           "USYD"
          ],
          [
           "CIVL2201",
           "USYD"
          ],
          [
           "CIVL5269",
           "USYD"
          ],
          [
           "CIVL2410",
           "USYD"
          ],
          [
           "CIVL3411",
           "USYD"
          ],
          [
           "CIVL2611",
           "USYD"
          ],
          [
           "CIVL3811",
           "USYD"
          ],
          [
           "CIVL5320",
           "USYD"
          ],
          [
           "CIVL4819",
           "USYD"
          ],
          [
           "CIVL4812",
           "USYD"
          ],
          [
           "CIVL2010",
           "USYD"
          ],
          [
           "CIVL3206",
           "USYD"
          ],
          [
           "CIVL5452",
           "USYD"
          ],
          [
           "CIVL3705",
           "USYD"
          ],
          [
           "CIVL5999",
           "USYD"
          ],
          [
           "CIVL5330",
           "USYD"
          ],
          [
           "CIVL5668",
           "USYD"
          ],
          [
           "CIVL3704",
           "USYD"
          ],
          [
           "CIVL5453",
           "USYD"
          ],
          [
           "CIVL1810",
           "USYD"
          ],
          [
           "CIVL4203",
           "USYD"
          ],
          [
           "CIVL5351",
           "USYD"
          ],
          [
           "CIVL5701",
           "USYD"
          ]
         ],
         "hovertemplate": "major=CIVI<br>uni=%{customdata[1]}<br>x=%{x}<br>y=%{y}<br>subject_code=%{customdata[0]}<extra></extra>",
         "legendgroup": "CIVI, USYD",
         "marker": {
          "color": "#00cc96",
          "symbol": "diamond"
         },
         "mode": "markers",
         "name": "CIVI, USYD",
         "orientation": "v",
         "showlegend": true,
         "type": "scatter",
         "x": [
          16.651655197143555,
          16.7471981048584,
          22.16484832763672,
          24.630855560302734,
          20.929973602294922,
          17.921422958374023,
          23.750234603881836,
          20.521907806396484,
          21.344745635986328,
          18.703821182250977,
          25.051355361938477,
          29.454002380371094,
          23.82794189453125,
          27.876970291137695,
          20.264474868774414,
          24.684694290161133,
          19.320323944091797,
          21.511367797851562,
          21.53691291809082,
          20.97692108154297,
          20.49236488342285,
          19.46790885925293,
          12.67910099029541,
          31.00154685974121,
          22.00296974182129,
          21.546884536743164,
          22.496713638305664,
          28.28864860534668,
          23.01459312438965,
          22.185487747192383,
          25.064971923828125,
          20.83574867248535,
          20.534486770629883,
          14.220976829528809,
          23.28765296936035,
          20.427650451660156,
          22.29863929748535,
          21.618366241455078,
          23.847023010253906,
          20.979766845703125,
          19.68877601623535,
          15.232088088989258,
          22.422121047973633,
          23.697248458862305,
          14.18087100982666,
          20.67482566833496,
          26.286100387573242,
          25.913551330566406,
          20.223052978515625,
          30.615171432495117,
          33.89902114868164
         ],
         "xaxis": "x",
         "y": [
          -3.4344868659973145,
          -12.724187850952148,
          -6.706937789916992,
          -1.9613213539123535,
          -0.045480236411094666,
          -4.444709777832031,
          -14.599632263183594,
          1.2684439420700073,
          1.674879550933838,
          -5.46782112121582,
          -14.476806640625,
          0.5003849267959595,
          -14.996167182922363,
          -6.058840274810791,
          -0.004916756879538298,
          0.9036596417427063,
          -2.2724671363830566,
          7.742506980895996,
          -12.757987976074219,
          9.00179672241211,
          7.654175281524658,
          10.103320121765137,
          -11.878205299377441,
          1.117486834526062,
          -2.9684953689575195,
          1.8276890516281128,
          9.21985912322998,
          -1.2305529117584229,
          0.9506521224975586,
          -14.5820951461792,
          -15.317492485046387,
          -9.310755729675293,
          -13.747393608093262,
          -10.683767318725586,
          -13.193105697631836,
          -0.9646666049957275,
          8.606690406799316,
          8.354296684265137,
          -8.367253303527832,
          -9.366016387939453,
          -10.931662559509277,
          4.944489002227783,
          -0.8860369920730591,
          1.6614325046539307,
          -10.315118789672852,
          4.634118556976318,
          -2.605295419692993,
          -10.877321243286133,
          15.322571754455566,
          -6.390774250030518,
          -4.499998569488525
         ],
         "yaxis": "y"
        },
        {
         "customdata": [
          [
           "41903",
           "UTS"
          ],
          [
           "31338",
           "UTS"
          ],
          [
           "48450",
           "UTS"
          ],
          [
           "42036",
           "UTS"
          ],
          [
           "31261",
           "UTS"
          ],
          [
           "31277",
           "UTS"
          ],
          [
           "41905",
           "UTS"
          ],
          [
           "32011",
           "UTS"
          ],
          [
           "42037",
           "UTS"
          ],
          [
           "32009",
           "UTS"
          ],
          [
           "31275",
           "UTS"
          ],
          [
           "48033",
           "UTS"
          ],
          [
           "41891",
           "UTS"
          ],
          [
           "41890",
           "UTS"
          ]
         ],
         "hovertemplate": "major=NETW<br>uni=%{customdata[1]}<br>x=%{x}<br>y=%{y}<br>subject_code=%{customdata[0]}<extra></extra>",
         "legendgroup": "NETW, UTS",
         "marker": {
          "color": "#ab63fa",
          "symbol": "circle"
         },
         "mode": "markers",
         "name": "NETW, UTS",
         "orientation": "v",
         "showlegend": true,
         "type": "scatter",
         "x": [
          -0.03156023100018501,
          -21.136661529541016,
          -20.036354064941406,
          -17.871253967285156,
          -20.23262596130371,
          -24.69534683227539,
          -23.068857192993164,
          -15.467888832092285,
          -19.94980239868164,
          -12.946585655212402,
          -22.6784725189209,
          -25.127281188964844,
          -2.530029773712158,
          -22.31536865234375
         ],
         "xaxis": "x",
         "y": [
          -10.3761568069458,
          8.637497901916504,
          5.135698318481445,
          -0.5019055008888245,
          -16.246496200561523,
          0.32240036129951477,
          -6.162521839141846,
          -2.0086448192596436,
          -0.493632435798645,
          -1.772779941558838,
          0.7712727189064026,
          -2.4796457290649414,
          -10.2202730178833,
          -1.6547348499298096
         ],
         "yaxis": "y"
        },
        {
         "customdata": [
          [
           "CSEC3616",
           "USYD"
          ],
          [
           "CSEC3888",
           "USYD"
          ]
         ],
         "hovertemplate": "major=NETW<br>uni=%{customdata[1]}<br>x=%{x}<br>y=%{y}<br>subject_code=%{customdata[0]}<extra></extra>",
         "legendgroup": "NETW, USYD",
         "marker": {
          "color": "#ab63fa",
          "symbol": "diamond"
         },
         "mode": "markers",
         "name": "NETW, USYD",
         "orientation": "v",
         "showlegend": true,
         "type": "scatter",
         "x": [
          -9.245696067810059,
          -3.2864015102386475
         ],
         "xaxis": "x",
         "y": [
          26.414941787719727,
          12.480653762817383
         ],
         "yaxis": "y"
        },
        {
         "customdata": [
          [
           "31247",
           "UTS"
          ],
          [
           "48270",
           "UTS"
          ],
          [
           "31276",
           "UTS"
          ],
          [
           "31280",
           "UTS"
          ],
          [
           "31097",
           "UTS"
          ],
          [
           "31255",
           "UTS"
          ],
          [
           "31258",
           "UTS"
          ],
          [
           "31245",
           "UTS"
          ]
         ],
         "hovertemplate": "major=BUSI<br>uni=%{customdata[1]}<br>x=%{x}<br>y=%{y}<br>subject_code=%{customdata[0]}<extra></extra>",
         "legendgroup": "BUSI, UTS",
         "marker": {
          "color": "#FFA15A",
          "symbol": "circle"
         },
         "mode": "markers",
         "name": "BUSI, UTS",
         "orientation": "v",
         "showlegend": true,
         "type": "scatter",
         "x": [
          -0.5978072285652161,
          -2.0201375484466553,
          -21.65395164489746,
          -15.382218360900879,
          -22.518573760986328,
          -22.984676361083984,
          -10.004271507263184,
          -20.759521484375
         ],
         "xaxis": "x",
         "y": [
          -11.023456573486328,
          -12.78480052947998,
          -0.12416103482246399,
          -7.426423072814941,
          -7.623096466064453,
          -5.1424360275268555,
          -12.268153190612793,
          0.145527645945549
         ],
         "yaxis": "y"
        },
        {
         "customdata": [
          [
           "42913",
           "UTS"
          ],
          [
           "41077",
           "UTS"
          ],
          [
           "42050",
           "UTS"
          ],
          [
           "41040",
           "UTS"
          ],
          [
           "31256",
           "UTS"
          ],
          [
           "43023",
           "UTS"
          ],
          [
           "57304",
           "UTS"
          ],
          [
           "31243",
           "UTS"
          ],
          [
           "41004",
           "UTS"
          ],
          [
           "32146",
           "UTS"
          ],
          [
           "41043",
           "UTS"
          ],
          [
           "43024",
           "UTS"
          ]
         ],
         "hovertemplate": "major=ARTI<br>uni=%{customdata[1]}<br>x=%{x}<br>y=%{y}<br>subject_code=%{customdata[0]}<extra></extra>",
         "legendgroup": "ARTI, UTS",
         "marker": {
          "color": "#19d3f3",
          "symbol": "circle"
         },
         "mode": "markers",
         "name": "ARTI, UTS",
         "orientation": "v",
         "showlegend": true,
         "type": "scatter",
         "x": [
          -14.486541748046875,
          -8.237788200378418,
          -7.803456783294678,
          -11.75505256652832,
          -20.926361083984375,
          -4.772141933441162,
          -7.975354194641113,
          -13.531806945800781,
          -15.344457626342773,
          -10.875727653503418,
          -18.206783294677734,
          -3.708059787750244
         ],
         "xaxis": "x",
         "y": [
          -6.262241363525391,
          -10.522972106933594,
          1.2455285787582397,
          8.088475227355957,
          -7.77269172668457,
          -11.03494644165039,
          1.2182563543319702,
          -18.240245819091797,
          -15.310190200805664,
          -5.51738166809082,
          -5.894375801086426,
          -10.60684585571289
         ],
         "yaxis": "y"
        },
        {
         "customdata": [
          [
           "DATA1901",
           "USYD"
          ],
          [
           "COMP3530",
           "USYD"
          ],
          [
           "DATA3888",
           "USYD"
          ],
          [
           "DATA1001",
           "USYD"
          ]
         ],
         "hovertemplate": "major=ARTI<br>uni=%{customdata[1]}<br>x=%{x}<br>y=%{y}<br>subject_code=%{customdata[0]}<extra></extra>",
         "legendgroup": "ARTI, USYD",
         "marker": {
          "color": "#19d3f3",
          "symbol": "diamond"
         },
         "mode": "markers",
         "name": "ARTI, USYD",
         "orientation": "v",
         "showlegend": true,
         "type": "scatter",
         "x": [
          3.7477896213531494,
          -3.5803842544555664,
          -2.9927473068237305,
          4.149877548217773
         ],
         "xaxis": "x",
         "y": [
          16.203617095947266,
          21.70049285888672,
          13.732146263122559,
          16.38956069946289
         ],
         "yaxis": "y"
        },
        {
         "customdata": [
          [
           "41305",
           "UTS"
          ],
          [
           "41108",
           "UTS"
          ],
          [
           "41308",
           "UTS"
          ],
          [
           "41386",
           "UTS"
          ],
          [
           "41381",
           "UTS"
          ],
          [
           "41380",
           "UTS"
          ],
          [
           "41301",
           "UTS"
          ],
          [
           "43015",
           "UTS"
          ],
          [
           "41383",
           "UTS"
          ],
          [
           "41382",
           "UTS"
          ],
          [
           "41117",
           "UTS"
          ],
          [
           "41385",
           "UTS"
          ],
          [
           "65212",
           "UTS"
          ],
          [
           "41384",
           "UTS"
          ]
         ],
         "hovertemplate": "major=CHEM<br>uni=%{customdata[1]}<br>x=%{x}<br>y=%{y}<br>subject_code=%{customdata[0]}<extra></extra>",
         "legendgroup": "CHEM, UTS",
         "marker": {
          "color": "#FF6692",
          "symbol": "circle"
         },
         "mode": "markers",
         "name": "CHEM, UTS",
         "orientation": "v",
         "showlegend": true,
         "type": "scatter",
         "x": [
          -26.132261276245117,
          -16.23128890991211,
          -15.859894752502441,
          -16.88031005859375,
          -17.573911666870117,
          -12.488106727600098,
          -24.097505569458008,
          -10.992738723754883,
          -17.483198165893555,
          -17.263959884643555,
          -20.547470092773438,
          -17.419584274291992,
          -17.45901107788086,
          -16.838533401489258
         ],
         "xaxis": "x",
         "y": [
          -7.935227870941162,
          -5.52305269241333,
          -6.39478063583374,
          -8.351703643798828,
          -7.928309440612793,
          -11.940206527709961,
          -10.301778793334961,
          -8.857451438903809,
          -9.09093189239502,
          -8.372194290161133,
          -10.671009063720703,
          -8.951849937438965,
          1.0116373300552368,
          -6.879222869873047
         ],
         "yaxis": "y"
        },
        {
         "customdata": [
          [
           "41082",
           "UTS"
          ],
          [
           "41092",
           "UTS"
          ],
          [
           "41091",
           "UTS"
          ]
         ],
         "hovertemplate": "major=DATA<br>uni=%{customdata[1]}<br>x=%{x}<br>y=%{y}<br>subject_code=%{customdata[0]}<extra></extra>",
         "legendgroup": "DATA, UTS",
         "marker": {
          "color": "#B6E880",
          "symbol": "circle"
         },
         "mode": "markers",
         "name": "DATA, UTS",
         "orientation": "v",
         "showlegend": true,
         "type": "scatter",
         "x": [
          -13.886127471923828,
          -24.54610824584961,
          -21.183780670166016
         ],
         "xaxis": "x",
         "y": [
          -8.067837715148926,
          -0.7267278432846069,
          -11.982949256896973
         ],
         "yaxis": "y"
        },
        {
         "customdata": [
          [
           "35005",
           "UTS"
          ],
          [
           "37234",
           "UTS"
          ],
          [
           "37252",
           "UTS"
          ],
          [
           "35007",
           "UTS"
          ],
          [
           "37373",
           "UTS"
          ],
          [
           "35006",
           "UTS"
          ]
         ],
         "hovertemplate": "major=MATH<br>uni=%{customdata[1]}<br>x=%{x}<br>y=%{y}<br>subject_code=%{customdata[0]}<extra></extra>",
         "legendgroup": "MATH, UTS",
         "marker": {
          "color": "#FF97FF",
          "symbol": "circle"
         },
         "mode": "markers",
         "name": "MATH, UTS",
         "orientation": "v",
         "showlegend": true,
         "type": "scatter",
         "x": [
          -6.525392055511475,
          -15.574400901794434,
          -16.31776237487793,
          -6.907299995422363,
          -6.589338302612305,
          -6.6959662437438965
         ],
         "xaxis": "x",
         "y": [
          1.6562801599502563,
          4.157428741455078,
          4.834563732147217,
          1.4143248796463013,
          1.129746675491333,
          1.1892530918121338
         ],
         "yaxis": "y"
        },
        {
         "customdata": [
          [
           "49261",
           "UTS"
          ],
          [
           "91705",
           "UTS"
          ],
          [
           "42724",
           "UTS"
          ],
          [
           "91400",
           "UTS"
          ],
          [
           "42026",
           "UTS"
          ],
          [
           "41099",
           "UTS"
          ],
          [
           "42722",
           "UTS"
          ],
          [
           "43021",
           "UTS"
          ],
          [
           "41163",
           "UTS"
          ],
          [
           "26101",
           "UTS"
          ],
          [
           "42001",
           "UTS"
          ],
          [
           "41162",
           "UTS"
          ],
          [
           "31061",
           "UTS"
          ],
          [
           "41161",
           "UTS"
          ],
          [
           "43022",
           "UTS"
          ],
          [
           "41160",
           "UTS"
          ],
          [
           "91822",
           "UTS"
          ],
          [
           "48023",
           "UTS"
          ]
         ],
         "hovertemplate": "major=BIOM<br>uni=%{customdata[1]}<br>x=%{x}<br>y=%{y}<br>subject_code=%{customdata[0]}<extra></extra>",
         "legendgroup": "BIOM, UTS",
         "marker": {
          "color": "#FECB52",
          "symbol": "circle"
         },
         "mode": "markers",
         "name": "BIOM, UTS",
         "orientation": "v",
         "showlegend": true,
         "type": "scatter",
         "x": [
          -6.9802565574646,
          -18.37165641784668,
          -9.30610466003418,
          -23.02554702758789,
          -16.459794998168945,
          -28.230953216552734,
          -18.1472225189209,
          -21.019113540649414,
          -28.694385528564453,
          -13.831583023071289,
          -11.277256965637207,
          -21.119626998901367,
          -13.90656852722168,
          -22.64995574951172,
          -20.545257568359375,
          -28.575761795043945,
          -23.276016235351562,
          -0.7943461537361145
         ],
         "xaxis": "x",
         "y": [
          -3.993537187576294,
          -2.147758960723877,
          -7.687747478485107,
          3.8966312408447266,
          -9.668465614318848,
          -5.1164679527282715,
          -20.28875160217285,
          -7.861029148101807,
          -3.469688892364502,
          -3.0208075046539307,
          1.926098346710205,
          -10.507512092590332,
          4.158144474029541,
          -5.9278082847595215,
          -9.246269226074219,
          -1.7396738529205322,
          3.8447153568267822,
          -13.631831169128418
         ],
         "yaxis": "y"
        },
        {
         "customdata": [
          [
           "BMET2901",
           "USYD"
          ],
          [
           "BMET5944",
           "USYD"
          ],
          [
           "CHEM1991",
           "USYD"
          ],
          [
           "BMET3961",
           "USYD"
          ],
          [
           "BMET2960",
           "USYD"
          ],
          [
           "BMET5933",
           "USYD"
          ],
          [
           "BMET5964",
           "USYD"
          ],
          [
           "BMET3921",
           "USYD"
          ],
          [
           "BMET4010",
           "USYD"
          ],
          [
           "BMET5953",
           "USYD"
          ],
          [
           "BMET5958",
           "USYD"
          ],
          [
           "BMET3971",
           "USYD"
          ],
          [
           "BMET5962",
           "USYD"
          ],
          [
           "BMET3802",
           "USYD"
          ],
          [
           "BMET5996",
           "USYD"
          ],
          [
           "BMET4981",
           "USYD"
          ],
          [
           "BMET1961",
           "USYD"
          ],
          [
           "BMET5963",
           "USYD"
          ],
          [
           "BMET5934",
           "USYD"
          ],
          [
           "BMET5959",
           "USYD"
          ],
          [
           "BMET3660",
           "USYD"
          ],
          [
           "BMET2925",
           "USYD"
          ],
          [
           "BMET5995",
           "USYD"
          ],
          [
           "BMET3990",
           "USYD"
          ],
          [
           "BMET5957",
           "USYD"
          ],
          [
           "BMET2400",
           "USYD"
          ],
          [
           "CHEM1111",
           "USYD"
          ],
          [
           "BMET5911",
           "USYD"
          ],
          [
           "BMET5907",
           "USYD"
          ],
          [
           "BMET2903",
           "USYD"
          ],
          [
           "CHEM1911",
           "USYD"
          ],
          [
           "BMET5931",
           "USYD"
          ],
          [
           "BMET2922",
           "USYD"
          ],
          [
           "BMET2902",
           "USYD"
          ],
          [
           "BMET3997",
           "USYD"
          ],
          [
           "BMET5992",
           "USYD"
          ]
         ],
         "hovertemplate": "major=BIOM<br>uni=%{customdata[1]}<br>x=%{x}<br>y=%{y}<br>subject_code=%{customdata[0]}<extra></extra>",
         "legendgroup": "BIOM, USYD",
         "marker": {
          "color": "#FECB52",
          "symbol": "diamond"
         },
         "mode": "markers",
         "name": "BIOM, USYD",
         "orientation": "v",
         "showlegend": true,
         "type": "scatter",
         "x": [
          19.274696350097656,
          30.881603240966797,
          29.102155685424805,
          23.305965423583984,
          17.999107360839844,
          23.63450813293457,
          23.026382446289062,
          21.21181297302246,
          20.10916519165039,
          17.31104278564453,
          25.26773452758789,
          31.420377731323242,
          14.22827434539795,
          22.219276428222656,
          24.276458740234375,
          26.20806312561035,
          25.575599670410156,
          21.973773956298828,
          23.080598831176758,
          28.659931182861328,
          16.074459075927734,
          -2.4361417293548584,
          23.950931549072266,
          24.412580490112305,
          20.25751304626465,
          24.85518455505371,
          26.50298500061035,
          30.001882553100586,
          20.539613723754883,
          22.0063533782959,
          29.311965942382812,
          18.81113624572754,
          23.187488555908203,
          24.97406768798828,
          23.80002212524414,
          23.563383102416992
         ],
         "xaxis": "x",
         "y": [
          1.766249418258667,
          -9.589641571044922,
          8.9846773147583,
          -9.955734252929688,
          -10.509831428527832,
          -6.660239219665527,
          -10.346736907958984,
          -4.18359899520874,
          15.096179008483887,
          10.409048080444336,
          -7.051008224487305,
          -8.936532974243164,
          -3.2561473846435547,
          -4.868137359619141,
          3.970221996307373,
          -2.1102004051208496,
          -6.854147911071777,
          -8.419852256774902,
          -4.270907402038574,
          -12.053750991821289,
          -14.651070594787598,
          14.444075584411621,
          -3.6668331623077393,
          -8.178777694702148,
          -6.219143390655518,
          -8.345497131347656,
          10.28231143951416,
          3.3740551471710205,
          -2.9607386589050293,
          -0.008491591550409794,
          8.81453800201416,
          -9.314603805541992,
          -7.083166122436523,
          -2.8979458808898926,
          4.270897388458252,
          -0.05541423708200455
         ],
         "yaxis": "y"
        },
        {
         "customdata": [
          [
           "31748",
           "UTS"
          ],
          [
           "41020",
           "UTS"
          ],
          [
           "41021",
           "UTS"
          ],
          [
           "31263",
           "UTS"
          ],
          [
           "31080",
           "UTS"
          ],
          [
           "31262",
           "UTS"
          ],
          [
           "41019",
           "UTS"
          ]
         ],
         "hovertemplate": "major=INTE<br>uni=%{customdata[1]}<br>x=%{x}<br>y=%{y}<br>subject_code=%{customdata[0]}<extra></extra>",
         "legendgroup": "INTE, UTS",
         "marker": {
          "color": "#636efa",
          "symbol": "circle"
         },
         "mode": "markers",
         "name": "INTE, UTS",
         "orientation": "v",
         "showlegend": true,
         "type": "scatter",
         "x": [
          -22.80972671508789,
          -12.37433910369873,
          -18.342470169067383,
          -24.518171310424805,
          -17.828994750976562,
          -15.367807388305664,
          -14.374324798583984
         ],
         "xaxis": "x",
         "y": [
          6.933462142944336,
          -4.44362211227417,
          -7.184072017669678,
          -1.7721623182296753,
          -11.270699501037598,
          -8.71590518951416,
          -5.231314659118652
         ],
         "yaxis": "y"
        },
        {
         "customdata": [
          [
           "48850",
           "UTS"
          ],
          [
           "43123",
           "UTS"
          ],
          [
           "41124",
           "UTS"
          ],
          [
           "41125",
           "UTS"
          ],
          [
           "43026",
           "UTS"
          ],
          [
           "68412",
           "UTS"
          ],
          [
           "48572",
           "UTS"
          ],
          [
           "43124",
           "UTS"
          ],
          [
           "48550",
           "UTS"
          ],
          [
           "48531",
           "UTS"
          ],
          [
           "48582",
           "UTS"
          ],
          [
           "48520",
           "UTS"
          ],
          [
           "48561",
           "UTS"
          ]
         ],
         "hovertemplate": "major=RENE<br>uni=%{customdata[1]}<br>x=%{x}<br>y=%{y}<br>subject_code=%{customdata[0]}<extra></extra>",
         "legendgroup": "RENE, UTS",
         "marker": {
          "color": "#EF553B",
          "symbol": "circle"
         },
         "mode": "markers",
         "name": "RENE, UTS",
         "orientation": "v",
         "showlegend": true,
         "type": "scatter",
         "x": [
          -2.61346435546875,
          -24.877498626708984,
          -18.638946533203125,
          -10.773566246032715,
          -17.062450408935547,
          -24.245887756347656,
          -27.56260108947754,
          -11.035337448120117,
          -0.1017371416091919,
          -8.679451942443848,
          -26.217458724975586,
          -18.220935821533203,
          -7.6780781745910645
         ],
         "xaxis": "x",
         "y": [
          -7.549208641052246,
          -11.861019134521484,
          -8.295174598693848,
          -10.040514945983887,
          -6.334790229797363,
          3.6564114093780518,
          2.148197650909424,
          -18.5113468170166,
          -12.950614929199219,
          -4.9912872314453125,
          -5.895845413208008,
          3.1587278842926025,
          -13.031148910522461
         ],
         "yaxis": "y"
        },
        {
         "customdata": [
          [
           "37262",
           "UTS"
          ],
          [
           "37233",
           "UTS"
          ],
          [
           "37161",
           "UTS"
          ]
         ],
         "hovertemplate": "major=MATH - QUAN<br>uni=%{customdata[1]}<br>x=%{x}<br>y=%{y}<br>subject_code=%{customdata[0]}<extra></extra>",
         "legendgroup": "MATH - QUAN, UTS",
         "marker": {
          "color": "#00cc96",
          "symbol": "circle"
         },
         "mode": "markers",
         "name": "MATH - QUAN, UTS",
         "orientation": "v",
         "showlegend": true,
         "type": "scatter",
         "x": [
          -14.235211372375488,
          -8.144773483276367,
          -7.3237481117248535
         ],
         "xaxis": "x",
         "y": [
          2.2126224040985107,
          -15.998823165893555,
          -15.09935188293457
         ],
         "yaxis": "y"
        },
        {
         "customdata": [
          [
           "41889",
           "UTS"
          ],
          [
           "31260",
           "UTS"
          ],
          [
           "31777",
           "UTS"
          ],
          [
           "31927",
           "UTS"
          ]
         ],
         "hovertemplate": "major=ENTE - INTE<br>uni=%{customdata[1]}<br>x=%{x}<br>y=%{y}<br>subject_code=%{customdata[0]}<extra></extra>",
         "legendgroup": "ENTE - INTE, UTS",
         "marker": {
          "color": "#ab63fa",
          "symbol": "circle"
         },
         "mode": "markers",
         "name": "ENTE - INTE, UTS",
         "orientation": "v",
         "showlegend": true,
         "type": "scatter",
         "x": [
          -10.541885375976562,
          -20.177650451660156,
          -16.468610763549805,
          -17.659217834472656
         ],
         "xaxis": "x",
         "y": [
          7.488425254821777,
          -6.634520053863525,
          -3.1024296283721924,
          -10.737316131591797
         ],
         "yaxis": "y"
        },
        {
         "customdata": [
          [
           "31271",
           "UTS"
          ]
         ],
         "hovertemplate": "major=DATA - SOFT<br>uni=%{customdata[1]}<br>x=%{x}<br>y=%{y}<br>subject_code=%{customdata[0]}<extra></extra>",
         "legendgroup": "DATA - SOFT, UTS",
         "marker": {
          "color": "#FFA15A",
          "symbol": "circle"
         },
         "mode": "markers",
         "name": "DATA - SOFT, UTS",
         "orientation": "v",
         "showlegend": true,
         "type": "scatter",
         "x": [
          -11.61590576171875
         ],
         "xaxis": "x",
         "y": [
          4.715940475463867
         ],
         "yaxis": "y"
        },
        {
         "customdata": [
          [
           "41173",
           "UTS"
          ],
          [
           "41172",
           "UTS"
          ],
          [
           "41076",
           "UTS"
          ],
          [
           "41175",
           "UTS"
          ],
          [
           "41174",
           "UTS"
          ],
          [
           "41171",
           "UTS"
          ]
         ],
         "hovertemplate": "major=QUAN<br>uni=%{customdata[1]}<br>x=%{x}<br>y=%{y}<br>subject_code=%{customdata[0]}<extra></extra>",
         "legendgroup": "QUAN, UTS",
         "marker": {
          "color": "#19d3f3",
          "symbol": "circle"
         },
         "mode": "markers",
         "name": "QUAN, UTS",
         "orientation": "v",
         "showlegend": true,
         "type": "scatter",
         "x": [
          -12.489943504333496,
          -13.632024765014648,
          -13.749457359313965,
          -12.776266098022461,
          -13.256205558776855,
          -13.90036392211914
         ],
         "xaxis": "x",
         "y": [
          8.688450813293457,
          8.125504493713379,
          9.63085651397705,
          8.608192443847656,
          8.086414337158203,
          8.323105812072754
         ],
         "yaxis": "y"
        },
        {
         "customdata": [
          [
           "60101",
           "UTS"
          ]
         ],
         "hovertemplate": "major=CHEM - CIVI - RENE<br>uni=%{customdata[1]}<br>x=%{x}<br>y=%{y}<br>subject_code=%{customdata[0]}<extra></extra>",
         "legendgroup": "CHEM - CIVI - RENE, UTS",
         "marker": {
          "color": "#FF6692",
          "symbol": "circle"
         },
         "mode": "markers",
         "name": "CHEM - CIVI - RENE, UTS",
         "orientation": "v",
         "showlegend": true,
         "type": "scatter",
         "x": [
          -16.79985809326172
         ],
         "xaxis": "x",
         "y": [
          2.6435813903808594
         ],
         "yaxis": "y"
        },
        {
         "customdata": [
          [
           "41113",
           "UTS"
          ],
          [
           "41026",
           "UTS"
          ],
          [
           "31242",
           "UTS"
          ],
          [
           "41025",
           "UTS"
          ],
          [
           "31253",
           "UTS"
          ]
         ],
         "hovertemplate": "major=ENTE<br>uni=%{customdata[1]}<br>x=%{x}<br>y=%{y}<br>subject_code=%{customdata[0]}<extra></extra>",
         "legendgroup": "ENTE, UTS",
         "marker": {
          "color": "#B6E880",
          "symbol": "circle"
         },
         "mode": "markers",
         "name": "ENTE, UTS",
         "orientation": "v",
         "showlegend": true,
         "type": "scatter",
         "x": [
          -23.823102951049805,
          -5.836414337158203,
          -18.959400177001953,
          -5.857507705688477,
          -13.48777961730957
         ],
         "xaxis": "x",
         "y": [
          -7.517378330230713,
          -7.289383888244629,
          -10.195833206176758,
          -7.364522933959961,
          3.4573705196380615
         ],
         "yaxis": "y"
        },
        {
         "customdata": [
          [
           "41001",
           "UTS"
          ]
         ],
         "hovertemplate": "major=DATA - ENTE<br>uni=%{customdata[1]}<br>x=%{x}<br>y=%{y}<br>subject_code=%{customdata[0]}<extra></extra>",
         "legendgroup": "DATA - ENTE, UTS",
         "marker": {
          "color": "#FF97FF",
          "symbol": "circle"
         },
         "mode": "markers",
         "name": "DATA - ENTE, UTS",
         "orientation": "v",
         "showlegend": true,
         "type": "scatter",
         "x": [
          -11.427787780761719
         ],
         "xaxis": "x",
         "y": [
          -4.064396381378174
         ],
         "yaxis": "y"
        },
        {
         "customdata": [
          [
           "31250",
           "UTS"
          ]
         ],
         "hovertemplate": "major=ARTI - BIOM - DATA - INTE - QUAN<br>uni=%{customdata[1]}<br>x=%{x}<br>y=%{y}<br>subject_code=%{customdata[0]}<extra></extra>",
         "legendgroup": "ARTI - BIOM - DATA - INTE - QUAN, UTS",
         "marker": {
          "color": "#FECB52",
          "symbol": "circle"
         },
         "mode": "markers",
         "name": "ARTI - BIOM - DATA - INTE - QUAN, UTS",
         "orientation": "v",
         "showlegend": true,
         "type": "scatter",
         "x": [
          -10.820961952209473
         ],
         "xaxis": "x",
         "y": [
          -14.300385475158691
         ],
         "yaxis": "y"
        },
        {
         "customdata": [
          [
           "41088",
           "UTS"
          ],
          [
           "41089",
           "UTS"
          ]
         ],
         "hovertemplate": "major=ELEC - RENE<br>uni=%{customdata[1]}<br>x=%{x}<br>y=%{y}<br>subject_code=%{customdata[0]}<extra></extra>",
         "legendgroup": "ELEC - RENE, UTS",
         "marker": {
          "color": "#636efa",
          "symbol": "circle"
         },
         "mode": "markers",
         "name": "ELEC - RENE, UTS",
         "orientation": "v",
         "showlegend": true,
         "type": "scatter",
         "x": [
          -26.19366455078125,
          -26.95445442199707
         ],
         "xaxis": "x",
         "y": [
          -10.171422958374023,
          -9.808955192565918
         ],
         "yaxis": "y"
        },
        {
         "customdata": [
          [
           "48641",
           "UTS"
          ],
          [
           "48350",
           "UTS"
          ]
         ],
         "hovertemplate": "major=CHEM - CIVI<br>uni=%{customdata[1]}<br>x=%{x}<br>y=%{y}<br>subject_code=%{customdata[0]}<extra></extra>",
         "legendgroup": "CHEM - CIVI, UTS",
         "marker": {
          "color": "#EF553B",
          "symbol": "circle"
         },
         "mode": "markers",
         "name": "CHEM - CIVI, UTS",
         "orientation": "v",
         "showlegend": true,
         "type": "scatter",
         "x": [
          -6.450292587280273,
          -12.221702575683594
         ],
         "xaxis": "x",
         "y": [
          -5.531239986419678,
          -7.984409332275391
         ],
         "yaxis": "y"
        },
        {
         "customdata": [
          [
           "41030",
           "UTS"
          ],
          [
           "41029",
           "UTS"
          ]
         ],
         "hovertemplate": "major=BIOM - CHEM - CIVI - DATA - ELEC - MECH - RENE - SOFT<br>uni=%{customdata[1]}<br>x=%{x}<br>y=%{y}<br>subject_code=%{customdata[0]}<extra></extra>",
         "legendgroup": "BIOM - CHEM - CIVI - DATA - ELEC - MECH - RENE - SOFT, UTS",
         "marker": {
          "color": "#00cc96",
          "symbol": "circle"
         },
         "mode": "markers",
         "name": "BIOM - CHEM - CIVI - DATA - ELEC - MECH - RENE - SOFT, UTS",
         "orientation": "v",
         "showlegend": true,
         "type": "scatter",
         "x": [
          -16.923477172851562,
          -23.839895248413086
         ],
         "xaxis": "x",
         "y": [
          -14.688941955566406,
          -17.871789932250977
         ],
         "yaxis": "y"
        },
        {
         "customdata": [
          [
           "31257",
           "UTS"
          ],
          [
           "31282",
           "UTS"
          ]
         ],
         "hovertemplate": "major=BUSI - SOFT<br>uni=%{customdata[1]}<br>x=%{x}<br>y=%{y}<br>subject_code=%{customdata[0]}<extra></extra>",
         "legendgroup": "BUSI - SOFT, UTS",
         "marker": {
          "color": "#ab63fa",
          "symbol": "circle"
         },
         "mode": "markers",
         "name": "BUSI - SOFT, UTS",
         "orientation": "v",
         "showlegend": true,
         "type": "scatter",
         "x": [
          -12.340598106384277,
          -12.32141399383545
         ],
         "xaxis": "x",
         "y": [
          5.601379871368408,
          5.837451457977295
         ],
         "yaxis": "y"
        },
        {
         "customdata": [
          [
           "41180",
           "UTS"
          ],
          [
           "41181",
           "UTS"
          ],
          [
           "41182",
           "UTS"
          ],
          [
           "41183",
           "UTS"
          ],
          [
           "41184",
           "UTS"
          ],
          [
           "41185",
           "UTS"
          ]
         ],
         "hovertemplate": "major=CYBE<br>uni=%{customdata[1]}<br>x=%{x}<br>y=%{y}<br>subject_code=%{customdata[0]}<extra></extra>",
         "legendgroup": "CYBE, UTS",
         "marker": {
          "color": "#FFA15A",
          "symbol": "circle"
         },
         "mode": "markers",
         "name": "CYBE, UTS",
         "orientation": "v",
         "showlegend": true,
         "type": "scatter",
         "x": [
          -21.09433937072754,
          -20.00326919555664,
          -20.708999633789062,
          -19.358339309692383,
          -22.217164993286133,
          -21.33753204345703
         ],
         "xaxis": "x",
         "y": [
          -4.138595104217529,
          -1.0865705013275146,
          -2.723367929458618,
          -3.9265952110290527,
          -2.4074573516845703,
          -3.2007687091827393
         ],
         "yaxis": "y"
        },
        {
         "customdata": [
          [
           "48436",
           "UTS"
          ],
          [
           "41900",
           "UTS"
          ]
         ],
         "hovertemplate": "major=CYBE - NETW<br>uni=%{customdata[1]}<br>x=%{x}<br>y=%{y}<br>subject_code=%{customdata[0]}<extra></extra>",
         "legendgroup": "CYBE - NETW, UTS",
         "marker": {
          "color": "#19d3f3",
          "symbol": "circle"
         },
         "mode": "markers",
         "name": "CYBE - NETW, UTS",
         "orientation": "v",
         "showlegend": true,
         "type": "scatter",
         "x": [
          -24.71445083618164,
          -16.241573333740234
         ],
         "xaxis": "x",
         "y": [
          -1.3695390224456787,
          -4.875863075256348
         ],
         "yaxis": "y"
        },
        {
         "customdata": [
          [
           "65111",
           "UTS"
          ]
         ],
         "hovertemplate": "major=BIOM - CIVI<br>uni=%{customdata[1]}<br>x=%{x}<br>y=%{y}<br>subject_code=%{customdata[0]}<extra></extra>",
         "legendgroup": "BIOM - CIVI, UTS",
         "marker": {
          "color": "#FF6692",
          "symbol": "circle"
         },
         "mode": "markers",
         "name": "BIOM - CIVI, UTS",
         "orientation": "v",
         "showlegend": true,
         "type": "scatter",
         "x": [
          -17.265409469604492
         ],
         "xaxis": "x",
         "y": [
          3.26863956451416
         ],
         "yaxis": "y"
        },
        {
         "customdata": [
          [
           "48730",
           "UTS"
          ]
         ],
         "hovertemplate": "major=CYBE - DATA - NETW<br>uni=%{customdata[1]}<br>x=%{x}<br>y=%{y}<br>subject_code=%{customdata[0]}<extra></extra>",
         "legendgroup": "CYBE - DATA - NETW, UTS",
         "marker": {
          "color": "#B6E880",
          "symbol": "circle"
         },
         "mode": "markers",
         "name": "CYBE - DATA - NETW, UTS",
         "orientation": "v",
         "showlegend": true,
         "type": "scatter",
         "x": [
          -19.12229347229004
         ],
         "xaxis": "x",
         "y": [
          4.001006603240967
         ],
         "yaxis": "y"
        },
        {
         "customdata": [
          [
           "41052",
           "UTS"
          ]
         ],
         "hovertemplate": "major=ENTE - QUAN<br>uni=%{customdata[1]}<br>x=%{x}<br>y=%{y}<br>subject_code=%{customdata[0]}<extra></extra>",
         "legendgroup": "ENTE - QUAN, UTS",
         "marker": {
          "color": "#FF97FF",
          "symbol": "circle"
         },
         "mode": "markers",
         "name": "ENTE - QUAN, UTS",
         "orientation": "v",
         "showlegend": true,
         "type": "scatter",
         "x": [
          -1.4156914949417114
         ],
         "xaxis": "x",
         "y": [
          -10.543715476989746
         ],
         "yaxis": "y"
        },
        {
         "customdata": [
          [
           "48510",
           "UTS"
          ]
         ],
         "hovertemplate": "major=BIOM - RENE<br>uni=%{customdata[1]}<br>x=%{x}<br>y=%{y}<br>subject_code=%{customdata[0]}<extra></extra>",
         "legendgroup": "BIOM - RENE, UTS",
         "marker": {
          "color": "#FECB52",
          "symbol": "circle"
         },
         "mode": "markers",
         "name": "BIOM - RENE, UTS",
         "orientation": "v",
         "showlegend": true,
         "type": "scatter",
         "x": [
          -1.0401400327682495
         ],
         "xaxis": "x",
         "y": [
          -7.386000156402588
         ],
         "yaxis": "y"
        },
        {
         "customdata": [
          [
           "42028",
           "UTS"
          ],
          [
           "43025",
           "UTS"
          ]
         ],
         "hovertemplate": "major=ARTI - QUAN<br>uni=%{customdata[1]}<br>x=%{x}<br>y=%{y}<br>subject_code=%{customdata[0]}<extra></extra>",
         "legendgroup": "ARTI - QUAN, UTS",
         "marker": {
          "color": "#636efa",
          "symbol": "circle"
         },
         "mode": "markers",
         "name": "ARTI - QUAN, UTS",
         "orientation": "v",
         "showlegend": true,
         "type": "scatter",
         "x": [
          -9.94862174987793,
          -13.869258880615234
         ],
         "xaxis": "x",
         "y": [
          -3.2693095207214355,
          9.0576810836792
         ],
         "yaxis": "y"
        },
        {
         "customdata": [
          [
           "48433",
           "UTS"
          ]
         ],
         "hovertemplate": "major=ENTE - SOFT<br>uni=%{customdata[1]}<br>x=%{x}<br>y=%{y}<br>subject_code=%{customdata[0]}<extra></extra>",
         "legendgroup": "ENTE - SOFT, UTS",
         "marker": {
          "color": "#EF553B",
          "symbol": "circle"
         },
         "mode": "markers",
         "name": "ENTE - SOFT, UTS",
         "orientation": "v",
         "showlegend": true,
         "type": "scatter",
         "x": [
          -13.468913078308105
         ],
         "xaxis": "x",
         "y": [
          -1.8080991506576538
         ],
         "yaxis": "y"
        },
        {
         "customdata": [
          [
           "SOFT2412",
           "USYD"
          ],
          [
           "SOFT3202",
           "USYD"
          ],
          [
           "SOFT2201",
           "USYD"
          ],
          [
           "SOFT3888",
           "USYD"
          ],
          [
           "INFO3315",
           "USYD"
          ]
         ],
         "hovertemplate": "major=ENTE - SOFT<br>uni=%{customdata[1]}<br>x=%{x}<br>y=%{y}<br>subject_code=%{customdata[0]}<extra></extra>",
         "legendgroup": "ENTE - SOFT, USYD",
         "marker": {
          "color": "#EF553B",
          "symbol": "diamond"
         },
         "mode": "markers",
         "name": "ENTE - SOFT, USYD",
         "orientation": "v",
         "showlegend": true,
         "type": "scatter",
         "x": [
          -1.1004011631011963,
          -4.937838077545166,
          -1.8786104917526245,
          -2.4782745838165283,
          -5.1749587059021
         ],
         "xaxis": "x",
         "y": [
          16.8375301361084,
          10.215449333190918,
          21.03240394592285,
          11.824742317199707,
          18.234989166259766
         ],
         "yaxis": "y"
        },
        {
         "customdata": [
          [
           "31005",
           "UTS"
          ]
         ],
         "hovertemplate": "major=ARTI - DATA - QUAN<br>uni=%{customdata[1]}<br>x=%{x}<br>y=%{y}<br>subject_code=%{customdata[0]}<extra></extra>",
         "legendgroup": "ARTI - DATA - QUAN, UTS",
         "marker": {
          "color": "#00cc96",
          "symbol": "circle"
         },
         "mode": "markers",
         "name": "ARTI - DATA - QUAN, UTS",
         "orientation": "v",
         "showlegend": true,
         "type": "scatter",
         "x": [
          -26.278076171875
         ],
         "xaxis": "x",
         "y": [
          -7.41453218460083
         ],
         "yaxis": "y"
        },
        {
         "customdata": [
          [
           "91161",
           "UTS"
          ]
         ],
         "hovertemplate": "major=BIOM - CHEM<br>uni=%{customdata[1]}<br>x=%{x}<br>y=%{y}<br>subject_code=%{customdata[0]}<extra></extra>",
         "legendgroup": "BIOM - CHEM, UTS",
         "marker": {
          "color": "#ab63fa",
          "symbol": "circle"
         },
         "mode": "markers",
         "name": "BIOM - CHEM, UTS",
         "orientation": "v",
         "showlegend": true,
         "type": "scatter",
         "x": [
          -15.962594985961914
         ],
         "xaxis": "x",
         "y": [
          1.4065202474594116
         ],
         "yaxis": "y"
        },
        {
         "customdata": [
          [
           "41039",
           "UTS"
          ]
         ],
         "hovertemplate": "major=DATA - RENE - SOFT<br>uni=%{customdata[1]}<br>x=%{x}<br>y=%{y}<br>subject_code=%{customdata[0]}<extra></extra>",
         "legendgroup": "DATA - RENE - SOFT, UTS",
         "marker": {
          "color": "#FFA15A",
          "symbol": "circle"
         },
         "mode": "markers",
         "name": "DATA - RENE - SOFT, UTS",
         "orientation": "v",
         "showlegend": true,
         "type": "scatter",
         "x": [
          -0.7598388195037842
         ],
         "xaxis": "x",
         "y": [
          -13.852537155151367
         ],
         "yaxis": "y"
        },
        {
         "customdata": [
          [
           "ELEC2104",
           "USYD"
          ],
          [
           "ELEC3204",
           "USYD"
          ]
         ],
         "hovertemplate": "major=ELEC - MECH - SOFT<br>uni=%{customdata[1]}<br>x=%{x}<br>y=%{y}<br>subject_code=%{customdata[0]}<extra></extra>",
         "legendgroup": "ELEC - MECH - SOFT, USYD",
         "marker": {
          "color": "#19d3f3",
          "symbol": "diamond"
         },
         "mode": "markers",
         "name": "ELEC - MECH - SOFT, USYD",
         "orientation": "v",
         "showlegend": true,
         "type": "scatter",
         "x": [
          28.21733856201172,
          16.960235595703125
         ],
         "xaxis": "x",
         "y": [
          -4.216830730438232,
          -4.092253684997559
         ],
         "yaxis": "y"
        },
        {
         "customdata": [
          [
           "COMP3109",
           "USYD"
          ],
          [
           "COMP2922",
           "USYD"
          ],
          [
           "COMP3419",
           "USYD"
          ],
          [
           "COMP2022",
           "USYD"
          ]
         ],
         "hovertemplate": "major=COMP - SOFT<br>uni=%{customdata[1]}<br>x=%{x}<br>y=%{y}<br>subject_code=%{customdata[0]}<extra></extra>",
         "legendgroup": "COMP - SOFT, USYD",
         "marker": {
          "color": "#FF6692",
          "symbol": "diamond"
         },
         "mode": "markers",
         "name": "COMP - SOFT, USYD",
         "orientation": "v",
         "showlegend": true,
         "type": "scatter",
         "x": [
          1.1132746934890747,
          1.724470853805542,
          -3.076799154281616,
          1.72612726688385
         ],
         "xaxis": "x",
         "y": [
          22.145397186279297,
          24.966266632080078,
          9.144290924072266,
          24.925796508789062
         ],
         "yaxis": "y"
        },
        {
         "customdata": [
          [
           "ELEC5507",
           "USYD"
          ],
          [
           "ELEC3607",
           "USYD"
          ],
          [
           "ELEC3304",
           "USYD"
          ],
          [
           "ELEC5511",
           "USYD"
          ],
          [
           "ELEC5213",
           "USYD"
          ],
          [
           "ELEC5205",
           "USYD"
          ],
          [
           "PHYS1003",
           "USYD"
          ],
          [
           "ELEC5622",
           "USYD"
          ],
          [
           "ELEC5618",
           "USYD"
          ],
          [
           "ELEC5208",
           "USYD"
          ],
          [
           "ELEC5619",
           "USYD"
          ],
          [
           "PHYS2213",
           "USYD"
          ],
          [
           "ELEC5204",
           "USYD"
          ],
          [
           "ELEC3104",
           "USYD"
          ],
          [
           "ELEC5212",
           "USYD"
          ],
          [
           "ELEC1601",
           "USYD"
          ],
          [
           "ELEC5510",
           "USYD"
          ],
          [
           "ELEC3702",
           "USYD"
          ],
          [
           "ELEC3610",
           "USYD"
          ],
          [
           "ELEC3305",
           "USYD"
          ],
          [
           "ELEC5101",
           "USYD"
          ],
          [
           "ELEC3206",
           "USYD"
          ],
          [
           "ELEC5517",
           "USYD"
          ],
          [
           "ELEC5307",
           "USYD"
          ],
          [
           "ELEC5203",
           "USYD"
          ],
          [
           "ELEC3505",
           "USYD"
          ],
          [
           "ELEC5306",
           "USYD"
          ],
          [
           "ELEC2302",
           "USYD"
          ],
          [
           "ELEC5701",
           "USYD"
          ],
          [
           "ELEC5516",
           "USYD"
          ],
          [
           "ELEC2103",
           "USYD"
          ],
          [
           "ELEC5760",
           "USYD"
          ],
          [
           "COMP4216",
           "USYD"
          ],
          [
           "COMP4447",
           "USYD"
          ],
          [
           "ELEC2602",
           "USYD"
          ],
          [
           "ELEC3802",
           "USYD"
          ],
          [
           "ELEC5305",
           "USYD"
          ],
          [
           "COMP4426",
           "USYD"
          ],
          [
           "ELEC2100",
           "USYD"
          ],
          [
           "ELEC4714",
           "USYD"
          ],
          [
           "ELEC5514",
           "USYD"
          ],
          [
           "ELEC5304",
           "USYD"
          ],
          [
           "ELEC3803",
           "USYD"
          ],
          [
           "ELEC5518",
           "USYD"
          ],
          [
           "ELEC5308",
           "USYD"
          ],
          [
           "ELEC5207",
           "USYD"
          ],
          [
           "ELEC3404",
           "USYD"
          ],
          [
           "ELEC5616",
           "USYD"
          ],
          [
           "ELEC5211",
           "USYD"
          ],
          [
           "ELEC3609",
           "USYD"
          ],
          [
           "ELEC5620",
           "USYD"
          ],
          [
           "PHYS1001",
           "USYD"
          ],
          [
           "ELEC5509",
           "USYD"
          ],
          [
           "ELEC5508",
           "USYD"
          ],
          [
           "ELEC3608",
           "USYD"
          ],
          [
           "ELEC3203",
           "USYD"
          ],
          [
           "ELEC3612",
           "USYD"
          ],
          [
           "ELEC5512",
           "USYD"
          ],
          [
           "ELEC3405",
           "USYD"
          ],
          [
           "ELEC4505",
           "USYD"
          ],
          [
           "ELEC5206",
           "USYD"
          ]
         ],
         "hovertemplate": "major=ELEC - SOFT<br>uni=%{customdata[1]}<br>x=%{x}<br>y=%{y}<br>subject_code=%{customdata[0]}<extra></extra>",
         "legendgroup": "ELEC - SOFT, USYD",
         "marker": {
          "color": "#B6E880",
          "symbol": "diamond"
         },
         "mode": "markers",
         "name": "ELEC - SOFT, USYD",
         "orientation": "v",
         "showlegend": true,
         "type": "scatter",
         "x": [
          26.5867977142334,
          -7.0632100105285645,
          33.39968490600586,
          26.412513732910156,
          25.4014892578125,
          28.876794815063477,
          27.45698356628418,
          23.061296463012695,
          -3.656144380569458,
          9.719051361083984,
          -3.054893970489502,
          31.621929168701172,
          28.79081153869629,
          29.064855575561523,
          34.42769241333008,
          2.209254741668701,
          29.499435424804688,
          29.355918884277344,
          15.742398262023926,
          1.8657128810882568,
          29.085880279541016,
          12.743836402893066,
          26.558870315551758,
          -2.4255211353302,
          25.704742431640625,
          -5.2809157371521,
          -3.026310443878174,
          23.17218589782715,
          24.137720108032227,
          19.592599868774414,
          27.04395866394043,
          24.0898380279541,
          -8.283709526062012,
          -7.299758434295654,
          13.412633895874023,
          29.150054931640625,
          18.518049240112305,
          -6.1616315841674805,
          25.29989242553711,
          20.332843780517578,
          3.460447072982788,
          19.389413833618164,
          24.418712615966797,
          22.83562660217285,
          24.906402587890625,
          16.440990447998047,
          25.99066734313965,
          -8.07111644744873,
          29.11166763305664,
          18.7575740814209,
          -1.4867537021636963,
          27.283037185668945,
          -5.323817729949951,
          -0.5757317543029785,
          14.644832611083984,
          17.83572769165039,
          19.479225158691406,
          33.87617111206055,
          21.973098754882812,
          27.75839614868164,
          12.911293983459473
         ],
         "xaxis": "x",
         "y": [
          -0.8647620677947998,
          25.988174438476562,
          -0.6131018400192261,
          0.4849873185157776,
          -5.164849281311035,
          -0.29303690791130066,
          9.746649742126465,
          -2.6461875438690186,
          16.080469131469727,
          -5.404728412628174,
          13.99686050415039,
          0.42898648977279663,
          -6.683793067932129,
          -6.283016681671143,
          -3.793673276901245,
          19.873638153076172,
          -3.251472234725952,
          -3.265662670135498,
          9.928924560546875,
          22.13262367248535,
          -5.852478981018066,
          -1.0265929698944092,
          -3.777974843978882,
          9.545379638671875,
          -5.236716270446777,
          27.917739868164062,
          9.472285270690918,
          -2.4712305068969727,
          3.7730777263641357,
          -4.038522720336914,
          -4.206887722015381,
          4.302601337432861,
          20.02089500427246,
          19.48839569091797,
          -4.352941989898682,
          -4.042459487915039,
          -3.1761488914489746,
          21.73345375061035,
          -2.678179979324341,
          15.470354080200195,
          12.490144729614258,
          3.057957172393799,
          4.4599809646606445,
          5.892786026000977,
          0.7861232161521912,
          -4.748992443084717,
          0.706413984298706,
          27.39438247680664,
          -7.5885090827941895,
          8.786398887634277,
          19.439632415771484,
          9.826623916625977,
          27.730026245117188,
          12.820731163024902,
          -4.721506595611572,
          -5.492867946624756,
          5.340600490570068,
          -4.573892593383789,
          3.6872570514678955,
          0.9426606297492981,
          -1.8707735538482666
         ],
         "yaxis": "y"
        },
        {
         "customdata": [
          [
           "AMME5060",
           "USYD"
          ],
          [
           "MECH3261",
           "USYD"
          ],
          [
           "AMME5902",
           "USYD"
          ],
          [
           "AMME5105",
           "USYD"
          ],
          [
           "AMME5104",
           "USYD"
          ],
          [
           "MTRX1705",
           "USYD"
          ],
          [
           "MECH1400",
           "USYD"
          ],
          [
           "MECH3260",
           "USYD"
          ],
          [
           "MECH5265",
           "USYD"
          ],
          [
           "AMME4010",
           "USYD"
          ],
          [
           "AMME4401",
           "USYD"
          ],
          [
           "MECH2401",
           "USYD"
          ],
          [
           "MTRX1702",
           "USYD"
          ],
          [
           "AMME5292",
           "USYD"
          ],
          [
           "MTRX5700",
           "USYD"
          ],
          [
           "AMME5912",
           "USYD"
          ],
          [
           "MECH5311",
           "USYD"
          ],
          [
           "AMME2500",
           "USYD"
          ],
          [
           "MECH5720",
           "USYD"
          ],
          [
           "MECH2460",
           "USYD"
          ],
          [
           "AMME5271",
           "USYD"
          ],
          [
           "MECH3362",
           "USYD"
          ],
          [
           "AMME2262",
           "USYD"
          ],
          [
           "MECH5275",
           "USYD"
          ],
          [
           "MECH3460",
           "USYD"
          ],
          [
           "MECH5310",
           "USYD"
          ],
          [
           "MECH5255",
           "USYD"
          ],
          [
           "MECH2400",
           "USYD"
          ],
          [
           "AMME3500",
           "USYD"
          ],
          [
           "AMME5101",
           "USYD"
          ],
          [
           "AMME4710",
           "USYD"
          ],
          [
           "AMME5510",
           "USYD"
          ],
          [
           "MECH5305",
           "USYD"
          ],
          [
           "AMME2200",
           "USYD"
          ],
          [
           "AMME1705",
           "USYD"
          ],
          [
           "AMME2261",
           "USYD"
          ],
          [
           "AMME3060",
           "USYD"
          ],
          [
           "AMME2000",
           "USYD"
          ],
          [
           "MECH5304",
           "USYD"
          ],
          [
           "MTRX3760",
           "USYD"
          ],
          [
           "MECH4660",
           "USYD"
          ],
          [
           "AERO5750",
           "USYD"
          ],
          [
           "AMME5520",
           "USYD"
          ],
          [
           "MTRX2700",
           "USYD"
          ],
          [
           "AMME5202",
           "USYD"
          ],
          [
           "AMME5310",
           "USYD"
          ],
          [
           "MTRX3700",
           "USYD"
          ],
          [
           "MECH4460",
           "USYD"
          ],
          [
           "MECH5461",
           "USYD"
          ]
         ],
         "hovertemplate": "major=MECH<br>uni=%{customdata[1]}<br>x=%{x}<br>y=%{y}<br>subject_code=%{customdata[0]}<extra></extra>",
         "legendgroup": "MECH, USYD",
         "marker": {
          "color": "#FF97FF",
          "symbol": "diamond"
         },
         "mode": "markers",
         "name": "MECH, USYD",
         "orientation": "v",
         "showlegend": true,
         "type": "scatter",
         "x": [
          32.26765441894531,
          14.067073822021484,
          26.66962242126465,
          30.80257225036621,
          31.307249069213867,
          22.01187515258789,
          18.62333106994629,
          12.96143627166748,
          27.610258102416992,
          19.94187355041504,
          25.530521392822266,
          21.521808624267578,
          19.504703521728516,
          30.705835342407227,
          33.17159652709961,
          29.622661590576172,
          30.658037185668945,
          28.464094161987305,
          30.809097290039062,
          16.04680061340332,
          32.12921142578125,
          16.529537200927734,
          16.9992733001709,
          15.068792343139648,
          23.67458724975586,
          30.46915626525879,
          32.126190185546875,
          27.8067684173584,
          27.005958557128906,
          32.630279541015625,
          13.750814437866211,
          21.386302947998047,
          17.68236541748047,
          15.571131706237793,
          20.009178161621094,
          17.287382125854492,
          15.373181343078613,
          18.55632781982422,
          28.260868072509766,
          15.066180229187012,
          30.832406997680664,
          34.75056457519531,
          32.321510314941406,
          18.354248046875,
          33.0246696472168,
          23.65655517578125,
          18.791519165039062,
          19.197391510009766,
          28.170888900756836
         ],
         "xaxis": "x",
         "y": [
          7.294464111328125,
          -11.546055793762207,
          5.763484477996826,
          -1.6449633836746216,
          2.9661765098571777,
          -5.008465766906738,
          1.3577989339828491,
          -7.469552040100098,
          6.329241752624512,
          15.031805992126465,
          3.0466482639312744,
          5.164525508880615,
          -14.117840766906738,
          5.567497253417969,
          1.4077378511428833,
          4.8780059814453125,
          3.654864549636841,
          3.0094001293182373,
          -10.208148002624512,
          -14.535331726074219,
          6.892868995666504,
          -15.190213203430176,
          -9.873741149902344,
          -12.08469295501709,
          -5.084753513336182,
          4.557323932647705,
          6.506205081939697,
          -12.486003875732422,
          5.243000507354736,
          4.900599002838135,
          3.932757616043091,
          4.301239013671875,
          -6.7110772132873535,
          -8.107142448425293,
          -6.678560733795166,
          -10.192992210388184,
          -6.183405876159668,
          -10.745231628417969,
          -12.368744850158691,
          -6.929564952850342,
          -2.7606616020202637,
          1.0554039478302002,
          4.071707725524902,
          8.388764381408691,
          1.4065525531768799,
          8.030755996704102,
          -14.351456642150879,
          -7.597849369049072,
          -2.4520668983459473
         ],
         "yaxis": "y"
        },
        {
         "customdata": [
          [
           "BMET5790",
           "USYD"
          ],
          [
           "AMME2301",
           "USYD"
          ],
          [
           "AMME1802",
           "USYD"
          ],
          [
           "MECH3361",
           "USYD"
          ],
          [
           "AMME1362",
           "USYD"
          ]
         ],
         "hovertemplate": "major=BIOM - MECH<br>uni=%{customdata[1]}<br>x=%{x}<br>y=%{y}<br>subject_code=%{customdata[0]}<extra></extra>",
         "legendgroup": "BIOM - MECH, USYD",
         "marker": {
          "color": "#FECB52",
          "symbol": "diamond"
         },
         "mode": "markers",
         "name": "BIOM - MECH, USYD",
         "orientation": "v",
         "showlegend": true,
         "type": "scatter",
         "x": [
          24.043550491333008,
          18.2972412109375,
          20.88869285583496,
          20.80872917175293,
          16.141006469726562
         ],
         "xaxis": "x",
         "y": [
          -10.075611114501953,
          -11.587120056152344,
          6.370312213897705,
          -15.506160736083984,
          -1.9885988235473633
         ],
         "yaxis": "y"
        },
        {
         "customdata": [
          [
           "COMP3888",
           "USYD"
          ],
          [
           "COMP3988",
           "USYD"
          ]
         ],
         "hovertemplate": "major=COMP<br>uni=%{customdata[1]}<br>x=%{x}<br>y=%{y}<br>subject_code=%{customdata[0]}<extra></extra>",
         "legendgroup": "COMP, USYD",
         "marker": {
          "color": "#636efa",
          "symbol": "diamond"
         },
         "mode": "markers",
         "name": "COMP, USYD",
         "orientation": "v",
         "showlegend": true,
         "type": "scatter",
         "x": [
          -3.0789196491241455,
          -3.350724935531616
         ],
         "xaxis": "x",
         "y": [
          11.475407600402832,
          11.637048721313477
         ],
         "yaxis": "y"
        },
        {
         "customdata": [
          [
           "COMP3308",
           "USYD"
          ]
         ],
         "hovertemplate": "major=ARTI - COMP - MECH - SOFT<br>uni=%{customdata[1]}<br>x=%{x}<br>y=%{y}<br>subject_code=%{customdata[0]}<extra></extra>",
         "legendgroup": "ARTI - COMP - MECH - SOFT, USYD",
         "marker": {
          "color": "#EF553B",
          "symbol": "diamond"
         },
         "mode": "markers",
         "name": "ARTI - COMP - MECH - SOFT, USYD",
         "orientation": "v",
         "showlegend": true,
         "type": "scatter",
         "x": [
          1.0334136486053467
         ],
         "xaxis": "x",
         "y": [
          18.345123291015625
         ],
         "yaxis": "y"
        },
        {
         "customdata": [
          [
           "MATH2061",
           "USYD"
          ]
         ],
         "hovertemplate": "major=CIVI - ELEC - SOFT<br>uni=%{customdata[1]}<br>x=%{x}<br>y=%{y}<br>subject_code=%{customdata[0]}<extra></extra>",
         "legendgroup": "CIVI - ELEC - SOFT, USYD",
         "marker": {
          "color": "#00cc96",
          "symbol": "diamond"
         },
         "mode": "markers",
         "name": "CIVI - ELEC - SOFT, USYD",
         "orientation": "v",
         "showlegend": true,
         "type": "scatter",
         "x": [
          19.81798553466797
         ],
         "xaxis": "x",
         "y": [
          -11.836440086364746
         ],
         "yaxis": "y"
        },
        {
         "customdata": [
          [
           "INFO1910",
           "USYD"
          ],
          [
           "INFO1110",
           "USYD"
          ]
         ],
         "hovertemplate": "major=ARTI - COMP - ENTE - NETW<br>uni=%{customdata[1]}<br>x=%{x}<br>y=%{y}<br>subject_code=%{customdata[0]}<extra></extra>",
         "legendgroup": "ARTI - COMP - ENTE - NETW, USYD",
         "marker": {
          "color": "#ab63fa",
          "symbol": "diamond"
         },
         "mode": "markers",
         "name": "ARTI - COMP - ENTE - NETW, USYD",
         "orientation": "v",
         "showlegend": true,
         "type": "scatter",
         "x": [
          3.4692609310150146,
          3.3634276390075684
         ],
         "xaxis": "x",
         "y": [
          20.691957473754883,
          20.13189125061035
         ],
         "yaxis": "y"
        },
        {
         "customdata": [
          [
           "COMP2017",
           "USYD"
          ]
         ],
         "hovertemplate": "major=COMP - ELEC - NETW - SOFT<br>uni=%{customdata[1]}<br>x=%{x}<br>y=%{y}<br>subject_code=%{customdata[0]}<extra></extra>",
         "legendgroup": "COMP - ELEC - NETW - SOFT, USYD",
         "marker": {
          "color": "#FFA15A",
          "symbol": "diamond"
         },
         "mode": "markers",
         "name": "COMP - ELEC - NETW - SOFT, USYD",
         "orientation": "v",
         "showlegend": true,
         "type": "scatter",
         "x": [
          -2.3394644260406494
         ],
         "xaxis": "x",
         "y": [
          23.565826416015625
         ],
         "yaxis": "y"
        },
        {
         "customdata": [
          [
           "COMP3221",
           "USYD"
          ]
         ],
         "hovertemplate": "major=COMP - NETW - SOFT<br>uni=%{customdata[1]}<br>x=%{x}<br>y=%{y}<br>subject_code=%{customdata[0]}<extra></extra>",
         "legendgroup": "COMP - NETW - SOFT, USYD",
         "marker": {
          "color": "#19d3f3",
          "symbol": "diamond"
         },
         "mode": "markers",
         "name": "COMP - NETW - SOFT, USYD",
         "orientation": "v",
         "showlegend": true,
         "type": "scatter",
         "x": [
          -2.1779837608337402
         ],
         "xaxis": "x",
         "y": [
          21.463624954223633
         ],
         "yaxis": "y"
        },
        {
         "customdata": [
          [
           "ISYS2120",
           "USYD"
          ]
         ],
         "hovertemplate": "major=NETW - SOFT<br>uni=%{customdata[1]}<br>x=%{x}<br>y=%{y}<br>subject_code=%{customdata[0]}<extra></extra>",
         "legendgroup": "NETW - SOFT, USYD",
         "marker": {
          "color": "#FF6692",
          "symbol": "diamond"
         },
         "mode": "markers",
         "name": "NETW - SOFT, USYD",
         "orientation": "v",
         "showlegend": true,
         "type": "scatter",
         "x": [
          -2.959496259689331
         ],
         "xaxis": "x",
         "y": [
          16.406246185302734
         ],
         "yaxis": "y"
        },
        {
         "customdata": [
          [
           "COMP3027",
           "USYD"
          ],
          [
           "COMP3927",
           "USYD"
          ],
          [
           "COMP3608",
           "USYD"
          ]
         ],
         "hovertemplate": "major=ARTI - COMP - SOFT<br>uni=%{customdata[1]}<br>x=%{x}<br>y=%{y}<br>subject_code=%{customdata[0]}<extra></extra>",
         "legendgroup": "ARTI - COMP - SOFT, USYD",
         "marker": {
          "color": "#B6E880",
          "symbol": "diamond"
         },
         "mode": "markers",
         "name": "ARTI - COMP - SOFT, USYD",
         "orientation": "v",
         "showlegend": true,
         "type": "scatter",
         "x": [
          -3.2865850925445557,
          -3.765062093734741,
          -0.5348348617553711
         ],
         "xaxis": "x",
         "y": [
          19.759445190429688,
          19.362688064575195,
          22.161476135253906
         ],
         "yaxis": "y"
        },
        {
         "customdata": [
          [
           "COMP2123",
           "USYD"
          ]
         ],
         "hovertemplate": "major=ARTI - COMP - ELEC - ENTE - SOFT<br>uni=%{customdata[1]}<br>x=%{x}<br>y=%{y}<br>subject_code=%{customdata[0]}<extra></extra>",
         "legendgroup": "ARTI - COMP - ELEC - ENTE - SOFT, USYD",
         "marker": {
          "color": "#FF97FF",
          "symbol": "diamond"
         },
         "mode": "markers",
         "name": "ARTI - COMP - ELEC - ENTE - SOFT, USYD",
         "orientation": "v",
         "showlegend": true,
         "type": "scatter",
         "x": [
          -1.2464441061019897
         ],
         "xaxis": "x",
         "y": [
          17.869342803955078
         ],
         "yaxis": "y"
        },
        {
         "customdata": [
          [
           "DATA3404",
           "USYD"
          ],
          [
           "DATA2901",
           "USYD"
          ],
          [
           "DATA2002",
           "USYD"
          ],
          [
           "DATA2001",
           "USYD"
          ],
          [
           "DATA2902",
           "USYD"
          ],
          [
           "DATA3406",
           "USYD"
          ]
         ],
         "hovertemplate": "major=ARTI - SOFT<br>uni=%{customdata[1]}<br>x=%{x}<br>y=%{y}<br>subject_code=%{customdata[0]}<extra></extra>",
         "legendgroup": "ARTI - SOFT, USYD",
         "marker": {
          "color": "#FECB52",
          "symbol": "diamond"
         },
         "mode": "markers",
         "name": "ARTI - SOFT, USYD",
         "orientation": "v",
         "showlegend": true,
         "type": "scatter",
         "x": [
          -4.3054986000061035,
          3.261284589767456,
          -1.818135142326355,
          3.3794708251953125,
          -1.9140818119049072,
          -6.055733680725098
         ],
         "xaxis": "x",
         "y": [
          19.62531280517578,
          16.825197219848633,
          25.47868537902832,
          16.664749145507812,
          25.387880325317383,
          19.448123931884766
         ],
         "yaxis": "y"
        },
        {
         "customdata": [
          [
           "ELEC3506",
           "USYD"
          ]
         ],
         "hovertemplate": "major=ELEC - NETW - SOFT<br>uni=%{customdata[1]}<br>x=%{x}<br>y=%{y}<br>subject_code=%{customdata[0]}<extra></extra>",
         "legendgroup": "ELEC - NETW - SOFT, USYD",
         "marker": {
          "color": "#636efa",
          "symbol": "diamond"
         },
         "mode": "markers",
         "name": "ELEC - NETW - SOFT, USYD",
         "orientation": "v",
         "showlegend": true,
         "type": "scatter",
         "x": [
          -4.163291931152344
         ],
         "xaxis": "x",
         "y": [
          27.33182716369629
         ],
         "yaxis": "y"
        },
        {
         "customdata": [
          [
           "COMP2823",
           "USYD"
          ]
         ],
         "hovertemplate": "major=ARTI - COMP - ENTE - SOFT<br>uni=%{customdata[1]}<br>x=%{x}<br>y=%{y}<br>subject_code=%{customdata[0]}<extra></extra>",
         "legendgroup": "ARTI - COMP - ENTE - SOFT, USYD",
         "marker": {
          "color": "#EF553B",
          "symbol": "diamond"
         },
         "mode": "markers",
         "name": "ARTI - COMP - ENTE - SOFT, USYD",
         "orientation": "v",
         "showlegend": true,
         "type": "scatter",
         "x": [
          -1.3698515892028809
         ],
         "xaxis": "x",
         "y": [
          17.896392822265625
         ],
         "yaxis": "y"
        },
        {
         "customdata": [
          [
           "INFO1113",
           "USYD"
          ]
         ],
         "hovertemplate": "major=COMP - ELEC - ENTE - NETW - SOFT<br>uni=%{customdata[1]}<br>x=%{x}<br>y=%{y}<br>subject_code=%{customdata[0]}<extra></extra>",
         "legendgroup": "COMP - ELEC - ENTE - NETW - SOFT, USYD",
         "marker": {
          "color": "#00cc96",
          "symbol": "diamond"
         },
         "mode": "markers",
         "name": "COMP - ELEC - ENTE - NETW - SOFT, USYD",
         "orientation": "v",
         "showlegend": true,
         "type": "scatter",
         "x": [
          -1.37870454788208
         ],
         "xaxis": "x",
         "y": [
          9.646003723144531
         ],
         "yaxis": "y"
        },
        {
         "customdata": [
          [
           "COMP3520",
           "USYD"
          ]
         ],
         "hovertemplate": "major=COMP - ELEC - SOFT<br>uni=%{customdata[1]}<br>x=%{x}<br>y=%{y}<br>subject_code=%{customdata[0]}<extra></extra>",
         "legendgroup": "COMP - ELEC - SOFT, USYD",
         "marker": {
          "color": "#ab63fa",
          "symbol": "diamond"
         },
         "mode": "markers",
         "name": "COMP - ELEC - SOFT, USYD",
         "orientation": "v",
         "showlegend": true,
         "type": "scatter",
         "x": [
          -2.6781558990478516
         ],
         "xaxis": "x",
         "y": [
          22.02117919921875
         ],
         "yaxis": "y"
        },
        {
         "customdata": [
          [
           "COMP4318",
           "USYD"
          ]
         ],
         "hovertemplate": "major=MECH - SOFT<br>uni=%{customdata[1]}<br>x=%{x}<br>y=%{y}<br>subject_code=%{customdata[0]}<extra></extra>",
         "legendgroup": "MECH - SOFT, USYD",
         "marker": {
          "color": "#FFA15A",
          "symbol": "diamond"
         },
         "mode": "markers",
         "name": "MECH - SOFT, USYD",
         "orientation": "v",
         "showlegend": true,
         "type": "scatter",
         "x": [
          -7.8097004890441895
         ],
         "xaxis": "x",
         "y": [
          21.87466049194336
         ],
         "yaxis": "y"
        }
       ],
       "layout": {
        "legend": {
         "title": {
          "text": "major, uni"
         },
         "tracegroupgap": 0
        },
        "margin": {
         "t": 60
        },
        "template": {
         "data": {
          "bar": [
           {
            "error_x": {
             "color": "#2a3f5f"
            },
            "error_y": {
             "color": "#2a3f5f"
            },
            "marker": {
             "line": {
              "color": "#E5ECF6",
              "width": 0.5
             },
             "pattern": {
              "fillmode": "overlay",
              "size": 10,
              "solidity": 0.2
             }
            },
            "type": "bar"
           }
          ],
          "barpolar": [
           {
            "marker": {
             "line": {
              "color": "#E5ECF6",
              "width": 0.5
             },
             "pattern": {
              "fillmode": "overlay",
              "size": 10,
              "solidity": 0.2
             }
            },
            "type": "barpolar"
           }
          ],
          "carpet": [
           {
            "aaxis": {
             "endlinecolor": "#2a3f5f",
             "gridcolor": "white",
             "linecolor": "white",
             "minorgridcolor": "white",
             "startlinecolor": "#2a3f5f"
            },
            "baxis": {
             "endlinecolor": "#2a3f5f",
             "gridcolor": "white",
             "linecolor": "white",
             "minorgridcolor": "white",
             "startlinecolor": "#2a3f5f"
            },
            "type": "carpet"
           }
          ],
          "choropleth": [
           {
            "colorbar": {
             "outlinewidth": 0,
             "ticks": ""
            },
            "type": "choropleth"
           }
          ],
          "contour": [
           {
            "colorbar": {
             "outlinewidth": 0,
             "ticks": ""
            },
            "colorscale": [
             [
              0,
              "#0d0887"
             ],
             [
              0.1111111111111111,
              "#46039f"
             ],
             [
              0.2222222222222222,
              "#7201a8"
             ],
             [
              0.3333333333333333,
              "#9c179e"
             ],
             [
              0.4444444444444444,
              "#bd3786"
             ],
             [
              0.5555555555555556,
              "#d8576b"
             ],
             [
              0.6666666666666666,
              "#ed7953"
             ],
             [
              0.7777777777777778,
              "#fb9f3a"
             ],
             [
              0.8888888888888888,
              "#fdca26"
             ],
             [
              1,
              "#f0f921"
             ]
            ],
            "type": "contour"
           }
          ],
          "contourcarpet": [
           {
            "colorbar": {
             "outlinewidth": 0,
             "ticks": ""
            },
            "type": "contourcarpet"
           }
          ],
          "heatmap": [
           {
            "colorbar": {
             "outlinewidth": 0,
             "ticks": ""
            },
            "colorscale": [
             [
              0,
              "#0d0887"
             ],
             [
              0.1111111111111111,
              "#46039f"
             ],
             [
              0.2222222222222222,
              "#7201a8"
             ],
             [
              0.3333333333333333,
              "#9c179e"
             ],
             [
              0.4444444444444444,
              "#bd3786"
             ],
             [
              0.5555555555555556,
              "#d8576b"
             ],
             [
              0.6666666666666666,
              "#ed7953"
             ],
             [
              0.7777777777777778,
              "#fb9f3a"
             ],
             [
              0.8888888888888888,
              "#fdca26"
             ],
             [
              1,
              "#f0f921"
             ]
            ],
            "type": "heatmap"
           }
          ],
          "heatmapgl": [
           {
            "colorbar": {
             "outlinewidth": 0,
             "ticks": ""
            },
            "colorscale": [
             [
              0,
              "#0d0887"
             ],
             [
              0.1111111111111111,
              "#46039f"
             ],
             [
              0.2222222222222222,
              "#7201a8"
             ],
             [
              0.3333333333333333,
              "#9c179e"
             ],
             [
              0.4444444444444444,
              "#bd3786"
             ],
             [
              0.5555555555555556,
              "#d8576b"
             ],
             [
              0.6666666666666666,
              "#ed7953"
             ],
             [
              0.7777777777777778,
              "#fb9f3a"
             ],
             [
              0.8888888888888888,
              "#fdca26"
             ],
             [
              1,
              "#f0f921"
             ]
            ],
            "type": "heatmapgl"
           }
          ],
          "histogram": [
           {
            "marker": {
             "pattern": {
              "fillmode": "overlay",
              "size": 10,
              "solidity": 0.2
             }
            },
            "type": "histogram"
           }
          ],
          "histogram2d": [
           {
            "colorbar": {
             "outlinewidth": 0,
             "ticks": ""
            },
            "colorscale": [
             [
              0,
              "#0d0887"
             ],
             [
              0.1111111111111111,
              "#46039f"
             ],
             [
              0.2222222222222222,
              "#7201a8"
             ],
             [
              0.3333333333333333,
              "#9c179e"
             ],
             [
              0.4444444444444444,
              "#bd3786"
             ],
             [
              0.5555555555555556,
              "#d8576b"
             ],
             [
              0.6666666666666666,
              "#ed7953"
             ],
             [
              0.7777777777777778,
              "#fb9f3a"
             ],
             [
              0.8888888888888888,
              "#fdca26"
             ],
             [
              1,
              "#f0f921"
             ]
            ],
            "type": "histogram2d"
           }
          ],
          "histogram2dcontour": [
           {
            "colorbar": {
             "outlinewidth": 0,
             "ticks": ""
            },
            "colorscale": [
             [
              0,
              "#0d0887"
             ],
             [
              0.1111111111111111,
              "#46039f"
             ],
             [
              0.2222222222222222,
              "#7201a8"
             ],
             [
              0.3333333333333333,
              "#9c179e"
             ],
             [
              0.4444444444444444,
              "#bd3786"
             ],
             [
              0.5555555555555556,
              "#d8576b"
             ],
             [
              0.6666666666666666,
              "#ed7953"
             ],
             [
              0.7777777777777778,
              "#fb9f3a"
             ],
             [
              0.8888888888888888,
              "#fdca26"
             ],
             [
              1,
              "#f0f921"
             ]
            ],
            "type": "histogram2dcontour"
           }
          ],
          "mesh3d": [
           {
            "colorbar": {
             "outlinewidth": 0,
             "ticks": ""
            },
            "type": "mesh3d"
           }
          ],
          "parcoords": [
           {
            "line": {
             "colorbar": {
              "outlinewidth": 0,
              "ticks": ""
             }
            },
            "type": "parcoords"
           }
          ],
          "pie": [
           {
            "automargin": true,
            "type": "pie"
           }
          ],
          "scatter": [
           {
            "fillpattern": {
             "fillmode": "overlay",
             "size": 10,
             "solidity": 0.2
            },
            "type": "scatter"
           }
          ],
          "scatter3d": [
           {
            "line": {
             "colorbar": {
              "outlinewidth": 0,
              "ticks": ""
             }
            },
            "marker": {
             "colorbar": {
              "outlinewidth": 0,
              "ticks": ""
             }
            },
            "type": "scatter3d"
           }
          ],
          "scattercarpet": [
           {
            "marker": {
             "colorbar": {
              "outlinewidth": 0,
              "ticks": ""
             }
            },
            "type": "scattercarpet"
           }
          ],
          "scattergeo": [
           {
            "marker": {
             "colorbar": {
              "outlinewidth": 0,
              "ticks": ""
             }
            },
            "type": "scattergeo"
           }
          ],
          "scattergl": [
           {
            "marker": {
             "colorbar": {
              "outlinewidth": 0,
              "ticks": ""
             }
            },
            "type": "scattergl"
           }
          ],
          "scattermapbox": [
           {
            "marker": {
             "colorbar": {
              "outlinewidth": 0,
              "ticks": ""
             }
            },
            "type": "scattermapbox"
           }
          ],
          "scatterpolar": [
           {
            "marker": {
             "colorbar": {
              "outlinewidth": 0,
              "ticks": ""
             }
            },
            "type": "scatterpolar"
           }
          ],
          "scatterpolargl": [
           {
            "marker": {
             "colorbar": {
              "outlinewidth": 0,
              "ticks": ""
             }
            },
            "type": "scatterpolargl"
           }
          ],
          "scatterternary": [
           {
            "marker": {
             "colorbar": {
              "outlinewidth": 0,
              "ticks": ""
             }
            },
            "type": "scatterternary"
           }
          ],
          "surface": [
           {
            "colorbar": {
             "outlinewidth": 0,
             "ticks": ""
            },
            "colorscale": [
             [
              0,
              "#0d0887"
             ],
             [
              0.1111111111111111,
              "#46039f"
             ],
             [
              0.2222222222222222,
              "#7201a8"
             ],
             [
              0.3333333333333333,
              "#9c179e"
             ],
             [
              0.4444444444444444,
              "#bd3786"
             ],
             [
              0.5555555555555556,
              "#d8576b"
             ],
             [
              0.6666666666666666,
              "#ed7953"
             ],
             [
              0.7777777777777778,
              "#fb9f3a"
             ],
             [
              0.8888888888888888,
              "#fdca26"
             ],
             [
              1,
              "#f0f921"
             ]
            ],
            "type": "surface"
           }
          ],
          "table": [
           {
            "cells": {
             "fill": {
              "color": "#EBF0F8"
             },
             "line": {
              "color": "white"
             }
            },
            "header": {
             "fill": {
              "color": "#C8D4E3"
             },
             "line": {
              "color": "white"
             }
            },
            "type": "table"
           }
          ]
         },
         "layout": {
          "annotationdefaults": {
           "arrowcolor": "#2a3f5f",
           "arrowhead": 0,
           "arrowwidth": 1
          },
          "autotypenumbers": "strict",
          "coloraxis": {
           "colorbar": {
            "outlinewidth": 0,
            "ticks": ""
           }
          },
          "colorscale": {
           "diverging": [
            [
             0,
             "#8e0152"
            ],
            [
             0.1,
             "#c51b7d"
            ],
            [
             0.2,
             "#de77ae"
            ],
            [
             0.3,
             "#f1b6da"
            ],
            [
             0.4,
             "#fde0ef"
            ],
            [
             0.5,
             "#f7f7f7"
            ],
            [
             0.6,
             "#e6f5d0"
            ],
            [
             0.7,
             "#b8e186"
            ],
            [
             0.8,
             "#7fbc41"
            ],
            [
             0.9,
             "#4d9221"
            ],
            [
             1,
             "#276419"
            ]
           ],
           "sequential": [
            [
             0,
             "#0d0887"
            ],
            [
             0.1111111111111111,
             "#46039f"
            ],
            [
             0.2222222222222222,
             "#7201a8"
            ],
            [
             0.3333333333333333,
             "#9c179e"
            ],
            [
             0.4444444444444444,
             "#bd3786"
            ],
            [
             0.5555555555555556,
             "#d8576b"
            ],
            [
             0.6666666666666666,
             "#ed7953"
            ],
            [
             0.7777777777777778,
             "#fb9f3a"
            ],
            [
             0.8888888888888888,
             "#fdca26"
            ],
            [
             1,
             "#f0f921"
            ]
           ],
           "sequentialminus": [
            [
             0,
             "#0d0887"
            ],
            [
             0.1111111111111111,
             "#46039f"
            ],
            [
             0.2222222222222222,
             "#7201a8"
            ],
            [
             0.3333333333333333,
             "#9c179e"
            ],
            [
             0.4444444444444444,
             "#bd3786"
            ],
            [
             0.5555555555555556,
             "#d8576b"
            ],
            [
             0.6666666666666666,
             "#ed7953"
            ],
            [
             0.7777777777777778,
             "#fb9f3a"
            ],
            [
             0.8888888888888888,
             "#fdca26"
            ],
            [
             1,
             "#f0f921"
            ]
           ]
          },
          "colorway": [
           "#636efa",
           "#EF553B",
           "#00cc96",
           "#ab63fa",
           "#FFA15A",
           "#19d3f3",
           "#FF6692",
           "#B6E880",
           "#FF97FF",
           "#FECB52"
          ],
          "font": {
           "color": "#2a3f5f"
          },
          "geo": {
           "bgcolor": "white",
           "lakecolor": "white",
           "landcolor": "#E5ECF6",
           "showlakes": true,
           "showland": true,
           "subunitcolor": "white"
          },
          "hoverlabel": {
           "align": "left"
          },
          "hovermode": "closest",
          "mapbox": {
           "style": "light"
          },
          "paper_bgcolor": "white",
          "plot_bgcolor": "#E5ECF6",
          "polar": {
           "angularaxis": {
            "gridcolor": "white",
            "linecolor": "white",
            "ticks": ""
           },
           "bgcolor": "#E5ECF6",
           "radialaxis": {
            "gridcolor": "white",
            "linecolor": "white",
            "ticks": ""
           }
          },
          "scene": {
           "xaxis": {
            "backgroundcolor": "#E5ECF6",
            "gridcolor": "white",
            "gridwidth": 2,
            "linecolor": "white",
            "showbackground": true,
            "ticks": "",
            "zerolinecolor": "white"
           },
           "yaxis": {
            "backgroundcolor": "#E5ECF6",
            "gridcolor": "white",
            "gridwidth": 2,
            "linecolor": "white",
            "showbackground": true,
            "ticks": "",
            "zerolinecolor": "white"
           },
           "zaxis": {
            "backgroundcolor": "#E5ECF6",
            "gridcolor": "white",
            "gridwidth": 2,
            "linecolor": "white",
            "showbackground": true,
            "ticks": "",
            "zerolinecolor": "white"
           }
          },
          "shapedefaults": {
           "line": {
            "color": "#2a3f5f"
           }
          },
          "ternary": {
           "aaxis": {
            "gridcolor": "white",
            "linecolor": "white",
            "ticks": ""
           },
           "baxis": {
            "gridcolor": "white",
            "linecolor": "white",
            "ticks": ""
           },
           "bgcolor": "#E5ECF6",
           "caxis": {
            "gridcolor": "white",
            "linecolor": "white",
            "ticks": ""
           }
          },
          "title": {
           "x": 0.05
          },
          "xaxis": {
           "automargin": true,
           "gridcolor": "white",
           "linecolor": "white",
           "ticks": "",
           "title": {
            "standoff": 15
           },
           "zerolinecolor": "white",
           "zerolinewidth": 2
          },
          "yaxis": {
           "automargin": true,
           "gridcolor": "white",
           "linecolor": "white",
           "ticks": "",
           "title": {
            "standoff": 15
           },
           "zerolinecolor": "white",
           "zerolinewidth": 2
          }
         }
        },
        "title": {
         "text": "t-SNE visualization of DOC2VEC embeddings of UTS and USYD subjects by Major"
        },
        "xaxis": {
         "anchor": "y",
         "domain": [
          0,
          1
         ],
         "title": {
          "text": "First t-SNE"
         }
        },
        "yaxis": {
         "anchor": "x",
         "domain": [
          0,
          1
         ],
         "title": {
          "text": "Second t-SNE"
         }
        }
       }
      }
     },
     "metadata": {},
     "output_type": "display_data"
    }
   ],
   "source": [
    "show_major_plot(\"doc2vec\")"
   ]
  },
  {
   "cell_type": "code",
   "execution_count": 174,
   "metadata": {},
   "outputs": [
    {
     "data": {
      "application/vnd.plotly.v1+json": {
       "config": {
        "plotlyServerURL": "https://plot.ly"
       },
       "data": [
        {
         "customdata": [
          [
           "48260",
           "UTS"
          ],
          [
           "31482",
           "UTS"
          ],
          [
           "41903",
           "UTS"
          ],
          [
           "42913",
           "UTS"
          ],
          [
           "49261",
           "UTS"
          ],
          [
           "42724",
           "UTS"
          ],
          [
           "41108",
           "UTS"
          ],
          [
           "31748",
           "UTS"
          ],
          [
           "16138",
           "UTS"
          ],
          [
           "37262",
           "UTS"
          ],
          [
           "41020",
           "UTS"
          ],
          [
           "41077",
           "UTS"
          ],
          [
           "41172",
           "UTS"
          ],
          [
           "41021",
           "UTS"
          ],
          [
           "37234",
           "UTS"
          ],
          [
           "41277",
           "UTS"
          ],
          [
           "41129",
           "UTS"
          ],
          [
           "41386",
           "UTS"
          ],
          [
           "42722",
           "UTS"
          ],
          [
           "43021",
           "UTS"
          ],
          [
           "41118",
           "UTS"
          ],
          [
           "42036",
           "UTS"
          ],
          [
           "31261",
           "UTS"
          ],
          [
           "93211",
           "UTS"
          ],
          [
           "93207",
           "UTS"
          ],
          [
           "41088",
           "UTS"
          ],
          [
           "41067",
           "UTS"
          ],
          [
           "41175",
           "UTS"
          ],
          [
           "41030",
           "UTS"
          ],
          [
           "41905",
           "UTS"
          ],
          [
           "48362",
           "UTS"
          ],
          [
           "48270",
           "UTS"
          ],
          [
           "32011",
           "UTS"
          ],
          [
           "41180",
           "UTS"
          ],
          [
           "31282",
           "UTS"
          ],
          [
           "43017",
           "UTS"
          ],
          [
           "42095",
           "UTS"
          ],
          [
           "48436",
           "UTS"
          ],
          [
           "16471",
           "UTS"
          ],
          [
           "93230",
           "UTS"
          ],
          [
           "42001",
           "UTS"
          ],
          [
           "31256",
           "UTS"
          ],
          [
           "41174",
           "UTS"
          ],
          [
           "41089",
           "UTS"
          ],
          [
           "41066",
           "UTS"
          ],
          [
           "93210",
           "UTS"
          ],
          [
           "42037",
           "UTS"
          ],
          [
           "43124",
           "UTS"
          ],
          [
           "32009",
           "UTS"
          ],
          [
           "48881",
           "UTS"
          ],
          [
           "43019",
           "UTS"
          ],
          [
           "31263",
           "UTS"
          ],
          [
           "43023",
           "UTS"
          ],
          [
           "93229",
           "UTS"
          ],
          [
           "41069",
           "UTS"
          ],
          [
           "43015",
           "UTS"
          ],
          [
           "31097",
           "UTS"
          ],
          [
           "31243",
           "UTS"
          ],
          [
           "48360",
           "UTS"
          ],
          [
           "41004",
           "UTS"
          ],
          [
           "31242",
           "UTS"
          ],
          [
           "93232",
           "UTS"
          ],
          [
           "41029",
           "UTS"
          ],
          [
           "48033",
           "UTS"
          ],
          [
           "16263",
           "UTS"
          ],
          [
           "93208",
           "UTS"
          ],
          [
           "93228",
           "UTS"
          ],
          [
           "43022",
           "UTS"
          ],
          [
           "32931",
           "UTS"
          ],
          [
           "43018",
           "UTS"
          ],
          [
           "31777",
           "UTS"
          ],
          [
           "31262",
           "UTS"
          ],
          [
           "42028",
           "UTS"
          ],
          [
           "32146",
           "UTS"
          ],
          [
           "41891",
           "UTS"
          ],
          [
           "41203",
           "UTS"
          ],
          [
           "41184",
           "UTS"
          ],
          [
           "41055",
           "UTS"
          ],
          [
           "48366",
           "UTS"
          ],
          [
           "31245",
           "UTS"
          ],
          [
           "48389",
           "UTS"
          ],
          [
           "41278",
           "UTS"
          ],
          [
           "31253",
           "UTS"
          ],
          [
           "48370",
           "UTS"
          ],
          [
           "41043",
           "UTS"
          ],
          [
           "41034",
           "UTS"
          ],
          [
           "41171",
           "UTS"
          ],
          [
           "43024",
           "UTS"
          ],
          [
           "48582",
           "UTS"
          ],
          [
           "31272",
           "UTS"
          ],
          [
           "41384",
           "UTS"
          ],
          [
           "48371",
           "UTS"
          ],
          [
           "16422",
           "UTS"
          ],
          [
           "41185",
           "UTS"
          ],
          [
           "41202",
           "UTS"
          ],
          [
           "41890",
           "UTS"
          ]
         ],
         "hovertemplate": "year=4<br>uni=%{customdata[1]}<br>x=%{x}<br>y=%{y}<br>subject_code=%{customdata[0]}<extra></extra>",
         "legendgroup": "4, UTS",
         "marker": {
          "color": "#636efa",
          "symbol": "circle"
         },
         "mode": "markers",
         "name": "4, UTS",
         "orientation": "v",
         "showlegend": true,
         "type": "scatter",
         "x": [
          -22.142976760864258,
          -18.560169219970703,
          -13.374138832092285,
          -15.202749252319336,
          16.20632553100586,
          13.242055892944336,
          -12.126025199890137,
          -21.403274536132812,
          -27.399938583374023,
          21.959674835205078,
          -4.567523956298828,
          -5.513157367706299,
          -13.866307258605957,
          -6.715287208557129,
          20.338848114013672,
          -4.763635635375977,
          -19.199886322021484,
          -18.45368766784668,
          13.633386611938477,
          15.514254570007324,
          -5.784665107727051,
          -10.808507919311523,
          -15.297743797302246,
          52.78470993041992,
          50.426151275634766,
          -12.103639602661133,
          -10.768209457397461,
          -14.331494331359863,
          -19.824087142944336,
          -0.24447201192378998,
          -18.37515640258789,
          -19.21584129333496,
          -14.369550704956055,
          -11.655122756958008,
          -16.650909423828125,
          -9.765344619750977,
          -26.889183044433594,
          -10.223785400390625,
          -25.546001434326172,
          49.730594635009766,
          15.405972480773926,
          10.772525787353516,
          -15.74814510345459,
          -12.056320190429688,
          -10.67399787902832,
          52.934017181396484,
          -9.783697128295898,
          -14.954146385192871,
          -15.139266967773438,
          -22.079137802124023,
          -9.954426765441895,
          -23.78289222717285,
          -12.466940879821777,
          52.170108795166016,
          -8.840388298034668,
          -15.623538970947266,
          -17.09722137451172,
          -10.984519004821777,
          -29.148414611816406,
          -9.360260963439941,
          -21.39702606201172,
          53.644405364990234,
          -22.113842010498047,
          -9.528669357299805,
          -25.44015884399414,
          52.219017028808594,
          50.644840240478516,
          16.439762115478516,
          -18.836427688598633,
          -7.676042079925537,
          -5.6495680809021,
          -23.859600067138672,
          11.289539337158203,
          -10.056275367736816,
          -7.71238899230957,
          -22.559261322021484,
          -13.890067100524902,
          -19.423986434936523,
          -25.983928680419922,
          -20.471742630004883,
          -23.31454086303711,
          -3.470489978790283,
          -18.99576759338379,
          -22.263093948364258,
          -11.808819770812988,
          -8.243982315063477,
          -15.333681106567383,
          -13.120498657226562,
          -4.663252353668213,
          -21.951812744140625,
          -16.71009635925293,
          -22.120702743530273,
          -25.98565101623535,
          -12.780261039733887,
          -21.091798782348633,
          -12.992023468017578
         ],
         "xaxis": "x",
         "y": [
          -3.5193257331848145,
          -11.950488090515137,
          -12.059246063232422,
          -14.979021072387695,
          11.9617280960083,
          12.226723670959473,
          4.677834510803223,
          -22.43511962890625,
          2.6590073108673096,
          -4.489100456237793,
          -19.80937957763672,
          -10.524170875549316,
          -29.303142547607422,
          -18.378530502319336,
          -6.516046047210693,
          -4.091635227203369,
          -20.437793731689453,
          10.56935977935791,
          14.276167869567871,
          13.440919876098633,
          3.960033893585205,
          -13.478050231933594,
          -12.634622573852539,
          14.71276569366455,
          13.318854331970215,
          -4.489995956420898,
          3.831225872039795,
          -28.41088104248047,
          -0.7423783540725708,
          -10.174898147583008,
          5.869856357574463,
          -3.2791597843170166,
          -10.130500793457031,
          -17.795581817626953,
          -16.595542907714844,
          7.211297035217285,
          0.22233103215694427,
          -14.641826629638672,
          2.9659998416900635,
          14.841970443725586,
          10.4800443649292,
          -14.19054889678955,
          -28.7696590423584,
          -4.464839458465576,
          3.9281513690948486,
          12.403648376464844,
          -12.362564086914062,
          0.013014709576964378,
          -9.919986724853516,
          1.8382502794265747,
          4.893903732299805,
          -20.282390594482422,
          -22.43486213684082,
          16.175060272216797,
          4.574830532073975,
          6.222045421600342,
          -15.156676292419434,
          -20.5062313079834,
          5.932368755340576,
          -21.674116134643555,
          -22.363445281982422,
          16.327775955200195,
          0.7650306224822998,
          -11.712193489074707,
          0.3395159840583801,
          13.952595710754395,
          15.796060562133789,
          14.123173713684082,
          -12.118368148803711,
          7.917867660522461,
          -19.644601821899414,
          -20.258182525634766,
          -15.22085952758789,
          -19.40243911743164,
          -26.82891273498535,
          -2.0595176219940186,
          -17.904224395751953,
          -1.8151471614837646,
          9.788326263427734,
          -14.905699729919434,
          7.678007125854492,
          -1.503293514251709,
          -24.31147575378418,
          5.103444576263428,
          -23.050825119018555,
          -2.7616209983825684,
          -29.825420379638672,
          -22.05335807800293,
          -0.351808100938797,
          -4.734367370605469,
          10.071884155273438,
          7.466552257537842,
          2.486128091812134,
          -16.26875114440918,
          -2.4374518394470215,
          -13.968911170959473
         ],
         "yaxis": "y"
        },
        {
         "customdata": [
          [
           "COMP4530",
           "USYD"
          ],
          [
           "AMME4112",
           "USYD"
          ],
          [
           "INFO4912",
           "USYD"
          ],
          [
           "INFO4990",
           "USYD"
          ],
          [
           "INFO4913",
           "USYD"
          ],
          [
           "COMP4415",
           "USYD"
          ],
          [
           "HTIN4003",
           "USYD"
          ],
          [
           "CIVL4903",
           "USYD"
          ],
          [
           "COMP4618",
           "USYD"
          ],
          [
           "BMET4010",
           "USYD"
          ],
          [
           "AMME4010",
           "USYD"
          ],
          [
           "COMP4445",
           "USYD"
          ],
          [
           "INFO4001",
           "USYD"
          ],
          [
           "INFO4406",
           "USYD"
          ],
          [
           "AMME4401",
           "USYD"
          ],
          [
           "DATA4207",
           "USYD"
          ],
          [
           "COMP4347",
           "USYD"
          ],
          [
           "COMP4424",
           "USYD"
          ],
          [
           "CIVL4816",
           "USYD"
          ],
          [
           "CHNG4203",
           "USYD"
          ],
          [
           "HTIN4005",
           "USYD"
          ],
          [
           "BMET4112",
           "USYD"
          ],
          [
           "ISYS4450",
           "USYD"
          ],
          [
           "CIVL4817",
           "USYD"
          ],
          [
           "COMP4425",
           "USYD"
          ],
          [
           "BMET4981",
           "USYD"
          ],
          [
           "CHNG4812",
           "USYD"
          ],
          [
           "COMP4448",
           "USYD"
          ],
          [
           "COMP4405",
           "USYD"
          ],
          [
           "CIVL4860",
           "USYD"
          ],
          [
           "AMME4710",
           "USYD"
          ],
          [
           "CIVL4818",
           "USYD"
          ],
          [
           "COMP4216",
           "USYD"
          ],
          [
           "COMP4328",
           "USYD"
          ],
          [
           "COMP4447",
           "USYD"
          ],
          [
           "HTIN4006",
           "USYD"
          ],
          [
           "COMP4349",
           "USYD"
          ],
          [
           "BMET4111",
           "USYD"
          ],
          [
           "COMP4426",
           "USYD"
          ],
          [
           "CHNG4811",
           "USYD"
          ],
          [
           "ELEC4714",
           "USYD"
          ],
          [
           "COMP4427",
           "USYD"
          ],
          [
           "INFO4999",
           "USYD"
          ],
          [
           "COMP4348",
           "USYD"
          ],
          [
           "COMP4446",
           "USYD"
          ],
          [
           "INFO4002",
           "USYD"
          ],
          [
           "INFO4444",
           "USYD"
          ],
          [
           "COMP4329",
           "USYD"
          ],
          [
           "INFO4491",
           "USYD"
          ],
          [
           "CIVL4819",
           "USYD"
          ],
          [
           "COMP4313",
           "USYD"
          ],
          [
           "CIVL4812",
           "USYD"
          ],
          [
           "COMP4318",
           "USYD"
          ],
          [
           "MECH4660",
           "USYD"
          ],
          [
           "ELEC4713",
           "USYD"
          ],
          [
           "COMP4617",
           "USYD"
          ],
          [
           "CIVL4023",
           "USYD"
          ],
          [
           "COMP4416",
           "USYD"
          ],
          [
           "COMP4338",
           "USYD"
          ],
          [
           "CIVL4022",
           "USYD"
          ],
          [
           "AMME4111",
           "USYD"
          ],
          [
           "INFO4911",
           "USYD"
          ],
          [
           "COMP4270",
           "USYD"
          ],
          [
           "ELEC4712",
           "USYD"
          ],
          [
           "MECH4460",
           "USYD"
          ],
          [
           "CIVL4203",
           "USYD"
          ],
          [
           "ELEC4505",
           "USYD"
          ]
         ],
         "hovertemplate": "year=4<br>uni=%{customdata[1]}<br>x=%{x}<br>y=%{y}<br>subject_code=%{customdata[0]}<extra></extra>",
         "legendgroup": "4, USYD",
         "marker": {
          "color": "#636efa",
          "symbol": "diamond"
         },
         "mode": "markers",
         "name": "4, USYD",
         "orientation": "v",
         "showlegend": true,
         "type": "scatter",
         "x": [
          13.205777168273926,
          -22.09514617919922,
          9.104870796203613,
          10.29656982421875,
          9.2952241897583,
          9.104844093322754,
          31.288249969482422,
          -34.63898849487305,
          2.285881519317627,
          12.750022888183594,
          -5.88150691986084,
          15.68586254119873,
          8.124321937561035,
          29.562150955200195,
          -5.163758754730225,
          21.538421630859375,
          2.679605007171631,
          28.874876022338867,
          -41.0107421875,
          -16.763614654541016,
          30.264738082885742,
          -21.361536026000977,
          1.6203653812408447,
          -40.429595947265625,
          10.038838386535645,
          15.790254592895508,
          -22.118486404418945,
          7.069921493530273,
          9.395604133605957,
          -33.73427200317383,
          10.112099647521973,
          -40.07573699951172,
          5.024000644683838,
          13.246028900146484,
          4.297579288482666,
          30.05279541015625,
          2.5023200511932373,
          -21.288890838623047,
          11.101529121398926,
          -22.515058517456055,
          3.5728273391723633,
          -2.341651678085327,
          9.430107116699219,
          3.9970622062683105,
          14.780117988586426,
          8.109787940979004,
          1.6526319980621338,
          12.454318046569824,
          -0.7770214676856995,
          -40.04364013671875,
          13.399635314941406,
          -40.15861892700195,
          13.574792861938477,
          -9.629859924316406,
          -22.94378662109375,
          2.441406488418579,
          -22.679365158081055,
          5.869388580322266,
          18.91133689880371,
          -23.20335578918457,
          -21.812519073486328,
          9.498029708862305,
          12.760278701782227,
          -23.50084114074707,
          -1.4693509340286255,
          -36.28977966308594,
          7.6149210929870605
         ],
         "xaxis": "x",
         "y": [
          -24.453088760375977,
          27.194128036499023,
          -25.071352005004883,
          -24.588699340820312,
          -24.763011932373047,
          -20.861980438232422,
          -9.208388328552246,
          14.752226829528809,
          -21.025789260864258,
          17.591373443603516,
          18.23568344116211,
          -25.23932456970215,
          -23.21057891845703,
          -9.502378463745117,
          18.12851905822754,
          -19.093536376953125,
          -17.71194076538086,
          -9.554529190063477,
          6.803320407867432,
          14.142316818237305,
          -10.902109146118164,
          26.823856353759766,
          -26.907997131347656,
          7.298448085784912,
          -19.718847274780273,
          18.94723129272461,
          26.326555252075195,
          -18.62140655517578,
          -20.116636276245117,
          15.246821403503418,
          -12.926262855529785,
          9.153242111206055,
          -23.030261993408203,
          -17.97416877746582,
          -22.39390754699707,
          -10.908308029174805,
          -29.802894592285156,
          25.95600700378418,
          -26.723379135131836,
          25.23311424255371,
          1.6596052646636963,
          -21.42441749572754,
          -26.14352035522461,
          -31.090553283691406,
          -20.052818298339844,
          -23.390949249267578,
          -29.310379028320312,
          -17.141368865966797,
          -28.05781364440918,
          7.177205562591553,
          -27.82061195373535,
          7.973238468170166,
          -18.078502655029297,
          17.174009323120117,
          27.16395378112793,
          -21.34063720703125,
          26.261884689331055,
          -21.784595489501953,
          -23.742626190185547,
          25.498620986938477,
          25.345510482788086,
          -25.30024528503418,
          -25.30025863647461,
          26.384851455688477,
          19.740610122680664,
          13.25253677368164,
          -6.332849502563477
         ],
         "yaxis": "y"
        },
        {
         "customdata": [
          [
           "31251",
           "UTS"
          ],
          [
           "92471",
           "UTS"
          ],
          [
           "41305",
           "UTS"
          ],
          [
           "93470",
           "UTS"
          ],
          [
           "41128",
           "UTS"
          ],
          [
           "41201",
           "UTS"
          ],
          [
           "32144",
           "UTS"
          ],
          [
           "31338",
           "UTS"
          ],
          [
           "48450",
           "UTS"
          ],
          [
           "91705",
           "UTS"
          ],
          [
           "41276",
           "UTS"
          ],
          [
           "48850",
           "UTS"
          ],
          [
           "41889",
           "UTS"
          ],
          [
           "41124",
           "UTS"
          ],
          [
           "42026",
           "UTS"
          ],
          [
           "48353",
           "UTS"
          ],
          [
           "41060",
           "UTS"
          ],
          [
           "16912",
           "UTS"
          ],
          [
           "43026",
           "UTS"
          ],
          [
           "16314",
           "UTS"
          ],
          [
           "48349",
           "UTS"
          ],
          [
           "41113",
           "UTS"
          ],
          [
           "41001",
           "UTS"
          ],
          [
           "92470",
           "UTS"
          ],
          [
           "31250",
           "UTS"
          ],
          [
           "92482",
           "UTS"
          ],
          [
           "41163",
           "UTS"
          ],
          [
           "41026",
           "UTS"
          ],
          [
           "37161",
           "UTS"
          ],
          [
           "48641",
           "UTS"
          ],
          [
           "41381",
           "UTS"
          ],
          [
           "92477",
           "UTS"
          ],
          [
           "93231",
           "UTS"
          ],
          [
           "48572",
           "UTS"
          ],
          [
           "48860",
           "UTS"
          ],
          [
           "26101",
           "UTS"
          ],
          [
           "68038",
           "UTS"
          ],
          [
           "41302",
           "UTS"
          ],
          [
           "92476",
           "UTS"
          ],
          [
           "31276",
           "UTS"
          ],
          [
           "41070",
           "UTS"
          ],
          [
           "49047",
           "UTS"
          ],
          [
           "31275",
           "UTS"
          ],
          [
           "93213",
           "UTS"
          ],
          [
           "41161",
           "UTS"
          ],
          [
           "92479",
           "UTS"
          ],
          [
           "48550",
           "UTS"
          ],
          [
           "92480",
           "UTS"
          ],
          [
           "37335",
           "UTS"
          ],
          [
           "41086",
           "UTS"
          ],
          [
           "93209",
           "UTS"
          ],
          [
           "41301",
           "UTS"
          ],
          [
           "41182",
           "UTS"
          ],
          [
           "31280",
           "UTS"
          ],
          [
           "41028",
           "UTS"
          ],
          [
           "93233",
           "UTS"
          ],
          [
           "92475",
           "UTS"
          ],
          [
           "48730",
           "UTS"
          ],
          [
           "41012",
           "UTS"
          ],
          [
           "41383",
           "UTS"
          ],
          [
           "41382",
           "UTS"
          ],
          [
           "92474",
           "UTS"
          ],
          [
           "41052",
           "UTS"
          ],
          [
           "41183",
           "UTS"
          ],
          [
           "43014",
           "UTS"
          ],
          [
           "48434",
           "UTS"
          ],
          [
           "41068",
           "UTS"
          ],
          [
           "41087",
           "UTS"
          ],
          [
           "31258",
           "UTS"
          ],
          [
           "37363",
           "UTS"
          ],
          [
           "92481",
           "UTS"
          ],
          [
           "92478",
           "UTS"
          ],
          [
           "41025",
           "UTS"
          ],
          [
           "93212",
           "UTS"
          ],
          [
           "41033",
           "UTS"
          ],
          [
           "41079",
           "UTS"
          ],
          [
           "48433",
           "UTS"
          ],
          [
           "31005",
           "UTS"
          ],
          [
           "92473",
           "UTS"
          ],
          [
           "91530",
           "UTS"
          ],
          [
           "49131",
           "UTS"
          ],
          [
           "41385",
           "UTS"
          ],
          [
           "48350",
           "UTS"
          ],
          [
           "49150",
           "UTS"
          ],
          [
           "43025",
           "UTS"
          ],
          [
           "41019",
           "UTS"
          ],
          [
           "31927",
           "UTS"
          ],
          [
           "41058",
           "UTS"
          ],
          [
           "49151",
           "UTS"
          ],
          [
           "92472",
           "UTS"
          ],
          [
           "41900",
           "UTS"
          ],
          [
           "48330",
           "UTS"
          ],
          [
           "31268",
           "UTS"
          ],
          [
           "48561",
           "UTS"
          ]
         ],
         "hovertemplate": "year=3<br>uni=%{customdata[1]}<br>x=%{x}<br>y=%{y}<br>subject_code=%{customdata[0]}<extra></extra>",
         "legendgroup": "3, UTS",
         "marker": {
          "color": "#EF553B",
          "symbol": "circle"
         },
         "mode": "markers",
         "name": "3, UTS",
         "orientation": "v",
         "showlegend": true,
         "type": "scatter",
         "x": [
          -15.287577629089355,
          55.25759506225586,
          -10.410958290100098,
          56.428462982177734,
          -18.240890502929688,
          -21.912012100219727,
          -18.957138061523438,
          -14.390923500061035,
          -7.860924243927002,
          17.29581642150879,
          -7.983274936676025,
          -21.54379653930664,
          -16.979297637939453,
          -13.138443946838379,
          14.052728652954102,
          -26.13865852355957,
          -14.588295936584473,
          -25.542861938476562,
          -14.442359924316406,
          -25.658130645751953,
          -24.955495834350586,
          -18.42625617980957,
          -7.818881511688232,
          57.0635871887207,
          -10.747913360595703,
          57.19852828979492,
          14.863629341125488,
          -18.939796447753906,
          21.966140747070312,
          -17.820634841918945,
          -18.454540252685547,
          56.604888916015625,
          49.48656463623047,
          -4.780324459075928,
          -20.435922622680664,
          31.789804458618164,
          18.308324813842773,
          -12.184739112854004,
          54.89999771118164,
          -21.23945426940918,
          -9.141990661621094,
          -28.331954956054688,
          -14.782730102539062,
          48.133644104003906,
          14.384039878845215,
          56.06147766113281,
          -13.982397079467773,
          57.71211242675781,
          19.499317169189453,
          -11.404372215270996,
          53.180091857910156,
          -12.326934814453125,
          -13.246224403381348,
          -18.203407287597656,
          -19.42557144165039,
          51.28047561645508,
          56.227020263671875,
          -10.83165454864502,
          -7.645839214324951,
          -17.852609634399414,
          -17.626985549926758,
          57.961673736572266,
          -14.754040718078613,
          -12.87508487701416,
          -10.886429786682129,
          -7.581244468688965,
          -8.285201072692871,
          -11.8612060546875,
          -21.083051681518555,
          22.653757095336914,
          54.72746276855469,
          55.70133590698242,
          -17.56649398803711,
          53.06627655029297,
          -7.520244598388672,
          -9.242229461669922,
          -20.663782119750977,
          -11.92296028137207,
          55.465362548828125,
          41.70259475708008,
          -25.345523834228516,
          -17.853078842163086,
          -21.274826049804688,
          -26.179365158081055,
          -14.684423446655273,
          -6.267593860626221,
          -15.856565475463867,
          -7.7368083000183105,
          -25.6976261138916,
          56.528297424316406,
          -11.618341445922852,
          -29.18726921081543,
          -15.174775123596191,
          -3.1981313228607178
         ],
         "xaxis": "x",
         "y": [
          -23.88172721862793,
          11.113825798034668,
          1.5905565023422241,
          16.930349349975586,
          -20.95412254333496,
          -1.2949652671813965,
          -11.507198333740234,
          -12.88448429107666,
          -7.491194725036621,
          11.343188285827637,
          -1.2916269302368164,
          2.5849132537841797,
          -18.879735946655273,
          -1.2394392490386963,
          13.270631790161133,
          8.407990455627441,
          5.6496171951293945,
          1.31680166721344,
          -1.1189385652542114,
          1.9259109497070312,
          9.450714111328125,
          -19.581945419311523,
          -26.78710174560547,
          11.252765655517578,
          -19.740449905395508,
          12.796672821044922,
          13.571352005004883,
          -18.779462814331055,
          -4.515350341796875,
          6.151764869689941,
          8.202932357788086,
          14.944738388061523,
          10.016416549682617,
          -0.4204222559928894,
          3.706805944442749,
          -8.598318099975586,
          -3.3740906715393066,
          9.140449523925781,
          13.304686546325684,
          -15.01668643951416,
          2.9535093307495117,
          9.65881061553955,
          -11.46935749053955,
          13.232701301574707,
          11.398189544677734,
          14.171255111694336,
          -0.016687501221895218,
          13.297167778015137,
          -5.2146477699279785,
          -5.447885990142822,
          9.969741821289062,
          6.643880844116211,
          -15.69276237487793,
          -14.014460563659668,
          -1.8502947092056274,
          11.35194206237793,
          13.01276969909668,
          -14.087324142456055,
          2.9751100540161133,
          9.824050903320312,
          10.925158500671387,
          14.074506759643555,
          -24.115562438964844,
          -16.828413009643555,
          8.226780891418457,
          -6.197201251983643,
          4.382903099060059,
          -5.471928596496582,
          -16.17426109313965,
          -4.827803134918213,
          12.490793228149414,
          10.36098861694336,
          -19.494142532348633,
          6.231536388397217,
          -1.0912575721740723,
          -23.593027114868164,
          -19.142107009887695,
          -21.07478141784668,
          15.210994720458984,
          12.253409385681152,
          6.862419605255127,
          10.156442642211914,
          4.191880226135254,
          7.613654136657715,
          -29.17008399963379,
          -18.238460540771484,
          -19.288970947265625,
          7.8767924308776855,
          5.286440372467041,
          11.727752685546875,
          -16.12604331970215,
          5.971279144287109,
          -13.710406303405762,
          -1.2115572690963745
         ],
         "yaxis": "y"
        },
        {
         "customdata": [
          [
           "COMP3109",
           "USYD"
          ],
          [
           "ELEC3607",
           "USYD"
          ],
          [
           "ELEC3304",
           "USYD"
          ],
          [
           "COMP3888",
           "USYD"
          ],
          [
           "COMP3308",
           "USYD"
          ],
          [
           "NURS3019",
           "USYD"
          ],
          [
           "MECH3261",
           "USYD"
          ],
          [
           "BMET3961",
           "USYD"
          ],
          [
           "NURS3015",
           "USYD"
          ],
          [
           "ENGG3112",
           "USYD"
          ],
          [
           "BMET3921",
           "USYD"
          ],
          [
           "ELEC3104",
           "USYD"
          ],
          [
           "CIVL3511",
           "USYD"
          ],
          [
           "NURS3018",
           "USYD"
          ],
          [
           "MECH3260",
           "USYD"
          ],
          [
           "ELEC3702",
           "USYD"
          ],
          [
           "ELEC3610",
           "USYD"
          ],
          [
           "CIVL3205",
           "USYD"
          ],
          [
           "ELEC3305",
           "USYD"
          ],
          [
           "COMP3221",
           "USYD"
          ],
          [
           "CIVL3614",
           "USYD"
          ],
          [
           "BMET3971",
           "USYD"
          ],
          [
           "ENGG3800",
           "USYD"
          ],
          [
           "ELEC3206",
           "USYD"
          ],
          [
           "CIVL3310",
           "USYD"
          ],
          [
           "COMP3027",
           "USYD"
          ],
          [
           "BMET3802",
           "USYD"
          ],
          [
           "ISYS3402",
           "USYD"
          ],
          [
           "MECH3362",
           "USYD"
          ],
          [
           "ELEC3505",
           "USYD"
          ],
          [
           "NURS3008",
           "USYD"
          ],
          [
           "SOFT3202",
           "USYD"
          ],
          [
           "MECH3460",
           "USYD"
          ],
          [
           "CIVL3612",
           "USYD"
          ],
          [
           "CIVL3235",
           "USYD"
          ],
          [
           "DATA3404",
           "USYD"
          ],
          [
           "ENGP3002",
           "USYD"
          ],
          [
           "NURS3012",
           "USYD"
          ],
          [
           "INFO3911",
           "USYD"
          ],
          [
           "AMME3500",
           "USYD"
          ],
          [
           "BMET3660",
           "USYD"
          ],
          [
           "NURS3007",
           "USYD"
          ],
          [
           "ENGP3001",
           "USYD"
          ],
          [
           "CSEC3616",
           "USYD"
          ],
          [
           "INFO3912",
           "USYD"
          ],
          [
           "ELEC3506",
           "USYD"
          ],
          [
           "MECH3361",
           "USYD"
          ],
          [
           "ELEC3802",
           "USYD"
          ],
          [
           "COMP3988",
           "USYD"
          ],
          [
           "CIVL3806",
           "USYD"
          ],
          [
           "COMP3530",
           "USYD"
          ],
          [
           "BMET3990",
           "USYD"
          ],
          [
           "ELEC3204",
           "USYD"
          ],
          [
           "COMP3419",
           "USYD"
          ],
          [
           "DATA3888",
           "USYD"
          ],
          [
           "COMP3927",
           "USYD"
          ],
          [
           "SOFT3410",
           "USYD"
          ],
          [
           "CIVL3411",
           "USYD"
          ],
          [
           "AMME3060",
           "USYD"
          ],
          [
           "ISYS3401",
           "USYD"
          ],
          [
           "ELEC3803",
           "USYD"
          ],
          [
           "CIVL3811",
           "USYD"
          ],
          [
           "SOFT3888",
           "USYD"
          ],
          [
           "INFO3315",
           "USYD"
          ],
          [
           "DATA3406",
           "USYD"
          ],
          [
           "INFO3616",
           "USYD"
          ],
          [
           "COMP3520",
           "USYD"
          ],
          [
           "ELEC3404",
           "USYD"
          ],
          [
           "MTRX3760",
           "USYD"
          ],
          [
           "CIVL3206",
           "USYD"
          ],
          [
           "CIVL3705",
           "USYD"
          ],
          [
           "NURS3017",
           "USYD"
          ],
          [
           "ELEC3609",
           "USYD"
          ],
          [
           "ISYS3888",
           "USYD"
          ],
          [
           "MTRX3700",
           "USYD"
          ],
          [
           "ELEC3608",
           "USYD"
          ],
          [
           "ELEC3203",
           "USYD"
          ],
          [
           "NURS3020",
           "USYD"
          ],
          [
           "BMET3997",
           "USYD"
          ],
          [
           "CIVL3704",
           "USYD"
          ],
          [
           "ELEC3612",
           "USYD"
          ],
          [
           "INFO3333",
           "USYD"
          ],
          [
           "CSEC3888",
           "USYD"
          ],
          [
           "ELEC3405",
           "USYD"
          ],
          [
           "COMP3608",
           "USYD"
          ]
         ],
         "hovertemplate": "year=3<br>uni=%{customdata[1]}<br>x=%{x}<br>y=%{y}<br>subject_code=%{customdata[0]}<extra></extra>",
         "legendgroup": "3, USYD",
         "marker": {
          "color": "#EF553B",
          "symbol": "diamond"
         },
         "mode": "markers",
         "name": "3, USYD",
         "orientation": "v",
         "showlegend": true,
         "type": "scatter",
         "x": [
          10.016031265258789,
          4.484529495239258,
          5.592521667480469,
          6.950104236602783,
          12.870200157165527,
          46.999202728271484,
          -6.669913291931152,
          14.878438949584961,
          50.2943115234375,
          -14.364660263061523,
          15.752962112426758,
          5.717104911804199,
          -32.533424377441406,
          47.174686431884766,
          -8.950199127197266,
          -10.563766479492188,
          3.383241891860962,
          -30.308521270751953,
          9.980961799621582,
          13.066617965698242,
          -34.820091247558594,
          15.555886268615723,
          -14.739593505859375,
          1.415143609046936,
          -39.25162887573242,
          14.74073600769043,
          20.315275192260742,
          -42.510101318359375,
          -0.6541923880577087,
          7.409566879272461,
          50.1967658996582,
          6.820392608642578,
          -2.4040334224700928,
          -32.77608108520508,
          -30.5736026763916,
          20.03607177734375,
          -17.828584671020508,
          47.64438247680664,
          7.495006561279297,
          -7.404571056365967,
          14.781854629516602,
          45.392303466796875,
          -18.002269744873047,
          1.0739681720733643,
          7.272172451019287,
          6.881760120391846,
          -2.84248685836792,
          20.482952117919922,
          6.9694437980651855,
          -40.331520080566406,
          13.323695182800293,
          14.591364860534668,
          1.446967363357544,
          9.10098648071289,
          21.09262466430664,
          14.73690414428711,
          8.568055152893066,
          -32.466636657714844,
          -5.535696983337402,
          3.1284844875335693,
          -42.510101318359375,
          -33.9195556640625,
          6.8254075050354,
          -2.653421401977539,
          23.40694236755371,
          0.98808753490448,
          6.270177841186523,
          3.76554274559021,
          -2.107950210571289,
          -28.99864959716797,
          -36.73276138305664,
          45.3088493347168,
          2.783129930496216,
          3.9993693828582764,
          -2.8862903118133545,
          5.1847052574157715,
          0.6183277368545532,
          46.22359085083008,
          -42.510101318359375,
          -38.49753189086914,
          10.337040901184082,
          5.796801567077637,
          1.403076410293579,
          8.60834789276123,
          12.765077590942383
         ],
         "xaxis": "x",
         "y": [
          -28.712724685668945,
          -9.904093742370605,
          -1.2364519834518433,
          -29.298765182495117,
          -21.980405807495117,
          3.347888946533203,
          25.142467498779297,
          20.727115631103516,
          3.0564844608306885,
          18.238170623779297,
          17.761913299560547,
          -3.950674533843994,
          15.382284164428711,
          6.481051445007324,
          25.867536544799805,
          16.931129455566406,
          -15.589190483093262,
          13.41772747039795,
          -8.287399291992188,
          -27.215917587280273,
          19.13389015197754,
          20.58735466003418,
          18.060728073120117,
          -1.9013358354568481,
          12.282291412353516,
          -26.258949279785156,
          17.634666442871094,
          -2.59708309173584,
          21.404144287109375,
          -6.2272138595581055,
          5.723725318908691,
          -32.63372802734375,
          20.51936912536621,
          20.13069725036621,
          14.211906433105469,
          -22.606372833251953,
          20.612428665161133,
          1.9456335306167603,
          -27.03295135498047,
          20.62496566772461,
          19.394214630126953,
          2.7778983116149902,
          21.311805725097656,
          -21.46745491027832,
          -26.508134841918945,
          -7.245687961578369,
          21.424680709838867,
          17.48691177368164,
          -29.241342544555664,
          6.362633228302002,
          -24.36518669128418,
          18.100189208984375,
          -1.4261376857757568,
          -20.881282806396484,
          -18.42180824279785,
          -26.259010314941406,
          -32.55906295776367,
          9.9298095703125,
          23.45234489440918,
          -26.61508560180664,
          -2.59708309173584,
          12.69745922088623,
          -30.27907943725586,
          -20.69199562072754,
          -18.8912353515625,
          -21.224842071533203,
          -24.692012786865234,
          -2.1027376651763916,
          13.851883888244629,
          14.55058765411377,
          15.77573299407959,
          4.813782691955566,
          -16.009254455566406,
          -26.415380477905273,
          13.090039253234863,
          -10.556949615478516,
          -4.296490669250488,
          3.916416645050049,
          -2.59708309173584,
          16.00844955444336,
          -11.559789657592773,
          -27.434146881103516,
          -22.872310638427734,
          -3.814438819885254,
          -22.172832489013672
         ],
         "yaxis": "y"
        },
        {
         "customdata": [
          [
           "48221",
           "UTS"
          ],
          [
           "31247",
           "UTS"
          ],
          [
           "41057",
           "UTS"
          ],
          [
           "43123",
           "UTS"
          ],
          [
           "93201",
           "UTS"
          ],
          [
           "48352",
           "UTS"
          ],
          [
           "31271",
           "UTS"
          ],
          [
           "41173",
           "UTS"
          ],
          [
           "41076",
           "UTS"
          ],
          [
           "41308",
           "UTS"
          ],
          [
           "91529",
           "UTS"
          ],
          [
           "41200",
           "UTS"
          ],
          [
           "41056",
           "UTS"
          ],
          [
           "41040",
           "UTS"
          ],
          [
           "37233",
           "UTS"
          ],
          [
           "31277",
           "UTS"
          ],
          [
           "93227",
           "UTS"
          ],
          [
           "31257",
           "UTS"
          ],
          [
           "68412",
           "UTS"
          ],
          [
           "48821",
           "UTS"
          ],
          [
           "41092",
           "UTS"
          ],
          [
           "37252",
           "UTS"
          ],
          [
           "41085",
           "UTS"
          ],
          [
           "41181",
           "UTS"
          ],
          [
           "41380",
           "UTS"
          ],
          [
           "93206",
           "UTS"
          ],
          [
           "31260",
           "UTS"
          ],
          [
           "41162",
           "UTS"
          ],
          [
           "48441",
           "UTS"
          ],
          [
           "33230",
           "UTS"
          ],
          [
           "31061",
           "UTS"
          ],
          [
           "68037",
           "UTS"
          ],
          [
           "48340",
           "UTS"
          ],
          [
           "65111",
           "UTS"
          ],
          [
           "48024",
           "UTS"
          ],
          [
           "48531",
           "UTS"
          ],
          [
           "48622",
           "UTS"
          ],
          [
           "31255",
           "UTS"
          ],
          [
           "93225",
           "UTS"
          ],
          [
           "93224",
           "UTS"
          ],
          [
           "31080",
           "UTS"
          ],
          [
           "41013",
           "UTS"
          ],
          [
           "41091",
           "UTS"
          ],
          [
           "48530",
           "UTS"
          ],
          [
           "93204",
           "UTS"
          ],
          [
           "41080",
           "UTS"
          ],
          [
           "91822",
           "UTS"
          ],
          [
           "48331",
           "UTS"
          ],
          [
           "41014",
           "UTS"
          ],
          [
           "93223",
           "UTS"
          ],
          [
           "41059",
           "UTS"
          ],
          [
           "48540",
           "UTS"
          ],
          [
           "41127",
           "UTS"
          ],
          [
           "93202",
           "UTS"
          ],
          [
           "41035",
           "UTS"
          ],
          [
           "91161",
           "UTS"
          ],
          [
           "41078",
           "UTS"
          ],
          [
           "41039",
           "UTS"
          ]
         ],
         "hovertemplate": "year=2<br>uni=%{customdata[1]}<br>x=%{x}<br>y=%{y}<br>subject_code=%{customdata[0]}<extra></extra>",
         "legendgroup": "2, UTS",
         "marker": {
          "color": "#00cc96",
          "symbol": "circle"
         },
         "mode": "markers",
         "name": "2, UTS",
         "orientation": "v",
         "showlegend": true,
         "type": "scatter",
         "x": [
          -21.716533660888672,
          -18.810312271118164,
          -15.96213436126709,
          -15.4835205078125,
          50.62751770019531,
          -24.117647171020508,
          -18.462312698364258,
          -14.98249626159668,
          -15.103386878967285,
          -6.219724178314209,
          41.687217712402344,
          -21.492307662963867,
          -9.479279518127441,
          -12.736832618713379,
          20.518312454223633,
          -14.87750244140625,
          47.89927291870117,
          -18.499431610107422,
          17.692453384399414,
          -20.7094669342041,
          -13.315384864807129,
          20.989316940307617,
          -10.894315719604492,
          -13.83031177520752,
          -16.328346252441406,
          53.829261779785156,
          -6.5987138748168945,
          15.356180191040039,
          -7.257664203643799,
          20.270065307617188,
          -18.286197662353516,
          18.207263946533203,
          -23.608028411865234,
          17.511022567749023,
          -16.408605575561523,
          -6.020337104797363,
          -7.586949825286865,
          -17.5111141204834,
          52.46440887451172,
          52.979427337646484,
          -7.696376800537109,
          -6.875572204589844,
          -11.399873733520508,
          -5.0660400390625,
          51.82330322265625,
          -14.136253356933594,
          18.493148803710938,
          -23.85462188720703,
          -7.812809467315674,
          53.184669494628906,
          -10.5569486618042,
          -4.79085636138916,
          -18.93465232849121,
          51.66658020019531,
          -20.129547119140625,
          18.39153289794922,
          -9.254585266113281,
          -15.759693145751953
         ],
         "xaxis": "x",
         "y": [
          7.519746780395508,
          -14.88425350189209,
          6.445082187652588,
          0.533069908618927,
          14.34878921508789,
          4.417533874511719,
          -24.022235870361328,
          -28.161542892456055,
          -28.97229766845703,
          5.510449409484863,
          12.303520202636719,
          -1.5815104246139526,
          7.687722206115723,
          -22.327272415161133,
          -5.256109237670898,
          -10.70144271850586,
          13.18016242980957,
          -16.96218490600586,
          -2.062613010406494,
          4.458155632019043,
          -11.712005615234375,
          -3.7202179431915283,
          -4.745215892791748,
          -16.047616958618164,
          7.70539665222168,
          14.723526000976562,
          -18.913150787353516,
          12.144682884216309,
          0.05277539789676666,
          -4.504515647888184,
          -23.934492111206055,
          -2.969093084335327,
          4.175206661224365,
          0.841120183467865,
          -20.85085105895996,
          1.1612502336502075,
          1.3791120052337646,
          -14.491341590881348,
          14.967778205871582,
          12.692919731140137,
          -18.52758026123047,
          4.528330326080322,
          -9.41368293762207,
          -2.3736023902893066,
          13.064754486083984,
          -24.498085021972656,
          8.217264175415039,
          10.146366119384766,
          6.36959171295166,
          9.760636329650879,
          4.60529088973999,
          -3.722764015197754,
          -19.892784118652344,
          14.550999641418457,
          -1.8422454595565796,
          8.41495132446289,
          -23.481019973754883,
          -20.592632293701172
         ],
         "yaxis": "y"
        },
        {
         "customdata": [
          [
           "ISYS2110",
           "USYD"
          ],
          [
           "ELEC2104",
           "USYD"
          ],
          [
           "BMET2901",
           "USYD"
          ],
          [
           "ENGG2112",
           "USYD"
          ],
          [
           "BMET2960",
           "USYD"
          ],
          [
           "MATH2061",
           "USYD"
          ],
          [
           "COMP2017",
           "USYD"
          ],
          [
           "INFO2150",
           "USYD"
          ],
          [
           "PHYS2213",
           "USYD"
          ],
          [
           "AMME2301",
           "USYD"
          ],
          [
           "NURS2003",
           "USYD"
          ],
          [
           "INFO2222",
           "USYD"
          ],
          [
           "COMP2922",
           "USYD"
          ],
          [
           "MECH2401",
           "USYD"
          ],
          [
           "ENGP2002",
           "USYD"
          ],
          [
           "INFO2911",
           "USYD"
          ],
          [
           "ISYS2120",
           "USYD"
          ],
          [
           "AMME2500",
           "USYD"
          ],
          [
           "NURS2008",
           "USYD"
          ],
          [
           "SOFT2412",
           "USYD"
          ],
          [
           "MECH2460",
           "USYD"
          ],
          [
           "CIVL2700",
           "USYD"
          ],
          [
           "ELEC2302",
           "USYD"
          ],
          [
           "AMME2262",
           "USYD"
          ],
          [
           "CIVL2812",
           "USYD"
          ],
          [
           "COMP2123",
           "USYD"
          ],
          [
           "STAT2911",
           "USYD"
          ],
          [
           "NURS2009",
           "USYD"
          ],
          [
           "ELEC2103",
           "USYD"
          ],
          [
           "ISYS2160",
           "USYD"
          ],
          [
           "ENGP2003",
           "USYD"
          ],
          [
           "MECH2400",
           "USYD"
          ],
          [
           "DATA2901",
           "USYD"
          ],
          [
           "DATA2002",
           "USYD"
          ],
          [
           "NURS2005",
           "USYD"
          ],
          [
           "BMET2925",
           "USYD"
          ],
          [
           "NURS2010",
           "USYD"
          ],
          [
           "NURS2006",
           "USYD"
          ],
          [
           "DATA2001",
           "USYD"
          ],
          [
           "AMME2200",
           "USYD"
          ],
          [
           "DATA2902",
           "USYD"
          ],
          [
           "ELEC2602",
           "USYD"
          ],
          [
           "MATH2069",
           "USYD"
          ],
          [
           "CIVL2201",
           "USYD"
          ],
          [
           "AMME2261",
           "USYD"
          ],
          [
           "COMP2823",
           "USYD"
          ],
          [
           "STAT2011",
           "USYD"
          ],
          [
           "ELEC2100",
           "USYD"
          ],
          [
           "BMET2400",
           "USYD"
          ],
          [
           "CIVL2410",
           "USYD"
          ],
          [
           "SOFT2201",
           "USYD"
          ],
          [
           "CIVL2611",
           "USYD"
          ],
          [
           "ENGP2001",
           "USYD"
          ],
          [
           "NURS2011",
           "USYD"
          ],
          [
           "AMME2000",
           "USYD"
          ],
          [
           "INFO2912",
           "USYD"
          ],
          [
           "CIVL2010",
           "USYD"
          ],
          [
           "COMP2022",
           "USYD"
          ],
          [
           "BMET2903",
           "USYD"
          ],
          [
           "MTRX2700",
           "USYD"
          ],
          [
           "NURS2001",
           "USYD"
          ],
          [
           "BMET2922",
           "USYD"
          ],
          [
           "BMET2902",
           "USYD"
          ]
         ],
         "hovertemplate": "year=2<br>uni=%{customdata[1]}<br>x=%{x}<br>y=%{y}<br>subject_code=%{customdata[0]}<extra></extra>",
         "legendgroup": "2, USYD",
         "marker": {
          "color": "#00cc96",
          "symbol": "diamond"
         },
         "mode": "markers",
         "name": "2, USYD",
         "orientation": "v",
         "showlegend": true,
         "type": "scatter",
         "x": [
          2.07193922996521,
          3.963411331176758,
          17.4279842376709,
          -13.661181449890137,
          18.330591201782227,
          22.347414016723633,
          9.642477035522461,
          29.2100772857666,
          10.008169174194336,
          -3.110699415206909,
          49.77988052368164,
          -1.8176188468933105,
          15.39520263671875,
          -4.188190937042236,
          -19.100421905517578,
          8.043767929077148,
          19.282846450805664,
          -6.293083190917969,
          50.73432922363281,
          6.70288610458374,
          -1.1748383045196533,
          -37.8072509765625,
          5.7888336181640625,
          -8.968412399291992,
          -35.88691711425781,
          16.38309669494629,
          23.082639694213867,
          48.795894622802734,
          3.420717716217041,
          3.531038284301758,
          -18.357572555541992,
          -3.3707315921783447,
          20.852062225341797,
          22.86087989807129,
          43.68735122680664,
          31.079864501953125,
          48.13829803466797,
          48.45436096191406,
          20.85140037536621,
          -9.98608684539795,
          22.786840438842773,
          5.705788612365723,
          19.671247482299805,
          -29.852188110351562,
          -6.735787868499756,
          16.372846603393555,
          23.062849044799805,
          4.257767677307129,
          16.141632080078125,
          -33.061588287353516,
          6.860295295715332,
          -32.93722915649414,
          -18.882238388061523,
          48.82057189941406,
          -5.883448123931885,
          7.796421051025391,
          -37.71968078613281,
          15.387493133544922,
          18.83323097229004,
          -3.2190401554107666,
          43.70195388793945,
          20.24095344543457,
          18.895429611206055
         ],
         "xaxis": "x",
         "y": [
          -25.818693161010742,
          -3.128945827484131,
          18.15433120727539,
          18.67112159729004,
          19.356672286987305,
          -10.506453514099121,
          -31.3055477142334,
          -11.533455848693848,
          -0.4299699664115906,
          21.79340362548828,
          4.268610954284668,
          -20.86309051513672,
          -29.987640380859375,
          17.665611267089844,
          19.865394592285156,
          -26.4820613861084,
          -23.61517906188965,
          21.066736221313477,
          4.104037284851074,
          -31.215110778808594,
          17.976909637451172,
          16.515644073486328,
          -2.2753067016601562,
          25.480371475219727,
          11.711897850036621,
          -26.763809204101562,
          -14.722583770751953,
          5.412785053253174,
          -4.766551971435547,
          -25.96417236328125,
          19.980287551879883,
          17.67584228515625,
          -20.811372756958008,
          -17.4309139251709,
          7.50664758682251,
          -11.525197982788086,
          5.938863754272461,
          3.464237689971924,
          -20.82611846923828,
          25.300268173217773,
          -17.435791015625,
          -9.42279052734375,
          -12.686229705810547,
          14.892403602600098,
          24.99273681640625,
          -26.72987937927246,
          -14.73813247680664,
          -3.8419368267059326,
          18.29744529724121,
          10.194457054138184,
          -32.59906005859375,
          19.91571617126465,
          20.57230567932129,
          2.6132874488830566,
          23.159870147705078,
          -25.886028289794922,
          13.051352500915527,
          -29.99862289428711,
          20.356857299804688,
          13.161443710327148,
          7.4964165687561035,
          19.544395446777344,
          17.926513671875
         ],
         "yaxis": "y"
        },
        {
         "customdata": [
          [
           "41082",
           "UTS"
          ],
          [
           "91400",
           "UTS"
          ],
          [
           "48610",
           "UTS"
          ],
          [
           "41125",
           "UTS"
          ],
          [
           "93200",
           "UTS"
          ],
          [
           "60101",
           "UTS"
          ],
          [
           "41099",
           "UTS"
          ],
          [
           "31266",
           "UTS"
          ],
          [
           "48430",
           "UTS"
          ],
          [
           "41084",
           "UTS"
          ],
          [
           "48230",
           "UTS"
          ],
          [
           "91562",
           "UTS"
          ],
          [
           "93226",
           "UTS"
          ],
          [
           "93205",
           "UTS"
          ],
          [
           "41053",
           "UTS"
          ],
          [
           "91561",
           "UTS"
          ],
          [
           "48321",
           "UTS"
          ],
          [
           "48320",
           "UTS"
          ],
          [
           "41117",
           "UTS"
          ],
          [
           "37181",
           "UTS"
          ],
          [
           "48510",
           "UTS"
          ],
          [
           "41160",
           "UTS"
          ],
          [
           "48521",
           "UTS"
          ],
          [
           "31269",
           "UTS"
          ],
          [
           "65212",
           "UTS"
          ],
          [
           "93203",
           "UTS"
          ],
          [
           "33130",
           "UTS"
          ],
          [
           "31265",
           "UTS"
          ],
          [
           "48310",
           "UTS"
          ],
          [
           "93222",
           "UTS"
          ],
          [
           "41054",
           "UTS"
          ],
          [
           "48520",
           "UTS"
          ],
          [
           "48023",
           "UTS"
          ]
         ],
         "hovertemplate": "year=1<br>uni=%{customdata[1]}<br>x=%{x}<br>y=%{y}<br>subject_code=%{customdata[0]}<extra></extra>",
         "legendgroup": "1, UTS",
         "marker": {
          "color": "#ab63fa",
          "symbol": "circle"
         },
         "mode": "markers",
         "name": "1, UTS",
         "orientation": "v",
         "showlegend": true,
         "type": "scatter",
         "x": [
          -11.331449508666992,
          18.597143173217773,
          -10.80312442779541,
          -14.05543327331543,
          50.949066162109375,
          -13.472888946533203,
          -9.361056327819824,
          -17.986650466918945,
          -16.07159996032715,
          -10.65875244140625,
          -20.764787673950195,
          42.566036224365234,
          53.1033821105957,
          51.39656066894531,
          -12.304350852966309,
          42.741722106933594,
          -23.96452522277832,
          -28.2774715423584,
          -16.569087982177734,
          18.588306427001953,
          -6.4916839599609375,
          15.096964836120605,
          -6.259658336639404,
          -19.76647186279297,
          17.519886016845703,
          48.96284484863281,
          19.16577911376953,
          -20.565187454223633,
          -22.16950798034668,
          52.73398208618164,
          -11.083793640136719,
          -6.332984447479248,
          -16.105207443237305
         ],
         "xaxis": "x",
         "y": [
          -9.34656810760498,
          9.855260848999023,
          6.780492305755615,
          -0.3868865370750427,
          13.234588623046875,
          8.849594116210938,
          5.868344306945801,
          -15.499692916870117,
          -22.184852600097656,
          -4.869515419006348,
          -3.4244625568389893,
          11.60595703125,
          6.167365074157715,
          7.178387641906738,
          8.374218940734863,
          11.534795761108398,
          9.777688980102539,
          3.783214569091797,
          8.760534286499023,
          -6.295443534851074,
          -2.768765687942505,
          12.075919151306152,
          -2.564666509628296,
          -17.043025970458984,
          0.8453714847564697,
          11.720807075500488,
          -4.308895111083984,
          -4.6884918212890625,
          4.345429420471191,
          13.940670013427734,
          7.741824626922607,
          -1.55771005153656,
          -20.904098510742188
         ],
         "yaxis": "y"
        },
        {
         "customdata": [
          [
           "CIVL1110",
           "USYD"
          ],
          [
           "NURS1008",
           "USYD"
          ],
          [
           "PHYS1003",
           "USYD"
          ],
          [
           "ENGP1002",
           "USYD"
          ],
          [
           "CHEM1991",
           "USYD"
          ],
          [
           "NURS1004",
           "USYD"
          ],
          [
           "CIVL1022",
           "USYD"
          ],
          [
           "MATH1964",
           "USYD"
          ],
          [
           "INFO1911",
           "USYD"
          ],
          [
           "INFO1910",
           "USYD"
          ],
          [
           "MTRX1705",
           "USYD"
          ],
          [
           "DATA1901",
           "USYD"
          ],
          [
           "DATA1002",
           "USYD"
          ],
          [
           "NURS1005",
           "USYD"
          ],
          [
           "MECH1400",
           "USYD"
          ],
          [
           "ENGP1003",
           "USYD"
          ],
          [
           "ELEC1601",
           "USYD"
          ],
          [
           "CIVL1900",
           "USYD"
          ],
          [
           "NURS1002",
           "USYD"
          ],
          [
           "MTRX1702",
           "USYD"
          ],
          [
           "INFO1110",
           "USYD"
          ],
          [
           "MATH1061",
           "USYD"
          ],
          [
           "AMME1802",
           "USYD"
          ],
          [
           "BMET1960",
           "USYD"
          ],
          [
           "CIVL1802",
           "USYD"
          ],
          [
           "BMET1961",
           "USYD"
          ],
          [
           "INFO1111",
           "USYD"
          ],
          [
           "CHNG1108",
           "USYD"
          ],
          [
           "NURS1003",
           "USYD"
          ],
          [
           "ENGG1810",
           "USYD"
          ],
          [
           "AERO1560",
           "USYD"
          ],
          [
           "INFO1112",
           "USYD"
          ],
          [
           "AMME1705",
           "USYD"
          ],
          [
           "MECH1560",
           "USYD"
          ],
          [
           "BUSS1030",
           "USYD"
          ],
          [
           "AMME1362",
           "USYD"
          ],
          [
           "NURS1001",
           "USYD"
          ],
          [
           "MTRX1701",
           "USYD"
          ],
          [
           "INFO1113",
           "USYD"
          ],
          [
           "MATH1062",
           "USYD"
          ],
          [
           "MATH1961",
           "USYD"
          ],
          [
           "CHEM1111",
           "USYD"
          ],
          [
           "MKTG1001",
           "USYD"
          ],
          [
           "ELEC1004",
           "USYD"
          ],
          [
           "CHEM1911",
           "USYD"
          ],
          [
           "NURS1006",
           "USYD"
          ],
          [
           "DATA1001",
           "USYD"
          ],
          [
           "DATA1902",
           "USYD"
          ],
          [
           "PHYS1001",
           "USYD"
          ],
          [
           "ENGP1001",
           "USYD"
          ],
          [
           "NURS1007",
           "USYD"
          ],
          [
           "MATH1064",
           "USYD"
          ],
          [
           "INFO1912",
           "USYD"
          ],
          [
           "ELEC1005",
           "USYD"
          ],
          [
           "CIVL1810",
           "USYD"
          ]
         ],
         "hovertemplate": "year=1<br>uni=%{customdata[1]}<br>x=%{x}<br>y=%{y}<br>subject_code=%{customdata[0]}<extra></extra>",
         "legendgroup": "1, USYD",
         "marker": {
          "color": "#ab63fa",
          "symbol": "diamond"
         },
         "mode": "markers",
         "name": "1, USYD",
         "orientation": "v",
         "showlegend": true,
         "type": "scatter",
         "x": [
          -32.81315612792969,
          45.5806999206543,
          11.67663860321045,
          -19.581283569335938,
          15.181696891784668,
          46.2029914855957,
          -34.0483283996582,
          19.58147430419922,
          6.6393537521362305,
          10.954997062683105,
          -3.860186815261841,
          21.520116806030273,
          18.621749877929688,
          40.9512825012207,
          -3.180835723876953,
          -18.761642456054688,
          5.343779563903809,
          -34.48097229003906,
          46.66324234008789,
          -2.718825340270996,
          10.893229484558105,
          21.850772857666016,
          -5.987250804901123,
          16.876216888427734,
          -31.810346603393555,
          16.782062530517578,
          5.13156795501709,
          -16.812726974487305,
          50.01698684692383,
          11.56600284576416,
          -1.0122579336166382,
          5.709602355957031,
          -4.401362419128418,
          -1.5276415348052979,
          -29.625513076782227,
          -0.6964947581291199,
          40.90546798706055,
          -2.6049857139587402,
          10.88144302368164,
          22.078155517578125,
          21.88080406188965,
          15.045483589172363,
          -28.658777236938477,
          4.284480571746826,
          15.09702205657959,
          48.8759880065918,
          21.583358764648438,
          18.629703521728516,
          11.78125,
          -19.44032096862793,
          47.7669677734375,
          19.51534080505371,
          7.241240978240967,
          1.6541472673416138,
          -34.40934371948242
         ],
         "xaxis": "x",
         "y": [
          12.746109008789062,
          3.755681276321411,
          0.9341703057289124,
          20.665983200073242,
          2.996934652328491,
          4.587876796722412,
          9.440564155578613,
          -12.179080963134766,
          -26.2379207611084,
          -31.53189468383789,
          14.4393949508667,
          -17.063697814941406,
          -19.707035064697266,
          9.50323486328125,
          17.860496520996094,
          21.28125762939453,
          -10.369155883789062,
          13.746468544006348,
          5.325192928314209,
          13.981369018554688,
          -31.589153289794922,
          -11.411320686340332,
          21.189096450805664,
          19.19469451904297,
          13.67013931274414,
          19.872968673706055,
          -28.36638641357422,
          13.80388069152832,
          4.838311195373535,
          -30.995098114013672,
          16.468460083007812,
          -23.22247886657715,
          14.844711303710938,
          17.35149574279785,
          -9.355953216552734,
          22.75128936767578,
          9.45054817199707,
          15.12015151977539,
          -33.009124755859375,
          -12.557915687561035,
          -11.216462135314941,
          2.5776894092559814,
          -9.818094253540039,
          -4.125935077667236,
          2.5619523525238037,
          4.246963977813721,
          -16.95218276977539,
          -19.679174423217773,
          1.0074204206466675,
          21.589214324951172,
          4.60324764251709,
          -12.108257293701172,
          -25.651105880737305,
          -13.537247657775879,
          12.283185958862305
         ],
         "yaxis": "y"
        },
        {
         "customdata": [
          [
           "35005",
           "UTS"
          ],
          [
           "42050",
           "UTS"
          ],
          [
           "57304",
           "UTS"
          ],
          [
           "35007",
           "UTS"
          ],
          [
           "37373",
           "UTS"
          ],
          [
           "35006",
           "UTS"
          ]
         ],
         "hovertemplate": "year=None<br>uni=%{customdata[1]}<br>x=%{x}<br>y=%{y}<br>subject_code=%{customdata[0]}<extra></extra>",
         "legendgroup": "None, UTS",
         "marker": {
          "color": "#FFA15A",
          "symbol": "circle"
         },
         "mode": "markers",
         "name": "None, UTS",
         "orientation": "v",
         "showlegend": true,
         "type": "scatter",
         "x": [
          20.45197296142578,
          18.214008331298828,
          -5.521657943725586,
          21.199966430664062,
          18.063602447509766,
          18.12620735168457
         ],
         "xaxis": "x",
         "y": [
          -7.756795406341553,
          -16.574302673339844,
          -11.427175521850586,
          -7.912741661071777,
          -8.832657814025879,
          -8.494805335998535
         ],
         "yaxis": "y"
        },
        {
         "customdata": [
          [
           "93217",
           "UTS"
          ],
          [
           "93216",
           "UTS"
          ],
          [
           "93219",
           "UTS"
          ],
          [
           "93214",
           "UTS"
          ]
         ],
         "hovertemplate": "year=6<br>uni=%{customdata[1]}<br>x=%{x}<br>y=%{y}<br>subject_code=%{customdata[0]}<extra></extra>",
         "legendgroup": "6, UTS",
         "marker": {
          "color": "#19d3f3",
          "symbol": "circle"
         },
         "mode": "markers",
         "name": "6, UTS",
         "orientation": "v",
         "showlegend": true,
         "type": "scatter",
         "x": [
          49.57196044921875,
          52.0013313293457,
          53.82843780517578,
          50.83708953857422
         ],
         "xaxis": "x",
         "y": [
          15.133357048034668,
          16.455520629882812,
          16.404212951660156,
          15.406949043273926
         ],
         "yaxis": "y"
        },
        {
         "customdata": [
          [
           "93220",
           "UTS"
          ],
          [
           "93218",
           "UTS"
          ]
         ],
         "hovertemplate": "year=5<br>uni=%{customdata[1]}<br>x=%{x}<br>y=%{y}<br>subject_code=%{customdata[0]}<extra></extra>",
         "legendgroup": "5, UTS",
         "marker": {
          "color": "#FF6692",
          "symbol": "circle"
         },
         "mode": "markers",
         "name": "5, UTS",
         "orientation": "v",
         "showlegend": true,
         "type": "scatter",
         "x": [
          51.225704193115234,
          49.54993438720703
         ],
         "xaxis": "x",
         "y": [
          11.33923053741455,
          10.053075790405273
         ],
         "yaxis": "y"
        },
        {
         "customdata": [
          [
           "ELEC5507",
           "USYD"
          ],
          [
           "AMME5060",
           "USYD"
          ],
          [
           "BMET5790",
           "USYD"
          ],
          [
           "BMET5944",
           "USYD"
          ],
          [
           "ELEC5511",
           "USYD"
          ],
          [
           "ELEC5213",
           "USYD"
          ],
          [
           "CIVL5702",
           "USYD"
          ],
          [
           "ELEC5205",
           "USYD"
          ],
          [
           "ELEC5622",
           "USYD"
          ],
          [
           "CIVL5276",
           "USYD"
          ],
          [
           "BMET5933",
           "USYD"
          ],
          [
           "BMET5964",
           "USYD"
          ],
          [
           "ELEC5618",
           "USYD"
          ],
          [
           "AMME5902",
           "USYD"
          ],
          [
           "CIVL5535",
           "USYD"
          ],
          [
           "AMME5105",
           "USYD"
          ],
          [
           "AMME5104",
           "USYD"
          ],
          [
           "ELEC5208",
           "USYD"
          ],
          [
           "ISYS5070",
           "USYD"
          ],
          [
           "ELEC5619",
           "USYD"
          ],
          [
           "CIVL5670",
           "USYD"
          ],
          [
           "CIVL5277",
           "USYD"
          ],
          [
           "ELEC5204",
           "USYD"
          ],
          [
           "CIVL5703",
           "USYD"
          ],
          [
           "ELEC5212",
           "USYD"
          ],
          [
           "ELEC5510",
           "USYD"
          ],
          [
           "MECH5265",
           "USYD"
          ],
          [
           "ELEC5101",
           "USYD"
          ],
          [
           "BMET5953",
           "USYD"
          ],
          [
           "BMET5958",
           "USYD"
          ],
          [
           "CIVL5266",
           "USYD"
          ],
          [
           "CIVL5460",
           "USYD"
          ],
          [
           "BMET5962",
           "USYD"
          ],
          [
           "AMME5292",
           "USYD"
          ],
          [
           "MTRX5700",
           "USYD"
          ],
          [
           "AMME5912",
           "USYD"
          ],
          [
           "MECH5311",
           "USYD"
          ],
          [
           "CIVL5533",
           "USYD"
          ],
          [
           "MECH5720",
           "USYD"
          ],
          [
           "ELEC5517",
           "USYD"
          ],
          [
           "ELEC5307",
           "USYD"
          ],
          [
           "CIVL5704",
           "USYD"
          ],
          [
           "AMME5271",
           "USYD"
          ],
          [
           "ELEC5203",
           "USYD"
          ],
          [
           "BMET5996",
           "USYD"
          ],
          [
           "ELEC5306",
           "USYD"
          ],
          [
           "ELEC5701",
           "USYD"
          ],
          [
           "ELEC5516",
           "USYD"
          ],
          [
           "MECH5275",
           "USYD"
          ],
          [
           "MECH5310",
           "USYD"
          ],
          [
           "MECH5255",
           "USYD"
          ],
          [
           "BMET5963",
           "USYD"
          ],
          [
           "BMET5934",
           "USYD"
          ],
          [
           "BMET5959",
           "USYD"
          ],
          [
           "ELEC5760",
           "USYD"
          ],
          [
           "AMME5101",
           "USYD"
          ],
          [
           "CIVL5531",
           "USYD"
          ],
          [
           "AMME5510",
           "USYD"
          ],
          [
           "MECH5305",
           "USYD"
          ],
          [
           "CIVL5458",
           "USYD"
          ],
          [
           "BMET5995",
           "USYD"
          ],
          [
           "ELEC5305",
           "USYD"
          ],
          [
           "BMET5957",
           "USYD"
          ],
          [
           "CIVL5269",
           "USYD"
          ],
          [
           "ELEC5514",
           "USYD"
          ],
          [
           "ELEC5304",
           "USYD"
          ],
          [
           "CIVL5320",
           "USYD"
          ],
          [
           "ELEC5518",
           "USYD"
          ],
          [
           "MECH5304",
           "USYD"
          ],
          [
           "ELEC5308",
           "USYD"
          ],
          [
           "ELEC5207",
           "USYD"
          ],
          [
           "ELEC5616",
           "USYD"
          ],
          [
           "ELEC5211",
           "USYD"
          ],
          [
           "AERO5750",
           "USYD"
          ],
          [
           "BMET5911",
           "USYD"
          ],
          [
           "CIVL5452",
           "USYD"
          ],
          [
           "BMET5907",
           "USYD"
          ],
          [
           "AMME5520",
           "USYD"
          ],
          [
           "CIVL5999",
           "USYD"
          ],
          [
           "BMET5931",
           "USYD"
          ],
          [
           "AMME5202",
           "USYD"
          ],
          [
           "ELEC5620",
           "USYD"
          ],
          [
           "AMME5310",
           "USYD"
          ],
          [
           "ELEC5509",
           "USYD"
          ],
          [
           "ELEC5508",
           "USYD"
          ],
          [
           "CIVL5330",
           "USYD"
          ],
          [
           "CIVL5668",
           "USYD"
          ],
          [
           "CIVL5453",
           "USYD"
          ],
          [
           "ELEC5512",
           "USYD"
          ],
          [
           "CIVL5351",
           "USYD"
          ],
          [
           "CIVL5701",
           "USYD"
          ],
          [
           "BMET5992",
           "USYD"
          ],
          [
           "ELEC5206",
           "USYD"
          ],
          [
           "MECH5461",
           "USYD"
          ]
         ],
         "hovertemplate": "year=5<br>uni=%{customdata[1]}<br>x=%{x}<br>y=%{y}<br>subject_code=%{customdata[0]}<extra></extra>",
         "legendgroup": "5, USYD",
         "marker": {
          "color": "#FF6692",
          "symbol": "diamond"
         },
         "mode": "markers",
         "name": "5, USYD",
         "orientation": "v",
         "showlegend": true,
         "type": "scatter",
         "x": [
          8.576223373413086,
          -4.797914028167725,
          18.21445083618164,
          13.996973991394043,
          8.985976219177246,
          -0.07938835769891739,
          -37.69400405883789,
          2.182298183441162,
          10.941093444824219,
          -33.537391662597656,
          20.759653091430664,
          15.790520668029785,
          1.425946593284607,
          -0.13996094465255737,
          -31.840038299560547,
          -8.401480674743652,
          -8.2263765335083,
          1.090408205986023,
          0.6879501938819885,
          2.4285666942596436,
          -34.712242126464844,
          -26.750288009643555,
          1.149369239807129,
          -36.68125915527344,
          -0.6683549880981445,
          7.333771228790283,
          -6.864961624145508,
          6.430560111999512,
          16.61454200744629,
          18.34992027282715,
          -28.343355178833008,
          -32.57942199707031,
          15.494485855102539,
          -5.864003658294678,
          -1.837073564529419,
          -3.9452016353607178,
          1.2975890636444092,
          -32.63916778564453,
          -0.5535353422164917,
          0.3177200257778168,
          9.581561088562012,
          -37.44627380371094,
          -0.97501140832901,
          -0.13219517469406128,
          -42.510101318359375,
          9.017030715942383,
          -42.510101318359375,
          3.0795655250549316,
          -8.747135162353516,
          -0.16813445091247559,
          -8.679155349731445,
          17.14748764038086,
          20.881744384765625,
          18.828598022460938,
          -42.510101318359375,
          -8.94125747680664,
          -32.31937026977539,
          -4.816828727722168,
          0.18099047243595123,
          -29.651968002319336,
          18.899497985839844,
          10.086004257202148,
          19.512001037597656,
          -30.0299072265625,
          3.5438108444213867,
          9.650792121887207,
          -38.84150314331055,
          3.2208662033081055,
          0.21053315699100494,
          8.295262336730957,
          0.7102412581443787,
          4.305500030517578,
          0.1965751200914383,
          -0.08757330477237701,
          18.773712158203125,
          -32.584861755371094,
          13.43520736694336,
          -8.081320762634277,
          -35.85465621948242,
          17.749277114868164,
          -5.268472194671631,
          2.0111989974975586,
          -2.321573495864868,
          5.650221347808838,
          5.799903392791748,
          -39.42350769042969,
          -34.17100143432617,
          -33.531898498535156,
          9.353058815002441,
          -34.2325325012207,
          -37.26029968261719,
          14.951335906982422,
          0.2074962705373764,
          -0.4244396388530731
         ],
         "xaxis": "x",
         "y": [
          -6.718352794647217,
          23.85620880126953,
          16.295337677001953,
          21.280019760131836,
          -4.262129306793213,
          -6.90529203414917,
          17.704246520996094,
          -3.636932373046875,
          -10.330218315124512,
          13.929718017578125,
          20.536685943603516,
          22.677141189575195,
          -13.342949867248535,
          19.875808715820312,
          16.410289764404297,
          17.692066192626953,
          17.663660049438477,
          -5.199289321899414,
          -27.193601608276367,
          -15.928291320800781,
          18.682655334472656,
          11.034403800964355,
          -3.800999879837036,
          16.53989028930664,
          -4.756546974182129,
          -5.3884663581848145,
          27.060802459716797,
          -4.075573921203613,
          16.820283889770508,
          22.612567901611328,
          14.344974517822266,
          8.747283935546875,
          22.261198043823242,
          25.729684829711914,
          12.249898910522461,
          20.766456604003906,
          22.831653594970703,
          16.42671775817871,
          10.551758766174316,
          -9.990084648132324,
          -10.679149627685547,
          15.657125473022461,
          24.8828182220459,
          -6.7452263832092285,
          -2.59708309173584,
          -10.143755912780762,
          -2.59708309173584,
          -6.557467460632324,
          27.299869537353516,
          22.446449279785156,
          24.250436782836914,
          21.51074981689453,
          19.396257400512695,
          21.198732376098633,
          -2.59708309173584,
          26.69070816040039,
          15.709053993225098,
          22.30175018310547,
          22.921430587768555,
          10.633633613586426,
          16.170320510864258,
          -8.629884719848633,
          16.628110885620117,
          13.10643482208252,
          -7.778845310211182,
          -11.360370635986328,
          12.382805824279785,
          -8.04586124420166,
          22.07670783996582,
          -11.13525390625,
          -0.9514879584312439,
          -12.138265609741211,
          -3.8894879817962646,
          15.473831176757812,
          22.991748809814453,
          10.599042892456055,
          19.38046646118164,
          20.574825286865234,
          14.29194450378418,
          22.865633010864258,
          25.43782615661621,
          -13.960502624511719,
          23.70684051513672,
          -6.845985412597656,
          -6.434762001037598,
          12.527209281921387,
          17.737728118896484,
          9.200414657592773,
          -4.4249701499938965,
          7.548067092895508,
          16.6000919342041,
          17.471782684326172,
          -1.6041003465652466,
          18.7325382232666
         ],
         "yaxis": "y"
        }
       ],
       "layout": {
        "legend": {
         "title": {
          "text": "year, uni"
         },
         "tracegroupgap": 0
        },
        "margin": {
         "t": 60
        },
        "template": {
         "data": {
          "bar": [
           {
            "error_x": {
             "color": "#2a3f5f"
            },
            "error_y": {
             "color": "#2a3f5f"
            },
            "marker": {
             "line": {
              "color": "#E5ECF6",
              "width": 0.5
             },
             "pattern": {
              "fillmode": "overlay",
              "size": 10,
              "solidity": 0.2
             }
            },
            "type": "bar"
           }
          ],
          "barpolar": [
           {
            "marker": {
             "line": {
              "color": "#E5ECF6",
              "width": 0.5
             },
             "pattern": {
              "fillmode": "overlay",
              "size": 10,
              "solidity": 0.2
             }
            },
            "type": "barpolar"
           }
          ],
          "carpet": [
           {
            "aaxis": {
             "endlinecolor": "#2a3f5f",
             "gridcolor": "white",
             "linecolor": "white",
             "minorgridcolor": "white",
             "startlinecolor": "#2a3f5f"
            },
            "baxis": {
             "endlinecolor": "#2a3f5f",
             "gridcolor": "white",
             "linecolor": "white",
             "minorgridcolor": "white",
             "startlinecolor": "#2a3f5f"
            },
            "type": "carpet"
           }
          ],
          "choropleth": [
           {
            "colorbar": {
             "outlinewidth": 0,
             "ticks": ""
            },
            "type": "choropleth"
           }
          ],
          "contour": [
           {
            "colorbar": {
             "outlinewidth": 0,
             "ticks": ""
            },
            "colorscale": [
             [
              0,
              "#0d0887"
             ],
             [
              0.1111111111111111,
              "#46039f"
             ],
             [
              0.2222222222222222,
              "#7201a8"
             ],
             [
              0.3333333333333333,
              "#9c179e"
             ],
             [
              0.4444444444444444,
              "#bd3786"
             ],
             [
              0.5555555555555556,
              "#d8576b"
             ],
             [
              0.6666666666666666,
              "#ed7953"
             ],
             [
              0.7777777777777778,
              "#fb9f3a"
             ],
             [
              0.8888888888888888,
              "#fdca26"
             ],
             [
              1,
              "#f0f921"
             ]
            ],
            "type": "contour"
           }
          ],
          "contourcarpet": [
           {
            "colorbar": {
             "outlinewidth": 0,
             "ticks": ""
            },
            "type": "contourcarpet"
           }
          ],
          "heatmap": [
           {
            "colorbar": {
             "outlinewidth": 0,
             "ticks": ""
            },
            "colorscale": [
             [
              0,
              "#0d0887"
             ],
             [
              0.1111111111111111,
              "#46039f"
             ],
             [
              0.2222222222222222,
              "#7201a8"
             ],
             [
              0.3333333333333333,
              "#9c179e"
             ],
             [
              0.4444444444444444,
              "#bd3786"
             ],
             [
              0.5555555555555556,
              "#d8576b"
             ],
             [
              0.6666666666666666,
              "#ed7953"
             ],
             [
              0.7777777777777778,
              "#fb9f3a"
             ],
             [
              0.8888888888888888,
              "#fdca26"
             ],
             [
              1,
              "#f0f921"
             ]
            ],
            "type": "heatmap"
           }
          ],
          "heatmapgl": [
           {
            "colorbar": {
             "outlinewidth": 0,
             "ticks": ""
            },
            "colorscale": [
             [
              0,
              "#0d0887"
             ],
             [
              0.1111111111111111,
              "#46039f"
             ],
             [
              0.2222222222222222,
              "#7201a8"
             ],
             [
              0.3333333333333333,
              "#9c179e"
             ],
             [
              0.4444444444444444,
              "#bd3786"
             ],
             [
              0.5555555555555556,
              "#d8576b"
             ],
             [
              0.6666666666666666,
              "#ed7953"
             ],
             [
              0.7777777777777778,
              "#fb9f3a"
             ],
             [
              0.8888888888888888,
              "#fdca26"
             ],
             [
              1,
              "#f0f921"
             ]
            ],
            "type": "heatmapgl"
           }
          ],
          "histogram": [
           {
            "marker": {
             "pattern": {
              "fillmode": "overlay",
              "size": 10,
              "solidity": 0.2
             }
            },
            "type": "histogram"
           }
          ],
          "histogram2d": [
           {
            "colorbar": {
             "outlinewidth": 0,
             "ticks": ""
            },
            "colorscale": [
             [
              0,
              "#0d0887"
             ],
             [
              0.1111111111111111,
              "#46039f"
             ],
             [
              0.2222222222222222,
              "#7201a8"
             ],
             [
              0.3333333333333333,
              "#9c179e"
             ],
             [
              0.4444444444444444,
              "#bd3786"
             ],
             [
              0.5555555555555556,
              "#d8576b"
             ],
             [
              0.6666666666666666,
              "#ed7953"
             ],
             [
              0.7777777777777778,
              "#fb9f3a"
             ],
             [
              0.8888888888888888,
              "#fdca26"
             ],
             [
              1,
              "#f0f921"
             ]
            ],
            "type": "histogram2d"
           }
          ],
          "histogram2dcontour": [
           {
            "colorbar": {
             "outlinewidth": 0,
             "ticks": ""
            },
            "colorscale": [
             [
              0,
              "#0d0887"
             ],
             [
              0.1111111111111111,
              "#46039f"
             ],
             [
              0.2222222222222222,
              "#7201a8"
             ],
             [
              0.3333333333333333,
              "#9c179e"
             ],
             [
              0.4444444444444444,
              "#bd3786"
             ],
             [
              0.5555555555555556,
              "#d8576b"
             ],
             [
              0.6666666666666666,
              "#ed7953"
             ],
             [
              0.7777777777777778,
              "#fb9f3a"
             ],
             [
              0.8888888888888888,
              "#fdca26"
             ],
             [
              1,
              "#f0f921"
             ]
            ],
            "type": "histogram2dcontour"
           }
          ],
          "mesh3d": [
           {
            "colorbar": {
             "outlinewidth": 0,
             "ticks": ""
            },
            "type": "mesh3d"
           }
          ],
          "parcoords": [
           {
            "line": {
             "colorbar": {
              "outlinewidth": 0,
              "ticks": ""
             }
            },
            "type": "parcoords"
           }
          ],
          "pie": [
           {
            "automargin": true,
            "type": "pie"
           }
          ],
          "scatter": [
           {
            "fillpattern": {
             "fillmode": "overlay",
             "size": 10,
             "solidity": 0.2
            },
            "type": "scatter"
           }
          ],
          "scatter3d": [
           {
            "line": {
             "colorbar": {
              "outlinewidth": 0,
              "ticks": ""
             }
            },
            "marker": {
             "colorbar": {
              "outlinewidth": 0,
              "ticks": ""
             }
            },
            "type": "scatter3d"
           }
          ],
          "scattercarpet": [
           {
            "marker": {
             "colorbar": {
              "outlinewidth": 0,
              "ticks": ""
             }
            },
            "type": "scattercarpet"
           }
          ],
          "scattergeo": [
           {
            "marker": {
             "colorbar": {
              "outlinewidth": 0,
              "ticks": ""
             }
            },
            "type": "scattergeo"
           }
          ],
          "scattergl": [
           {
            "marker": {
             "colorbar": {
              "outlinewidth": 0,
              "ticks": ""
             }
            },
            "type": "scattergl"
           }
          ],
          "scattermapbox": [
           {
            "marker": {
             "colorbar": {
              "outlinewidth": 0,
              "ticks": ""
             }
            },
            "type": "scattermapbox"
           }
          ],
          "scatterpolar": [
           {
            "marker": {
             "colorbar": {
              "outlinewidth": 0,
              "ticks": ""
             }
            },
            "type": "scatterpolar"
           }
          ],
          "scatterpolargl": [
           {
            "marker": {
             "colorbar": {
              "outlinewidth": 0,
              "ticks": ""
             }
            },
            "type": "scatterpolargl"
           }
          ],
          "scatterternary": [
           {
            "marker": {
             "colorbar": {
              "outlinewidth": 0,
              "ticks": ""
             }
            },
            "type": "scatterternary"
           }
          ],
          "surface": [
           {
            "colorbar": {
             "outlinewidth": 0,
             "ticks": ""
            },
            "colorscale": [
             [
              0,
              "#0d0887"
             ],
             [
              0.1111111111111111,
              "#46039f"
             ],
             [
              0.2222222222222222,
              "#7201a8"
             ],
             [
              0.3333333333333333,
              "#9c179e"
             ],
             [
              0.4444444444444444,
              "#bd3786"
             ],
             [
              0.5555555555555556,
              "#d8576b"
             ],
             [
              0.6666666666666666,
              "#ed7953"
             ],
             [
              0.7777777777777778,
              "#fb9f3a"
             ],
             [
              0.8888888888888888,
              "#fdca26"
             ],
             [
              1,
              "#f0f921"
             ]
            ],
            "type": "surface"
           }
          ],
          "table": [
           {
            "cells": {
             "fill": {
              "color": "#EBF0F8"
             },
             "line": {
              "color": "white"
             }
            },
            "header": {
             "fill": {
              "color": "#C8D4E3"
             },
             "line": {
              "color": "white"
             }
            },
            "type": "table"
           }
          ]
         },
         "layout": {
          "annotationdefaults": {
           "arrowcolor": "#2a3f5f",
           "arrowhead": 0,
           "arrowwidth": 1
          },
          "autotypenumbers": "strict",
          "coloraxis": {
           "colorbar": {
            "outlinewidth": 0,
            "ticks": ""
           }
          },
          "colorscale": {
           "diverging": [
            [
             0,
             "#8e0152"
            ],
            [
             0.1,
             "#c51b7d"
            ],
            [
             0.2,
             "#de77ae"
            ],
            [
             0.3,
             "#f1b6da"
            ],
            [
             0.4,
             "#fde0ef"
            ],
            [
             0.5,
             "#f7f7f7"
            ],
            [
             0.6,
             "#e6f5d0"
            ],
            [
             0.7,
             "#b8e186"
            ],
            [
             0.8,
             "#7fbc41"
            ],
            [
             0.9,
             "#4d9221"
            ],
            [
             1,
             "#276419"
            ]
           ],
           "sequential": [
            [
             0,
             "#0d0887"
            ],
            [
             0.1111111111111111,
             "#46039f"
            ],
            [
             0.2222222222222222,
             "#7201a8"
            ],
            [
             0.3333333333333333,
             "#9c179e"
            ],
            [
             0.4444444444444444,
             "#bd3786"
            ],
            [
             0.5555555555555556,
             "#d8576b"
            ],
            [
             0.6666666666666666,
             "#ed7953"
            ],
            [
             0.7777777777777778,
             "#fb9f3a"
            ],
            [
             0.8888888888888888,
             "#fdca26"
            ],
            [
             1,
             "#f0f921"
            ]
           ],
           "sequentialminus": [
            [
             0,
             "#0d0887"
            ],
            [
             0.1111111111111111,
             "#46039f"
            ],
            [
             0.2222222222222222,
             "#7201a8"
            ],
            [
             0.3333333333333333,
             "#9c179e"
            ],
            [
             0.4444444444444444,
             "#bd3786"
            ],
            [
             0.5555555555555556,
             "#d8576b"
            ],
            [
             0.6666666666666666,
             "#ed7953"
            ],
            [
             0.7777777777777778,
             "#fb9f3a"
            ],
            [
             0.8888888888888888,
             "#fdca26"
            ],
            [
             1,
             "#f0f921"
            ]
           ]
          },
          "colorway": [
           "#636efa",
           "#EF553B",
           "#00cc96",
           "#ab63fa",
           "#FFA15A",
           "#19d3f3",
           "#FF6692",
           "#B6E880",
           "#FF97FF",
           "#FECB52"
          ],
          "font": {
           "color": "#2a3f5f"
          },
          "geo": {
           "bgcolor": "white",
           "lakecolor": "white",
           "landcolor": "#E5ECF6",
           "showlakes": true,
           "showland": true,
           "subunitcolor": "white"
          },
          "hoverlabel": {
           "align": "left"
          },
          "hovermode": "closest",
          "mapbox": {
           "style": "light"
          },
          "paper_bgcolor": "white",
          "plot_bgcolor": "#E5ECF6",
          "polar": {
           "angularaxis": {
            "gridcolor": "white",
            "linecolor": "white",
            "ticks": ""
           },
           "bgcolor": "#E5ECF6",
           "radialaxis": {
            "gridcolor": "white",
            "linecolor": "white",
            "ticks": ""
           }
          },
          "scene": {
           "xaxis": {
            "backgroundcolor": "#E5ECF6",
            "gridcolor": "white",
            "gridwidth": 2,
            "linecolor": "white",
            "showbackground": true,
            "ticks": "",
            "zerolinecolor": "white"
           },
           "yaxis": {
            "backgroundcolor": "#E5ECF6",
            "gridcolor": "white",
            "gridwidth": 2,
            "linecolor": "white",
            "showbackground": true,
            "ticks": "",
            "zerolinecolor": "white"
           },
           "zaxis": {
            "backgroundcolor": "#E5ECF6",
            "gridcolor": "white",
            "gridwidth": 2,
            "linecolor": "white",
            "showbackground": true,
            "ticks": "",
            "zerolinecolor": "white"
           }
          },
          "shapedefaults": {
           "line": {
            "color": "#2a3f5f"
           }
          },
          "ternary": {
           "aaxis": {
            "gridcolor": "white",
            "linecolor": "white",
            "ticks": ""
           },
           "baxis": {
            "gridcolor": "white",
            "linecolor": "white",
            "ticks": ""
           },
           "bgcolor": "#E5ECF6",
           "caxis": {
            "gridcolor": "white",
            "linecolor": "white",
            "ticks": ""
           }
          },
          "title": {
           "x": 0.05
          },
          "xaxis": {
           "automargin": true,
           "gridcolor": "white",
           "linecolor": "white",
           "ticks": "",
           "title": {
            "standoff": 15
           },
           "zerolinecolor": "white",
           "zerolinewidth": 2
          },
          "yaxis": {
           "automargin": true,
           "gridcolor": "white",
           "linecolor": "white",
           "ticks": "",
           "title": {
            "standoff": 15
           },
           "zerolinecolor": "white",
           "zerolinewidth": 2
          }
         }
        },
        "title": {
         "text": "t-SNE visualization of MXBAI embeddings of UTS and USYD subjects by Year"
        },
        "xaxis": {
         "anchor": "y",
         "domain": [
          0,
          1
         ],
         "title": {
          "text": "First t-SNE"
         }
        },
        "yaxis": {
         "anchor": "x",
         "domain": [
          0,
          1
         ],
         "title": {
          "text": "Second t-SNE"
         }
        }
       }
      }
     },
     "metadata": {},
     "output_type": "display_data"
    }
   ],
   "source": [
    "show_year_plot(\"mxbai\")"
   ]
  },
  {
   "cell_type": "code",
   "execution_count": 175,
   "metadata": {},
   "outputs": [
    {
     "data": {
      "application/vnd.plotly.v1+json": {
       "config": {
        "plotlyServerURL": "https://plot.ly"
       },
       "data": [
        {
         "customdata": [
          [
           "48260",
           "UTS"
          ],
          [
           "31482",
           "UTS"
          ],
          [
           "41903",
           "UTS"
          ],
          [
           "42913",
           "UTS"
          ],
          [
           "49261",
           "UTS"
          ],
          [
           "42724",
           "UTS"
          ],
          [
           "41108",
           "UTS"
          ],
          [
           "31748",
           "UTS"
          ],
          [
           "16138",
           "UTS"
          ],
          [
           "37262",
           "UTS"
          ],
          [
           "41020",
           "UTS"
          ],
          [
           "41077",
           "UTS"
          ],
          [
           "41172",
           "UTS"
          ],
          [
           "41021",
           "UTS"
          ],
          [
           "37234",
           "UTS"
          ],
          [
           "41277",
           "UTS"
          ],
          [
           "41129",
           "UTS"
          ],
          [
           "41386",
           "UTS"
          ],
          [
           "42722",
           "UTS"
          ],
          [
           "43021",
           "UTS"
          ],
          [
           "41118",
           "UTS"
          ],
          [
           "42036",
           "UTS"
          ],
          [
           "31261",
           "UTS"
          ],
          [
           "93211",
           "UTS"
          ],
          [
           "93207",
           "UTS"
          ],
          [
           "41088",
           "UTS"
          ],
          [
           "41067",
           "UTS"
          ],
          [
           "41175",
           "UTS"
          ],
          [
           "41030",
           "UTS"
          ],
          [
           "41905",
           "UTS"
          ],
          [
           "48362",
           "UTS"
          ],
          [
           "48270",
           "UTS"
          ],
          [
           "32011",
           "UTS"
          ],
          [
           "41180",
           "UTS"
          ],
          [
           "31282",
           "UTS"
          ],
          [
           "43017",
           "UTS"
          ],
          [
           "42095",
           "UTS"
          ],
          [
           "48436",
           "UTS"
          ],
          [
           "16471",
           "UTS"
          ],
          [
           "93230",
           "UTS"
          ],
          [
           "42001",
           "UTS"
          ],
          [
           "31256",
           "UTS"
          ],
          [
           "41174",
           "UTS"
          ],
          [
           "41089",
           "UTS"
          ],
          [
           "41066",
           "UTS"
          ],
          [
           "93210",
           "UTS"
          ],
          [
           "42037",
           "UTS"
          ],
          [
           "43124",
           "UTS"
          ],
          [
           "32009",
           "UTS"
          ],
          [
           "48881",
           "UTS"
          ],
          [
           "43019",
           "UTS"
          ],
          [
           "31263",
           "UTS"
          ],
          [
           "43023",
           "UTS"
          ],
          [
           "93229",
           "UTS"
          ],
          [
           "41069",
           "UTS"
          ],
          [
           "43015",
           "UTS"
          ],
          [
           "31097",
           "UTS"
          ],
          [
           "31243",
           "UTS"
          ],
          [
           "48360",
           "UTS"
          ],
          [
           "41004",
           "UTS"
          ],
          [
           "31242",
           "UTS"
          ],
          [
           "93232",
           "UTS"
          ],
          [
           "41029",
           "UTS"
          ],
          [
           "48033",
           "UTS"
          ],
          [
           "16263",
           "UTS"
          ],
          [
           "93208",
           "UTS"
          ],
          [
           "93228",
           "UTS"
          ],
          [
           "43022",
           "UTS"
          ],
          [
           "32931",
           "UTS"
          ],
          [
           "43018",
           "UTS"
          ],
          [
           "31777",
           "UTS"
          ],
          [
           "31262",
           "UTS"
          ],
          [
           "42028",
           "UTS"
          ],
          [
           "32146",
           "UTS"
          ],
          [
           "41891",
           "UTS"
          ],
          [
           "41203",
           "UTS"
          ],
          [
           "41184",
           "UTS"
          ],
          [
           "41055",
           "UTS"
          ],
          [
           "48366",
           "UTS"
          ],
          [
           "31245",
           "UTS"
          ],
          [
           "48389",
           "UTS"
          ],
          [
           "41278",
           "UTS"
          ],
          [
           "31253",
           "UTS"
          ],
          [
           "48370",
           "UTS"
          ],
          [
           "41043",
           "UTS"
          ],
          [
           "41034",
           "UTS"
          ],
          [
           "41171",
           "UTS"
          ],
          [
           "43024",
           "UTS"
          ],
          [
           "48582",
           "UTS"
          ],
          [
           "31272",
           "UTS"
          ],
          [
           "41384",
           "UTS"
          ],
          [
           "48371",
           "UTS"
          ],
          [
           "16422",
           "UTS"
          ],
          [
           "41185",
           "UTS"
          ],
          [
           "41202",
           "UTS"
          ],
          [
           "41890",
           "UTS"
          ]
         ],
         "hovertemplate": "year=4<br>uni=%{customdata[1]}<br>x=%{x}<br>y=%{y}<br>subject_code=%{customdata[0]}<extra></extra>",
         "legendgroup": "4, UTS",
         "marker": {
          "color": "#636efa",
          "symbol": "circle"
         },
         "mode": "markers",
         "name": "4, UTS",
         "orientation": "v",
         "showlegend": true,
         "type": "scatter",
         "x": [
          -16.593713760375977,
          -12.589287757873535,
          -0.03156023100018501,
          -14.486541748046875,
          -6.9802565574646,
          -9.30610466003418,
          -16.23128890991211,
          -22.80972671508789,
          -23.027942657470703,
          -14.235211372375488,
          -12.37433910369873,
          -8.237788200378418,
          -13.632024765014648,
          -18.342470169067383,
          -15.574400901794434,
          -15.897509574890137,
          -11.227140426635742,
          -16.88031005859375,
          -18.1472225189209,
          -21.019113540649414,
          -19.342823028564453,
          -17.871253967285156,
          -20.23262596130371,
          -3.1796352863311768,
          -3.442795753479004,
          -26.19366455078125,
          -19.671371459960938,
          -12.776266098022461,
          -16.923477172851562,
          -23.068857192993164,
          -10.648884773254395,
          -2.0201375484466553,
          -15.467888832092285,
          -21.09433937072754,
          -12.32141399383545,
          -12.165237426757812,
          -8.906233787536621,
          -24.71445083618164,
          -19.68288230895996,
          -2.464268445968628,
          -11.277256965637207,
          -20.926361083984375,
          -13.256205558776855,
          -26.95445442199707,
          -30.581153869628906,
          -3.836547374725342,
          -19.94980239868164,
          -11.035337448120117,
          -12.946585655212402,
          -23.853118896484375,
          -19.394304275512695,
          -24.518171310424805,
          -4.772141933441162,
          -2.6914682388305664,
          -29.842830657958984,
          -10.992738723754883,
          -22.518573760986328,
          -13.531806945800781,
          -1.3790291547775269,
          -15.344457626342773,
          -18.959400177001953,
          -3.4104392528533936,
          -23.839895248413086,
          -25.127281188964844,
          -25.029817581176758,
          -2.819923162460327,
          -3.9697983264923096,
          -20.545257568359375,
          -14.021824836730957,
          -16.699594497680664,
          -16.468610763549805,
          -15.367807388305664,
          -9.94862174987793,
          -10.875727653503418,
          -2.530029773712158,
          -21.088579177856445,
          -22.217164993286133,
          -10.553582191467285,
          -8.22836971282959,
          -20.759521484375,
          -20.727773666381836,
          -24.852031707763672,
          -13.48777961730957,
          -7.578753471374512,
          -18.206783294677734,
          -26.325170516967773,
          -13.90036392211914,
          -3.708059787750244,
          -26.217458724975586,
          -16.571870803833008,
          -16.838533401489258,
          -10.924028396606445,
          -12.16524887084961,
          -21.33753204345703,
          -18.583171844482422,
          -22.31536865234375
         ],
         "xaxis": "x",
         "y": [
          -16.346115112304688,
          -17.98888397216797,
          -10.3761568069458,
          -6.262241363525391,
          -3.993537187576294,
          -7.687747478485107,
          -5.52305269241333,
          6.933462142944336,
          -11.988446235656738,
          2.2126224040985107,
          -4.44362211227417,
          -10.522972106933594,
          8.125504493713379,
          -7.184072017669678,
          4.157428741455078,
          -6.245100975036621,
          -1.7559444904327393,
          -8.351703643798828,
          -20.28875160217285,
          -7.861029148101807,
          -9.16687297821045,
          -0.5019055008888245,
          -16.246496200561523,
          2.992802143096924,
          -1.0424546003341675,
          -10.171422958374023,
          -5.610560417175293,
          8.608192443847656,
          -14.688941955566406,
          -6.162521839141846,
          -11.30296802520752,
          -12.78480052947998,
          -2.0086448192596436,
          -4.138595104217529,
          5.837451457977295,
          -7.370500087738037,
          -7.091562271118164,
          -1.3695390224456787,
          -13.594489097595215,
          -0.6240301132202148,
          1.926098346710205,
          -7.77269172668457,
          8.086414337158203,
          -9.808955192565918,
          -6.562027454376221,
          4.923120498657227,
          -0.493632435798645,
          -18.5113468170166,
          -1.772779941558838,
          -17.86553955078125,
          -7.72577428817749,
          -1.7721623182296753,
          -11.03494644165039,
          1.0841747522354126,
          -6.140891075134277,
          -8.857451438903809,
          -7.623096466064453,
          -18.240245819091797,
          -7.967202186584473,
          -15.310190200805664,
          -10.195833206176758,
          3.831101179122925,
          -17.871789932250977,
          -2.4796457290649414,
          -13.581998825073242,
          0.362943559885025,
          -0.016980567947030067,
          -9.246269226074219,
          -3.84318208694458,
          -1.0637553930282593,
          -3.1024296283721924,
          -8.71590518951416,
          -3.2693095207214355,
          -5.51738166809082,
          -10.2202730178833,
          -15.569725036621094,
          -2.4074573516845703,
          -1.495674967765808,
          -2.2506983280181885,
          0.145527645945549,
          3.3601770401000977,
          -8.46508502960205,
          3.4573705196380615,
          -12.291314125061035,
          -5.894375801086426,
          -2.6007637977600098,
          8.323105812072754,
          -10.60684585571289,
          -5.895845413208008,
          -16.435909271240234,
          -6.879222869873047,
          -8.293546676635742,
          -10.181339263916016,
          -3.2007687091827393,
          -14.833113670349121,
          -1.6547348499298096
         ],
         "yaxis": "y"
        },
        {
         "customdata": [
          [
           "COMP4530",
           "USYD"
          ],
          [
           "AMME4112",
           "USYD"
          ],
          [
           "INFO4912",
           "USYD"
          ],
          [
           "INFO4990",
           "USYD"
          ],
          [
           "INFO4913",
           "USYD"
          ],
          [
           "COMP4415",
           "USYD"
          ],
          [
           "HTIN4003",
           "USYD"
          ],
          [
           "CIVL4903",
           "USYD"
          ],
          [
           "COMP4618",
           "USYD"
          ],
          [
           "BMET4010",
           "USYD"
          ],
          [
           "AMME4010",
           "USYD"
          ],
          [
           "COMP4445",
           "USYD"
          ],
          [
           "INFO4001",
           "USYD"
          ],
          [
           "INFO4406",
           "USYD"
          ],
          [
           "AMME4401",
           "USYD"
          ],
          [
           "DATA4207",
           "USYD"
          ],
          [
           "COMP4347",
           "USYD"
          ],
          [
           "COMP4424",
           "USYD"
          ],
          [
           "CIVL4816",
           "USYD"
          ],
          [
           "CHNG4203",
           "USYD"
          ],
          [
           "HTIN4005",
           "USYD"
          ],
          [
           "BMET4112",
           "USYD"
          ],
          [
           "ISYS4450",
           "USYD"
          ],
          [
           "CIVL4817",
           "USYD"
          ],
          [
           "COMP4425",
           "USYD"
          ],
          [
           "BMET4981",
           "USYD"
          ],
          [
           "CHNG4812",
           "USYD"
          ],
          [
           "COMP4448",
           "USYD"
          ],
          [
           "COMP4405",
           "USYD"
          ],
          [
           "CIVL4860",
           "USYD"
          ],
          [
           "AMME4710",
           "USYD"
          ],
          [
           "CIVL4818",
           "USYD"
          ],
          [
           "COMP4216",
           "USYD"
          ],
          [
           "COMP4328",
           "USYD"
          ],
          [
           "COMP4447",
           "USYD"
          ],
          [
           "HTIN4006",
           "USYD"
          ],
          [
           "COMP4349",
           "USYD"
          ],
          [
           "BMET4111",
           "USYD"
          ],
          [
           "COMP4426",
           "USYD"
          ],
          [
           "CHNG4811",
           "USYD"
          ],
          [
           "ELEC4714",
           "USYD"
          ],
          [
           "COMP4427",
           "USYD"
          ],
          [
           "INFO4999",
           "USYD"
          ],
          [
           "COMP4348",
           "USYD"
          ],
          [
           "COMP4446",
           "USYD"
          ],
          [
           "INFO4002",
           "USYD"
          ],
          [
           "INFO4444",
           "USYD"
          ],
          [
           "COMP4329",
           "USYD"
          ],
          [
           "INFO4491",
           "USYD"
          ],
          [
           "CIVL4819",
           "USYD"
          ],
          [
           "COMP4313",
           "USYD"
          ],
          [
           "CIVL4812",
           "USYD"
          ],
          [
           "COMP4318",
           "USYD"
          ],
          [
           "MECH4660",
           "USYD"
          ],
          [
           "ELEC4713",
           "USYD"
          ],
          [
           "COMP4617",
           "USYD"
          ],
          [
           "CIVL4023",
           "USYD"
          ],
          [
           "COMP4416",
           "USYD"
          ],
          [
           "COMP4338",
           "USYD"
          ],
          [
           "CIVL4022",
           "USYD"
          ],
          [
           "AMME4111",
           "USYD"
          ],
          [
           "INFO4911",
           "USYD"
          ],
          [
           "COMP4270",
           "USYD"
          ],
          [
           "ELEC4712",
           "USYD"
          ],
          [
           "MECH4460",
           "USYD"
          ],
          [
           "CIVL4203",
           "USYD"
          ],
          [
           "ELEC4505",
           "USYD"
          ]
         ],
         "hovertemplate": "year=4<br>uni=%{customdata[1]}<br>x=%{x}<br>y=%{y}<br>subject_code=%{customdata[0]}<extra></extra>",
         "legendgroup": "4, USYD",
         "marker": {
          "color": "#636efa",
          "symbol": "diamond"
         },
         "mode": "markers",
         "name": "4, USYD",
         "orientation": "v",
         "showlegend": true,
         "type": "scatter",
         "x": [
          -6.800310134887695,
          23.904850006103516,
          0.25868964195251465,
          3.881967067718506,
          0.3853278160095215,
          -6.085515975952148,
          -6.7715559005737305,
          20.521907806396484,
          -10.495104789733887,
          20.10916519165039,
          19.94187355041504,
          -5.855936527252197,
          -0.049542948603630066,
          -11.159756660461426,
          25.530521392822266,
          -5.9147467613220215,
          -4.839942455291748,
          -8.078951835632324,
          21.511367797851562,
          22.20265769958496,
          -6.788127422332764,
          24.455698013305664,
          -6.366851329803467,
          20.97692108154297,
          -7.161054611206055,
          26.20806312561035,
          24.420080184936523,
          -3.247953414916992,
          -6.485815048217773,
          22.00296974182129,
          13.750814437866211,
          22.496713638305664,
          -8.283709526062012,
          -5.346766948699951,
          -7.299758434295654,
          -0.05011332780122757,
          -5.202839374542236,
          5.909595012664795,
          -6.1616315841674805,
          5.905993461608887,
          20.332843780517578,
          -10.628552436828613,
          3.8714168071746826,
          -9.174857139587402,
          -6.601844310760498,
          -0.4142729640007019,
          -1.6680924892425537,
          -7.162906169891357,
          -9.642035484313965,
          22.29863929748535,
          -10.717792510986328,
          21.618366241455078,
          -7.8097004890441895,
          30.832406997680664,
          24.001617431640625,
          -8.27646255493164,
          24.1948184967041,
          -7.706663608551025,
          -8.16960334777832,
          5.857796669006348,
          5.380160808563232,
          0.21258489787578583,
          -5.071978569030762,
          5.3713908195495605,
          19.197391510009766,
          20.223052978515625,
          27.75839614868164
         ],
         "xaxis": "x",
         "y": [
          21.437549591064453,
          13.236502647399902,
          6.742754936218262,
          8.369388580322266,
          7.144962787628174,
          24.439912796020508,
          20.794389724731445,
          1.2684439420700073,
          25.11612892150879,
          15.096179008483887,
          15.031805992126465,
          23.575021743774414,
          8.27871322631836,
          22.720367431640625,
          3.0466482639312744,
          16.66477394104004,
          14.80019474029541,
          20.958681106567383,
          7.742506980895996,
          13.37216567993164,
          19.982900619506836,
          13.104307174682617,
          28.62995719909668,
          9.00179672241211,
          23.01184844970703,
          -2.1102004051208496,
          14.003583908081055,
          8.291670799255371,
          24.3028564453125,
          -2.9684953689575195,
          3.932757616043091,
          9.21985912322998,
          20.02089500427246,
          22.229984283447266,
          19.48839569091797,
          23.440839767456055,
          25.04364013671875,
          11.676812171936035,
          21.73345375061035,
          11.111681938171387,
          15.470354080200195,
          19.78860092163086,
          7.4653472900390625,
          21.96294593811035,
          24.796640396118164,
          6.835602760314941,
          7.015178680419922,
          24.551908493041992,
          24.11756134033203,
          8.606690406799316,
          20.016523361206055,
          8.354296684265137,
          21.87466049194336,
          -2.7606616020202637,
          13.626938819885254,
          24.204824447631836,
          13.508745193481445,
          24.024703979492188,
          19.84173583984375,
          11.119585037231445,
          11.602133750915527,
          6.897890567779541,
          21.813344955444336,
          11.506750106811523,
          -7.597849369049072,
          15.322571754455566,
          0.9426606297492981
         ],
         "yaxis": "y"
        },
        {
         "customdata": [
          [
           "31251",
           "UTS"
          ],
          [
           "92471",
           "UTS"
          ],
          [
           "41305",
           "UTS"
          ],
          [
           "93470",
           "UTS"
          ],
          [
           "41128",
           "UTS"
          ],
          [
           "41201",
           "UTS"
          ],
          [
           "32144",
           "UTS"
          ],
          [
           "31338",
           "UTS"
          ],
          [
           "48450",
           "UTS"
          ],
          [
           "91705",
           "UTS"
          ],
          [
           "41276",
           "UTS"
          ],
          [
           "48850",
           "UTS"
          ],
          [
           "41889",
           "UTS"
          ],
          [
           "41124",
           "UTS"
          ],
          [
           "42026",
           "UTS"
          ],
          [
           "48353",
           "UTS"
          ],
          [
           "41060",
           "UTS"
          ],
          [
           "16912",
           "UTS"
          ],
          [
           "43026",
           "UTS"
          ],
          [
           "16314",
           "UTS"
          ],
          [
           "48349",
           "UTS"
          ],
          [
           "41113",
           "UTS"
          ],
          [
           "41001",
           "UTS"
          ],
          [
           "92470",
           "UTS"
          ],
          [
           "31250",
           "UTS"
          ],
          [
           "92482",
           "UTS"
          ],
          [
           "41163",
           "UTS"
          ],
          [
           "41026",
           "UTS"
          ],
          [
           "37161",
           "UTS"
          ],
          [
           "48641",
           "UTS"
          ],
          [
           "41381",
           "UTS"
          ],
          [
           "92477",
           "UTS"
          ],
          [
           "93231",
           "UTS"
          ],
          [
           "48572",
           "UTS"
          ],
          [
           "48860",
           "UTS"
          ],
          [
           "26101",
           "UTS"
          ],
          [
           "68038",
           "UTS"
          ],
          [
           "41302",
           "UTS"
          ],
          [
           "92476",
           "UTS"
          ],
          [
           "31276",
           "UTS"
          ],
          [
           "41070",
           "UTS"
          ],
          [
           "49047",
           "UTS"
          ],
          [
           "31275",
           "UTS"
          ],
          [
           "93213",
           "UTS"
          ],
          [
           "41161",
           "UTS"
          ],
          [
           "92479",
           "UTS"
          ],
          [
           "48550",
           "UTS"
          ],
          [
           "92480",
           "UTS"
          ],
          [
           "37335",
           "UTS"
          ],
          [
           "41086",
           "UTS"
          ],
          [
           "93209",
           "UTS"
          ],
          [
           "41301",
           "UTS"
          ],
          [
           "41182",
           "UTS"
          ],
          [
           "31280",
           "UTS"
          ],
          [
           "41028",
           "UTS"
          ],
          [
           "93233",
           "UTS"
          ],
          [
           "92475",
           "UTS"
          ],
          [
           "48730",
           "UTS"
          ],
          [
           "41012",
           "UTS"
          ],
          [
           "41383",
           "UTS"
          ],
          [
           "41382",
           "UTS"
          ],
          [
           "92474",
           "UTS"
          ],
          [
           "41052",
           "UTS"
          ],
          [
           "41183",
           "UTS"
          ],
          [
           "43014",
           "UTS"
          ],
          [
           "48434",
           "UTS"
          ],
          [
           "41068",
           "UTS"
          ],
          [
           "41087",
           "UTS"
          ],
          [
           "31258",
           "UTS"
          ],
          [
           "37363",
           "UTS"
          ],
          [
           "92481",
           "UTS"
          ],
          [
           "92478",
           "UTS"
          ],
          [
           "41025",
           "UTS"
          ],
          [
           "93212",
           "UTS"
          ],
          [
           "41033",
           "UTS"
          ],
          [
           "41079",
           "UTS"
          ],
          [
           "48433",
           "UTS"
          ],
          [
           "31005",
           "UTS"
          ],
          [
           "92473",
           "UTS"
          ],
          [
           "91530",
           "UTS"
          ],
          [
           "49131",
           "UTS"
          ],
          [
           "41385",
           "UTS"
          ],
          [
           "48350",
           "UTS"
          ],
          [
           "49150",
           "UTS"
          ],
          [
           "43025",
           "UTS"
          ],
          [
           "41019",
           "UTS"
          ],
          [
           "31927",
           "UTS"
          ],
          [
           "41058",
           "UTS"
          ],
          [
           "49151",
           "UTS"
          ],
          [
           "92472",
           "UTS"
          ],
          [
           "41900",
           "UTS"
          ],
          [
           "48330",
           "UTS"
          ],
          [
           "31268",
           "UTS"
          ],
          [
           "48561",
           "UTS"
          ]
         ],
         "hovertemplate": "year=3<br>uni=%{customdata[1]}<br>x=%{x}<br>y=%{y}<br>subject_code=%{customdata[0]}<extra></extra>",
         "legendgroup": "3, UTS",
         "marker": {
          "color": "#EF553B",
          "symbol": "circle"
         },
         "mode": "markers",
         "name": "3, UTS",
         "orientation": "v",
         "showlegend": true,
         "type": "scatter",
         "x": [
          -17.963157653808594,
          -4.673609256744385,
          -26.132261276245117,
          -5.1390886306762695,
          -24.396799087524414,
          -21.280969619750977,
          -12.305736541748047,
          -21.136661529541016,
          -20.036354064941406,
          -18.37165641784668,
          -26.6849308013916,
          -2.61346435546875,
          -10.541885375976562,
          -18.638946533203125,
          -16.459794998168945,
          -5.959749221801758,
          -30.529220581054688,
          -17.7857608795166,
          -17.062450408935547,
          -10.40032958984375,
          -18.73421287536621,
          -23.823102951049805,
          -11.427787780761719,
          -5.989115238189697,
          -10.820961952209473,
          -4.829836368560791,
          -28.694385528564453,
          -5.836414337158203,
          -7.3237481117248535,
          -6.450292587280273,
          -17.573911666870117,
          -2.71726393699646,
          -5.886875152587891,
          -27.56260108947754,
          -3.0606026649475098,
          -13.831583023071289,
          -10.11044692993164,
          -15.947210311889648,
          -5.331974029541016,
          -21.65395164489746,
          -27.417236328125,
          -11.34687328338623,
          -22.6784725189209,
          -1.2531750202178955,
          -22.64995574951172,
          -5.000942707061768,
          -0.1017371416091919,
          -5.1414594650268555,
          -16.422948837280273,
          -26.011293411254883,
          -2.573777675628662,
          -24.097505569458008,
          -20.708999633789062,
          -15.382218360900879,
          -14.20656967163086,
          -6.944900035858154,
          -5.229294300079346,
          -19.12229347229004,
          -18.88256072998047,
          -17.483198165893555,
          -17.263959884643555,
          -5.293153762817383,
          -1.4156914949417114,
          -19.358339309692383,
          -13.014609336853027,
          -20.7213077545166,
          -30.150388717651367,
          -26.062419891357422,
          -10.004271507263184,
          -7.999924182891846,
          -6.524119853973389,
          -5.1455488204956055,
          -5.857507705688477,
          -3.220158576965332,
          -24.818462371826172,
          -12.255337715148926,
          -13.468913078308105,
          -26.278076171875,
          -3.669113874435425,
          1.4250997304916382,
          -4.534599304199219,
          -17.419584274291992,
          -12.221702575683594,
          -15.668611526489258,
          -13.869258880615234,
          -14.374324798583984,
          -17.659217834472656,
          -16.53915786743164,
          -15.505792617797852,
          -5.826955318450928,
          -16.241573333740234,
          -1.3142642974853516,
          -21.174104690551758,
          -7.6780781745910645
         ],
         "xaxis": "x",
         "y": [
          -12.091978073120117,
          2.204869270324707,
          -7.935227870941162,
          3.8247547149658203,
          -6.82175350189209,
          -15.581632614135742,
          -18.111482620239258,
          8.637497901916504,
          5.135698318481445,
          -2.147758960723877,
          -2.6597092151641846,
          -7.549208641052246,
          7.488425254821777,
          -8.295174598693848,
          -9.668465614318848,
          -9.265937805175781,
          -7.297639846801758,
          -16.845762252807617,
          -6.334790229797363,
          4.246952056884766,
          -0.2760166525840759,
          -7.517378330230713,
          -4.064396381378174,
          -0.3530515730381012,
          -14.300385475158691,
          -1.4733222723007202,
          -3.469688892364502,
          -7.289383888244629,
          -15.09935188293457,
          -5.531239986419678,
          -7.928309440612793,
          1.8992184400558472,
          5.220259189605713,
          2.148197650909424,
          -12.900995254516602,
          -3.0208075046539307,
          -15.009843826293945,
          -10.944950103759766,
          1.9438732862472534,
          -0.12416103482246399,
          -7.297389030456543,
          -13.974400520324707,
          0.7712727189064026,
          -1.1580138206481934,
          -5.9278082847595215,
          2.538194179534912,
          -12.950614929199219,
          4.409460067749023,
          5.254604339599609,
          -10.95706844329834,
          -0.05200157314538956,
          -10.301778793334961,
          -2.723367929458618,
          -7.426423072814941,
          -11.553858757019043,
          3.8422837257385254,
          2.94065260887146,
          4.001006603240967,
          -11.182123184204102,
          -9.09093189239502,
          -8.372194290161133,
          0.11789192259311676,
          -10.543715476989746,
          -3.9265952110290527,
          -9.549982070922852,
          5.398393630981445,
          -6.5352396965026855,
          -10.64023208618164,
          -12.268153190612793,
          -15.812457084655762,
          -0.7617539167404175,
          1.6215664148330688,
          -7.364522933959961,
          -2.087862968444824,
          -4.307136058807373,
          -6.249816417694092,
          -1.8080991506576538,
          -7.41453218460083,
          2.342571973800659,
          0.008087759837508202,
          -4.410366058349609,
          -8.951849937438965,
          -7.984409332275391,
          -11.983508110046387,
          9.0576810836792,
          -5.231314659118652,
          -10.737316131591797,
          -1.0871567726135254,
          -13.108824729919434,
          2.559015989303589,
          -4.875863075256348,
          -8.387809753417969,
          2.111865997314453,
          -13.031148910522461
         ],
         "yaxis": "y"
        },
        {
         "customdata": [
          [
           "COMP3109",
           "USYD"
          ],
          [
           "ELEC3607",
           "USYD"
          ],
          [
           "ELEC3304",
           "USYD"
          ],
          [
           "COMP3888",
           "USYD"
          ],
          [
           "COMP3308",
           "USYD"
          ],
          [
           "NURS3019",
           "USYD"
          ],
          [
           "MECH3261",
           "USYD"
          ],
          [
           "BMET3961",
           "USYD"
          ],
          [
           "NURS3015",
           "USYD"
          ],
          [
           "ENGG3112",
           "USYD"
          ],
          [
           "BMET3921",
           "USYD"
          ],
          [
           "ELEC3104",
           "USYD"
          ],
          [
           "CIVL3511",
           "USYD"
          ],
          [
           "NURS3018",
           "USYD"
          ],
          [
           "MECH3260",
           "USYD"
          ],
          [
           "ELEC3702",
           "USYD"
          ],
          [
           "ELEC3610",
           "USYD"
          ],
          [
           "CIVL3205",
           "USYD"
          ],
          [
           "ELEC3305",
           "USYD"
          ],
          [
           "COMP3221",
           "USYD"
          ],
          [
           "CIVL3614",
           "USYD"
          ],
          [
           "BMET3971",
           "USYD"
          ],
          [
           "ENGG3800",
           "USYD"
          ],
          [
           "ELEC3206",
           "USYD"
          ],
          [
           "CIVL3310",
           "USYD"
          ],
          [
           "COMP3027",
           "USYD"
          ],
          [
           "BMET3802",
           "USYD"
          ],
          [
           "ISYS3402",
           "USYD"
          ],
          [
           "MECH3362",
           "USYD"
          ],
          [
           "ELEC3505",
           "USYD"
          ],
          [
           "NURS3008",
           "USYD"
          ],
          [
           "SOFT3202",
           "USYD"
          ],
          [
           "MECH3460",
           "USYD"
          ],
          [
           "CIVL3612",
           "USYD"
          ],
          [
           "CIVL3235",
           "USYD"
          ],
          [
           "DATA3404",
           "USYD"
          ],
          [
           "ENGP3002",
           "USYD"
          ],
          [
           "NURS3012",
           "USYD"
          ],
          [
           "INFO3911",
           "USYD"
          ],
          [
           "AMME3500",
           "USYD"
          ],
          [
           "BMET3660",
           "USYD"
          ],
          [
           "NURS3007",
           "USYD"
          ],
          [
           "ENGP3001",
           "USYD"
          ],
          [
           "CSEC3616",
           "USYD"
          ],
          [
           "INFO3912",
           "USYD"
          ],
          [
           "ELEC3506",
           "USYD"
          ],
          [
           "MECH3361",
           "USYD"
          ],
          [
           "ELEC3802",
           "USYD"
          ],
          [
           "COMP3988",
           "USYD"
          ],
          [
           "CIVL3806",
           "USYD"
          ],
          [
           "COMP3530",
           "USYD"
          ],
          [
           "BMET3990",
           "USYD"
          ],
          [
           "ELEC3204",
           "USYD"
          ],
          [
           "COMP3419",
           "USYD"
          ],
          [
           "DATA3888",
           "USYD"
          ],
          [
           "COMP3927",
           "USYD"
          ],
          [
           "SOFT3410",
           "USYD"
          ],
          [
           "CIVL3411",
           "USYD"
          ],
          [
           "AMME3060",
           "USYD"
          ],
          [
           "ISYS3401",
           "USYD"
          ],
          [
           "ELEC3803",
           "USYD"
          ],
          [
           "CIVL3811",
           "USYD"
          ],
          [
           "SOFT3888",
           "USYD"
          ],
          [
           "INFO3315",
           "USYD"
          ],
          [
           "DATA3406",
           "USYD"
          ],
          [
           "INFO3616",
           "USYD"
          ],
          [
           "COMP3520",
           "USYD"
          ],
          [
           "ELEC3404",
           "USYD"
          ],
          [
           "MTRX3760",
           "USYD"
          ],
          [
           "CIVL3206",
           "USYD"
          ],
          [
           "CIVL3705",
           "USYD"
          ],
          [
           "NURS3017",
           "USYD"
          ],
          [
           "ELEC3609",
           "USYD"
          ],
          [
           "ISYS3888",
           "USYD"
          ],
          [
           "MTRX3700",
           "USYD"
          ],
          [
           "ELEC3608",
           "USYD"
          ],
          [
           "ELEC3203",
           "USYD"
          ],
          [
           "NURS3020",
           "USYD"
          ],
          [
           "BMET3997",
           "USYD"
          ],
          [
           "CIVL3704",
           "USYD"
          ],
          [
           "ELEC3612",
           "USYD"
          ],
          [
           "INFO3333",
           "USYD"
          ],
          [
           "CSEC3888",
           "USYD"
          ],
          [
           "ELEC3405",
           "USYD"
          ],
          [
           "COMP3608",
           "USYD"
          ]
         ],
         "hovertemplate": "year=3<br>uni=%{customdata[1]}<br>x=%{x}<br>y=%{y}<br>subject_code=%{customdata[0]}<extra></extra>",
         "legendgroup": "3, USYD",
         "marker": {
          "color": "#EF553B",
          "symbol": "diamond"
         },
         "mode": "markers",
         "name": "3, USYD",
         "orientation": "v",
         "showlegend": true,
         "type": "scatter",
         "x": [
          1.1132746934890747,
          -7.0632100105285645,
          33.39968490600586,
          -3.0789196491241455,
          1.0334136486053467,
          18.0399227142334,
          14.067073822021484,
          23.305965423583984,
          16.60872459411621,
          17.50090980529785,
          21.21181297302246,
          29.064855575561523,
          21.344745635986328,
          18.529129028320312,
          12.96143627166748,
          29.355918884277344,
          15.742398262023926,
          25.051355361938477,
          1.8657128810882568,
          -2.1779837608337402,
          29.454002380371094,
          31.420377731323242,
          0.8097012639045715,
          12.743836402893066,
          24.684694290161133,
          -3.2865850925445557,
          22.219276428222656,
          -10.491600036621094,
          16.529537200927734,
          -5.2809157371521,
          18.625507354736328,
          -4.937838077545166,
          23.67458724975586,
          12.67910099029541,
          31.00154685974121,
          -4.3054986000061035,
          10.024765968322754,
          15.062505722045898,
          4.571988105773926,
          27.005958557128906,
          16.074459075927734,
          19.188159942626953,
          8.650997161865234,
          -9.245696067810059,
          3.604588270187378,
          -4.163291931152344,
          20.80872917175293,
          29.150054931640625,
          -3.350724935531616,
          23.01459312438965,
          -3.5803842544555664,
          24.412580490112305,
          16.960235595703125,
          -3.076799154281616,
          -2.9927473068237305,
          -3.765062093734741,
          -0.10452182590961456,
          20.534486770629883,
          15.373181343078613,
          -5.044917583465576,
          24.418712615966797,
          23.28765296936035,
          -2.4782745838165283,
          -5.1749587059021,
          -6.055733680725098,
          -9.126846313476562,
          -2.6781558990478516,
          25.99066734313965,
          15.066180229187012,
          20.979766845703125,
          15.232088088989258,
          17.345767974853516,
          18.7575740814209,
          -3.7998874187469482,
          18.791519165039062,
          14.644832611083984,
          17.83572769165039,
          18.2933292388916,
          23.80002212524414,
          20.67482566833496,
          19.479225158691406,
          0.10084826499223709,
          -3.2864015102386475,
          21.973098754882812,
          -0.5348348617553711
         ],
         "xaxis": "x",
         "y": [
          22.145397186279297,
          25.988174438476562,
          -0.6131018400192261,
          11.475407600402832,
          18.345123291015625,
          -1.4594871997833252,
          -11.546055793762207,
          -9.955734252929688,
          1.1986554861068726,
          6.649869918823242,
          -4.18359899520874,
          -6.283016681671143,
          1.674879550933838,
          3.001477003097534,
          -7.469552040100098,
          -3.265662670135498,
          9.928924560546875,
          -14.476806640625,
          22.13262367248535,
          21.463624954223633,
          0.5003849267959595,
          -8.936532974243164,
          10.931201934814453,
          -1.0265929698944092,
          0.9036596417427063,
          19.759445190429688,
          -4.868137359619141,
          20.731229782104492,
          -15.190213203430176,
          27.917739868164062,
          0.3767163157463074,
          10.215449333190918,
          -5.084753513336182,
          -11.878205299377441,
          1.117486834526062,
          19.62531280517578,
          -20.43607521057129,
          0.7403053641319275,
          5.788865089416504,
          5.243000507354736,
          -14.651070594787598,
          -1.9961791038513184,
          -20.77268409729004,
          26.414941787719727,
          5.803532123565674,
          27.33182716369629,
          -15.506160736083984,
          -4.042459487915039,
          11.637048721313477,
          0.9506521224975586,
          21.70049285888672,
          -8.178777694702148,
          -4.092253684997559,
          9.144290924072266,
          13.732146263122559,
          19.362688064575195,
          18.664323806762695,
          -13.747393608093262,
          -6.183405876159668,
          13.23238754272461,
          4.4599809646606445,
          -13.193105697631836,
          11.824742317199707,
          18.234989166259766,
          19.448123931884766,
          26.326322555541992,
          22.02117919921875,
          0.706413984298706,
          -6.929564952850342,
          -9.366016387939453,
          4.944489002227783,
          3.458150625228882,
          8.786398887634277,
          12.693404197692871,
          -14.351456642150879,
          -4.721506595611572,
          -5.492867946624756,
          -1.8204623460769653,
          4.270897388458252,
          4.634118556976318,
          5.340600490570068,
          11.135043144226074,
          12.480653762817383,
          3.6872570514678955,
          22.161476135253906
         ],
         "yaxis": "y"
        },
        {
         "customdata": [
          [
           "48221",
           "UTS"
          ],
          [
           "31247",
           "UTS"
          ],
          [
           "41057",
           "UTS"
          ],
          [
           "43123",
           "UTS"
          ],
          [
           "93201",
           "UTS"
          ],
          [
           "48352",
           "UTS"
          ],
          [
           "31271",
           "UTS"
          ],
          [
           "41173",
           "UTS"
          ],
          [
           "41076",
           "UTS"
          ],
          [
           "41308",
           "UTS"
          ],
          [
           "91529",
           "UTS"
          ],
          [
           "41200",
           "UTS"
          ],
          [
           "41056",
           "UTS"
          ],
          [
           "41040",
           "UTS"
          ],
          [
           "37233",
           "UTS"
          ],
          [
           "31277",
           "UTS"
          ],
          [
           "93227",
           "UTS"
          ],
          [
           "31257",
           "UTS"
          ],
          [
           "68412",
           "UTS"
          ],
          [
           "48821",
           "UTS"
          ],
          [
           "41092",
           "UTS"
          ],
          [
           "37252",
           "UTS"
          ],
          [
           "41085",
           "UTS"
          ],
          [
           "41181",
           "UTS"
          ],
          [
           "41380",
           "UTS"
          ],
          [
           "93206",
           "UTS"
          ],
          [
           "31260",
           "UTS"
          ],
          [
           "41162",
           "UTS"
          ],
          [
           "48441",
           "UTS"
          ],
          [
           "33230",
           "UTS"
          ],
          [
           "31061",
           "UTS"
          ],
          [
           "68037",
           "UTS"
          ],
          [
           "48340",
           "UTS"
          ],
          [
           "65111",
           "UTS"
          ],
          [
           "48024",
           "UTS"
          ],
          [
           "48531",
           "UTS"
          ],
          [
           "48622",
           "UTS"
          ],
          [
           "31255",
           "UTS"
          ],
          [
           "93225",
           "UTS"
          ],
          [
           "93224",
           "UTS"
          ],
          [
           "31080",
           "UTS"
          ],
          [
           "41013",
           "UTS"
          ],
          [
           "41091",
           "UTS"
          ],
          [
           "48530",
           "UTS"
          ],
          [
           "93204",
           "UTS"
          ],
          [
           "41080",
           "UTS"
          ],
          [
           "91822",
           "UTS"
          ],
          [
           "48331",
           "UTS"
          ],
          [
           "41014",
           "UTS"
          ],
          [
           "93223",
           "UTS"
          ],
          [
           "41059",
           "UTS"
          ],
          [
           "48540",
           "UTS"
          ],
          [
           "41127",
           "UTS"
          ],
          [
           "93202",
           "UTS"
          ],
          [
           "41035",
           "UTS"
          ],
          [
           "91161",
           "UTS"
          ],
          [
           "41078",
           "UTS"
          ],
          [
           "41039",
           "UTS"
          ]
         ],
         "hovertemplate": "year=2<br>uni=%{customdata[1]}<br>x=%{x}<br>y=%{y}<br>subject_code=%{customdata[0]}<extra></extra>",
         "legendgroup": "2, UTS",
         "marker": {
          "color": "#00cc96",
          "symbol": "circle"
         },
         "mode": "markers",
         "name": "2, UTS",
         "orientation": "v",
         "showlegend": true,
         "type": "scatter",
         "x": [
          -12.38824462890625,
          -0.5978072285652161,
          -14.000208854675293,
          -24.877498626708984,
          -1.6128381490707397,
          -15.632828712463379,
          -11.61590576171875,
          -12.489943504333496,
          -13.749457359313965,
          -15.859894752502441,
          1.036330223083496,
          -19.339130401611328,
          -14.384533882141113,
          -11.75505256652832,
          -8.144773483276367,
          -24.69534683227539,
          -0.7586819529533386,
          -12.340598106384277,
          -24.245887756347656,
          -18.263887405395508,
          -24.54610824584961,
          -16.31776237487793,
          -26.775028228759766,
          -20.00326919555664,
          -12.488106727600098,
          -4.429070949554443,
          -20.177650451660156,
          -21.119626998901367,
          -13.769829750061035,
          -13.383605003356934,
          -13.90656852722168,
          -15.343655586242676,
          -2.390228509902954,
          -17.265409469604492,
          -19.181730270385742,
          -8.679451942443848,
          -8.185585021972656,
          -22.984676361083984,
          -4.217033386230469,
          -4.325115203857422,
          -17.828994750976562,
          -15.852694511413574,
          -21.183780670166016,
          -18.633853912353516,
          -0.2924041450023651,
          -11.251360893249512,
          -23.276016235351562,
          -9.612337112426758,
          -18.16084861755371,
          -2.294515609741211,
          -29.25815200805664,
          -27.58667755126953,
          -30.77621841430664,
          -3.3940138816833496,
          -13.738068580627441,
          -15.962594985961914,
          -11.327237129211426,
          -0.7598388195037842
         ],
         "xaxis": "x",
         "y": [
          0.9643943905830383,
          -11.023456573486328,
          -10.564332008361816,
          -11.861019134521484,
          2.527090072631836,
          -12.711942672729492,
          4.715940475463867,
          8.688450813293457,
          9.63085651397705,
          -6.39478063583374,
          0.8976094722747803,
          -14.841301918029785,
          -8.495931625366211,
          8.088475227355957,
          -15.998823165893555,
          0.32240036129951477,
          -1.2724415063858032,
          5.601379871368408,
          3.6564114093780518,
          -3.3491322994232178,
          -0.7267278432846069,
          4.834563732147217,
          -10.767221450805664,
          -1.0865705013275146,
          -11.940206527709961,
          3.7205843925476074,
          -6.634520053863525,
          -10.507512092590332,
          1.7200011014938354,
          -14.109954833984375,
          4.158144474029541,
          -4.25797700881958,
          -10.038736343383789,
          3.26863956451416,
          6.522192001342773,
          -4.9912872314453125,
          -13.675575256347656,
          -5.1424360275268555,
          1.5054773092269897,
          5.048386573791504,
          -11.270699501037598,
          -0.24974554777145386,
          -11.982949256896973,
          2.790665864944458,
          2.1874585151672363,
          -2.6598961353302,
          3.8447153568267822,
          -13.773038864135742,
          -19.986696243286133,
          -1.6465984582901,
          -3.994441270828247,
          2.191255569458008,
          -8.109332084655762,
          0.4903147518634796,
          -12.526144981384277,
          1.4065202474594116,
          -4.3079071044921875,
          -13.852537155151367
         ],
         "yaxis": "y"
        },
        {
         "customdata": [
          [
           "ISYS2110",
           "USYD"
          ],
          [
           "ELEC2104",
           "USYD"
          ],
          [
           "BMET2901",
           "USYD"
          ],
          [
           "ENGG2112",
           "USYD"
          ],
          [
           "BMET2960",
           "USYD"
          ],
          [
           "MATH2061",
           "USYD"
          ],
          [
           "COMP2017",
           "USYD"
          ],
          [
           "INFO2150",
           "USYD"
          ],
          [
           "PHYS2213",
           "USYD"
          ],
          [
           "AMME2301",
           "USYD"
          ],
          [
           "NURS2003",
           "USYD"
          ],
          [
           "INFO2222",
           "USYD"
          ],
          [
           "COMP2922",
           "USYD"
          ],
          [
           "MECH2401",
           "USYD"
          ],
          [
           "ENGP2002",
           "USYD"
          ],
          [
           "INFO2911",
           "USYD"
          ],
          [
           "ISYS2120",
           "USYD"
          ],
          [
           "AMME2500",
           "USYD"
          ],
          [
           "NURS2008",
           "USYD"
          ],
          [
           "SOFT2412",
           "USYD"
          ],
          [
           "MECH2460",
           "USYD"
          ],
          [
           "CIVL2700",
           "USYD"
          ],
          [
           "ELEC2302",
           "USYD"
          ],
          [
           "AMME2262",
           "USYD"
          ],
          [
           "CIVL2812",
           "USYD"
          ],
          [
           "COMP2123",
           "USYD"
          ],
          [
           "STAT2911",
           "USYD"
          ],
          [
           "NURS2009",
           "USYD"
          ],
          [
           "ELEC2103",
           "USYD"
          ],
          [
           "ISYS2160",
           "USYD"
          ],
          [
           "ENGP2003",
           "USYD"
          ],
          [
           "MECH2400",
           "USYD"
          ],
          [
           "DATA2901",
           "USYD"
          ],
          [
           "DATA2002",
           "USYD"
          ],
          [
           "NURS2005",
           "USYD"
          ],
          [
           "BMET2925",
           "USYD"
          ],
          [
           "NURS2010",
           "USYD"
          ],
          [
           "NURS2006",
           "USYD"
          ],
          [
           "DATA2001",
           "USYD"
          ],
          [
           "AMME2200",
           "USYD"
          ],
          [
           "DATA2902",
           "USYD"
          ],
          [
           "ELEC2602",
           "USYD"
          ],
          [
           "MATH2069",
           "USYD"
          ],
          [
           "CIVL2201",
           "USYD"
          ],
          [
           "AMME2261",
           "USYD"
          ],
          [
           "COMP2823",
           "USYD"
          ],
          [
           "STAT2011",
           "USYD"
          ],
          [
           "ELEC2100",
           "USYD"
          ],
          [
           "BMET2400",
           "USYD"
          ],
          [
           "CIVL2410",
           "USYD"
          ],
          [
           "SOFT2201",
           "USYD"
          ],
          [
           "CIVL2611",
           "USYD"
          ],
          [
           "ENGP2001",
           "USYD"
          ],
          [
           "NURS2011",
           "USYD"
          ],
          [
           "AMME2000",
           "USYD"
          ],
          [
           "INFO2912",
           "USYD"
          ],
          [
           "CIVL2010",
           "USYD"
          ],
          [
           "COMP2022",
           "USYD"
          ],
          [
           "BMET2903",
           "USYD"
          ],
          [
           "MTRX2700",
           "USYD"
          ],
          [
           "NURS2001",
           "USYD"
          ],
          [
           "BMET2922",
           "USYD"
          ],
          [
           "BMET2902",
           "USYD"
          ]
         ],
         "hovertemplate": "year=2<br>uni=%{customdata[1]}<br>x=%{x}<br>y=%{y}<br>subject_code=%{customdata[0]}<extra></extra>",
         "legendgroup": "2, USYD",
         "marker": {
          "color": "#00cc96",
          "symbol": "diamond"
         },
         "mode": "markers",
         "name": "2, USYD",
         "orientation": "v",
         "showlegend": true,
         "type": "scatter",
         "x": [
          -2.5874459743499756,
          28.21733856201172,
          19.274696350097656,
          17.705467224121094,
          17.999107360839844,
          19.81798553466797,
          -2.3394644260406494,
          -2.8056962490081787,
          31.621929168701172,
          18.2972412109375,
          15.84228801727295,
          0.8901216983795166,
          1.724470853805542,
          21.521808624267578,
          8.81108570098877,
          4.428654670715332,
          -2.959496259689331,
          28.464094161987305,
          16.368677139282227,
          -1.1004011631011963,
          16.04680061340332,
          21.53691291809082,
          23.17218589782715,
          16.9992733001709,
          19.46790885925293,
          -1.2464441061019897,
          -0.9384790658950806,
          25.838529586791992,
          27.04395866394043,
          -1.0712175369262695,
          9.424980163574219,
          27.8067684173584,
          3.261284589767456,
          -1.818135142326355,
          17.750307083129883,
          -2.4361417293548584,
          14.02760124206543,
          14.434389114379883,
          3.3794708251953125,
          15.571131706237793,
          -1.9140818119049072,
          13.412633895874023,
          -2.826402425765991,
          22.185487747192383,
          17.287382125854492,
          -1.3698515892028809,
          -0.9130139946937561,
          25.29989242553711,
          24.85518455505371,
          20.83574867248535,
          -1.8786104917526245,
          14.220976829528809,
          8.720013618469238,
          21.478662490844727,
          18.55632781982422,
          3.5658209323883057,
          23.847023010253906,
          1.72612726688385,
          22.0063533782959,
          18.354248046875,
          30.539093017578125,
          23.187488555908203,
          24.97406768798828
         ],
         "xaxis": "x",
         "y": [
          17.25936508178711,
          -4.216830730438232,
          1.766249418258667,
          6.640385627746582,
          -10.509831428527832,
          -11.836440086364746,
          23.565826416015625,
          18.028541564941406,
          0.42898648977279663,
          -11.587120056152344,
          -1.399946689605713,
          15.11830997467041,
          24.966266632080078,
          5.164525508880615,
          -21.350276947021484,
          5.97745943069458,
          16.406246185302734,
          3.0094001293182373,
          1.197740912437439,
          16.8375301361084,
          -14.535331726074219,
          -12.757987976074219,
          -2.4712305068969727,
          -9.873741149902344,
          10.103320121765137,
          17.869342803955078,
          26.85885238647461,
          6.655428409576416,
          -4.206887722015381,
          11.7990140914917,
          -21.376455307006836,
          -12.486003875732422,
          16.825197219848633,
          25.47868537902832,
          0.5408731698989868,
          14.444075584411621,
          -0.8472673296928406,
          -2.981236696243286,
          16.664749145507812,
          -8.107142448425293,
          25.387880325317383,
          -4.352941989898682,
          22.582284927368164,
          -14.5820951461792,
          -10.192992210388184,
          17.896392822265625,
          26.9268798828125,
          -2.678179979324341,
          -8.345497131347656,
          -9.310755729675293,
          21.03240394592285,
          -10.683767318725586,
          -20.891782760620117,
          -1.3549553155899048,
          -10.745231628417969,
          5.982078552246094,
          -8.367253303527832,
          24.925796508789062,
          -0.008491591550409794,
          8.388764381408691,
          1.7537074089050293,
          -7.083166122436523,
          -2.8979458808898926
         ],
         "yaxis": "y"
        },
        {
         "customdata": [
          [
           "41082",
           "UTS"
          ],
          [
           "91400",
           "UTS"
          ],
          [
           "48610",
           "UTS"
          ],
          [
           "41125",
           "UTS"
          ],
          [
           "93200",
           "UTS"
          ],
          [
           "60101",
           "UTS"
          ],
          [
           "41099",
           "UTS"
          ],
          [
           "31266",
           "UTS"
          ],
          [
           "48430",
           "UTS"
          ],
          [
           "41084",
           "UTS"
          ],
          [
           "48230",
           "UTS"
          ],
          [
           "91562",
           "UTS"
          ],
          [
           "93226",
           "UTS"
          ],
          [
           "93205",
           "UTS"
          ],
          [
           "41053",
           "UTS"
          ],
          [
           "91561",
           "UTS"
          ],
          [
           "48321",
           "UTS"
          ],
          [
           "48320",
           "UTS"
          ],
          [
           "41117",
           "UTS"
          ],
          [
           "37181",
           "UTS"
          ],
          [
           "48510",
           "UTS"
          ],
          [
           "41160",
           "UTS"
          ],
          [
           "48521",
           "UTS"
          ],
          [
           "31269",
           "UTS"
          ],
          [
           "65212",
           "UTS"
          ],
          [
           "93203",
           "UTS"
          ],
          [
           "33130",
           "UTS"
          ],
          [
           "31265",
           "UTS"
          ],
          [
           "48310",
           "UTS"
          ],
          [
           "93222",
           "UTS"
          ],
          [
           "41054",
           "UTS"
          ],
          [
           "48520",
           "UTS"
          ],
          [
           "48023",
           "UTS"
          ]
         ],
         "hovertemplate": "year=1<br>uni=%{customdata[1]}<br>x=%{x}<br>y=%{y}<br>subject_code=%{customdata[0]}<extra></extra>",
         "legendgroup": "1, UTS",
         "marker": {
          "color": "#ab63fa",
          "symbol": "circle"
         },
         "mode": "markers",
         "name": "1, UTS",
         "orientation": "v",
         "showlegend": true,
         "type": "scatter",
         "x": [
          -13.886127471923828,
          -23.02554702758789,
          -24.826553344726562,
          -10.773566246032715,
          -1.4255610704421997,
          -16.79985809326172,
          -28.230953216552734,
          -20.81849479675293,
          -21.634986877441406,
          -26.480892181396484,
          -8.882909774780273,
          0.22778496146202087,
          -2.9586334228515625,
          -0.43915557861328125,
          -13.74582290649414,
          0.3149682581424713,
          -17.464942932128906,
          -19.90484619140625,
          -20.547470092773438,
          -0.4883585274219513,
          -1.0401400327682495,
          -28.575761795043945,
          -5.832712650299072,
          0.5148807764053345,
          -17.45901107788086,
          -1.7185169458389282,
          -14.804778099060059,
          -9.04762077331543,
          -22.704021453857422,
          -4.818118095397949,
          -10.481761932373047,
          -18.220935821533203,
          -0.7943461537361145
         ],
         "xaxis": "x",
         "y": [
          -8.067837715148926,
          3.8966312408447266,
          -3.3814964294433594,
          -10.040514945983887,
          -0.5540937185287476,
          2.6435813903808594,
          -5.1164679527282715,
          2.181525707244873,
          -10.499302864074707,
          -10.351385116577148,
          -9.32372760772705,
          -1.752057433128357,
          -2.3927364349365234,
          1.3621926307678223,
          -9.783202171325684,
          -0.3483063876628876,
          -5.0528035163879395,
          1.331854224205017,
          -10.671009063720703,
          -4.038907051086426,
          -7.386000156402588,
          -1.7396738529205322,
          -8.972001075744629,
          -9.69688892364502,
          1.0116373300552368,
          -0.013496477156877518,
          4.294094562530518,
          -9.321019172668457,
          -8.90145206451416,
          0.6967330574989319,
          1.1907316446304321,
          3.1587278842926025,
          -13.631831169128418
         ],
         "yaxis": "y"
        },
        {
         "customdata": [
          [
           "CIVL1110",
           "USYD"
          ],
          [
           "NURS1008",
           "USYD"
          ],
          [
           "PHYS1003",
           "USYD"
          ],
          [
           "ENGP1002",
           "USYD"
          ],
          [
           "CHEM1991",
           "USYD"
          ],
          [
           "NURS1004",
           "USYD"
          ],
          [
           "CIVL1022",
           "USYD"
          ],
          [
           "MATH1964",
           "USYD"
          ],
          [
           "INFO1911",
           "USYD"
          ],
          [
           "INFO1910",
           "USYD"
          ],
          [
           "MTRX1705",
           "USYD"
          ],
          [
           "DATA1901",
           "USYD"
          ],
          [
           "DATA1002",
           "USYD"
          ],
          [
           "NURS1005",
           "USYD"
          ],
          [
           "MECH1400",
           "USYD"
          ],
          [
           "ENGP1003",
           "USYD"
          ],
          [
           "ELEC1601",
           "USYD"
          ],
          [
           "CIVL1900",
           "USYD"
          ],
          [
           "NURS1002",
           "USYD"
          ],
          [
           "MTRX1702",
           "USYD"
          ],
          [
           "INFO1110",
           "USYD"
          ],
          [
           "MATH1061",
           "USYD"
          ],
          [
           "AMME1802",
           "USYD"
          ],
          [
           "BMET1960",
           "USYD"
          ],
          [
           "CIVL1802",
           "USYD"
          ],
          [
           "BMET1961",
           "USYD"
          ],
          [
           "INFO1111",
           "USYD"
          ],
          [
           "CHNG1108",
           "USYD"
          ],
          [
           "NURS1003",
           "USYD"
          ],
          [
           "ENGG1810",
           "USYD"
          ],
          [
           "AERO1560",
           "USYD"
          ],
          [
           "INFO1112",
           "USYD"
          ],
          [
           "AMME1705",
           "USYD"
          ],
          [
           "MECH1560",
           "USYD"
          ],
          [
           "BUSS1030",
           "USYD"
          ],
          [
           "AMME1362",
           "USYD"
          ],
          [
           "NURS1001",
           "USYD"
          ],
          [
           "MTRX1701",
           "USYD"
          ],
          [
           "INFO1113",
           "USYD"
          ],
          [
           "MATH1062",
           "USYD"
          ],
          [
           "MATH1961",
           "USYD"
          ],
          [
           "CHEM1111",
           "USYD"
          ],
          [
           "MKTG1001",
           "USYD"
          ],
          [
           "ELEC1004",
           "USYD"
          ],
          [
           "CHEM1911",
           "USYD"
          ],
          [
           "NURS1006",
           "USYD"
          ],
          [
           "DATA1001",
           "USYD"
          ],
          [
           "DATA1902",
           "USYD"
          ],
          [
           "PHYS1001",
           "USYD"
          ],
          [
           "ENGP1001",
           "USYD"
          ],
          [
           "NURS1007",
           "USYD"
          ],
          [
           "MATH1064",
           "USYD"
          ],
          [
           "INFO1912",
           "USYD"
          ],
          [
           "ELEC1005",
           "USYD"
          ],
          [
           "CIVL1810",
           "USYD"
          ]
         ],
         "hovertemplate": "year=1<br>uni=%{customdata[1]}<br>x=%{x}<br>y=%{y}<br>subject_code=%{customdata[0]}<extra></extra>",
         "legendgroup": "1, USYD",
         "marker": {
          "color": "#ab63fa",
          "symbol": "diamond"
         },
         "mode": "markers",
         "name": "1, USYD",
         "orientation": "v",
         "showlegend": true,
         "type": "scatter",
         "x": [
          16.651655197143555,
          17.64673614501953,
          27.45698356628418,
          9.380281448364258,
          29.102155685424805,
          16.982892990112305,
          24.630855560302734,
          -6.8895368576049805,
          4.451025009155273,
          3.4692609310150146,
          22.01187515258789,
          3.7477896213531494,
          0.6164259314537048,
          14.41723346710205,
          18.62333106994629,
          9.623899459838867,
          2.209254741668701,
          12.815178871154785,
          16.471487045288086,
          19.504703521728516,
          3.3634276390075684,
          -7.426697731018066,
          20.88869285583496,
          22.8791561126709,
          20.49236488342285,
          25.575599670410156,
          -1.249580979347229,
          19.400890350341797,
          17.521944046020508,
          3.4832823276519775,
          33.566226959228516,
          0.9096188545227051,
          20.009178161621094,
          26.718725204467773,
          27.597549438476562,
          16.141006469726562,
          16.626346588134766,
          25.854230880737305,
          -1.37870454788208,
          -8.419333457946777,
          -7.587410926818848,
          26.50298500061035,
          32.342010498046875,
          25.548601150512695,
          29.311965942382812,
          12.814512252807617,
          4.149877548217773,
          0.4973578453063965,
          27.283037185668945,
          9.25806713104248,
          16.139938354492188,
          -5.589076042175293,
          3.807434558868408,
          17.587753295898438,
          25.913551330566406
         ],
         "xaxis": "x",
         "y": [
          -3.4344868659973145,
          -1.1436206102371216,
          9.746649742126465,
          -20.18692970275879,
          8.9846773147583,
          3.5600240230560303,
          -1.9613213539123535,
          17.511077880859375,
          6.189270973205566,
          20.691957473754883,
          -5.008465766906738,
          16.203617095947266,
          20.846981048583984,
          1.8723442554473877,
          1.3577989339828491,
          -20.79276466369629,
          19.873638153076172,
          -4.2981743812561035,
          3.9396090507507324,
          -14.117840766906738,
          20.13189125061035,
          17.02861785888672,
          6.370312213897705,
          -13.666383743286133,
          7.654175281524658,
          -6.854147911071777,
          15.20702075958252,
          1.8693724870681763,
          1.7637479305267334,
          20.20026206970215,
          -1.5370190143585205,
          14.871448516845703,
          -6.678560733795166,
          -9.082864761352539,
          1.1350926160812378,
          -1.9885988235473633,
          0.05150516331195831,
          -8.978527069091797,
          9.646003723144531,
          17.014677047729492,
          17.246368408203125,
          10.28231143951416,
          -3.974497079849243,
          -1.003281831741333,
          8.81453800201416,
          -0.0999138355255127,
          16.38956069946289,
          20.517017364501953,
          9.826623916625977,
          -20.69819450378418,
          0.0914248377084732,
          17.850399017333984,
          6.478106498718262,
          4.378771781921387,
          -10.877321243286133
         ],
         "yaxis": "y"
        },
        {
         "customdata": [
          [
           "35005",
           "UTS"
          ],
          [
           "42050",
           "UTS"
          ],
          [
           "57304",
           "UTS"
          ],
          [
           "35007",
           "UTS"
          ],
          [
           "37373",
           "UTS"
          ],
          [
           "35006",
           "UTS"
          ]
         ],
         "hovertemplate": "year=None<br>uni=%{customdata[1]}<br>x=%{x}<br>y=%{y}<br>subject_code=%{customdata[0]}<extra></extra>",
         "legendgroup": "None, UTS",
         "marker": {
          "color": "#FFA15A",
          "symbol": "circle"
         },
         "mode": "markers",
         "name": "None, UTS",
         "orientation": "v",
         "showlegend": true,
         "type": "scatter",
         "x": [
          -6.525392055511475,
          -7.803456783294678,
          -7.975354194641113,
          -6.907299995422363,
          -6.589338302612305,
          -6.6959662437438965
         ],
         "xaxis": "x",
         "y": [
          1.6562801599502563,
          1.2455285787582397,
          1.2182563543319702,
          1.4143248796463013,
          1.129746675491333,
          1.1892530918121338
         ],
         "yaxis": "y"
        },
        {
         "customdata": [
          [
           "93217",
           "UTS"
          ],
          [
           "93216",
           "UTS"
          ],
          [
           "93219",
           "UTS"
          ],
          [
           "93214",
           "UTS"
          ]
         ],
         "hovertemplate": "year=6<br>uni=%{customdata[1]}<br>x=%{x}<br>y=%{y}<br>subject_code=%{customdata[0]}<extra></extra>",
         "legendgroup": "6, UTS",
         "marker": {
          "color": "#19d3f3",
          "symbol": "circle"
         },
         "mode": "markers",
         "name": "6, UTS",
         "orientation": "v",
         "showlegend": true,
         "type": "scatter",
         "x": [
          -2.2271435260772705,
          -0.7590198516845703,
          -2.905632257461548,
          -1.5947577953338623
         ],
         "xaxis": "x",
         "y": [
          -1.1546050310134888,
          0.31874018907546997,
          4.0885396003723145,
          0.8319360017776489
         ],
         "yaxis": "y"
        },
        {
         "customdata": [
          [
           "93220",
           "UTS"
          ],
          [
           "93218",
           "UTS"
          ]
         ],
         "hovertemplate": "year=5<br>uni=%{customdata[1]}<br>x=%{x}<br>y=%{y}<br>subject_code=%{customdata[0]}<extra></extra>",
         "legendgroup": "5, UTS",
         "marker": {
          "color": "#FF6692",
          "symbol": "circle"
         },
         "mode": "markers",
         "name": "5, UTS",
         "orientation": "v",
         "showlegend": true,
         "type": "scatter",
         "x": [
          -6.9997711181640625,
          -6.088912010192871
         ],
         "xaxis": "x",
         "y": [
          4.0722737312316895,
          4.474185466766357
         ],
         "yaxis": "y"
        },
        {
         "customdata": [
          [
           "ELEC5507",
           "USYD"
          ],
          [
           "AMME5060",
           "USYD"
          ],
          [
           "BMET5790",
           "USYD"
          ],
          [
           "BMET5944",
           "USYD"
          ],
          [
           "ELEC5511",
           "USYD"
          ],
          [
           "ELEC5213",
           "USYD"
          ],
          [
           "CIVL5702",
           "USYD"
          ],
          [
           "ELEC5205",
           "USYD"
          ],
          [
           "ELEC5622",
           "USYD"
          ],
          [
           "CIVL5276",
           "USYD"
          ],
          [
           "BMET5933",
           "USYD"
          ],
          [
           "BMET5964",
           "USYD"
          ],
          [
           "ELEC5618",
           "USYD"
          ],
          [
           "AMME5902",
           "USYD"
          ],
          [
           "CIVL5535",
           "USYD"
          ],
          [
           "AMME5105",
           "USYD"
          ],
          [
           "AMME5104",
           "USYD"
          ],
          [
           "ELEC5208",
           "USYD"
          ],
          [
           "ISYS5070",
           "USYD"
          ],
          [
           "ELEC5619",
           "USYD"
          ],
          [
           "CIVL5670",
           "USYD"
          ],
          [
           "CIVL5277",
           "USYD"
          ],
          [
           "ELEC5204",
           "USYD"
          ],
          [
           "CIVL5703",
           "USYD"
          ],
          [
           "ELEC5212",
           "USYD"
          ],
          [
           "ELEC5510",
           "USYD"
          ],
          [
           "MECH5265",
           "USYD"
          ],
          [
           "ELEC5101",
           "USYD"
          ],
          [
           "BMET5953",
           "USYD"
          ],
          [
           "BMET5958",
           "USYD"
          ],
          [
           "CIVL5266",
           "USYD"
          ],
          [
           "CIVL5460",
           "USYD"
          ],
          [
           "BMET5962",
           "USYD"
          ],
          [
           "AMME5292",
           "USYD"
          ],
          [
           "MTRX5700",
           "USYD"
          ],
          [
           "AMME5912",
           "USYD"
          ],
          [
           "MECH5311",
           "USYD"
          ],
          [
           "CIVL5533",
           "USYD"
          ],
          [
           "MECH5720",
           "USYD"
          ],
          [
           "ELEC5517",
           "USYD"
          ],
          [
           "ELEC5307",
           "USYD"
          ],
          [
           "CIVL5704",
           "USYD"
          ],
          [
           "AMME5271",
           "USYD"
          ],
          [
           "ELEC5203",
           "USYD"
          ],
          [
           "BMET5996",
           "USYD"
          ],
          [
           "ELEC5306",
           "USYD"
          ],
          [
           "ELEC5701",
           "USYD"
          ],
          [
           "ELEC5516",
           "USYD"
          ],
          [
           "MECH5275",
           "USYD"
          ],
          [
           "MECH5310",
           "USYD"
          ],
          [
           "MECH5255",
           "USYD"
          ],
          [
           "BMET5963",
           "USYD"
          ],
          [
           "BMET5934",
           "USYD"
          ],
          [
           "BMET5959",
           "USYD"
          ],
          [
           "ELEC5760",
           "USYD"
          ],
          [
           "AMME5101",
           "USYD"
          ],
          [
           "CIVL5531",
           "USYD"
          ],
          [
           "AMME5510",
           "USYD"
          ],
          [
           "MECH5305",
           "USYD"
          ],
          [
           "CIVL5458",
           "USYD"
          ],
          [
           "BMET5995",
           "USYD"
          ],
          [
           "ELEC5305",
           "USYD"
          ],
          [
           "BMET5957",
           "USYD"
          ],
          [
           "CIVL5269",
           "USYD"
          ],
          [
           "ELEC5514",
           "USYD"
          ],
          [
           "ELEC5304",
           "USYD"
          ],
          [
           "CIVL5320",
           "USYD"
          ],
          [
           "ELEC5518",
           "USYD"
          ],
          [
           "MECH5304",
           "USYD"
          ],
          [
           "ELEC5308",
           "USYD"
          ],
          [
           "ELEC5207",
           "USYD"
          ],
          [
           "ELEC5616",
           "USYD"
          ],
          [
           "ELEC5211",
           "USYD"
          ],
          [
           "AERO5750",
           "USYD"
          ],
          [
           "BMET5911",
           "USYD"
          ],
          [
           "CIVL5452",
           "USYD"
          ],
          [
           "BMET5907",
           "USYD"
          ],
          [
           "AMME5520",
           "USYD"
          ],
          [
           "CIVL5999",
           "USYD"
          ],
          [
           "BMET5931",
           "USYD"
          ],
          [
           "AMME5202",
           "USYD"
          ],
          [
           "ELEC5620",
           "USYD"
          ],
          [
           "AMME5310",
           "USYD"
          ],
          [
           "ELEC5509",
           "USYD"
          ],
          [
           "ELEC5508",
           "USYD"
          ],
          [
           "CIVL5330",
           "USYD"
          ],
          [
           "CIVL5668",
           "USYD"
          ],
          [
           "CIVL5453",
           "USYD"
          ],
          [
           "ELEC5512",
           "USYD"
          ],
          [
           "CIVL5351",
           "USYD"
          ],
          [
           "CIVL5701",
           "USYD"
          ],
          [
           "BMET5992",
           "USYD"
          ],
          [
           "ELEC5206",
           "USYD"
          ],
          [
           "MECH5461",
           "USYD"
          ]
         ],
         "hovertemplate": "year=5<br>uni=%{customdata[1]}<br>x=%{x}<br>y=%{y}<br>subject_code=%{customdata[0]}<extra></extra>",
         "legendgroup": "5, USYD",
         "marker": {
          "color": "#FF6692",
          "symbol": "diamond"
         },
         "mode": "markers",
         "name": "5, USYD",
         "orientation": "v",
         "showlegend": true,
         "type": "scatter",
         "x": [
          26.5867977142334,
          32.26765441894531,
          24.043550491333008,
          30.881603240966797,
          26.412513732910156,
          25.4014892578125,
          16.7471981048584,
          28.876794815063477,
          23.061296463012695,
          22.16484832763672,
          23.63450813293457,
          23.026382446289062,
          -3.656144380569458,
          26.66962242126465,
          20.929973602294922,
          30.80257225036621,
          31.307249069213867,
          9.719051361083984,
          -7.311171531677246,
          -3.054893970489502,
          17.921422958374023,
          23.750234603881836,
          28.79081153869629,
          18.703821182250977,
          34.42769241333008,
          29.499435424804688,
          27.610258102416992,
          29.085880279541016,
          17.31104278564453,
          25.26773452758789,
          23.82794189453125,
          27.876970291137695,
          14.22827434539795,
          30.705835342407227,
          33.17159652709961,
          29.622661590576172,
          30.658037185668945,
          20.264474868774414,
          30.809097290039062,
          26.558870315551758,
          -2.4255211353302,
          19.320323944091797,
          32.12921142578125,
          25.704742431640625,
          24.276458740234375,
          -3.026310443878174,
          24.137720108032227,
          19.592599868774414,
          15.068792343139648,
          30.46915626525879,
          32.126190185546875,
          21.973773956298828,
          23.080598831176758,
          28.659931182861328,
          24.0898380279541,
          32.630279541015625,
          21.546884536743164,
          21.386302947998047,
          17.68236541748047,
          28.28864860534668,
          23.950931549072266,
          18.518049240112305,
          20.25751304626465,
          25.064971923828125,
          3.460447072982788,
          19.389413833618164,
          20.427650451660156,
          22.83562660217285,
          28.260868072509766,
          24.906402587890625,
          16.440990447998047,
          -8.07111644744873,
          29.11166763305664,
          34.75056457519531,
          30.001882553100586,
          19.68877601623535,
          20.539613723754883,
          32.321510314941406,
          22.422121047973633,
          18.81113624572754,
          33.0246696472168,
          -1.4867537021636963,
          23.65655517578125,
          -5.323817729949951,
          -0.5757317543029785,
          23.697248458862305,
          14.18087100982666,
          26.286100387573242,
          33.87617111206055,
          30.615171432495117,
          33.89902114868164,
          23.563383102416992,
          12.911293983459473,
          28.170888900756836
         ],
         "xaxis": "x",
         "y": [
          -0.8647620677947998,
          7.294464111328125,
          -10.075611114501953,
          -9.589641571044922,
          0.4849873185157776,
          -5.164849281311035,
          -12.724187850952148,
          -0.29303690791130066,
          -2.6461875438690186,
          -6.706937789916992,
          -6.660239219665527,
          -10.346736907958984,
          16.080469131469727,
          5.763484477996826,
          -0.045480236411094666,
          -1.6449633836746216,
          2.9661765098571777,
          -5.404728412628174,
          13.70219612121582,
          13.99686050415039,
          -4.444709777832031,
          -14.599632263183594,
          -6.683793067932129,
          -5.46782112121582,
          -3.793673276901245,
          -3.251472234725952,
          6.329241752624512,
          -5.852478981018066,
          10.409048080444336,
          -7.051008224487305,
          -14.996167182922363,
          -6.058840274810791,
          -3.2561473846435547,
          5.567497253417969,
          1.4077378511428833,
          4.8780059814453125,
          3.654864549636841,
          -0.004916756879538298,
          -10.208148002624512,
          -3.777974843978882,
          9.545379638671875,
          -2.2724671363830566,
          6.892868995666504,
          -5.236716270446777,
          3.970221996307373,
          9.472285270690918,
          3.7730777263641357,
          -4.038522720336914,
          -12.08469295501709,
          4.557323932647705,
          6.506205081939697,
          -8.419852256774902,
          -4.270907402038574,
          -12.053750991821289,
          4.302601337432861,
          4.900599002838135,
          1.8276890516281128,
          4.301239013671875,
          -6.7110772132873535,
          -1.2305529117584229,
          -3.6668331623077393,
          -3.1761488914489746,
          -6.219143390655518,
          -15.317492485046387,
          12.490144729614258,
          3.057957172393799,
          -0.9646666049957275,
          5.892786026000977,
          -12.368744850158691,
          0.7861232161521912,
          -4.748992443084717,
          27.39438247680664,
          -7.5885090827941895,
          1.0554039478302002,
          3.3740551471710205,
          -10.931662559509277,
          -2.9607386589050293,
          4.071707725524902,
          -0.8860369920730591,
          -9.314603805541992,
          1.4065525531768799,
          19.439632415771484,
          8.030755996704102,
          27.730026245117188,
          12.820731163024902,
          1.6614325046539307,
          -10.315118789672852,
          -2.605295419692993,
          -4.573892593383789,
          -6.390774250030518,
          -4.499998569488525,
          -0.05541423708200455,
          -1.8707735538482666,
          -2.4520668983459473
         ],
         "yaxis": "y"
        }
       ],
       "layout": {
        "legend": {
         "title": {
          "text": "year, uni"
         },
         "tracegroupgap": 0
        },
        "margin": {
         "t": 60
        },
        "template": {
         "data": {
          "bar": [
           {
            "error_x": {
             "color": "#2a3f5f"
            },
            "error_y": {
             "color": "#2a3f5f"
            },
            "marker": {
             "line": {
              "color": "#E5ECF6",
              "width": 0.5
             },
             "pattern": {
              "fillmode": "overlay",
              "size": 10,
              "solidity": 0.2
             }
            },
            "type": "bar"
           }
          ],
          "barpolar": [
           {
            "marker": {
             "line": {
              "color": "#E5ECF6",
              "width": 0.5
             },
             "pattern": {
              "fillmode": "overlay",
              "size": 10,
              "solidity": 0.2
             }
            },
            "type": "barpolar"
           }
          ],
          "carpet": [
           {
            "aaxis": {
             "endlinecolor": "#2a3f5f",
             "gridcolor": "white",
             "linecolor": "white",
             "minorgridcolor": "white",
             "startlinecolor": "#2a3f5f"
            },
            "baxis": {
             "endlinecolor": "#2a3f5f",
             "gridcolor": "white",
             "linecolor": "white",
             "minorgridcolor": "white",
             "startlinecolor": "#2a3f5f"
            },
            "type": "carpet"
           }
          ],
          "choropleth": [
           {
            "colorbar": {
             "outlinewidth": 0,
             "ticks": ""
            },
            "type": "choropleth"
           }
          ],
          "contour": [
           {
            "colorbar": {
             "outlinewidth": 0,
             "ticks": ""
            },
            "colorscale": [
             [
              0,
              "#0d0887"
             ],
             [
              0.1111111111111111,
              "#46039f"
             ],
             [
              0.2222222222222222,
              "#7201a8"
             ],
             [
              0.3333333333333333,
              "#9c179e"
             ],
             [
              0.4444444444444444,
              "#bd3786"
             ],
             [
              0.5555555555555556,
              "#d8576b"
             ],
             [
              0.6666666666666666,
              "#ed7953"
             ],
             [
              0.7777777777777778,
              "#fb9f3a"
             ],
             [
              0.8888888888888888,
              "#fdca26"
             ],
             [
              1,
              "#f0f921"
             ]
            ],
            "type": "contour"
           }
          ],
          "contourcarpet": [
           {
            "colorbar": {
             "outlinewidth": 0,
             "ticks": ""
            },
            "type": "contourcarpet"
           }
          ],
          "heatmap": [
           {
            "colorbar": {
             "outlinewidth": 0,
             "ticks": ""
            },
            "colorscale": [
             [
              0,
              "#0d0887"
             ],
             [
              0.1111111111111111,
              "#46039f"
             ],
             [
              0.2222222222222222,
              "#7201a8"
             ],
             [
              0.3333333333333333,
              "#9c179e"
             ],
             [
              0.4444444444444444,
              "#bd3786"
             ],
             [
              0.5555555555555556,
              "#d8576b"
             ],
             [
              0.6666666666666666,
              "#ed7953"
             ],
             [
              0.7777777777777778,
              "#fb9f3a"
             ],
             [
              0.8888888888888888,
              "#fdca26"
             ],
             [
              1,
              "#f0f921"
             ]
            ],
            "type": "heatmap"
           }
          ],
          "heatmapgl": [
           {
            "colorbar": {
             "outlinewidth": 0,
             "ticks": ""
            },
            "colorscale": [
             [
              0,
              "#0d0887"
             ],
             [
              0.1111111111111111,
              "#46039f"
             ],
             [
              0.2222222222222222,
              "#7201a8"
             ],
             [
              0.3333333333333333,
              "#9c179e"
             ],
             [
              0.4444444444444444,
              "#bd3786"
             ],
             [
              0.5555555555555556,
              "#d8576b"
             ],
             [
              0.6666666666666666,
              "#ed7953"
             ],
             [
              0.7777777777777778,
              "#fb9f3a"
             ],
             [
              0.8888888888888888,
              "#fdca26"
             ],
             [
              1,
              "#f0f921"
             ]
            ],
            "type": "heatmapgl"
           }
          ],
          "histogram": [
           {
            "marker": {
             "pattern": {
              "fillmode": "overlay",
              "size": 10,
              "solidity": 0.2
             }
            },
            "type": "histogram"
           }
          ],
          "histogram2d": [
           {
            "colorbar": {
             "outlinewidth": 0,
             "ticks": ""
            },
            "colorscale": [
             [
              0,
              "#0d0887"
             ],
             [
              0.1111111111111111,
              "#46039f"
             ],
             [
              0.2222222222222222,
              "#7201a8"
             ],
             [
              0.3333333333333333,
              "#9c179e"
             ],
             [
              0.4444444444444444,
              "#bd3786"
             ],
             [
              0.5555555555555556,
              "#d8576b"
             ],
             [
              0.6666666666666666,
              "#ed7953"
             ],
             [
              0.7777777777777778,
              "#fb9f3a"
             ],
             [
              0.8888888888888888,
              "#fdca26"
             ],
             [
              1,
              "#f0f921"
             ]
            ],
            "type": "histogram2d"
           }
          ],
          "histogram2dcontour": [
           {
            "colorbar": {
             "outlinewidth": 0,
             "ticks": ""
            },
            "colorscale": [
             [
              0,
              "#0d0887"
             ],
             [
              0.1111111111111111,
              "#46039f"
             ],
             [
              0.2222222222222222,
              "#7201a8"
             ],
             [
              0.3333333333333333,
              "#9c179e"
             ],
             [
              0.4444444444444444,
              "#bd3786"
             ],
             [
              0.5555555555555556,
              "#d8576b"
             ],
             [
              0.6666666666666666,
              "#ed7953"
             ],
             [
              0.7777777777777778,
              "#fb9f3a"
             ],
             [
              0.8888888888888888,
              "#fdca26"
             ],
             [
              1,
              "#f0f921"
             ]
            ],
            "type": "histogram2dcontour"
           }
          ],
          "mesh3d": [
           {
            "colorbar": {
             "outlinewidth": 0,
             "ticks": ""
            },
            "type": "mesh3d"
           }
          ],
          "parcoords": [
           {
            "line": {
             "colorbar": {
              "outlinewidth": 0,
              "ticks": ""
             }
            },
            "type": "parcoords"
           }
          ],
          "pie": [
           {
            "automargin": true,
            "type": "pie"
           }
          ],
          "scatter": [
           {
            "fillpattern": {
             "fillmode": "overlay",
             "size": 10,
             "solidity": 0.2
            },
            "type": "scatter"
           }
          ],
          "scatter3d": [
           {
            "line": {
             "colorbar": {
              "outlinewidth": 0,
              "ticks": ""
             }
            },
            "marker": {
             "colorbar": {
              "outlinewidth": 0,
              "ticks": ""
             }
            },
            "type": "scatter3d"
           }
          ],
          "scattercarpet": [
           {
            "marker": {
             "colorbar": {
              "outlinewidth": 0,
              "ticks": ""
             }
            },
            "type": "scattercarpet"
           }
          ],
          "scattergeo": [
           {
            "marker": {
             "colorbar": {
              "outlinewidth": 0,
              "ticks": ""
             }
            },
            "type": "scattergeo"
           }
          ],
          "scattergl": [
           {
            "marker": {
             "colorbar": {
              "outlinewidth": 0,
              "ticks": ""
             }
            },
            "type": "scattergl"
           }
          ],
          "scattermapbox": [
           {
            "marker": {
             "colorbar": {
              "outlinewidth": 0,
              "ticks": ""
             }
            },
            "type": "scattermapbox"
           }
          ],
          "scatterpolar": [
           {
            "marker": {
             "colorbar": {
              "outlinewidth": 0,
              "ticks": ""
             }
            },
            "type": "scatterpolar"
           }
          ],
          "scatterpolargl": [
           {
            "marker": {
             "colorbar": {
              "outlinewidth": 0,
              "ticks": ""
             }
            },
            "type": "scatterpolargl"
           }
          ],
          "scatterternary": [
           {
            "marker": {
             "colorbar": {
              "outlinewidth": 0,
              "ticks": ""
             }
            },
            "type": "scatterternary"
           }
          ],
          "surface": [
           {
            "colorbar": {
             "outlinewidth": 0,
             "ticks": ""
            },
            "colorscale": [
             [
              0,
              "#0d0887"
             ],
             [
              0.1111111111111111,
              "#46039f"
             ],
             [
              0.2222222222222222,
              "#7201a8"
             ],
             [
              0.3333333333333333,
              "#9c179e"
             ],
             [
              0.4444444444444444,
              "#bd3786"
             ],
             [
              0.5555555555555556,
              "#d8576b"
             ],
             [
              0.6666666666666666,
              "#ed7953"
             ],
             [
              0.7777777777777778,
              "#fb9f3a"
             ],
             [
              0.8888888888888888,
              "#fdca26"
             ],
             [
              1,
              "#f0f921"
             ]
            ],
            "type": "surface"
           }
          ],
          "table": [
           {
            "cells": {
             "fill": {
              "color": "#EBF0F8"
             },
             "line": {
              "color": "white"
             }
            },
            "header": {
             "fill": {
              "color": "#C8D4E3"
             },
             "line": {
              "color": "white"
             }
            },
            "type": "table"
           }
          ]
         },
         "layout": {
          "annotationdefaults": {
           "arrowcolor": "#2a3f5f",
           "arrowhead": 0,
           "arrowwidth": 1
          },
          "autotypenumbers": "strict",
          "coloraxis": {
           "colorbar": {
            "outlinewidth": 0,
            "ticks": ""
           }
          },
          "colorscale": {
           "diverging": [
            [
             0,
             "#8e0152"
            ],
            [
             0.1,
             "#c51b7d"
            ],
            [
             0.2,
             "#de77ae"
            ],
            [
             0.3,
             "#f1b6da"
            ],
            [
             0.4,
             "#fde0ef"
            ],
            [
             0.5,
             "#f7f7f7"
            ],
            [
             0.6,
             "#e6f5d0"
            ],
            [
             0.7,
             "#b8e186"
            ],
            [
             0.8,
             "#7fbc41"
            ],
            [
             0.9,
             "#4d9221"
            ],
            [
             1,
             "#276419"
            ]
           ],
           "sequential": [
            [
             0,
             "#0d0887"
            ],
            [
             0.1111111111111111,
             "#46039f"
            ],
            [
             0.2222222222222222,
             "#7201a8"
            ],
            [
             0.3333333333333333,
             "#9c179e"
            ],
            [
             0.4444444444444444,
             "#bd3786"
            ],
            [
             0.5555555555555556,
             "#d8576b"
            ],
            [
             0.6666666666666666,
             "#ed7953"
            ],
            [
             0.7777777777777778,
             "#fb9f3a"
            ],
            [
             0.8888888888888888,
             "#fdca26"
            ],
            [
             1,
             "#f0f921"
            ]
           ],
           "sequentialminus": [
            [
             0,
             "#0d0887"
            ],
            [
             0.1111111111111111,
             "#46039f"
            ],
            [
             0.2222222222222222,
             "#7201a8"
            ],
            [
             0.3333333333333333,
             "#9c179e"
            ],
            [
             0.4444444444444444,
             "#bd3786"
            ],
            [
             0.5555555555555556,
             "#d8576b"
            ],
            [
             0.6666666666666666,
             "#ed7953"
            ],
            [
             0.7777777777777778,
             "#fb9f3a"
            ],
            [
             0.8888888888888888,
             "#fdca26"
            ],
            [
             1,
             "#f0f921"
            ]
           ]
          },
          "colorway": [
           "#636efa",
           "#EF553B",
           "#00cc96",
           "#ab63fa",
           "#FFA15A",
           "#19d3f3",
           "#FF6692",
           "#B6E880",
           "#FF97FF",
           "#FECB52"
          ],
          "font": {
           "color": "#2a3f5f"
          },
          "geo": {
           "bgcolor": "white",
           "lakecolor": "white",
           "landcolor": "#E5ECF6",
           "showlakes": true,
           "showland": true,
           "subunitcolor": "white"
          },
          "hoverlabel": {
           "align": "left"
          },
          "hovermode": "closest",
          "mapbox": {
           "style": "light"
          },
          "paper_bgcolor": "white",
          "plot_bgcolor": "#E5ECF6",
          "polar": {
           "angularaxis": {
            "gridcolor": "white",
            "linecolor": "white",
            "ticks": ""
           },
           "bgcolor": "#E5ECF6",
           "radialaxis": {
            "gridcolor": "white",
            "linecolor": "white",
            "ticks": ""
           }
          },
          "scene": {
           "xaxis": {
            "backgroundcolor": "#E5ECF6",
            "gridcolor": "white",
            "gridwidth": 2,
            "linecolor": "white",
            "showbackground": true,
            "ticks": "",
            "zerolinecolor": "white"
           },
           "yaxis": {
            "backgroundcolor": "#E5ECF6",
            "gridcolor": "white",
            "gridwidth": 2,
            "linecolor": "white",
            "showbackground": true,
            "ticks": "",
            "zerolinecolor": "white"
           },
           "zaxis": {
            "backgroundcolor": "#E5ECF6",
            "gridcolor": "white",
            "gridwidth": 2,
            "linecolor": "white",
            "showbackground": true,
            "ticks": "",
            "zerolinecolor": "white"
           }
          },
          "shapedefaults": {
           "line": {
            "color": "#2a3f5f"
           }
          },
          "ternary": {
           "aaxis": {
            "gridcolor": "white",
            "linecolor": "white",
            "ticks": ""
           },
           "baxis": {
            "gridcolor": "white",
            "linecolor": "white",
            "ticks": ""
           },
           "bgcolor": "#E5ECF6",
           "caxis": {
            "gridcolor": "white",
            "linecolor": "white",
            "ticks": ""
           }
          },
          "title": {
           "x": 0.05
          },
          "xaxis": {
           "automargin": true,
           "gridcolor": "white",
           "linecolor": "white",
           "ticks": "",
           "title": {
            "standoff": 15
           },
           "zerolinecolor": "white",
           "zerolinewidth": 2
          },
          "yaxis": {
           "automargin": true,
           "gridcolor": "white",
           "linecolor": "white",
           "ticks": "",
           "title": {
            "standoff": 15
           },
           "zerolinecolor": "white",
           "zerolinewidth": 2
          }
         }
        },
        "title": {
         "text": "t-SNE visualization of DOC2VEC embeddings of UTS and USYD subjects by Year"
        },
        "xaxis": {
         "anchor": "y",
         "domain": [
          0,
          1
         ],
         "title": {
          "text": "First t-SNE"
         }
        },
        "yaxis": {
         "anchor": "x",
         "domain": [
          0,
          1
         ],
         "title": {
          "text": "Second t-SNE"
         }
        }
       }
      }
     },
     "metadata": {},
     "output_type": "display_data"
    }
   ],
   "source": [
    "show_year_plot(\"doc2vec\")"
   ]
  }
 ],
 "metadata": {
  "kernelspec": {
   "display_name": "py310",
   "language": "python",
   "name": "python3"
  },
  "language_info": {
   "codemirror_mode": {
    "name": "ipython",
    "version": 3
   },
   "file_extension": ".py",
   "mimetype": "text/x-python",
   "name": "python",
   "nbconvert_exporter": "python",
   "pygments_lexer": "ipython3",
   "version": "3.10.13"
  }
 },
 "nbformat": 4,
 "nbformat_minor": 2
}
