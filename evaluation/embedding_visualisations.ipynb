{
 "cells": [
  {
   "cell_type": "code",
   "execution_count": 116,
   "metadata": {},
   "outputs": [],
   "source": [
    "import os\n",
    "import json\n",
    "\n",
    "import pandas as pd\n",
    "import numpy as np\n",
    "from sklearn.manifold import TSNE\n",
    "import plotly.express as px"
   ]
  },
  {
   "cell_type": "code",
   "execution_count": 117,
   "metadata": {},
   "outputs": [],
   "source": [
    "with open(\"./data/degree_subject_codes/subject_to_degrees.json\") as f:\n",
    "    subject_to_degrees = json.load(f)"
   ]
  },
  {
   "cell_type": "code",
   "execution_count": 118,
   "metadata": {},
   "outputs": [],
   "source": [
    "with open(\"./data/major_rels/subject_to_majors.json\") as f:\n",
    "    subject_to_majors = json.load(f)"
   ]
  },
  {
   "cell_type": "code",
   "execution_count": 119,
   "metadata": {},
   "outputs": [],
   "source": [
    "with open(\"./data/degree_subject_codes/subject_to_median_year.json\") as f:\n",
    "    subject_to_median_year = json.load(f)"
   ]
  },
  {
   "cell_type": "code",
   "execution_count": 120,
   "metadata": {},
   "outputs": [],
   "source": [
    "subjects = {}"
   ]
  },
  {
   "cell_type": "code",
   "execution_count": 121,
   "metadata": {},
   "outputs": [],
   "source": [
    "for uni in [\"uts\", \"usyd\"]:\n",
    "  for embedding_type in os.listdir(f\"./data/embeddings/{uni}\"):\n",
    "    if embedding_type not in subjects:\n",
    "      subjects[embedding_type] = {\n",
    "        \"subject_codes\": [],\n",
    "        \"degrees\": [],\n",
    "        \"majors\": [],\n",
    "        \"median_years\": [],\n",
    "        \"embeddings\": []\n",
    "      }\n",
    "    \n",
    "    for embedding_file in os.listdir(f\"./data/embeddings/{uni}/{embedding_type}\"):\n",
    "      if not embedding_file.endswith(\".json\"):\n",
    "        continue\n",
    "      \n",
    "      subject_code = embedding_file.replace(\".json\", \"\")\n",
    "      \n",
    "      with open(f\"./data/embeddings/{uni}/{embedding_type}/{embedding_file}\", \"r\") as f:\n",
    "        embedding = json.load(f)\n",
    "        \n",
    "      subjects[embedding_type][\"subject_codes\"].append(subject_code)\n",
    "      subjects[embedding_type][\"degrees\"].append(subject_to_degrees[subject_code])\n",
    "      subjects[embedding_type][\"majors\"].append(subject_to_majors[subject_code])\n",
    "      subjects[embedding_type][\"median_years\"].append(subject_to_median_year[subject_code])\n",
    "      subjects[embedding_type][\"embeddings\"].append(embedding)"
   ]
  },
  {
   "cell_type": "code",
   "execution_count": 122,
   "metadata": {},
   "outputs": [],
   "source": [
    "degree_abbreviations = {\n",
    "  \"Bachelor of Engineering (Honours)\": \"ENGI\",\n",
    "  \"Bachelor of Computing Science (Honours)\": \"COMP\",\n",
    "  \"Bachelor of Advanced Computing\": \"COMP\",\n",
    "  \"Bachelor of Nursing (Advanced Studies)\": \"NURS\",\n",
    "  \"Bachelor of Nursing\": \"NURS\",\n",
    "}"
   ]
  },
  {
   "cell_type": "code",
   "execution_count": 123,
   "metadata": {},
   "outputs": [],
   "source": [
    "def get_degree_abbr(degrees):\n",
    "  if len(degrees) == 0:\n",
    "    return \"None\"\n",
    "  \n",
    "  # highest number of degrees is 2\n",
    "  if len(degrees) == 2:\n",
    "    return f\"ENGI - COMP\"\n",
    "  \n",
    "  return degree_abbreviations[degrees[0]]"
   ]
  },
  {
   "cell_type": "code",
   "execution_count": 124,
   "metadata": {},
   "outputs": [],
   "source": [
    "uts_to_usyd_major = {\n",
    "  \"Biomedical Engineering\": \"Biomedical\",\n",
    "  \"Civil Engineering\": \"Civil\",\n",
    "  \"Electrical Engineering\": \"Electrical\",\n",
    "  \"Electronic Engineering\": \"Electrical\",\n",
    "  \"Mechanical Engineering\": \"Mechanical\",\n",
    "  \"Mechatronic Engineering\": \"Mechatronic\",\n",
    "  \"Software Engineering\": \"Software\",\n",
    "  \"Civil and Environmental Engineering\": \"Civil\",\n",
    "  \"Mechanical and Mechatronic Engineering\": \"Mechatronic\",\n",
    "  \"Electrical and Electronic Engineering\": \"Electrical\",\n",
    "  \"Renewable Energy Engineering\": None,\n",
    "  \"Chemical Process Engineering\": None,\n",
    "  \"Data Science Engineering\": None,\n",
    "  \"Cybersecurity and Privacy\" : \"Cybersecurity\",\n",
    "  \"Enterprise Software Development\" : \"Software Development\",\n",
    "  \"Networking and Cybersecurity\" : \"Cybersecurity\",\n",
    "  \"Quantum Information Science\" : None,\n",
    "  \"Interaction Design\": None,\n",
    "  \"Mathematical Analysis\": None,\n",
    "  \"Business Information Systems Management\": None,\n",
    "  \"Artificial Intelligence and Data Analytics\": \"Computational Data Science\",\n",
    "}"
   ]
  },
  {
   "cell_type": "code",
   "execution_count": 125,
   "metadata": {},
   "outputs": [],
   "source": [
    "usyd_to_uts_major = { v: k for k, v in uts_to_usyd_major.items() }"
   ]
  },
  {
   "cell_type": "code",
   "execution_count": 126,
   "metadata": {},
   "outputs": [],
   "source": [
    "def get_major_label(majors):\n",
    "  if len(majors) == 1:\n",
    "    if majors[0] in usyd_to_uts_major:\n",
    "      return usyd_to_uts_major[majors[0]][:4].upper()\n",
    "    else:\n",
    "      return majors[0][:4].upper()\n",
    "    \n",
    "  if len(majors) >= 2:\n",
    "    major_abbreviations = []\n",
    "    \n",
    "    for major in majors:\n",
    "      if major in usyd_to_uts_major:\n",
    "        major_abbreviations.append(str(usyd_to_uts_major[major])[:4])\n",
    "      else:\n",
    "        major_abbreviations.append(major[:4])\n",
    "        \n",
    "    major_abbreviations = sorted(list(set(major_abbreviations)))\n",
    "    \n",
    "    return \" - \".join(major_abbreviations).upper()\n",
    "    \n",
    "  return \"CORE/NONE\""
   ]
  },
  {
   "cell_type": "code",
   "execution_count": 127,
   "metadata": {},
   "outputs": [],
   "source": [
    "sbert_embeddings = np.array([subject for subject in subjects[\"sbert\"][\"embeddings\"]])\n",
    "degrees = [get_degree_abbr(subject) for subject in subjects[\"sbert\"][\"degrees\"]]\n",
    "majors = [get_major_label(subject) for subject in subjects[\"sbert\"][\"majors\"]]\n",
    "unis = [\"UTS\" if subject_code.isdigit() else \"USYD\" for subject_code in subjects[\"sbert\"][\"subject_codes\"]]"
   ]
  },
  {
   "cell_type": "code",
   "execution_count": 128,
   "metadata": {},
   "outputs": [
    {
     "data": {
      "text/plain": [
       "0.6710178852081299"
      ]
     },
     "execution_count": 128,
     "metadata": {},
     "output_type": "execute_result"
    }
   ],
   "source": [
    "tsne = TSNE(n_components=2, random_state=42)\n",
    "X_tsne = tsne.fit_transform(sbert_embeddings)\n",
    "tsne.kl_divergence_"
   ]
  },
  {
   "cell_type": "code",
   "execution_count": 129,
   "metadata": {},
   "outputs": [],
   "source": [
    "sbert_subject_df = pd.DataFrame({\n",
    "  \"x\": X_tsne[:, 0],\n",
    "  \"y\": X_tsne[:, 1],\n",
    "  \"degree\": degrees,\n",
    "  \"major\": majors,\n",
    "  \"subject_code\": subjects[\"sbert\"][\"subject_codes\"],\n",
    "  \"uni\": unis\n",
    "})"
   ]
  },
  {
   "cell_type": "code",
   "execution_count": 130,
   "metadata": {},
   "outputs": [
    {
     "data": {
      "application/vnd.plotly.v1+json": {
       "config": {
        "plotlyServerURL": "https://plot.ly"
       },
       "data": [
        {
         "customdata": [
          [
           "48260",
           "UTS"
          ],
          [
           "48221",
           "UTS"
          ],
          [
           "41057",
           "UTS"
          ],
          [
           "41305",
           "UTS"
          ],
          [
           "41082",
           "UTS"
          ],
          [
           "41128",
           "UTS"
          ],
          [
           "41201",
           "UTS"
          ],
          [
           "49261",
           "UTS"
          ],
          [
           "91705",
           "UTS"
          ],
          [
           "42724",
           "UTS"
          ],
          [
           "41108",
           "UTS"
          ],
          [
           "41276",
           "UTS"
          ],
          [
           "16138",
           "UTS"
          ],
          [
           "48850",
           "UTS"
          ],
          [
           "43123",
           "UTS"
          ],
          [
           "91400",
           "UTS"
          ],
          [
           "41124",
           "UTS"
          ],
          [
           "48610",
           "UTS"
          ],
          [
           "42026",
           "UTS"
          ],
          [
           "48352",
           "UTS"
          ],
          [
           "48353",
           "UTS"
          ],
          [
           "41125",
           "UTS"
          ],
          [
           "41060",
           "UTS"
          ],
          [
           "16912",
           "UTS"
          ],
          [
           "60101",
           "UTS"
          ],
          [
           "41099",
           "UTS"
          ],
          [
           "41308",
           "UTS"
          ],
          [
           "43026",
           "UTS"
          ],
          [
           "41277",
           "UTS"
          ],
          [
           "16314",
           "UTS"
          ],
          [
           "41200",
           "UTS"
          ],
          [
           "41129",
           "UTS"
          ],
          [
           "48430",
           "UTS"
          ],
          [
           "48349",
           "UTS"
          ],
          [
           "41056",
           "UTS"
          ],
          [
           "41386",
           "UTS"
          ],
          [
           "42722",
           "UTS"
          ],
          [
           "43021",
           "UTS"
          ],
          [
           "41118",
           "UTS"
          ],
          [
           "41163",
           "UTS"
          ],
          [
           "41088",
           "UTS"
          ],
          [
           "41067",
           "UTS"
          ],
          [
           "48641",
           "UTS"
          ],
          [
           "41030",
           "UTS"
          ],
          [
           "41381",
           "UTS"
          ],
          [
           "48362",
           "UTS"
          ],
          [
           "68412",
           "UTS"
          ],
          [
           "43017",
           "UTS"
          ],
          [
           "48572",
           "UTS"
          ],
          [
           "48821",
           "UTS"
          ],
          [
           "41084",
           "UTS"
          ],
          [
           "48860",
           "UTS"
          ],
          [
           "26101",
           "UTS"
          ],
          [
           "42095",
           "UTS"
          ],
          [
           "41085",
           "UTS"
          ],
          [
           "68038",
           "UTS"
          ],
          [
           "41302",
           "UTS"
          ],
          [
           "16471",
           "UTS"
          ],
          [
           "42001",
           "UTS"
          ],
          [
           "48230",
           "UTS"
          ],
          [
           "41380",
           "UTS"
          ],
          [
           "41089",
           "UTS"
          ],
          [
           "41066",
           "UTS"
          ],
          [
           "41070",
           "UTS"
          ],
          [
           "41162",
           "UTS"
          ],
          [
           "49047",
           "UTS"
          ],
          [
           "43124",
           "UTS"
          ],
          [
           "48441",
           "UTS"
          ],
          [
           "31061",
           "UTS"
          ],
          [
           "48881",
           "UTS"
          ],
          [
           "68037",
           "UTS"
          ],
          [
           "43019",
           "UTS"
          ],
          [
           "41161",
           "UTS"
          ],
          [
           "48340",
           "UTS"
          ],
          [
           "48550",
           "UTS"
          ],
          [
           "65111",
           "UTS"
          ],
          [
           "48531",
           "UTS"
          ],
          [
           "41069",
           "UTS"
          ],
          [
           "41086",
           "UTS"
          ],
          [
           "41301",
           "UTS"
          ],
          [
           "41028",
           "UTS"
          ],
          [
           "43015",
           "UTS"
          ],
          [
           "41053",
           "UTS"
          ],
          [
           "48622",
           "UTS"
          ],
          [
           "48360",
           "UTS"
          ],
          [
           "41012",
           "UTS"
          ],
          [
           "41383",
           "UTS"
          ],
          [
           "48321",
           "UTS"
          ],
          [
           "48320",
           "UTS"
          ],
          [
           "41382",
           "UTS"
          ],
          [
           "41013",
           "UTS"
          ],
          [
           "41117",
           "UTS"
          ],
          [
           "43014",
           "UTS"
          ],
          [
           "41029",
           "UTS"
          ],
          [
           "48434",
           "UTS"
          ],
          [
           "41091",
           "UTS"
          ],
          [
           "16263",
           "UTS"
          ],
          [
           "41068",
           "UTS"
          ],
          [
           "41087",
           "UTS"
          ],
          [
           "48530",
           "UTS"
          ],
          [
           "48510",
           "UTS"
          ],
          [
           "43022",
           "UTS"
          ],
          [
           "43018",
           "UTS"
          ],
          [
           "41160",
           "UTS"
          ],
          [
           "41033",
           "UTS"
          ],
          [
           "41203",
           "UTS"
          ],
          [
           "48521",
           "UTS"
          ],
          [
           "91822",
           "UTS"
          ],
          [
           "48331",
           "UTS"
          ],
          [
           "41055",
           "UTS"
          ],
          [
           "48366",
           "UTS"
          ],
          [
           "48389",
           "UTS"
          ],
          [
           "41278",
           "UTS"
          ],
          [
           "49131",
           "UTS"
          ],
          [
           "48370",
           "UTS"
          ],
          [
           "41014",
           "UTS"
          ],
          [
           "41385",
           "UTS"
          ],
          [
           "41034",
           "UTS"
          ],
          [
           "48350",
           "UTS"
          ],
          [
           "65212",
           "UTS"
          ],
          [
           "49150",
           "UTS"
          ],
          [
           "41059",
           "UTS"
          ],
          [
           "48540",
           "UTS"
          ],
          [
           "41058",
           "UTS"
          ],
          [
           "49151",
           "UTS"
          ],
          [
           "48310",
           "UTS"
          ],
          [
           "41127",
           "UTS"
          ],
          [
           "48582",
           "UTS"
          ],
          [
           "41035",
           "UTS"
          ],
          [
           "41384",
           "UTS"
          ],
          [
           "48371",
           "UTS"
          ],
          [
           "91161",
           "UTS"
          ],
          [
           "16422",
           "UTS"
          ],
          [
           "48330",
           "UTS"
          ],
          [
           "41054",
           "UTS"
          ],
          [
           "48520",
           "UTS"
          ],
          [
           "41202",
           "UTS"
          ],
          [
           "48023",
           "UTS"
          ],
          [
           "48561",
           "UTS"
          ]
         ],
         "hovertemplate": "<b>%{hovertext}</b><br><br>degree=ENGI<br>uni=%{customdata[1]}<br>x=%{x}<br>y=%{y}<br>subject_code=%{customdata[0]}<extra></extra>",
         "hovertext": [
          "48260",
          "48221",
          "41057",
          "41305",
          "41082",
          "41128",
          "41201",
          "49261",
          "91705",
          "42724",
          "41108",
          "41276",
          "16138",
          "48850",
          "43123",
          "91400",
          "41124",
          "48610",
          "42026",
          "48352",
          "48353",
          "41125",
          "41060",
          "16912",
          "60101",
          "41099",
          "41308",
          "43026",
          "41277",
          "16314",
          "41200",
          "41129",
          "48430",
          "48349",
          "41056",
          "41386",
          "42722",
          "43021",
          "41118",
          "41163",
          "41088",
          "41067",
          "48641",
          "41030",
          "41381",
          "48362",
          "68412",
          "43017",
          "48572",
          "48821",
          "41084",
          "48860",
          "26101",
          "42095",
          "41085",
          "68038",
          "41302",
          "16471",
          "42001",
          "48230",
          "41380",
          "41089",
          "41066",
          "41070",
          "41162",
          "49047",
          "43124",
          "48441",
          "31061",
          "48881",
          "68037",
          "43019",
          "41161",
          "48340",
          "48550",
          "65111",
          "48531",
          "41069",
          "41086",
          "41301",
          "41028",
          "43015",
          "41053",
          "48622",
          "48360",
          "41012",
          "41383",
          "48321",
          "48320",
          "41382",
          "41013",
          "41117",
          "43014",
          "41029",
          "48434",
          "41091",
          "16263",
          "41068",
          "41087",
          "48530",
          "48510",
          "43022",
          "43018",
          "41160",
          "41033",
          "41203",
          "48521",
          "91822",
          "48331",
          "41055",
          "48366",
          "48389",
          "41278",
          "49131",
          "48370",
          "41014",
          "41385",
          "41034",
          "48350",
          "65212",
          "49150",
          "41059",
          "48540",
          "41058",
          "49151",
          "48310",
          "41127",
          "48582",
          "41035",
          "41384",
          "48371",
          "91161",
          "16422",
          "48330",
          "41054",
          "48520",
          "41202",
          "48023",
          "48561"
         ],
         "legendgroup": "ENGI, UTS",
         "marker": {
          "color": "#636efa",
          "symbol": "circle"
         },
         "mode": "markers",
         "name": "ENGI, UTS",
         "orientation": "v",
         "showlegend": true,
         "type": "scatter",
         "x": [
          21.947690963745117,
          20.79869270324707,
          9.983866691589355,
          14.068242073059082,
          18.82087516784668,
          20.550966262817383,
          21.63924217224121,
          -6.132052898406982,
          -3.600862741470337,
          -5.68865966796875,
          17.64749526977539,
          13.279741287231445,
          27.99498176574707,
          25.066987991333008,
          29.526229858398438,
          -3.6617164611816406,
          32.39242935180664,
          13.7398099899292,
          -5.099449634552002,
          22.916973114013672,
          24.877307891845703,
          29.305641174316406,
          12.897957801818848,
          27.61367416381836,
          8.045547485351562,
          7.077611923217773,
          12.775858879089355,
          31.179574966430664,
          16.5894718170166,
          28.145343780517578,
          23.990116119384766,
          21.230051040649414,
          19.832237243652344,
          21.399513244628906,
          12.760293006896973,
          17.905399322509766,
          -3.9901156425476074,
          -6.841164588928223,
          7.710947036743164,
          -7.692300319671631,
          20.74640464782715,
          12.225218772888184,
          20.1263370513916,
          20.825000762939453,
          20.0911922454834,
          21.740413665771484,
          15.578363418579102,
          12.527506828308105,
          32.23390197753906,
          23.621000289916992,
          18.853864669799805,
          24.74062156677246,
          -5.383638381958008,
          25.74053382873535,
          19.478784561157227,
          5.224191665649414,
          16.383075714111328,
          28.887866973876953,
          -5.973542213439941,
          22.182844161987305,
          20.63129425048828,
          21.032970428466797,
          12.41187858581543,
          7.474794387817383,
          -7.450472831726074,
          24.89225196838379,
          29.77703285217285,
          17.14267349243164,
          16.049278259277344,
          22.916778564453125,
          5.234441757202148,
          10.941329956054688,
          -6.086745738983154,
          23.841772079467773,
          31.25624656677246,
          7.623669624328613,
          15.422689437866211,
          9.070893287658691,
          19.599184036254883,
          18.49571418762207,
          22.46393585205078,
          9.999582290649414,
          17.351184844970703,
          7.689036846160889,
          24.91851234436035,
          8.13818073272705,
          18.90147590637207,
          19.769886016845703,
          26.18129539489746,
          21.369197845458984,
          8.422109603881836,
          19.636795043945312,
          14.288198471069336,
          21.458250045776367,
          19.10987663269043,
          17.51874542236328,
          26.89314079284668,
          9.05305004119873,
          20.37789535522461,
          15.050666809082031,
          17.157079696655273,
          -7.14728307723999,
          13.902274131774902,
          -6.9478607177734375,
          14.758810997009277,
          27.777673721313477,
          16.532024383544922,
          -2.6393673419952393,
          19.404254913330078,
          22.47101593017578,
          22.605575561523438,
          23.796283721923828,
          32.60423278808594,
          23.16666030883789,
          23.221529006958008,
          8.349635124206543,
          17.868656158447266,
          14.175196647644043,
          23.68408203125,
          7.881251335144043,
          25.632858276367188,
          12.557950973510742,
          15.811212539672852,
          13.740711212158203,
          24.391374588012695,
          24.059783935546875,
          21.559478759765625,
          32.44806671142578,
          23.794029235839844,
          21.0383243560791,
          20.686017990112305,
          -2.2156944274902344,
          28.307493209838867,
          24.951391220092773,
          14.264443397521973,
          15.420924186706543,
          23.26305389404297,
          18.684551239013672,
          31.277021408081055
         ],
         "xaxis": "x",
         "y": [
          7.276883125305176,
          4.1701741218566895,
          8.750871658325195,
          13.36357593536377,
          10.97419261932373,
          17.76498794555664,
          6.058587074279785,
          11.580414772033691,
          15.603584289550781,
          9.2639741897583,
          6.139352321624756,
          10.983763694763184,
          10.075169563293457,
          -0.46995046734809875,
          -0.9772199988365173,
          15.19942855834961,
          1.415951132774353,
          0.22915396094322205,
          11.824009895324707,
          2.1591782569885254,
          2.9118845462799072,
          -0.3064350187778473,
          1.1837812662124634,
          6.513923168182373,
          11.766417503356934,
          0.7764318585395813,
          15.003508567810059,
          -1.0231090784072876,
          12.972058296203613,
          7.184499263763428,
          8.468911170959473,
          16.923622131347656,
          15.700879096984863,
          2.2505974769592285,
          7.2806925773620605,
          0.36598387360572815,
          11.528131484985352,
          12.008907318115234,
          5.077188014984131,
          11.754129409790039,
          13.044441223144531,
          0.5472383499145508,
          -3.582594156265259,
          8.32772159576416,
          -3.844851016998291,
          -3.8276352882385254,
          -2.6544599533081055,
          7.1946330070495605,
          2.9321067333221436,
          -1.1496894359588623,
          12.643712043762207,
          -2.208305835723877,
          15.823039054870605,
          10.795083999633789,
          13.079607963562012,
          13.696934700012207,
          4.139747142791748,
          8.841679573059082,
          10.655598640441895,
          7.239978790283203,
          0.4055919647216797,
          12.770058631896973,
          0.21289576590061188,
          1.604812502861023,
          11.319883346557617,
          5.344365119934082,
          -0.44629257917404175,
          10.187638282775879,
          21.223772048950195,
          -2.570014715194702,
          12.845626831054688,
          0.9553958773612976,
          12.86751937866211,
          0.842293381690979,
          0.43986591696739197,
          11.06806755065918,
          8.619297981262207,
          4.040181636810303,
          14.009713172912598,
          5.748212814331055,
          9.283146858215332,
          8.739442825317383,
          4.0979814529418945,
          1.3566014766693115,
          -4.3946356773376465,
          1.2383390665054321,
          -0.5311586260795593,
          2.998528242111206,
          1.1914496421813965,
          0.737056314945221,
          3.4457733631134033,
          -1.3488725423812866,
          2.657130241394043,
          7.713497161865234,
          15.60494613647461,
          16.16872215270996,
          6.898138523101807,
          4.059661865234375,
          14.023014068603516,
          11.132360458374023,
          9.38607120513916,
          12.287446022033691,
          6.216235160827637,
          10.875393867492676,
          9.911376953125,
          12.628789901733398,
          9.512687683105469,
          16.350954055786133,
          1.942149043083191,
          9.606779098510742,
          3.2877044677734375,
          5.979647636413574,
          3.654066801071167,
          4.875391960144043,
          0.2470201700925827,
          0.338079035282135,
          0.3749315142631531,
          10.018000602722168,
          -1.6276766061782837,
          11.82329273223877,
          3.126988410949707,
          1.3045156002044678,
          11.685667037963867,
          6.431547164916992,
          3.0212509632110596,
          0.2383183389902115,
          17.446910858154297,
          2.486656427383423,
          11.7025146484375,
          -1.452996850013733,
          4.2872538566589355,
          16.703935623168945,
          7.078436851501465,
          -4.610751628875732,
          2.4976859092712402,
          10.612162590026855,
          8.5907564163208,
          20.22406578063965,
          0.4006654620170593
         ],
         "yaxis": "y"
        },
        {
         "customdata": [
          [
           "ELEC2104",
           "USYD"
          ],
          [
           "BMET2901",
           "USYD"
          ],
          [
           "ELEC5507",
           "USYD"
          ],
          [
           "ELEC3607",
           "USYD"
          ],
          [
           "AMME5060",
           "USYD"
          ],
          [
           "BMET5790",
           "USYD"
          ],
          [
           "ELEC3304",
           "USYD"
          ],
          [
           "CIVL1110",
           "USYD"
          ],
          [
           "BMET5944",
           "USYD"
          ],
          [
           "ELEC5511",
           "USYD"
          ],
          [
           "ELEC5213",
           "USYD"
          ],
          [
           "MECH3261",
           "USYD"
          ],
          [
           "CIVL5702",
           "USYD"
          ],
          [
           "ELEC5205",
           "USYD"
          ],
          [
           "PHYS1003",
           "USYD"
          ],
          [
           "ELEC5622",
           "USYD"
          ],
          [
           "ENGP1002",
           "USYD"
          ],
          [
           "CHEM1991",
           "USYD"
          ],
          [
           "ENGG2112",
           "USYD"
          ],
          [
           "AMME4112",
           "USYD"
          ],
          [
           "CIVL5276",
           "USYD"
          ],
          [
           "BMET3961",
           "USYD"
          ],
          [
           "BMET2960",
           "USYD"
          ],
          [
           "BMET5933",
           "USYD"
          ],
          [
           "CIVL1022",
           "USYD"
          ],
          [
           "BMET5964",
           "USYD"
          ],
          [
           "AMME5902",
           "USYD"
          ],
          [
           "MATH2061",
           "USYD"
          ],
          [
           "CIVL5535",
           "USYD"
          ],
          [
           "AMME5105",
           "USYD"
          ],
          [
           "AMME5104",
           "USYD"
          ],
          [
           "ELEC5208",
           "USYD"
          ],
          [
           "ENGG3112",
           "USYD"
          ],
          [
           "PHYS2213",
           "USYD"
          ],
          [
           "MTRX1705",
           "USYD"
          ],
          [
           "CIVL5670",
           "USYD"
          ],
          [
           "DATA1002",
           "USYD"
          ],
          [
           "CIVL5277",
           "USYD"
          ],
          [
           "AMME2301",
           "USYD"
          ],
          [
           "MECH1400",
           "USYD"
          ],
          [
           "ENGP1003",
           "USYD"
          ],
          [
           "BMET3921",
           "USYD"
          ],
          [
           "CIVL4903",
           "USYD"
          ],
          [
           "ELEC5204",
           "USYD"
          ],
          [
           "ELEC3104",
           "USYD"
          ],
          [
           "CIVL3511",
           "USYD"
          ],
          [
           "CIVL5703",
           "USYD"
          ],
          [
           "MECH3260",
           "USYD"
          ],
          [
           "BMET4010",
           "USYD"
          ],
          [
           "ELEC5212",
           "USYD"
          ],
          [
           "ELEC5510",
           "USYD"
          ],
          [
           "CIVL1900",
           "USYD"
          ],
          [
           "ELEC3702",
           "USYD"
          ],
          [
           "MECH5265",
           "USYD"
          ],
          [
           "ELEC3610",
           "USYD"
          ],
          [
           "CIVL3205",
           "USYD"
          ],
          [
           "ELEC3305",
           "USYD"
          ],
          [
           "ELEC5101",
           "USYD"
          ],
          [
           "CIVL3614",
           "USYD"
          ],
          [
           "BMET5953",
           "USYD"
          ],
          [
           "AMME4010",
           "USYD"
          ],
          [
           "BMET5958",
           "USYD"
          ],
          [
           "BMET3971",
           "USYD"
          ],
          [
           "CIVL5266",
           "USYD"
          ],
          [
           "AMME4401",
           "USYD"
          ],
          [
           "MECH2401",
           "USYD"
          ],
          [
           "ENGP2002",
           "USYD"
          ],
          [
           "CIVL5460",
           "USYD"
          ],
          [
           "MTRX1702",
           "USYD"
          ],
          [
           "BMET5962",
           "USYD"
          ],
          [
           "AMME1802",
           "USYD"
          ],
          [
           "AMME5292",
           "USYD"
          ],
          [
           "MTRX5700",
           "USYD"
          ],
          [
           "AMME5912",
           "USYD"
          ],
          [
           "MECH5311",
           "USYD"
          ],
          [
           "AMME2500",
           "USYD"
          ],
          [
           "CIVL5533",
           "USYD"
          ],
          [
           "BMET1960",
           "USYD"
          ],
          [
           "ELEC3206",
           "USYD"
          ],
          [
           "CIVL3310",
           "USYD"
          ],
          [
           "MECH5720",
           "USYD"
          ],
          [
           "ELEC5517",
           "USYD"
          ],
          [
           "BMET3802",
           "USYD"
          ],
          [
           "CIVL5704",
           "USYD"
          ],
          [
           "CIVL4816",
           "USYD"
          ],
          [
           "ISYS3402",
           "USYD"
          ],
          [
           "MECH2460",
           "USYD"
          ],
          [
           "AMME5271",
           "USYD"
          ],
          [
           "ELEC5203",
           "USYD"
          ],
          [
           "CHNG4203",
           "USYD"
          ],
          [
           "CIVL2700",
           "USYD"
          ],
          [
           "MECH3362",
           "USYD"
          ],
          [
           "ELEC3505",
           "USYD"
          ],
          [
           "BMET4112",
           "USYD"
          ],
          [
           "CIVL4817",
           "USYD"
          ],
          [
           "BMET5996",
           "USYD"
          ],
          [
           "ELEC2302",
           "USYD"
          ],
          [
           "ELEC5701",
           "USYD"
          ],
          [
           "AMME2262",
           "USYD"
          ],
          [
           "BMET4981",
           "USYD"
          ],
          [
           "ELEC5516",
           "USYD"
          ],
          [
           "CHNG4812",
           "USYD"
          ],
          [
           "CIVL1802",
           "USYD"
          ],
          [
           "MECH5275",
           "USYD"
          ],
          [
           "CIVL2812",
           "USYD"
          ],
          [
           "STAT2911",
           "USYD"
          ],
          [
           "MECH3460",
           "USYD"
          ],
          [
           "ELEC2103",
           "USYD"
          ],
          [
           "CIVL3612",
           "USYD"
          ],
          [
           "CIVL3235",
           "USYD"
          ],
          [
           "BMET1961",
           "USYD"
          ],
          [
           "MECH5310",
           "USYD"
          ],
          [
           "MECH5255",
           "USYD"
          ],
          [
           "BMET5963",
           "USYD"
          ],
          [
           "ENGP3002",
           "USYD"
          ],
          [
           "CHNG1108",
           "USYD"
          ],
          [
           "BMET5934",
           "USYD"
          ],
          [
           "ENGP2003",
           "USYD"
          ],
          [
           "MECH2400",
           "USYD"
          ],
          [
           "CIVL4860",
           "USYD"
          ],
          [
           "ENGG1810",
           "USYD"
          ],
          [
           "AMME3500",
           "USYD"
          ],
          [
           "AERO1560",
           "USYD"
          ],
          [
           "BMET5959",
           "USYD"
          ],
          [
           "ELEC5760",
           "USYD"
          ],
          [
           "AMME5101",
           "USYD"
          ],
          [
           "AMME4710",
           "USYD"
          ],
          [
           "CIVL5531",
           "USYD"
          ],
          [
           "BMET3660",
           "USYD"
          ],
          [
           "CIVL4818",
           "USYD"
          ],
          [
           "BMET2925",
           "USYD"
          ],
          [
           "ENGP3001",
           "USYD"
          ],
          [
           "AMME5510",
           "USYD"
          ],
          [
           "MECH5305",
           "USYD"
          ],
          [
           "CIVL5458",
           "USYD"
          ],
          [
           "AMME2200",
           "USYD"
          ],
          [
           "AMME1705",
           "USYD"
          ],
          [
           "ELEC2602",
           "USYD"
          ],
          [
           "MECH3361",
           "USYD"
          ],
          [
           "MECH1560",
           "USYD"
          ],
          [
           "BMET4111",
           "USYD"
          ],
          [
           "ELEC3802",
           "USYD"
          ],
          [
           "MATH2069",
           "USYD"
          ],
          [
           "BMET5995",
           "USYD"
          ],
          [
           "ELEC5305",
           "USYD"
          ],
          [
           "CIVL3806",
           "USYD"
          ],
          [
           "CIVL2201",
           "USYD"
          ],
          [
           "AMME2261",
           "USYD"
          ],
          [
           "CHNG4811",
           "USYD"
          ],
          [
           "BMET3990",
           "USYD"
          ],
          [
           "STAT2011",
           "USYD"
          ],
          [
           "ELEC2100",
           "USYD"
          ],
          [
           "ELEC3204",
           "USYD"
          ],
          [
           "BMET5957",
           "USYD"
          ],
          [
           "CIVL5269",
           "USYD"
          ],
          [
           "BUSS1030",
           "USYD"
          ],
          [
           "BMET2400",
           "USYD"
          ],
          [
           "ELEC4714",
           "USYD"
          ],
          [
           "CIVL2410",
           "USYD"
          ],
          [
           "CIVL3411",
           "USYD"
          ],
          [
           "ELEC5304",
           "USYD"
          ],
          [
           "AMME1362",
           "USYD"
          ],
          [
           "AMME3060",
           "USYD"
          ],
          [
           "ELEC3803",
           "USYD"
          ],
          [
           "CIVL2611",
           "USYD"
          ],
          [
           "CIVL3811",
           "USYD"
          ],
          [
           "CIVL5320",
           "USYD"
          ],
          [
           "ELEC5518",
           "USYD"
          ],
          [
           "ENGP2001",
           "USYD"
          ],
          [
           "MTRX1701",
           "USYD"
          ],
          [
           "AMME2000",
           "USYD"
          ],
          [
           "MECH5304",
           "USYD"
          ],
          [
           "MATH1062",
           "USYD"
          ],
          [
           "ELEC5308",
           "USYD"
          ],
          [
           "CIVL4819",
           "USYD"
          ],
          [
           "CHEM1111",
           "USYD"
          ],
          [
           "ELEC5207",
           "USYD"
          ],
          [
           "CIVL4812",
           "USYD"
          ],
          [
           "MKTG1001",
           "USYD"
          ],
          [
           "ELEC3404",
           "USYD"
          ],
          [
           "MTRX3760",
           "USYD"
          ],
          [
           "MECH4660",
           "USYD"
          ],
          [
           "ELEC5211",
           "USYD"
          ],
          [
           "AERO5750",
           "USYD"
          ],
          [
           "CIVL2010",
           "USYD"
          ],
          [
           "CIVL3206",
           "USYD"
          ],
          [
           "BMET5911",
           "USYD"
          ],
          [
           "CIVL5452",
           "USYD"
          ],
          [
           "ELEC4713",
           "USYD"
          ],
          [
           "ELEC1004",
           "USYD"
          ],
          [
           "BMET5907",
           "USYD"
          ],
          [
           "CIVL3705",
           "USYD"
          ],
          [
           "BMET2903",
           "USYD"
          ],
          [
           "AMME5520",
           "USYD"
          ],
          [
           "MTRX2700",
           "USYD"
          ],
          [
           "CIVL5999",
           "USYD"
          ],
          [
           "CHEM1911",
           "USYD"
          ],
          [
           "BMET5931",
           "USYD"
          ],
          [
           "DATA1902",
           "USYD"
          ],
          [
           "CIVL4023",
           "USYD"
          ],
          [
           "ELEC3609",
           "USYD"
          ],
          [
           "AMME5202",
           "USYD"
          ],
          [
           "AMME5310",
           "USYD"
          ],
          [
           "PHYS1001",
           "USYD"
          ],
          [
           "ENGP1001",
           "USYD"
          ],
          [
           "MTRX3700",
           "USYD"
          ],
          [
           "CIVL4022",
           "USYD"
          ],
          [
           "ELEC3608",
           "USYD"
          ],
          [
           "AMME4111",
           "USYD"
          ],
          [
           "CIVL5330",
           "USYD"
          ],
          [
           "BMET2922",
           "USYD"
          ],
          [
           "CIVL5668",
           "USYD"
          ],
          [
           "ELEC3203",
           "USYD"
          ],
          [
           "BMET2902",
           "USYD"
          ],
          [
           "BMET3997",
           "USYD"
          ],
          [
           "CIVL3704",
           "USYD"
          ],
          [
           "CIVL5453",
           "USYD"
          ],
          [
           "ELEC4712",
           "USYD"
          ],
          [
           "MECH4460",
           "USYD"
          ],
          [
           "ELEC1005",
           "USYD"
          ],
          [
           "ELEC3612",
           "USYD"
          ],
          [
           "CIVL1810",
           "USYD"
          ],
          [
           "CIVL4203",
           "USYD"
          ],
          [
           "ELEC5512",
           "USYD"
          ],
          [
           "ELEC3405",
           "USYD"
          ],
          [
           "CIVL5351",
           "USYD"
          ],
          [
           "CIVL5701",
           "USYD"
          ],
          [
           "BMET5992",
           "USYD"
          ],
          [
           "ELEC4505",
           "USYD"
          ],
          [
           "ELEC5206",
           "USYD"
          ],
          [
           "MECH5461",
           "USYD"
          ]
         ],
         "hovertemplate": "<b>%{hovertext}</b><br><br>degree=ENGI<br>uni=%{customdata[1]}<br>x=%{x}<br>y=%{y}<br>subject_code=%{customdata[0]}<extra></extra>",
         "hovertext": [
          "ELEC2104",
          "BMET2901",
          "ELEC5507",
          "ELEC3607",
          "AMME5060",
          "BMET5790",
          "ELEC3304",
          "CIVL1110",
          "BMET5944",
          "ELEC5511",
          "ELEC5213",
          "MECH3261",
          "CIVL5702",
          "ELEC5205",
          "PHYS1003",
          "ELEC5622",
          "ENGP1002",
          "CHEM1991",
          "ENGG2112",
          "AMME4112",
          "CIVL5276",
          "BMET3961",
          "BMET2960",
          "BMET5933",
          "CIVL1022",
          "BMET5964",
          "AMME5902",
          "MATH2061",
          "CIVL5535",
          "AMME5105",
          "AMME5104",
          "ELEC5208",
          "ENGG3112",
          "PHYS2213",
          "MTRX1705",
          "CIVL5670",
          "DATA1002",
          "CIVL5277",
          "AMME2301",
          "MECH1400",
          "ENGP1003",
          "BMET3921",
          "CIVL4903",
          "ELEC5204",
          "ELEC3104",
          "CIVL3511",
          "CIVL5703",
          "MECH3260",
          "BMET4010",
          "ELEC5212",
          "ELEC5510",
          "CIVL1900",
          "ELEC3702",
          "MECH5265",
          "ELEC3610",
          "CIVL3205",
          "ELEC3305",
          "ELEC5101",
          "CIVL3614",
          "BMET5953",
          "AMME4010",
          "BMET5958",
          "BMET3971",
          "CIVL5266",
          "AMME4401",
          "MECH2401",
          "ENGP2002",
          "CIVL5460",
          "MTRX1702",
          "BMET5962",
          "AMME1802",
          "AMME5292",
          "MTRX5700",
          "AMME5912",
          "MECH5311",
          "AMME2500",
          "CIVL5533",
          "BMET1960",
          "ELEC3206",
          "CIVL3310",
          "MECH5720",
          "ELEC5517",
          "BMET3802",
          "CIVL5704",
          "CIVL4816",
          "ISYS3402",
          "MECH2460",
          "AMME5271",
          "ELEC5203",
          "CHNG4203",
          "CIVL2700",
          "MECH3362",
          "ELEC3505",
          "BMET4112",
          "CIVL4817",
          "BMET5996",
          "ELEC2302",
          "ELEC5701",
          "AMME2262",
          "BMET4981",
          "ELEC5516",
          "CHNG4812",
          "CIVL1802",
          "MECH5275",
          "CIVL2812",
          "STAT2911",
          "MECH3460",
          "ELEC2103",
          "CIVL3612",
          "CIVL3235",
          "BMET1961",
          "MECH5310",
          "MECH5255",
          "BMET5963",
          "ENGP3002",
          "CHNG1108",
          "BMET5934",
          "ENGP2003",
          "MECH2400",
          "CIVL4860",
          "ENGG1810",
          "AMME3500",
          "AERO1560",
          "BMET5959",
          "ELEC5760",
          "AMME5101",
          "AMME4710",
          "CIVL5531",
          "BMET3660",
          "CIVL4818",
          "BMET2925",
          "ENGP3001",
          "AMME5510",
          "MECH5305",
          "CIVL5458",
          "AMME2200",
          "AMME1705",
          "ELEC2602",
          "MECH3361",
          "MECH1560",
          "BMET4111",
          "ELEC3802",
          "MATH2069",
          "BMET5995",
          "ELEC5305",
          "CIVL3806",
          "CIVL2201",
          "AMME2261",
          "CHNG4811",
          "BMET3990",
          "STAT2011",
          "ELEC2100",
          "ELEC3204",
          "BMET5957",
          "CIVL5269",
          "BUSS1030",
          "BMET2400",
          "ELEC4714",
          "CIVL2410",
          "CIVL3411",
          "ELEC5304",
          "AMME1362",
          "AMME3060",
          "ELEC3803",
          "CIVL2611",
          "CIVL3811",
          "CIVL5320",
          "ELEC5518",
          "ENGP2001",
          "MTRX1701",
          "AMME2000",
          "MECH5304",
          "MATH1062",
          "ELEC5308",
          "CIVL4819",
          "CHEM1111",
          "ELEC5207",
          "CIVL4812",
          "MKTG1001",
          "ELEC3404",
          "MTRX3760",
          "MECH4660",
          "ELEC5211",
          "AERO5750",
          "CIVL2010",
          "CIVL3206",
          "BMET5911",
          "CIVL5452",
          "ELEC4713",
          "ELEC1004",
          "BMET5907",
          "CIVL3705",
          "BMET2903",
          "AMME5520",
          "MTRX2700",
          "CIVL5999",
          "CHEM1911",
          "BMET5931",
          "DATA1902",
          "CIVL4023",
          "ELEC3609",
          "AMME5202",
          "AMME5310",
          "PHYS1001",
          "ENGP1001",
          "MTRX3700",
          "CIVL4022",
          "ELEC3608",
          "AMME4111",
          "CIVL5330",
          "BMET2922",
          "CIVL5668",
          "ELEC3203",
          "BMET2902",
          "BMET3997",
          "CIVL3704",
          "CIVL5453",
          "ELEC4712",
          "MECH4460",
          "ELEC1005",
          "ELEC3612",
          "CIVL1810",
          "CIVL4203",
          "ELEC5512",
          "ELEC3405",
          "CIVL5351",
          "CIVL5701",
          "BMET5992",
          "ELEC4505",
          "ELEC5206",
          "MECH5461"
         ],
         "legendgroup": "ENGI, USYD",
         "marker": {
          "color": "#636efa",
          "symbol": "diamond"
         },
         "mode": "markers",
         "name": "ENGI, USYD",
         "orientation": "v",
         "showlegend": true,
         "type": "scatter",
         "x": [
          -1.2764416933059692,
          -10.844578742980957,
          -3.05731463432312,
          -4.635465145111084,
          6.585751056671143,
          -11.160626411437988,
          -0.08970769494771957,
          2.5950019359588623,
          -3.3660836219787598,
          8.24128246307373,
          -6.656757831573486,
          9.781494140625,
          0.15125305950641632,
          0.07268331199884415,
          -13.492077827453613,
          -17.990915298461914,
          -17.442882537841797,
          16.615137100219727,
          -7.993457317352295,
          -13.11028003692627,
          -1.9332828521728516,
          -14.003820419311523,
          -14.452061653137207,
          -17.36203384399414,
          8.019832611083984,
          -12.721636772155762,
          1.0349243879318237,
          -7.250513076782227,
          -0.4855160713195801,
          3.045553684234619,
          3.0384321212768555,
          2.1609740257263184,
          -7.929657459259033,
          -3.1489923000335693,
          3.1691031455993652,
          12.689664840698242,
          -20.744359970092773,
          2.2506697177886963,
          6.220424175262451,
          2.7016236782073975,
          -18.192554473876953,
          -9.547396659851074,
          1.1164827346801758,
          0.9393975138664246,
          -3.0769612789154053,
          -1.061180830001831,
          -2.2504522800445557,
          14.507271766662598,
          -8.178590774536133,
          2.193707227706909,
          6.562440395355225,
          2.2047605514526367,
          -16.97208595275879,
          11.486717224121094,
          -18.50351905822754,
          5.3088178634643555,
          5.404183387756348,
          8.997501373291016,
          12.649045944213867,
          -4.7092719078063965,
          -7.724328517913818,
          -15.601921081542969,
          -14.246639251708984,
          5.396111488342285,
          -1.0564308166503906,
          -1.5327517986297607,
          -17.651784896850586,
          7.692966938018799,
          1.6802120208740234,
          -12.610153198242188,
          8.265897750854492,
          9.726408004760742,
          5.289239406585693,
          9.301423072814941,
          -6.088748455047607,
          8.278837203979492,
          -0.09932444244623184,
          -11.78000545501709,
          -0.02203661948442459,
          -4.907464504241943,
          9.69166088104248,
          -4.468122482299805,
          -11.68362808227539,
          -3.01405668258667,
          -11.687200546264648,
          36.69619369506836,
          0.1859866827726364,
          1.198906660079956,
          -6.627126216888428,
          -14.055395126342773,
          -0.9502311944961548,
          0.3133792281150818,
          5.110132217407227,
          -11.527627944946289,
          -10.856668472290039,
          36.69619369506836,
          -0.7714744806289673,
          36.69619369506836,
          13.930235862731934,
          -11.038466453552246,
          2.412165403366089,
          -12.334087371826172,
          2.4725887775421143,
          -0.21395812928676605,
          -11.801319122314453,
          -12.802313804626465,
          3.279693603515625,
          2.646359920501709,
          10.610269546508789,
          6.924070358276367,
          -12.057316780090332,
          -2.5609421730041504,
          14.981736183166504,
          -5.953212738037109,
          -19.048782348632812,
          14.493985176086426,
          -16.881635665893555,
          -18.400142669677734,
          3.277616024017334,
          0.663793683052063,
          -9.59095287322998,
          0.5520354509353638,
          -4.624082088470459,
          -15.970010757446289,
          36.69619369506836,
          -0.29758065938949585,
          -16.68880271911621,
          -1.0427268743515015,
          -10.601471900939941,
          -8.640523910522461,
          -19.250022888183594,
          -18.10649299621582,
          8.995935440063477,
          -2.6292879581451416,
          2.852003812789917,
          14.370182037353516,
          2.771059513092041,
          -4.349536418914795,
          6.151677131652832,
          4.01189661026001,
          -11.296906471252441,
          -11.628715515136719,
          -9.554864883422852,
          -10.75765323638916,
          9.661767959594727,
          -10.122602462768555,
          6.769369602203369,
          10.120457649230957,
          -12.198927879333496,
          -8.06548023223877,
          -12.758630752563477,
          -1.2382756471633911,
          0.5918465852737427,
          -14.023001670837402,
          5.378644943237305,
          -13.579797744750977,
          -10.129940032958984,
          -8.322089195251465,
          7.251065254211426,
          7.007857322692871,
          -16.14554214477539,
          -2.509685754776001,
          5.7030930519104,
          36.69619369506836,
          10.61324691772461,
          2.2648046016693115,
          -3.7305052280426025,
          3.8505191802978516,
          -17.278602600097656,
          3.5589914321899414,
          5.6652021408081055,
          -2.5938165187835693,
          -8.509256362915039,
          -8.588845252990723,
          -10.364200592041016,
          16.50348663330078,
          1.1717132329940796,
          -10.366314888000488,
          -10.160845756530762,
          7.769642353057861,
          1.7630419731140137,
          -10.091848373413086,
          1.0850948095321655,
          -4.716561317443848,
          -3.5848543643951416,
          5.92441463470459,
          -6.139899730682373,
          -0.1338200867176056,
          -12.46596622467041,
          -3.2451438903808594,
          -10.622725486755371,
          -1.6509405374526978,
          -12.32651424407959,
          0.1903398483991623,
          1.5623219013214111,
          -5.646011829376221,
          16.272411346435547,
          -15.384486198425293,
          -20.719341278076172,
          -11.398818969726562,
          -18.70102882385254,
          8.80709457397461,
          6.057700157165527,
          -13.50070571899414,
          -18.76236915588379,
          1.6820873022079468,
          -11.892867088317871,
          -5.006173610687256,
          -13.319220542907715,
          -5.91007137298584,
          -16.072263717651367,
          4.652716636657715,
          1.04262113571167,
          -10.051568984985352,
          36.69619369506836,
          -3.2130181789398193,
          8.158487319946289,
          -13.022665977478027,
          1.942427158355713,
          -9.873315811157227,
          -15.628732681274414,
          2.098548173904419,
          -7.788999557495117,
          8.045426368713379,
          7.851161956787109,
          8.946598052978516,
          -2.0881593227386475,
          -7.485893249511719,
          5.457125186920166,
          0.7129541039466858,
          0.029777340590953827
         ],
         "xaxis": "x",
         "y": [
          -20.21379852294922,
          3.8725125789642334,
          -16.662609100341797,
          -20.90380096435547,
          -13.144512176513672,
          6.838010787963867,
          -16.032323837280273,
          -33.41802215576172,
          -1.9518665075302124,
          -22.9180850982666,
          -13.51463794708252,
          -13.576629638671875,
          -30.897811889648438,
          -18.891565322875977,
          -4.878289699554443,
          3.1731693744659424,
          -36.890140533447266,
          -9.36182975769043,
          -30.402830123901367,
          -43.02449417114258,
          -33.831153869628906,
          6.120716571807861,
          1.7911535501480103,
          2.60102915763855,
          -30.703752517700195,
          6.731159687042236,
          -6.274836540222168,
          -9.675956726074219,
          -37.41255569458008,
          7.38826847076416,
          7.3558502197265625,
          -20.911672592163086,
          -30.337467193603516,
          -25.90070343017578,
          -15.004558563232422,
          -18.43939971923828,
          -11.039268493652344,
          -38.220848083496094,
          -8.077821731567383,
          -10.043551445007324,
          -37.51237106323242,
          3.830735683441162,
          -34.43803024291992,
          -18.156959533691406,
          -20.08498191833496,
          -36.51268768310547,
          -30.416433334350586,
          -13.7642240524292,
          -38.739009857177734,
          -19.303815841674805,
          -21.966917037963867,
          -32.39010238647461,
          -33.8009147644043,
          -13.03513240814209,
          -25.633716583251953,
          -35.81525802612305,
          -19.553075790405273,
          -21.67263412475586,
          -18.436321258544922,
          -33.66335678100586,
          -38.62904357910156,
          9.119434356689453,
          5.139124393463135,
          -38.529090881347656,
          -9.31064224243164,
          -9.915428161621094,
          -38.21933364868164,
          -32.83303451538086,
          -1.5355149507522583,
          7.665073871612549,
          -11.526412010192871,
          -14.967950820922852,
          -4.860675811767578,
          -10.34250259399414,
          0.056202974170446396,
          -11.396885871887207,
          -25.16773796081543,
          5.185267925262451,
          -21.37118148803711,
          -35.33308792114258,
          -5.225113868713379,
          -23.27778434753418,
          10.436334609985352,
          -31.048931121826172,
          -36.41908645629883,
          12.584095001220703,
          -9.151971817016602,
          -5.985229969024658,
          -13.549108505249023,
          -33.67689514160156,
          -30.344280242919922,
          -10.924224853515625,
          -21.239334106445312,
          -43.18906021118164,
          -35.46609115600586,
          12.584095001220703,
          -17.117664337158203,
          12.584095001220703,
          -13.616604804992676,
          2.0312092304229736,
          -23.10102081298828,
          -43.259674072265625,
          -31.02138328552246,
          -23.892559051513672,
          -33.014347076416016,
          -9.627840995788574,
          -10.981742858886719,
          -29.1710205078125,
          -16.534486770629883,
          -37.313636779785156,
          5.396205425262451,
          -4.857717514038086,
          -14.391646385192871,
          7.6475677490234375,
          -37.7208366394043,
          -7.840396404266357,
          0.4742904007434845,
          -38.318450927734375,
          -10.009450912475586,
          -36.00858688354492,
          -23.848270416259766,
          -14.574808120727539,
          -27.732059478759766,
          7.069940567016602,
          12.584095001220703,
          -24.354896545410156,
          -13.001283645629883,
          -36.596134185791016,
          5.3257975578308105,
          -33.86372756958008,
          0.48699697852134705,
          -36.624576568603516,
          -7.993621349334717,
          -5.223142147064209,
          -31.773345947265625,
          -13.004318237304688,
          -15.75506591796875,
          -18.444931030273438,
          -8.07631778717041,
          -9.376449584960938,
          -42.49171447753906,
          10.458325386047363,
          -9.483404159545898,
          8.078900337219238,
          -5.828813076019287,
          -35.971290588378906,
          -38.212894439697266,
          -13.995397567749023,
          -42.46968460083008,
          4.305562973022461,
          -9.738749504089355,
          -19.58135986328125,
          -20.532379150390625,
          9.718866348266602,
          -35.87517166137695,
          -30.580413818359375,
          3.707869052886963,
          -38.31449890136719,
          -32.49081039428711,
          -32.20064163208008,
          -12.629859924316406,
          -26.203550338745117,
          -13.031346321105957,
          12.584095001220703,
          -16.131799697875977,
          -35.1962890625,
          -35.176326751708984,
          -24.845333099365234,
          -37.565757751464844,
          -1.9857330322265625,
          -12.882006645202637,
          -4.625739574432373,
          -7.968512058258057,
          -25.525712966918945,
          -34.82856369018555,
          -9.462261199951172,
          -20.91990089416504,
          -34.59328842163086,
          -31.62433624267578,
          -20.157163619995117,
          -1.5627915859222412,
          -30.480924606323242,
          -17.217987060546875,
          -28.50354766845703,
          -35.729957580566406,
          -38.48582077026367,
          0.13312335312366486,
          -33.72749710083008,
          -41.82260513305664,
          -20.531667709350586,
          1.455683708190918,
          -31.062314987182617,
          4.010901927947998,
          -13.498757362365723,
          -2.7777507305145264,
          -31.542240142822266,
          -9.307616233825684,
          9.215046882629395,
          -10.977572441101074,
          -41.603271484375,
          -24.394990921020508,
          -14.288132667541504,
          -11.101273536682129,
          -4.865850925445557,
          -36.900630950927734,
          -2.758409023284912,
          -41.00617599487305,
          -19.60072135925293,
          -42.335384368896484,
          -36.9295768737793,
          1.8235392570495605,
          -31.071063995361328,
          -19.683345794677734,
          6.237271308898926,
          12.584095001220703,
          -30.874135971069336,
          -30.666522979736328,
          -41.37937927246094,
          -7.242009162902832,
          -27.424894332885742,
          -11.925625801086426,
          -34.06938934326172,
          -37.99979019165039,
          -23.32984161376953,
          -21.05912208557129,
          -32.73328399658203,
          -29.683395385742188,
          4.367965221405029,
          -20.959190368652344,
          -22.206645965576172,
          -9.430493354797363
         ],
         "yaxis": "y"
        },
        {
         "customdata": [
          [
           "31251",
           "UTS"
          ],
          [
           "31271",
           "UTS"
          ],
          [
           "41113",
           "UTS"
          ],
          [
           "41001",
           "UTS"
          ],
          [
           "31250",
           "UTS"
          ],
          [
           "31257",
           "UTS"
          ],
          [
           "31282",
           "UTS"
          ],
          [
           "41092",
           "UTS"
          ],
          [
           "33230",
           "UTS"
          ],
          [
           "48024",
           "UTS"
          ],
          [
           "48730",
           "UTS"
          ],
          [
           "48433",
           "UTS"
          ],
          [
           "31005",
           "UTS"
          ],
          [
           "31269",
           "UTS"
          ],
          [
           "33130",
           "UTS"
          ],
          [
           "41039",
           "UTS"
          ]
         ],
         "hovertemplate": "<b>%{hovertext}</b><br><br>degree=ENGI - COMP<br>uni=%{customdata[1]}<br>x=%{x}<br>y=%{y}<br>subject_code=%{customdata[0]}<extra></extra>",
         "hovertext": [
          "31251",
          "31271",
          "41113",
          "41001",
          "31250",
          "31257",
          "31282",
          "41092",
          "33230",
          "48024",
          "48730",
          "48433",
          "31005",
          "31269",
          "33130",
          "41039"
         ],
         "legendgroup": "ENGI - COMP, UTS",
         "marker": {
          "color": "#EF553B",
          "symbol": "circle"
         },
         "mode": "markers",
         "name": "ENGI - COMP, UTS",
         "orientation": "v",
         "showlegend": true,
         "type": "scatter",
         "x": [
          16.55991554260254,
          16.754867553710938,
          21.955036163330078,
          29.69871711730957,
          14.055097579956055,
          24.07366371154785,
          24.101276397705078,
          26.533344268798828,
          5.575028419494629,
          18.95056915283203,
          22.222131729125977,
          21.98822784423828,
          12.839360237121582,
          24.87102508544922,
          5.060230255126953,
          19.43623161315918
         ],
         "xaxis": "x",
         "y": [
          18.945402145385742,
          20.664142608642578,
          18.07737922668457,
          21.409624099731445,
          21.01171875,
          19.554210662841797,
          20.426910400390625,
          24.663986206054688,
          14.823808670043945,
          19.717315673828125,
          27.743165969848633,
          16.48998260498047,
          16.13348960876465,
          20.176326751708984,
          15.114181518554688,
          20.41451072692871
         ],
         "yaxis": "y"
        },
        {
         "customdata": [
          [
           "ISYS2110",
           "USYD"
          ],
          [
           "COMP3109",
           "USYD"
          ],
          [
           "COMP3308",
           "USYD"
          ],
          [
           "COMP4530",
           "USYD"
          ],
          [
           "ELEC5618",
           "USYD"
          ],
          [
           "INFO1910",
           "USYD"
          ],
          [
           "COMP2017",
           "USYD"
          ],
          [
           "ELEC5619",
           "USYD"
          ],
          [
           "COMP4415",
           "USYD"
          ],
          [
           "COMP4618",
           "USYD"
          ],
          [
           "ELEC1601",
           "USYD"
          ],
          [
           "COMP2922",
           "USYD"
          ],
          [
           "COMP3221",
           "USYD"
          ],
          [
           "COMP4445",
           "USYD"
          ],
          [
           "DATA4207",
           "USYD"
          ],
          [
           "INFO1110",
           "USYD"
          ],
          [
           "MATH1061",
           "USYD"
          ],
          [
           "ISYS2120",
           "USYD"
          ],
          [
           "COMP4347",
           "USYD"
          ],
          [
           "SOFT2412",
           "USYD"
          ],
          [
           "COMP3027",
           "USYD"
          ],
          [
           "COMP4424",
           "USYD"
          ],
          [
           "ELEC5307",
           "USYD"
          ],
          [
           "ISYS4450",
           "USYD"
          ],
          [
           "ELEC5306",
           "USYD"
          ],
          [
           "COMP4425",
           "USYD"
          ],
          [
           "SOFT3202",
           "USYD"
          ],
          [
           "COMP4448",
           "USYD"
          ],
          [
           "COMP2123",
           "USYD"
          ],
          [
           "ISYS2160",
           "USYD"
          ],
          [
           "DATA3404",
           "USYD"
          ],
          [
           "COMP4405",
           "USYD"
          ],
          [
           "DATA2901",
           "USYD"
          ],
          [
           "DATA2002",
           "USYD"
          ],
          [
           "COMP4216",
           "USYD"
          ],
          [
           "COMP4328",
           "USYD"
          ],
          [
           "DATA2001",
           "USYD"
          ],
          [
           "DATA2902",
           "USYD"
          ],
          [
           "COMP4447",
           "USYD"
          ],
          [
           "ELEC3506",
           "USYD"
          ],
          [
           "COMP4349",
           "USYD"
          ],
          [
           "COMP4426",
           "USYD"
          ],
          [
           "COMP2823",
           "USYD"
          ],
          [
           "COMP3419",
           "USYD"
          ],
          [
           "ELEC5514",
           "USYD"
          ],
          [
           "COMP3927",
           "USYD"
          ],
          [
           "SOFT2201",
           "USYD"
          ],
          [
           "COMP4427",
           "USYD"
          ],
          [
           "SOFT3410",
           "USYD"
          ],
          [
           "ISYS3401",
           "USYD"
          ],
          [
           "COMP4348",
           "USYD"
          ],
          [
           "COMP4446",
           "USYD"
          ],
          [
           "SOFT3888",
           "USYD"
          ],
          [
           "COMP4329",
           "USYD"
          ],
          [
           "INFO3315",
           "USYD"
          ],
          [
           "INFO1113",
           "USYD"
          ],
          [
           "INFO4491",
           "USYD"
          ],
          [
           "COMP4313",
           "USYD"
          ],
          [
           "DATA3406",
           "USYD"
          ],
          [
           "INFO3616",
           "USYD"
          ],
          [
           "COMP3520",
           "USYD"
          ],
          [
           "COMP4318",
           "USYD"
          ],
          [
           "ELEC5616",
           "USYD"
          ],
          [
           "COMP2022",
           "USYD"
          ],
          [
           "COMP4617",
           "USYD"
          ],
          [
           "ISYS3888",
           "USYD"
          ],
          [
           "COMP4416",
           "USYD"
          ],
          [
           "COMP4338",
           "USYD"
          ],
          [
           "ELEC5620",
           "USYD"
          ],
          [
           "ELEC5509",
           "USYD"
          ],
          [
           "ELEC5508",
           "USYD"
          ],
          [
           "COMP4270",
           "USYD"
          ],
          [
           "COMP3608",
           "USYD"
          ]
         ],
         "hovertemplate": "<b>%{hovertext}</b><br><br>degree=ENGI - COMP<br>uni=%{customdata[1]}<br>x=%{x}<br>y=%{y}<br>subject_code=%{customdata[0]}<extra></extra>",
         "hovertext": [
          "ISYS2110",
          "COMP3109",
          "COMP3308",
          "COMP4530",
          "ELEC5618",
          "INFO1910",
          "COMP2017",
          "ELEC5619",
          "COMP4415",
          "COMP4618",
          "ELEC1601",
          "COMP2922",
          "COMP3221",
          "COMP4445",
          "DATA4207",
          "INFO1110",
          "MATH1061",
          "ISYS2120",
          "COMP4347",
          "SOFT2412",
          "COMP3027",
          "COMP4424",
          "ELEC5307",
          "ISYS4450",
          "ELEC5306",
          "COMP4425",
          "SOFT3202",
          "COMP4448",
          "COMP2123",
          "ISYS2160",
          "DATA3404",
          "COMP4405",
          "DATA2901",
          "DATA2002",
          "COMP4216",
          "COMP4328",
          "DATA2001",
          "DATA2902",
          "COMP4447",
          "ELEC3506",
          "COMP4349",
          "COMP4426",
          "COMP2823",
          "COMP3419",
          "ELEC5514",
          "COMP3927",
          "SOFT2201",
          "COMP4427",
          "SOFT3410",
          "ISYS3401",
          "COMP4348",
          "COMP4446",
          "SOFT3888",
          "COMP4329",
          "INFO3315",
          "INFO1113",
          "INFO4491",
          "COMP4313",
          "DATA3406",
          "INFO3616",
          "COMP3520",
          "COMP4318",
          "ELEC5616",
          "COMP2022",
          "COMP4617",
          "ISYS3888",
          "COMP4416",
          "COMP4338",
          "ELEC5620",
          "ELEC5509",
          "ELEC5508",
          "COMP4270",
          "COMP3608"
         ],
         "legendgroup": "ENGI - COMP, USYD",
         "marker": {
          "color": "#EF553B",
          "symbol": "diamond"
         },
         "mode": "markers",
         "name": "ENGI - COMP, USYD",
         "orientation": "v",
         "showlegend": true,
         "type": "scatter",
         "x": [
          -18.718063354492188,
          -11.408201217651367,
          -18.202951431274414,
          -10.359659194946289,
          -9.171558380126953,
          -10.657828330993652,
          -14.0592622756958,
          -18.09305763244629,
          -19.025836944580078,
          16.43177604675293,
          -4.728814125061035,
          -12.589253425598145,
          -16.35038185119629,
          -17.38705062866211,
          -24.01896095275879,
          -10.024441719055176,
          -8.148577690124512,
          -23.063735961914062,
          -19.762601852416992,
          -12.852532386779785,
          -11.694631576538086,
          -18.5975399017334,
          -6.4860334396362305,
          -17.364456176757812,
          -6.251152992248535,
          -19.93768882751465,
          -11.410857200622559,
          -19.193693161010742,
          -18.447397232055664,
          -6.512113571166992,
          -23.235652923583984,
          -20.024620056152344,
          -28.9178409576416,
          -22.781494140625,
          -19.516504287719727,
          -14.208346366882324,
          -28.914745330810547,
          -22.871768951416016,
          -17.221473693847656,
          4.785645961761475,
          -19.905019760131836,
          -11.881614685058594,
          -18.43891143798828,
          -19.071163177490234,
          4.368744373321533,
          -11.747817039489746,
          -11.34155559539795,
          -15.312392234802246,
          -13.897347450256348,
          -16.219661712646484,
          -18.321514129638672,
          -13.008610725402832,
          -12.12568187713623,
          -15.321636199951172,
          -23.094226837158203,
          -16.8652400970459,
          -18.31907081604004,
          -5.803879261016846,
          -24.299728393554688,
          15.452401161193848,
          -7.250186443328857,
          -21.465164184570312,
          14.210111618041992,
          -12.306119918823242,
          15.359152793884277,
          -14.241762161254883,
          -6.05145788192749,
          -21.78535270690918,
          -10.04718017578125,
          5.091842174530029,
          5.480550289154053,
          -11.71161937713623,
          -13.396711349487305
         ],
         "xaxis": "x",
         "y": [
          -26.927188873291016,
          -17.057453155517578,
          -2.63134765625,
          -13.459104537963867,
          -27.323537826538086,
          -22.826562881469727,
          -24.107221603393555,
          -25.09252166748047,
          -16.478111267089844,
          -27.07543182373047,
          -20.225526809692383,
          -16.926904678344727,
          -19.634737014770508,
          -16.40918731689453,
          -9.261431694030762,
          -24.63104820251465,
          -8.93017864227295,
          -11.584482192993164,
          -24.416229248046875,
          -26.646406173706055,
          -14.792386054992676,
          1.789504051208496,
          -16.315311431884766,
          -28.420562744140625,
          -17.41252326965332,
          -16.282001495361328,
          -25.922271728515625,
          -13.578022003173828,
          -9.71826171875,
          -20.178508758544922,
          -11.066161155700684,
          -17.71721839904785,
          -9.933195114135742,
          -9.0309476852417,
          -19.045013427734375,
          -17.7215633392334,
          -9.931360244750977,
          -8.835671424865723,
          -19.162330627441406,
          -21.711971282958984,
          -20.36590576171875,
          -23.841590881347656,
          -9.719502449035645,
          -16.505210876464844,
          -24.677106857299805,
          -14.906005859375,
          -26.188749313354492,
          -15.287481307983398,
          -26.03878402709961,
          -29.917491912841797,
          -21.1319522857666,
          -12.567809104919434,
          -27.72004508972168,
          -22.03746223449707,
          -22.98433494567871,
          -24.54091453552246,
          -30.46892547607422,
          -24.847810745239258,
          -7.906565189361572,
          -26.589353561401367,
          -21.923322677612305,
          -9.10071849822998,
          -27.157670974731445,
          -17.15312385559082,
          -25.643150329589844,
          -29.755537033081055,
          -23.559057235717773,
          -13.580292701721191,
          -27.926074981689453,
          -22.959735870361328,
          -23.596542358398438,
          -12.987800598144531,
          -17.922048568725586
         ],
         "yaxis": "y"
        },
        {
         "customdata": [
          [
           "31482",
           "UTS"
          ],
          [
           "41903",
           "UTS"
          ],
          [
           "31247",
           "UTS"
          ],
          [
           "42913",
           "UTS"
          ],
          [
           "35005",
           "UTS"
          ],
          [
           "32144",
           "UTS"
          ],
          [
           "31338",
           "UTS"
          ],
          [
           "48450",
           "UTS"
          ],
          [
           "31748",
           "UTS"
          ],
          [
           "37262",
           "UTS"
          ],
          [
           "41889",
           "UTS"
          ],
          [
           "41020",
           "UTS"
          ],
          [
           "41077",
           "UTS"
          ],
          [
           "41173",
           "UTS"
          ],
          [
           "41172",
           "UTS"
          ],
          [
           "41076",
           "UTS"
          ],
          [
           "31266",
           "UTS"
          ],
          [
           "41021",
           "UTS"
          ],
          [
           "37234",
           "UTS"
          ],
          [
           "42050",
           "UTS"
          ],
          [
           "41040",
           "UTS"
          ],
          [
           "37233",
           "UTS"
          ],
          [
           "42036",
           "UTS"
          ],
          [
           "31261",
           "UTS"
          ],
          [
           "41026",
           "UTS"
          ],
          [
           "37161",
           "UTS"
          ],
          [
           "41175",
           "UTS"
          ],
          [
           "31277",
           "UTS"
          ],
          [
           "41905",
           "UTS"
          ],
          [
           "48270",
           "UTS"
          ],
          [
           "32011",
           "UTS"
          ],
          [
           "41180",
           "UTS"
          ],
          [
           "37252",
           "UTS"
          ],
          [
           "48436",
           "UTS"
          ],
          [
           "41181",
           "UTS"
          ],
          [
           "31256",
           "UTS"
          ],
          [
           "41174",
           "UTS"
          ],
          [
           "31276",
           "UTS"
          ],
          [
           "31260",
           "UTS"
          ],
          [
           "42037",
           "UTS"
          ],
          [
           "32009",
           "UTS"
          ],
          [
           "31275",
           "UTS"
          ],
          [
           "31263",
           "UTS"
          ],
          [
           "43023",
           "UTS"
          ],
          [
           "37335",
           "UTS"
          ],
          [
           "41182",
           "UTS"
          ],
          [
           "31280",
           "UTS"
          ],
          [
           "57304",
           "UTS"
          ],
          [
           "31097",
           "UTS"
          ],
          [
           "31243",
           "UTS"
          ],
          [
           "41004",
           "UTS"
          ],
          [
           "31255",
           "UTS"
          ],
          [
           "31080",
           "UTS"
          ],
          [
           "31242",
           "UTS"
          ],
          [
           "41052",
           "UTS"
          ],
          [
           "41183",
           "UTS"
          ],
          [
           "48033",
           "UTS"
          ],
          [
           "37181",
           "UTS"
          ],
          [
           "31258",
           "UTS"
          ],
          [
           "37363",
           "UTS"
          ],
          [
           "32931",
           "UTS"
          ],
          [
           "41025",
           "UTS"
          ],
          [
           "31777",
           "UTS"
          ],
          [
           "31262",
           "UTS"
          ],
          [
           "42028",
           "UTS"
          ],
          [
           "32146",
           "UTS"
          ],
          [
           "41891",
           "UTS"
          ],
          [
           "35007",
           "UTS"
          ],
          [
           "41080",
           "UTS"
          ],
          [
           "41079",
           "UTS"
          ],
          [
           "41184",
           "UTS"
          ],
          [
           "31245",
           "UTS"
          ],
          [
           "31253",
           "UTS"
          ],
          [
           "41043",
           "UTS"
          ],
          [
           "41171",
           "UTS"
          ],
          [
           "31265",
           "UTS"
          ],
          [
           "43025",
           "UTS"
          ],
          [
           "41019",
           "UTS"
          ],
          [
           "43024",
           "UTS"
          ],
          [
           "31927",
           "UTS"
          ],
          [
           "37373",
           "UTS"
          ],
          [
           "31272",
           "UTS"
          ],
          [
           "41900",
           "UTS"
          ],
          [
           "41185",
           "UTS"
          ],
          [
           "31268",
           "UTS"
          ],
          [
           "41078",
           "UTS"
          ],
          [
           "35006",
           "UTS"
          ],
          [
           "41890",
           "UTS"
          ]
         ],
         "hovertemplate": "<b>%{hovertext}</b><br><br>degree=COMP<br>uni=%{customdata[1]}<br>x=%{x}<br>y=%{y}<br>subject_code=%{customdata[0]}<extra></extra>",
         "hovertext": [
          "31482",
          "41903",
          "31247",
          "42913",
          "35005",
          "32144",
          "31338",
          "48450",
          "31748",
          "37262",
          "41889",
          "41020",
          "41077",
          "41173",
          "41172",
          "41076",
          "31266",
          "41021",
          "37234",
          "42050",
          "41040",
          "37233",
          "42036",
          "31261",
          "41026",
          "37161",
          "41175",
          "31277",
          "41905",
          "48270",
          "32011",
          "41180",
          "37252",
          "48436",
          "41181",
          "31256",
          "41174",
          "31276",
          "31260",
          "42037",
          "32009",
          "31275",
          "31263",
          "43023",
          "37335",
          "41182",
          "31280",
          "57304",
          "31097",
          "31243",
          "41004",
          "31255",
          "31080",
          "31242",
          "41052",
          "41183",
          "48033",
          "37181",
          "31258",
          "37363",
          "32931",
          "41025",
          "31777",
          "31262",
          "42028",
          "32146",
          "41891",
          "35007",
          "41080",
          "41079",
          "41184",
          "31245",
          "31253",
          "41043",
          "41171",
          "31265",
          "43025",
          "41019",
          "43024",
          "31927",
          "37373",
          "31272",
          "41900",
          "41185",
          "31268",
          "41078",
          "35006",
          "41890"
         ],
         "legendgroup": "COMP, UTS",
         "marker": {
          "color": "#00cc96",
          "symbol": "circle"
         },
         "mode": "markers",
         "name": "COMP, UTS",
         "orientation": "v",
         "showlegend": true,
         "type": "scatter",
         "x": [
          25.659133911132812,
          16.936580657958984,
          25.292348861694336,
          15.603192329406738,
          -8.212092399597168,
          24.495481491088867,
          26.197494506835938,
          17.358030319213867,
          17.793312072753906,
          5.783336162567139,
          21.367115020751953,
          7.773257732391357,
          7.638044834136963,
          13.083207130432129,
          11.781570434570312,
          12.476580619812012,
          20.660263061523438,
          8.710158348083496,
          6.771866798400879,
          -19.70714569091797,
          11.035955429077148,
          3.833711624145508,
          22.6187686920166,
          28.004392623901367,
          23.006101608276367,
          4.796435356140137,
          11.716815948486328,
          28.354576110839844,
          26.942827224731445,
          26.725278854370117,
          28.413555145263672,
          22.837018966674805,
          7.076527118682861,
          22.039030075073242,
          20.7830810546875,
          15.630578994750977,
          12.37483024597168,
          26.838478088378906,
          9.505866050720215,
          21.840970993041992,
          28.480876922607422,
          26.051000595092773,
          16.26709747314453,
          10.62494945526123,
          6.737261772155762,
          20.869272232055664,
          26.670509338378906,
          -19.425251007080078,
          27.919130325317383,
          13.64454174041748,
          13.65471363067627,
          25.97370719909668,
          17.986055374145508,
          19.022403717041016,
          15.484777450561523,
          21.296335220336914,
          17.515892028808594,
          3.7513320446014404,
          26.437580108642578,
          5.982813835144043,
          24.346181869506836,
          22.534770965576172,
          9.371634483337402,
          16.24945068359375,
          13.15129280090332,
          14.054360389709473,
          29.69306182861328,
          -8.426042556762695,
          18.304058074951172,
          18.13970375061035,
          20.158592224121094,
          26.827119827270508,
          16.397314071655273,
          12.742918014526367,
          12.957513809204102,
          25.75783920288086,
          11.981979370117188,
          8.809650421142578,
          10.349300384521484,
          20.18086051940918,
          -9.96658706665039,
          26.684816360473633,
          21.059701919555664,
          21.853574752807617,
          18.83269691467285,
          17.368892669677734,
          -9.469303131103516,
          23.47026824951172
         ],
         "xaxis": "x",
         "y": [
          13.17604923248291,
          17.409982681274414,
          18.147062301635742,
          17.787559509277344,
          -4.478093147277832,
          13.612974166870117,
          24.01285171508789,
          14.915288925170898,
          18.735456466674805,
          16.028972625732422,
          19.91522216796875,
          23.253950119018555,
          6.152620315551758,
          31.60699462890625,
          32.32887649536133,
          31.28368377685547,
          21.552532196044922,
          24.287038803100586,
          14.925179481506348,
          -6.967715740203857,
          19.200054168701172,
          15.589876174926758,
          27.082130432128906,
          14.248845100402832,
          17.365779876708984,
          16.737943649291992,
          31.693729400634766,
          26.379226684570312,
          25.4577693939209,
          11.562469482421875,
          25.191967010498047,
          26.1893310546875,
          15.98595142364502,
          28.636821746826172,
          22.90145492553711,
          15.988697052001953,
          32.431251525878906,
          18.481464385986328,
          24.268733978271484,
          27.1224308013916,
          26.72146224975586,
          25.062313079833984,
          27.022384643554688,
          19.220191955566406,
          14.273909568786621,
          23.36638069152832,
          14.286541938781738,
          -3.417518138885498,
          17.605775833129883,
          23.617677688598633,
          23.567026138305664,
          15.730720520019531,
          19.471349716186523,
          18.674116134643555,
          19.29831886291504,
          25.463966369628906,
          17.67112159729004,
          14.16089916229248,
          20.14884376525879,
          16.70680809020996,
          13.74592113494873,
          17.876399993896484,
          24.84084701538086,
          27.045812606811523,
          17.01220703125,
          20.896400451660156,
          21.49919319152832,
          -4.910588264465332,
          22.397279739379883,
          22.131656646728516,
          25.777334213256836,
          18.12681007385254,
          21.186025619506836,
          18.907390594482422,
          32.419593811035156,
          14.851568222045898,
          30.850875854492188,
          24.93557357788086,
          19.274660110473633,
          19.158344268798828,
          -5.24893856048584,
          13.576924324035645,
          27.529216766357422,
          25.814085006713867,
          17.343908309936523,
          23.381877899169922,
          -5.194015026092529,
          27.089265823364258
         ],
         "yaxis": "y"
        },
        {
         "customdata": [
          [
           "COMP3888",
           "USYD"
          ],
          [
           "INFO4912",
           "USYD"
          ],
          [
           "MATH1964",
           "USYD"
          ],
          [
           "INFO1911",
           "USYD"
          ],
          [
           "INFO4990",
           "USYD"
          ],
          [
           "ISYS5070",
           "USYD"
          ],
          [
           "INFO2150",
           "USYD"
          ],
          [
           "INFO4913",
           "USYD"
          ],
          [
           "DATA1901",
           "USYD"
          ],
          [
           "HTIN4003",
           "USYD"
          ],
          [
           "INFO2222",
           "USYD"
          ],
          [
           "INFO4001",
           "USYD"
          ],
          [
           "INFO4406",
           "USYD"
          ],
          [
           "INFO2911",
           "USYD"
          ],
          [
           "ENGG3800",
           "USYD"
          ],
          [
           "HTIN4005",
           "USYD"
          ],
          [
           "INFO1111",
           "USYD"
          ],
          [
           "INFO3911",
           "USYD"
          ],
          [
           "INFO1112",
           "USYD"
          ],
          [
           "CSEC3616",
           "USYD"
          ],
          [
           "INFO3912",
           "USYD"
          ],
          [
           "HTIN4006",
           "USYD"
          ],
          [
           "COMP3988",
           "USYD"
          ],
          [
           "COMP3530",
           "USYD"
          ],
          [
           "DATA3888",
           "USYD"
          ],
          [
           "INFO4999",
           "USYD"
          ],
          [
           "INFO4002",
           "USYD"
          ],
          [
           "INFO4444",
           "USYD"
          ],
          [
           "INFO2912",
           "USYD"
          ],
          [
           "MATH1961",
           "USYD"
          ],
          [
           "DATA1001",
           "USYD"
          ],
          [
           "INFO4911",
           "USYD"
          ],
          [
           "MATH1064",
           "USYD"
          ],
          [
           "INFO1912",
           "USYD"
          ],
          [
           "INFO3333",
           "USYD"
          ],
          [
           "CSEC3888",
           "USYD"
          ]
         ],
         "hovertemplate": "<b>%{hovertext}</b><br><br>degree=COMP<br>uni=%{customdata[1]}<br>x=%{x}<br>y=%{y}<br>subject_code=%{customdata[0]}<extra></extra>",
         "hovertext": [
          "COMP3888",
          "INFO4912",
          "MATH1964",
          "INFO1911",
          "INFO4990",
          "ISYS5070",
          "INFO2150",
          "INFO4913",
          "DATA1901",
          "HTIN4003",
          "INFO2222",
          "INFO4001",
          "INFO4406",
          "INFO2911",
          "ENGG3800",
          "HTIN4005",
          "INFO1111",
          "INFO3911",
          "INFO1112",
          "CSEC3616",
          "INFO3912",
          "HTIN4006",
          "COMP3988",
          "COMP3530",
          "DATA3888",
          "INFO4999",
          "INFO4002",
          "INFO4444",
          "INFO2912",
          "MATH1961",
          "DATA1001",
          "INFO4911",
          "MATH1064",
          "INFO1912",
          "INFO3333",
          "CSEC3888"
         ],
         "legendgroup": "COMP, USYD",
         "marker": {
          "color": "#00cc96",
          "symbol": "diamond"
         },
         "mode": "markers",
         "name": "COMP, USYD",
         "orientation": "v",
         "showlegend": true,
         "type": "scatter",
         "x": [
          -12.473088264465332,
          -9.61401081085205,
          -9.68380355834961,
          -11.943499565124512,
          -13.035623550415039,
          -17.328834533691406,
          -20.995101928710938,
          -9.537599563598633,
          -24.71515655517578,
          -20.612457275390625,
          -23.045452117919922,
          -13.579534530639648,
          -20.07181167602539,
          -11.21057415008545,
          -14.410731315612793,
          -19.820758819580078,
          -13.728559494018555,
          -11.604828834533691,
          -6.547093868255615,
          15.61432933807373,
          -11.34388256072998,
          -20.036823272705078,
          -12.340363502502441,
          -10.380970001220703,
          -23.586931228637695,
          -11.147432327270508,
          -13.478486061096191,
          -16.24812126159668,
          -10.919072151184082,
          -8.013039588928223,
          -24.71713638305664,
          -9.354063034057617,
          -9.858972549438477,
          -12.078032493591309,
          -14.256661415100098,
          16.73432159423828
         ],
         "xaxis": "x",
         "y": [
          -28.309898376464844,
          -19.0080509185791,
          -8.572784423828125,
          -21.701040267944336,
          -22.49262809753418,
          -30.79727554321289,
          1.0146909952163696,
          -18.74456787109375,
          -5.6056742668151855,
          2.6194965839385986,
          -22.963838577270508,
          -20.115205764770508,
          -0.006808609236031771,
          -20.793912887573242,
          -33.766117095947266,
          1.4845576286315918,
          -28.543506622314453,
          -19.70900535583496,
          -23.0423526763916,
          -26.511859893798828,
          -19.941761016845703,
          1.5548441410064697,
          -28.313182830810547,
          -13.459566116333008,
          -10.014375686645508,
          -18.60198974609375,
          -20.096982955932617,
          -31.316272735595703,
          -20.70819664001465,
          -9.044078826904297,
          -5.59886360168457,
          -19.125526428222656,
          -8.323970794677734,
          -20.587779998779297,
          -28.172452926635742,
          -25.507198333740234
         ],
         "yaxis": "y"
        },
        {
         "customdata": [
          [
           "92471",
           "UTS"
          ],
          [
           "93470",
           "UTS"
          ],
          [
           "93217",
           "UTS"
          ],
          [
           "93201",
           "UTS"
          ],
          [
           "93200",
           "UTS"
          ],
          [
           "93216",
           "UTS"
          ],
          [
           "91529",
           "UTS"
          ],
          [
           "92470",
           "UTS"
          ],
          [
           "93220",
           "UTS"
          ],
          [
           "92482",
           "UTS"
          ],
          [
           "93211",
           "UTS"
          ],
          [
           "93207",
           "UTS"
          ],
          [
           "93227",
           "UTS"
          ],
          [
           "92477",
           "UTS"
          ],
          [
           "93231",
           "UTS"
          ],
          [
           "93230",
           "UTS"
          ],
          [
           "92476",
           "UTS"
          ],
          [
           "91562",
           "UTS"
          ],
          [
           "93226",
           "UTS"
          ],
          [
           "93206",
           "UTS"
          ],
          [
           "93210",
           "UTS"
          ],
          [
           "93205",
           "UTS"
          ],
          [
           "93213",
           "UTS"
          ],
          [
           "92479",
           "UTS"
          ],
          [
           "92480",
           "UTS"
          ],
          [
           "93229",
           "UTS"
          ],
          [
           "93209",
           "UTS"
          ],
          [
           "93233",
           "UTS"
          ],
          [
           "92475",
           "UTS"
          ],
          [
           "91561",
           "UTS"
          ],
          [
           "93225",
           "UTS"
          ],
          [
           "93224",
           "UTS"
          ],
          [
           "92474",
           "UTS"
          ],
          [
           "93232",
           "UTS"
          ],
          [
           "93208",
           "UTS"
          ],
          [
           "93228",
           "UTS"
          ],
          [
           "92481",
           "UTS"
          ],
          [
           "92478",
           "UTS"
          ],
          [
           "93212",
           "UTS"
          ],
          [
           "93204",
           "UTS"
          ],
          [
           "93219",
           "UTS"
          ],
          [
           "92473",
           "UTS"
          ],
          [
           "91530",
           "UTS"
          ],
          [
           "93223",
           "UTS"
          ],
          [
           "93203",
           "UTS"
          ],
          [
           "93214",
           "UTS"
          ],
          [
           "93202",
           "UTS"
          ],
          [
           "93222",
           "UTS"
          ],
          [
           "92472",
           "UTS"
          ],
          [
           "93218",
           "UTS"
          ]
         ],
         "hovertemplate": "<b>%{hovertext}</b><br><br>degree=NURS<br>uni=%{customdata[1]}<br>x=%{x}<br>y=%{y}<br>subject_code=%{customdata[0]}<extra></extra>",
         "hovertext": [
          "92471",
          "93470",
          "93217",
          "93201",
          "93200",
          "93216",
          "91529",
          "92470",
          "93220",
          "92482",
          "93211",
          "93207",
          "93227",
          "92477",
          "93231",
          "93230",
          "92476",
          "91562",
          "93226",
          "93206",
          "93210",
          "93205",
          "93213",
          "92479",
          "92480",
          "93229",
          "93209",
          "93233",
          "92475",
          "91561",
          "93225",
          "93224",
          "92474",
          "93232",
          "93208",
          "93228",
          "92481",
          "92478",
          "93212",
          "93204",
          "93219",
          "92473",
          "91530",
          "93223",
          "93203",
          "93214",
          "93202",
          "93222",
          "92472",
          "93218"
         ],
         "legendgroup": "NURS, UTS",
         "marker": {
          "color": "#ab63fa",
          "symbol": "circle"
         },
         "mode": "markers",
         "name": "NURS, UTS",
         "orientation": "v",
         "showlegend": true,
         "type": "scatter",
         "x": [
          -21.353639602661133,
          -22.226987838745117,
          -14.0355806350708,
          -14.818219184875488,
          -14.832253456115723,
          -17.362485885620117,
          -10.540359497070312,
          -20.45052719116211,
          -24.026296615600586,
          -21.18535804748535,
          -16.65996551513672,
          -14.149463653564453,
          -18.46784782409668,
          -19.330705642700195,
          -23.881851196289062,
          -14.113405227661133,
          -22.215974807739258,
          -10.735309600830078,
          -16.11656379699707,
          -15.386865615844727,
          -15.018982887268066,
          -17.184978485107422,
          -18.026668548583984,
          -20.12291145324707,
          -21.65515899658203,
          -17.678241729736328,
          -19.322412490844727,
          -24.102703094482422,
          -20.705318450927734,
          -10.858924865722656,
          -17.394533157348633,
          -15.335171699523926,
          -21.717153549194336,
          -21.013500213623047,
          -15.763047218322754,
          -16.462989807128906,
          -23.208101272583008,
          -22.4184513092041,
          -16.06844139099121,
          -15.78176498413086,
          -21.17353057861328,
          -19.180652618408203,
          -10.547548294067383,
          -19.736095428466797,
          -16.911222457885742,
          -16.106327056884766,
          -16.392717361450195,
          -16.332618713378906,
          -20.63107681274414,
          -24.027507781982422
         ],
         "xaxis": "x",
         "y": [
          37.413597106933594,
          29.279281616210938,
          32.50465774536133,
          31.13864517211914,
          34.5248908996582,
          33.243377685546875,
          33.56843185424805,
          40.072628021240234,
          33.333580017089844,
          38.45730209350586,
          35.444427490234375,
          33.5182991027832,
          30.787616729736328,
          39.136253356933594,
          35.114925384521484,
          32.04828643798828,
          38.092063903808594,
          34.85334396362305,
          26.918231964111328,
          36.47105026245117,
          32.91584777832031,
          30.251697540283203,
          31.798095703125,
          37.54658508300781,
          39.74480438232422,
          33.43332290649414,
          33.151180267333984,
          33.18931198120117,
          39.06498336791992,
          34.97222900390625,
          35.162593841552734,
          33.852603912353516,
          39.103946685791016,
          35.641475677490234,
          35.371482849121094,
          31.991676330566406,
          38.47347640991211,
          37.355796813964844,
          26.936120986938477,
          32.72182083129883,
          35.8002815246582,
          38.482582092285156,
          33.77163314819336,
          32.259117126464844,
          29.49994659423828,
          31.955333709716797,
          34.264686584472656,
          34.825992584228516,
          38.387367248535156,
          34.83866500854492
         ],
         "yaxis": "y"
        },
        {
         "customdata": [
          [
           "NURS1008",
           "USYD"
          ],
          [
           "NURS3019",
           "USYD"
          ],
          [
           "NURS1004",
           "USYD"
          ],
          [
           "NURS3015",
           "USYD"
          ],
          [
           "NURS1005",
           "USYD"
          ],
          [
           "NURS2003",
           "USYD"
          ],
          [
           "NURS3018",
           "USYD"
          ],
          [
           "NURS1002",
           "USYD"
          ],
          [
           "NURS2008",
           "USYD"
          ],
          [
           "NURS3008",
           "USYD"
          ],
          [
           "NURS2009",
           "USYD"
          ],
          [
           "NURS3012",
           "USYD"
          ],
          [
           "NURS1003",
           "USYD"
          ],
          [
           "NURS2005",
           "USYD"
          ],
          [
           "NURS3007",
           "USYD"
          ],
          [
           "NURS2010",
           "USYD"
          ],
          [
           "NURS2006",
           "USYD"
          ],
          [
           "NURS1001",
           "USYD"
          ],
          [
           "NURS2011",
           "USYD"
          ],
          [
           "NURS3017",
           "USYD"
          ],
          [
           "NURS1006",
           "USYD"
          ],
          [
           "NURS2001",
           "USYD"
          ],
          [
           "NURS1007",
           "USYD"
          ],
          [
           "NURS3020",
           "USYD"
          ]
         ],
         "hovertemplate": "<b>%{hovertext}</b><br><br>degree=NURS<br>uni=%{customdata[1]}<br>x=%{x}<br>y=%{y}<br>subject_code=%{customdata[0]}<extra></extra>",
         "hovertext": [
          "NURS1008",
          "NURS3019",
          "NURS1004",
          "NURS3015",
          "NURS1005",
          "NURS2003",
          "NURS3018",
          "NURS1002",
          "NURS2008",
          "NURS3008",
          "NURS2009",
          "NURS3012",
          "NURS1003",
          "NURS2005",
          "NURS3007",
          "NURS2010",
          "NURS2006",
          "NURS1001",
          "NURS2011",
          "NURS3017",
          "NURS1006",
          "NURS2001",
          "NURS1007",
          "NURS3020"
         ],
         "legendgroup": "NURS, USYD",
         "marker": {
          "color": "#ab63fa",
          "symbol": "diamond"
         },
         "mode": "markers",
         "name": "NURS, USYD",
         "orientation": "v",
         "showlegend": true,
         "type": "scatter",
         "x": [
          -22.39560317993164,
          -21.143070220947266,
          -21.370731353759766,
          -18.792081832885742,
          -16.104673385620117,
          -18.92818260192871,
          -19.64493751525879,
          -22.466550827026367,
          -17.20536994934082,
          -21.375303268432617,
          -23.798831939697266,
          -24.569931030273438,
          -18.84212875366211,
          -20.690582275390625,
          -22.152711868286133,
          -24.211822509765625,
          -17.738187789916992,
          -16.031574249267578,
          -23.51991081237793,
          -21.3787899017334,
          -22.754587173461914,
          -20.650503158569336,
          -20.994094848632812,
          -20.645692825317383
         ],
         "xaxis": "x",
         "y": [
          26.367815017700195,
          27.229267120361328,
          25.79484748840332,
          24.159513473510742,
          13.748601913452148,
          23.40715789794922,
          26.76595115661621,
          24.13805389404297,
          24.69513511657715,
          24.73041343688965,
          24.4249210357666,
          27.258289337158203,
          23.044797897338867,
          19.829227447509766,
          27.52505111694336,
          24.4564266204834,
          22.5882511138916,
          13.579233169555664,
          26.73899269104004,
          26.235300064086914,
          25.127744674682617,
          19.752180099487305,
          23.727073669433594,
          27.749799728393555
         ],
         "yaxis": "y"
        }
       ],
       "layout": {
        "legend": {
         "title": {
          "text": "degree, uni"
         },
         "tracegroupgap": 0
        },
        "margin": {
         "t": 60
        },
        "template": {
         "data": {
          "bar": [
           {
            "error_x": {
             "color": "#2a3f5f"
            },
            "error_y": {
             "color": "#2a3f5f"
            },
            "marker": {
             "line": {
              "color": "#E5ECF6",
              "width": 0.5
             },
             "pattern": {
              "fillmode": "overlay",
              "size": 10,
              "solidity": 0.2
             }
            },
            "type": "bar"
           }
          ],
          "barpolar": [
           {
            "marker": {
             "line": {
              "color": "#E5ECF6",
              "width": 0.5
             },
             "pattern": {
              "fillmode": "overlay",
              "size": 10,
              "solidity": 0.2
             }
            },
            "type": "barpolar"
           }
          ],
          "carpet": [
           {
            "aaxis": {
             "endlinecolor": "#2a3f5f",
             "gridcolor": "white",
             "linecolor": "white",
             "minorgridcolor": "white",
             "startlinecolor": "#2a3f5f"
            },
            "baxis": {
             "endlinecolor": "#2a3f5f",
             "gridcolor": "white",
             "linecolor": "white",
             "minorgridcolor": "white",
             "startlinecolor": "#2a3f5f"
            },
            "type": "carpet"
           }
          ],
          "choropleth": [
           {
            "colorbar": {
             "outlinewidth": 0,
             "ticks": ""
            },
            "type": "choropleth"
           }
          ],
          "contour": [
           {
            "colorbar": {
             "outlinewidth": 0,
             "ticks": ""
            },
            "colorscale": [
             [
              0,
              "#0d0887"
             ],
             [
              0.1111111111111111,
              "#46039f"
             ],
             [
              0.2222222222222222,
              "#7201a8"
             ],
             [
              0.3333333333333333,
              "#9c179e"
             ],
             [
              0.4444444444444444,
              "#bd3786"
             ],
             [
              0.5555555555555556,
              "#d8576b"
             ],
             [
              0.6666666666666666,
              "#ed7953"
             ],
             [
              0.7777777777777778,
              "#fb9f3a"
             ],
             [
              0.8888888888888888,
              "#fdca26"
             ],
             [
              1,
              "#f0f921"
             ]
            ],
            "type": "contour"
           }
          ],
          "contourcarpet": [
           {
            "colorbar": {
             "outlinewidth": 0,
             "ticks": ""
            },
            "type": "contourcarpet"
           }
          ],
          "heatmap": [
           {
            "colorbar": {
             "outlinewidth": 0,
             "ticks": ""
            },
            "colorscale": [
             [
              0,
              "#0d0887"
             ],
             [
              0.1111111111111111,
              "#46039f"
             ],
             [
              0.2222222222222222,
              "#7201a8"
             ],
             [
              0.3333333333333333,
              "#9c179e"
             ],
             [
              0.4444444444444444,
              "#bd3786"
             ],
             [
              0.5555555555555556,
              "#d8576b"
             ],
             [
              0.6666666666666666,
              "#ed7953"
             ],
             [
              0.7777777777777778,
              "#fb9f3a"
             ],
             [
              0.8888888888888888,
              "#fdca26"
             ],
             [
              1,
              "#f0f921"
             ]
            ],
            "type": "heatmap"
           }
          ],
          "heatmapgl": [
           {
            "colorbar": {
             "outlinewidth": 0,
             "ticks": ""
            },
            "colorscale": [
             [
              0,
              "#0d0887"
             ],
             [
              0.1111111111111111,
              "#46039f"
             ],
             [
              0.2222222222222222,
              "#7201a8"
             ],
             [
              0.3333333333333333,
              "#9c179e"
             ],
             [
              0.4444444444444444,
              "#bd3786"
             ],
             [
              0.5555555555555556,
              "#d8576b"
             ],
             [
              0.6666666666666666,
              "#ed7953"
             ],
             [
              0.7777777777777778,
              "#fb9f3a"
             ],
             [
              0.8888888888888888,
              "#fdca26"
             ],
             [
              1,
              "#f0f921"
             ]
            ],
            "type": "heatmapgl"
           }
          ],
          "histogram": [
           {
            "marker": {
             "pattern": {
              "fillmode": "overlay",
              "size": 10,
              "solidity": 0.2
             }
            },
            "type": "histogram"
           }
          ],
          "histogram2d": [
           {
            "colorbar": {
             "outlinewidth": 0,
             "ticks": ""
            },
            "colorscale": [
             [
              0,
              "#0d0887"
             ],
             [
              0.1111111111111111,
              "#46039f"
             ],
             [
              0.2222222222222222,
              "#7201a8"
             ],
             [
              0.3333333333333333,
              "#9c179e"
             ],
             [
              0.4444444444444444,
              "#bd3786"
             ],
             [
              0.5555555555555556,
              "#d8576b"
             ],
             [
              0.6666666666666666,
              "#ed7953"
             ],
             [
              0.7777777777777778,
              "#fb9f3a"
             ],
             [
              0.8888888888888888,
              "#fdca26"
             ],
             [
              1,
              "#f0f921"
             ]
            ],
            "type": "histogram2d"
           }
          ],
          "histogram2dcontour": [
           {
            "colorbar": {
             "outlinewidth": 0,
             "ticks": ""
            },
            "colorscale": [
             [
              0,
              "#0d0887"
             ],
             [
              0.1111111111111111,
              "#46039f"
             ],
             [
              0.2222222222222222,
              "#7201a8"
             ],
             [
              0.3333333333333333,
              "#9c179e"
             ],
             [
              0.4444444444444444,
              "#bd3786"
             ],
             [
              0.5555555555555556,
              "#d8576b"
             ],
             [
              0.6666666666666666,
              "#ed7953"
             ],
             [
              0.7777777777777778,
              "#fb9f3a"
             ],
             [
              0.8888888888888888,
              "#fdca26"
             ],
             [
              1,
              "#f0f921"
             ]
            ],
            "type": "histogram2dcontour"
           }
          ],
          "mesh3d": [
           {
            "colorbar": {
             "outlinewidth": 0,
             "ticks": ""
            },
            "type": "mesh3d"
           }
          ],
          "parcoords": [
           {
            "line": {
             "colorbar": {
              "outlinewidth": 0,
              "ticks": ""
             }
            },
            "type": "parcoords"
           }
          ],
          "pie": [
           {
            "automargin": true,
            "type": "pie"
           }
          ],
          "scatter": [
           {
            "fillpattern": {
             "fillmode": "overlay",
             "size": 10,
             "solidity": 0.2
            },
            "type": "scatter"
           }
          ],
          "scatter3d": [
           {
            "line": {
             "colorbar": {
              "outlinewidth": 0,
              "ticks": ""
             }
            },
            "marker": {
             "colorbar": {
              "outlinewidth": 0,
              "ticks": ""
             }
            },
            "type": "scatter3d"
           }
          ],
          "scattercarpet": [
           {
            "marker": {
             "colorbar": {
              "outlinewidth": 0,
              "ticks": ""
             }
            },
            "type": "scattercarpet"
           }
          ],
          "scattergeo": [
           {
            "marker": {
             "colorbar": {
              "outlinewidth": 0,
              "ticks": ""
             }
            },
            "type": "scattergeo"
           }
          ],
          "scattergl": [
           {
            "marker": {
             "colorbar": {
              "outlinewidth": 0,
              "ticks": ""
             }
            },
            "type": "scattergl"
           }
          ],
          "scattermapbox": [
           {
            "marker": {
             "colorbar": {
              "outlinewidth": 0,
              "ticks": ""
             }
            },
            "type": "scattermapbox"
           }
          ],
          "scatterpolar": [
           {
            "marker": {
             "colorbar": {
              "outlinewidth": 0,
              "ticks": ""
             }
            },
            "type": "scatterpolar"
           }
          ],
          "scatterpolargl": [
           {
            "marker": {
             "colorbar": {
              "outlinewidth": 0,
              "ticks": ""
             }
            },
            "type": "scatterpolargl"
           }
          ],
          "scatterternary": [
           {
            "marker": {
             "colorbar": {
              "outlinewidth": 0,
              "ticks": ""
             }
            },
            "type": "scatterternary"
           }
          ],
          "surface": [
           {
            "colorbar": {
             "outlinewidth": 0,
             "ticks": ""
            },
            "colorscale": [
             [
              0,
              "#0d0887"
             ],
             [
              0.1111111111111111,
              "#46039f"
             ],
             [
              0.2222222222222222,
              "#7201a8"
             ],
             [
              0.3333333333333333,
              "#9c179e"
             ],
             [
              0.4444444444444444,
              "#bd3786"
             ],
             [
              0.5555555555555556,
              "#d8576b"
             ],
             [
              0.6666666666666666,
              "#ed7953"
             ],
             [
              0.7777777777777778,
              "#fb9f3a"
             ],
             [
              0.8888888888888888,
              "#fdca26"
             ],
             [
              1,
              "#f0f921"
             ]
            ],
            "type": "surface"
           }
          ],
          "table": [
           {
            "cells": {
             "fill": {
              "color": "#EBF0F8"
             },
             "line": {
              "color": "white"
             }
            },
            "header": {
             "fill": {
              "color": "#C8D4E3"
             },
             "line": {
              "color": "white"
             }
            },
            "type": "table"
           }
          ]
         },
         "layout": {
          "annotationdefaults": {
           "arrowcolor": "#2a3f5f",
           "arrowhead": 0,
           "arrowwidth": 1
          },
          "autotypenumbers": "strict",
          "coloraxis": {
           "colorbar": {
            "outlinewidth": 0,
            "ticks": ""
           }
          },
          "colorscale": {
           "diverging": [
            [
             0,
             "#8e0152"
            ],
            [
             0.1,
             "#c51b7d"
            ],
            [
             0.2,
             "#de77ae"
            ],
            [
             0.3,
             "#f1b6da"
            ],
            [
             0.4,
             "#fde0ef"
            ],
            [
             0.5,
             "#f7f7f7"
            ],
            [
             0.6,
             "#e6f5d0"
            ],
            [
             0.7,
             "#b8e186"
            ],
            [
             0.8,
             "#7fbc41"
            ],
            [
             0.9,
             "#4d9221"
            ],
            [
             1,
             "#276419"
            ]
           ],
           "sequential": [
            [
             0,
             "#0d0887"
            ],
            [
             0.1111111111111111,
             "#46039f"
            ],
            [
             0.2222222222222222,
             "#7201a8"
            ],
            [
             0.3333333333333333,
             "#9c179e"
            ],
            [
             0.4444444444444444,
             "#bd3786"
            ],
            [
             0.5555555555555556,
             "#d8576b"
            ],
            [
             0.6666666666666666,
             "#ed7953"
            ],
            [
             0.7777777777777778,
             "#fb9f3a"
            ],
            [
             0.8888888888888888,
             "#fdca26"
            ],
            [
             1,
             "#f0f921"
            ]
           ],
           "sequentialminus": [
            [
             0,
             "#0d0887"
            ],
            [
             0.1111111111111111,
             "#46039f"
            ],
            [
             0.2222222222222222,
             "#7201a8"
            ],
            [
             0.3333333333333333,
             "#9c179e"
            ],
            [
             0.4444444444444444,
             "#bd3786"
            ],
            [
             0.5555555555555556,
             "#d8576b"
            ],
            [
             0.6666666666666666,
             "#ed7953"
            ],
            [
             0.7777777777777778,
             "#fb9f3a"
            ],
            [
             0.8888888888888888,
             "#fdca26"
            ],
            [
             1,
             "#f0f921"
            ]
           ]
          },
          "colorway": [
           "#636efa",
           "#EF553B",
           "#00cc96",
           "#ab63fa",
           "#FFA15A",
           "#19d3f3",
           "#FF6692",
           "#B6E880",
           "#FF97FF",
           "#FECB52"
          ],
          "font": {
           "color": "#2a3f5f"
          },
          "geo": {
           "bgcolor": "white",
           "lakecolor": "white",
           "landcolor": "#E5ECF6",
           "showlakes": true,
           "showland": true,
           "subunitcolor": "white"
          },
          "hoverlabel": {
           "align": "left"
          },
          "hovermode": "closest",
          "mapbox": {
           "style": "light"
          },
          "paper_bgcolor": "white",
          "plot_bgcolor": "#E5ECF6",
          "polar": {
           "angularaxis": {
            "gridcolor": "white",
            "linecolor": "white",
            "ticks": ""
           },
           "bgcolor": "#E5ECF6",
           "radialaxis": {
            "gridcolor": "white",
            "linecolor": "white",
            "ticks": ""
           }
          },
          "scene": {
           "xaxis": {
            "backgroundcolor": "#E5ECF6",
            "gridcolor": "white",
            "gridwidth": 2,
            "linecolor": "white",
            "showbackground": true,
            "ticks": "",
            "zerolinecolor": "white"
           },
           "yaxis": {
            "backgroundcolor": "#E5ECF6",
            "gridcolor": "white",
            "gridwidth": 2,
            "linecolor": "white",
            "showbackground": true,
            "ticks": "",
            "zerolinecolor": "white"
           },
           "zaxis": {
            "backgroundcolor": "#E5ECF6",
            "gridcolor": "white",
            "gridwidth": 2,
            "linecolor": "white",
            "showbackground": true,
            "ticks": "",
            "zerolinecolor": "white"
           }
          },
          "shapedefaults": {
           "line": {
            "color": "#2a3f5f"
           }
          },
          "ternary": {
           "aaxis": {
            "gridcolor": "white",
            "linecolor": "white",
            "ticks": ""
           },
           "baxis": {
            "gridcolor": "white",
            "linecolor": "white",
            "ticks": ""
           },
           "bgcolor": "#E5ECF6",
           "caxis": {
            "gridcolor": "white",
            "linecolor": "white",
            "ticks": ""
           }
          },
          "title": {
           "x": 0.05
          },
          "xaxis": {
           "automargin": true,
           "gridcolor": "white",
           "linecolor": "white",
           "ticks": "",
           "title": {
            "standoff": 15
           },
           "zerolinecolor": "white",
           "zerolinewidth": 2
          },
          "yaxis": {
           "automargin": true,
           "gridcolor": "white",
           "linecolor": "white",
           "ticks": "",
           "title": {
            "standoff": 15
           },
           "zerolinecolor": "white",
           "zerolinewidth": 2
          }
         }
        },
        "title": {
         "text": "t-SNE of SBERT embeddings of UTS and USYD subjects using by Degree"
        },
        "xaxis": {
         "anchor": "y",
         "domain": [
          0,
          1
         ],
         "title": {
          "text": "First t-SNE"
         }
        },
        "yaxis": {
         "anchor": "x",
         "domain": [
          0,
          1
         ],
         "title": {
          "text": "Second t-SNE"
         }
        }
       }
      }
     },
     "metadata": {},
     "output_type": "display_data"
    }
   ],
   "source": [
    "fig = px.scatter(sbert_subject_df, x=\"x\", y=\"y\", color=\"degree\", symbol=\"uni\", hover_name=\"subject_code\", hover_data=[\"subject_code\", \"uni\"])\n",
    "fig.update_layout(\n",
    "    title=\"t-SNE of SBERT embeddings of UTS and USYD subjects using by Degree\",\n",
    "    xaxis_title=\"First t-SNE\",\n",
    "    yaxis_title=\"Second t-SNE\",\n",
    ")\n",
    "fig.show()"
   ]
  },
  {
   "cell_type": "code",
   "execution_count": 131,
   "metadata": {},
   "outputs": [
    {
     "data": {
      "application/vnd.plotly.v1+json": {
       "config": {
        "plotlyServerURL": "https://plot.ly"
       },
       "data": [
        {
         "customdata": [
          [
           "48260",
           "UTS"
          ],
          [
           "31482",
           "UTS"
          ],
          [
           "92471",
           "UTS"
          ],
          [
           "41057",
           "UTS"
          ],
          [
           "93470",
           "UTS"
          ],
          [
           "41128",
           "UTS"
          ],
          [
           "41201",
           "UTS"
          ],
          [
           "32144",
           "UTS"
          ],
          [
           "41276",
           "UTS"
          ],
          [
           "16138",
           "UTS"
          ],
          [
           "93217",
           "UTS"
          ],
          [
           "93201",
           "UTS"
          ],
          [
           "48610",
           "UTS"
          ],
          [
           "93200",
           "UTS"
          ],
          [
           "41060",
           "UTS"
          ],
          [
           "16912",
           "UTS"
          ],
          [
           "93216",
           "UTS"
          ],
          [
           "31266",
           "UTS"
          ],
          [
           "91529",
           "UTS"
          ],
          [
           "41277",
           "UTS"
          ],
          [
           "16314",
           "UTS"
          ],
          [
           "41200",
           "UTS"
          ],
          [
           "41129",
           "UTS"
          ],
          [
           "48430",
           "UTS"
          ],
          [
           "41056",
           "UTS"
          ],
          [
           "92470",
           "UTS"
          ],
          [
           "93220",
           "UTS"
          ],
          [
           "92482",
           "UTS"
          ],
          [
           "41118",
           "UTS"
          ],
          [
           "93211",
           "UTS"
          ],
          [
           "93207",
           "UTS"
          ],
          [
           "41067",
           "UTS"
          ],
          [
           "93227",
           "UTS"
          ],
          [
           "92477",
           "UTS"
          ],
          [
           "93231",
           "UTS"
          ],
          [
           "43017",
           "UTS"
          ],
          [
           "41084",
           "UTS"
          ],
          [
           "42095",
           "UTS"
          ],
          [
           "41085",
           "UTS"
          ],
          [
           "68038",
           "UTS"
          ],
          [
           "41302",
           "UTS"
          ],
          [
           "16471",
           "UTS"
          ],
          [
           "93230",
           "UTS"
          ],
          [
           "92476",
           "UTS"
          ],
          [
           "48230",
           "UTS"
          ],
          [
           "91562",
           "UTS"
          ],
          [
           "93226",
           "UTS"
          ],
          [
           "93206",
           "UTS"
          ],
          [
           "41066",
           "UTS"
          ],
          [
           "93210",
           "UTS"
          ],
          [
           "41070",
           "UTS"
          ],
          [
           "49047",
           "UTS"
          ],
          [
           "48441",
           "UTS"
          ],
          [
           "33230",
           "UTS"
          ],
          [
           "93205",
           "UTS"
          ],
          [
           "93213",
           "UTS"
          ],
          [
           "68037",
           "UTS"
          ],
          [
           "43019",
           "UTS"
          ],
          [
           "92479",
           "UTS"
          ],
          [
           "92480",
           "UTS"
          ],
          [
           "93229",
           "UTS"
          ],
          [
           "37335",
           "UTS"
          ],
          [
           "41069",
           "UTS"
          ],
          [
           "41086",
           "UTS"
          ],
          [
           "93209",
           "UTS"
          ],
          [
           "41028",
           "UTS"
          ],
          [
           "93233",
           "UTS"
          ],
          [
           "41053",
           "UTS"
          ],
          [
           "48622",
           "UTS"
          ],
          [
           "92475",
           "UTS"
          ],
          [
           "41012",
           "UTS"
          ],
          [
           "91561",
           "UTS"
          ],
          [
           "93225",
           "UTS"
          ],
          [
           "93224",
           "UTS"
          ],
          [
           "41013",
           "UTS"
          ],
          [
           "92474",
           "UTS"
          ],
          [
           "93232",
           "UTS"
          ],
          [
           "43014",
           "UTS"
          ],
          [
           "48434",
           "UTS"
          ],
          [
           "16263",
           "UTS"
          ],
          [
           "37181",
           "UTS"
          ],
          [
           "41068",
           "UTS"
          ],
          [
           "41087",
           "UTS"
          ],
          [
           "93208",
           "UTS"
          ],
          [
           "48530",
           "UTS"
          ],
          [
           "93228",
           "UTS"
          ],
          [
           "37363",
           "UTS"
          ],
          [
           "92481",
           "UTS"
          ],
          [
           "92478",
           "UTS"
          ],
          [
           "32931",
           "UTS"
          ],
          [
           "43018",
           "UTS"
          ],
          [
           "93212",
           "UTS"
          ],
          [
           "93204",
           "UTS"
          ],
          [
           "41033",
           "UTS"
          ],
          [
           "41203",
           "UTS"
          ],
          [
           "41080",
           "UTS"
          ],
          [
           "48521",
           "UTS"
          ],
          [
           "41079",
           "UTS"
          ],
          [
           "93219",
           "UTS"
          ],
          [
           "41055",
           "UTS"
          ],
          [
           "48366",
           "UTS"
          ],
          [
           "92473",
           "UTS"
          ],
          [
           "48389",
           "UTS"
          ],
          [
           "41278",
           "UTS"
          ],
          [
           "91530",
           "UTS"
          ],
          [
           "49131",
           "UTS"
          ],
          [
           "48370",
           "UTS"
          ],
          [
           "41014",
           "UTS"
          ],
          [
           "93223",
           "UTS"
          ],
          [
           "41034",
           "UTS"
          ],
          [
           "93203",
           "UTS"
          ],
          [
           "33130",
           "UTS"
          ],
          [
           "49150",
           "UTS"
          ],
          [
           "31265",
           "UTS"
          ],
          [
           "41059",
           "UTS"
          ],
          [
           "48540",
           "UTS"
          ],
          [
           "41058",
           "UTS"
          ],
          [
           "49151",
           "UTS"
          ],
          [
           "93214",
           "UTS"
          ],
          [
           "41127",
           "UTS"
          ],
          [
           "93202",
           "UTS"
          ],
          [
           "41035",
           "UTS"
          ],
          [
           "31272",
           "UTS"
          ],
          [
           "93222",
           "UTS"
          ],
          [
           "48371",
           "UTS"
          ],
          [
           "92472",
           "UTS"
          ],
          [
           "16422",
           "UTS"
          ],
          [
           "41054",
           "UTS"
          ],
          [
           "31268",
           "UTS"
          ],
          [
           "41078",
           "UTS"
          ],
          [
           "93218",
           "UTS"
          ],
          [
           "41202",
           "UTS"
          ]
         ],
         "hovertemplate": "major=CORE/NONE<br>uni=%{customdata[1]}<br>x=%{x}<br>y=%{y}<br>subject_code=%{customdata[0]}<extra></extra>",
         "legendgroup": "CORE/NONE, UTS",
         "marker": {
          "color": "#636efa",
          "symbol": "circle"
         },
         "mode": "markers",
         "name": "CORE/NONE, UTS",
         "orientation": "v",
         "showlegend": true,
         "type": "scatter",
         "x": [
          21.947690963745117,
          25.659133911132812,
          -21.353639602661133,
          9.983866691589355,
          -22.226987838745117,
          20.550966262817383,
          21.63924217224121,
          24.495481491088867,
          13.279741287231445,
          27.99498176574707,
          -14.0355806350708,
          -14.818219184875488,
          13.7398099899292,
          -14.832253456115723,
          12.897957801818848,
          27.61367416381836,
          -17.362485885620117,
          20.660263061523438,
          -10.540359497070312,
          16.5894718170166,
          28.145343780517578,
          23.990116119384766,
          21.230051040649414,
          19.832237243652344,
          12.760293006896973,
          -20.45052719116211,
          -24.026296615600586,
          -21.18535804748535,
          7.710947036743164,
          -16.65996551513672,
          -14.149463653564453,
          12.225218772888184,
          -18.46784782409668,
          -19.330705642700195,
          -23.881851196289062,
          12.527506828308105,
          18.853864669799805,
          25.74053382873535,
          19.478784561157227,
          5.224191665649414,
          16.383075714111328,
          28.887866973876953,
          -14.113405227661133,
          -22.215974807739258,
          22.182844161987305,
          -10.735309600830078,
          -16.11656379699707,
          -15.386865615844727,
          12.41187858581543,
          -15.018982887268066,
          7.474794387817383,
          24.89225196838379,
          17.14267349243164,
          5.575028419494629,
          -17.184978485107422,
          -18.026668548583984,
          5.234441757202148,
          10.941329956054688,
          -20.12291145324707,
          -21.65515899658203,
          -17.678241729736328,
          6.737261772155762,
          9.070893287658691,
          19.599184036254883,
          -19.322412490844727,
          22.46393585205078,
          -24.102703094482422,
          17.351184844970703,
          7.689036846160889,
          -20.705318450927734,
          8.13818073272705,
          -10.858924865722656,
          -17.394533157348633,
          -15.335171699523926,
          8.422109603881836,
          -21.717153549194336,
          -21.013500213623047,
          14.288198471069336,
          19.10987663269043,
          26.89314079284668,
          3.7513320446014404,
          9.05305004119873,
          20.37789535522461,
          -15.763047218322754,
          15.050666809082031,
          -16.462989807128906,
          5.982813835144043,
          -23.208101272583008,
          -22.4184513092041,
          24.346181869506836,
          13.902274131774902,
          -16.06844139099121,
          -15.78176498413086,
          14.758810997009277,
          27.777673721313477,
          18.304058074951172,
          16.532024383544922,
          18.13970375061035,
          -21.17353057861328,
          22.47101593017578,
          22.605575561523438,
          -19.180652618408203,
          23.796283721923828,
          32.60423278808594,
          -10.547548294067383,
          23.16666030883789,
          23.221529006958008,
          8.349635124206543,
          -19.736095428466797,
          14.175196647644043,
          -16.911222457885742,
          5.060230255126953,
          25.632858276367188,
          25.75783920288086,
          12.557950973510742,
          15.811212539672852,
          13.740711212158203,
          24.391374588012695,
          -16.106327056884766,
          21.559478759765625,
          -16.392717361450195,
          23.794029235839844,
          26.684816360473633,
          -16.332618713378906,
          20.686017990112305,
          -20.63107681274414,
          28.307493209838867,
          14.264443397521973,
          18.83269691467285,
          17.368892669677734,
          -24.027507781982422,
          23.26305389404297
         ],
         "xaxis": "x",
         "y": [
          7.276883125305176,
          13.17604923248291,
          37.413597106933594,
          8.750871658325195,
          29.279281616210938,
          17.76498794555664,
          6.058587074279785,
          13.612974166870117,
          10.983763694763184,
          10.075169563293457,
          32.50465774536133,
          31.13864517211914,
          0.22915396094322205,
          34.5248908996582,
          1.1837812662124634,
          6.513923168182373,
          33.243377685546875,
          21.552532196044922,
          33.56843185424805,
          12.972058296203613,
          7.184499263763428,
          8.468911170959473,
          16.923622131347656,
          15.700879096984863,
          7.2806925773620605,
          40.072628021240234,
          33.333580017089844,
          38.45730209350586,
          5.077188014984131,
          35.444427490234375,
          33.5182991027832,
          0.5472383499145508,
          30.787616729736328,
          39.136253356933594,
          35.114925384521484,
          7.1946330070495605,
          12.643712043762207,
          10.795083999633789,
          13.079607963562012,
          13.696934700012207,
          4.139747142791748,
          8.841679573059082,
          32.04828643798828,
          38.092063903808594,
          7.239978790283203,
          34.85334396362305,
          26.918231964111328,
          36.47105026245117,
          0.21289576590061188,
          32.91584777832031,
          1.604812502861023,
          5.344365119934082,
          10.187638282775879,
          14.823808670043945,
          30.251697540283203,
          31.798095703125,
          12.845626831054688,
          0.9553958773612976,
          37.54658508300781,
          39.74480438232422,
          33.43332290649414,
          14.273909568786621,
          4.040181636810303,
          14.009713172912598,
          33.151180267333984,
          9.283146858215332,
          33.18931198120117,
          4.0979814529418945,
          1.3566014766693115,
          39.06498336791992,
          1.2383390665054321,
          34.97222900390625,
          35.162593841552734,
          33.852603912353516,
          3.4457733631134033,
          39.103946685791016,
          35.641475677490234,
          2.657130241394043,
          15.60494613647461,
          6.898138523101807,
          14.16089916229248,
          4.059661865234375,
          14.023014068603516,
          35.371482849121094,
          11.132360458374023,
          31.991676330566406,
          16.70680809020996,
          38.47347640991211,
          37.355796813964844,
          13.74592113494873,
          6.216235160827637,
          26.936120986938477,
          32.72182083129883,
          9.911376953125,
          12.628789901733398,
          22.397279739379883,
          9.512687683105469,
          22.131656646728516,
          35.8002815246582,
          9.606779098510742,
          3.2877044677734375,
          38.482582092285156,
          5.979647636413574,
          3.654066801071167,
          33.77163314819336,
          4.875391960144043,
          0.2470201700925827,
          0.338079035282135,
          32.259117126464844,
          10.018000602722168,
          29.49994659423828,
          15.114181518554688,
          3.126988410949707,
          14.851568222045898,
          1.3045156002044678,
          11.685667037963867,
          6.431547164916992,
          3.0212509632110596,
          31.955333709716797,
          17.446910858154297,
          34.264686584472656,
          11.7025146484375,
          13.576924324035645,
          34.825992584228516,
          4.2872538566589355,
          38.387367248535156,
          7.078436851501465,
          2.4976859092712402,
          17.343908309936523,
          23.381877899169922,
          34.83866500854492,
          8.5907564163208
         ],
         "yaxis": "y"
        },
        {
         "customdata": [
          [
           "NURS1008",
           "USYD"
          ],
          [
           "NURS3019",
           "USYD"
          ],
          [
           "ENGP1002",
           "USYD"
          ],
          [
           "ENGG2112",
           "USYD"
          ],
          [
           "AMME4112",
           "USYD"
          ],
          [
           "NURS1004",
           "USYD"
          ],
          [
           "INFO4912",
           "USYD"
          ],
          [
           "NURS3015",
           "USYD"
          ],
          [
           "MATH1964",
           "USYD"
          ],
          [
           "INFO1911",
           "USYD"
          ],
          [
           "INFO4990",
           "USYD"
          ],
          [
           "ISYS5070",
           "USYD"
          ],
          [
           "ENGG3112",
           "USYD"
          ],
          [
           "INFO2150",
           "USYD"
          ],
          [
           "INFO4913",
           "USYD"
          ],
          [
           "NURS1005",
           "USYD"
          ],
          [
           "ENGP1003",
           "USYD"
          ],
          [
           "NURS2003",
           "USYD"
          ],
          [
           "HTIN4003",
           "USYD"
          ],
          [
           "INFO2222",
           "USYD"
          ],
          [
           "NURS3018",
           "USYD"
          ],
          [
           "CIVL1900",
           "USYD"
          ],
          [
           "INFO4001",
           "USYD"
          ],
          [
           "INFO4406",
           "USYD"
          ],
          [
           "ENGP2002",
           "USYD"
          ],
          [
           "NURS1002",
           "USYD"
          ],
          [
           "INFO2911",
           "USYD"
          ],
          [
           "MATH1061",
           "USYD"
          ],
          [
           "BMET1960",
           "USYD"
          ],
          [
           "ENGG3800",
           "USYD"
          ],
          [
           "NURS2008",
           "USYD"
          ],
          [
           "CHNG4203",
           "USYD"
          ],
          [
           "HTIN4005",
           "USYD"
          ],
          [
           "NURS3008",
           "USYD"
          ],
          [
           "BMET4112",
           "USYD"
          ],
          [
           "CHNG4812",
           "USYD"
          ],
          [
           "NURS2009",
           "USYD"
          ],
          [
           "ENGP3002",
           "USYD"
          ],
          [
           "NURS3012",
           "USYD"
          ],
          [
           "INFO1111",
           "USYD"
          ],
          [
           "CHNG1108",
           "USYD"
          ],
          [
           "ENGP2003",
           "USYD"
          ],
          [
           "NURS1003",
           "USYD"
          ],
          [
           "INFO3911",
           "USYD"
          ],
          [
           "ENGG1810",
           "USYD"
          ],
          [
           "AERO1560",
           "USYD"
          ],
          [
           "NURS2005",
           "USYD"
          ],
          [
           "NURS3007",
           "USYD"
          ],
          [
           "ENGP3001",
           "USYD"
          ],
          [
           "INFO1112",
           "USYD"
          ],
          [
           "NURS2010",
           "USYD"
          ],
          [
           "INFO3912",
           "USYD"
          ],
          [
           "NURS2006",
           "USYD"
          ],
          [
           "HTIN4006",
           "USYD"
          ],
          [
           "MECH1560",
           "USYD"
          ],
          [
           "BMET4111",
           "USYD"
          ],
          [
           "CHNG4811",
           "USYD"
          ],
          [
           "INFO4999",
           "USYD"
          ],
          [
           "INFO4002",
           "USYD"
          ],
          [
           "NURS1001",
           "USYD"
          ],
          [
           "ENGP2001",
           "USYD"
          ],
          [
           "INFO4444",
           "USYD"
          ],
          [
           "NURS2011",
           "USYD"
          ],
          [
           "MTRX1701",
           "USYD"
          ],
          [
           "INFO2912",
           "USYD"
          ],
          [
           "MATH1062",
           "USYD"
          ],
          [
           "MATH1961",
           "USYD"
          ],
          [
           "ELEC4713",
           "USYD"
          ],
          [
           "ELEC1004",
           "USYD"
          ],
          [
           "NURS3017",
           "USYD"
          ],
          [
           "NURS1006",
           "USYD"
          ],
          [
           "CIVL4023",
           "USYD"
          ],
          [
           "NURS2001",
           "USYD"
          ],
          [
           "ENGP1001",
           "USYD"
          ],
          [
           "CIVL4022",
           "USYD"
          ],
          [
           "AMME4111",
           "USYD"
          ],
          [
           "NURS1007",
           "USYD"
          ],
          [
           "INFO4911",
           "USYD"
          ],
          [
           "MATH1064",
           "USYD"
          ],
          [
           "INFO1912",
           "USYD"
          ],
          [
           "NURS3020",
           "USYD"
          ],
          [
           "ELEC4712",
           "USYD"
          ],
          [
           "ELEC1005",
           "USYD"
          ],
          [
           "INFO3333",
           "USYD"
          ]
         ],
         "hovertemplate": "major=CORE/NONE<br>uni=%{customdata[1]}<br>x=%{x}<br>y=%{y}<br>subject_code=%{customdata[0]}<extra></extra>",
         "legendgroup": "CORE/NONE, USYD",
         "marker": {
          "color": "#636efa",
          "symbol": "diamond"
         },
         "mode": "markers",
         "name": "CORE/NONE, USYD",
         "orientation": "v",
         "showlegend": true,
         "type": "scatter",
         "x": [
          -22.39560317993164,
          -21.143070220947266,
          -17.442882537841797,
          -7.993457317352295,
          -13.11028003692627,
          -21.370731353759766,
          -9.61401081085205,
          -18.792081832885742,
          -9.68380355834961,
          -11.943499565124512,
          -13.035623550415039,
          -17.328834533691406,
          -7.929657459259033,
          -20.995101928710938,
          -9.537599563598633,
          -16.104673385620117,
          -18.192554473876953,
          -18.92818260192871,
          -20.612457275390625,
          -23.045452117919922,
          -19.64493751525879,
          2.2047605514526367,
          -13.579534530639648,
          -20.07181167602539,
          -17.651784896850586,
          -22.466550827026367,
          -11.21057415008545,
          -8.148577690124512,
          -11.78000545501709,
          -14.410731315612793,
          -17.20536994934082,
          -14.055395126342773,
          -19.820758819580078,
          -21.375303268432617,
          -11.527627944946289,
          -12.334087371826172,
          -23.798831939697266,
          -19.048782348632812,
          -24.569931030273438,
          -13.728559494018555,
          14.493985176086426,
          -18.400142669677734,
          -18.84212875366211,
          -11.604828834533691,
          -9.59095287322998,
          -4.624082088470459,
          -20.690582275390625,
          -22.152711868286133,
          -18.10649299621582,
          -6.547093868255615,
          -24.211822509765625,
          -11.34388256072998,
          -17.738187789916992,
          -20.036823272705078,
          4.01189661026001,
          -11.296906471252441,
          -12.198927879333496,
          -11.147432327270508,
          -13.478486061096191,
          -16.031574249267578,
          -17.278602600097656,
          -16.24812126159668,
          -23.51991081237793,
          3.5589914321899414,
          -10.919072151184082,
          -8.509256362915039,
          -8.013039588928223,
          -12.46596622467041,
          -3.2451438903808594,
          -21.3787899017334,
          -22.754587173461914,
          -11.398818969726562,
          -20.650503158569336,
          -18.76236915588379,
          -11.892867088317871,
          -13.319220542907715,
          -20.994094848632812,
          -9.354063034057617,
          -9.858972549438477,
          -12.078032493591309,
          -20.645692825317383,
          -13.022665977478027,
          -9.873315811157227,
          -14.256661415100098
         ],
         "xaxis": "x",
         "y": [
          26.367815017700195,
          27.229267120361328,
          -36.890140533447266,
          -30.402830123901367,
          -43.02449417114258,
          25.79484748840332,
          -19.0080509185791,
          24.159513473510742,
          -8.572784423828125,
          -21.701040267944336,
          -22.49262809753418,
          -30.79727554321289,
          -30.337467193603516,
          1.0146909952163696,
          -18.74456787109375,
          13.748601913452148,
          -37.51237106323242,
          23.40715789794922,
          2.6194965839385986,
          -22.963838577270508,
          26.76595115661621,
          -32.39010238647461,
          -20.115205764770508,
          -0.006808609236031771,
          -38.21933364868164,
          24.13805389404297,
          -20.793912887573242,
          -8.93017864227295,
          5.185267925262451,
          -33.766117095947266,
          24.69513511657715,
          -33.67689514160156,
          1.4845576286315918,
          24.73041343688965,
          -43.18906021118164,
          -43.259674072265625,
          24.4249210357666,
          -37.7208366394043,
          27.258289337158203,
          -28.543506622314453,
          -7.840396404266357,
          -38.318450927734375,
          23.044797897338867,
          -19.70900535583496,
          -23.848270416259766,
          -27.732059478759766,
          19.829227447509766,
          27.52505111694336,
          -36.624576568603516,
          -23.0423526763916,
          24.4564266204834,
          -19.941761016845703,
          22.5882511138916,
          1.5548441410064697,
          -9.376449584960938,
          -42.49171447753906,
          -42.46968460083008,
          -18.60198974609375,
          -20.096982955932617,
          13.579233169555664,
          -37.565757751464844,
          -31.316272735595703,
          26.73899269104004,
          -1.9857330322265625,
          -20.70819664001465,
          -7.968512058258057,
          -9.044078826904297,
          -41.82260513305664,
          -20.531667709350586,
          26.235300064086914,
          25.127744674682617,
          -41.603271484375,
          19.752180099487305,
          -36.900630950927734,
          -41.00617599487305,
          -42.335384368896484,
          23.727073669433594,
          -19.125526428222656,
          -8.323970794677734,
          -20.587779998779297,
          27.749799728393555,
          -41.37937927246094,
          -27.424894332885742,
          -28.172452926635742
         ],
         "yaxis": "y"
        },
        {
         "customdata": [
          [
           "31251",
           "UTS"
          ],
          [
           "48024",
           "UTS"
          ],
          [
           "31269",
           "UTS"
          ]
         ],
         "hovertemplate": "major=SOFT<br>uni=%{customdata[1]}<br>x=%{x}<br>y=%{y}<br>subject_code=%{customdata[0]}<extra></extra>",
         "legendgroup": "SOFT, UTS",
         "marker": {
          "color": "#EF553B",
          "symbol": "circle"
         },
         "mode": "markers",
         "name": "SOFT, UTS",
         "orientation": "v",
         "showlegend": true,
         "type": "scatter",
         "x": [
          16.55991554260254,
          18.95056915283203,
          24.87102508544922
         ],
         "xaxis": "x",
         "y": [
          18.945402145385742,
          19.717315673828125,
          20.176326751708984
         ],
         "yaxis": "y"
        },
        {
         "customdata": [
          [
           "ISYS2110",
           "USYD"
          ],
          [
           "COMP4530",
           "USYD"
          ],
          [
           "DATA1002",
           "USYD"
          ],
          [
           "COMP4415",
           "USYD"
          ],
          [
           "COMP4618",
           "USYD"
          ],
          [
           "COMP4445",
           "USYD"
          ],
          [
           "DATA4207",
           "USYD"
          ],
          [
           "COMP4347",
           "USYD"
          ],
          [
           "COMP4424",
           "USYD"
          ],
          [
           "ISYS3402",
           "USYD"
          ],
          [
           "ISYS4450",
           "USYD"
          ],
          [
           "COMP4425",
           "USYD"
          ],
          [
           "COMP4448",
           "USYD"
          ],
          [
           "STAT2911",
           "USYD"
          ],
          [
           "ISYS2160",
           "USYD"
          ],
          [
           "COMP4405",
           "USYD"
          ],
          [
           "COMP4328",
           "USYD"
          ],
          [
           "COMP4349",
           "USYD"
          ],
          [
           "MATH2069",
           "USYD"
          ],
          [
           "STAT2011",
           "USYD"
          ],
          [
           "BUSS1030",
           "USYD"
          ],
          [
           "COMP4427",
           "USYD"
          ],
          [
           "SOFT3410",
           "USYD"
          ],
          [
           "ISYS3401",
           "USYD"
          ],
          [
           "COMP4348",
           "USYD"
          ],
          [
           "COMP4446",
           "USYD"
          ],
          [
           "COMP4329",
           "USYD"
          ],
          [
           "INFO4491",
           "USYD"
          ],
          [
           "COMP4313",
           "USYD"
          ],
          [
           "INFO3616",
           "USYD"
          ],
          [
           "MKTG1001",
           "USYD"
          ],
          [
           "COMP4617",
           "USYD"
          ],
          [
           "DATA1902",
           "USYD"
          ],
          [
           "ISYS3888",
           "USYD"
          ],
          [
           "COMP4416",
           "USYD"
          ],
          [
           "COMP4338",
           "USYD"
          ],
          [
           "COMP4270",
           "USYD"
          ]
         ],
         "hovertemplate": "major=SOFT<br>uni=%{customdata[1]}<br>x=%{x}<br>y=%{y}<br>subject_code=%{customdata[0]}<extra></extra>",
         "legendgroup": "SOFT, USYD",
         "marker": {
          "color": "#EF553B",
          "symbol": "diamond"
         },
         "mode": "markers",
         "name": "SOFT, USYD",
         "orientation": "v",
         "showlegend": true,
         "type": "scatter",
         "x": [
          -18.718063354492188,
          -10.359659194946289,
          -20.744359970092773,
          -19.025836944580078,
          16.43177604675293,
          -17.38705062866211,
          -24.01896095275879,
          -19.762601852416992,
          -18.5975399017334,
          36.69619369506836,
          -17.364456176757812,
          -19.93768882751465,
          -19.193693161010742,
          -12.802313804626465,
          -6.512113571166992,
          -20.024620056152344,
          -14.208346366882324,
          -19.905019760131836,
          -9.554864883422852,
          -12.758630752563477,
          -13.579797744750977,
          -15.312392234802246,
          -13.897347450256348,
          -16.219661712646484,
          -18.321514129638672,
          -13.008610725402832,
          -15.321636199951172,
          -18.31907081604004,
          -5.803879261016846,
          15.452401161193848,
          -10.160845756530762,
          15.359152793884277,
          -20.719341278076172,
          -14.241762161254883,
          -6.05145788192749,
          -21.78535270690918,
          -11.71161937713623
         ],
         "xaxis": "x",
         "y": [
          -26.927188873291016,
          -13.459104537963867,
          -11.039268493652344,
          -16.478111267089844,
          -27.07543182373047,
          -16.40918731689453,
          -9.261431694030762,
          -24.416229248046875,
          1.789504051208496,
          12.584095001220703,
          -28.420562744140625,
          -16.282001495361328,
          -13.578022003173828,
          -9.627840995788574,
          -20.178508758544922,
          -17.71721839904785,
          -17.7215633392334,
          -20.36590576171875,
          -9.483404159545898,
          -9.738749504089355,
          -30.580413818359375,
          -15.287481307983398,
          -26.03878402709961,
          -29.917491912841797,
          -21.1319522857666,
          -12.567809104919434,
          -22.03746223449707,
          -30.46892547607422,
          -24.847810745239258,
          -26.589353561401367,
          -31.62433624267578,
          -25.643150329589844,
          -10.977572441101074,
          -29.755537033081055,
          -23.559057235717773,
          -13.580292701721191,
          -12.987800598144531
         ],
         "yaxis": "y"
        },
        {
         "customdata": [
          [
           "48221",
           "UTS"
          ],
          [
           "48352",
           "UTS"
          ],
          [
           "48353",
           "UTS"
          ],
          [
           "48349",
           "UTS"
          ],
          [
           "48362",
           "UTS"
          ],
          [
           "48821",
           "UTS"
          ],
          [
           "48860",
           "UTS"
          ],
          [
           "48881",
           "UTS"
          ],
          [
           "48340",
           "UTS"
          ],
          [
           "48360",
           "UTS"
          ],
          [
           "48321",
           "UTS"
          ],
          [
           "48320",
           "UTS"
          ],
          [
           "48331",
           "UTS"
          ],
          [
           "48310",
           "UTS"
          ],
          [
           "48330",
           "UTS"
          ]
         ],
         "hovertemplate": "major=CIVI<br>uni=%{customdata[1]}<br>x=%{x}<br>y=%{y}<br>subject_code=%{customdata[0]}<extra></extra>",
         "legendgroup": "CIVI, UTS",
         "marker": {
          "color": "#00cc96",
          "symbol": "circle"
         },
         "mode": "markers",
         "name": "CIVI, UTS",
         "orientation": "v",
         "showlegend": true,
         "type": "scatter",
         "x": [
          20.79869270324707,
          22.916973114013672,
          24.877307891845703,
          21.399513244628906,
          21.740413665771484,
          23.621000289916992,
          24.74062156677246,
          22.916778564453125,
          23.841772079467773,
          24.91851234436035,
          19.769886016845703,
          26.18129539489746,
          19.404254913330078,
          24.059783935546875,
          24.951391220092773
         ],
         "xaxis": "x",
         "y": [
          4.1701741218566895,
          2.1591782569885254,
          2.9118845462799072,
          2.2505974769592285,
          -3.8276352882385254,
          -1.1496894359588623,
          -2.208305835723877,
          -2.570014715194702,
          0.842293381690979,
          -4.3946356773376465,
          2.998528242111206,
          1.1914496421813965,
          1.942149043083191,
          0.2383183389902115,
          -4.610751628875732
         ],
         "yaxis": "y"
        },
        {
         "customdata": [
          [
           "CIVL1110",
           "USYD"
          ],
          [
           "CIVL5702",
           "USYD"
          ],
          [
           "CIVL5276",
           "USYD"
          ],
          [
           "CIVL1022",
           "USYD"
          ],
          [
           "CIVL5535",
           "USYD"
          ],
          [
           "CIVL5670",
           "USYD"
          ],
          [
           "CIVL5277",
           "USYD"
          ],
          [
           "CIVL4903",
           "USYD"
          ],
          [
           "CIVL3511",
           "USYD"
          ],
          [
           "CIVL5703",
           "USYD"
          ],
          [
           "CIVL3205",
           "USYD"
          ],
          [
           "CIVL3614",
           "USYD"
          ],
          [
           "CIVL5266",
           "USYD"
          ],
          [
           "CIVL5460",
           "USYD"
          ],
          [
           "CIVL5533",
           "USYD"
          ],
          [
           "CIVL3310",
           "USYD"
          ],
          [
           "CIVL5704",
           "USYD"
          ],
          [
           "CIVL4816",
           "USYD"
          ],
          [
           "CIVL2700",
           "USYD"
          ],
          [
           "CIVL4817",
           "USYD"
          ],
          [
           "CIVL1802",
           "USYD"
          ],
          [
           "CIVL2812",
           "USYD"
          ],
          [
           "CIVL3612",
           "USYD"
          ],
          [
           "CIVL3235",
           "USYD"
          ],
          [
           "CIVL4860",
           "USYD"
          ],
          [
           "CIVL5531",
           "USYD"
          ],
          [
           "CIVL4818",
           "USYD"
          ],
          [
           "CIVL5458",
           "USYD"
          ],
          [
           "CIVL3806",
           "USYD"
          ],
          [
           "CIVL2201",
           "USYD"
          ],
          [
           "CIVL5269",
           "USYD"
          ],
          [
           "CIVL2410",
           "USYD"
          ],
          [
           "CIVL3411",
           "USYD"
          ],
          [
           "CIVL2611",
           "USYD"
          ],
          [
           "CIVL3811",
           "USYD"
          ],
          [
           "CIVL5320",
           "USYD"
          ],
          [
           "CIVL4819",
           "USYD"
          ],
          [
           "CIVL4812",
           "USYD"
          ],
          [
           "CIVL2010",
           "USYD"
          ],
          [
           "CIVL3206",
           "USYD"
          ],
          [
           "CIVL5452",
           "USYD"
          ],
          [
           "CIVL3705",
           "USYD"
          ],
          [
           "CIVL5999",
           "USYD"
          ],
          [
           "CIVL5330",
           "USYD"
          ],
          [
           "CIVL5668",
           "USYD"
          ],
          [
           "CIVL3704",
           "USYD"
          ],
          [
           "CIVL5453",
           "USYD"
          ],
          [
           "CIVL1810",
           "USYD"
          ],
          [
           "CIVL4203",
           "USYD"
          ],
          [
           "CIVL5351",
           "USYD"
          ],
          [
           "CIVL5701",
           "USYD"
          ]
         ],
         "hovertemplate": "major=CIVI<br>uni=%{customdata[1]}<br>x=%{x}<br>y=%{y}<br>subject_code=%{customdata[0]}<extra></extra>",
         "legendgroup": "CIVI, USYD",
         "marker": {
          "color": "#00cc96",
          "symbol": "diamond"
         },
         "mode": "markers",
         "name": "CIVI, USYD",
         "orientation": "v",
         "showlegend": true,
         "type": "scatter",
         "x": [
          2.5950019359588623,
          0.15125305950641632,
          -1.9332828521728516,
          8.019832611083984,
          -0.4855160713195801,
          12.689664840698242,
          2.2506697177886963,
          1.1164827346801758,
          -1.061180830001831,
          -2.2504522800445557,
          5.3088178634643555,
          12.649045944213867,
          5.396111488342285,
          7.692966938018799,
          -0.09932444244623184,
          -4.907464504241943,
          -3.01405668258667,
          -11.687200546264648,
          -0.9502311944961548,
          -10.856668472290039,
          2.4725887775421143,
          -11.801319122314453,
          10.610269546508789,
          6.924070358276367,
          0.663793683052063,
          -1.0427268743515015,
          -8.640523910522461,
          2.852003812789917,
          -10.122602462768555,
          6.769369602203369,
          5.378644943237305,
          7.251065254211426,
          7.007857322692871,
          10.61324691772461,
          2.2648046016693115,
          -3.7305052280426025,
          -10.364200592041016,
          -10.366314888000488,
          -3.5848543643951416,
          5.92441463470459,
          -0.1338200867176056,
          -1.6509405374526978,
          -5.646011829376221,
          -5.91007137298584,
          4.652716636657715,
          -3.2130181789398193,
          8.158487319946289,
          2.098548173904419,
          -7.788999557495117,
          8.946598052978516,
          -2.0881593227386475
         ],
         "xaxis": "x",
         "y": [
          -33.41802215576172,
          -30.897811889648438,
          -33.831153869628906,
          -30.703752517700195,
          -37.41255569458008,
          -18.43939971923828,
          -38.220848083496094,
          -34.43803024291992,
          -36.51268768310547,
          -30.416433334350586,
          -35.81525802612305,
          -18.436321258544922,
          -38.529090881347656,
          -32.83303451538086,
          -25.16773796081543,
          -35.33308792114258,
          -31.048931121826172,
          -36.41908645629883,
          -30.344280242919922,
          -35.46609115600586,
          -31.02138328552246,
          -33.014347076416016,
          -16.534486770629883,
          -37.313636779785156,
          -36.00858688354492,
          -36.596134185791016,
          -33.86372756958008,
          -31.773345947265625,
          -35.971290588378906,
          -38.212894439697266,
          -35.87517166137695,
          -32.49081039428711,
          -32.20064163208008,
          -16.131799697875977,
          -35.1962890625,
          -35.176326751708984,
          -34.82856369018555,
          -34.59328842163086,
          -35.729957580566406,
          -38.48582077026367,
          -33.72749710083008,
          -31.062314987182617,
          -31.542240142822266,
          -36.9295768737793,
          -31.071063995361328,
          -30.874135971069336,
          -30.666522979736328,
          -34.06938934326172,
          -37.99979019165039,
          -32.73328399658203,
          -29.683395385742188
         ],
         "yaxis": "y"
        },
        {
         "customdata": [
          [
           "41903",
           "UTS"
          ],
          [
           "31338",
           "UTS"
          ],
          [
           "48450",
           "UTS"
          ],
          [
           "42036",
           "UTS"
          ],
          [
           "31261",
           "UTS"
          ],
          [
           "31277",
           "UTS"
          ],
          [
           "41905",
           "UTS"
          ],
          [
           "32011",
           "UTS"
          ],
          [
           "42037",
           "UTS"
          ],
          [
           "32009",
           "UTS"
          ],
          [
           "31275",
           "UTS"
          ],
          [
           "48033",
           "UTS"
          ],
          [
           "41891",
           "UTS"
          ],
          [
           "41890",
           "UTS"
          ]
         ],
         "hovertemplate": "major=NETW<br>uni=%{customdata[1]}<br>x=%{x}<br>y=%{y}<br>subject_code=%{customdata[0]}<extra></extra>",
         "legendgroup": "NETW, UTS",
         "marker": {
          "color": "#ab63fa",
          "symbol": "circle"
         },
         "mode": "markers",
         "name": "NETW, UTS",
         "orientation": "v",
         "showlegend": true,
         "type": "scatter",
         "x": [
          16.936580657958984,
          26.197494506835938,
          17.358030319213867,
          22.6187686920166,
          28.004392623901367,
          28.354576110839844,
          26.942827224731445,
          28.413555145263672,
          21.840970993041992,
          28.480876922607422,
          26.051000595092773,
          17.515892028808594,
          29.69306182861328,
          23.47026824951172
         ],
         "xaxis": "x",
         "y": [
          17.409982681274414,
          24.01285171508789,
          14.915288925170898,
          27.082130432128906,
          14.248845100402832,
          26.379226684570312,
          25.4577693939209,
          25.191967010498047,
          27.1224308013916,
          26.72146224975586,
          25.062313079833984,
          17.67112159729004,
          21.49919319152832,
          27.089265823364258
         ],
         "yaxis": "y"
        },
        {
         "customdata": [
          [
           "CSEC3616",
           "USYD"
          ],
          [
           "CSEC3888",
           "USYD"
          ]
         ],
         "hovertemplate": "major=NETW<br>uni=%{customdata[1]}<br>x=%{x}<br>y=%{y}<br>subject_code=%{customdata[0]}<extra></extra>",
         "legendgroup": "NETW, USYD",
         "marker": {
          "color": "#ab63fa",
          "symbol": "diamond"
         },
         "mode": "markers",
         "name": "NETW, USYD",
         "orientation": "v",
         "showlegend": true,
         "type": "scatter",
         "x": [
          15.61432933807373,
          16.73432159423828
         ],
         "xaxis": "x",
         "y": [
          -26.511859893798828,
          -25.507198333740234
         ],
         "yaxis": "y"
        },
        {
         "customdata": [
          [
           "31247",
           "UTS"
          ],
          [
           "48270",
           "UTS"
          ],
          [
           "31276",
           "UTS"
          ],
          [
           "31280",
           "UTS"
          ],
          [
           "31097",
           "UTS"
          ],
          [
           "31255",
           "UTS"
          ],
          [
           "31258",
           "UTS"
          ],
          [
           "31245",
           "UTS"
          ]
         ],
         "hovertemplate": "major=BUSI<br>uni=%{customdata[1]}<br>x=%{x}<br>y=%{y}<br>subject_code=%{customdata[0]}<extra></extra>",
         "legendgroup": "BUSI, UTS",
         "marker": {
          "color": "#FFA15A",
          "symbol": "circle"
         },
         "mode": "markers",
         "name": "BUSI, UTS",
         "orientation": "v",
         "showlegend": true,
         "type": "scatter",
         "x": [
          25.292348861694336,
          26.725278854370117,
          26.838478088378906,
          26.670509338378906,
          27.919130325317383,
          25.97370719909668,
          26.437580108642578,
          26.827119827270508
         ],
         "xaxis": "x",
         "y": [
          18.147062301635742,
          11.562469482421875,
          18.481464385986328,
          14.286541938781738,
          17.605775833129883,
          15.730720520019531,
          20.14884376525879,
          18.12681007385254
         ],
         "yaxis": "y"
        },
        {
         "customdata": [
          [
           "42913",
           "UTS"
          ],
          [
           "41077",
           "UTS"
          ],
          [
           "42050",
           "UTS"
          ],
          [
           "41040",
           "UTS"
          ],
          [
           "31256",
           "UTS"
          ],
          [
           "43023",
           "UTS"
          ],
          [
           "57304",
           "UTS"
          ],
          [
           "31243",
           "UTS"
          ],
          [
           "41004",
           "UTS"
          ],
          [
           "32146",
           "UTS"
          ],
          [
           "41043",
           "UTS"
          ],
          [
           "43024",
           "UTS"
          ]
         ],
         "hovertemplate": "major=ARTI<br>uni=%{customdata[1]}<br>x=%{x}<br>y=%{y}<br>subject_code=%{customdata[0]}<extra></extra>",
         "legendgroup": "ARTI, UTS",
         "marker": {
          "color": "#19d3f3",
          "symbol": "circle"
         },
         "mode": "markers",
         "name": "ARTI, UTS",
         "orientation": "v",
         "showlegend": true,
         "type": "scatter",
         "x": [
          15.603192329406738,
          7.638044834136963,
          -19.70714569091797,
          11.035955429077148,
          15.630578994750977,
          10.62494945526123,
          -19.425251007080078,
          13.64454174041748,
          13.65471363067627,
          14.054360389709473,
          12.742918014526367,
          10.349300384521484
         ],
         "xaxis": "x",
         "y": [
          17.787559509277344,
          6.152620315551758,
          -6.967715740203857,
          19.200054168701172,
          15.988697052001953,
          19.220191955566406,
          -3.417518138885498,
          23.617677688598633,
          23.567026138305664,
          20.896400451660156,
          18.907390594482422,
          19.274660110473633
         ],
         "yaxis": "y"
        },
        {
         "customdata": [
          [
           "DATA1901",
           "USYD"
          ],
          [
           "COMP3530",
           "USYD"
          ],
          [
           "DATA3888",
           "USYD"
          ],
          [
           "DATA1001",
           "USYD"
          ]
         ],
         "hovertemplate": "major=ARTI<br>uni=%{customdata[1]}<br>x=%{x}<br>y=%{y}<br>subject_code=%{customdata[0]}<extra></extra>",
         "legendgroup": "ARTI, USYD",
         "marker": {
          "color": "#19d3f3",
          "symbol": "diamond"
         },
         "mode": "markers",
         "name": "ARTI, USYD",
         "orientation": "v",
         "showlegend": true,
         "type": "scatter",
         "x": [
          -24.71515655517578,
          -10.380970001220703,
          -23.586931228637695,
          -24.71713638305664
         ],
         "xaxis": "x",
         "y": [
          -5.6056742668151855,
          -13.459566116333008,
          -10.014375686645508,
          -5.59886360168457
         ],
         "yaxis": "y"
        },
        {
         "customdata": [
          [
           "41305",
           "UTS"
          ],
          [
           "41108",
           "UTS"
          ],
          [
           "41308",
           "UTS"
          ],
          [
           "41386",
           "UTS"
          ],
          [
           "41381",
           "UTS"
          ],
          [
           "41380",
           "UTS"
          ],
          [
           "41301",
           "UTS"
          ],
          [
           "43015",
           "UTS"
          ],
          [
           "41383",
           "UTS"
          ],
          [
           "41382",
           "UTS"
          ],
          [
           "41117",
           "UTS"
          ],
          [
           "41385",
           "UTS"
          ],
          [
           "65212",
           "UTS"
          ],
          [
           "41384",
           "UTS"
          ]
         ],
         "hovertemplate": "major=CHEM<br>uni=%{customdata[1]}<br>x=%{x}<br>y=%{y}<br>subject_code=%{customdata[0]}<extra></extra>",
         "legendgroup": "CHEM, UTS",
         "marker": {
          "color": "#FF6692",
          "symbol": "circle"
         },
         "mode": "markers",
         "name": "CHEM, UTS",
         "orientation": "v",
         "showlegend": true,
         "type": "scatter",
         "x": [
          14.068242073059082,
          17.64749526977539,
          12.775858879089355,
          17.905399322509766,
          20.0911922454834,
          20.63129425048828,
          18.49571418762207,
          9.999582290649414,
          18.90147590637207,
          21.369197845458984,
          19.636795043945312,
          17.868656158447266,
          7.881251335144043,
          21.0383243560791
         ],
         "xaxis": "x",
         "y": [
          13.36357593536377,
          6.139352321624756,
          15.003508567810059,
          0.36598387360572815,
          -3.844851016998291,
          0.4055919647216797,
          5.748212814331055,
          8.739442825317383,
          -0.5311586260795593,
          0.737056314945221,
          -1.3488725423812866,
          0.3749315142631531,
          11.82329273223877,
          -1.452996850013733
         ],
         "yaxis": "y"
        },
        {
         "customdata": [
          [
           "41082",
           "UTS"
          ],
          [
           "41092",
           "UTS"
          ],
          [
           "41091",
           "UTS"
          ]
         ],
         "hovertemplate": "major=DATA<br>uni=%{customdata[1]}<br>x=%{x}<br>y=%{y}<br>subject_code=%{customdata[0]}<extra></extra>",
         "legendgroup": "DATA, UTS",
         "marker": {
          "color": "#B6E880",
          "symbol": "circle"
         },
         "mode": "markers",
         "name": "DATA, UTS",
         "orientation": "v",
         "showlegend": true,
         "type": "scatter",
         "x": [
          18.82087516784668,
          26.533344268798828,
          17.51874542236328
         ],
         "xaxis": "x",
         "y": [
          10.97419261932373,
          24.663986206054688,
          16.16872215270996
         ],
         "yaxis": "y"
        },
        {
         "customdata": [
          [
           "35005",
           "UTS"
          ],
          [
           "37234",
           "UTS"
          ],
          [
           "37252",
           "UTS"
          ],
          [
           "35007",
           "UTS"
          ],
          [
           "37373",
           "UTS"
          ],
          [
           "35006",
           "UTS"
          ]
         ],
         "hovertemplate": "major=MATH<br>uni=%{customdata[1]}<br>x=%{x}<br>y=%{y}<br>subject_code=%{customdata[0]}<extra></extra>",
         "legendgroup": "MATH, UTS",
         "marker": {
          "color": "#FF97FF",
          "symbol": "circle"
         },
         "mode": "markers",
         "name": "MATH, UTS",
         "orientation": "v",
         "showlegend": true,
         "type": "scatter",
         "x": [
          -8.212092399597168,
          6.771866798400879,
          7.076527118682861,
          -8.426042556762695,
          -9.96658706665039,
          -9.469303131103516
         ],
         "xaxis": "x",
         "y": [
          -4.478093147277832,
          14.925179481506348,
          15.98595142364502,
          -4.910588264465332,
          -5.24893856048584,
          -5.194015026092529
         ],
         "yaxis": "y"
        },
        {
         "customdata": [
          [
           "49261",
           "UTS"
          ],
          [
           "91705",
           "UTS"
          ],
          [
           "42724",
           "UTS"
          ],
          [
           "91400",
           "UTS"
          ],
          [
           "42026",
           "UTS"
          ],
          [
           "41099",
           "UTS"
          ],
          [
           "42722",
           "UTS"
          ],
          [
           "43021",
           "UTS"
          ],
          [
           "41163",
           "UTS"
          ],
          [
           "26101",
           "UTS"
          ],
          [
           "42001",
           "UTS"
          ],
          [
           "41162",
           "UTS"
          ],
          [
           "31061",
           "UTS"
          ],
          [
           "41161",
           "UTS"
          ],
          [
           "43022",
           "UTS"
          ],
          [
           "41160",
           "UTS"
          ],
          [
           "91822",
           "UTS"
          ],
          [
           "48023",
           "UTS"
          ]
         ],
         "hovertemplate": "major=BIOM<br>uni=%{customdata[1]}<br>x=%{x}<br>y=%{y}<br>subject_code=%{customdata[0]}<extra></extra>",
         "legendgroup": "BIOM, UTS",
         "marker": {
          "color": "#FECB52",
          "symbol": "circle"
         },
         "mode": "markers",
         "name": "BIOM, UTS",
         "orientation": "v",
         "showlegend": true,
         "type": "scatter",
         "x": [
          -6.132052898406982,
          -3.600862741470337,
          -5.68865966796875,
          -3.6617164611816406,
          -5.099449634552002,
          7.077611923217773,
          -3.9901156425476074,
          -6.841164588928223,
          -7.692300319671631,
          -5.383638381958008,
          -5.973542213439941,
          -7.450472831726074,
          16.049278259277344,
          -6.086745738983154,
          -7.14728307723999,
          -6.9478607177734375,
          -2.6393673419952393,
          18.684551239013672
         ],
         "xaxis": "x",
         "y": [
          11.580414772033691,
          15.603584289550781,
          9.2639741897583,
          15.19942855834961,
          11.824009895324707,
          0.7764318585395813,
          11.528131484985352,
          12.008907318115234,
          11.754129409790039,
          15.823039054870605,
          10.655598640441895,
          11.319883346557617,
          21.223772048950195,
          12.86751937866211,
          12.287446022033691,
          10.875393867492676,
          16.350954055786133,
          20.22406578063965
         ],
         "yaxis": "y"
        },
        {
         "customdata": [
          [
           "BMET2901",
           "USYD"
          ],
          [
           "BMET5944",
           "USYD"
          ],
          [
           "CHEM1991",
           "USYD"
          ],
          [
           "BMET3961",
           "USYD"
          ],
          [
           "BMET2960",
           "USYD"
          ],
          [
           "BMET5933",
           "USYD"
          ],
          [
           "BMET5964",
           "USYD"
          ],
          [
           "BMET3921",
           "USYD"
          ],
          [
           "BMET4010",
           "USYD"
          ],
          [
           "BMET5953",
           "USYD"
          ],
          [
           "BMET5958",
           "USYD"
          ],
          [
           "BMET3971",
           "USYD"
          ],
          [
           "BMET5962",
           "USYD"
          ],
          [
           "BMET3802",
           "USYD"
          ],
          [
           "BMET5996",
           "USYD"
          ],
          [
           "BMET4981",
           "USYD"
          ],
          [
           "BMET1961",
           "USYD"
          ],
          [
           "BMET5963",
           "USYD"
          ],
          [
           "BMET5934",
           "USYD"
          ],
          [
           "BMET5959",
           "USYD"
          ],
          [
           "BMET3660",
           "USYD"
          ],
          [
           "BMET2925",
           "USYD"
          ],
          [
           "BMET5995",
           "USYD"
          ],
          [
           "BMET3990",
           "USYD"
          ],
          [
           "BMET5957",
           "USYD"
          ],
          [
           "BMET2400",
           "USYD"
          ],
          [
           "CHEM1111",
           "USYD"
          ],
          [
           "BMET5911",
           "USYD"
          ],
          [
           "BMET5907",
           "USYD"
          ],
          [
           "BMET2903",
           "USYD"
          ],
          [
           "CHEM1911",
           "USYD"
          ],
          [
           "BMET5931",
           "USYD"
          ],
          [
           "BMET2922",
           "USYD"
          ],
          [
           "BMET2902",
           "USYD"
          ],
          [
           "BMET3997",
           "USYD"
          ],
          [
           "BMET5992",
           "USYD"
          ]
         ],
         "hovertemplate": "major=BIOM<br>uni=%{customdata[1]}<br>x=%{x}<br>y=%{y}<br>subject_code=%{customdata[0]}<extra></extra>",
         "legendgroup": "BIOM, USYD",
         "marker": {
          "color": "#FECB52",
          "symbol": "diamond"
         },
         "mode": "markers",
         "name": "BIOM, USYD",
         "orientation": "v",
         "showlegend": true,
         "type": "scatter",
         "x": [
          -10.844578742980957,
          -3.3660836219787598,
          16.615137100219727,
          -14.003820419311523,
          -14.452061653137207,
          -17.36203384399414,
          -12.721636772155762,
          -9.547396659851074,
          -8.178590774536133,
          -4.7092719078063965,
          -15.601921081542969,
          -14.246639251708984,
          -12.610153198242188,
          -11.68362808227539,
          36.69619369506836,
          -11.038466453552246,
          -12.057316780090332,
          -5.953212738037109,
          -16.881635665893555,
          -15.970010757446289,
          -10.601471900939941,
          -19.250022888183594,
          -10.75765323638916,
          -8.06548023223877,
          -14.023001670837402,
          -10.129940032958984,
          16.50348663330078,
          -6.139899730682373,
          -10.622725486755371,
          -12.32651424407959,
          16.272411346435547,
          -15.384486198425293,
          -16.072263717651367,
          -10.051568984985352,
          36.69619369506836,
          -7.485893249511719
         ],
         "xaxis": "x",
         "y": [
          3.8725125789642334,
          -1.9518665075302124,
          -9.36182975769043,
          6.120716571807861,
          1.7911535501480103,
          2.60102915763855,
          6.731159687042236,
          3.830735683441162,
          -38.739009857177734,
          -33.66335678100586,
          9.119434356689453,
          5.139124393463135,
          7.665073871612549,
          10.436334609985352,
          12.584095001220703,
          2.0312092304229736,
          5.396205425262451,
          7.6475677490234375,
          0.4742904007434845,
          7.069940567016602,
          5.3257975578308105,
          0.48699697852134705,
          8.078900337219238,
          4.305562973022461,
          9.718866348266602,
          3.707869052886963,
          -9.462261199951172,
          0.13312335312366486,
          1.455683708190918,
          4.010901927947998,
          -9.307616233825684,
          9.215046882629395,
          1.8235392570495605,
          6.237271308898926,
          12.584095001220703,
          4.367965221405029
         ],
         "yaxis": "y"
        },
        {
         "customdata": [
          [
           "31748",
           "UTS"
          ],
          [
           "41020",
           "UTS"
          ],
          [
           "41021",
           "UTS"
          ],
          [
           "31263",
           "UTS"
          ],
          [
           "31080",
           "UTS"
          ],
          [
           "31262",
           "UTS"
          ],
          [
           "41019",
           "UTS"
          ]
         ],
         "hovertemplate": "major=INTE<br>uni=%{customdata[1]}<br>x=%{x}<br>y=%{y}<br>subject_code=%{customdata[0]}<extra></extra>",
         "legendgroup": "INTE, UTS",
         "marker": {
          "color": "#636efa",
          "symbol": "circle"
         },
         "mode": "markers",
         "name": "INTE, UTS",
         "orientation": "v",
         "showlegend": true,
         "type": "scatter",
         "x": [
          17.793312072753906,
          7.773257732391357,
          8.710158348083496,
          16.26709747314453,
          17.986055374145508,
          16.24945068359375,
          8.809650421142578
         ],
         "xaxis": "x",
         "y": [
          18.735456466674805,
          23.253950119018555,
          24.287038803100586,
          27.022384643554688,
          19.471349716186523,
          27.045812606811523,
          24.93557357788086
         ],
         "yaxis": "y"
        },
        {
         "customdata": [
          [
           "48850",
           "UTS"
          ],
          [
           "43123",
           "UTS"
          ],
          [
           "41124",
           "UTS"
          ],
          [
           "41125",
           "UTS"
          ],
          [
           "43026",
           "UTS"
          ],
          [
           "68412",
           "UTS"
          ],
          [
           "48572",
           "UTS"
          ],
          [
           "43124",
           "UTS"
          ],
          [
           "48550",
           "UTS"
          ],
          [
           "48531",
           "UTS"
          ],
          [
           "48582",
           "UTS"
          ],
          [
           "48520",
           "UTS"
          ],
          [
           "48561",
           "UTS"
          ]
         ],
         "hovertemplate": "major=RENE<br>uni=%{customdata[1]}<br>x=%{x}<br>y=%{y}<br>subject_code=%{customdata[0]}<extra></extra>",
         "legendgroup": "RENE, UTS",
         "marker": {
          "color": "#EF553B",
          "symbol": "circle"
         },
         "mode": "markers",
         "name": "RENE, UTS",
         "orientation": "v",
         "showlegend": true,
         "type": "scatter",
         "x": [
          25.066987991333008,
          29.526229858398438,
          32.39242935180664,
          29.305641174316406,
          31.179574966430664,
          15.578363418579102,
          32.23390197753906,
          29.77703285217285,
          31.25624656677246,
          15.422689437866211,
          32.44806671142578,
          15.420924186706543,
          31.277021408081055
         ],
         "xaxis": "x",
         "y": [
          -0.46995046734809875,
          -0.9772199988365173,
          1.415951132774353,
          -0.3064350187778473,
          -1.0231090784072876,
          -2.6544599533081055,
          2.9321067333221436,
          -0.44629257917404175,
          0.43986591696739197,
          8.619297981262207,
          2.486656427383423,
          10.612162590026855,
          0.4006654620170593
         ],
         "yaxis": "y"
        },
        {
         "customdata": [
          [
           "37262",
           "UTS"
          ],
          [
           "37233",
           "UTS"
          ],
          [
           "37161",
           "UTS"
          ]
         ],
         "hovertemplate": "major=MATH - QUAN<br>uni=%{customdata[1]}<br>x=%{x}<br>y=%{y}<br>subject_code=%{customdata[0]}<extra></extra>",
         "legendgroup": "MATH - QUAN, UTS",
         "marker": {
          "color": "#00cc96",
          "symbol": "circle"
         },
         "mode": "markers",
         "name": "MATH - QUAN, UTS",
         "orientation": "v",
         "showlegend": true,
         "type": "scatter",
         "x": [
          5.783336162567139,
          3.833711624145508,
          4.796435356140137
         ],
         "xaxis": "x",
         "y": [
          16.028972625732422,
          15.589876174926758,
          16.737943649291992
         ],
         "yaxis": "y"
        },
        {
         "customdata": [
          [
           "41889",
           "UTS"
          ],
          [
           "31260",
           "UTS"
          ],
          [
           "31777",
           "UTS"
          ],
          [
           "31927",
           "UTS"
          ]
         ],
         "hovertemplate": "major=ENTE - INTE<br>uni=%{customdata[1]}<br>x=%{x}<br>y=%{y}<br>subject_code=%{customdata[0]}<extra></extra>",
         "legendgroup": "ENTE - INTE, UTS",
         "marker": {
          "color": "#ab63fa",
          "symbol": "circle"
         },
         "mode": "markers",
         "name": "ENTE - INTE, UTS",
         "orientation": "v",
         "showlegend": true,
         "type": "scatter",
         "x": [
          21.367115020751953,
          9.505866050720215,
          9.371634483337402,
          20.18086051940918
         ],
         "xaxis": "x",
         "y": [
          19.91522216796875,
          24.268733978271484,
          24.84084701538086,
          19.158344268798828
         ],
         "yaxis": "y"
        },
        {
         "customdata": [
          [
           "31271",
           "UTS"
          ]
         ],
         "hovertemplate": "major=DATA - SOFT<br>uni=%{customdata[1]}<br>x=%{x}<br>y=%{y}<br>subject_code=%{customdata[0]}<extra></extra>",
         "legendgroup": "DATA - SOFT, UTS",
         "marker": {
          "color": "#FFA15A",
          "symbol": "circle"
         },
         "mode": "markers",
         "name": "DATA - SOFT, UTS",
         "orientation": "v",
         "showlegend": true,
         "type": "scatter",
         "x": [
          16.754867553710938
         ],
         "xaxis": "x",
         "y": [
          20.664142608642578
         ],
         "yaxis": "y"
        },
        {
         "customdata": [
          [
           "41173",
           "UTS"
          ],
          [
           "41172",
           "UTS"
          ],
          [
           "41076",
           "UTS"
          ],
          [
           "41175",
           "UTS"
          ],
          [
           "41174",
           "UTS"
          ],
          [
           "41171",
           "UTS"
          ]
         ],
         "hovertemplate": "major=QUAN<br>uni=%{customdata[1]}<br>x=%{x}<br>y=%{y}<br>subject_code=%{customdata[0]}<extra></extra>",
         "legendgroup": "QUAN, UTS",
         "marker": {
          "color": "#19d3f3",
          "symbol": "circle"
         },
         "mode": "markers",
         "name": "QUAN, UTS",
         "orientation": "v",
         "showlegend": true,
         "type": "scatter",
         "x": [
          13.083207130432129,
          11.781570434570312,
          12.476580619812012,
          11.716815948486328,
          12.37483024597168,
          12.957513809204102
         ],
         "xaxis": "x",
         "y": [
          31.60699462890625,
          32.32887649536133,
          31.28368377685547,
          31.693729400634766,
          32.431251525878906,
          32.419593811035156
         ],
         "yaxis": "y"
        },
        {
         "customdata": [
          [
           "60101",
           "UTS"
          ]
         ],
         "hovertemplate": "major=CHEM - CIVI - RENE<br>uni=%{customdata[1]}<br>x=%{x}<br>y=%{y}<br>subject_code=%{customdata[0]}<extra></extra>",
         "legendgroup": "CHEM - CIVI - RENE, UTS",
         "marker": {
          "color": "#FF6692",
          "symbol": "circle"
         },
         "mode": "markers",
         "name": "CHEM - CIVI - RENE, UTS",
         "orientation": "v",
         "showlegend": true,
         "type": "scatter",
         "x": [
          8.045547485351562
         ],
         "xaxis": "x",
         "y": [
          11.766417503356934
         ],
         "yaxis": "y"
        },
        {
         "customdata": [
          [
           "41113",
           "UTS"
          ],
          [
           "41026",
           "UTS"
          ],
          [
           "31242",
           "UTS"
          ],
          [
           "41025",
           "UTS"
          ],
          [
           "31253",
           "UTS"
          ]
         ],
         "hovertemplate": "major=ENTE<br>uni=%{customdata[1]}<br>x=%{x}<br>y=%{y}<br>subject_code=%{customdata[0]}<extra></extra>",
         "legendgroup": "ENTE, UTS",
         "marker": {
          "color": "#B6E880",
          "symbol": "circle"
         },
         "mode": "markers",
         "name": "ENTE, UTS",
         "orientation": "v",
         "showlegend": true,
         "type": "scatter",
         "x": [
          21.955036163330078,
          23.006101608276367,
          19.022403717041016,
          22.534770965576172,
          16.397314071655273
         ],
         "xaxis": "x",
         "y": [
          18.07737922668457,
          17.365779876708984,
          18.674116134643555,
          17.876399993896484,
          21.186025619506836
         ],
         "yaxis": "y"
        },
        {
         "customdata": [
          [
           "41001",
           "UTS"
          ]
         ],
         "hovertemplate": "major=DATA - ENTE<br>uni=%{customdata[1]}<br>x=%{x}<br>y=%{y}<br>subject_code=%{customdata[0]}<extra></extra>",
         "legendgroup": "DATA - ENTE, UTS",
         "marker": {
          "color": "#FF97FF",
          "symbol": "circle"
         },
         "mode": "markers",
         "name": "DATA - ENTE, UTS",
         "orientation": "v",
         "showlegend": true,
         "type": "scatter",
         "x": [
          29.69871711730957
         ],
         "xaxis": "x",
         "y": [
          21.409624099731445
         ],
         "yaxis": "y"
        },
        {
         "customdata": [
          [
           "31250",
           "UTS"
          ]
         ],
         "hovertemplate": "major=ARTI - BIOM - DATA - INTE - QUAN<br>uni=%{customdata[1]}<br>x=%{x}<br>y=%{y}<br>subject_code=%{customdata[0]}<extra></extra>",
         "legendgroup": "ARTI - BIOM - DATA - INTE - QUAN, UTS",
         "marker": {
          "color": "#FECB52",
          "symbol": "circle"
         },
         "mode": "markers",
         "name": "ARTI - BIOM - DATA - INTE - QUAN, UTS",
         "orientation": "v",
         "showlegend": true,
         "type": "scatter",
         "x": [
          14.055097579956055
         ],
         "xaxis": "x",
         "y": [
          21.01171875
         ],
         "yaxis": "y"
        },
        {
         "customdata": [
          [
           "41088",
           "UTS"
          ],
          [
           "41089",
           "UTS"
          ]
         ],
         "hovertemplate": "major=ELEC - RENE<br>uni=%{customdata[1]}<br>x=%{x}<br>y=%{y}<br>subject_code=%{customdata[0]}<extra></extra>",
         "legendgroup": "ELEC - RENE, UTS",
         "marker": {
          "color": "#636efa",
          "symbol": "circle"
         },
         "mode": "markers",
         "name": "ELEC - RENE, UTS",
         "orientation": "v",
         "showlegend": true,
         "type": "scatter",
         "x": [
          20.74640464782715,
          21.032970428466797
         ],
         "xaxis": "x",
         "y": [
          13.044441223144531,
          12.770058631896973
         ],
         "yaxis": "y"
        },
        {
         "customdata": [
          [
           "48641",
           "UTS"
          ],
          [
           "48350",
           "UTS"
          ]
         ],
         "hovertemplate": "major=CHEM - CIVI<br>uni=%{customdata[1]}<br>x=%{x}<br>y=%{y}<br>subject_code=%{customdata[0]}<extra></extra>",
         "legendgroup": "CHEM - CIVI, UTS",
         "marker": {
          "color": "#EF553B",
          "symbol": "circle"
         },
         "mode": "markers",
         "name": "CHEM - CIVI, UTS",
         "orientation": "v",
         "showlegend": true,
         "type": "scatter",
         "x": [
          20.1263370513916,
          23.68408203125
         ],
         "xaxis": "x",
         "y": [
          -3.582594156265259,
          -1.6276766061782837
         ],
         "yaxis": "y"
        },
        {
         "customdata": [
          [
           "41030",
           "UTS"
          ],
          [
           "41029",
           "UTS"
          ]
         ],
         "hovertemplate": "major=BIOM - CHEM - CIVI - DATA - ELEC - MECH - RENE - SOFT<br>uni=%{customdata[1]}<br>x=%{x}<br>y=%{y}<br>subject_code=%{customdata[0]}<extra></extra>",
         "legendgroup": "BIOM - CHEM - CIVI - DATA - ELEC - MECH - RENE - SOFT, UTS",
         "marker": {
          "color": "#00cc96",
          "symbol": "circle"
         },
         "mode": "markers",
         "name": "BIOM - CHEM - CIVI - DATA - ELEC - MECH - RENE - SOFT, UTS",
         "orientation": "v",
         "showlegend": true,
         "type": "scatter",
         "x": [
          20.825000762939453,
          21.458250045776367
         ],
         "xaxis": "x",
         "y": [
          8.32772159576416,
          7.713497161865234
         ],
         "yaxis": "y"
        },
        {
         "customdata": [
          [
           "31257",
           "UTS"
          ],
          [
           "31282",
           "UTS"
          ]
         ],
         "hovertemplate": "major=BUSI - SOFT<br>uni=%{customdata[1]}<br>x=%{x}<br>y=%{y}<br>subject_code=%{customdata[0]}<extra></extra>",
         "legendgroup": "BUSI - SOFT, UTS",
         "marker": {
          "color": "#ab63fa",
          "symbol": "circle"
         },
         "mode": "markers",
         "name": "BUSI - SOFT, UTS",
         "orientation": "v",
         "showlegend": true,
         "type": "scatter",
         "x": [
          24.07366371154785,
          24.101276397705078
         ],
         "xaxis": "x",
         "y": [
          19.554210662841797,
          20.426910400390625
         ],
         "yaxis": "y"
        },
        {
         "customdata": [
          [
           "41180",
           "UTS"
          ],
          [
           "41181",
           "UTS"
          ],
          [
           "41182",
           "UTS"
          ],
          [
           "41183",
           "UTS"
          ],
          [
           "41184",
           "UTS"
          ],
          [
           "41185",
           "UTS"
          ]
         ],
         "hovertemplate": "major=CYBE<br>uni=%{customdata[1]}<br>x=%{x}<br>y=%{y}<br>subject_code=%{customdata[0]}<extra></extra>",
         "legendgroup": "CYBE, UTS",
         "marker": {
          "color": "#FFA15A",
          "symbol": "circle"
         },
         "mode": "markers",
         "name": "CYBE, UTS",
         "orientation": "v",
         "showlegend": true,
         "type": "scatter",
         "x": [
          22.837018966674805,
          20.7830810546875,
          20.869272232055664,
          21.296335220336914,
          20.158592224121094,
          21.853574752807617
         ],
         "xaxis": "x",
         "y": [
          26.1893310546875,
          22.90145492553711,
          23.36638069152832,
          25.463966369628906,
          25.777334213256836,
          25.814085006713867
         ],
         "yaxis": "y"
        },
        {
         "customdata": [
          [
           "48436",
           "UTS"
          ],
          [
           "41900",
           "UTS"
          ]
         ],
         "hovertemplate": "major=CYBE - NETW<br>uni=%{customdata[1]}<br>x=%{x}<br>y=%{y}<br>subject_code=%{customdata[0]}<extra></extra>",
         "legendgroup": "CYBE - NETW, UTS",
         "marker": {
          "color": "#19d3f3",
          "symbol": "circle"
         },
         "mode": "markers",
         "name": "CYBE - NETW, UTS",
         "orientation": "v",
         "showlegend": true,
         "type": "scatter",
         "x": [
          22.039030075073242,
          21.059701919555664
         ],
         "xaxis": "x",
         "y": [
          28.636821746826172,
          27.529216766357422
         ],
         "yaxis": "y"
        },
        {
         "customdata": [
          [
           "65111",
           "UTS"
          ]
         ],
         "hovertemplate": "major=BIOM - CIVI<br>uni=%{customdata[1]}<br>x=%{x}<br>y=%{y}<br>subject_code=%{customdata[0]}<extra></extra>",
         "legendgroup": "BIOM - CIVI, UTS",
         "marker": {
          "color": "#FF6692",
          "symbol": "circle"
         },
         "mode": "markers",
         "name": "BIOM - CIVI, UTS",
         "orientation": "v",
         "showlegend": true,
         "type": "scatter",
         "x": [
          7.623669624328613
         ],
         "xaxis": "x",
         "y": [
          11.06806755065918
         ],
         "yaxis": "y"
        },
        {
         "customdata": [
          [
           "48730",
           "UTS"
          ]
         ],
         "hovertemplate": "major=CYBE - DATA - NETW<br>uni=%{customdata[1]}<br>x=%{x}<br>y=%{y}<br>subject_code=%{customdata[0]}<extra></extra>",
         "legendgroup": "CYBE - DATA - NETW, UTS",
         "marker": {
          "color": "#B6E880",
          "symbol": "circle"
         },
         "mode": "markers",
         "name": "CYBE - DATA - NETW, UTS",
         "orientation": "v",
         "showlegend": true,
         "type": "scatter",
         "x": [
          22.222131729125977
         ],
         "xaxis": "x",
         "y": [
          27.743165969848633
         ],
         "yaxis": "y"
        },
        {
         "customdata": [
          [
           "41052",
           "UTS"
          ]
         ],
         "hovertemplate": "major=ENTE - QUAN<br>uni=%{customdata[1]}<br>x=%{x}<br>y=%{y}<br>subject_code=%{customdata[0]}<extra></extra>",
         "legendgroup": "ENTE - QUAN, UTS",
         "marker": {
          "color": "#FF97FF",
          "symbol": "circle"
         },
         "mode": "markers",
         "name": "ENTE - QUAN, UTS",
         "orientation": "v",
         "showlegend": true,
         "type": "scatter",
         "x": [
          15.484777450561523
         ],
         "xaxis": "x",
         "y": [
          19.29831886291504
         ],
         "yaxis": "y"
        },
        {
         "customdata": [
          [
           "48510",
           "UTS"
          ]
         ],
         "hovertemplate": "major=BIOM - RENE<br>uni=%{customdata[1]}<br>x=%{x}<br>y=%{y}<br>subject_code=%{customdata[0]}<extra></extra>",
         "legendgroup": "BIOM - RENE, UTS",
         "marker": {
          "color": "#FECB52",
          "symbol": "circle"
         },
         "mode": "markers",
         "name": "BIOM - RENE, UTS",
         "orientation": "v",
         "showlegend": true,
         "type": "scatter",
         "x": [
          17.157079696655273
         ],
         "xaxis": "x",
         "y": [
          9.38607120513916
         ],
         "yaxis": "y"
        },
        {
         "customdata": [
          [
           "42028",
           "UTS"
          ],
          [
           "43025",
           "UTS"
          ]
         ],
         "hovertemplate": "major=ARTI - QUAN<br>uni=%{customdata[1]}<br>x=%{x}<br>y=%{y}<br>subject_code=%{customdata[0]}<extra></extra>",
         "legendgroup": "ARTI - QUAN, UTS",
         "marker": {
          "color": "#636efa",
          "symbol": "circle"
         },
         "mode": "markers",
         "name": "ARTI - QUAN, UTS",
         "orientation": "v",
         "showlegend": true,
         "type": "scatter",
         "x": [
          13.15129280090332,
          11.981979370117188
         ],
         "xaxis": "x",
         "y": [
          17.01220703125,
          30.850875854492188
         ],
         "yaxis": "y"
        },
        {
         "customdata": [
          [
           "48433",
           "UTS"
          ]
         ],
         "hovertemplate": "major=ENTE - SOFT<br>uni=%{customdata[1]}<br>x=%{x}<br>y=%{y}<br>subject_code=%{customdata[0]}<extra></extra>",
         "legendgroup": "ENTE - SOFT, UTS",
         "marker": {
          "color": "#EF553B",
          "symbol": "circle"
         },
         "mode": "markers",
         "name": "ENTE - SOFT, UTS",
         "orientation": "v",
         "showlegend": true,
         "type": "scatter",
         "x": [
          21.98822784423828
         ],
         "xaxis": "x",
         "y": [
          16.48998260498047
         ],
         "yaxis": "y"
        },
        {
         "customdata": [
          [
           "SOFT2412",
           "USYD"
          ],
          [
           "SOFT3202",
           "USYD"
          ],
          [
           "SOFT2201",
           "USYD"
          ],
          [
           "SOFT3888",
           "USYD"
          ],
          [
           "INFO3315",
           "USYD"
          ]
         ],
         "hovertemplate": "major=ENTE - SOFT<br>uni=%{customdata[1]}<br>x=%{x}<br>y=%{y}<br>subject_code=%{customdata[0]}<extra></extra>",
         "legendgroup": "ENTE - SOFT, USYD",
         "marker": {
          "color": "#EF553B",
          "symbol": "diamond"
         },
         "mode": "markers",
         "name": "ENTE - SOFT, USYD",
         "orientation": "v",
         "showlegend": true,
         "type": "scatter",
         "x": [
          -12.852532386779785,
          -11.410857200622559,
          -11.34155559539795,
          -12.12568187713623,
          -23.094226837158203
         ],
         "xaxis": "x",
         "y": [
          -26.646406173706055,
          -25.922271728515625,
          -26.188749313354492,
          -27.72004508972168,
          -22.98433494567871
         ],
         "yaxis": "y"
        },
        {
         "customdata": [
          [
           "31005",
           "UTS"
          ]
         ],
         "hovertemplate": "major=ARTI - DATA - QUAN<br>uni=%{customdata[1]}<br>x=%{x}<br>y=%{y}<br>subject_code=%{customdata[0]}<extra></extra>",
         "legendgroup": "ARTI - DATA - QUAN, UTS",
         "marker": {
          "color": "#00cc96",
          "symbol": "circle"
         },
         "mode": "markers",
         "name": "ARTI - DATA - QUAN, UTS",
         "orientation": "v",
         "showlegend": true,
         "type": "scatter",
         "x": [
          12.839360237121582
         ],
         "xaxis": "x",
         "y": [
          16.13348960876465
         ],
         "yaxis": "y"
        },
        {
         "customdata": [
          [
           "91161",
           "UTS"
          ]
         ],
         "hovertemplate": "major=BIOM - CHEM<br>uni=%{customdata[1]}<br>x=%{x}<br>y=%{y}<br>subject_code=%{customdata[0]}<extra></extra>",
         "legendgroup": "BIOM - CHEM, UTS",
         "marker": {
          "color": "#ab63fa",
          "symbol": "circle"
         },
         "mode": "markers",
         "name": "BIOM - CHEM, UTS",
         "orientation": "v",
         "showlegend": true,
         "type": "scatter",
         "x": [
          -2.2156944274902344
         ],
         "xaxis": "x",
         "y": [
          16.703935623168945
         ],
         "yaxis": "y"
        },
        {
         "customdata": [
          [
           "41039",
           "UTS"
          ]
         ],
         "hovertemplate": "major=DATA - RENE - SOFT<br>uni=%{customdata[1]}<br>x=%{x}<br>y=%{y}<br>subject_code=%{customdata[0]}<extra></extra>",
         "legendgroup": "DATA - RENE - SOFT, UTS",
         "marker": {
          "color": "#FFA15A",
          "symbol": "circle"
         },
         "mode": "markers",
         "name": "DATA - RENE - SOFT, UTS",
         "orientation": "v",
         "showlegend": true,
         "type": "scatter",
         "x": [
          19.43623161315918
         ],
         "xaxis": "x",
         "y": [
          20.41451072692871
         ],
         "yaxis": "y"
        },
        {
         "customdata": [
          [
           "ELEC2104",
           "USYD"
          ],
          [
           "ELEC3204",
           "USYD"
          ]
         ],
         "hovertemplate": "major=ELEC - MECH - SOFT<br>uni=%{customdata[1]}<br>x=%{x}<br>y=%{y}<br>subject_code=%{customdata[0]}<extra></extra>",
         "legendgroup": "ELEC - MECH - SOFT, USYD",
         "marker": {
          "color": "#19d3f3",
          "symbol": "diamond"
         },
         "mode": "markers",
         "name": "ELEC - MECH - SOFT, USYD",
         "orientation": "v",
         "showlegend": true,
         "type": "scatter",
         "x": [
          -1.2764416933059692,
          0.5918465852737427
         ],
         "xaxis": "x",
         "y": [
          -20.21379852294922,
          -20.532379150390625
         ],
         "yaxis": "y"
        },
        {
         "customdata": [
          [
           "COMP3109",
           "USYD"
          ],
          [
           "COMP2922",
           "USYD"
          ],
          [
           "COMP3419",
           "USYD"
          ],
          [
           "COMP2022",
           "USYD"
          ]
         ],
         "hovertemplate": "major=COMP - SOFT<br>uni=%{customdata[1]}<br>x=%{x}<br>y=%{y}<br>subject_code=%{customdata[0]}<extra></extra>",
         "legendgroup": "COMP - SOFT, USYD",
         "marker": {
          "color": "#FF6692",
          "symbol": "diamond"
         },
         "mode": "markers",
         "name": "COMP - SOFT, USYD",
         "orientation": "v",
         "showlegend": true,
         "type": "scatter",
         "x": [
          -11.408201217651367,
          -12.589253425598145,
          -19.071163177490234,
          -12.306119918823242
         ],
         "xaxis": "x",
         "y": [
          -17.057453155517578,
          -16.926904678344727,
          -16.505210876464844,
          -17.15312385559082
         ],
         "yaxis": "y"
        },
        {
         "customdata": [
          [
           "ELEC5507",
           "USYD"
          ],
          [
           "ELEC3607",
           "USYD"
          ],
          [
           "ELEC3304",
           "USYD"
          ],
          [
           "ELEC5511",
           "USYD"
          ],
          [
           "ELEC5213",
           "USYD"
          ],
          [
           "ELEC5205",
           "USYD"
          ],
          [
           "PHYS1003",
           "USYD"
          ],
          [
           "ELEC5622",
           "USYD"
          ],
          [
           "ELEC5618",
           "USYD"
          ],
          [
           "ELEC5208",
           "USYD"
          ],
          [
           "ELEC5619",
           "USYD"
          ],
          [
           "PHYS2213",
           "USYD"
          ],
          [
           "ELEC5204",
           "USYD"
          ],
          [
           "ELEC3104",
           "USYD"
          ],
          [
           "ELEC5212",
           "USYD"
          ],
          [
           "ELEC1601",
           "USYD"
          ],
          [
           "ELEC5510",
           "USYD"
          ],
          [
           "ELEC3702",
           "USYD"
          ],
          [
           "ELEC3610",
           "USYD"
          ],
          [
           "ELEC3305",
           "USYD"
          ],
          [
           "ELEC5101",
           "USYD"
          ],
          [
           "ELEC3206",
           "USYD"
          ],
          [
           "ELEC5517",
           "USYD"
          ],
          [
           "ELEC5307",
           "USYD"
          ],
          [
           "ELEC5203",
           "USYD"
          ],
          [
           "ELEC3505",
           "USYD"
          ],
          [
           "ELEC5306",
           "USYD"
          ],
          [
           "ELEC2302",
           "USYD"
          ],
          [
           "ELEC5701",
           "USYD"
          ],
          [
           "ELEC5516",
           "USYD"
          ],
          [
           "ELEC2103",
           "USYD"
          ],
          [
           "ELEC5760",
           "USYD"
          ],
          [
           "COMP4216",
           "USYD"
          ],
          [
           "COMP4447",
           "USYD"
          ],
          [
           "ELEC2602",
           "USYD"
          ],
          [
           "ELEC3802",
           "USYD"
          ],
          [
           "ELEC5305",
           "USYD"
          ],
          [
           "COMP4426",
           "USYD"
          ],
          [
           "ELEC2100",
           "USYD"
          ],
          [
           "ELEC4714",
           "USYD"
          ],
          [
           "ELEC5514",
           "USYD"
          ],
          [
           "ELEC5304",
           "USYD"
          ],
          [
           "ELEC3803",
           "USYD"
          ],
          [
           "ELEC5518",
           "USYD"
          ],
          [
           "ELEC5308",
           "USYD"
          ],
          [
           "ELEC5207",
           "USYD"
          ],
          [
           "ELEC3404",
           "USYD"
          ],
          [
           "ELEC5616",
           "USYD"
          ],
          [
           "ELEC5211",
           "USYD"
          ],
          [
           "ELEC3609",
           "USYD"
          ],
          [
           "ELEC5620",
           "USYD"
          ],
          [
           "PHYS1001",
           "USYD"
          ],
          [
           "ELEC5509",
           "USYD"
          ],
          [
           "ELEC5508",
           "USYD"
          ],
          [
           "ELEC3608",
           "USYD"
          ],
          [
           "ELEC3203",
           "USYD"
          ],
          [
           "ELEC3612",
           "USYD"
          ],
          [
           "ELEC5512",
           "USYD"
          ],
          [
           "ELEC3405",
           "USYD"
          ],
          [
           "ELEC4505",
           "USYD"
          ],
          [
           "ELEC5206",
           "USYD"
          ]
         ],
         "hovertemplate": "major=ELEC - SOFT<br>uni=%{customdata[1]}<br>x=%{x}<br>y=%{y}<br>subject_code=%{customdata[0]}<extra></extra>",
         "legendgroup": "ELEC - SOFT, USYD",
         "marker": {
          "color": "#B6E880",
          "symbol": "diamond"
         },
         "mode": "markers",
         "name": "ELEC - SOFT, USYD",
         "orientation": "v",
         "showlegend": true,
         "type": "scatter",
         "x": [
          -3.05731463432312,
          -4.635465145111084,
          -0.08970769494771957,
          8.24128246307373,
          -6.656757831573486,
          0.07268331199884415,
          -13.492077827453613,
          -17.990915298461914,
          -9.171558380126953,
          2.1609740257263184,
          -18.09305763244629,
          -3.1489923000335693,
          0.9393975138664246,
          -3.0769612789154053,
          2.193707227706909,
          -4.728814125061035,
          6.562440395355225,
          -16.97208595275879,
          -18.50351905822754,
          5.404183387756348,
          8.997501373291016,
          -0.02203661948442459,
          -4.468122482299805,
          -6.4860334396362305,
          -6.627126216888428,
          5.110132217407227,
          -6.251152992248535,
          -0.7714744806289673,
          36.69619369506836,
          2.412165403366089,
          2.646359920501709,
          36.69619369506836,
          -19.516504287719727,
          -17.221473693847656,
          -4.349536418914795,
          -11.628715515136719,
          9.661767959594727,
          -11.881614685058594,
          -1.2382756471633911,
          -8.322089195251465,
          4.368744373321533,
          -16.14554214477539,
          36.69619369506836,
          3.8505191802978516,
          -8.588845252990723,
          1.1717132329940796,
          7.769642353057861,
          14.210111618041992,
          1.0850948095321655,
          -18.70102882385254,
          -10.04718017578125,
          -13.50070571899414,
          5.091842174530029,
          5.480550289154053,
          -5.006173610687256,
          1.04262113571167,
          -15.628732681274414,
          8.045426368713379,
          7.851161956787109,
          5.457125186920166,
          0.7129541039466858
         ],
         "xaxis": "x",
         "y": [
          -16.662609100341797,
          -20.90380096435547,
          -16.032323837280273,
          -22.9180850982666,
          -13.51463794708252,
          -18.891565322875977,
          -4.878289699554443,
          3.1731693744659424,
          -27.323537826538086,
          -20.911672592163086,
          -25.09252166748047,
          -25.90070343017578,
          -18.156959533691406,
          -20.08498191833496,
          -19.303815841674805,
          -20.225526809692383,
          -21.966917037963867,
          -33.8009147644043,
          -25.633716583251953,
          -19.553075790405273,
          -21.67263412475586,
          -21.37118148803711,
          -23.27778434753418,
          -16.315311431884766,
          -13.549108505249023,
          -21.239334106445312,
          -17.41252326965332,
          -17.117664337158203,
          12.584095001220703,
          -23.10102081298828,
          -29.1710205078125,
          12.584095001220703,
          -19.045013427734375,
          -19.162330627441406,
          -18.444931030273438,
          10.458325386047363,
          -5.828813076019287,
          -23.841590881347656,
          -19.58135986328125,
          -38.31449890136719,
          -24.677106857299805,
          -12.629859924316406,
          12.584095001220703,
          -24.845333099365234,
          -25.525712966918945,
          -20.91990089416504,
          -20.157163619995117,
          -27.157670974731445,
          -17.217987060546875,
          -24.394990921020508,
          -27.926074981689453,
          -4.865850925445557,
          -22.959735870361328,
          -23.596542358398438,
          -19.60072135925293,
          -19.683345794677734,
          -11.925625801086426,
          -23.32984161376953,
          -21.05912208557129,
          -20.959190368652344,
          -22.206645965576172
         ],
         "yaxis": "y"
        },
        {
         "customdata": [
          [
           "AMME5060",
           "USYD"
          ],
          [
           "MECH3261",
           "USYD"
          ],
          [
           "AMME5902",
           "USYD"
          ],
          [
           "AMME5105",
           "USYD"
          ],
          [
           "AMME5104",
           "USYD"
          ],
          [
           "MTRX1705",
           "USYD"
          ],
          [
           "MECH1400",
           "USYD"
          ],
          [
           "MECH3260",
           "USYD"
          ],
          [
           "MECH5265",
           "USYD"
          ],
          [
           "AMME4010",
           "USYD"
          ],
          [
           "AMME4401",
           "USYD"
          ],
          [
           "MECH2401",
           "USYD"
          ],
          [
           "MTRX1702",
           "USYD"
          ],
          [
           "AMME5292",
           "USYD"
          ],
          [
           "MTRX5700",
           "USYD"
          ],
          [
           "AMME5912",
           "USYD"
          ],
          [
           "MECH5311",
           "USYD"
          ],
          [
           "AMME2500",
           "USYD"
          ],
          [
           "MECH5720",
           "USYD"
          ],
          [
           "MECH2460",
           "USYD"
          ],
          [
           "AMME5271",
           "USYD"
          ],
          [
           "MECH3362",
           "USYD"
          ],
          [
           "AMME2262",
           "USYD"
          ],
          [
           "MECH5275",
           "USYD"
          ],
          [
           "MECH3460",
           "USYD"
          ],
          [
           "MECH5310",
           "USYD"
          ],
          [
           "MECH5255",
           "USYD"
          ],
          [
           "MECH2400",
           "USYD"
          ],
          [
           "AMME3500",
           "USYD"
          ],
          [
           "AMME5101",
           "USYD"
          ],
          [
           "AMME4710",
           "USYD"
          ],
          [
           "AMME5510",
           "USYD"
          ],
          [
           "MECH5305",
           "USYD"
          ],
          [
           "AMME2200",
           "USYD"
          ],
          [
           "AMME1705",
           "USYD"
          ],
          [
           "AMME2261",
           "USYD"
          ],
          [
           "AMME3060",
           "USYD"
          ],
          [
           "AMME2000",
           "USYD"
          ],
          [
           "MECH5304",
           "USYD"
          ],
          [
           "MTRX3760",
           "USYD"
          ],
          [
           "MECH4660",
           "USYD"
          ],
          [
           "AERO5750",
           "USYD"
          ],
          [
           "AMME5520",
           "USYD"
          ],
          [
           "MTRX2700",
           "USYD"
          ],
          [
           "AMME5202",
           "USYD"
          ],
          [
           "AMME5310",
           "USYD"
          ],
          [
           "MTRX3700",
           "USYD"
          ],
          [
           "MECH4460",
           "USYD"
          ],
          [
           "MECH5461",
           "USYD"
          ]
         ],
         "hovertemplate": "major=MECH<br>uni=%{customdata[1]}<br>x=%{x}<br>y=%{y}<br>subject_code=%{customdata[0]}<extra></extra>",
         "legendgroup": "MECH, USYD",
         "marker": {
          "color": "#FF97FF",
          "symbol": "diamond"
         },
         "mode": "markers",
         "name": "MECH, USYD",
         "orientation": "v",
         "showlegend": true,
         "type": "scatter",
         "x": [
          6.585751056671143,
          9.781494140625,
          1.0349243879318237,
          3.045553684234619,
          3.0384321212768555,
          3.1691031455993652,
          2.7016236782073975,
          14.507271766662598,
          11.486717224121094,
          -7.724328517913818,
          -1.0564308166503906,
          -1.5327517986297607,
          1.6802120208740234,
          9.726408004760742,
          5.289239406585693,
          9.301423072814941,
          -6.088748455047607,
          8.278837203979492,
          9.69166088104248,
          0.1859866827726364,
          1.198906660079956,
          0.3133792281150818,
          13.930235862731934,
          -0.21395812928676605,
          3.279693603515625,
          -2.5609421730041504,
          14.981736183166504,
          3.277616024017334,
          0.5520354509353638,
          -0.29758065938949585,
          -16.68880271911621,
          8.995935440063477,
          -2.6292879581451416,
          14.370182037353516,
          2.771059513092041,
          10.120457649230957,
          5.7030930519104,
          5.6652021408081055,
          -2.5938165187835693,
          1.7630419731140137,
          -10.091848373413086,
          -4.716561317443848,
          0.1903398483991623,
          1.5623219013214111,
          8.80709457397461,
          6.057700157165527,
          1.6820873022079468,
          1.942427158355713,
          0.029777340590953827
         ],
         "xaxis": "x",
         "y": [
          -13.144512176513672,
          -13.576629638671875,
          -6.274836540222168,
          7.38826847076416,
          7.3558502197265625,
          -15.004558563232422,
          -10.043551445007324,
          -13.7642240524292,
          -13.03513240814209,
          -38.62904357910156,
          -9.31064224243164,
          -9.915428161621094,
          -1.5355149507522583,
          -14.967950820922852,
          -4.860675811767578,
          -10.34250259399414,
          0.056202974170446396,
          -11.396885871887207,
          -5.225113868713379,
          -9.151971817016602,
          -5.985229969024658,
          -10.924224853515625,
          -13.616604804992676,
          -23.892559051513672,
          -10.981742858886719,
          -4.857717514038086,
          -14.391646385192871,
          -10.009450912475586,
          -14.574808120727539,
          -24.354896545410156,
          -13.001283645629883,
          -7.993621349334717,
          -5.223142147064209,
          -13.004318237304688,
          -15.75506591796875,
          -13.995397567749023,
          -13.031346321105957,
          -12.882006645202637,
          -4.625739574432373,
          -1.5627915859222412,
          -30.480924606323242,
          -28.50354766845703,
          -13.498757362365723,
          -2.7777507305145264,
          -14.288132667541504,
          -11.101273536682129,
          -2.758409023284912,
          -7.242009162902832,
          -9.430493354797363
         ],
         "yaxis": "y"
        },
        {
         "customdata": [
          [
           "BMET5790",
           "USYD"
          ],
          [
           "AMME2301",
           "USYD"
          ],
          [
           "AMME1802",
           "USYD"
          ],
          [
           "MECH3361",
           "USYD"
          ],
          [
           "AMME1362",
           "USYD"
          ]
         ],
         "hovertemplate": "major=BIOM - MECH<br>uni=%{customdata[1]}<br>x=%{x}<br>y=%{y}<br>subject_code=%{customdata[0]}<extra></extra>",
         "legendgroup": "BIOM - MECH, USYD",
         "marker": {
          "color": "#FECB52",
          "symbol": "diamond"
         },
         "mode": "markers",
         "name": "BIOM - MECH, USYD",
         "orientation": "v",
         "showlegend": true,
         "type": "scatter",
         "x": [
          -11.160626411437988,
          6.220424175262451,
          8.265897750854492,
          6.151677131652832,
          -2.509685754776001
         ],
         "xaxis": "x",
         "y": [
          6.838010787963867,
          -8.077821731567383,
          -11.526412010192871,
          -8.07631778717041,
          -26.203550338745117
         ],
         "yaxis": "y"
        },
        {
         "customdata": [
          [
           "COMP3888",
           "USYD"
          ],
          [
           "COMP3988",
           "USYD"
          ]
         ],
         "hovertemplate": "major=COMP<br>uni=%{customdata[1]}<br>x=%{x}<br>y=%{y}<br>subject_code=%{customdata[0]}<extra></extra>",
         "legendgroup": "COMP, USYD",
         "marker": {
          "color": "#636efa",
          "symbol": "diamond"
         },
         "mode": "markers",
         "name": "COMP, USYD",
         "orientation": "v",
         "showlegend": true,
         "type": "scatter",
         "x": [
          -12.473088264465332,
          -12.340363502502441
         ],
         "xaxis": "x",
         "y": [
          -28.309898376464844,
          -28.313182830810547
         ],
         "yaxis": "y"
        },
        {
         "customdata": [
          [
           "COMP3308",
           "USYD"
          ]
         ],
         "hovertemplate": "major=ARTI - COMP - MECH - SOFT<br>uni=%{customdata[1]}<br>x=%{x}<br>y=%{y}<br>subject_code=%{customdata[0]}<extra></extra>",
         "legendgroup": "ARTI - COMP - MECH - SOFT, USYD",
         "marker": {
          "color": "#EF553B",
          "symbol": "diamond"
         },
         "mode": "markers",
         "name": "ARTI - COMP - MECH - SOFT, USYD",
         "orientation": "v",
         "showlegend": true,
         "type": "scatter",
         "x": [
          -18.202951431274414
         ],
         "xaxis": "x",
         "y": [
          -2.63134765625
         ],
         "yaxis": "y"
        },
        {
         "customdata": [
          [
           "MATH2061",
           "USYD"
          ]
         ],
         "hovertemplate": "major=CIVI - ELEC - SOFT<br>uni=%{customdata[1]}<br>x=%{x}<br>y=%{y}<br>subject_code=%{customdata[0]}<extra></extra>",
         "legendgroup": "CIVI - ELEC - SOFT, USYD",
         "marker": {
          "color": "#00cc96",
          "symbol": "diamond"
         },
         "mode": "markers",
         "name": "CIVI - ELEC - SOFT, USYD",
         "orientation": "v",
         "showlegend": true,
         "type": "scatter",
         "x": [
          -7.250513076782227
         ],
         "xaxis": "x",
         "y": [
          -9.675956726074219
         ],
         "yaxis": "y"
        },
        {
         "customdata": [
          [
           "INFO1910",
           "USYD"
          ],
          [
           "INFO1110",
           "USYD"
          ]
         ],
         "hovertemplate": "major=ARTI - COMP - ENTE - NETW<br>uni=%{customdata[1]}<br>x=%{x}<br>y=%{y}<br>subject_code=%{customdata[0]}<extra></extra>",
         "legendgroup": "ARTI - COMP - ENTE - NETW, USYD",
         "marker": {
          "color": "#ab63fa",
          "symbol": "diamond"
         },
         "mode": "markers",
         "name": "ARTI - COMP - ENTE - NETW, USYD",
         "orientation": "v",
         "showlegend": true,
         "type": "scatter",
         "x": [
          -10.657828330993652,
          -10.024441719055176
         ],
         "xaxis": "x",
         "y": [
          -22.826562881469727,
          -24.63104820251465
         ],
         "yaxis": "y"
        },
        {
         "customdata": [
          [
           "COMP2017",
           "USYD"
          ]
         ],
         "hovertemplate": "major=COMP - ELEC - NETW - SOFT<br>uni=%{customdata[1]}<br>x=%{x}<br>y=%{y}<br>subject_code=%{customdata[0]}<extra></extra>",
         "legendgroup": "COMP - ELEC - NETW - SOFT, USYD",
         "marker": {
          "color": "#FFA15A",
          "symbol": "diamond"
         },
         "mode": "markers",
         "name": "COMP - ELEC - NETW - SOFT, USYD",
         "orientation": "v",
         "showlegend": true,
         "type": "scatter",
         "x": [
          -14.0592622756958
         ],
         "xaxis": "x",
         "y": [
          -24.107221603393555
         ],
         "yaxis": "y"
        },
        {
         "customdata": [
          [
           "COMP3221",
           "USYD"
          ]
         ],
         "hovertemplate": "major=COMP - NETW - SOFT<br>uni=%{customdata[1]}<br>x=%{x}<br>y=%{y}<br>subject_code=%{customdata[0]}<extra></extra>",
         "legendgroup": "COMP - NETW - SOFT, USYD",
         "marker": {
          "color": "#19d3f3",
          "symbol": "diamond"
         },
         "mode": "markers",
         "name": "COMP - NETW - SOFT, USYD",
         "orientation": "v",
         "showlegend": true,
         "type": "scatter",
         "x": [
          -16.35038185119629
         ],
         "xaxis": "x",
         "y": [
          -19.634737014770508
         ],
         "yaxis": "y"
        },
        {
         "customdata": [
          [
           "ISYS2120",
           "USYD"
          ]
         ],
         "hovertemplate": "major=NETW - SOFT<br>uni=%{customdata[1]}<br>x=%{x}<br>y=%{y}<br>subject_code=%{customdata[0]}<extra></extra>",
         "legendgroup": "NETW - SOFT, USYD",
         "marker": {
          "color": "#FF6692",
          "symbol": "diamond"
         },
         "mode": "markers",
         "name": "NETW - SOFT, USYD",
         "orientation": "v",
         "showlegend": true,
         "type": "scatter",
         "x": [
          -23.063735961914062
         ],
         "xaxis": "x",
         "y": [
          -11.584482192993164
         ],
         "yaxis": "y"
        },
        {
         "customdata": [
          [
           "COMP3027",
           "USYD"
          ],
          [
           "COMP3927",
           "USYD"
          ],
          [
           "COMP3608",
           "USYD"
          ]
         ],
         "hovertemplate": "major=ARTI - COMP - SOFT<br>uni=%{customdata[1]}<br>x=%{x}<br>y=%{y}<br>subject_code=%{customdata[0]}<extra></extra>",
         "legendgroup": "ARTI - COMP - SOFT, USYD",
         "marker": {
          "color": "#B6E880",
          "symbol": "diamond"
         },
         "mode": "markers",
         "name": "ARTI - COMP - SOFT, USYD",
         "orientation": "v",
         "showlegend": true,
         "type": "scatter",
         "x": [
          -11.694631576538086,
          -11.747817039489746,
          -13.396711349487305
         ],
         "xaxis": "x",
         "y": [
          -14.792386054992676,
          -14.906005859375,
          -17.922048568725586
         ],
         "yaxis": "y"
        },
        {
         "customdata": [
          [
           "COMP2123",
           "USYD"
          ]
         ],
         "hovertemplate": "major=ARTI - COMP - ELEC - ENTE - SOFT<br>uni=%{customdata[1]}<br>x=%{x}<br>y=%{y}<br>subject_code=%{customdata[0]}<extra></extra>",
         "legendgroup": "ARTI - COMP - ELEC - ENTE - SOFT, USYD",
         "marker": {
          "color": "#FF97FF",
          "symbol": "diamond"
         },
         "mode": "markers",
         "name": "ARTI - COMP - ELEC - ENTE - SOFT, USYD",
         "orientation": "v",
         "showlegend": true,
         "type": "scatter",
         "x": [
          -18.447397232055664
         ],
         "xaxis": "x",
         "y": [
          -9.71826171875
         ],
         "yaxis": "y"
        },
        {
         "customdata": [
          [
           "DATA3404",
           "USYD"
          ],
          [
           "DATA2901",
           "USYD"
          ],
          [
           "DATA2002",
           "USYD"
          ],
          [
           "DATA2001",
           "USYD"
          ],
          [
           "DATA2902",
           "USYD"
          ],
          [
           "DATA3406",
           "USYD"
          ]
         ],
         "hovertemplate": "major=ARTI - SOFT<br>uni=%{customdata[1]}<br>x=%{x}<br>y=%{y}<br>subject_code=%{customdata[0]}<extra></extra>",
         "legendgroup": "ARTI - SOFT, USYD",
         "marker": {
          "color": "#FECB52",
          "symbol": "diamond"
         },
         "mode": "markers",
         "name": "ARTI - SOFT, USYD",
         "orientation": "v",
         "showlegend": true,
         "type": "scatter",
         "x": [
          -23.235652923583984,
          -28.9178409576416,
          -22.781494140625,
          -28.914745330810547,
          -22.871768951416016,
          -24.299728393554688
         ],
         "xaxis": "x",
         "y": [
          -11.066161155700684,
          -9.933195114135742,
          -9.0309476852417,
          -9.931360244750977,
          -8.835671424865723,
          -7.906565189361572
         ],
         "yaxis": "y"
        },
        {
         "customdata": [
          [
           "ELEC3506",
           "USYD"
          ]
         ],
         "hovertemplate": "major=ELEC - NETW - SOFT<br>uni=%{customdata[1]}<br>x=%{x}<br>y=%{y}<br>subject_code=%{customdata[0]}<extra></extra>",
         "legendgroup": "ELEC - NETW - SOFT, USYD",
         "marker": {
          "color": "#636efa",
          "symbol": "diamond"
         },
         "mode": "markers",
         "name": "ELEC - NETW - SOFT, USYD",
         "orientation": "v",
         "showlegend": true,
         "type": "scatter",
         "x": [
          4.785645961761475
         ],
         "xaxis": "x",
         "y": [
          -21.711971282958984
         ],
         "yaxis": "y"
        },
        {
         "customdata": [
          [
           "COMP2823",
           "USYD"
          ]
         ],
         "hovertemplate": "major=ARTI - COMP - ENTE - SOFT<br>uni=%{customdata[1]}<br>x=%{x}<br>y=%{y}<br>subject_code=%{customdata[0]}<extra></extra>",
         "legendgroup": "ARTI - COMP - ENTE - SOFT, USYD",
         "marker": {
          "color": "#EF553B",
          "symbol": "diamond"
         },
         "mode": "markers",
         "name": "ARTI - COMP - ENTE - SOFT, USYD",
         "orientation": "v",
         "showlegend": true,
         "type": "scatter",
         "x": [
          -18.43891143798828
         ],
         "xaxis": "x",
         "y": [
          -9.719502449035645
         ],
         "yaxis": "y"
        },
        {
         "customdata": [
          [
           "INFO1113",
           "USYD"
          ]
         ],
         "hovertemplate": "major=COMP - ELEC - ENTE - NETW - SOFT<br>uni=%{customdata[1]}<br>x=%{x}<br>y=%{y}<br>subject_code=%{customdata[0]}<extra></extra>",
         "legendgroup": "COMP - ELEC - ENTE - NETW - SOFT, USYD",
         "marker": {
          "color": "#00cc96",
          "symbol": "diamond"
         },
         "mode": "markers",
         "name": "COMP - ELEC - ENTE - NETW - SOFT, USYD",
         "orientation": "v",
         "showlegend": true,
         "type": "scatter",
         "x": [
          -16.8652400970459
         ],
         "xaxis": "x",
         "y": [
          -24.54091453552246
         ],
         "yaxis": "y"
        },
        {
         "customdata": [
          [
           "COMP3520",
           "USYD"
          ]
         ],
         "hovertemplate": "major=COMP - ELEC - SOFT<br>uni=%{customdata[1]}<br>x=%{x}<br>y=%{y}<br>subject_code=%{customdata[0]}<extra></extra>",
         "legendgroup": "COMP - ELEC - SOFT, USYD",
         "marker": {
          "color": "#ab63fa",
          "symbol": "diamond"
         },
         "mode": "markers",
         "name": "COMP - ELEC - SOFT, USYD",
         "orientation": "v",
         "showlegend": true,
         "type": "scatter",
         "x": [
          -7.250186443328857
         ],
         "xaxis": "x",
         "y": [
          -21.923322677612305
         ],
         "yaxis": "y"
        },
        {
         "customdata": [
          [
           "COMP4318",
           "USYD"
          ]
         ],
         "hovertemplate": "major=MECH - SOFT<br>uni=%{customdata[1]}<br>x=%{x}<br>y=%{y}<br>subject_code=%{customdata[0]}<extra></extra>",
         "legendgroup": "MECH - SOFT, USYD",
         "marker": {
          "color": "#FFA15A",
          "symbol": "diamond"
         },
         "mode": "markers",
         "name": "MECH - SOFT, USYD",
         "orientation": "v",
         "showlegend": true,
         "type": "scatter",
         "x": [
          -21.465164184570312
         ],
         "xaxis": "x",
         "y": [
          -9.10071849822998
         ],
         "yaxis": "y"
        }
       ],
       "layout": {
        "legend": {
         "title": {
          "text": "major, uni"
         },
         "tracegroupgap": 0
        },
        "margin": {
         "t": 60
        },
        "template": {
         "data": {
          "bar": [
           {
            "error_x": {
             "color": "#2a3f5f"
            },
            "error_y": {
             "color": "#2a3f5f"
            },
            "marker": {
             "line": {
              "color": "#E5ECF6",
              "width": 0.5
             },
             "pattern": {
              "fillmode": "overlay",
              "size": 10,
              "solidity": 0.2
             }
            },
            "type": "bar"
           }
          ],
          "barpolar": [
           {
            "marker": {
             "line": {
              "color": "#E5ECF6",
              "width": 0.5
             },
             "pattern": {
              "fillmode": "overlay",
              "size": 10,
              "solidity": 0.2
             }
            },
            "type": "barpolar"
           }
          ],
          "carpet": [
           {
            "aaxis": {
             "endlinecolor": "#2a3f5f",
             "gridcolor": "white",
             "linecolor": "white",
             "minorgridcolor": "white",
             "startlinecolor": "#2a3f5f"
            },
            "baxis": {
             "endlinecolor": "#2a3f5f",
             "gridcolor": "white",
             "linecolor": "white",
             "minorgridcolor": "white",
             "startlinecolor": "#2a3f5f"
            },
            "type": "carpet"
           }
          ],
          "choropleth": [
           {
            "colorbar": {
             "outlinewidth": 0,
             "ticks": ""
            },
            "type": "choropleth"
           }
          ],
          "contour": [
           {
            "colorbar": {
             "outlinewidth": 0,
             "ticks": ""
            },
            "colorscale": [
             [
              0,
              "#0d0887"
             ],
             [
              0.1111111111111111,
              "#46039f"
             ],
             [
              0.2222222222222222,
              "#7201a8"
             ],
             [
              0.3333333333333333,
              "#9c179e"
             ],
             [
              0.4444444444444444,
              "#bd3786"
             ],
             [
              0.5555555555555556,
              "#d8576b"
             ],
             [
              0.6666666666666666,
              "#ed7953"
             ],
             [
              0.7777777777777778,
              "#fb9f3a"
             ],
             [
              0.8888888888888888,
              "#fdca26"
             ],
             [
              1,
              "#f0f921"
             ]
            ],
            "type": "contour"
           }
          ],
          "contourcarpet": [
           {
            "colorbar": {
             "outlinewidth": 0,
             "ticks": ""
            },
            "type": "contourcarpet"
           }
          ],
          "heatmap": [
           {
            "colorbar": {
             "outlinewidth": 0,
             "ticks": ""
            },
            "colorscale": [
             [
              0,
              "#0d0887"
             ],
             [
              0.1111111111111111,
              "#46039f"
             ],
             [
              0.2222222222222222,
              "#7201a8"
             ],
             [
              0.3333333333333333,
              "#9c179e"
             ],
             [
              0.4444444444444444,
              "#bd3786"
             ],
             [
              0.5555555555555556,
              "#d8576b"
             ],
             [
              0.6666666666666666,
              "#ed7953"
             ],
             [
              0.7777777777777778,
              "#fb9f3a"
             ],
             [
              0.8888888888888888,
              "#fdca26"
             ],
             [
              1,
              "#f0f921"
             ]
            ],
            "type": "heatmap"
           }
          ],
          "heatmapgl": [
           {
            "colorbar": {
             "outlinewidth": 0,
             "ticks": ""
            },
            "colorscale": [
             [
              0,
              "#0d0887"
             ],
             [
              0.1111111111111111,
              "#46039f"
             ],
             [
              0.2222222222222222,
              "#7201a8"
             ],
             [
              0.3333333333333333,
              "#9c179e"
             ],
             [
              0.4444444444444444,
              "#bd3786"
             ],
             [
              0.5555555555555556,
              "#d8576b"
             ],
             [
              0.6666666666666666,
              "#ed7953"
             ],
             [
              0.7777777777777778,
              "#fb9f3a"
             ],
             [
              0.8888888888888888,
              "#fdca26"
             ],
             [
              1,
              "#f0f921"
             ]
            ],
            "type": "heatmapgl"
           }
          ],
          "histogram": [
           {
            "marker": {
             "pattern": {
              "fillmode": "overlay",
              "size": 10,
              "solidity": 0.2
             }
            },
            "type": "histogram"
           }
          ],
          "histogram2d": [
           {
            "colorbar": {
             "outlinewidth": 0,
             "ticks": ""
            },
            "colorscale": [
             [
              0,
              "#0d0887"
             ],
             [
              0.1111111111111111,
              "#46039f"
             ],
             [
              0.2222222222222222,
              "#7201a8"
             ],
             [
              0.3333333333333333,
              "#9c179e"
             ],
             [
              0.4444444444444444,
              "#bd3786"
             ],
             [
              0.5555555555555556,
              "#d8576b"
             ],
             [
              0.6666666666666666,
              "#ed7953"
             ],
             [
              0.7777777777777778,
              "#fb9f3a"
             ],
             [
              0.8888888888888888,
              "#fdca26"
             ],
             [
              1,
              "#f0f921"
             ]
            ],
            "type": "histogram2d"
           }
          ],
          "histogram2dcontour": [
           {
            "colorbar": {
             "outlinewidth": 0,
             "ticks": ""
            },
            "colorscale": [
             [
              0,
              "#0d0887"
             ],
             [
              0.1111111111111111,
              "#46039f"
             ],
             [
              0.2222222222222222,
              "#7201a8"
             ],
             [
              0.3333333333333333,
              "#9c179e"
             ],
             [
              0.4444444444444444,
              "#bd3786"
             ],
             [
              0.5555555555555556,
              "#d8576b"
             ],
             [
              0.6666666666666666,
              "#ed7953"
             ],
             [
              0.7777777777777778,
              "#fb9f3a"
             ],
             [
              0.8888888888888888,
              "#fdca26"
             ],
             [
              1,
              "#f0f921"
             ]
            ],
            "type": "histogram2dcontour"
           }
          ],
          "mesh3d": [
           {
            "colorbar": {
             "outlinewidth": 0,
             "ticks": ""
            },
            "type": "mesh3d"
           }
          ],
          "parcoords": [
           {
            "line": {
             "colorbar": {
              "outlinewidth": 0,
              "ticks": ""
             }
            },
            "type": "parcoords"
           }
          ],
          "pie": [
           {
            "automargin": true,
            "type": "pie"
           }
          ],
          "scatter": [
           {
            "fillpattern": {
             "fillmode": "overlay",
             "size": 10,
             "solidity": 0.2
            },
            "type": "scatter"
           }
          ],
          "scatter3d": [
           {
            "line": {
             "colorbar": {
              "outlinewidth": 0,
              "ticks": ""
             }
            },
            "marker": {
             "colorbar": {
              "outlinewidth": 0,
              "ticks": ""
             }
            },
            "type": "scatter3d"
           }
          ],
          "scattercarpet": [
           {
            "marker": {
             "colorbar": {
              "outlinewidth": 0,
              "ticks": ""
             }
            },
            "type": "scattercarpet"
           }
          ],
          "scattergeo": [
           {
            "marker": {
             "colorbar": {
              "outlinewidth": 0,
              "ticks": ""
             }
            },
            "type": "scattergeo"
           }
          ],
          "scattergl": [
           {
            "marker": {
             "colorbar": {
              "outlinewidth": 0,
              "ticks": ""
             }
            },
            "type": "scattergl"
           }
          ],
          "scattermapbox": [
           {
            "marker": {
             "colorbar": {
              "outlinewidth": 0,
              "ticks": ""
             }
            },
            "type": "scattermapbox"
           }
          ],
          "scatterpolar": [
           {
            "marker": {
             "colorbar": {
              "outlinewidth": 0,
              "ticks": ""
             }
            },
            "type": "scatterpolar"
           }
          ],
          "scatterpolargl": [
           {
            "marker": {
             "colorbar": {
              "outlinewidth": 0,
              "ticks": ""
             }
            },
            "type": "scatterpolargl"
           }
          ],
          "scatterternary": [
           {
            "marker": {
             "colorbar": {
              "outlinewidth": 0,
              "ticks": ""
             }
            },
            "type": "scatterternary"
           }
          ],
          "surface": [
           {
            "colorbar": {
             "outlinewidth": 0,
             "ticks": ""
            },
            "colorscale": [
             [
              0,
              "#0d0887"
             ],
             [
              0.1111111111111111,
              "#46039f"
             ],
             [
              0.2222222222222222,
              "#7201a8"
             ],
             [
              0.3333333333333333,
              "#9c179e"
             ],
             [
              0.4444444444444444,
              "#bd3786"
             ],
             [
              0.5555555555555556,
              "#d8576b"
             ],
             [
              0.6666666666666666,
              "#ed7953"
             ],
             [
              0.7777777777777778,
              "#fb9f3a"
             ],
             [
              0.8888888888888888,
              "#fdca26"
             ],
             [
              1,
              "#f0f921"
             ]
            ],
            "type": "surface"
           }
          ],
          "table": [
           {
            "cells": {
             "fill": {
              "color": "#EBF0F8"
             },
             "line": {
              "color": "white"
             }
            },
            "header": {
             "fill": {
              "color": "#C8D4E3"
             },
             "line": {
              "color": "white"
             }
            },
            "type": "table"
           }
          ]
         },
         "layout": {
          "annotationdefaults": {
           "arrowcolor": "#2a3f5f",
           "arrowhead": 0,
           "arrowwidth": 1
          },
          "autotypenumbers": "strict",
          "coloraxis": {
           "colorbar": {
            "outlinewidth": 0,
            "ticks": ""
           }
          },
          "colorscale": {
           "diverging": [
            [
             0,
             "#8e0152"
            ],
            [
             0.1,
             "#c51b7d"
            ],
            [
             0.2,
             "#de77ae"
            ],
            [
             0.3,
             "#f1b6da"
            ],
            [
             0.4,
             "#fde0ef"
            ],
            [
             0.5,
             "#f7f7f7"
            ],
            [
             0.6,
             "#e6f5d0"
            ],
            [
             0.7,
             "#b8e186"
            ],
            [
             0.8,
             "#7fbc41"
            ],
            [
             0.9,
             "#4d9221"
            ],
            [
             1,
             "#276419"
            ]
           ],
           "sequential": [
            [
             0,
             "#0d0887"
            ],
            [
             0.1111111111111111,
             "#46039f"
            ],
            [
             0.2222222222222222,
             "#7201a8"
            ],
            [
             0.3333333333333333,
             "#9c179e"
            ],
            [
             0.4444444444444444,
             "#bd3786"
            ],
            [
             0.5555555555555556,
             "#d8576b"
            ],
            [
             0.6666666666666666,
             "#ed7953"
            ],
            [
             0.7777777777777778,
             "#fb9f3a"
            ],
            [
             0.8888888888888888,
             "#fdca26"
            ],
            [
             1,
             "#f0f921"
            ]
           ],
           "sequentialminus": [
            [
             0,
             "#0d0887"
            ],
            [
             0.1111111111111111,
             "#46039f"
            ],
            [
             0.2222222222222222,
             "#7201a8"
            ],
            [
             0.3333333333333333,
             "#9c179e"
            ],
            [
             0.4444444444444444,
             "#bd3786"
            ],
            [
             0.5555555555555556,
             "#d8576b"
            ],
            [
             0.6666666666666666,
             "#ed7953"
            ],
            [
             0.7777777777777778,
             "#fb9f3a"
            ],
            [
             0.8888888888888888,
             "#fdca26"
            ],
            [
             1,
             "#f0f921"
            ]
           ]
          },
          "colorway": [
           "#636efa",
           "#EF553B",
           "#00cc96",
           "#ab63fa",
           "#FFA15A",
           "#19d3f3",
           "#FF6692",
           "#B6E880",
           "#FF97FF",
           "#FECB52"
          ],
          "font": {
           "color": "#2a3f5f"
          },
          "geo": {
           "bgcolor": "white",
           "lakecolor": "white",
           "landcolor": "#E5ECF6",
           "showlakes": true,
           "showland": true,
           "subunitcolor": "white"
          },
          "hoverlabel": {
           "align": "left"
          },
          "hovermode": "closest",
          "mapbox": {
           "style": "light"
          },
          "paper_bgcolor": "white",
          "plot_bgcolor": "#E5ECF6",
          "polar": {
           "angularaxis": {
            "gridcolor": "white",
            "linecolor": "white",
            "ticks": ""
           },
           "bgcolor": "#E5ECF6",
           "radialaxis": {
            "gridcolor": "white",
            "linecolor": "white",
            "ticks": ""
           }
          },
          "scene": {
           "xaxis": {
            "backgroundcolor": "#E5ECF6",
            "gridcolor": "white",
            "gridwidth": 2,
            "linecolor": "white",
            "showbackground": true,
            "ticks": "",
            "zerolinecolor": "white"
           },
           "yaxis": {
            "backgroundcolor": "#E5ECF6",
            "gridcolor": "white",
            "gridwidth": 2,
            "linecolor": "white",
            "showbackground": true,
            "ticks": "",
            "zerolinecolor": "white"
           },
           "zaxis": {
            "backgroundcolor": "#E5ECF6",
            "gridcolor": "white",
            "gridwidth": 2,
            "linecolor": "white",
            "showbackground": true,
            "ticks": "",
            "zerolinecolor": "white"
           }
          },
          "shapedefaults": {
           "line": {
            "color": "#2a3f5f"
           }
          },
          "ternary": {
           "aaxis": {
            "gridcolor": "white",
            "linecolor": "white",
            "ticks": ""
           },
           "baxis": {
            "gridcolor": "white",
            "linecolor": "white",
            "ticks": ""
           },
           "bgcolor": "#E5ECF6",
           "caxis": {
            "gridcolor": "white",
            "linecolor": "white",
            "ticks": ""
           }
          },
          "title": {
           "x": 0.05
          },
          "xaxis": {
           "automargin": true,
           "gridcolor": "white",
           "linecolor": "white",
           "ticks": "",
           "title": {
            "standoff": 15
           },
           "zerolinecolor": "white",
           "zerolinewidth": 2
          },
          "yaxis": {
           "automargin": true,
           "gridcolor": "white",
           "linecolor": "white",
           "ticks": "",
           "title": {
            "standoff": 15
           },
           "zerolinecolor": "white",
           "zerolinewidth": 2
          }
         }
        },
        "title": {
         "text": "t-SNE visualization of SBERT embeddings of UTS and USYD subjects by Major"
        },
        "xaxis": {
         "anchor": "y",
         "domain": [
          0,
          1
         ],
         "title": {
          "text": "First t-SNE"
         }
        },
        "yaxis": {
         "anchor": "x",
         "domain": [
          0,
          1
         ],
         "title": {
          "text": "Second t-SNE"
         }
        }
       }
      }
     },
     "metadata": {},
     "output_type": "display_data"
    }
   ],
   "source": [
    "fig = px.scatter(sbert_subject_df, x=\"x\", y=\"y\", color=\"major\", labels={\"color\": \"Major\"}, hover_data=[\"subject_code\", \"uni\"], symbol=\"uni\")\n",
    "fig.update_layout(\n",
    "    title=\"t-SNE visualization of SBERT embeddings of UTS and USYD subjects by Major\",\n",
    "    xaxis_title=\"First t-SNE\",\n",
    "    yaxis_title=\"Second t-SNE\",\n",
    ")\n",
    "fig.show()"
   ]
  }
 ],
 "metadata": {
  "kernelspec": {
   "display_name": "py310",
   "language": "python",
   "name": "python3"
  },
  "language_info": {
   "codemirror_mode": {
    "name": "ipython",
    "version": 3
   },
   "file_extension": ".py",
   "mimetype": "text/x-python",
   "name": "python",
   "nbconvert_exporter": "python",
   "pygments_lexer": "ipython3",
   "version": "3.10.13"
  }
 },
 "nbformat": 4,
 "nbformat_minor": 2
}
