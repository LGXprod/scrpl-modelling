{
 "cells": [
  {
   "cell_type": "code",
   "execution_count": 65,
   "metadata": {},
   "outputs": [],
   "source": [
    "import os\n",
    "import json\n",
    "\n",
    "from rake_nltk import Rake\n",
    "import nltk\n",
    "import spacy\n",
    "import pytextrank\n",
    "from tqdm.notebook import tqdm"
   ]
  },
  {
   "cell_type": "code",
   "execution_count": 48,
   "metadata": {},
   "outputs": [
    {
     "name": "stderr",
     "output_type": "stream",
     "text": [
      "[nltk_data] Downloading package stopwords to\n",
      "[nltk_data]     /Users/matthewghannoum/nltk_data...\n",
      "[nltk_data]   Package stopwords is already up-to-date!\n"
     ]
    },
    {
     "data": {
      "text/plain": [
       "True"
      ]
     },
     "execution_count": 48,
     "metadata": {},
     "output_type": "execute_result"
    }
   ],
   "source": [
    "nltk.download('stopwords')"
   ]
  },
  {
   "cell_type": "code",
   "execution_count": 49,
   "metadata": {},
   "outputs": [],
   "source": [
    "# function that reads text file\n",
    "def read_file(filepath: str) -> str:\n",
    "    with open(filepath, \"r\") as f:\n",
    "        return f.read()"
   ]
  },
  {
   "cell_type": "code",
   "execution_count": 50,
   "metadata": {},
   "outputs": [],
   "source": [
    "usyd_test_subject = read_file(f\"./data/subjects/usyd/COMP2017.txt\")\n",
    "uts_test_subject = read_file(f\"./data/subjects/uts/31242.txt\")"
   ]
  },
  {
   "cell_type": "code",
   "execution_count": 51,
   "metadata": {},
   "outputs": [],
   "source": [
    "def get_text_section(text: str, start_line: str, end_line: str) -> str:\n",
    "  description = \"\"\n",
    "  is_description = False\n",
    "  \n",
    "  for line in text.split(\"\\n\"):\n",
    "    if is_description:\n",
    "      if line.strip() == \"\":\n",
    "        continue\n",
    "      \n",
    "      if line == end_line:\n",
    "        break\n",
    "      description += line + \"\\n\"\n",
    "      continue\n",
    "    \n",
    "    if line == start_line:\n",
    "      is_description = True\n",
    "      \n",
    "  return description"
   ]
  },
  {
   "cell_type": "code",
   "execution_count": 52,
   "metadata": {},
   "outputs": [],
   "source": [
    "usyd_description = get_text_section(usyd_test_subject, \"2024 unit information\", \"Unit details and rules\")\n",
    "uts_description = get_text_section(uts_test_subject, \"Description\", \"Subject learning objectives (SLOs)\")"
   ]
  },
  {
   "cell_type": "code",
   "execution_count": 53,
   "metadata": {},
   "outputs": [],
   "source": [
    "usyd_slos = get_text_section(usyd_test_subject, \"At the completion of this unit, you should be able to:\", \"Unit availability\")\n",
    "uts_slos = get_text_section(uts_test_subject, \"Subject learning objectives (SLOs)\", \"Course intended learning outcomes (CILOs)\")"
   ]
  },
  {
   "cell_type": "code",
   "execution_count": 54,
   "metadata": {},
   "outputs": [],
   "source": [
    "uts_test_subject = uts_description + \"\\n\\n\" +  uts_slos\n",
    "usyd_test_subject = usyd_description +  \"\\n\\n\" + usyd_slos"
   ]
  },
  {
   "cell_type": "code",
   "execution_count": 55,
   "metadata": {},
   "outputs": [
    {
     "data": {
      "text/plain": [
       "<pytextrank.base.BaseTextRankFactory at 0x106ac0b50>"
      ]
     },
     "execution_count": 55,
     "metadata": {},
     "output_type": "execute_result"
    }
   ],
   "source": [
    "# load a spaCy model, depending on language, scale, etc.\n",
    "nlp = spacy.load(\"en_core_web_sm\")\n",
    "# add PyTextRank to the spaCy pipeline\n",
    "nlp.add_pipe(\"textrank\")"
   ]
  },
  {
   "cell_type": "code",
   "execution_count": 56,
   "metadata": {},
   "outputs": [],
   "source": [
    "doc = nlp(uts_test_subject)\n",
    "phrase_rank = [(phrase.text, phrase.rank) for phrase in doc._.phrases]\n",
    "phrase_rank.sort(key=lambda x: x[1], reverse=True)"
   ]
  },
  {
   "cell_type": "code",
   "execution_count": 57,
   "metadata": {},
   "outputs": [
    {
     "data": {
      "text/plain": [
       "[('web applications', 0.12992024081174047),\n",
       " ('sophisticated web applications', 0.12437740086772171),\n",
       " ('competing web application architectures', 0.12326220518012279),\n",
       " ('web development stacks', 0.10477504250270292),\n",
       " ('application security', 0.10226389515474604),\n",
       " ('such applications', 0.09351745673744058),\n",
       " ('Students', 0.08368777241259946),\n",
       " ('students', 0.08368777241259946),\n",
       " ('a web based application system', 0.07970956794192767),\n",
       " ('tier and distributed web applications', 0.07804403219188612)]"
      ]
     },
     "execution_count": 57,
     "metadata": {},
     "output_type": "execute_result"
    }
   ],
   "source": [
    "phrase_rank[:10]"
   ]
  },
  {
   "cell_type": "code",
   "execution_count": 58,
   "metadata": {},
   "outputs": [],
   "source": [
    "doc = nlp(usyd_test_subject)\n",
    "phrase_rank = [(phrase.text, phrase.rank) for phrase in doc._.phrases]\n",
    "phrase_rank.sort(key=lambda x: x[1], reverse=True)"
   ]
  },
  {
   "cell_type": "code",
   "execution_count": 59,
   "metadata": {},
   "outputs": [
    {
     "data": {
      "text/plain": [
       "[('common Unix tools', 0.10219663484047473),\n",
       " ('such errors', 0.09228956572237379),\n",
       " ('common programming errors', 0.0868127086937746),\n",
       " ('memory usage patterns', 0.0780810399632048),\n",
       " ('debugging tools', 0.07758519454799759),\n",
       " ('code quality strategies', 0.07719768746746404),\n",
       " ('example code', 0.07648587377369842),\n",
       " ('tools', 0.07467431525841427),\n",
       " ('memory management', 0.07465430274100611),\n",
       " ('memory leaks', 0.0745406201608866)]"
      ]
     },
     "execution_count": 59,
     "metadata": {},
     "output_type": "execute_result"
    }
   ],
   "source": [
    "phrase_rank[:10]"
   ]
  },
  {
   "cell_type": "code",
   "execution_count": 63,
   "metadata": {},
   "outputs": [
    {
     "data": {
      "application/vnd.jupyter.widget-view+json": {
       "model_id": "2f74d7aac65344df8d0800b6203aa0c3",
       "version_major": 2,
       "version_minor": 0
      },
      "text/plain": [
       "Processing uts subjects:   0%|          | 0/265 [00:00<?, ?it/s]"
      ]
     },
     "metadata": {},
     "output_type": "display_data"
    },
    {
     "data": {
      "application/vnd.jupyter.widget-view+json": {
       "model_id": "ea50b67b71494c10adccfb6c0aecfcdc",
       "version_major": 2,
       "version_minor": 0
      },
      "text/plain": [
       "Processing usyd subjects:   0%|          | 0/243 [00:00<?, ?it/s]"
      ]
     },
     "metadata": {},
     "output_type": "display_data"
    }
   ],
   "source": [
    "subject_code_to_keywords = {}\n",
    "\n",
    "for uni in [\"uts\", \"usyd\"]:\n",
    "  start_line = \"2024 unit information\" if uni == \"usyd\" else \"Description\"\n",
    "  end_line = \"Unit details and rules\" if uni == \"usyd\" else \"Subject learning objectives (SLOs)\"\n",
    "  \n",
    "  for filename in tqdm(os.listdir(f\"./data/subjects/{uni}\"), desc=f\"Processing {uni} subjects\"):\n",
    "    if not filename.endswith(\".txt\"):\n",
    "      continue\n",
    "    \n",
    "    filepath = f\"./data/subjects/{uni}/{filename}\"\n",
    "    text = read_file(filepath)\n",
    "    \n",
    "    relevant_text = get_text_section(text, start_line, end_line)\n",
    "    \n",
    "    doc = nlp(relevant_text)\n",
    "    phrase_rank = [(phrase.text, phrase.rank) for phrase in doc._.phrases]\n",
    "    phrase_rank.sort(key=lambda x: x[1], reverse=True)\n",
    "    subject_code_to_keywords[filename.replace(\".txt\", \"\")] = [phrase[0] for phrase in phrase_rank[:10]]"
   ]
  },
  {
   "cell_type": "code",
   "execution_count": 67,
   "metadata": {},
   "outputs": [],
   "source": [
    "with open(\"./data/subjects/subject_keywords.json\", \"w\") as f:\n",
    "    json.dump(subject_code_to_keywords, f, indent=4)"
   ]
  }
 ],
 "metadata": {
  "kernelspec": {
   "display_name": "py310",
   "language": "python",
   "name": "python3"
  },
  "language_info": {
   "codemirror_mode": {
    "name": "ipython",
    "version": 3
   },
   "file_extension": ".py",
   "mimetype": "text/x-python",
   "name": "python",
   "nbconvert_exporter": "python",
   "pygments_lexer": "ipython3",
   "version": "3.10.13"
  }
 },
 "nbformat": 4,
 "nbformat_minor": 2
}
