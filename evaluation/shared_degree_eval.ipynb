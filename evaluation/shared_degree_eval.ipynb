{
 "cells": [
  {
   "cell_type": "code",
   "execution_count": 21,
   "metadata": {},
   "outputs": [],
   "source": [
    "import os\n",
    "import json\n",
    "from typing import Literal\n",
    "\n",
    "from dotenv import dotenv_values\n",
    "import pandas as pd\n",
    "from bs4 import BeautifulSoup\n",
    "import plotly.express as px\n",
    "import weaviate\n",
    "import weaviate.classes as wvc"
   ]
  },
  {
   "cell_type": "code",
   "execution_count": 22,
   "metadata": {},
   "outputs": [],
   "source": [
    "config = dotenv_values(\"../.env\")"
   ]
  },
  {
   "cell_type": "code",
   "execution_count": 23,
   "metadata": {},
   "outputs": [
    {
     "name": "stderr",
     "output_type": "stream",
     "text": [
      "/var/folders/4l/8tynsjk14vg7p9s4qx1t_pb00000gn/T/ipykernel_81437/1153684440.py:1: ResourceWarning: unclosed <socket.socket fd=75, family=AddressFamily.AF_INET6, type=SocketKind.SOCK_STREAM, proto=6, laddr=('::1', 50382, 0, 0), raddr=('::1', 8080, 0, 0)>\n",
      "  client = weaviate.connect_to_custom(\n",
      "ResourceWarning: Enable tracemalloc to get the object allocation traceback\n"
     ]
    }
   ],
   "source": [
    "client = weaviate.connect_to_custom(\n",
    "    http_host=\"localhost\",\n",
    "    http_port=8080,\n",
    "    http_secure=False,\n",
    "    grpc_host=\"localhost\",\n",
    "    grpc_port=50051,\n",
    "    grpc_secure=False,\n",
    "    auth_credentials=weaviate.auth.AuthApiKey(\n",
    "        config[\"AUTHENTICATION_APIKEY_ALLOWED_KEYS\"]\n",
    "    ),  # Set this environment variable\n",
    ")"
   ]
  },
  {
   "cell_type": "code",
   "execution_count": 24,
   "metadata": {},
   "outputs": [
    {
     "data": {
      "text/plain": [
       "['USYD_GLOVE_Subject',\n",
       " 'UTS_INSTRUCTOR_Subject',\n",
       " 'USYD_MXBAI_Subject',\n",
       " 'USYD_SBERT_Subject',\n",
       " 'UTS_DOC2VEC_Subject',\n",
       " 'UTS_GLOVE_Subject',\n",
       " 'USYD_DOC2VEC_Subject',\n",
       " 'UTS_MXBAI_Subject',\n",
       " 'UTS_SBERT_Subject',\n",
       " 'USYD_INSTRUCTOR_Subject']"
      ]
     },
     "execution_count": 24,
     "metadata": {},
     "output_type": "execute_result"
    }
   ],
   "source": [
    "collections = list(client.collections.list_all().keys())\n",
    "collections"
   ]
  },
  {
   "cell_type": "code",
   "execution_count": 25,
   "metadata": {},
   "outputs": [],
   "source": [
    "def get_similar_uts_subjects(\n",
    "    uts_subject_collection,\n",
    "    usyd_subject_vector: dict[str, list[float]],\n",
    "    num_subjects: int = 5,\n",
    "):\n",
    "    response = uts_subject_collection.query.near_vector(\n",
    "        near_vector=usyd_subject_vector,\n",
    "        limit=num_subjects,\n",
    "        return_metadata=wvc.query.MetadataQuery(distance=True),\n",
    "    )\n",
    "    \n",
    "    return [o.properties for o in response.objects]"
   ]
  },
  {
   "cell_type": "code",
   "execution_count": 26,
   "metadata": {},
   "outputs": [],
   "source": [
    "uts_to_usyd_degree = {\n",
    "  \"Bachelor of Computing Science (Honours)\": \"Bachelor of Advanced Computing\",\n",
    "  \"Bachelor of Engineering (Honours)\": \"Bachelor of Engineering (Honours)\",\n",
    "  \"Bachelor of Nursing\": \"Bachelor of Nursing (Advanced Studies)\"\n",
    "}"
   ]
  },
  {
   "cell_type": "code",
   "execution_count": 27,
   "metadata": {},
   "outputs": [],
   "source": [
    "def is_share_degree(uts_degrees, usyd_degrees):\n",
    "    is_shared = False\n",
    "    \n",
    "    for uts_degree in uts_degrees:\n",
    "        if uts_to_usyd_degree[uts_degree] in usyd_degrees:\n",
    "            is_shared = True\n",
    "            break\n",
    "          \n",
    "    return is_shared"
   ]
  },
  {
   "cell_type": "code",
   "execution_count": 28,
   "metadata": {},
   "outputs": [],
   "source": [
    "def get_model_accuracy(num_similar_subjects: int):\n",
    "    embedding_accuracy = {}\n",
    "\n",
    "    for embedding_type in [\"MXBAI\", \"INSTRUCTOR\", \"SBERT\", \"GLOVE\", \"DOC2VEC\"]:\n",
    "        usyd_subject_collection = client.collections.get(f\"USYD_{embedding_type}_Subject\")\n",
    "        uts_subject_collection = client.collections.get(f\"UTS_{embedding_type}_Subject\")\n",
    "        \n",
    "        num_subjects = 0\n",
    "        num_share_degree = 0\n",
    "        \n",
    "        for item in usyd_subject_collection.iterator(include_vector=True):\n",
    "            degrees = item.properties[\"degrees\"]\n",
    "            # subject_code = item.properties[\"subjectCode\"]\n",
    "            # majors = item.properties[\"majors\"]\n",
    "            subject_vector = item.vector\n",
    "            \n",
    "            if type(subject_vector) != list:\n",
    "                subject_vector = subject_vector[\"default\"]\n",
    "            \n",
    "            similar_subjects = get_similar_uts_subjects(\n",
    "                uts_subject_collection, subject_vector, num_similar_subjects\n",
    "            )\n",
    "            \n",
    "            for similar_subject in similar_subjects:\n",
    "                if is_share_degree(similar_subject[\"degrees\"], degrees):\n",
    "                    num_share_degree += 1\n",
    "                num_subjects += 1\n",
    "                \n",
    "        embedding_accuracy[embedding_type] = num_share_degree / num_subjects\n",
    "        \n",
    "    return embedding_accuracy"
   ]
  },
  {
   "cell_type": "code",
   "execution_count": 29,
   "metadata": {},
   "outputs": [],
   "source": [
    "model_accuracy_top_2 = get_model_accuracy(2)\n",
    "model_accuracy_top_5 = get_model_accuracy(5)\n",
    "model_accuracy_top_10 = get_model_accuracy(10)"
   ]
  },
  {
   "cell_type": "code",
   "execution_count": 30,
   "metadata": {},
   "outputs": [],
   "source": [
    "# convert major accuracy to percentage with 4 decimal places\n",
    "model_accuracy_top_2 = {k: round(v * 100, 2) for k, v in model_accuracy_top_2.items()}\n",
    "model_accuracy_top_5 = {k: round(v * 100, 2) for k, v in model_accuracy_top_5.items()}\n",
    "model_accuracy_top_10 = {k: round(v * 100, 2) for k, v in model_accuracy_top_10.items()}"
   ]
  },
  {
   "cell_type": "code",
   "execution_count": 31,
   "metadata": {},
   "outputs": [
    {
     "data": {
      "text/html": [
       "<div>\n",
       "<style scoped>\n",
       "    .dataframe tbody tr th:only-of-type {\n",
       "        vertical-align: middle;\n",
       "    }\n",
       "\n",
       "    .dataframe tbody tr th {\n",
       "        vertical-align: top;\n",
       "    }\n",
       "\n",
       "    .dataframe thead th {\n",
       "        text-align: right;\n",
       "    }\n",
       "</style>\n",
       "<table border=\"1\" class=\"dataframe\">\n",
       "  <thead>\n",
       "    <tr style=\"text-align: right;\">\n",
       "      <th></th>\n",
       "      <th>Top 2</th>\n",
       "      <th>Top 5</th>\n",
       "      <th>Top 10</th>\n",
       "    </tr>\n",
       "  </thead>\n",
       "  <tbody>\n",
       "    <tr>\n",
       "      <th>MXBAI</th>\n",
       "      <td>93.54</td>\n",
       "      <td>94.51</td>\n",
       "      <td>93.54</td>\n",
       "    </tr>\n",
       "    <tr>\n",
       "      <th>INSTRUCTOR</th>\n",
       "      <td>92.99</td>\n",
       "      <td>92.36</td>\n",
       "      <td>91.73</td>\n",
       "    </tr>\n",
       "    <tr>\n",
       "      <th>SBERT</th>\n",
       "      <td>88.74</td>\n",
       "      <td>88.63</td>\n",
       "      <td>87.72</td>\n",
       "    </tr>\n",
       "    <tr>\n",
       "      <th>GLOVE</th>\n",
       "      <td>74.31</td>\n",
       "      <td>71.04</td>\n",
       "      <td>68.08</td>\n",
       "    </tr>\n",
       "    <tr>\n",
       "      <th>DOC2VEC</th>\n",
       "      <td>21.98</td>\n",
       "      <td>23.41</td>\n",
       "      <td>23.16</td>\n",
       "    </tr>\n",
       "  </tbody>\n",
       "</table>\n",
       "</div>"
      ],
      "text/plain": [
       "            Top 2  Top 5  Top 10\n",
       "MXBAI       93.54  94.51   93.54\n",
       "INSTRUCTOR  92.99  92.36   91.73\n",
       "SBERT       88.74  88.63   87.72\n",
       "GLOVE       74.31  71.04   68.08\n",
       "DOC2VEC     21.98  23.41   23.16"
      ]
     },
     "execution_count": 31,
     "metadata": {},
     "output_type": "execute_result"
    }
   ],
   "source": [
    "# creating a dataframe from the accuracy results\n",
    "major_model_accuracy = pd.DataFrame(\n",
    "    {\n",
    "        \"Top 2\": model_accuracy_top_2,\n",
    "        \"Top 5\": model_accuracy_top_5,\n",
    "        \"Top 10\": model_accuracy_top_10,\n",
    "    }\n",
    ")\n",
    "major_model_accuracy"
   ]
  }
 ],
 "metadata": {
  "kernelspec": {
   "display_name": "py310",
   "language": "python",
   "name": "python3"
  },
  "language_info": {
   "codemirror_mode": {
    "name": "ipython",
    "version": 3
   },
   "file_extension": ".py",
   "mimetype": "text/x-python",
   "name": "python",
   "nbconvert_exporter": "python",
   "pygments_lexer": "ipython3",
   "version": "3.10.13"
  }
 },
 "nbformat": 4,
 "nbformat_minor": 2
}
