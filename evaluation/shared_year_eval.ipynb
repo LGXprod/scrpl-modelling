{
 "cells": [
  {
   "cell_type": "code",
   "execution_count": 27,
   "metadata": {},
   "outputs": [],
   "source": [
    "import os\n",
    "import json\n",
    "from typing import Literal\n",
    "\n",
    "from dotenv import dotenv_values\n",
    "import pandas as pd\n",
    "import plotly.express as px\n",
    "import weaviate\n",
    "import weaviate.classes as wvc"
   ]
  },
  {
   "cell_type": "markdown",
   "metadata": {},
   "source": [
    "**This notebook is intended to be run after shared_year_eval, as shared_year_eval does some necessary data cleaning.**"
   ]
  },
  {
   "cell_type": "code",
   "execution_count": 28,
   "metadata": {},
   "outputs": [],
   "source": [
    "config = dotenv_values(\"../.env\")"
   ]
  },
  {
   "cell_type": "code",
   "execution_count": 29,
   "metadata": {},
   "outputs": [
    {
     "name": "stderr",
     "output_type": "stream",
     "text": [
      "/var/folders/4l/8tynsjk14vg7p9s4qx1t_pb00000gn/T/ipykernel_14113/1153684440.py:1: ResourceWarning: unclosed <socket.socket fd=82, family=AddressFamily.AF_INET6, type=SocketKind.SOCK_STREAM, proto=6, laddr=('::1', 59152, 0, 0), raddr=('::1', 8080, 0, 0)>\n",
      "  client = weaviate.connect_to_custom(\n",
      "ResourceWarning: Enable tracemalloc to get the object allocation traceback\n"
     ]
    }
   ],
   "source": [
    "client = weaviate.connect_to_custom(\n",
    "    http_host=\"localhost\",\n",
    "    http_port=8080,\n",
    "    http_secure=False,\n",
    "    grpc_host=\"localhost\",\n",
    "    grpc_port=50051,\n",
    "    grpc_secure=False,\n",
    "    auth_credentials=weaviate.auth.AuthApiKey(\n",
    "        config[\"AUTHENTICATION_APIKEY_ALLOWED_KEYS\"]\n",
    "    ),  # Set this environment variable\n",
    ")"
   ]
  },
  {
   "cell_type": "code",
   "execution_count": 30,
   "metadata": {},
   "outputs": [
    {
     "data": {
      "text/plain": [
       "['USYD_GLOVE_Subject',\n",
       " 'UTS_INSTRUCTOR_Subject',\n",
       " 'USYD_MXBAI_Subject',\n",
       " 'UTS_DOC2VEC_Subject',\n",
       " 'UTS_GLOVE_Subject',\n",
       " 'USYD_DOC2VEC_Subject',\n",
       " 'UTS_MXBAI_Subject',\n",
       " 'UTS_SBERT_Subject',\n",
       " 'USYD_SBERT_Subject',\n",
       " 'USYD_INSTRUCTOR_Subject']"
      ]
     },
     "execution_count": 30,
     "metadata": {},
     "output_type": "execute_result"
    }
   ],
   "source": [
    "collections = list(client.collections.list_all().keys())\n",
    "collections"
   ]
  },
  {
   "cell_type": "code",
   "execution_count": 31,
   "metadata": {},
   "outputs": [],
   "source": [
    "# function that reads json file\n",
    "def read_json(file_name):\n",
    "    with open(file_name, 'r') as file:\n",
    "        data = json.load(file)\n",
    "    return data"
   ]
  },
  {
   "cell_type": "code",
   "execution_count": 32,
   "metadata": {},
   "outputs": [],
   "source": [
    "uts_subject_years = read_json(\"./data/uts_degree_timeline/C09119v2 Bachelor of Computing Science (Honours).json\")"
   ]
  },
  {
   "cell_type": "code",
   "execution_count": 33,
   "metadata": {},
   "outputs": [],
   "source": [
    "def get_subject_year(subject_code: str) -> int:\n",
    "  for subject_name in uts_subject_years:\n",
    "    if subject_code in subject_name:\n",
    "      return int(uts_subject_years[subject_name][0][\"year\"])"
   ]
  },
  {
   "cell_type": "code",
   "execution_count": 34,
   "metadata": {},
   "outputs": [],
   "source": [
    "def get_similar_uts_subjects(\n",
    "    uts_subject_collection,\n",
    "    usyd_subject_vector: dict[str, list[float]],\n",
    "    num_subjects: int = 5,\n",
    "):\n",
    "    response = uts_subject_collection.query.near_vector(\n",
    "        near_vector=usyd_subject_vector,\n",
    "        limit=num_subjects,\n",
    "        return_metadata=wvc.query.MetadataQuery(distance=True),\n",
    "    )\n",
    "    \n",
    "    return [o.properties[\"subjectCode\"] for o in response.objects]"
   ]
  },
  {
   "cell_type": "code",
   "execution_count": 35,
   "metadata": {},
   "outputs": [
    {
     "data": {
      "text/plain": [
       "'1'"
      ]
     },
     "execution_count": 35,
     "metadata": {},
     "output_type": "execute_result"
    }
   ],
   "source": [
    "\"DATA1001\"[4]"
   ]
  },
  {
   "cell_type": "code",
   "execution_count": 36,
   "metadata": {},
   "outputs": [],
   "source": [
    "def proper_round(num, dec=0):\n",
    "    num = str(num)[:str(num).index('.')+dec+2]\n",
    "    if num[-1]>='5':\n",
    "        return float(num[:-2-(not dec)]+str(int(num[-2-(not dec)])+1))\n",
    "    return int(float(num[:-1]))"
   ]
  },
  {
   "cell_type": "code",
   "execution_count": 37,
   "metadata": {},
   "outputs": [],
   "source": [
    "def get_model_accuracy(num_similar_subjects):\n",
    "    model_accuracy = {}\n",
    "    share_year_vals = {}\n",
    "\n",
    "    for model in [\"SBERT\", \"INSTRUCTOR\", \"GLOVE\", \"DOC2VEC\", \"MXBAI\"]:\n",
    "        num_subjects = 0\n",
    "        num_share_year = 0\n",
    "        num_share_year_per_subject = []\n",
    "\n",
    "        usyd_subject_collection = client.collections.get(f\"USYD_{model}_Subject\")\n",
    "        uts_subject_collection = client.collections.get(f\"UTS_{model}_Subject\")\n",
    "\n",
    "        for item in usyd_subject_collection.iterator(include_vector=True):\n",
    "            subject_code = item.properties[\"subjectCode\"]\n",
    "            subject_vector = item.vector\n",
    "\n",
    "            if type(subject_vector) != list:\n",
    "                subject_vector = subject_vector[\"default\"]\n",
    "\n",
    "            similar_uts_subjects = get_similar_uts_subjects(\n",
    "                uts_subject_collection, subject_vector, num_similar_subjects\n",
    "            )\n",
    "            \n",
    "            current_num_share_year = 0\n",
    "\n",
    "            for uts_subject_code in similar_uts_subjects:\n",
    "                uts_subject_year = int(get_subject_year(uts_subject_code))\n",
    "                usyd_subject_year = proper_round(int(subject_code[4]) * (4/5))\n",
    "                \n",
    "                if uts_subject_year == usyd_subject_year:\n",
    "                    current_num_share_year += 1\n",
    "\n",
    "                num_subjects += 1\n",
    "                \n",
    "            num_share_year_per_subject.append(current_num_share_year)\n",
    "            num_share_year += current_num_share_year\n",
    "\n",
    "        model_accuracy[model] = num_share_year / num_subjects\n",
    "        share_year_vals[model] = num_share_year_per_subject\n",
    "        \n",
    "    return model_accuracy, share_year_vals"
   ]
  },
  {
   "cell_type": "code",
   "execution_count": 38,
   "metadata": {},
   "outputs": [],
   "source": [
    "major_model_accuracy_top_2, _ = get_model_accuracy(2)\n",
    "major_model_accuracy_top_5, histogram_data_top_5 = get_model_accuracy(5)\n",
    "major_model_accuracy_top_10, histogram_data_top_10 = get_model_accuracy(10)\n",
    "major_model_accuracy_top_20, histogram_data_top_20 = get_model_accuracy(20)"
   ]
  },
  {
   "cell_type": "code",
   "execution_count": 39,
   "metadata": {},
   "outputs": [],
   "source": [
    "# convert major accuracy to percentage with 4 decimal places\n",
    "major_model_accuracy_top_2 = {k: round(v * 100, 2) for k, v in major_model_accuracy_top_2.items()}\n",
    "major_model_accuracy_top_5 = {k: round(v * 100, 2) for k, v in major_model_accuracy_top_5.items()}\n",
    "major_model_accuracy_top_10 = {k: round(v * 100, 2) for k, v in major_model_accuracy_top_10.items()}\n",
    "major_model_accuracy_top_20 = {k: round(v * 100, 2) for k, v in major_model_accuracy_top_20.items()}"
   ]
  },
  {
   "cell_type": "code",
   "execution_count": 40,
   "metadata": {},
   "outputs": [
    {
     "data": {
      "text/html": [
       "<div>\n",
       "<style scoped>\n",
       "    .dataframe tbody tr th:only-of-type {\n",
       "        vertical-align: middle;\n",
       "    }\n",
       "\n",
       "    .dataframe tbody tr th {\n",
       "        vertical-align: top;\n",
       "    }\n",
       "\n",
       "    .dataframe thead th {\n",
       "        text-align: right;\n",
       "    }\n",
       "</style>\n",
       "<table border=\"1\" class=\"dataframe\">\n",
       "  <thead>\n",
       "    <tr style=\"text-align: right;\">\n",
       "      <th></th>\n",
       "      <th>Top 2</th>\n",
       "      <th>Top 5</th>\n",
       "      <th>Top 10</th>\n",
       "      <th>Top 20</th>\n",
       "    </tr>\n",
       "  </thead>\n",
       "  <tbody>\n",
       "    <tr>\n",
       "      <th>SBERT</th>\n",
       "      <td>27.98</td>\n",
       "      <td>30.45</td>\n",
       "      <td>27.98</td>\n",
       "      <td>27.35</td>\n",
       "    </tr>\n",
       "    <tr>\n",
       "      <th>INSTRUCTOR</th>\n",
       "      <td>27.78</td>\n",
       "      <td>26.34</td>\n",
       "      <td>25.43</td>\n",
       "      <td>25.08</td>\n",
       "    </tr>\n",
       "    <tr>\n",
       "      <th>GLOVE</th>\n",
       "      <td>25.93</td>\n",
       "      <td>25.93</td>\n",
       "      <td>27.20</td>\n",
       "      <td>27.41</td>\n",
       "    </tr>\n",
       "    <tr>\n",
       "      <th>DOC2VEC</th>\n",
       "      <td>27.37</td>\n",
       "      <td>27.82</td>\n",
       "      <td>26.54</td>\n",
       "      <td>26.15</td>\n",
       "    </tr>\n",
       "    <tr>\n",
       "      <th>MXBAI</th>\n",
       "      <td>32.10</td>\n",
       "      <td>30.12</td>\n",
       "      <td>29.30</td>\n",
       "      <td>26.44</td>\n",
       "    </tr>\n",
       "  </tbody>\n",
       "</table>\n",
       "</div>"
      ],
      "text/plain": [
       "            Top 2  Top 5  Top 10  Top 20\n",
       "SBERT       27.98  30.45   27.98   27.35\n",
       "INSTRUCTOR  27.78  26.34   25.43   25.08\n",
       "GLOVE       25.93  25.93   27.20   27.41\n",
       "DOC2VEC     27.37  27.82   26.54   26.15\n",
       "MXBAI       32.10  30.12   29.30   26.44"
      ]
     },
     "execution_count": 40,
     "metadata": {},
     "output_type": "execute_result"
    }
   ],
   "source": [
    "# creating a dataframe from the accuracy results\n",
    "major_model_accuracy = pd.DataFrame(\n",
    "    {\n",
    "        \"Top 2\": major_model_accuracy_top_2,\n",
    "        \"Top 5\": major_model_accuracy_top_5,\n",
    "        \"Top 10\": major_model_accuracy_top_10,\n",
    "        \"Top 20\": major_model_accuracy_top_20,\n",
    "    }\n",
    ")\n",
    "major_model_accuracy"
   ]
  }
 ],
 "metadata": {
  "kernelspec": {
   "display_name": "py310",
   "language": "python",
   "name": "python3"
  },
  "language_info": {
   "codemirror_mode": {
    "name": "ipython",
    "version": 3
   },
   "file_extension": ".py",
   "mimetype": "text/x-python",
   "name": "python",
   "nbconvert_exporter": "python",
   "pygments_lexer": "ipython3",
   "version": "3.10.13"
  }
 },
 "nbformat": 4,
 "nbformat_minor": 2
}
