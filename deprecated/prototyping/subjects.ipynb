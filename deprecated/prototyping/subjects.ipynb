{
 "cells": [
  {
   "cell_type": "code",
   "execution_count": 36,
   "metadata": {},
   "outputs": [],
   "source": [
    "from bs4 import BeautifulSoup"
   ]
  },
  {
   "cell_type": "code",
   "execution_count": 37,
   "metadata": {},
   "outputs": [],
   "source": [
    "def getSubjectCodes(html: str, page_type: str) -> list[tuple[str, str]]:\n",
    "    soup = BeautifulSoup(html, 'html.parser')\n",
    "    hrefs = soup.find('div', id='content').find_all('a')\n",
    "    \n",
    "    codes = []\n",
    "\n",
    "    for subject_href in hrefs:\n",
    "        url = subject_href.get(\"href\")\n",
    "        code = subject_href.get_text()\n",
    "\n",
    "        if f\"https://handbook.uts.edu.au/{page_type}/\" not in url:\n",
    "            continue\n",
    "          \n",
    "        codes.append((code, url))\n",
    "        \n",
    "    return codes"
   ]
  },
  {
   "cell_type": "code",
   "execution_count": 38,
   "metadata": {},
   "outputs": [],
   "source": [
    "# read text file\n",
    "with open('uts-subjects.html', 'r') as file:\n",
    "    uts_subject_html = file.read()"
   ]
  },
  {
   "cell_type": "code",
   "execution_count": 39,
   "metadata": {},
   "outputs": [],
   "source": [
    "subject_codes = getSubjectCodes(uts_subject_html, \"subjects\")"
   ]
  },
  {
   "cell_type": "code",
   "execution_count": 40,
   "metadata": {},
   "outputs": [
    {
     "data": {
      "text/plain": [
       "('999781', 'https://handbook.uts.edu.au/subjects/999781.html')"
      ]
     },
     "execution_count": 40,
     "metadata": {},
     "output_type": "execute_result"
    }
   ],
   "source": [
    "subject_codes[-1]"
   ]
  },
  {
   "cell_type": "code",
   "execution_count": 41,
   "metadata": {},
   "outputs": [
    {
     "name": "stdout",
     "output_type": "stream",
     "text": [
      "Total number of subjects at UTS: 3533\n"
     ]
    }
   ],
   "source": [
    "print(\"Total number of subjects at UTS:\", len(subject_codes))"
   ]
  },
  {
   "cell_type": "code",
   "execution_count": 42,
   "metadata": {},
   "outputs": [],
   "source": [
    "with open('uts-courses.html', 'r') as file:\n",
    "    uts_courses_html = file.read()"
   ]
  },
  {
   "cell_type": "code",
   "execution_count": 43,
   "metadata": {},
   "outputs": [],
   "source": [
    "course_codes = getSubjectCodes(uts_courses_html, \"courses\")"
   ]
  },
  {
   "cell_type": "code",
   "execution_count": 45,
   "metadata": {},
   "outputs": [
    {
     "data": {
      "text/plain": [
       "('C50100', 'https://handbook.uts.edu.au/courses/c50100.html')"
      ]
     },
     "execution_count": 45,
     "metadata": {},
     "output_type": "execute_result"
    }
   ],
   "source": [
    "course_codes[-1]"
   ]
  },
  {
   "cell_type": "code",
   "execution_count": 44,
   "metadata": {},
   "outputs": [
    {
     "name": "stdout",
     "output_type": "stream",
     "text": [
      "Total number of courses at UTS: 550\n"
     ]
    }
   ],
   "source": [
    "print(\"Total number of courses at UTS:\", len(course_codes))"
   ]
  }
 ],
 "metadata": {
  "kernelspec": {
   "display_name": "base",
   "language": "python",
   "name": "python3"
  },
  "language_info": {
   "codemirror_mode": {
    "name": "ipython",
    "version": 3
   },
   "file_extension": ".py",
   "mimetype": "text/x-python",
   "name": "python",
   "nbconvert_exporter": "python",
   "pygments_lexer": "ipython3",
   "version": "3.10.13"
  }
 },
 "nbformat": 4,
 "nbformat_minor": 2
}
