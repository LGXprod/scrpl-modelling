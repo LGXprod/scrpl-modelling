{
 "cells": [
  {
   "cell_type": "code",
   "execution_count": 1,
   "metadata": {},
   "outputs": [],
   "source": [
    "import os\n",
    "import json\n",
    "\n",
    "from tqdm.notebook import tqdm\n",
    "import numpy as np\n",
    "import nltk\n",
    "import tensorflow as tf\n",
    "from tensorflow.keras.layers import Embedding, Dense, Flatten\n",
    "from tensorflow.keras import Sequential"
   ]
  },
  {
   "cell_type": "markdown",
   "metadata": {},
   "source": [
    "### References\n",
    "\n",
    "1. [Implementing Word2Vec in Tensorflow](https://medium.com/analytics-vidhya/implementing-word2vec-in-tensorflow-44f93cf2665f)\n",
    "2. [Word2Vec with TensorFlow](https://www.scaler.com/topics/tensorflow/tensorflow-word2vwc/)"
   ]
  },
  {
   "cell_type": "code",
   "execution_count": 2,
   "metadata": {},
   "outputs": [],
   "source": [
    "def read_file(file_path):\n",
    "    with open(file_path, 'r') as file:\n",
    "        return file.read()"
   ]
  },
  {
   "cell_type": "code",
   "execution_count": 3,
   "metadata": {},
   "outputs": [
    {
     "data": {
      "text/plain": [
       "'   \\n\\nUsing a modern browser that supports web standards ensures that the site\\'s\\nfull visual experience is available. Consider upgrading your browser if you\\nare using an older technology.\\n\\nUniversity of Technology Sydney\\nSEARCH   this site   UTS  \\nHandbook 2024\\n\\nScience\\nUTS Handbook\\n\\nHow to use this handbook\\nGeneral information\\nPrincipal dates\\nAcademic year dates\\nCourse areas\\nAnalytics and Data Science\\nBusiness\\nCommunication\\nCreative Intelligence and Innovation\\nDesign, Architecture and Building\\nEducation\\nEngineering\\nHealth\\nHealth (GEM)\\nInformation Technology\\nInternational Studies and Social Sciences\\nLaw\\nScience\\nTransdisciplinary Innovation\\n\\n\\nStudy package directory\\nArchives\\nApplying and enrolling \\nRules of the University \\n\\n33130 Mathematics 1\\nWarning: The information on this page is indicative. The subject outline\\nfor a particular session, location and mode of offering is the authoritative\\nsource of all information about the subject for that offering. Required texts,\\nrecommended texts and references in particular are likely to change. Students\\nwill be provided with a subject outline once they enrol in the subject.  \\nSubject handbook information prior to 2024 is available in the\\nArchives.\\nUTS: Science: Mathematical and Physical Sciences\\nCredit points: 6 cp\\nResult type : Grade and marks  \\nAnti-requisite(s): 33190 Mathematical Modelling for Science AND 35101\\nIntroduction to Linear Dynamical Systems AND 37131 Introduction to Linear\\nDynamical Systems AND Spks Between C10154 and C10158\\nRecommended studies:\\nExtension 1 Mathematics\\nDescription\\nThis subject develops the knowledge and skills necessary for problem-solving\\nand mathematical modelling at an introductory level. Differential calculus is\\napplied to model situations in science and engineering that involve\\noscillations. Integral calculus is used to solve selected problems involving\\nfirst- and second-order differential equations, and to calculate areas,\\nvolumes, lengths and other physical quantities. Vectors, matrix multiplication\\nand determinants are introduced and applied to problem-solving and modelling.\\nSequences and series are reviewed and power series introduced where power\\nseries are used to approximate more functions.\\nSubject learning objectives (SLOs)\\nUpon successful completion of this subject students should be able to:\\n\\n| Describe the relevance of mathematics to engineering and science and the role which engineering and science play in the development and evolution of mathematical ideas and methods | 2. | Apply mathematical tools and resources to model real world problems, especially in engineering and science | 3. | Demonstrate correct use of mathematical terminology and concepts, and show understanding of those concepts by describing them in both formal and informal language. | 4. | Achieve a high level of skill in the mathematical techniques covered in the subject content | 5. | Communicate mathematical knowledge clearly, logically and critically. | 6. | Use appropriate mathematical software to perform calculations and explore mathematical ideas relevant to the subject content, and demonstrate knowledge of the functions of this software by interpreting output.\\n\\nCourse intended learning outcomes (CILOs)\\nThis subject also contributes specifically to the development of following\\ncourse intended learning outcomes:\\n\\nTechnically Proficient: FEIT graduates apply abstraction, mathematics and discipline fundamentals, software, tools and techniques to evaluate, implement and operate systems. (D.1)\\nCollaborative and Communicative: FEIT graduates work as an effective member or leader of diverse teams, communicating effectively and operating within cross-disciplinary and cross-cultural contexts in the workplace. (E.1)\\n\\nContribution to the development of graduate attributes\\nEngineers Australia Stage 1 Competencies This subject contributes to the\\ndevelopment of the following Engineers Australia Stage 1 Competencies:\\n\\n1.2 Conceptual understanding of the mathematics, numerical analysis, statistics, and computer and information sciences which underpin the engineering discipline.\\n3.2. Effective oral and written communication in professional and lay domains.\\n\\nThis subject is fundamental for Mathematics and Science students as it\\nintroduces them and contributes to the development of the most important\\ncharacteristics of the modern scientist. It enables them to understand and\\napply fundamental mathematical principals to scientific theories and\\nmethodologies, to use problem-solving techniques, and to approach scientific\\nchallenges systematically. Furthermore, it helps them ensure that their work\\naligns with professional standards and ethical guidelines, and enables them to\\nefficiently communicate scientific findings. This subject contributes to the\\ndevelopment of the following graduate attributes: Graduate Attribute 1 -\\nDisciplinary knowledge A broad introduction to the most important and widely\\nused concepts in mathematics is given. Graduate Attribute 2 - Research,\\ninquiry and critical thinking Throughout the subject mathematics is\\npresented as a tool, which students are invited to use in the solution to\\nreal-world problems Graduate Attribute 3 - Professional, ethical and social\\nresponsibility Throughout the subject mathematics is presented as a tool,\\nwhich students are invited to use in the solution to real-world problems\\nGraduate Attribute 5 - Communication Students will use formal and informal\\nlanguage to communicate knowledge clearly, logically and critically.\\nTeaching and learning strategies\\nLectures: Students are expected to review the pre-recorded lecture material\\n(of about 2-3 hours per week). Blank slides of the lecture sheets will be made\\navailable, and students are encouraged to make their own notes. Tutorials:\\nTutorials will be held weekly on campus, with a duration of 2 hours. Skills\\nDevelopment Tests will be held in the tutorial, with feedback given the\\nfollowing week. In the tutorials, students may be required to work in groups,\\nas discussion of mathematical ideas helps students to learn. Students will be\\nworking through problems with the assistance of the tutor, who may also\\ndemonstrate mathematical modelling techniques and mathematical programming\\nwhich the students can then investigate themselves. Students will get more\\nvalue from the tutorials if they have attempted all tutorial problems before\\nattending the tutorials. Lectures may be supplemented by a live, on campus\\nworkshop to answer student questions.\\nContent (topics)\\nVectors and their application to physical problems. Functions and their\\nrelationship to measurement and the interpretation of physical results.\\nTrigonometric functions and inverse trigonometric functions. Inverse\\nfunctions. Hyperbolic functions. Differentiation. Integrals and methods of\\nintegration. Complex numbers. Differential equations arising from physical\\nproblems. Oscillatory motion. Matrix multiplication and determinants.\\nSequences and series, power series including Taylor series.\\nAssessment\\nAssessment task 1: Skills Development Tests\\n| Intent: | These short tests (10 in total, of equal weighting) will provide regular feedback on how students are mastering the necessary skills in each area of the subject. They will be held in the tutorial classes according to the schedule. \\n---|---\\nObjective(s): |  This assessment task addresses subject learning objective(s): 2, 4 and 5  This assessment task contributes to the development of course intended learning outcome(s): D.1 and E.1 \\nType: | Quiz/test\\nGroupwork: | Individual\\nWeight: |  60% \\nLength: | 30 minutes.\\nCriteria: | Students will be assessed and given feedback on:\\n\\nThe ability to use key mathematical concepts in their appropriate context\\nThe ability to obtain the correct solution to problems\\nClear communication of how they arrived at the solution, including all steps\\n\\nAssessment task 2: Final Examination\\nIntent: |  The final examination is a test of the core competency in mathematical skills developed throughout this subject.\\n---|---\\nObjective(s): |  This assessment task addresses subject learning objective(s): 1, 2, 3, 5 and 6  This assessment task contributes to the development of course intended learning outcome(s): D.1 and E.1 \\nType: | Examination\\nGroupwork: | Individual\\nWeight: |  40% \\nLength: | Allow 2 Hours to complete the exam. Additional time will be allocated to download questions and upload solutions.\\nCriteria: | Students will be assessed on:\\n\\nCorrect choice and use of problem solving strategies\\nAbility to generate correct quantitative solutions to unseen problems\\nClear communication of how they arrived at the solution\\n\\nMinimum requirements\\nTo pass the subject, students must achieve at least 50% after all assessments\\nand at least 50% for the final exam. A student who receives less than 50% for\\nthe examination, yet manages to achieve 50% or greater overall, will be\\nawarded an X grade.\\nRequired texts\\nThere is no required text for this subject - all information can be found in\\nthe lecture notes, recordings, and online notes as well as the solutions to\\nthe Tutorial problems. For additional explanations and practice problems we\\nrecommend the texbook :Calculus: International metric edition\" by Stewart.\\nRecommended texts\\nStewart, J. Calculus, International Metric Version, 8th Edition (Cole\\nCengage).\\nWorking questions from this textbook (or similar texts) will build your skills\\nand your confidence in this subject.\\nThe following is the former textbook in this subject and can also be used:\\nStewart, J. Calculus: Concepts & Contexts, Metric International Edition\\nThomson. (Or Brooks/Cole Cengage).\\n(The 4th or 5th Edition).\\nReferences\\nOther good books on 1st year mathematics for scientists and engineers are:\\nKreyszig, Advanced Engineering Mathematics. Any Edition\\nJames, G. (2008). Modern Engineering Mathematics. 4th Edition. Pearson.\\nWashington,A.J., BasicTechnical Mathematics with Calculus , any edition\\nFitz-Gerald, G.F., Peckham, I.A., Mathematical methods for engineers and\\nscientists , 4th edition\\nUTS: Handbook 2024\\nUTS: Handbook | Site map\\n \\nUTS is a member of the\\nAustralian Technology Network of Universities\\nAbout UTS | Library | Newsroom | Staff | Contact us\\n(C) Copyright UTS - CRICOS Provider No: 00099F - TEQSA Provider ID: PRV12060 -\\nTEQSA Category: Australian University - ABN: 77 257 686 961 - 25 February 2024\\n1:50 PM\\nThe page is authorised by Director, Institute for Interactive Media and\\nLearning\\nSend comments to UAPO\\nDisclaimer | Privacy | Copyright | Accessibility | Web policy | UTS homepage'"
      ]
     },
     "execution_count": 3,
     "metadata": {},
     "output_type": "execute_result"
    }
   ],
   "source": [
    "document = read_file(\"./subjects_cleaned/text/33130.txt\")\n",
    "document"
   ]
  },
  {
   "cell_type": "code",
   "execution_count": 4,
   "metadata": {},
   "outputs": [],
   "source": [
    "tokens = nltk.word_tokenize(document)"
   ]
  },
  {
   "cell_type": "code",
   "execution_count": 5,
   "metadata": {},
   "outputs": [],
   "source": [
    "tokens = [word.lower() for word in tokens if word.isalpha() and len(word) > 1]"
   ]
  },
  {
   "cell_type": "code",
   "execution_count": 6,
   "metadata": {},
   "outputs": [],
   "source": [
    "vocab = {\"<pad>\": 0} | {word: i+1 for i, word in enumerate(set(tokens))}"
   ]
  },
  {
   "cell_type": "code",
   "execution_count": 7,
   "metadata": {},
   "outputs": [
    {
     "data": {
      "text/plain": [
       "515"
      ]
     },
     "execution_count": 7,
     "metadata": {},
     "output_type": "execute_result"
    }
   ],
   "source": [
    "vocab_size = len(vocab)\n",
    "vocab_size"
   ]
  },
  {
   "cell_type": "code",
   "execution_count": 8,
   "metadata": {},
   "outputs": [],
   "source": [
    "# save vocab as json file with indent = 2\n",
    "with open(\"./word2vec_embeddings/vocab.json\", \"w\") as file:\n",
    "    json.dump(vocab, file, indent=2)"
   ]
  },
  {
   "cell_type": "code",
   "execution_count": 9,
   "metadata": {},
   "outputs": [],
   "source": [
    "train_samples = []\n",
    "\n",
    "window_size = 2\n",
    "\n",
    "for i in range(window_size, len(tokens) - window_size):\n",
    "    for j in range(1, window_size + 1):\n",
    "        train_samples.append((tokens[i], tokens[i-j]))\n",
    "        train_samples.append((tokens[i], tokens[i+j]))"
   ]
  },
  {
   "cell_type": "code",
   "execution_count": 10,
   "metadata": {},
   "outputs": [
    {
     "name": "stdout",
     "output_type": "stream",
     "text": [
      "[('browser', 'modern'), ('browser', 'that'), ('browser', 'using'), ('browser', 'supports'), ('that', 'browser')]\n"
     ]
    }
   ],
   "source": [
    "print(train_samples[:5])"
   ]
  },
  {
   "cell_type": "code",
   "execution_count": 11,
   "metadata": {},
   "outputs": [],
   "source": [
    "def get_one_hot_vector(data_point_index, vocab_size):\n",
    "    one_hot_vector = np.zeros(vocab_size)\n",
    "    one_hot_vector[data_point_index] = 1\n",
    "    return one_hot_vector"
   ]
  },
  {
   "cell_type": "code",
   "execution_count": 12,
   "metadata": {},
   "outputs": [],
   "source": [
    "x_train = []\n",
    "y_train = []\n",
    "\n",
    "for word, target_word in train_samples:\n",
    "  x_train.append(vocab[word])\n",
    "  y_train.append(get_one_hot_vector(vocab[target_word], vocab_size))\n",
    "  \n",
    "x_train = np.asarray(x_train)\n",
    "y_train = np.asarray(y_train)"
   ]
  },
  {
   "cell_type": "code",
   "execution_count": 13,
   "metadata": {},
   "outputs": [
    {
     "name": "stdout",
     "output_type": "stream",
     "text": [
      "Number of training samples (word-target pairs): (5424,) (5424, 515)\n"
     ]
    }
   ],
   "source": [
    "print(\"Number of training samples (word-target pairs):\", x_train.shape, y_train.shape)"
   ]
  },
  {
   "cell_type": "code",
   "execution_count": 14,
   "metadata": {},
   "outputs": [
    {
     "name": "stderr",
     "output_type": "stream",
     "text": [
      "2024-02-26 16:34:41.435165: I metal_plugin/src/device/metal_device.cc:1154] Metal device set to: Apple M1 Pro\n",
      "2024-02-26 16:34:41.435187: I metal_plugin/src/device/metal_device.cc:296] systemMemory: 16.00 GB\n",
      "2024-02-26 16:34:41.435191: I metal_plugin/src/device/metal_device.cc:313] maxCacheSize: 5.33 GB\n",
      "2024-02-26 16:34:41.435223: I tensorflow/core/common_runtime/pluggable_device/pluggable_device_factory.cc:306] Could not identify NUMA node of platform GPU ID 0, defaulting to 0. Your kernel may not have been built with NUMA support.\n",
      "2024-02-26 16:34:41.435238: I tensorflow/core/common_runtime/pluggable_device/pluggable_device_factory.cc:272] Created TensorFlow device (/job:localhost/replica:0/task:0/device:GPU:0 with 0 MB memory) -> physical PluggableDevice (device: 0, name: METAL, pci bus id: <undefined>)\n"
     ]
    }
   ],
   "source": [
    "# Build the Word2Vec model using TensorFlow\n",
    "embedding_dim = 100  # Adjust the dimensionality as needed\n",
    "\n",
    "model = Sequential()\n",
    "model.add(Embedding(input_dim=vocab_size, output_dim=embedding_dim, input_length=1))\n",
    "model.add(Flatten())\n",
    "model.add(Dense(vocab_size, activation='softmax'))\n",
    "\n",
    "model.compile(loss='categorical_crossentropy', optimizer='adam')"
   ]
  },
  {
   "cell_type": "code",
   "execution_count": 15,
   "metadata": {},
   "outputs": [
    {
     "name": "stdout",
     "output_type": "stream",
     "text": [
      "Epoch 1/10\n"
     ]
    },
    {
     "name": "stderr",
     "output_type": "stream",
     "text": [
      "2024-02-26 16:34:41.830333: I tensorflow/core/grappler/optimizers/custom_graph_optimizer_registry.cc:117] Plugin optimizer for device_type GPU is enabled.\n"
     ]
    },
    {
     "name": "stdout",
     "output_type": "stream",
     "text": [
      "170/170 [==============================] - 2s 12ms/step - loss: 6.2009\n",
      "Epoch 2/10\n",
      "170/170 [==============================] - 2s 10ms/step - loss: 5.9918\n",
      "Epoch 3/10\n",
      "170/170 [==============================] - 2s 10ms/step - loss: 5.6091\n",
      "Epoch 4/10\n",
      "170/170 [==============================] - 2s 10ms/step - loss: 5.2992\n",
      "Epoch 5/10\n",
      "170/170 [==============================] - 2s 10ms/step - loss: 5.0525\n",
      "Epoch 6/10\n",
      "170/170 [==============================] - 2s 10ms/step - loss: 4.8343\n",
      "Epoch 7/10\n",
      "170/170 [==============================] - 2s 10ms/step - loss: 4.6329\n",
      "Epoch 8/10\n",
      "170/170 [==============================] - 2s 10ms/step - loss: 4.4490\n",
      "Epoch 9/10\n",
      "170/170 [==============================] - 2s 10ms/step - loss: 4.2812\n",
      "Epoch 10/10\n",
      "170/170 [==============================] - 2s 10ms/step - loss: 4.1274\n"
     ]
    },
    {
     "data": {
      "text/plain": [
       "<keras.src.callbacks.History at 0x29257c880>"
      ]
     },
     "execution_count": 15,
     "metadata": {},
     "output_type": "execute_result"
    }
   ],
   "source": [
    "# Train the Word2Vec model\n",
    "num_epochs = 10  # Adjust the number of epochs as needed\n",
    "\n",
    "model.fit(x_train, y_train, epochs=num_epochs)"
   ]
  },
  {
   "cell_type": "code",
   "execution_count": 30,
   "metadata": {},
   "outputs": [
    {
     "data": {
      "text/plain": [
       "[<keras.src.layers.core.embedding.Embedding at 0x29257ea40>,\n",
       " <keras.src.layers.reshaping.flatten.Flatten at 0x29257f670>,\n",
       " <keras.src.layers.core.dense.Dense at 0x29257f6a0>]"
      ]
     },
     "execution_count": 30,
     "metadata": {},
     "output_type": "execute_result"
    }
   ],
   "source": [
    "model.layers"
   ]
  },
  {
   "cell_type": "code",
   "execution_count": 31,
   "metadata": {},
   "outputs": [
    {
     "data": {
      "text/plain": [
       "(2, 3)"
      ]
     },
     "execution_count": 31,
     "metadata": {},
     "output_type": "execute_result"
    }
   ],
   "source": [
    "np.array([[1, 2, 3], [4, 5, 6]]).shape"
   ]
  },
  {
   "cell_type": "code",
   "execution_count": 37,
   "metadata": {},
   "outputs": [
    {
     "name": "stdout",
     "output_type": "stream",
     "text": [
      "Word to intermediate representation shape: (515, 100)\n",
      "Intermediate representation to context shape: (100, 515)\n"
     ]
    }
   ],
   "source": [
    "print(\"Word to intermediate representation shape:\", model.layers[0].get_weights()[0].shape)\n",
    "print(\"Intermediate representation to context shape:\", model.layers[-1].get_weights()[0].shape)"
   ]
  },
  {
   "cell_type": "code",
   "execution_count": 16,
   "metadata": {},
   "outputs": [
    {
     "name": "stdout",
     "output_type": "stream",
     "text": [
      "Embedding for 'mathematical': [-0.25038496 -0.12074625 -0.25046253 -0.11962021  0.2914548   0.3539963\n",
      "  0.2338442   0.27389252  0.20226124  0.31001252 -0.28537768 -0.25672868\n",
      "  0.03425189  0.26329643 -0.2073902   0.20299643  0.18937117 -0.38715443\n",
      "  0.160799   -0.1122127   0.26695576  0.00865394 -0.00332121  0.08428309\n",
      "  0.03746206  0.08183785 -0.33986992  0.0545951   0.2038086   0.11077999\n",
      "  0.2830405  -0.14372191 -0.37783775 -0.17305006 -0.16241601  0.04340811\n",
      " -0.06724421 -0.39739466 -0.11676113 -0.2910056  -0.00044849  0.13629049\n",
      "  0.23495102 -0.05917903  0.19355355 -0.18640693 -0.00192927 -0.10809742\n",
      " -0.3647978   0.2045662   0.01070358 -0.03838889 -0.02877319  0.00853972\n",
      " -0.34833577  0.16886403 -0.18489802  0.09745418 -0.05802905  0.28081337\n",
      "  0.05990114  0.03270217 -0.34254116 -0.08073702 -0.33526438 -0.22425586\n",
      " -0.08522201  0.33048713 -0.3255536  -0.17234625 -0.17222409  0.10100684\n",
      "  0.10930716 -0.08554956 -0.24872912  0.06837241  0.17450558  0.24357124\n",
      "  0.12187509 -0.12366814  0.25772816  0.2552672   0.24876362  0.04998658\n",
      "  0.2586122   0.25684282 -0.3396081  -0.13942975  0.15865839  0.0475632\n",
      "  0.26883733 -0.13551699  0.08867285  0.31482065 -0.39198557 -0.0331397\n",
      "  0.25003943  0.06404661  0.37167102 -0.11053139]\n"
     ]
    }
   ],
   "source": [
    "word_embeddings = model.layers[0].get_weights()[0]\n",
    "\n",
    "# Get the embedding vector for a specific word (replace 'word' with your target word)\n",
    "target_word = 'mathematical'\n",
    "word_index = vocab[target_word]\n",
    "if word_index is not None:\n",
    "    word_embedding_vector = word_embeddings[word_index]\n",
    "    print(f\"Embedding for '{target_word}': {word_embedding_vector}\")\n",
    "else:\n",
    "    print(f\"'{target_word}' not found in vocabulary.\")"
   ]
  },
  {
   "cell_type": "code",
   "execution_count": 17,
   "metadata": {},
   "outputs": [
    {
     "data": {
      "text/plain": [
       "array([[ 0.02979138, -0.00868454, -0.01192099, ..., -0.04319798,\n",
       "         0.03033732,  0.01863689],\n",
       "       [ 0.01668987, -0.10443415, -0.16142431, ..., -0.03786098,\n",
       "         0.00874935,  0.26523963],\n",
       "       [ 0.01370137,  0.12623726,  0.28781334, ...,  0.06898063,\n",
       "        -0.11818239, -0.1377626 ],\n",
       "       ...,\n",
       "       [-0.0612663 ,  0.07626855,  0.1095778 , ...,  0.38879883,\n",
       "        -0.1381475 ,  0.06042026],\n",
       "       [-0.05715266,  0.06305658, -0.06303331, ...,  0.01656135,\n",
       "         0.20961371,  0.00727249],\n",
       "       [-0.34127975,  0.04580623,  0.22724192, ..., -0.05154541,\n",
       "        -0.21177986,  0.14540702]], dtype=float32)"
      ]
     },
     "execution_count": 17,
     "metadata": {},
     "output_type": "execute_result"
    }
   ],
   "source": [
    "word_embeddings"
   ]
  },
  {
   "cell_type": "code",
   "execution_count": 20,
   "metadata": {},
   "outputs": [],
   "source": [
    "word_to_word_embedding = {}\n",
    "\n",
    "for word, index in vocab.items():\n",
    "    word_to_word_embedding[word] = word_embeddings[index].tolist()"
   ]
  },
  {
   "cell_type": "code",
   "execution_count": 21,
   "metadata": {},
   "outputs": [],
   "source": [
    "# save word embeddings as json file with indent = 2\n",
    "with open(\"./word2vec_embeddings/word_embeddings.json\", \"w\") as file:\n",
    "    json.dump(word_to_word_embedding, file, indent=2)"
   ]
  }
 ],
 "metadata": {
  "kernelspec": {
   "display_name": "py310",
   "language": "python",
   "name": "python3"
  },
  "language_info": {
   "codemirror_mode": {
    "name": "ipython",
    "version": 3
   },
   "file_extension": ".py",
   "mimetype": "text/x-python",
   "name": "python",
   "nbconvert_exporter": "python",
   "pygments_lexer": "ipython3",
   "version": "3.10.13"
  }
 },
 "nbformat": 4,
 "nbformat_minor": 2
}
