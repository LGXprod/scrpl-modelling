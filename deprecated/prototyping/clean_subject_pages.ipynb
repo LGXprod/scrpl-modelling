{
 "cells": [
  {
   "cell_type": "code",
   "execution_count": 25,
   "metadata": {},
   "outputs": [],
   "source": [
    "import os\n",
    "from markdown import markdown\n",
    "import html2text\n",
    "import strip_markdown"
   ]
  },
  {
   "cell_type": "code",
   "execution_count": 26,
   "metadata": {},
   "outputs": [],
   "source": [
    "os.makedirs(\"subjects_cleaned/markdown\", exist_ok=True)\n",
    "os.makedirs(\"subjects_cleaned/text\", exist_ok=True)"
   ]
  },
  {
   "cell_type": "code",
   "execution_count": 27,
   "metadata": {},
   "outputs": [],
   "source": [
    "def remove_unecessary_info(text: str) -> str:\n",
    "    lines = text.split(\"\\n\")\n",
    "    \n",
    "    start_line_index = None\n",
    "    end_line_index = None\n",
    "    \n",
    "    for i, line in enumerate(lines):\n",
    "      if \"# \" == line[:2]:\n",
    "        start_line_index = i\n",
    "        \n",
    "      if line == \"[UTS: Handbook 2024](https://www.handbook.uts.edu.au/index.html)\":\n",
    "        end_line_index = i\n",
    "        break\n",
    "        \n",
    "    return \"\\n\".join(lines[start_line_index:end_line_index])"
   ]
  },
  {
   "cell_type": "code",
   "execution_count": 28,
   "metadata": {},
   "outputs": [],
   "source": [
    "processed_subjects = set()\n",
    "\n",
    "for degree in os.listdir(\"./course_programs\"):\n",
    "    subjects_path = f\"./course_programs/{degree}/subjects\"\n",
    "  \n",
    "    for subject_filename in os.listdir(subjects_path):\n",
    "      with open(f\"{subjects_path}/{subject_filename}\", \"r\") as f:\n",
    "        html = f.read()\n",
    "        \n",
    "        markdown_text = remove_unecessary_info(html2text.html2text(html))\n",
    "\n",
    "        with open(f\"subjects_cleaned/markdown/{subject_filename.replace('.html', '')}.md\", \"w\") as f:\n",
    "          f.write(markdown_text)\n",
    "          \n",
    "        plain_text = strip_markdown.strip_markdown(markdown_text)\n",
    "        \n",
    "        with open(f\"subjects_cleaned/text/{subject_filename.replace('.html', '')}.txt\", \"w\") as f:\n",
    "          f.write(plain_text)"
   ]
  }
 ],
 "metadata": {
  "kernelspec": {
   "display_name": "py310",
   "language": "python",
   "name": "python3"
  },
  "language_info": {
   "codemirror_mode": {
    "name": "ipython",
    "version": 3
   },
   "file_extension": ".py",
   "mimetype": "text/x-python",
   "name": "python",
   "nbconvert_exporter": "python",
   "pygments_lexer": "ipython3",
   "version": "3.10.13"
  }
 },
 "nbformat": 4,
 "nbformat_minor": 2
}
